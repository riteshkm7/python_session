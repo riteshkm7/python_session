{
 "cells": [
  {
   "cell_type": "code",
   "execution_count": 2,
   "id": "f364947c-e3aa-4d5c-b571-bdf7f1a3ed70",
   "metadata": {},
   "outputs": [
    {
     "data": {
      "text/plain": [
       "(1, 2, 3)"
      ]
     },
     "execution_count": 2,
     "metadata": {},
     "output_type": "execute_result"
    }
   ],
   "source": [
    "tup=(1,2,3)\n",
    "tup"
   ]
  },
  {
   "cell_type": "code",
   "execution_count": 7,
   "id": "cc9478e6-daca-40e4-b7eb-5930bd201432",
   "metadata": {},
   "outputs": [
    {
     "name": "stdout",
     "output_type": "stream",
     "text": [
      "(1, 2, 3, 'a', 'b')\n"
     ]
    }
   ],
   "source": [
    "tup=(1,2,3,\"a\",\"b\")\n",
    "print(tup)"
   ]
  },
  {
   "cell_type": "code",
   "execution_count": 8,
   "id": "80c2f5ac-70a9-4101-abbb-8d8641683ffb",
   "metadata": {},
   "outputs": [
    {
     "name": "stdout",
     "output_type": "stream",
     "text": [
      "(1, 1, 'a')\n"
     ]
    }
   ],
   "source": [
    "tup=(1,1,\"a\")\n",
    "print(tup)"
   ]
  },
  {
   "cell_type": "markdown",
   "id": "47ba12ee-e6e9-4a4e-a655-a1065639fae9",
   "metadata": {},
   "source": [
    "### tuple ###\n",
    "\n",
    "it is write inside small brackets \n",
    "\n",
    "- dublicates are alloweed in tuple\n",
    "- contain different types of  elements \n",
    "- tuple is index base \n",
    "- tuple is immutable\n",
    "- only addition of two tuple is possible * / - is not possilbe "
   ]
  },
  {
   "cell_type": "code",
   "execution_count": null,
   "id": "ed7497de-6c80-4b6c-b553-e8414e3ebb56",
   "metadata": {},
   "outputs": [],
   "source": []
  },
  {
   "cell_type": "markdown",
   "id": "6c034a26-b470-4227-8890-1f939b983066",
   "metadata": {},
   "source": [
    "$ type $\n",
    "- reutrn the type of "
   ]
  },
  {
   "cell_type": "code",
   "execution_count": 10,
   "id": "fe3354a1-f8d2-4233-b4a6-fa8c1e5f738e",
   "metadata": {},
   "outputs": [
    {
     "name": "stdout",
     "output_type": "stream",
     "text": [
      "<class 'tuple'>\n"
     ]
    }
   ],
   "source": [
    "tup=(1,2,3,\"a\")\n",
    "print(type(tup))"
   ]
  },
  {
   "cell_type": "markdown",
   "id": "07041af7-33b5-46fb-b5bc-9b10d1d2f410",
   "metadata": {},
   "source": [
    "$ len - max - min $"
   ]
  },
  {
   "cell_type": "code",
   "execution_count": null,
   "id": "5a9e51b8-4ec1-4565-bc63-e6f4d05af280",
   "metadata": {},
   "outputs": [],
   "source": [
    "$ len $\n",
    "\n",
    "- return the lenght of tuple"
   ]
  },
  {
   "cell_type": "code",
   "execution_count": 12,
   "id": "6924b684-b59b-4233-8fbd-5339c90a8639",
   "metadata": {},
   "outputs": [
    {
     "name": "stdout",
     "output_type": "stream",
     "text": [
      "9\n"
     ]
    }
   ],
   "source": [
    "tup=(1,2,3,4,53,3,3,\"a\",\"ab\")\n",
    "print(len(tup))"
   ]
  },
  {
   "cell_type": "markdown",
   "id": "c8a060d8-6caf-434f-8e32-9bc7a58f0dd1",
   "metadata": {},
   "source": [
    "$ max $\n",
    "- it wil return max value if similar datat type presenet either string or int \n",
    "- if both presenet can't provide max value error\n",
    "- if str presnent default max value on the basis of ascii vallue\n",
    "- if str presenet and key=len is pass in max then on the basis of len max value will return\n",
    "\n",
    "- NOTE if same element present then  min and max will be provide of first occurance "
   ]
  },
  {
   "cell_type": "code",
   "execution_count": 13,
   "id": "e3bf0890-6f1b-40fb-80c1-1963b255e090",
   "metadata": {},
   "outputs": [
    {
     "name": "stdout",
     "output_type": "stream",
     "text": [
      "53\n"
     ]
    }
   ],
   "source": [
    "# max return max value\n",
    "tup=(1,2,3,4,53,3,3)\n",
    "print(max(tup))\n",
    "\n"
   ]
  },
  {
   "cell_type": "code",
   "execution_count": 14,
   "id": "3bfa7ad9-6c6e-405d-a8fc-c01f67582b1d",
   "metadata": {},
   "outputs": [
    {
     "name": "stdout",
     "output_type": "stream",
     "text": [
      "b\n"
     ]
    }
   ],
   "source": [
    "# max witht str elements\n",
    "# return max value on the basis of ascii value\n",
    "tup=(\"a\",\"b\",\"A\")\n",
    "print(max(tup))\n"
   ]
  },
  {
   "cell_type": "code",
   "execution_count": null,
   "id": "7f7c9911-3493-4680-a093-19b084f5b588",
   "metadata": {},
   "outputs": [],
   "source": []
  },
  {
   "cell_type": "code",
   "execution_count": 19,
   "id": "5b3d77bf-3a55-4ab0-abe0-7478a1b3b37b",
   "metadata": {},
   "outputs": [
    {
     "name": "stdout",
     "output_type": "stream",
     "text": [
      "AAAA\n"
     ]
    }
   ],
   "source": [
    "# max with string with key=len \n",
    "# now it will return max value on the base of len \n",
    "tup=(\"aa\",\"bbb\",\"AAAA\",)\n",
    "print(max(tup,key=len))"
   ]
  },
  {
   "cell_type": "code",
   "execution_count": 20,
   "id": "97d00a40-9aa3-439d-8a13-5c317199ffb5",
   "metadata": {},
   "outputs": [
    {
     "name": "stdout",
     "output_type": "stream",
     "text": [
      "bbb\n"
     ]
    }
   ],
   "source": [
    "# without key=len\n",
    "# max with string with key=len \n",
    "# now it will return max value on the base of len \n",
    "tup=(\"aa\",\"bbb\",\"AAAA\",)\n",
    "print(max(tup)) # as b has higher asscii value"
   ]
  },
  {
   "cell_type": "code",
   "execution_count": 18,
   "id": "c4ca1931-e23b-4e44-8cb0-8665aa95b83e",
   "metadata": {},
   "outputs": [
    {
     "name": "stdout",
     "output_type": "stream",
     "text": [
      "bbb\n"
     ]
    }
   ],
   "source": [
    "# max with string with key=len \n",
    "# now it will return max value on the base of len \n",
    "tup=(\"aa\",\"bbb\",\"AAA\",)\n",
    "print(max(tup,key=len))\n",
    "# if same len present return first occurance of same"
   ]
  },
  {
   "cell_type": "code",
   "execution_count": 21,
   "id": "32e17163-beed-4a96-b274-f98c24f3f45e",
   "metadata": {},
   "outputs": [
    {
     "ename": "TypeError",
     "evalue": "'>' not supported between instances of 'int' and 'str'",
     "output_type": "error",
     "traceback": [
      "\u001b[1;31m---------------------------------------------------------------------------\u001b[0m",
      "\u001b[1;31mTypeError\u001b[0m                                 Traceback (most recent call last)",
      "Cell \u001b[1;32mIn[21], line 2\u001b[0m\n\u001b[0;32m      1\u001b[0m tup1\u001b[38;5;241m=\u001b[39m(\u001b[38;5;124m\"\u001b[39m\u001b[38;5;124ma\u001b[39m\u001b[38;5;124m\"\u001b[39m,\u001b[38;5;241m10\u001b[39m)\n\u001b[1;32m----> 2\u001b[0m \u001b[38;5;28mprint\u001b[39m(\u001b[38;5;28mmax\u001b[39m(tup1))\n",
      "\u001b[1;31mTypeError\u001b[0m: '>' not supported between instances of 'int' and 'str'"
     ]
    }
   ],
   "source": [
    "tup1=(\"a\",10)\n",
    "print(max(tup1)) # error can't compare differenct type "
   ]
  },
  {
   "cell_type": "markdown",
   "id": "a149b582-3cb2-40db-8c85-8086610719c0",
   "metadata": {},
   "source": [
    "$ min $\n",
    "- it return min value\n",
    "- rest all rule same for the min "
   ]
  },
  {
   "cell_type": "code",
   "execution_count": 22,
   "id": "848fbd29-f4eb-4262-aec1-0fcc4869ffed",
   "metadata": {},
   "outputs": [
    {
     "name": "stdout",
     "output_type": "stream",
     "text": [
      "AAA\n"
     ]
    }
   ],
   "source": [
    "tup=(\"aa\",\"bbb\",\"AAA\",)\n",
    "print(min(tup))"
   ]
  },
  {
   "cell_type": "code",
   "execution_count": 23,
   "id": "cd2f3806-34db-49cc-a2e6-d255965113d1",
   "metadata": {},
   "outputs": [
    {
     "name": "stdout",
     "output_type": "stream",
     "text": [
      "aa\n"
     ]
    }
   ],
   "source": [
    "print(min(tup,key=len)) # retur nmin value on the basis of len"
   ]
  },
  {
   "cell_type": "code",
   "execution_count": 27,
   "id": "9f75e831-5c11-4706-9256-a35f423cf134",
   "metadata": {},
   "outputs": [
    {
     "name": "stdout",
     "output_type": "stream",
     "text": [
      "1\n",
      "0\n"
     ]
    }
   ],
   "source": [
    "tup=(1,2,34,1)\n",
    "print(min(tup))\n",
    "print(tup.index(min(tup)))\n",
    "\n",
    "\n",
    "- NOTE if same element present then  min and max will be provide of first occurance \n"
   ]
  },
  {
   "cell_type": "markdown",
   "id": "fedb1b34-eb33-4711-b9d6-0d21016fad0a",
   "metadata": {},
   "source": [
    "$ in $\n",
    "- acess using in operator"
   ]
  },
  {
   "cell_type": "code",
   "execution_count": 28,
   "id": "477ffc23-5714-4a85-83ab-594563b04a55",
   "metadata": {},
   "outputs": [
    {
     "name": "stdout",
     "output_type": "stream",
     "text": [
      "1\n",
      "2\n",
      "3\n",
      "44\n",
      "3\n",
      "2\n",
      "3\n",
      "2\n",
      "3\n",
      "2\n"
     ]
    }
   ],
   "source": [
    "tup1=(1,2,3,44,3,2,3,2,3,2)\n",
    "for i in tup1:\n",
    "    print(i)"
   ]
  },
  {
   "cell_type": "markdown",
   "id": "c1e2be00-f771-4b89-bef0-07ee9546b5b5",
   "metadata": {},
   "source": [
    "$ sum $\n",
    "- it return the sum of tuple elements\n",
    "- it take at most 2 arguement one is iterable and another  one is start default start=0\n",
    "- start 0 means it start sum from zero and then sum iterable like 0 + iterable\n",
    "- 0+1+2+3+4+5\n",
    "- sum is a keyword like max,min ,len sum\n",
    "- sum is same in list tupel \n",
    "- sum is not work with string type elements only for numberic"
   ]
  },
  {
   "cell_type": "code",
   "execution_count": 65,
   "id": "8e7809b5-164d-455b-a4f4-957bdfbd345d",
   "metadata": {},
   "outputs": [
    {
     "name": "stdout",
     "output_type": "stream",
     "text": [
      "15\n"
     ]
    }
   ],
   "source": [
    "tup1=(1,2,3,4,5)\n",
    "print(sum(tup1))"
   ]
  },
  {
   "cell_type": "code",
   "execution_count": 66,
   "id": "d1df8dce-5a88-4b78-a3f5-99beb9e8e9fc",
   "metadata": {},
   "outputs": [
    {
     "name": "stdout",
     "output_type": "stream",
     "text": [
      "25\n"
     ]
    }
   ],
   "source": [
    "tup1=(1,2,3,4,5)\n",
    "print(sum(tup1,10)) # here start =10\n",
    "# now 10+iterable 10+1+2+...\n",
    "# 25"
   ]
  },
  {
   "cell_type": "code",
   "execution_count": 73,
   "id": "5eb383df-8957-4a85-ab6f-6019ffbe041d",
   "metadata": {},
   "outputs": [
    {
     "ename": "TypeError",
     "evalue": "unsupported operand type(s) for +: 'int' and 'str'",
     "output_type": "error",
     "traceback": [
      "\u001b[1;31m---------------------------------------------------------------------------\u001b[0m",
      "\u001b[1;31mTypeError\u001b[0m                                 Traceback (most recent call last)",
      "Cell \u001b[1;32mIn[73], line 2\u001b[0m\n\u001b[0;32m      1\u001b[0m tup1\u001b[38;5;241m=\u001b[39m(\u001b[38;5;124m\"\u001b[39m\u001b[38;5;124ma\u001b[39m\u001b[38;5;124m\"\u001b[39m,\u001b[38;5;124m\"\u001b[39m\u001b[38;5;124mb\u001b[39m\u001b[38;5;124m\"\u001b[39m)\n\u001b[1;32m----> 2\u001b[0m \u001b[38;5;28mprint\u001b[39m(\u001b[38;5;28msum\u001b[39m(tup1))\n",
      "\u001b[1;31mTypeError\u001b[0m: unsupported operand type(s) for +: 'int' and 'str'"
     ]
    }
   ],
   "source": [
    "tup1=(\"a\",\"b\")\n",
    "print(sum(tup1))"
   ]
  },
  {
   "cell_type": "code",
   "execution_count": 76,
   "id": "57f30c68-078e-4ebc-a251-406cc3b9cc5b",
   "metadata": {},
   "outputs": [
    {
     "name": "stdout",
     "output_type": "stream",
     "text": [
      "3\n"
     ]
    }
   ],
   "source": [
    "# in dictionay sum return the sum of key if key are numberic other wise error type error\n",
    "d={1:\"ritesh\",2:\"helo\"}\n",
    "print(sum(d))"
   ]
  },
  {
   "cell_type": "code",
   "execution_count": null,
   "id": "ab77f0d4-555e-4e61-8bf3-3ab009160098",
   "metadata": {},
   "outputs": [],
   "source": []
  },
  {
   "cell_type": "code",
   "execution_count": null,
   "id": "022497a2-3ac7-42b9-a549-610cacd372c2",
   "metadata": {},
   "outputs": [],
   "source": [
    "# addition of two tuple is possible it will return add all elements in in single tuple without changing in individaul tuple a  new tuple will form\n",
    "# same as list "
   ]
  },
  {
   "cell_type": "code",
   "execution_count": 6,
   "id": "f7eecd8c-5fe3-4720-97ff-66d3bba3d4a4",
   "metadata": {},
   "outputs": [
    {
     "name": "stdout",
     "output_type": "stream",
     "text": [
      "(1, 2, 3, 5)\n"
     ]
    },
    {
     "data": {
      "text/plain": [
       "(3, 5)"
      ]
     },
     "execution_count": 6,
     "metadata": {},
     "output_type": "execute_result"
    }
   ],
   "source": [
    "t1=(1,2)\n",
    "t2=(3,5)\n",
    "print(t1+t2)\n",
    "t2\n"
   ]
  },
  {
   "cell_type": "code",
   "execution_count": 3,
   "id": "a227d670-be03-4ef8-85e7-dabbf5733955",
   "metadata": {},
   "outputs": [
    {
     "name": "stdout",
     "output_type": "stream",
     "text": [
      "[1, 2, 3, 4]\n"
     ]
    }
   ],
   "source": [
    "l1=[1,2]\n",
    "l2=[3,4]\n",
    "print(l1+l2)"
   ]
  },
  {
   "cell_type": "code",
   "execution_count": 7,
   "id": "40fc48ea-5fbc-45d7-bb44-088213c05a3b",
   "metadata": {},
   "outputs": [
    {
     "ename": "TypeError",
     "evalue": "unsupported operand type(s) for -: 'tuple' and 'tuple'",
     "output_type": "error",
     "traceback": [
      "\u001b[1;31m---------------------------------------------------------------------------\u001b[0m",
      "\u001b[1;31mTypeError\u001b[0m                                 Traceback (most recent call last)",
      "Cell \u001b[1;32mIn[7], line 4\u001b[0m\n\u001b[0;32m      2\u001b[0m t1\u001b[38;5;241m=\u001b[39m(\u001b[38;5;241m1\u001b[39m,\u001b[38;5;241m2\u001b[39m)\n\u001b[0;32m      3\u001b[0m t2\u001b[38;5;241m=\u001b[39m(\u001b[38;5;241m3\u001b[39m,\u001b[38;5;241m5\u001b[39m)\n\u001b[1;32m----> 4\u001b[0m \u001b[38;5;28mprint\u001b[39m(t1\u001b[38;5;241m-\u001b[39mt2)\n",
      "\u001b[1;31mTypeError\u001b[0m: unsupported operand type(s) for -: 'tuple' and 'tuple'"
     ]
    }
   ],
   "source": [
    "# sub of two tup is not possibe like list\n",
    "t1=(1,2)\n",
    "t2=(3,5)\n",
    "print(t1-t2)\n"
   ]
  },
  {
   "cell_type": "code",
   "execution_count": 8,
   "id": "c455b7f8-f837-4b77-9457-252e21e6cc00",
   "metadata": {},
   "outputs": [
    {
     "ename": "TypeError",
     "evalue": "unsupported operand type(s) for -: 'list' and 'list'",
     "output_type": "error",
     "traceback": [
      "\u001b[1;31m---------------------------------------------------------------------------\u001b[0m",
      "\u001b[1;31mTypeError\u001b[0m                                 Traceback (most recent call last)",
      "Cell \u001b[1;32mIn[8], line 3\u001b[0m\n\u001b[0;32m      1\u001b[0m l1\u001b[38;5;241m=\u001b[39m[\u001b[38;5;241m1\u001b[39m,\u001b[38;5;241m2\u001b[39m]\n\u001b[0;32m      2\u001b[0m l2\u001b[38;5;241m=\u001b[39m[\u001b[38;5;241m3\u001b[39m,\u001b[38;5;241m4\u001b[39m]\n\u001b[1;32m----> 3\u001b[0m l1\u001b[38;5;241m-\u001b[39ml2\n",
      "\u001b[1;31mTypeError\u001b[0m: unsupported operand type(s) for -: 'list' and 'list'"
     ]
    }
   ],
   "source": [
    "l1=[1,2]\n",
    "l2=[3,4]\n",
    "l1-l2"
   ]
  },
  {
   "cell_type": "code",
   "execution_count": 11,
   "id": "4e418564-57d7-4657-90d8-fb35cbfec579",
   "metadata": {},
   "outputs": [
    {
     "ename": "TypeError",
     "evalue": "unsupported operand type(s) for /: 'tuple' and 'tuple'",
     "output_type": "error",
     "traceback": [
      "\u001b[1;31m---------------------------------------------------------------------------\u001b[0m",
      "\u001b[1;31mTypeError\u001b[0m                                 Traceback (most recent call last)",
      "Cell \u001b[1;32mIn[11], line 3\u001b[0m\n\u001b[0;32m      1\u001b[0m t1\u001b[38;5;241m=\u001b[39m(\u001b[38;5;241m1\u001b[39m,\u001b[38;5;241m2\u001b[39m)\n\u001b[0;32m      2\u001b[0m t2\u001b[38;5;241m=\u001b[39m(\u001b[38;5;241m3\u001b[39m,\u001b[38;5;241m5\u001b[39m)\n\u001b[1;32m----> 3\u001b[0m \u001b[38;5;28mprint\u001b[39m(t1\u001b[38;5;241m/\u001b[39mt2)\n",
      "\u001b[1;31mTypeError\u001b[0m: unsupported operand type(s) for /: 'tuple' and 'tuple'"
     ]
    }
   ],
   "source": [
    "# multiplication and division of two tup is not possible like list\n",
    "t1=(1,2)\n",
    "t2=(3,5)\n",
    "print(t1/t2)\n"
   ]
  },
  {
   "cell_type": "code",
   "execution_count": 12,
   "id": "0ac3560e-b683-442b-a3b4-722ef998374a",
   "metadata": {},
   "outputs": [
    {
     "ename": "TypeError",
     "evalue": "can't multiply sequence by non-int of type 'tuple'",
     "output_type": "error",
     "traceback": [
      "\u001b[1;31m---------------------------------------------------------------------------\u001b[0m",
      "\u001b[1;31mTypeError\u001b[0m                                 Traceback (most recent call last)",
      "Cell \u001b[1;32mIn[12], line 3\u001b[0m\n\u001b[0;32m      1\u001b[0m t1\u001b[38;5;241m=\u001b[39m(\u001b[38;5;241m1\u001b[39m,\u001b[38;5;241m2\u001b[39m)\n\u001b[0;32m      2\u001b[0m t2\u001b[38;5;241m=\u001b[39m(\u001b[38;5;241m3\u001b[39m,\u001b[38;5;241m5\u001b[39m)\n\u001b[1;32m----> 3\u001b[0m \u001b[38;5;28mprint\u001b[39m(t1\u001b[38;5;241m*\u001b[39mt2)\n",
      "\u001b[1;31mTypeError\u001b[0m: can't multiply sequence by non-int of type 'tuple'"
     ]
    }
   ],
   "source": [
    "t1=(1,2)\n",
    "t2=(3,5)\n",
    "print(t1*t2)\n"
   ]
  },
  {
   "cell_type": "code",
   "execution_count": 18,
   "id": "a66f3193-56eb-46a2-a155-277ae77196ce",
   "metadata": {},
   "outputs": [
    {
     "name": "stdout",
     "output_type": "stream",
     "text": [
      "(1, 2, 1, 2, 1, 2)\n"
     ]
    }
   ],
   "source": [
    "# * by number with tuple repaed it element that time like list\n",
    "t1=(1,2)\n",
    "print(t1*3)"
   ]
  },
  {
   "cell_type": "code",
   "execution_count": 19,
   "id": "9c4045be-7fab-4c25-a158-2201e64f307a",
   "metadata": {},
   "outputs": [
    {
     "name": "stdout",
     "output_type": "stream",
     "text": [
      "[1, 2, 3, 1, 2, 3, 1, 2, 3]\n"
     ]
    }
   ],
   "source": [
    "l=[1,2,3]\n",
    "print(l*3)\n"
   ]
  },
  {
   "cell_type": "code",
   "execution_count": 23,
   "id": "72b2677d-22d8-4941-a3e4-c71cb51e88c7",
   "metadata": {},
   "outputs": [
    {
     "ename": "TypeError",
     "evalue": "unsupported operand type(s) for /: 'dict' and 'dict'",
     "output_type": "error",
     "traceback": [
      "\u001b[1;31m---------------------------------------------------------------------------\u001b[0m",
      "\u001b[1;31mTypeError\u001b[0m                                 Traceback (most recent call last)",
      "Cell \u001b[1;32mIn[23], line 3\u001b[0m\n\u001b[0;32m      1\u001b[0m d1\u001b[38;5;241m=\u001b[39m{\u001b[38;5;241m1\u001b[39m:\u001b[38;5;124m\"\u001b[39m\u001b[38;5;124mritsh\u001b[39m\u001b[38;5;124m\"\u001b[39m,\u001b[38;5;241m2\u001b[39m:\u001b[38;5;124m\"\u001b[39m\u001b[38;5;124maja\u001b[39m\u001b[38;5;124m\"\u001b[39m}\n\u001b[0;32m      2\u001b[0m d2\u001b[38;5;241m=\u001b[39m{\u001b[38;5;241m3\u001b[39m:\u001b[38;5;124m\"\u001b[39m\u001b[38;5;124ma\u001b[39m\u001b[38;5;124m\"\u001b[39m,\u001b[38;5;241m4\u001b[39m:\u001b[38;5;124m\"\u001b[39m\u001b[38;5;124madf\u001b[39m\u001b[38;5;124m\"\u001b[39m}\n\u001b[1;32m----> 3\u001b[0m \u001b[38;5;28mprint\u001b[39m(d1\u001b[38;5;241m/\u001b[39md2)\n",
      "\u001b[1;31mTypeError\u001b[0m: unsupported operand type(s) for /: 'dict' and 'dict'"
     ]
    }
   ],
   "source": [
    "# in dictionary we can't do any operation among two dictionary\n",
    "d1={1:\"ritsh\",2:\"aja\"}\n",
    "d2={3:\"a\",4:\"adf\"}\n",
    "print(d1/d2)\n"
   ]
  },
  {
   "cell_type": "code",
   "execution_count": 24,
   "id": "f73418b7-b5ac-49e1-8f29-c7dbea42ac7c",
   "metadata": {},
   "outputs": [
    {
     "ename": "TypeError",
     "evalue": "unsupported operand type(s) for *: 'dict' and 'int'",
     "output_type": "error",
     "traceback": [
      "\u001b[1;31m---------------------------------------------------------------------------\u001b[0m",
      "\u001b[1;31mTypeError\u001b[0m                                 Traceback (most recent call last)",
      "Cell \u001b[1;32mIn[24], line 2\u001b[0m\n\u001b[0;32m      1\u001b[0m d1\u001b[38;5;241m=\u001b[39m{\u001b[38;5;241m1\u001b[39m:\u001b[38;5;124m\"\u001b[39m\u001b[38;5;124mritsh\u001b[39m\u001b[38;5;124m\"\u001b[39m,\u001b[38;5;241m2\u001b[39m:\u001b[38;5;124m\"\u001b[39m\u001b[38;5;124maja\u001b[39m\u001b[38;5;124m\"\u001b[39m}\n\u001b[1;32m----> 2\u001b[0m \u001b[38;5;28mprint\u001b[39m(d1\u001b[38;5;241m*\u001b[39m\u001b[38;5;241m2\u001b[39m)\n",
      "\u001b[1;31mTypeError\u001b[0m: unsupported operand type(s) for *: 'dict' and 'int'"
     ]
    }
   ],
   "source": [
    "# in dict we can't multiply a dict to int also\n",
    "d1={1:\"ritsh\",2:\"aja\"}\n",
    "print(d1*2)"
   ]
  },
  {
   "cell_type": "markdown",
   "id": "afa460b8-15a3-4199-99ca-c73ca7069133",
   "metadata": {},
   "source": [
    "$ index $\n",
    "- access using index base\n"
   ]
  },
  {
   "cell_type": "code",
   "execution_count": 30,
   "id": "d4dbd9a4-a608-490e-95a0-eeb795655792",
   "metadata": {},
   "outputs": [
    {
     "name": "stdout",
     "output_type": "stream",
     "text": [
      "44\n"
     ]
    }
   ],
   "source": [
    "tup1=(1,2,3,44,3,2,3,2,3,2)\n",
    "print(tup1[3])"
   ]
  },
  {
   "cell_type": "code",
   "execution_count": 34,
   "id": "4347d092-dbae-41da-bfc4-14894e2a5250",
   "metadata": {},
   "outputs": [
    {
     "name": "stdout",
     "output_type": "stream",
     "text": [
      "index is 0 and value is 1 \n",
      "index is 1 and value is 2 \n",
      "index is 2 and value is 3 \n",
      "index is 3 and value is 44 \n",
      "index is 4 and value is 3 \n",
      "index is 5 and value is 2 \n",
      "index is 6 and value is 3 \n",
      "index is 7 and value is 2 \n",
      "index is 8 and value is 3 \n",
      "index is 9 and value is 2 \n"
     ]
    }
   ],
   "source": [
    "for i in range(len(tup1)):\n",
    "    print(\"index is {} and value is {} \".format(i,tup1[i]))"
   ]
  },
  {
   "cell_type": "markdown",
   "id": "a42d2c1f-3ff5-4875-9db8-4cce3142b444",
   "metadata": {},
   "source": [
    "$ mutable- or- immutable $"
   ]
  },
  {
   "cell_type": "markdown",
   "id": "c5129b55-8787-4e1f-9ad2-faade1f06173",
   "metadata": {},
   "source": [
    " ***NOTE tuple is immutable as we cannot the tuple through index operation***"
   ]
  },
  {
   "cell_type": "code",
   "execution_count": 35,
   "id": "33f8c626-a9a4-4336-9f50-fab9d26821aa",
   "metadata": {},
   "outputs": [
    {
     "ename": "TypeError",
     "evalue": "'tuple' object does not support item assignment",
     "output_type": "error",
     "traceback": [
      "\u001b[1;31m---------------------------------------------------------------------------\u001b[0m",
      "\u001b[1;31mTypeError\u001b[0m                                 Traceback (most recent call last)",
      "Cell \u001b[1;32mIn[35], line 2\u001b[0m\n\u001b[0;32m      1\u001b[0m tup1\u001b[38;5;241m=\u001b[39m(\u001b[38;5;241m1\u001b[39m,\u001b[38;5;241m2\u001b[39m,\u001b[38;5;241m3\u001b[39m,\u001b[38;5;241m44\u001b[39m,\u001b[38;5;241m3\u001b[39m,\u001b[38;5;241m2\u001b[39m,\u001b[38;5;241m3\u001b[39m,\u001b[38;5;241m2\u001b[39m,\u001b[38;5;241m3\u001b[39m,\u001b[38;5;241m2\u001b[39m)\n\u001b[1;32m----> 2\u001b[0m tup1[\u001b[38;5;241m2\u001b[39m]\u001b[38;5;241m=\u001b[39m\u001b[38;5;241m10\u001b[39m\n\u001b[0;32m      3\u001b[0m \u001b[38;5;28mprint\u001b[39m(tup1)\n",
      "\u001b[1;31mTypeError\u001b[0m: 'tuple' object does not support item assignment"
     ]
    }
   ],
   "source": [
    "tup1=(1,2,3,44,3,2,3,2,3,2)\n",
    "tup1[2]=10\n",
    "print(tup1)"
   ]
  },
  {
   "cell_type": "code",
   "execution_count": 36,
   "id": "6a663276-a767-47a0-9294-f02c42499544",
   "metadata": {},
   "outputs": [
    {
     "data": {
      "text/plain": [
       "['__add__',\n",
       " '__class__',\n",
       " '__class_getitem__',\n",
       " '__contains__',\n",
       " '__delattr__',\n",
       " '__dir__',\n",
       " '__doc__',\n",
       " '__eq__',\n",
       " '__format__',\n",
       " '__ge__',\n",
       " '__getattribute__',\n",
       " '__getitem__',\n",
       " '__getnewargs__',\n",
       " '__getstate__',\n",
       " '__gt__',\n",
       " '__hash__',\n",
       " '__init__',\n",
       " '__init_subclass__',\n",
       " '__iter__',\n",
       " '__le__',\n",
       " '__len__',\n",
       " '__lt__',\n",
       " '__mul__',\n",
       " '__ne__',\n",
       " '__new__',\n",
       " '__reduce__',\n",
       " '__reduce_ex__',\n",
       " '__repr__',\n",
       " '__rmul__',\n",
       " '__setattr__',\n",
       " '__sizeof__',\n",
       " '__str__',\n",
       " '__subclasshook__',\n",
       " 'count',\n",
       " 'index']"
      ]
     },
     "execution_count": 36,
     "metadata": {},
     "output_type": "execute_result"
    }
   ],
   "source": [
    "dir(())"
   ]
  },
  {
   "cell_type": "markdown",
   "id": "121bcc7c-238a-4600-b000-d333d652e170",
   "metadata": {},
   "source": [
    "$ methods- in- tuple $"
   ]
  },
  {
   "cell_type": "markdown",
   "id": "f5895be6-a51d-4cab-a8b1-4cbaca240bba",
   "metadata": {},
   "source": [
    "$ index $\n",
    "- use to find the index of elements\n",
    "- same as list and str method tup.index(value,start ,end) start and end are  optional\n",
    "- return the index of first occurance\n"
   ]
  },
  {
   "cell_type": "code",
   "execution_count": 39,
   "id": "d016525c-e870-4a7d-bdc2-a9a517fcb1f9",
   "metadata": {},
   "outputs": [
    {
     "name": "stdout",
     "output_type": "stream",
     "text": [
      "first occurnance 2\n",
      "seconde occurnacnce  4\n"
     ]
    }
   ],
   "source": [
    "tup1=(1,2,3,44,3,2,3,2,3,2)\n",
    "print(\"first occurnance\",tup1.index(3))\n",
    "print(\"seconde occurnacnce \",tup1.index(3,tup1.index(3)+1))\n"
   ]
  },
  {
   "cell_type": "markdown",
   "id": "6beba8bb-2cd1-4eae-bf9c-be6d634b9520",
   "metadata": {},
   "source": [
    "$ count $\n",
    "- use to count the elements in tuple\n",
    "- it return number of occurance\n",
    "- take only one arguement\n",
    "- in list count alos take one arguement\n",
    "- dic has no count method because it has unique  key and all operation apply on  keys in dict\n",
    "- ** NOTE but in str count method take three arg value,start and end start and end option you can provide start and end index by defaoult entire search\n"
   ]
  },
  {
   "cell_type": "code",
   "execution_count": 53,
   "id": "4f779674-de04-42f2-8b0d-9e004adb2f3d",
   "metadata": {},
   "outputs": [
    {
     "name": "stdout",
     "output_type": "stream",
     "text": [
      "count in tup\n",
      "3\n",
      "count in str \n",
      "count in list\n"
     ]
    },
    {
     "ename": "TypeError",
     "evalue": "list.count() takes exactly one argument (2 given)",
     "output_type": "error",
     "traceback": [
      "\u001b[1;31m---------------------------------------------------------------------------\u001b[0m",
      "\u001b[1;31mTypeError\u001b[0m                                 Traceback (most recent call last)",
      "Cell \u001b[1;32mIn[53], line 11\u001b[0m\n\u001b[0;32m      9\u001b[0m l\u001b[38;5;241m=\u001b[39m[\u001b[38;5;241m1\u001b[39m,\u001b[38;5;241m2\u001b[39m,\u001b[38;5;241m3\u001b[39m,\u001b[38;5;241m1\u001b[39m]\n\u001b[0;32m     10\u001b[0m \u001b[38;5;28mprint\u001b[39m(\u001b[38;5;124m\"\u001b[39m\u001b[38;5;124mcount in list\u001b[39m\u001b[38;5;124m\"\u001b[39m)\n\u001b[1;32m---> 11\u001b[0m l\u001b[38;5;241m.\u001b[39mcount(\u001b[38;5;241m1\u001b[39m,\u001b[38;5;241m2\u001b[39m)\n\u001b[0;32m     12\u001b[0m d\u001b[38;5;241m=\u001b[39m{\u001b[38;5;241m1\u001b[39m:\u001b[38;5;124m\"\u001b[39m\u001b[38;5;124mrotesh\u001b[39m\u001b[38;5;124m\"\u001b[39m,\u001b[38;5;241m2\u001b[39m:\u001b[38;5;124m\"\u001b[39m\u001b[38;5;124majay\u001b[39m\u001b[38;5;124m\"\u001b[39m}\n",
      "\u001b[1;31mTypeError\u001b[0m: list.count() takes exactly one argument (2 given)"
     ]
    }
   ],
   "source": [
    "tup1=(1,2,\"a\",3,44,3,2,3,2,3,2,\"a\",\"aaaa\",\"a\")\n",
    "tup1.count(2)\n",
    "print(\"count in tup\")\n",
    "#print(tup1.count(\"a\",3)) # error take only argument\n",
    "str1=\"rieshi\"\n",
    "print(\"count in str \")\n",
    "str1.count(\"i\",2) # it can take three arguement \n",
    "\n",
    "l=[1,2,3,1]\n",
    "print(\"count in list\")\n",
    "l.count(1)\n",
    "d={1:\"rotesh\",2:\"ajay\"}\n",
    "#d.count(1)"
   ]
  },
  {
   "cell_type": "code",
   "execution_count": 68,
   "id": "f4a2e921-f55d-40c2-86f3-45de2c40a56e",
   "metadata": {},
   "outputs": [
    {
     "data": {
      "text/plain": [
       "8"
      ]
     },
     "execution_count": 68,
     "metadata": {},
     "output_type": "execute_result"
    }
   ],
   "source": []
  },
  {
   "cell_type": "markdown",
   "id": "686d79b4-e199-4f9a-9d48-099850dda521",
   "metadata": {},
   "source": [
    "$ reversed $\n",
    "- it is a keyword\n",
    "- it return the reverse  iterator\n",
    "- it return elements in reverse order\n",
    "- elements can be any  of type inside the list ,tuple,string\n",
    "- only the aim is reversed the order of elements\n",
    "- \n",
    "** NOTE reversed function return reverse iterator has 0 len becuase it return <reversed object at 0x0000019C047ABD60> so it has zero len** so to access element of reverse iterator use always in operator not range as it has 0 len\n",
    "\n"
   ]
  },
  {
   "cell_type": "markdown",
   "id": "f4de038d-d652-4e07-a43b-b866cc53cdd9",
   "metadata": {},
   "source": [
    "**NOTE  keyword can be use anywhere same for all like if else print but method are only for paticular things**"
   ]
  },
  {
   "cell_type": "code",
   "execution_count": 81,
   "id": "b4a0ddef-a97e-4c92-b155-6cb01fbc214d",
   "metadata": {},
   "outputs": [
    {
     "name": "stdout",
     "output_type": "stream",
     "text": [
      "0 1 2 3 4 5 6 7 8 9 "
     ]
    }
   ],
   "source": [
    "tup1=(10,1,2,4,2,4,2,93,90,\"riet\")\n",
    "r=reversed(tup1)\n",
    "for i in range(len(tup1)):\n",
    "    print(i,end=\" \")"
   ]
  },
  {
   "cell_type": "code",
   "execution_count": 104,
   "id": "3928e46f-18d9-43e9-9c33-acc25d3baa0d",
   "metadata": {},
   "outputs": [
    {
     "name": "stdout",
     "output_type": "stream",
     "text": [
      "<reversed object at 0x0000019C047ABD60>\n"
     ]
    },
    {
     "data": {
      "text/plain": [
       "['riet', 90, 93, 2, 4, 2, 4, 2, 1, 10]"
      ]
     },
     "execution_count": 104,
     "metadata": {},
     "output_type": "execute_result"
    }
   ],
   "source": [
    "# as it is a itearatore we can directly change it into list\n",
    "tup1=(10,1,2,4,2,4,2,93,90,\"riet\")\n",
    "r=reversed(tup1)\n",
    "print(r) # \n",
    "list(r)"
   ]
  },
  {
   "cell_type": "code",
   "execution_count": 98,
   "id": "c9c343ec-a0a1-4a97-a2b5-e8093c5a9812",
   "metadata": {},
   "outputs": [
    {
     "name": "stdout",
     "output_type": "stream",
     "text": [
      "2\n",
      "1\n"
     ]
    }
   ],
   "source": [
    "# in dictionay reversed return a iterator that contain key in reverse order\n",
    "d={1:\"ritesh\",2:\"ajay\"}\n",
    "r=reversed(d)\n",
    "for i in r:\n",
    "    print(i)"
   ]
  },
  {
   "cell_type": "markdown",
   "id": "bdd799ad-8459-4c01-ba68-4dd7d911dca7",
   "metadata": {},
   "source": [
    "** NOTE reversed function return reverse iterator has 0 len becuase it return <reversed object at 0x0000019C047ABD60> so it has zero len**\n",
    "***so to access element of reverse iterator use always in operator not range as it has 0 len***"
   ]
  },
  {
   "cell_type": "markdown",
   "id": "e44aad87-906c-48c8-b61b-ba30c0fcccf6",
   "metadata": {},
   "source": [
    "$ sorted $\n",
    "- it is a keyword\n",
    "- it return a list contain element in ascending order default\n",
    "- two arguement can pass if key=len sort  on the base of len to string\n",
    "- reverse=true then it will sort in descenting order defalut is key=none and reverse=fale asscending\n",
    "- sort will work only when similar data type element present\n",
    "- key=len will provide with only str"
   ]
  },
  {
   "cell_type": "code",
   "execution_count": 105,
   "id": "8932aa94-3b7d-4505-9615-72c479ea0b8c",
   "metadata": {},
   "outputs": [
    {
     "name": "stdout",
     "output_type": "stream",
     "text": [
      "[1, 1, 2, 3, 3, 3, 6, 46]\n"
     ]
    }
   ],
   "source": [
    "tup1=(2,1,3,1,46,3,6,3)\n",
    "print(sorted(tup1))"
   ]
  },
  {
   "cell_type": "code",
   "execution_count": 107,
   "id": "91ac7307-c93d-4d69-a3a4-e7ed54225878",
   "metadata": {},
   "outputs": [
    {
     "ename": "TypeError",
     "evalue": "'<' not supported between instances of 'str' and 'int'",
     "output_type": "error",
     "traceback": [
      "\u001b[1;31m---------------------------------------------------------------------------\u001b[0m",
      "\u001b[1;31mTypeError\u001b[0m                                 Traceback (most recent call last)",
      "Cell \u001b[1;32mIn[107], line 2\u001b[0m\n\u001b[0;32m      1\u001b[0m tup1\u001b[38;5;241m=\u001b[39m(\u001b[38;5;241m2\u001b[39m,\u001b[38;5;241m1\u001b[39m,\u001b[38;5;241m3\u001b[39m,\u001b[38;5;241m1\u001b[39m,\u001b[38;5;241m46\u001b[39m,\u001b[38;5;241m3\u001b[39m,\u001b[38;5;241m6\u001b[39m,\u001b[38;5;241m3\u001b[39m,\u001b[38;5;124m\"\u001b[39m\u001b[38;5;124mab\u001b[39m\u001b[38;5;124m\"\u001b[39m)\n\u001b[1;32m----> 2\u001b[0m \u001b[38;5;28mprint\u001b[39m(\u001b[38;5;28msorted\u001b[39m(tup1))\n",
      "\u001b[1;31mTypeError\u001b[0m: '<' not supported between instances of 'str' and 'int'"
     ]
    }
   ],
   "source": [
    "# not similar data type so type  error\n",
    "tup1=(2,1,3,1,46,3,6,3,\"ab\")\n",
    "print(sorted(tup1))"
   ]
  },
  {
   "cell_type": "code",
   "execution_count": 113,
   "id": "fdc136ca-44bb-4eb4-996d-947791354a27",
   "metadata": {},
   "outputs": [
    {
     "name": "stdout",
     "output_type": "stream",
     "text": [
      "65\n",
      "['AAA', 'C', 'a', 'b', 'd']\n"
     ]
    }
   ],
   "source": [
    "# rturn the sorted on the base of ascii\n",
    "tup1=(\"a\",\"AAA\",\"b\",\"C\",\"d\")\n",
    "print(ord(\"A\"))\n",
    "print(sorted(tup1))\n"
   ]
  },
  {
   "cell_type": "code",
   "execution_count": 114,
   "id": "2d1a08cf-1cb3-42c8-a7f1-67f45113e265",
   "metadata": {},
   "outputs": [
    {
     "name": "stdout",
     "output_type": "stream",
     "text": [
      "65\n",
      "['C', 'd', 'bb', 'AAA', 'aaaa']\n"
     ]
    }
   ],
   "source": [
    "# return the sorted list on the base of len\n",
    "tup1=(\"aaaa\",\"AAA\",\"bb\",\"C\",\"d\")\n",
    "print(ord(\"A\"))\n",
    "print(sorted(tup1,key=len))\n",
    "# remember if same first always first occurance will take in all cases in python"
   ]
  },
  {
   "cell_type": "code",
   "execution_count": 118,
   "id": "aa0f2bf9-83b8-448f-baf3-dc09d2fd8bf0",
   "metadata": {},
   "outputs": [
    {
     "name": "stdout",
     "output_type": "stream",
     "text": [
      "asceending [0, 1, 2, 2, 3, 4, 99]\n",
      "descending [99, 4, 3, 2, 2, 1, 0]\n"
     ]
    }
   ],
   "source": [
    "\n",
    "tup1=(1,2,4,2,99,3,0)\n",
    "print(\"asceending\",sorted(tup1))\n",
    "print(\"descending\",sorted(tup1,reverse=True))\n",
    "# we can provide  key argument for numberic value use only for str type  values print(\"asceending\",sorted(tup1,key=len))\n"
   ]
  },
  {
   "cell_type": "markdown",
   "id": "00d38038-9586-4216-aaff-50d5ea993410",
   "metadata": {},
   "source": [
    "## differ b/w sorted and reversed ##\n",
    "- sorted has at most 3 arguments\n",
    "- sorted and reverse both take iterator as arguement\n",
    "- reversed only 1 which reverse itearaotr\n",
    "- sorted return list\n",
    "- reversed return reversed iterator has 0 len\n",
    "- reversed can work any data elements inside the iterator it aim is to reverse the elements of iterator that it\n",
    "- sorted aim is sort in assending descing on the base of arg on the base of comparison"
   ]
  },
  {
   "cell_type": "code",
   "execution_count": 119,
   "id": "3b78e6c2-1e11-49de-b321-7c63c54b1687",
   "metadata": {},
   "outputs": [
    {
     "name": "stdout",
     "output_type": "stream",
     "text": [
      "[1, 2, 10]\n"
     ]
    }
   ],
   "source": [
    "# in dictioany sorted will apply on key return the sorted keys\n",
    "\n",
    "d={1:\"ritesh\",10:\"AJAU\",2:\"KA\"}\n",
    "\n",
    "print(sorted(d))"
   ]
  },
  {
   "cell_type": "markdown",
   "id": "499c5f3c-46b8-423f-b54b-2838b736825b",
   "metadata": {},
   "source": [
    "**NOTE IN DICTIONAY KEY ARE THE IMPORTANT SO ALL THE OPERATION WILL APPLY ON KEYS**\n",
    "- keyword like len,min,max,sum,sorted,reversed all give the result on keys"
   ]
  },
  {
   "cell_type": "code",
   "execution_count": null,
   "id": "30f1e457-f963-44c3-b649-197839d7c80f",
   "metadata": {},
   "outputs": [],
   "source": []
  }
 ],
 "metadata": {
  "kernelspec": {
   "display_name": "Python [conda env:base] *",
   "language": "python",
   "name": "conda-base-py"
  },
  "language_info": {
   "codemirror_mode": {
    "name": "ipython",
    "version": 3
   },
   "file_extension": ".py",
   "mimetype": "text/x-python",
   "name": "python",
   "nbconvert_exporter": "python",
   "pygments_lexer": "ipython3",
   "version": "3.13.5"
  }
 },
 "nbformat": 4,
 "nbformat_minor": 5
}
