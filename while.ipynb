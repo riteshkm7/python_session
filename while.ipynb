{
 "cells": [
  {
   "cell_type": "markdown",
   "id": "2da5fdb1-7004-473c-bc84-0c31e6f83805",
   "metadata": {},
   "source": [
    "### while loop ###"
   ]
  },
  {
   "cell_type": "code",
   "execution_count": 1,
   "id": "6c429717-b5e4-46e4-a33e-087cb3912f2a",
   "metadata": {},
   "outputs": [
    {
     "name": "stdout",
     "output_type": "stream",
     "text": [
      "10 11 12 13 14 15 16 17 18 19 20 "
     ]
    }
   ],
   "source": [
    "# wap to print value between 10 to 20\n",
    "i=10\n",
    "while(i<=20):\n",
    "    print(i,end=\" \")\n",
    "    i=i+1\n",
    "    "
   ]
  },
  {
   "cell_type": "code",
   "execution_count": 6,
   "id": "f05a848a-2bb4-4270-8439-3c8bd660add6",
   "metadata": {},
   "outputs": [
    {
     "name": "stdout",
     "output_type": "stream",
     "text": [
      "-1 -2 -3 -4 -5 -6 -7 -8 -9 -10 "
     ]
    }
   ],
   "source": [
    "# print -1 to -10\n",
    "# First create the wrapper\n",
    "i=-1\n",
    "while(i>-11):\n",
    "    print(i,end=\" \")\n",
    "    i=i-1\n",
    "    "
   ]
  },
  {
   "cell_type": "code",
   "execution_count": 8,
   "id": "99197e13-63ec-42a3-bc8a-4d80d8423a90",
   "metadata": {},
   "outputs": [
    {
     "name": "stdout",
     "output_type": "stream",
     "text": [
      "-1 -2 -3 -4 -5 -6 -7 -8 -9 -10 "
     ]
    }
   ],
   "source": [
    "# using break\n",
    "i=-1\n",
    "while True:\n",
    "    print(i,end=\" \")\n",
    "    i=i-1\n",
    "    if i==-11:\n",
    "        break"
   ]
  },
  {
   "cell_type": "code",
   "execution_count": 9,
   "id": "718f66d5-fd53-4627-b43b-1acf2c4428f1",
   "metadata": {},
   "outputs": [
    {
     "name": "stdout",
     "output_type": "stream",
     "text": [
      "-1 -2 -3 -4 -5 -6 -7 -8 -9 -10 "
     ]
    }
   ],
   "source": [
    "# using break  any non zero value is true\n",
    "i=-1\n",
    "while 1:\n",
    "    print(i,end=\" \")\n",
    "    i=i-1\n",
    "    if i==-11:\n",
    "        break"
   ]
  },
  {
   "cell_type": "code",
   "execution_count": 10,
   "id": "70f00831-515a-476a-b6ba-0446dbd336b3",
   "metadata": {},
   "outputs": [
    {
     "name": "stdout",
     "output_type": "stream",
     "text": [
      "-1 -2 -3 -4 -5 -6 -7 -8 -9 -10 "
     ]
    }
   ],
   "source": [
    "######################### if you are not know the condition just apply the Ture and use break\n",
    "i=-1\n",
    "while(True):\n",
    "    print(i,end=\" \")\n",
    "    i=i-1 # decrement\n",
    "    if i==-11:\n",
    "        break"
   ]
  },
  {
   "cell_type": "code",
   "execution_count": 11,
   "id": "826aaa3e-fd61-47a7-bc3a-8d60a39c0932",
   "metadata": {},
   "outputs": [
    {
     "name": "stdout",
     "output_type": "stream",
     "text": [
      "0 1 2 3 4 5 6 7 8 9 "
     ]
    }
   ],
   "source": [
    "# print 0 to 9 if you do not know condtion\n",
    "i=0\n",
    "while True:\n",
    "    print(i,end=\" \")\n",
    "    i=i+1\n",
    "    if i==10:\n",
    "        break\n"
   ]
  },
  {
   "cell_type": "code",
   "execution_count": null,
   "id": "cc63fba4-8015-4f56-9a4f-c21fd323b423",
   "metadata": {},
   "outputs": [],
   "source": [
    "# ask the user enter a number 5 times\n",
    "# print the square of the number"
   ]
  },
  {
   "cell_type": "code",
   "execution_count": 12,
   "id": "c9db56ba-34cd-4e79-930b-5e67b7687867",
   "metadata": {
    "scrolled": true
   },
   "outputs": [
    {
     "name": "stdin",
     "output_type": "stream",
     "text": [
      "enter a number 1\n"
     ]
    },
    {
     "name": "stdout",
     "output_type": "stream",
     "text": [
      "the square of 1 is 1\n"
     ]
    },
    {
     "name": "stdin",
     "output_type": "stream",
     "text": [
      "enter a number 2\n"
     ]
    },
    {
     "name": "stdout",
     "output_type": "stream",
     "text": [
      "the square of 2 is 4\n"
     ]
    },
    {
     "name": "stdin",
     "output_type": "stream",
     "text": [
      "enter a number 4\n"
     ]
    },
    {
     "name": "stdout",
     "output_type": "stream",
     "text": [
      "the square of 4 is 16\n"
     ]
    },
    {
     "name": "stdin",
     "output_type": "stream",
     "text": [
      "enter a number 5\n"
     ]
    },
    {
     "name": "stdout",
     "output_type": "stream",
     "text": [
      "the square of 5 is 25\n"
     ]
    },
    {
     "name": "stdin",
     "output_type": "stream",
     "text": [
      "enter a number 5\n"
     ]
    },
    {
     "name": "stdout",
     "output_type": "stream",
     "text": [
      "the square of 5 is 25\n"
     ]
    }
   ],
   "source": [
    "# for loop\n",
    "for i in range(5):\n",
    "    n=eval(input(\"enter a number\"))\n",
    "    print(\"the square of {} is {}\".format(n,n*n))\n",
    "    "
   ]
  },
  {
   "cell_type": "code",
   "execution_count": null,
   "id": "6e6454aa-ad22-46e5-8612-9c1fad008e83",
   "metadata": {},
   "outputs": [],
   "source": [
    "# while loop\n"
   ]
  },
  {
   "cell_type": "code",
   "execution_count": 14,
   "id": "182ed517-8ef7-4d02-97c5-92188753d1b1",
   "metadata": {},
   "outputs": [
    {
     "name": "stdin",
     "output_type": "stream",
     "text": [
      "enter a number 1\n"
     ]
    },
    {
     "name": "stdout",
     "output_type": "stream",
     "text": [
      "the square of 1 is 1\n"
     ]
    },
    {
     "name": "stdin",
     "output_type": "stream",
     "text": [
      "enter a number 2\n"
     ]
    },
    {
     "name": "stdout",
     "output_type": "stream",
     "text": [
      "the square of 2 is 4\n"
     ]
    },
    {
     "name": "stdin",
     "output_type": "stream",
     "text": [
      "enter a number 3\n"
     ]
    },
    {
     "name": "stdout",
     "output_type": "stream",
     "text": [
      "the square of 3 is 9\n"
     ]
    },
    {
     "name": "stdin",
     "output_type": "stream",
     "text": [
      "enter a number 4\n"
     ]
    },
    {
     "name": "stdout",
     "output_type": "stream",
     "text": [
      "the square of 4 is 16\n"
     ]
    },
    {
     "name": "stdin",
     "output_type": "stream",
     "text": [
      "enter a number 5\n"
     ]
    },
    {
     "name": "stdout",
     "output_type": "stream",
     "text": [
      "the square of 5 is 25\n"
     ]
    }
   ],
   "source": [
    "i=0\n",
    "while i<5:\n",
    "    n=eval(input(\"enter a number\"))\n",
    "    print(\"the square of {} is {}\".format(n,n*n))\n",
    "    i=i+1\n",
    "    \n",
    "    "
   ]
  },
  {
   "cell_type": "code",
   "execution_count": null,
   "id": "104100ca-bd62-420b-9282-df327525ff33",
   "metadata": {},
   "outputs": [],
   "source": [
    "# wap take a random number between 10 to 20, Five times you need to take\n",
    "# and print the square of the number\n",
    "\n"
   ]
  },
  {
   "cell_type": "code",
   "execution_count": 22,
   "id": "e4276f8c-6ef0-4223-8de0-0b509644f0ab",
   "metadata": {},
   "outputs": [
    {
     "name": "stdout",
     "output_type": "stream",
     "text": [
      "the square of 15 is 225\n",
      "the square of 17 is 289\n",
      "the square of 15 is 225\n",
      "the square of 19 is 361\n",
      "the square of 12 is 144\n"
     ]
    }
   ],
   "source": [
    "import random\n",
    "i=0\n",
    "while i<5:\n",
    "    ran=random.randint(10,20)\n",
    "    print(\"the square of {} is {}\".format(ran,ran*ran))\n",
    "    i=i+1"
   ]
  },
  {
   "cell_type": "code",
   "execution_count": null,
   "id": "49b3abac-3ad4-4856-bcd6-9f5af394cc31",
   "metadata": {},
   "outputs": [],
   "source": [
    "# wap ask the user print a number is an even or odd\n",
    "# consider number from 10 to 20"
   ]
  },
  {
   "cell_type": "code",
   "execution_count": 29,
   "id": "e41f9d54-cbd4-4f72-bad7-c62677e0dcaf",
   "metadata": {},
   "outputs": [
    {
     "name": "stdout",
     "output_type": "stream",
     "text": [
      "10 is even\n",
      "11 is odd\n",
      "12 is even\n",
      "13 is odd\n",
      "14 is even\n",
      "15 is odd\n",
      "16 is even\n",
      "17 is odd\n",
      "18 is even\n",
      "19 is odd\n",
      "20 is even\n"
     ]
    }
   ],
   "source": [
    "i=10\n",
    "while i<21:\n",
    "    if i%2==0:\n",
    "        print(\"{} is even\".format(i))\n",
    "    else:\n",
    "        print(\"{} is odd\".format(i))\n",
    "    i=i+1    \n",
    "        "
   ]
  },
  {
   "cell_type": "code",
   "execution_count": 27,
   "id": "92bfb190-2f6a-427a-a22b-e02a41d09d76",
   "metadata": {},
   "outputs": [
    {
     "name": "stdout",
     "output_type": "stream",
     "text": [
      "10 is even\n",
      "11 is odd\n",
      "12 is even\n",
      "13 is odd\n",
      "14 is even\n",
      "15 is odd\n",
      "16 is even\n",
      "17 is odd\n",
      "18 is even\n",
      "19 is odd\n",
      "20 is even\n"
     ]
    }
   ],
   "source": [
    "# for loop \n",
    "for  i in range(10,21):\n",
    "    if i%2==0:\n",
    "        print(\"{} is even\".format(i))\n",
    "    else:\n",
    "        print(\"{} is odd\".format(i))"
   ]
  },
  {
   "cell_type": "code",
   "execution_count": null,
   "id": "57fdf08c-7344-4c12-85f5-999c71eacc33",
   "metadata": {},
   "outputs": [],
   "source": [
    "# take five random numbers from 10 to 20 check even or odd\n",
    "\n",
    "i=0\n",
    "while i<5:\n",
    "    ran=random.randint(10,20)\n",
    "    if ran%2==0:\n",
    "        print(\"{} is even\".format(ran))\n",
    "\n",
    "    else:\n",
    "        print(\"{} is odd\".format(ran))\n",
    "    i=i+1    "
   ]
  },
  {
   "cell_type": "code",
   "execution_count": null,
   "id": "858c4bc1-f292-4e81-9585-bcbed64bb855",
   "metadata": {},
   "outputs": [],
   "source": [
    "# Print sum of fisrt 10 natural number\n",
    "# ans = 55 while loop"
   ]
  },
  {
   "cell_type": "code",
   "execution_count": 33,
   "id": "7ba39944-a715-4638-be60-105849431a70",
   "metadata": {},
   "outputs": [
    {
     "name": "stdout",
     "output_type": "stream",
     "text": [
      "the sum 0 and 1 is :  1\n",
      "the sum 1 and 2 is :  3\n",
      "the sum 3 and 3 is :  6\n",
      "the sum 6 and 4 is :  10\n",
      "the sum 10 and 5 is :  15\n",
      "the sum 15 and 6 is :  21\n",
      "the sum 21 and 7 is :  28\n",
      "the sum 28 and 8 is :  36\n",
      "the sum 36 and 9 is :  45\n",
      "the sum 45 and 10 is :  55\n",
      "the sum of first 10 natural number is : 55\n"
     ]
    }
   ],
   "source": [
    "i=1\n",
    "summ=0\n",
    "while i<11:\n",
    "    print(\"the sum {} and {} is : \".format(summ,i),end=\" \")\n",
    "    summ=summ+i\n",
    "    print(summ)\n",
    "    i=i+1\n",
    "print(\"the sum of first 10 natural number is :\",summ)\n",
    "\n",
    "    \n",
    "    \n",
    "    \n",
    "    "
   ]
  },
  {
   "cell_type": "code",
   "execution_count": null,
   "id": "84c0a339-ff88-4c56-ba74-a142ea72a063",
   "metadata": {},
   "outputs": [],
   "source": [
    "# WAP get 10 random numbers between 1 to 100\n",
    "# and sum those numbers"
   ]
  },
  {
   "cell_type": "code",
   "execution_count": 37,
   "id": "9aa7707a-e83c-4b22-b9da-7f4250a1d760",
   "metadata": {},
   "outputs": [
    {
     "name": "stdout",
     "output_type": "stream",
     "text": [
      "the sum 0 and 43 is :  43\n",
      "the sum 43 and 89 is :  132\n",
      "the sum 132 and 94 is :  226\n",
      "the sum 226 and 33 is :  259\n",
      "the sum 259 and 6 is :  265\n",
      "the sum 265 and 52 is :  317\n",
      "the sum 317 and 71 is :  388\n",
      "the sum 388 and 12 is :  400\n",
      "the sum 400 and 78 is :  478\n",
      "the sum 478 and 84 is :  562\n",
      "The sum of 10 random number is : 562\n"
     ]
    }
   ],
   "source": [
    "import random\n",
    "summ=0\n",
    "i=0\n",
    "while(i<10):\n",
    "   \n",
    "    ran=random.randint(1,100)\n",
    "    # print both summ and random number beofore sum\n",
    "    print(\"the sum {} and {} is : \".format(summ,ran),end=\" \")\n",
    "    summ=summ+ran\n",
    "    #print whole sum of both number\n",
    "    print(summ)\n",
    "    i=i+1\n",
    "# print entire sum of 10 random numbers    \n",
    "print(\"The sum of 10 random number is :\", summ)    \n",
    "    "
   ]
  },
  {
   "cell_type": "code",
   "execution_count": null,
   "id": "215a9b31-124a-45d5-af4a-86617a09c330",
   "metadata": {},
   "outputs": [],
   "source": [
    "# WAP ask the user get a 10 random number between 10 to 100\n",
    "# count how many are greater than 50"
   ]
  },
  {
   "cell_type": "code",
   "execution_count": 2,
   "id": "88cbfe6a-47ce-44b7-a3a6-95cf628a2485",
   "metadata": {},
   "outputs": [
    {
     "name": "stdout",
     "output_type": "stream",
     "text": [
      "95\n",
      "65\n",
      "65\n",
      "56\n",
      "72\n",
      "86\n",
      "80\n",
      "70\n",
      "The number which is greater that 50 is : 8\n"
     ]
    }
   ],
   "source": [
    "import random\n",
    "count=0\n",
    "i=0\n",
    "while(i<10):\n",
    "    ran=random.randint(10,100)\n",
    "    if ran>50:\n",
    "        print(ran)\n",
    "        count=count+1\n",
    "    i=i+1   \n",
    "print(\"The number which is greater that 50 is :\",count)    "
   ]
  },
  {
   "cell_type": "code",
   "execution_count": null,
   "id": "0bf0e937-7c23-4cd8-bbdc-d2973bf254b0",
   "metadata": {},
   "outputs": [],
   "source": [
    "# WAP ask the user get a 10 random number between 0 to 10\n",
    "# count how many are greater than 5 and equal=0"
   ]
  },
  {
   "cell_type": "code",
   "execution_count": 15,
   "id": "e27df4fd-5678-4fc3-a11b-6bb725772940",
   "metadata": {},
   "outputs": [
    {
     "name": "stdout",
     "output_type": "stream",
     "text": [
      "8\n",
      "10\n",
      "10\n",
      "0\n",
      "7\n",
      "the count of number grater five is 4 and number equal to 0 is 1\n"
     ]
    }
   ],
   "source": [
    "import random\n",
    "#i=0\n",
    "#count_five=0\n",
    "#count_0=0\n",
    "# intialize in single line\n",
    "i=count_five=count_0=0\n",
    "while(i<10):\n",
    "    ran=random.randint(0,10)\n",
    "    if ran>5:\n",
    "        print(ran)\n",
    "        count_five=count_five+1\n",
    "    elif ran==0:\n",
    "        print( ran)\n",
    "        count_0+=1    \n",
    "        \n",
    "    i=i+1\n",
    "print(\"the count of number grater five is {} and number equal to 0 is {}\".format(count_five,count_0) )    \n",
    "    "
   ]
  },
  {
   "cell_type": "code",
   "execution_count": null,
   "id": "6c161e49-ffcd-40a6-8872-25b43b697258",
   "metadata": {},
   "outputs": [],
   "source": [
    "# 5 lines\n",
    "# take a random number from random package between 1 to 10\n",
    "# ========= you need to repat 3 times============\n",
    "# ask the user enter a number between 1 to 10\n",
    "# if the number == random number:\n",
    "# print('you won')\n",
    "# else:\n",
    "# print('you lost')\n",
    "# While loop"
   ]
  },
  {
   "cell_type": "code",
   "execution_count": 23,
   "id": "86227933-de4c-4f49-805c-b024192779ab",
   "metadata": {},
   "outputs": [
    {
     "name": "stdin",
     "output_type": "stream",
     "text": [
      "Enter number of chanes you want 3\n",
      "Enter a number: 3\n"
     ]
    },
    {
     "name": "stdout",
     "output_type": "stream",
     "text": [
      "You loss!\n",
      "You have left attempt is : 2\n"
     ]
    },
    {
     "name": "stdin",
     "output_type": "stream",
     "text": [
      "Enter a number: 1\n"
     ]
    },
    {
     "name": "stdout",
     "output_type": "stream",
     "text": [
      "You loss!\n",
      "You have left attempt is : 1\n"
     ]
    },
    {
     "name": "stdin",
     "output_type": "stream",
     "text": [
      "Enter a number: 1\n"
     ]
    },
    {
     "name": "stdout",
     "output_type": "stream",
     "text": [
      "All attempts over\n",
      "Please try again after some time\n",
      "Game over\n"
     ]
    }
   ],
   "source": [
    "import random\n",
    "i=0\n",
    "chance=eval(input(\"Enter number of chanes you want\"))\n",
    "while(i<chance):\n",
    "    ran=random.randint(1,10)\n",
    "    x=eval(input(\"Enter a number:\"))\n",
    "    if x==ran:\n",
    "        print(\"You won\")\n",
    "    elif chance-1-i==0:\n",
    "        print(\"All attempts over\")\n",
    "        print(\"Please try again after some time\")\n",
    "    else:\n",
    "        print(\"You loss!\")\n",
    "        print(\"You have left attempt is :\", chance-1-i)\n",
    "    i=i+1    \n",
    "print(\"Game over\")    \n",
    "        \n",
    "    \n",
    "    "
   ]
  },
  {
   "cell_type": "code",
   "execution_count": null,
   "id": "f3011b33-6d0b-4ca7-b315-10014dd1e487",
   "metadata": {},
   "outputs": [],
   "source": [
    "# divisor program "
   ]
  },
  {
   "cell_type": "code",
   "execution_count": 25,
   "id": "d9466d8f-0b17-4ee8-8b3b-aeed1b2ca6d6",
   "metadata": {},
   "outputs": [
    {
     "name": "stdin",
     "output_type": "stream",
     "text": [
      "enter the number which divisble you want 3\n"
     ]
    },
    {
     "name": "stdout",
     "output_type": "stream",
     "text": [
      "3 is divisble by 1\n",
      "3  is not divisble by 2\n",
      "The total divisor  of 3 is 2\n",
      "\n",
      "The total non  divisor of 3 is 2\n"
     ]
    }
   ],
   "source": [
    "div=n_div=i=1\n",
    "n=eval(input(\"Enter the number which divisble you want\"))\n",
    "while(i<n):\n",
    "\n",
    "    if n%i==0:\n",
    "        print(\"{} is divisble by {}\".format(n,i))\n",
    "        div+=1\n",
    "    else:\n",
    "        n_div+=1\n",
    "        print(\"{}  is not divisble by {}\".format(n,i))\n",
    "    i=i+1    \n",
    "print(\"The total divisor  of {} is {}\".format(n,div))\n",
    "print()\n",
    "print(\"The total non  divisor of {} is {}\".format(n,n_div))\n",
    "        \n",
    "        "
   ]
  },
  {
   "cell_type": "code",
   "execution_count": null,
   "id": "3f5c9802-9bcf-4634-aaea-c65cdf84e4cb",
   "metadata": {},
   "outputs": [],
   "source": [
    "# divisor program using function without arguement"
   ]
  },
  {
   "cell_type": "code",
   "execution_count": 30,
   "id": "c8fdcf7d-560f-42cf-b5cb-d72737db8b5f",
   "metadata": {},
   "outputs": [
    {
     "name": "stdin",
     "output_type": "stream",
     "text": [
      "Enter the number which divisble you want 10\n"
     ]
    },
    {
     "name": "stdout",
     "output_type": "stream",
     "text": [
      "10 is divisble by 1\n",
      "10 is divisble by 2\n",
      "10  is not divisble by 3\n",
      "10  is not divisble by 4\n",
      "10 is divisble by 5\n",
      "10  is not divisble by 6\n",
      "10  is not divisble by 7\n",
      "10  is not divisble by 8\n",
      "10  is not divisble by 9\n",
      "The total divisor  of 10 is 4\n",
      "\n",
      "The total non  divisor of 10 is 7\n"
     ]
    }
   ],
   "source": [
    "def counter():\n",
    "    div=n_div=i=1\n",
    "    n=eval(input(\"Enter the number which divisble you want\"))\n",
    "    while(i<n):\n",
    "        \n",
    "        if n%i==0:\n",
    "            print(\"{} is divisble by {}\".format(n,i))\n",
    "            div+=1\n",
    "        else:\n",
    "            n_div+=1\n",
    "            print(\"{}  is not divisble by {}\".format(n,i))\n",
    "        i=i+1    \n",
    "    print(\"The total divisor  of {} is {}\".format(n,div))\n",
    "    print()\n",
    "    print(\"The total non  divisor of {} is {}\".format(n,n_div))\n",
    "counter()    \n",
    "      \n",
    "    "
   ]
  },
  {
   "cell_type": "code",
   "execution_count": null,
   "id": "65b1559f-143a-48e4-a0bf-a16296e21a05",
   "metadata": {},
   "outputs": [],
   "source": [
    "# return the div and non div"
   ]
  },
  {
   "cell_type": "code",
   "execution_count": 32,
   "id": "acaffe66-5d0b-4ba1-a372-264564f3daf3",
   "metadata": {},
   "outputs": [
    {
     "name": "stdin",
     "output_type": "stream",
     "text": [
      "Enter the number which divisble you want 10\n"
     ]
    },
    {
     "name": "stdout",
     "output_type": "stream",
     "text": [
      "10 is divisble by 1\n",
      "10 is divisble by 2\n",
      "10  is not divisble by 3\n",
      "10  is not divisble by 4\n",
      "10 is divisble by 5\n",
      "10  is not divisble by 6\n",
      "10  is not divisble by 7\n",
      "10  is not divisble by 8\n",
      "10  is not divisble by 9\n",
      "Final count of divisor is 4 and non divisor is 7\n"
     ]
    }
   ],
   "source": [
    "def counter():\n",
    "    div=n_div=i=1\n",
    "    n=eval(input(\"Enter the number which divisble you want\"))\n",
    "    while(i<n):\n",
    "        \n",
    "        if n%i==0:\n",
    "            print(\"{} is divisble by {}\".format(n,i))\n",
    "            div+=1\n",
    "        else:\n",
    "            n_div+=1\n",
    "            print(\"{}  is not divisble by {}\".format(n,i))\n",
    "        i=i+1   \n",
    "    return div,n_div # return findal div and n_div value\n",
    "    \n",
    "val1,val2=counter()\n",
    "print(\"Final count of divisor is {} and non divisor is {}\".format(val1,val2))\n",
    "      "
   ]
  },
  {
   "cell_type": "code",
   "execution_count": 37,
   "id": "40be1a14-db8d-4b61-a542-670c27234e3b",
   "metadata": {},
   "outputs": [
    {
     "name": "stdin",
     "output_type": "stream",
     "text": [
      "Enter a number which divisble you want:  10\n"
     ]
    },
    {
     "name": "stdout",
     "output_type": "stream",
     "text": [
      "10 is divisble by 1\n",
      "10 is divisble by 2\n",
      "10  is not divisble by 3\n",
      "10  is not divisble by 4\n",
      "10 is divisble by 5\n",
      "10  is not divisble by 6\n",
      "10  is not divisble by 7\n",
      "10  is not divisble by 8\n",
      "10  is not divisble by 9\n",
      "Final count of divisor is 4 and non divisor is 7\n"
     ]
    }
   ],
   "source": [
    "# implementing the condition part in another function def counter():\n",
    "### condition function\n",
    "\n",
    "def condition1(n,i,div,n_div):\n",
    "    \n",
    "    while(i<n):\n",
    "        \n",
    "        if n%i==0:\n",
    "            print(\"{} is divisble by {}\".format(n,i))\n",
    "            div+=1\n",
    "        else:\n",
    "            n_div+=1\n",
    "            print(\"{}  is not divisble by {}\".format(n,i))\n",
    "        i=i+1     \n",
    "    return(div,n_div)    \n",
    "          \n",
    "\n",
    "###### counter function \n",
    "def counter1(n):\n",
    "    div=n_div=i=1\n",
    "    \n",
    "    val11,val22=condition1(n,i,div,n_div) # calling condition function \n",
    "    \n",
    "    return val11,val22 # return findal div and n_div value\n",
    "    \n",
    "n=eval(input(\"Enter a number which divisble you want: \"))  \n",
    "\n",
    "val1,val2=counter1(n) # calling main funtion \n",
    "\n",
    "print(\"Final count of divisor is {} and non divisor is {}\".format(val1,val2))\n",
    "      "
   ]
  },
  {
   "cell_type": "markdown",
   "id": "dc6a987c-fc25-4a31-87d2-d345e82d789f",
   "metadata": {},
   "source": [
    "Complete the below question, this is best suited with while loop\n",
    "\n",
    "Suppose that a player wants to play a game which requires him Rs. 1,000 to start. If the current balance in his account is less than Rs. 1,000 he needs to withdraw the extra money from his e-wallet.\n",
    "\n",
    "Note that if the sum of money in his courrent account and the amount withdrawn is greater than or equal to Rs. 1,000 then he can start playing the game. However if the sum is less than Rs. 1,000 then the program should keep displaying the user the message “You still do not have enough money to start playing.” and keep prompting the user to withdraw money unless it crosses Rs. 1,000. Once ready, i.e. if his current account balance crosses Rs. 1,000, it will display a message “Now, you are ready to play the game.” Your program should also display the account balance and the current amount in the e-wallet.\n",
    "\n",
    "(consider: initial account balance is Rs. 200 and money in the e-wallet is Rs. 5,000)\n",
    "\n",
    "(Do further improvement by checking if the e-wallet balance becomes NIL, etc.)"
   ]
  },
  {
   "cell_type": "code",
   "execution_count": 38,
   "id": "cd330069-1ab9-4f91-a558-df2bac22678e",
   "metadata": {},
   "outputs": [
    {
     "ename": "NameError",
     "evalue": "name 'initial_account' is not defined",
     "output_type": "error",
     "traceback": [
      "\u001b[1;31m---------------------------------------------------------------------------\u001b[0m",
      "\u001b[1;31mNameError\u001b[0m                                 Traceback (most recent call last)",
      "Cell \u001b[1;32mIn[38], line 18\u001b[0m\n\u001b[0;32m     13\u001b[0m         \u001b[38;5;28;01melse\u001b[39;00m:\n\u001b[0;32m     14\u001b[0m             \u001b[38;5;28mprint\u001b[39m(\u001b[38;5;124m\"\u001b[39m\u001b[38;5;124mThe money is your account now \u001b[39m\u001b[38;5;132;01m{}\u001b[39;00m\u001b[38;5;124m you can play\u001b[39m\u001b[38;5;124m\"\u001b[39m\u001b[38;5;241m.\u001b[39mformat(total))\n\u001b[1;32m---> 18\u001b[0m \u001b[38;5;28;01mif\u001b[39;00m initial_account\u001b[38;5;241m<\u001b[39m\u001b[38;5;241m1000\u001b[39m:\n\u001b[0;32m     19\u001b[0m     \u001b[38;5;28mprint\u001b[39m(\u001b[38;5;124m\"\u001b[39m\u001b[38;5;124minsufficent money in your account please withdraw from e-wallet\u001b[39m\u001b[38;5;124m\"\u001b[39m)\n\u001b[0;32m     20\u001b[0m     withdraw(intial_account,e_wallet)\n",
      "\u001b[1;31mNameError\u001b[0m: name 'initial_account' is not defined"
     ]
    }
   ],
   "source": [
    "\n",
    "    \n",
    "intial_account=200\n",
    "e_wallet=5000\n",
    "\n",
    "def withdraw(intial_account,e_wallet):\n",
    "    total=intial_account\n",
    "    \n",
    "    while total<1000:\n",
    "        wid=eval(input(\"enter amount which you want to withdraw from your e-wallet\"))\n",
    "        total=total+wid\n",
    "        print(\"Now amount in your  account is \",total)\n",
    "        if total<1000:\n",
    "            print(\"you need to withdraw at least {} to play\".format(1000-total))\n",
    "        else:\n",
    "            print(\"The money is your account now {} you can play\".format(total))\n",
    "        \n",
    "    \n",
    "      \n",
    "if initial_account<1000:\n",
    "    print(\"insufficent money in your account please withdraw from e-wallet\")\n",
    "    withdraw(intial_account,e_wallet)"
   ]
  },
  {
   "cell_type": "code",
   "execution_count": null,
   "id": "854012a4-5ef0-4e3a-9832-735a45598ffb",
   "metadata": {},
   "outputs": [],
   "source": []
  },
  {
   "cell_type": "code",
   "execution_count": null,
   "id": "a984da90-3c7b-4949-8bbb-310f80221811",
   "metadata": {},
   "outputs": [],
   "source": []
  },
  {
   "cell_type": "code",
   "execution_count": null,
   "id": "816d90a1-8554-4fa7-be31-9f63c2584a72",
   "metadata": {},
   "outputs": [],
   "source": []
  },
  {
   "cell_type": "code",
   "execution_count": null,
   "id": "aeed39f2-08b8-4d0e-8be5-c7d33099f723",
   "metadata": {},
   "outputs": [],
   "source": []
  },
  {
   "cell_type": "code",
   "execution_count": null,
   "id": "270d116e-e24d-4d19-bf54-face3bcebe32",
   "metadata": {},
   "outputs": [],
   "source": []
  },
  {
   "cell_type": "code",
   "execution_count": null,
   "id": "86c9f74a-68da-4274-bfe7-aa06366bdd3b",
   "metadata": {},
   "outputs": [],
   "source": []
  },
  {
   "cell_type": "code",
   "execution_count": null,
   "id": "4f9702d3-112c-4604-9106-f148c95e4cf0",
   "metadata": {},
   "outputs": [],
   "source": []
  },
  {
   "cell_type": "code",
   "execution_count": null,
   "id": "f38a8ff1-ad7d-4cf7-a104-def5b2f1fe88",
   "metadata": {},
   "outputs": [],
   "source": []
  },
  {
   "cell_type": "code",
   "execution_count": null,
   "id": "388ebbb7-31b3-414b-b5ec-4ffaa84127b4",
   "metadata": {},
   "outputs": [],
   "source": []
  },
  {
   "cell_type": "code",
   "execution_count": null,
   "id": "b6c8ad37-589c-4f6e-817f-cce6091e3e83",
   "metadata": {},
   "outputs": [],
   "source": []
  },
  {
   "cell_type": "code",
   "execution_count": null,
   "id": "b3a02cda-cc69-4d4f-8623-b17d2e4db3f2",
   "metadata": {},
   "outputs": [],
   "source": []
  },
  {
   "cell_type": "code",
   "execution_count": null,
   "id": "3ad72930-d297-4beb-af1e-bb136ef40569",
   "metadata": {},
   "outputs": [],
   "source": []
  },
  {
   "cell_type": "code",
   "execution_count": null,
   "id": "98dfd1f0-7f97-4c38-a7b8-b0271fdcc85a",
   "metadata": {},
   "outputs": [],
   "source": []
  },
  {
   "cell_type": "code",
   "execution_count": null,
   "id": "4f11c682-c286-4793-a7db-8fc557fc991e",
   "metadata": {},
   "outputs": [],
   "source": []
  },
  {
   "cell_type": "code",
   "execution_count": null,
   "id": "6f41547c-f871-48b2-a8e5-e41c3f4988ce",
   "metadata": {},
   "outputs": [],
   "source": []
  },
  {
   "cell_type": "code",
   "execution_count": null,
   "id": "59bd1d07-de1c-41ef-b66b-fbd575eefb1d",
   "metadata": {},
   "outputs": [],
   "source": []
  },
  {
   "cell_type": "code",
   "execution_count": null,
   "id": "82afc580-5953-4e71-ba67-7376d9a2e9f0",
   "metadata": {},
   "outputs": [],
   "source": []
  },
  {
   "cell_type": "code",
   "execution_count": null,
   "id": "3511cc11-1478-4039-80d3-506098deb02a",
   "metadata": {},
   "outputs": [],
   "source": []
  },
  {
   "cell_type": "code",
   "execution_count": null,
   "id": "008e4154-3321-446e-9757-76561bfe4d57",
   "metadata": {},
   "outputs": [],
   "source": []
  },
  {
   "cell_type": "code",
   "execution_count": null,
   "id": "642bd0f5-2537-4a2a-9f9a-e4ee7cf16e12",
   "metadata": {},
   "outputs": [],
   "source": []
  },
  {
   "cell_type": "code",
   "execution_count": null,
   "id": "c07e2461-6d25-4215-b720-1888e9c4dc08",
   "metadata": {},
   "outputs": [],
   "source": []
  },
  {
   "cell_type": "code",
   "execution_count": null,
   "id": "fd83f861-ff8c-4f18-82ea-72cf6ef0008f",
   "metadata": {},
   "outputs": [],
   "source": []
  },
  {
   "cell_type": "code",
   "execution_count": null,
   "id": "3b33990c-5562-44e3-a1b1-cbafd935d8a6",
   "metadata": {},
   "outputs": [],
   "source": []
  },
  {
   "cell_type": "code",
   "execution_count": null,
   "id": "d0973ca8-c391-48d8-bee3-39e209a5d9b4",
   "metadata": {},
   "outputs": [],
   "source": []
  },
  {
   "cell_type": "code",
   "execution_count": null,
   "id": "d98d42dd-f766-4798-b038-84cb1c9df8a9",
   "metadata": {},
   "outputs": [],
   "source": []
  },
  {
   "cell_type": "code",
   "execution_count": null,
   "id": "bb87c66e-e7d0-4da7-9edc-702e45cb9e55",
   "metadata": {},
   "outputs": [],
   "source": []
  },
  {
   "cell_type": "code",
   "execution_count": null,
   "id": "4d751e7f-03d7-46ce-90f8-5b4718bc785a",
   "metadata": {},
   "outputs": [],
   "source": []
  },
  {
   "cell_type": "code",
   "execution_count": null,
   "id": "546d1625-41f6-44c3-a9c0-ac17d0a34462",
   "metadata": {},
   "outputs": [],
   "source": []
  },
  {
   "cell_type": "code",
   "execution_count": null,
   "id": "035c051b-e888-404e-b8b7-e96b143b9dea",
   "metadata": {},
   "outputs": [],
   "source": []
  },
  {
   "cell_type": "code",
   "execution_count": null,
   "id": "a0107571-ef5a-457c-a544-8c035d9c59f5",
   "metadata": {},
   "outputs": [],
   "source": []
  },
  {
   "cell_type": "code",
   "execution_count": null,
   "id": "bfe22c68-cc16-4501-af1f-d44d794a7a95",
   "metadata": {},
   "outputs": [],
   "source": []
  },
  {
   "cell_type": "code",
   "execution_count": null,
   "id": "618bb199-fed2-41df-921c-6687f7e99e11",
   "metadata": {},
   "outputs": [],
   "source": []
  },
  {
   "cell_type": "code",
   "execution_count": null,
   "id": "d10995f7-049d-4efd-ac8c-58082f665659",
   "metadata": {},
   "outputs": [],
   "source": []
  },
  {
   "cell_type": "code",
   "execution_count": null,
   "id": "fbeead6e-5a93-40e7-bf8d-619899a44977",
   "metadata": {},
   "outputs": [],
   "source": []
  }
 ],
 "metadata": {
  "kernelspec": {
   "display_name": "Python [conda env:base] *",
   "language": "python",
   "name": "conda-base-py"
  },
  "language_info": {
   "codemirror_mode": {
    "name": "ipython",
    "version": 3
   },
   "file_extension": ".py",
   "mimetype": "text/x-python",
   "name": "python",
   "nbconvert_exporter": "python",
   "pygments_lexer": "ipython3",
   "version": "3.13.5"
  }
 },
 "nbformat": 4,
 "nbformat_minor": 5
}
