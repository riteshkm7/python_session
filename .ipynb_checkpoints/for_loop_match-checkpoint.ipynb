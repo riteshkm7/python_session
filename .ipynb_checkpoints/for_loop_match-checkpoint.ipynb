{
 "cells": [
  {
   "cell_type": "markdown",
   "id": "9434b238-3eac-4a9c-843b-20d044581355",
   "metadata": {},
   "source": [
    "$ pattern 1 \n",
    "# hi iam checking the changes in file \n",
    "# are you ok\n",
    "# ritesh"
   ]
  },
  {
   "cell_type": "code",
   "execution_count": 1,
   "id": "1f8fbb45-e338-4d61-811b-81e0bfc32a0f",
   "metadata": {},
   "outputs": [
    {
     "name": "stdout",
     "output_type": "stream",
     "text": [
      "0\n",
      "1\n",
      "2\n",
      "3\n",
      "4\n",
      "5\n",
      "6\n",
      "7\n",
      "8\n",
      "9\n"
     ]
    }
   ],
   "source": [
    "# if single value mention it means it is the stop value start = 0 end= stop-1 and direction postive\n",
    "for i in range(10):\n",
    "    print(i)"
   ]
  },
  {
   "cell_type": "code",
   "execution_count": 2,
   "id": "066c2ba6-7eda-46b4-8181-7b3c2a42bc86",
   "metadata": {},
   "outputs": [
    {
     "name": "stdout",
     "output_type": "stream",
     "text": [
      "0 1 2 3 4 5 6 7 8 9 "
     ]
    }
   ],
   "source": [
    "# to print in horizontal direction \n",
    "for i in range (10):\n",
    "    print(i, end=\" \")"
   ]
  },
  {
   "cell_type": "markdown",
   "id": "4cce4f18-de0e-4461-99bc-8c4874c1eca4",
   "metadata": {},
   "source": [
    "$ pattern $  $ 2 $"
   ]
  },
  {
   "cell_type": "code",
   "execution_count": 5,
   "id": "baba69cc-7c51-4ca0-93d0-76b1d2497802",
   "metadata": {},
   "outputs": [
    {
     "name": "stdout",
     "output_type": "stream",
     "text": [
      "1 2 3 4 5 6 7 8 9 "
     ]
    }
   ],
   "source": [
    "# direction postive end= stop+1, if no direction mention then direction be default postive step=1\n",
    "for i in range(1,10):\n",
    "    print(i, end=\" \")"
   ]
  },
  {
   "cell_type": "markdown",
   "id": "05f60bf0-92fe-4269-90fa-6a06a59c2e70",
   "metadata": {},
   "source": [
    "#### pattern 3 ####"
   ]
  },
  {
   "cell_type": "code",
   "execution_count": 6,
   "id": "922d132f-64d3-4e33-bdb9-672ef746813a",
   "metadata": {},
   "outputs": [
    {
     "name": "stdout",
     "output_type": "stream",
     "text": [
      "1 3 5 7 9 "
     ]
    }
   ],
   "source": [
    "#if range(start, end, step) mention start =1 end=9 direction postive step =2\n",
    "for i in range(1,10,2):\n",
    "    print(i, end=\" \")"
   ]
  },
  {
   "cell_type": "code",
   "execution_count": 7,
   "id": "4908da49-ae7d-4448-96c7-b22ed7c6b42a",
   "metadata": {},
   "outputs": [
    {
     "name": "stdout",
     "output_type": "stream",
     "text": [
      "-1 -2 -3 -4 -5 -6 -7 -8 -9 "
     ]
    }
   ],
   "source": [
    "# start =-1 end stop+1 -10+1=-9 and step is in negative -1\n",
    "for i in range(-1,-10,-1):\n",
    "    print(i, end=\" \")"
   ]
  },
  {
   "cell_type": "code",
   "execution_count": 8,
   "id": "1cbfa42f-42a3-471a-90de-d7ee80575c56",
   "metadata": {},
   "outputs": [
    {
     "name": "stdout",
     "output_type": "stream",
     "text": [
      "-1 -3 -5 -7 -9 "
     ]
    }
   ],
   "source": [
    "# start =-1 end stop+1 -10+1=-9 and step is in negative -2\n",
    "for i in range(-1,-10,-2):\n",
    "    print(i, end=\" \")"
   ]
  },
  {
   "cell_type": "code",
   "execution_count": 10,
   "id": "15681e5c-1217-4756-a57c-a2934ba12605",
   "metadata": {},
   "outputs": [],
   "source": [
    "# not possibele start =-1 end stop+1= -9 but diretion is default postive  but oour code want to -1 to -9\n",
    "# but direction is in postive direction \n",
    "for i in range(-1,-10):\n",
    "    print(i, end=\" \")"
   ]
  },
  {
   "cell_type": "code",
   "execution_count": 12,
   "id": "ac03614c-85ea-43a9-807f-3f44896e8cea",
   "metadata": {},
   "outputs": [
    {
     "name": "stdout",
     "output_type": "stream",
     "text": [
      "-1 0 1 2 3 4 5 6 7 8 9 "
     ]
    }
   ],
   "source": [
    "for i in range(-1,10,1):\n",
    "    print(i, end=\" \")"
   ]
  },
  {
   "cell_type": "markdown",
   "id": "3283108e-6b72-4973-acab-bd34dcb6159d",
   "metadata": {},
   "source": [
    "#### thusm to possible for loop both code and step direction must be same ####"
   ]
  },
  {
   "cell_type": "code",
   "execution_count": 14,
   "id": "c589d2aa-6d1d-4253-8f69-8e672afeb493",
   "metadata": {},
   "outputs": [],
   "source": [
    "for i in range(1,10,-2):# not possible\n",
    "    print(i, end=\"\" )"
   ]
  },
  {
   "cell_type": "code",
   "execution_count": 15,
   "id": "812a228a-f5ac-4793-8f2f-47c31f87362a",
   "metadata": {},
   "outputs": [],
   "source": [
    "for i in range(-1,10,-2): # not possible\n",
    "    print(i)"
   ]
  },
  {
   "cell_type": "code",
   "execution_count": 16,
   "id": "69652d26-f56b-41e1-a605-50a35299feb0",
   "metadata": {},
   "outputs": [],
   "source": [
    "# creating a reange object"
   ]
  },
  {
   "cell_type": "code",
   "execution_count": 24,
   "id": "0dab546b-15e2-4680-aff4-f862867d269f",
   "metadata": {},
   "outputs": [
    {
     "name": "stdout",
     "output_type": "stream",
     "text": [
      "range(1, 10)\n",
      "4\n"
     ]
    }
   ],
   "source": [
    "r=range(1,10)\n",
    "print(r)\n",
    "# using inex we can access as ragne is index base iterable\n",
    "# it  is immuatable\n",
    "print(r[3])"
   ]
  },
  {
   "cell_type": "code",
   "execution_count": 18,
   "id": "837f046a-a100-438d-8c87-c5d6fd9926a2",
   "metadata": {},
   "outputs": [
    {
     "name": "stdout",
     "output_type": "stream",
     "text": [
      "1\n",
      "2\n",
      "3\n",
      "4\n",
      "5\n",
      "6\n",
      "7\n",
      "8\n",
      "9\n"
     ]
    }
   ],
   "source": [
    "#   to access each element of range use for loop\n",
    "for  i in range(1,10):\n",
    "    print(i)\n",
    "    \n",
    "# each element of itereable store in i then print"
   ]
  },
  {
   "cell_type": "code",
   "execution_count": 27,
   "id": "dc9ced30-ec2e-43a6-ac3c-32c1650fb48a",
   "metadata": {},
   "outputs": [
    {
     "name": "stdin",
     "output_type": "stream",
     "text": [
      "enter number 10\n"
     ]
    },
    {
     "name": "stdout",
     "output_type": "stream",
     "text": [
      "1\n",
      "2\n",
      "3\n",
      "4\n",
      "5\n",
      "6\n",
      "7\n",
      "8\n",
      "9\n",
      "10\n"
     ]
    }
   ],
   "source": [
    "# program to print n even natural numbers\n",
    "n=int(input(\"enter number\"))\n",
    "for i in range(1,n+1):\n",
    "    print(i)"
   ]
  },
  {
   "cell_type": "code",
   "execution_count": 29,
   "id": "9065d1b4-2f4d-437a-96b7-8f3d17732c60",
   "metadata": {},
   "outputs": [
    {
     "name": "stdin",
     "output_type": "stream",
     "text": [
      "enter a number 6\n"
     ]
    },
    {
     "name": "stdout",
     "output_type": "stream",
     "text": [
      "1\n",
      "2\n",
      "3\n",
      "4\n",
      "5\n",
      "6\n"
     ]
    }
   ],
   "source": [
    "# program to print first n  natural numbers or we can directly write input statemnet in range\n",
    "\n",
    "for i in range(1,int(input(\"enter a number\"))+1):\n",
    "    print(i)"
   ]
  },
  {
   "cell_type": "code",
   "execution_count": 30,
   "id": "0c229a41-ea62-4399-969f-80675c3c4092",
   "metadata": {},
   "outputs": [
    {
     "name": "stdin",
     "output_type": "stream",
     "text": [
      "enter a number 10\n"
     ]
    },
    {
     "name": "stdout",
     "output_type": "stream",
     "text": [
      "1 4 9 16 25 36 49 64 81 100 "
     ]
    }
   ],
   "source": [
    "# program to print square of n  natural numbers\n",
    "for i in range(1,int(input(\"enter a number\"))+1):\n",
    "    print(i*i, end=\" \")\n"
   ]
  },
  {
   "cell_type": "code",
   "execution_count": 44,
   "id": "04aebd51-4148-4f37-bfe9-cb7ba32662d2",
   "metadata": {},
   "outputs": [
    {
     "name": "stdin",
     "output_type": "stream",
     "text": [
      "enter a number 18\n"
     ]
    },
    {
     "name": "stdout",
     "output_type": "stream",
     "text": [
      "the evern number are\n",
      "2\n",
      "4\n",
      "6\n",
      "8\n",
      "10\n",
      "12\n",
      "14\n",
      "16\n",
      "18\n"
     ]
    }
   ],
   "source": [
    "# wap to find  till  n  even natural number\n",
    "n=int(input(\"enter a number\"))\n",
    "print(\"the evern number are\")\n",
    "for i in range(2,n+1,2):\n",
    "    print(i)"
   ]
  },
  {
   "cell_type": "code",
   "execution_count": 34,
   "id": "b1b2cfef-7290-4eb0-a317-e165a6c1a916",
   "metadata": {},
   "outputs": [
    {
     "name": "stdin",
     "output_type": "stream",
     "text": [
      "enter a number 10\n"
     ]
    },
    {
     "name": "stdout",
     "output_type": "stream",
     "text": [
      "10\n",
      "9\n",
      "8\n",
      "7\n",
      "6\n",
      "5\n",
      "4\n",
      "3\n",
      "2\n",
      "1\n"
     ]
    }
   ],
   "source": [
    "# wap to find from  a number n  natural number in revese order\n",
    "n=int(input(\"enter a number\"))\n",
    "for i in range(n, 0,-1):\n",
    "    print(i)\n"
   ]
  },
  {
   "cell_type": "code",
   "execution_count": 37,
   "id": "33c2a2c0-e478-44ce-bdd3-b35698ead2bb",
   "metadata": {},
   "outputs": [
    {
     "name": "stdin",
     "output_type": "stream",
     "text": [
      "enter a number 8\n"
     ]
    },
    {
     "name": "stdout",
     "output_type": "stream",
     "text": [
      "8\n",
      "6\n",
      "4\n",
      "2\n"
     ]
    }
   ],
   "source": []
  },
  {
   "cell_type": "code",
   "execution_count": 45,
   "id": "07d2640d-5f2e-407f-94cd-055552682ca2",
   "metadata": {},
   "outputs": [
    {
     "name": "stdin",
     "output_type": "stream",
     "text": [
      "enter a number 5\n"
     ]
    },
    {
     "name": "stdout",
     "output_type": "stream",
     "text": [
      "2\n",
      "4\n",
      "6\n",
      "8\n",
      "10\n"
     ]
    }
   ],
   "source": [
    "# wap to find first n even natural number\n",
    "# five even natural number are 2,4,6,8,10 so it must start 2 and end 5*2\n",
    "n=int(input(\"enter a number\"))\n",
    "for i in range(2,(n*2)+1,2):\n",
    "    print(i)"
   ]
  },
  {
   "cell_type": "code",
   "execution_count": 41,
   "id": "edad9ac3-d27e-4799-a9f2-cbf17db33bf9",
   "metadata": {},
   "outputs": [
    {
     "name": "stdin",
     "output_type": "stream",
     "text": [
      "enter a number 4\n"
     ]
    },
    {
     "name": "stdout",
     "output_type": "stream",
     "text": [
      "8\n",
      "6\n",
      "4\n",
      "2\n"
     ]
    }
   ],
   "source": [
    "# wap to find first n even natural number in reverse order\n",
    "n=int(input(\"enter a number\"))\n",
    "# in reverse if 5 natural numer in rever 10,8...4,2\n",
    "for i in range(n*2,1,-2):\n",
    "    print(i)"
   ]
  },
  {
   "cell_type": "code",
   "execution_count": 53,
   "id": "1f52e4b6-b02c-431e-974c-c18284f6bc36",
   "metadata": {},
   "outputs": [
    {
     "name": "stdin",
     "output_type": "stream",
     "text": [
      "enter a number 5\n"
     ]
    },
    {
     "name": "stdout",
     "output_type": "stream",
     "text": [
      "1 2 3 4 5 the sum is of  first 5 number is 15\n",
      "5\n"
     ]
    }
   ],
   "source": [
    "# wap to find the sum of n natural number\n",
    "add_=0\n",
    "for i in range(1,int(input(\"enter a number\"))+1):\n",
    "    print(i, end=\" \")\n",
    "    add_=add_+i # assingment add is not define\n",
    "print(\"the sum is of  first {} number is {}\".format(n,add_))   \n",
    "\n"
   ]
  },
  {
   "cell_type": "code",
   "execution_count": 62,
   "id": "7b5f2664-5759-4e5e-92ac-338e067c5cc1",
   "metadata": {},
   "outputs": [
    {
     "name": "stdin",
     "output_type": "stream",
     "text": [
      "enter multiple 2\n",
      "enter a number 5\n"
     ]
    },
    {
     "name": "stdout",
     "output_type": "stream",
     "text": [
      "2 4 6 8 10 the sum is of  first 5 of multiple of 2 is 30\n"
     ]
    }
   ],
   "source": [
    "# wap to find the sum of n natural number of muliple x let x=2\n",
    "# n=5 then natural 1,2,3,4,5 and multiple is 2,4,6,8,10 \n",
    "# if x=3 then 3,6,9,12,15\n",
    "# so in this case start value x multiply so it will come 3\n",
    "# so the end value will  15 if enter n=5 it must go to 15 so n*x = 5*3=15\n",
    "# but last value exclude so x*n+1 and step value must be x\n",
    "x=int(input(\"enter multiple\"))\n",
    "n=int(input(\"enter a number\"))\n",
    "add_=0\n",
    "for i in range(1*x,(n*x)+1,x):\n",
    "    print(i, end=\" \")\n",
    "    add_=add_+i # assingment add is not define\n",
    "print(\"the sum is of  first {} of multiple of {} is {}\".format(n,x,add_))"
   ]
  },
  {
   "cell_type": "markdown",
   "id": "fc9f23c8-b5cb-42be-84de-b838583d4ac9",
   "metadata": {},
   "source": [
    "### match case ###\n",
    "- syntax match expression :\n",
    "                case constant 1\n",
    "                case constant 2\n",
    "- the value of expression match any one case that will run case constant value can be of any type\n",
    "- the constant can be int float complex string\n",
    "- we can write condition also in case constant\n",
    "- "
   ]
  },
  {
   "cell_type": "code",
   "execution_count": 66,
   "id": "94792948-858d-47c4-a757-08e43c1de532",
   "metadata": {},
   "outputs": [
    {
     "name": "stdin",
     "output_type": "stream",
     "text": [
      "enter a number 7+4j\n"
     ]
    },
    {
     "name": "stdout",
     "output_type": "stream",
     "text": [
      "complex\n",
      "out side match block\n"
     ]
    }
   ],
   "source": [
    "x=eval(input(\"enter a number\"))\n",
    "match x:\n",
    "    case 2:\n",
    "        print(\"the firest one\")\n",
    "    case 4.5:\n",
    "        print(\"float\")\n",
    "    case 7+4J:\n",
    "        print(\"complex\")\n",
    "print(\"out side match block\")        \n"
   ]
  },
  {
   "cell_type": "markdown",
   "id": "cfdcd957-3051-4249-b106-9f408e853f3d",
   "metadata": {},
   "source": [
    "### default  case _ ### "
   ]
  },
  {
   "cell_type": "code",
   "execution_count": 68,
   "id": "9cd81216-fe0a-4a02-92c5-00c6c89a7022",
   "metadata": {},
   "outputs": [
    {
     "name": "stdin",
     "output_type": "stream",
     "text": [
      "enter a number 5\n"
     ]
    },
    {
     "name": "stdout",
     "output_type": "stream",
     "text": [
      "no match found\n",
      "out side match block\n"
     ]
    }
   ],
   "source": [
    "# if no match found then default will run\n",
    "\n",
    "x=eval(input(\"enter a number\"))\n",
    "match x:\n",
    "    case 2:\n",
    "        print(\"the firest one\")\n",
    "    case 4.5:\n",
    "        print(\"float\")\n",
    "    case 7+4J:\n",
    "        print(\"complex\")\n",
    "    case _:\n",
    "        print(\"no match found\")\n",
    "\n",
    "        \n",
    "print(\"out side match block\")        "
   ]
  },
  {
   "cell_type": "code",
   "execution_count": 84,
   "id": "44168f89-a49a-4a97-bdce-0973ffbe1fde",
   "metadata": {},
   "outputs": [
    {
     "ename": "SyntaxError",
     "evalue": "name capture 'x' makes remaining patterns unreachable (3832380950.py, line 6)",
     "output_type": "error",
     "traceback": [
      "\u001b[1;36m  Cell \u001b[1;32mIn[84], line 6\u001b[1;36m\u001b[0m\n\u001b[1;33m    case x:\u001b[0m\n\u001b[1;37m         ^\u001b[0m\n\u001b[1;31mSyntaxError\u001b[0m\u001b[1;31m:\u001b[0m name capture 'x' makes remaining patterns unreachable\n"
     ]
    }
   ],
   "source": [
    "## write constant in case not variable\n",
    "y=8\n",
    "match y:\n",
    "    case y:\n",
    "        print(\"the firest one\")\n",
    "    case x:\n",
    "        print(\"float\")\n",
    "    case z:\n",
    "        print(\"complex\")\n",
    "    case _:\n",
    "        print(\"no match found\")\n",
    "\n",
    "        \n",
    "print(\"out side match block\") "
   ]
  },
  {
   "cell_type": "code",
   "execution_count": 76,
   "id": "0349ac53-ec28-4b5a-91b0-3cfce86b040d",
   "metadata": {},
   "outputs": [
    {
     "name": "stdin",
     "output_type": "stream",
     "text": [
      "enter a number 1\n"
     ]
    },
    {
     "name": "stdout",
     "output_type": "stream",
     "text": [
      "no match found\n",
      "out side match block\n"
     ]
    }
   ],
   "source": [
    "# we can write condition in case\n",
    "x=eval(input(\"enter a number\"))\n",
    "match x:\n",
    "    case x if x==5:\n",
    "        print(\"integer\")\n",
    "    case x if x==5.5:\n",
    "        print(\"float\")\n",
    "    case x if x==4+7j:\n",
    "        print(\"complex\")\n",
    "    case _: # default when no match found\n",
    "        print(\"no match found\")\n",
    "\n",
    "        \n",
    "print(\"out side match block\") "
   ]
  },
  {
   "cell_type": "markdown",
   "id": "71f3be2f-d2d0-4a87-9af7-2b6445ccdace",
   "metadata": {},
   "source": [
    "- match case are soft keywords you can use them as variable name and function\n",
    "- only  in match case block they work as keyword otherwise they  are not keyword \n",
    "- you can use them as varialbe name"
   ]
  },
  {
   "cell_type": "code",
   "execution_count": 79,
   "id": "12c843ce-c410-479d-9180-4642e84dc388",
   "metadata": {},
   "outputs": [
    {
     "name": "stdin",
     "output_type": "stream",
     "text": [
      "enter which operation you want to perform from + , - , * , / =\n"
     ]
    },
    {
     "name": "stdout",
     "output_type": "stream",
     "text": [
      "enter valid  opeateion \n"
     ]
    }
   ],
   "source": [
    "# find the sum usign match case\n",
    "op=input(\"enter which operation you want to perform from + , - , * , /\")\n",
    "match op:\n",
    "    case \"+\":\n",
    "        a=eval(input(\"enter a number\"))\n",
    "        b=eval(input(\"enter second number\"))\n",
    "        print(\"the sum is \", a+b)\n",
    "    case \"-\":\n",
    "        a=eval(input(\"enter a number\"))\n",
    "        b=eval(input(\"enter second number\"))\n",
    "        print(\"the subtraction is\", a-b)\n",
    "    case \"*\":\n",
    "        a=eval(input(\"enter a number\"))\n",
    "        b=eval(input(\"enter second number\"))\n",
    "        print(\"the multiplication is\", a*b)\n",
    "    case \"/\":\n",
    "        a=eval(input(\"enter a number\"))\n",
    "        b=eval(input(\"enter second number\"))\n",
    "        print(\"the divison is\", a/b)\n",
    "    case _:\n",
    "        print(\"enter valid  opeateion \")\n",
    "        \n",
    "        \n",
    "        \n",
    "        \n",
    "        \n",
    "    "
   ]
  },
  {
   "cell_type": "code",
   "execution_count": 86,
   "id": "a323d3ef-5ec2-4304-a151-1a3e5a48ecfa",
   "metadata": {},
   "outputs": [
    {
     "name": "stdin",
     "output_type": "stream",
     "text": [
      "enter a number 2\n"
     ]
    },
    {
     "name": "stdout",
     "output_type": "stream",
     "text": [
      "the firest one\n",
      "out side match block\n"
     ]
    }
   ],
   "source": [
    "#if two constand having the same constant value then first will run other will skip\n",
    "x=eval(input(\"enter a number\"))\n",
    "match x:\n",
    "    case 2:\n",
    "        print(\"the firest one\")\n",
    "    case 2:\n",
    "        print(\"second\")\n",
    "    case 7+4J:\n",
    "        print(\"complex\")\n",
    "    case _:\n",
    "        print(\"no match found\")\n",
    "\n",
    "        \n",
    "print(\"out side match block\")    "
   ]
  },
  {
   "cell_type": "code",
   "execution_count": 88,
   "id": "7d8d0600-0e42-4f9b-9e37-a65bfa4c0561",
   "metadata": {},
   "outputs": [
    {
     "name": "stdout",
     "output_type": "stream",
     "text": [
      "hello hello hello hello \n"
     ]
    }
   ],
   "source": [
    "print(\"hello \"*4)"
   ]
  },
  {
   "cell_type": "code",
   "execution_count": 1,
   "id": "7bc04e44-96e4-4594-99c5-16ece633c253",
   "metadata": {},
   "outputs": [
    {
     "name": "stdout",
     "output_type": "stream",
     "text": [
      "hello\n",
      "hello\n",
      "hello\n"
     ]
    }
   ],
   "source": [
    "# wap to print hello 3 times\n",
    "for i in range(3):\n",
    "    print(\"hello\")"
   ]
  },
  {
   "cell_type": "code",
   "execution_count": 2,
   "id": "c4acddf3-7469-4bf0-a0ca-f2d0fde6bd9c",
   "metadata": {},
   "outputs": [
    {
     "name": "stdout",
     "output_type": "stream",
     "text": [
      "A\n",
      "A\n",
      "A\n",
      "B\n",
      "B\n",
      "C\n",
      "C\n",
      "C\n"
     ]
    }
   ],
   "source": [
    "for i in range(3):\n",
    "    print(\"A\")\n",
    "for i in range(2):\n",
    "    print(\"B\")\n",
    "for i in range(3):\n",
    "    print(\"C\")"
   ]
  },
  {
   "cell_type": "code",
   "execution_count": null,
   "id": "c57d5b77-3be2-43f1-86a4-7e8cf30fb86b",
   "metadata": {},
   "outputs": [],
   "source": [
    "# A\n",
    "# B\n",
    "# A\n",
    "# B\n",
    "# A\n",
    "# B\n",
    "# C\n",
    "# C\n",
    "# C"
   ]
  },
  {
   "cell_type": "code",
   "execution_count": 3,
   "id": "d5d5c3e7-fbf9-4eeb-a249-1ef02473a4d1",
   "metadata": {},
   "outputs": [
    {
     "name": "stdout",
     "output_type": "stream",
     "text": [
      "A\n",
      "B\n",
      "A\n",
      "B\n",
      "A\n",
      "B\n",
      "C\n",
      "C\n",
      "C\n"
     ]
    }
   ],
   "source": [
    "for i in range(3):\n",
    "    print(\"A\")\n",
    "    print(\"B\")\n",
    "for i in range(3):\n",
    "    print(\"C\")"
   ]
  },
  {
   "cell_type": "code",
   "execution_count": null,
   "id": "8beb0a98-f7c1-44a2-940e-2d72a32f2867",
   "metadata": {},
   "outputs": [],
   "source": [
    "# WAP ask the user to get the square of the numbers\n",
    "# between 10 to 15"
   ]
  },
  {
   "cell_type": "code",
   "execution_count": 4,
   "id": "e30dda3c-d15b-473e-84b3-a41cb59ce092",
   "metadata": {},
   "outputs": [
    {
     "name": "stdout",
     "output_type": "stream",
     "text": [
      "Square of 10 is 100\n",
      "Square of 11 is 121\n",
      "Square of 12 is 144\n",
      "Square of 13 is 169\n",
      "Square of 14 is 196\n",
      "Square of 15 is 225\n"
     ]
    }
   ],
   "source": [
    "for i in range(10,16):\n",
    "    print(\"Square of {} is {}\".format(i,i*i))"
   ]
  },
  {
   "cell_type": "code",
   "execution_count": null,
   "id": "c8a64fe5-8f6a-4f86-af53-14b444c79b0c",
   "metadata": {},
   "outputs": [],
   "source": [
    "# the same above question\n",
    "# take the numbers from keyboard\n",
    "# num1=eval(input()) 10\n",
    "# num2=eval(input()) 16\n",
    "# replace 10,16 in for loop with variables num1,num2"
   ]
  },
  {
   "cell_type": "code",
   "execution_count": 7,
   "id": "1fe47ee2-8b7c-4325-9313-587f39a7e192",
   "metadata": {},
   "outputs": [
    {
     "name": "stdin",
     "output_type": "stream",
     "text": [
      " enter starting number 10\n",
      "enter the end number 20\n"
     ]
    },
    {
     "name": "stdout",
     "output_type": "stream",
     "text": [
      "Square of 10 is 100\n",
      "Square of 11 is 121\n",
      "Square of 12 is 144\n",
      "Square of 13 is 169\n",
      "Square of 14 is 196\n",
      "Square of 15 is 225\n",
      "Square of 16 is 256\n",
      "Square of 17 is 289\n",
      "Square of 18 is 324\n",
      "Square of 19 is 361\n",
      "Square of 20 is 400\n"
     ]
    }
   ],
   "source": [
    "num1=eval(input(\" enter starting number\"))\n",
    "num2=eval(input(\"enter the end number\"))\n",
    "for i in range(num1,num2+1):\n",
    "        print(\"Square of {} is {}\".format(i,i*i))"
   ]
  },
  {
   "cell_type": "code",
   "execution_count": null,
   "id": "62941025-8a8e-4160-a665-3208d2c4cfb6",
   "metadata": {},
   "outputs": [],
   "source": [
    "# we can also intialize the variable in range function also "
   ]
  },
  {
   "cell_type": "code",
   "execution_count": 10,
   "id": "f3f34cf8-9afb-4d78-b4b0-fe3b5bbc5ba8",
   "metadata": {},
   "outputs": [
    {
     "name": "stdin",
     "output_type": "stream",
     "text": [
      "Enter the starting number 10\n",
      "enter the last number 15\n"
     ]
    },
    {
     "name": "stdout",
     "output_type": "stream",
     "text": [
      "Square of 10 is 100\n",
      "Square of 11 is 121\n",
      "Square of 12 is 144\n",
      "Square of 13 is 169\n",
      "Square of 14 is 196\n",
      "Square of 15 is 225\n"
     ]
    }
   ],
   "source": [
    "for i in range(eval(input(\"Enter the starting number\")),eval(input(\"enter the last number\"))+1):\n",
    "        print(\"Square of {} is {}\".format(i,i*i))"
   ]
  },
  {
   "cell_type": "code",
   "execution_count": null,
   "id": "7c2389a6-9d58-4953-9b3c-81252fa4c39b",
   "metadata": {},
   "outputs": [],
   "source": [
    "# wap with function to calculate the square of number between two number without arguemnent\n"
   ]
  },
  {
   "cell_type": "code",
   "execution_count": 11,
   "id": "2d98f970-5c4b-4313-856a-58e59db3edc1",
   "metadata": {},
   "outputs": [
    {
     "name": "stdin",
     "output_type": "stream",
     "text": [
      "enter first number 1\n",
      "enter end number 10\n"
     ]
    },
    {
     "name": "stdout",
     "output_type": "stream",
     "text": [
      "the squre of 1 is 1\n",
      "the squre of 2 is 4\n",
      "the squre of 3 is 9\n",
      "the squre of 4 is 16\n",
      "the squre of 5 is 25\n",
      "the squre of 6 is 36\n",
      "the squre of 7 is 49\n",
      "the squre of 8 is 64\n",
      "the squre of 9 is 81\n",
      "the squre of 10 is 100\n"
     ]
    }
   ],
   "source": [
    "def square():\n",
    "    for i in  range(eval(input(\"enter first number\")), eval(input(\"enter end number\"))+1):\n",
    "        print(\"the squre of {} is {}\".format(i,i*i))\n",
    "square()        "
   ]
  },
  {
   "cell_type": "code",
   "execution_count": 12,
   "id": "bf1b9bdc-f838-40b3-bc34-c8c1cd18aca9",
   "metadata": {},
   "outputs": [
    {
     "name": "stdin",
     "output_type": "stream",
     "text": [
      "enter start number 1\n",
      "enter the last number 10\n"
     ]
    },
    {
     "name": "stdout",
     "output_type": "stream",
     "text": [
      "the squre of 1 is 1\n",
      "the squre of 2 is 4\n",
      "the squre of 3 is 9\n",
      "the squre of 4 is 16\n",
      "the squre of 5 is 25\n",
      "the squre of 6 is 36\n",
      "the squre of 7 is 49\n",
      "the squre of 8 is 64\n",
      "the squre of 9 is 81\n",
      "the squre of 10 is 100\n"
     ]
    }
   ],
   "source": [
    "def square():\n",
    "    num1=eval(input(\"enter start number\"))\n",
    "    num2=eval(input(\"enter the last number\"))\n",
    "    for i in  range(num1,num2+1):\n",
    "        print(\"the squre of {} is {}\".format(i,i*i))\n",
    "square()  "
   ]
  },
  {
   "cell_type": "code",
   "execution_count": 15,
   "id": "8c9b37ff-bea6-478e-8109-7c369ddc2ea1",
   "metadata": {},
   "outputs": [
    {
     "name": "stdin",
     "output_type": "stream",
     "text": [
      "enter start number 1\n",
      "enter the last number 10\n"
     ]
    },
    {
     "name": "stdout",
     "output_type": "stream",
     "text": [
      "the squre of 1 is 1\n",
      "the squre of 2 is 4\n",
      "the squre of 3 is 9\n",
      "the squre of 4 is 16\n",
      "the squre of 5 is 25\n",
      "the squre of 6 is 36\n",
      "the squre of 7 is 49\n",
      "the squre of 8 is 64\n",
      "the squre of 9 is 81\n",
      "the squre of 10 is 100\n"
     ]
    }
   ],
   "source": [
    "# function with arguments of square program\n",
    "num3=eval(input(\"enter start number\"))\n",
    "num4=eval(input(\"enter the last number\"))\n",
    "def square(x,y):\n",
    "    for i in  range(x,y+1):\n",
    "        print(\"the squre of {} is {}\".format(i,i*i))\n",
    "        \n",
    "square(num3,num4)  "
   ]
  },
  {
   "cell_type": "code",
   "execution_count": null,
   "id": "2bddfd61-fc76-40d4-a7f8-a2cda48f6d63",
   "metadata": {},
   "outputs": [],
   "source": [
    "# Wap ask the user to print square of the five numbers\n",
    "# and these five numbers you need ask user every time"
   ]
  },
  {
   "cell_type": "code",
   "execution_count": 17,
   "id": "ac57e901-6f8c-459c-aa18-fde2bd11c015",
   "metadata": {},
   "outputs": [
    {
     "name": "stdin",
     "output_type": "stream",
     "text": [
      "enter a number which square you want 1\n"
     ]
    },
    {
     "name": "stdout",
     "output_type": "stream",
     "text": [
      "the square of 1 is 1\n"
     ]
    },
    {
     "name": "stdin",
     "output_type": "stream",
     "text": [
      "enter a number which square you want 2\n"
     ]
    },
    {
     "name": "stdout",
     "output_type": "stream",
     "text": [
      "the square of 2 is 4\n"
     ]
    },
    {
     "name": "stdin",
     "output_type": "stream",
     "text": [
      "enter a number which square you want 4\n"
     ]
    },
    {
     "name": "stdout",
     "output_type": "stream",
     "text": [
      "the square of 4 is 16\n"
     ]
    },
    {
     "name": "stdin",
     "output_type": "stream",
     "text": [
      "enter a number which square you want 10\n"
     ]
    },
    {
     "name": "stdout",
     "output_type": "stream",
     "text": [
      "the square of 10 is 100\n"
     ]
    },
    {
     "name": "stdin",
     "output_type": "stream",
     "text": [
      "enter a number which square you want 100\n"
     ]
    },
    {
     "name": "stdout",
     "output_type": "stream",
     "text": [
      "the square of 100 is 10000\n"
     ]
    }
   ],
   "source": [
    "for i in range(5):\n",
    "    num=eval(input(\"enter a number which square you want\"))\n",
    "    print(\"the square of {} is {}\".format(num,num*num))\n"
   ]
  },
  {
   "cell_type": "code",
   "execution_count": null,
   "id": "c5cefe02-38a5-430e-bebf-0afd05cc7eb3",
   "metadata": {},
   "outputs": [],
   "source": [
    "# WAP ask the user to print five times square of a number\n",
    "# this time you need to take every time a random number between 1 to 20"
   ]
  },
  {
   "cell_type": "code",
   "execution_count": 21,
   "id": "7a4dae2a-772b-41cc-a1e8-6a26ec363457",
   "metadata": {},
   "outputs": [
    {
     "name": "stdout",
     "output_type": "stream",
     "text": [
      "the square of number 12 is 144\n",
      "the square of number 12 is 144\n",
      "the square of number 12 is 144\n",
      "the square of number 12 is 144\n",
      "the square of number 12 is 144\n"
     ]
    }
   ],
   "source": [
    "import random\n",
    "random_num=random.randint(1,20)\n",
    "for i in range(5):\n",
    "    print(\"the square of number {} is {}\".format(random_num,random_num*random_num))\n",
    "    \n",
    "    \n",
    "    "
   ]
  },
  {
   "cell_type": "code",
   "execution_count": 25,
   "id": "51fe35a8-28c1-43a3-b28b-4acac9f22585",
   "metadata": {},
   "outputs": [
    {
     "name": "stdout",
     "output_type": "stream",
     "text": [
      "the square of number 12 is 144\n",
      "the square of number 10 is 100\n",
      "the square of number 2 is 4\n",
      "the square of number 14 is 196\n",
      "the square of number 3 is 9\n"
     ]
    }
   ],
   "source": [
    "# WAP ask the user to print square of five  numbers\n",
    "# this time you need to take every time a random number between 1 to 20\n",
    "\n",
    "import random\n",
    "for i in range(5):\n",
    "    random_num=random.randint(1,20)\n",
    "    print(\"the square of number {} is {}\".format(random_num,random_num*random_num))\n",
    "    \n",
    "    \n",
    "    "
   ]
  },
  {
   "cell_type": "code",
   "execution_count": null,
   "id": "c3a32ccf-1eaf-4f1e-9b5f-611c183bece3",
   "metadata": {},
   "outputs": [],
   "source": [
    "# WAP ask the user print the given number is even or odd\n",
    "# you need to take the number between 10 30"
   ]
  },
  {
   "cell_type": "code",
   "execution_count": 26,
   "id": "cf233900-055d-496a-b108-893041c7931c",
   "metadata": {},
   "outputs": [
    {
     "name": "stdout",
     "output_type": "stream",
     "text": [
      "Number 10 is even\n",
      "Number 11 is odd\n",
      "Number 12 is even\n",
      "Number 13 is odd\n",
      "Number 14 is even\n",
      "Number 15 is odd\n",
      "Number 16 is even\n",
      "Number 17 is odd\n",
      "Number 18 is even\n",
      "Number 19 is odd\n",
      "Number 20 is even\n",
      "Number 21 is odd\n",
      "Number 22 is even\n",
      "Number 23 is odd\n",
      "Number 24 is even\n",
      "Number 25 is odd\n",
      "Number 26 is even\n",
      "Number 27 is odd\n",
      "Number 28 is even\n",
      "Number 29 is odd\n",
      "Number 30 is even\n"
     ]
    }
   ],
   "source": [
    "for i in range(10,31):\n",
    "    if i%2==0:\n",
    "        print(\"Number {} is even\".format(i))\n",
    "    else:\n",
    "        print(\"Number {} is odd\".format(i))"
   ]
  },
  {
   "cell_type": "code",
   "execution_count": null,
   "id": "0bcb3cbf-571b-49a4-b8ba-7f9ecd90d6a6",
   "metadata": {},
   "outputs": [],
   "source": [
    "# WAP ask the user print the given number is even or odd\n",
    "# you need to take the number between randomly between 10 and 30\n",
    "# this process you need to 5 times"
   ]
  },
  {
   "cell_type": "code",
   "execution_count": 28,
   "id": "278c66ff-de0e-4d66-86b3-4038ba70173b",
   "metadata": {},
   "outputs": [
    {
     "name": "stdout",
     "output_type": "stream",
     "text": [
      "the number 24 is even\n",
      "the number 10 is even\n",
      "The number 11 is odd\n",
      "the number 28 is even\n",
      "the number 20 is even\n"
     ]
    }
   ],
   "source": [
    "import random\n",
    "for i in range(5):\n",
    "    num11=random.randint(10,31)\n",
    "    if num11%2==0:\n",
    "        print(\"the number {} is even\".format(num11))\n",
    "    else:\n",
    "        print(\"The number {} is odd\".format(num11))\n",
    "\n",
    "    "
   ]
  },
  {
   "cell_type": "code",
   "execution_count": null,
   "id": "d8a1e171-9e96-4df3-8658-b78123a1e218",
   "metadata": {},
   "outputs": [],
   "source": [
    "# using function with argument"
   ]
  },
  {
   "cell_type": "code",
   "execution_count": 32,
   "id": "306ce725-7e2d-4340-8f5b-82b6c5881530",
   "metadata": {},
   "outputs": [
    {
     "name": "stdout",
     "output_type": "stream",
     "text": [
      "the number 12 is even\n",
      "the number 20 is even\n",
      "The number 13 is odd\n",
      "the number 28 is even\n",
      "The number 19 is odd\n"
     ]
    }
   ],
   "source": [
    "import random\n",
    "\n",
    "def even_odd(num33):\n",
    "    if num33%2==0:\n",
    "        print(\"the number {} is even\".format(num33))\n",
    "    else:\n",
    "        print(\"The number {} is odd\".format(num33))   \n",
    "for i in range(5):\n",
    "    num33=random.randint(10,31)\n",
    "    even_odd(num33)        "
   ]
  },
  {
   "cell_type": "code",
   "execution_count": null,
   "id": "da51df7b-c519-45ee-8e3b-ad897a3fe046",
   "metadata": {},
   "outputs": [],
   "source": [
    "# without arguement "
   ]
  },
  {
   "cell_type": "code",
   "execution_count": 36,
   "id": "4641665a-d321-4af4-a373-0d7ff0ca1460",
   "metadata": {},
   "outputs": [
    {
     "name": "stdout",
     "output_type": "stream",
     "text": [
      "The number 11 is odd\n",
      "The number 21 is odd\n",
      "The number 31 is odd\n",
      "the number 16 is even\n",
      "the number 30 is even\n"
     ]
    }
   ],
   "source": [
    "import random\n",
    "\n",
    "def even_odd():\n",
    "    for i in range(5):\n",
    "        num33=random.randint(10,31)\n",
    "        if num33%2==0:\n",
    "            print(\"the number {} is even\".format(num33))\n",
    "        else:\n",
    "            print(\"The number {} is odd\".format(num33))   \n",
    "\n",
    "even_odd()       "
   ]
  },
  {
   "cell_type": "code",
   "execution_count": null,
   "id": "226104c9-44ed-4f8c-87fe-9dc927390297",
   "metadata": {},
   "outputs": [],
   "source": [
    "# take a random number from random package between 1 to 10\n",
    "# ========= you need to repat 3 times============\n",
    "# ask the user enter a number between 1 to 10\n",
    "# if the number == random number:\n",
    "# print('you won')\n",
    "# else:\n",
    "# print('you lost')"
   ]
  },
  {
   "cell_type": "code",
   "execution_count": 39,
   "id": "af774719-bb55-4eee-b12f-d355edc15a1a",
   "metadata": {},
   "outputs": [
    {
     "name": "stdin",
     "output_type": "stream",
     "text": [
      "enter a number between 1 to 10 :  1\n"
     ]
    },
    {
     "name": "stdout",
     "output_type": "stream",
     "text": [
      "you loss as the number which you enter is 1 and random number  is 9\n"
     ]
    },
    {
     "name": "stdin",
     "output_type": "stream",
     "text": [
      "enter a number between 1 to 10 :  2\n"
     ]
    },
    {
     "name": "stdout",
     "output_type": "stream",
     "text": [
      "you loss as the number which you enter is 2 and random number  is 1\n"
     ]
    },
    {
     "name": "stdin",
     "output_type": "stream",
     "text": [
      "enter a number between 1 to 10 :  4\n"
     ]
    },
    {
     "name": "stdout",
     "output_type": "stream",
     "text": [
      "you loss as the number which you enter is 4 and random number  is 2\n",
      "Game Over !\n"
     ]
    }
   ],
   "source": [
    "import random \n",
    "for i in range(3):\n",
    "    x=random.randint(1,10)\n",
    "    y=eval(input(\"enter a number between 1 to 10 : \"))\n",
    "    if x==y:\n",
    "        print(\"you won as both number is {}\".format(x))\n",
    "        break # to break the loop as once you win you does not want to continue to ask the number again\n",
    "    else:\n",
    "        print(\"you loss as the number which you enter is {} and random number  is {}\".format(y,x))\n",
    "print(\"Game Over !\")        \n",
    "    \n",
    "    "
   ]
  },
  {
   "cell_type": "code",
   "execution_count": null,
   "id": "a027bba6-68f2-40b4-a1fc-9de79da906b1",
   "metadata": {},
   "outputs": [],
   "source": [
    "# random number genearate one time and you have three attempt"
   ]
  },
  {
   "cell_type": "code",
   "execution_count": 42,
   "id": "cdb07e7c-99c9-4766-84d5-4a708aee6c59",
   "metadata": {},
   "outputs": [
    {
     "name": "stdin",
     "output_type": "stream",
     "text": [
      "enter a number between 1 to 10 :  1\n"
     ]
    },
    {
     "name": "stdout",
     "output_type": "stream",
     "text": [
      "you loss\n"
     ]
    },
    {
     "name": "stdin",
     "output_type": "stream",
     "text": [
      "enter a number between 1 to 10 :  2\n"
     ]
    },
    {
     "name": "stdout",
     "output_type": "stream",
     "text": [
      "you loss\n"
     ]
    },
    {
     "name": "stdin",
     "output_type": "stream",
     "text": [
      "enter a number between 1 to 10 :  2\n"
     ]
    },
    {
     "name": "stdout",
     "output_type": "stream",
     "text": [
      "you loss\n",
      "Game Over !\n"
     ]
    }
   ],
   "source": [
    "import random \n",
    "x=random.randint(1,10)\n",
    "for i in range(3):\n",
    "    y=eval(input(\"enter a number between 1 to 10 : \"))\n",
    "    if x==y:\n",
    "        print(\"you won as both number is {}\".format(x))\n",
    "        break \n",
    "    else:\n",
    "        print(\"you loss\")\n",
    "print(\"Game Over !\")        \n",
    "    "
   ]
  },
  {
   "cell_type": "code",
   "execution_count": null,
   "id": "36c4a6b7-bd2c-4583-9208-0b01ceec3c60",
   "metadata": {},
   "outputs": [],
   "source": [
    "import random \n",
    "x=random.randint(1,10)\n",
    "for i in range(3):\n",
    "    y=eval(input(\"enter a number between 1 to 10 : \"))\n",
    "    if x==y:\n",
    "        print(\"you won as both number is {}\".format(x))\n",
    "        break \n",
    "    else:\n",
    "        print(\"you loss\" )\n",
    "print(\"Game Over !\")     "
   ]
  },
  {
   "cell_type": "code",
   "execution_count": null,
   "id": "83ea4856-0f84-48c7-adcc-edcab22f87ea",
   "metadata": {},
   "outputs": [],
   "source": [
    "# we need to print the number of chances left"
   ]
  },
  {
   "cell_type": "code",
   "execution_count": 43,
   "id": "91e28766-f335-4207-87b8-682ac26b4fd0",
   "metadata": {},
   "outputs": [
    {
     "name": "stdin",
     "output_type": "stream",
     "text": [
      "enter a number between 1 to 10 :  1\n"
     ]
    },
    {
     "name": "stdout",
     "output_type": "stream",
     "text": [
      "you loss the number of channce is left: 2\n"
     ]
    },
    {
     "name": "stdin",
     "output_type": "stream",
     "text": [
      "enter a number between 1 to 10 :  2\n"
     ]
    },
    {
     "name": "stdout",
     "output_type": "stream",
     "text": [
      "you loss the number of channce is left: 1\n"
     ]
    },
    {
     "name": "stdin",
     "output_type": "stream",
     "text": [
      "enter a number between 1 to 10 :  4\n"
     ]
    },
    {
     "name": "stdout",
     "output_type": "stream",
     "text": [
      "you loss the number of channce is left: 0\n",
      "Game Over !\n"
     ]
    }
   ],
   "source": [
    "import random \n",
    "x=random.randint(1,10)\n",
    "for i in range(3):\n",
    "    y=eval(input(\"enter a number between 1 to 10 : \"))\n",
    "    if x==y:\n",
    "        print(\"you won as both number is {}\".format(x))\n",
    "        break \n",
    "    else:\n",
    "        print(\"you loss the number of channce is left:\",3-1-i ) # last= stop-1-i\n",
    "print(\"Game Over !\")   "
   ]
  },
  {
   "cell_type": "code",
   "execution_count": null,
   "id": "62ad945e-0932-4113-9302-37a369b624b0",
   "metadata": {},
   "outputs": [],
   "source": [
    "# in generallise form "
   ]
  },
  {
   "cell_type": "code",
   "execution_count": 50,
   "id": "314981b3-8ee9-4337-9638-14055d3e1ee3",
   "metadata": {},
   "outputs": [
    {
     "name": "stdin",
     "output_type": "stream",
     "text": [
      "enter number of chance 1\n",
      "enter a number between 1 to 10 :  2\n"
     ]
    },
    {
     "name": "stdout",
     "output_type": "stream",
     "text": [
      "you loss the number of channce is left: 0\n",
      "Game over !\n"
     ]
    }
   ],
   "source": [
    "import random \n",
    "x=random.randint(1,10)\n",
    "chances=eval(input(\"enter number of chance\"))# no of chance you  want to provide that many time loop will execute\n",
    "for i in range(chances):\n",
    "    y=eval(input(\"enter a number between 1 to 10 : \"))\n",
    "    if x==y:\n",
    "        print(\"you won as both number is {}\".format(x))\n",
    "        break \n",
    "    else:\n",
    "        print(\"you loss the number of channce is left:\",chances-1-i ) # last= stop-1-i\n",
    "print(\"Game over !\")\n"
   ]
  },
  {
   "cell_type": "code",
   "execution_count": null,
   "id": "cc626eb1-816c-4435-b3ee-90bac43bb03c",
   "metadata": {},
   "outputs": [],
   "source": [
    "# Improvise above code\n",
    "# whenever the user lost all the chances\n",
    "# it should print all the chances are over\n",
    "# print('pls try again after 10mins')\n",
    "# Hint:\n",
    "# you need to provide one more condtion"
   ]
  },
  {
   "cell_type": "code",
   "execution_count": 64,
   "id": "0d3a7a75-0dca-455a-9c9d-c4943c5ef07f",
   "metadata": {},
   "outputs": [
    {
     "name": "stdin",
     "output_type": "stream",
     "text": [
      "enter number of chance 3\n",
      "enter a number between 1 to 10 :  1\n"
     ]
    },
    {
     "name": "stdout",
     "output_type": "stream",
     "text": [
      "you loss\n",
      "the number the number of chances is left 2\n",
      "----------------------------------------------------------\n"
     ]
    },
    {
     "name": "stdin",
     "output_type": "stream",
     "text": [
      "enter a number between 1 to 10 :  2\n"
     ]
    },
    {
     "name": "stdout",
     "output_type": "stream",
     "text": [
      "you loss\n",
      "the number the number of chances is left 1\n",
      "----------------------------------------------------------\n"
     ]
    },
    {
     "name": "stdin",
     "output_type": "stream",
     "text": [
      "enter a number between 1 to 10 :  4\n"
     ]
    },
    {
     "name": "stdout",
     "output_type": "stream",
     "text": [
      "you loss\n",
      "No attempt left please try again after some\n",
      "----------------------------------------------------------\n",
      "Game over !\n"
     ]
    }
   ],
   "source": [
    "### import random \n",
    "x=random.randint(1,10)\n",
    "chances=eval(input(\"enter number of chance\"))# no of chance you  want to provide that many time loop will execute\n",
    "for i in range(chances):\n",
    "    y=eval(input(\"enter a number between 1 to 10 : \"))\n",
    "    if x==y:\n",
    "        print(\"you won as both number is {}\".format(x))\n",
    "        break \n",
    "    else:\n",
    "        print(\"you loss\")\n",
    "        if i==chances-1: #  because the last loop i value is equal to end value of chances which stop-1 chances is stop \n",
    "            print(\"No attempt left please try again after some\")\n",
    "        else:    \n",
    "            print(\"the number the number of chances is left\", chances-1-i)\n",
    "        print(\"----------------------------------------------------------\")    \n",
    "        \n",
    "            \n",
    "        \n",
    "print(\"Game over !\")"
   ]
  },
  {
   "cell_type": "markdown",
   "id": "b45f398d-f9e3-4d8e-89d7-d306778f008a",
   "metadata": {},
   "source": [
    "#### another way this is best ####"
   ]
  },
  {
   "cell_type": "code",
   "execution_count": 69,
   "id": "34ccd9a2-91ba-4a9b-b04b-5c30ec1023b0",
   "metadata": {},
   "outputs": [
    {
     "name": "stdin",
     "output_type": "stream",
     "text": [
      "enter number of chance 4\n",
      "enter a number between 1 to 10 :  1\n"
     ]
    },
    {
     "name": "stdout",
     "output_type": "stream",
     "text": [
      "You loss the number of chances is left: 3\n",
      "-----------------------------------------------------\n"
     ]
    },
    {
     "name": "stdin",
     "output_type": "stream",
     "text": [
      "enter a number between 1 to 10 :  2\n"
     ]
    },
    {
     "name": "stdout",
     "output_type": "stream",
     "text": [
      "You loss the number of chances is left: 2\n",
      "-----------------------------------------------------\n"
     ]
    },
    {
     "name": "stdin",
     "output_type": "stream",
     "text": [
      "enter a number between 1 to 10 :  3\n"
     ]
    },
    {
     "name": "stdout",
     "output_type": "stream",
     "text": [
      "You loss the number of chances is left: 1\n",
      "-----------------------------------------------------\n"
     ]
    },
    {
     "name": "stdin",
     "output_type": "stream",
     "text": [
      "enter a number between 1 to 10 :  4\n"
     ]
    },
    {
     "name": "stdout",
     "output_type": "stream",
     "text": [
      "Bad luch all attempt over\n",
      "please try again after sometime\n",
      "Game over !\n"
     ]
    }
   ],
   "source": [
    "import random \n",
    "x=random.randint(1,10)\n",
    "chances=eval(input(\"enter number of chance\"))# no of chance you  want to provide that many time loop will execute\n",
    "for i in range(chances):\n",
    "    y=eval(input(\"enter a number between 1 to 10 : \"))\n",
    "    if x==y:\n",
    "        print(\"you won as both number is {}\".format(x))\n",
    "        break \n",
    "    elif chances-1-i==0:\n",
    "        print(\"Bad luck all attempt over\")\n",
    "        print(\"please try again after sometime\")\n",
    "    else:\n",
    "        print(\"You loss the number of chances is left:\", chances-1-i)\n",
    "        print(\"-----------------------------------------------------\")\n",
    "            \n",
    "        \n",
    "print(\"Game over !\")"
   ]
  },
  {
   "cell_type": "code",
   "execution_count": null,
   "id": "9dc95eef-7802-4e55-a7df-478c9f80f079",
   "metadata": {},
   "outputs": [],
   "source": [
    "# WAP ask the user get the sum of 10 natural nunbers\n",
    "# 1+2+3+4+5+6+7+8+10=55"
   ]
  },
  {
   "cell_type": "code",
   "execution_count": 70,
   "id": "04d59986-3aa0-41b2-bcfb-7e3e3bd7724b",
   "metadata": {},
   "outputs": [
    {
     "name": "stdout",
     "output_type": "stream",
     "text": [
      "55\n"
     ]
    }
   ],
   "source": [
    "sum=0\n",
    "for i in range(1,11):\n",
    "    sum+=i\n",
    "print(sum)    \n",
    "    \n",
    "    \n",
    "    "
   ]
  },
  {
   "cell_type": "code",
   "execution_count": null,
   "id": "ba3e23c4-03c8-429f-b1b1-a2887aaeb21e",
   "metadata": {},
   "outputs": [],
   "source": [
    "# WAP ask the user get the sum of n natural nunbers\n",
    "# 1+2+3+4+5+6+7+8+10=55"
   ]
  },
  {
   "cell_type": "code",
   "execution_count": 76,
   "id": "87ac0ffe-d752-4c45-bdd8-cebbd7e11218",
   "metadata": {},
   "outputs": [
    {
     "name": "stdin",
     "output_type": "stream",
     "text": [
      "enter the number  4\n"
     ]
    },
    {
     "name": "stdout",
     "output_type": "stream",
     "text": [
      "the sum of 0 and 1\n",
      "1\n",
      "the sum of 1 and 2\n",
      "3\n",
      "the sum of 3 and 3\n",
      "6\n",
      "the sum of 6 and 4\n",
      "10\n",
      "the sum of n natural number is  10\n"
     ]
    }
   ],
   "source": [
    "summ=0\n",
    "for i in range(1,eval(input(\"enter the number \"))+1):\n",
    "    print(\"the sum of {} and {}\".format(summ,i))\n",
    "    summ=summ+i\n",
    "    print(summ) # printing the sum of eache iteration \n",
    "print(\"the sum of n natural number is \",summ)    \n",
    "    \n",
    "    "
   ]
  },
  {
   "cell_type": "code",
   "execution_count": 77,
   "id": "52eda420-f8f1-43c5-bacf-c43070959850",
   "metadata": {},
   "outputs": [
    {
     "name": "stdin",
     "output_type": "stream",
     "text": [
      "enter a number 10\n"
     ]
    },
    {
     "name": "stdout",
     "output_type": "stream",
     "text": [
      "the sum of 0 and 1\n",
      "1\n",
      "the sum of 1 and 2\n",
      "3\n",
      "the sum of 3 and 3\n",
      "6\n",
      "the sum of 6 and 4\n",
      "10\n",
      "the sum of 10 and 5\n",
      "15\n",
      "the sum of 15 and 6\n",
      "21\n",
      "the sum of 21 and 7\n",
      "28\n",
      "the sum of 28 and 8\n",
      "36\n",
      "the sum of 36 and 9\n",
      "45\n",
      "the sum of 45 and 10\n",
      "55\n",
      "the sum of 10  natural number is 55 \n"
     ]
    }
   ],
   "source": [
    "summ=0\n",
    "n=eval(input(\"enter a number\"))\n",
    "for i in range(1,n+1):\n",
    "    print(\"the sum of {} and {}\".format(sum,i))\n",
    "    sum=summ+i\n",
    "    print(summ) # printing the sum of eache iteration \n",
    "print(\"the sum of {}  natural number is {} \".format(n,sum))  \n"
   ]
  },
  {
   "cell_type": "code",
   "execution_count": null,
   "id": "74aaa5eb-7e9e-4957-bf92-94f7e94a7ac7",
   "metadata": {},
   "outputs": [],
   "source": [
    "# WAP ask the user print the given number is even or odd\n",
    "# you need to take the number between randomly between 10 and 30\n",
    "# this process you need to 5 times\n",
    "# Improvise this problem\n",
    "# by count the number of even and number odds you are getting"
   ]
  },
  {
   "cell_type": "code",
   "execution_count": 83,
   "id": "94360867-6fed-4fb0-9b5b-3d96b74a52e1",
   "metadata": {},
   "outputs": [
    {
     "name": "stdout",
     "output_type": "stream",
     "text": [
      "the number 19 is odd\n",
      "the number 28 is even\n",
      "the number 19 is odd\n",
      "the number 25 is odd\n",
      "the number 23 is odd\n",
      "The number of even is : 1\n",
      "The number of odd is  : 4\n"
     ]
    }
   ],
   "source": [
    "import random\n",
    "odd=0\n",
    "even=0\n",
    "for  i in range(5):\n",
    "    x=random.randint(10,30)\n",
    "    if x%2==0:\n",
    "        print(\"the number {} is even\".format(x))\n",
    "        even=even+1\n",
    "    else:\n",
    "        print(\"the number {} is odd\".format(x))\n",
    "        odd=odd+1\n",
    "print(\"The number of even is :\",even)\n",
    "print(\"The number of odd is  :\",odd)\n",
    "         \n",
    "    \n",
    "    "
   ]
  },
  {
   "cell_type": "code",
   "execution_count": 92,
   "id": "f057d750-300b-40ac-b96e-1cd01275a409",
   "metadata": {},
   "outputs": [],
   "source": [
    "# WAP ask the user take a random number between 1 to 99\n",
    "# iterate the loop 10 times\n",
    "# print the number which is greater than 50 and also count"
   ]
  },
  {
   "cell_type": "code",
   "execution_count": 96,
   "id": "f9853980-2b2e-4255-8042-69149d4dd6b8",
   "metadata": {},
   "outputs": [
    {
     "name": "stdout",
     "output_type": "stream",
     "text": [
      "61\n",
      "62\n",
      "The count of number grater than 50 is:   2\n"
     ]
    }
   ],
   "source": [
    "import random \n",
    "same_count=0\n",
    "for i in range(10):\n",
    "    ran=random.randint(1,99)\n",
    "    if ran>50:\n",
    "        print(ran)\n",
    "        same_count=same_count+1\n",
    "print(\"The count of number grater than 50 is:  \",same_count)      \n",
    "        \n",
    "        \n",
    "        \n",
    "    "
   ]
  },
  {
   "cell_type": "code",
   "execution_count": null,
   "id": "531a735e-8cf3-47a8-94ea-200a761fc826",
   "metadata": {},
   "outputs": [],
   "source": [
    "# Number of divisiors program\n",
    "# 10 is divisible by what numbers\n",
    "# 10/1 10/2 10/3 10/4 10/5 10/6 10/7 10/8 10/9 10/10\n",
    "# what number they ask that many itearation will do from 1 to n=number ask\n",
    "# also count non divisor"
   ]
  },
  {
   "cell_type": "code",
   "execution_count": 103,
   "id": "d71930c2-b8e5-41c7-a131-18cb01ecf63d",
   "metadata": {},
   "outputs": [
    {
     "name": "stdin",
     "output_type": "stream",
     "text": [
      "Enter a number which divisor you want to count 10\n"
     ]
    },
    {
     "name": "stdout",
     "output_type": "stream",
     "text": [
      "1 is divisor of 10\n",
      "2 is divisor of 10\n",
      "The 10 is not divisble by 3\n",
      "The 10 is not divisble by 4\n",
      "5 is divisor of 10\n",
      "The 10 is not divisble by 6\n",
      "The 10 is not divisble by 7\n",
      "The 10 is not divisble by 8\n",
      "The 10 is not divisble by 9\n",
      "10 is divisor of 10\n",
      "The total number of divisor of 10 is 4\n",
      "The total number of non divisor of 10 is 6 \n"
     ]
    }
   ],
   "source": [
    "div=0\n",
    "n_div=0\n",
    "n=eval(input(\"Enter a number which divisor you want to count\"))\n",
    "for i in range(1,n+1):\n",
    "    if n%i==0:\n",
    "        print(\"{} is divisor of {}\".format(i,n))\n",
    "        div=div+1\n",
    "    else:\n",
    "        print(\"The {} is not divisble by {}\".format(n,i))\n",
    "        n_div=n_div+1\n",
    "print(\"The total number of divisor of {} is {}\".format(n,div))   \n",
    "print(\"The total number of non divisor of {} is {} \".format(n,n_div))\n",
    "    "
   ]
  },
  {
   "cell_type": "code",
   "execution_count": 106,
   "id": "091a8e57-fec2-45a1-8161-e5939ae0752a",
   "metadata": {},
   "outputs": [
    {
     "name": "stdin",
     "output_type": "stream",
     "text": [
      "Enter a number which divisor you want to count 10\n"
     ]
    },
    {
     "name": "stdout",
     "output_type": "stream",
     "text": [
      "1 is divisor of 10\n"
     ]
    },
    {
     "ename": "UnboundLocalError",
     "evalue": "cannot access local variable 'div1' where it is not associated with a value",
     "output_type": "error",
     "traceback": [
      "\u001b[1;31m---------------------------------------------------------------------------\u001b[0m",
      "\u001b[1;31mUnboundLocalError\u001b[0m                         Traceback (most recent call last)",
      "Cell \u001b[1;32mIn[106], line 15\u001b[0m\n\u001b[0;32m     13\u001b[0m     \u001b[38;5;28mprint\u001b[39m(\u001b[38;5;124m\"\u001b[39m\u001b[38;5;124mThe total number of divisor of \u001b[39m\u001b[38;5;132;01m{}\u001b[39;00m\u001b[38;5;124m is \u001b[39m\u001b[38;5;132;01m{}\u001b[39;00m\u001b[38;5;124m\"\u001b[39m\u001b[38;5;241m.\u001b[39mformat(n,div1))   \n\u001b[0;32m     14\u001b[0m     \u001b[38;5;28mprint\u001b[39m(\u001b[38;5;124m\"\u001b[39m\u001b[38;5;124mThe total number of non divisor of \u001b[39m\u001b[38;5;132;01m{}\u001b[39;00m\u001b[38;5;124m is \u001b[39m\u001b[38;5;132;01m{}\u001b[39;00m\u001b[38;5;124m \u001b[39m\u001b[38;5;124m\"\u001b[39m\u001b[38;5;241m.\u001b[39mformat(n,n_div1))\n\u001b[1;32m---> 15\u001b[0m div()\n",
      "Cell \u001b[1;32mIn[106], line 9\u001b[0m, in \u001b[0;36mdiv\u001b[1;34m()\u001b[0m\n\u001b[0;32m      7\u001b[0m     \u001b[38;5;28;01mif\u001b[39;00m n\u001b[38;5;241m%\u001b[39mi\u001b[38;5;241m==\u001b[39m\u001b[38;5;241m0\u001b[39m:\n\u001b[0;32m      8\u001b[0m         \u001b[38;5;28mprint\u001b[39m(\u001b[38;5;124m\"\u001b[39m\u001b[38;5;132;01m{}\u001b[39;00m\u001b[38;5;124m is divisor of \u001b[39m\u001b[38;5;132;01m{}\u001b[39;00m\u001b[38;5;124m\"\u001b[39m\u001b[38;5;241m.\u001b[39mformat(i,n))\n\u001b[1;32m----> 9\u001b[0m         div1\u001b[38;5;241m=\u001b[39mdiv1\u001b[38;5;241m+\u001b[39m\u001b[38;5;241m1\u001b[39m\n\u001b[0;32m     10\u001b[0m \u001b[38;5;28;01melse\u001b[39;00m:\n\u001b[0;32m     11\u001b[0m     \u001b[38;5;28mprint\u001b[39m(\u001b[38;5;124m\"\u001b[39m\u001b[38;5;124mThe \u001b[39m\u001b[38;5;132;01m{}\u001b[39;00m\u001b[38;5;124m is not divisble by \u001b[39m\u001b[38;5;132;01m{}\u001b[39;00m\u001b[38;5;124m\"\u001b[39m\u001b[38;5;241m.\u001b[39mformat(n,i))\n",
      "\u001b[1;31mUnboundLocalError\u001b[0m: cannot access local variable 'div1' where it is not associated with a value"
     ]
    }
   ],
   "source": [
    "div1=0\n",
    "n_div1=0\n",
    "def div():\n",
    "    \n",
    "    n=eval(input(\"Enter a number which divisor you want to count\"))\n",
    "    for i in range(1,n+1):\n",
    "        if n%i==0:\n",
    "            print(\"{} is divisor of {}\".format(i,n))\n",
    "            div1=div1+1 # local variable is not intialize  in assignment\n",
    "    else:\n",
    "        print(\"The {} is not divisble by {}\".format(n,i))\n",
    "        n_div1=n_div1+1\n",
    "    print(\"The total number of divisor of {} is {}\".format(n,div1))   \n",
    "    print(\"The total number of non divisor of {} is {} \".format(n,n_div1))\n",
    "div()    "
   ]
  },
  {
   "cell_type": "code",
   "execution_count": null,
   "id": "f26821e4-821c-485c-96b1-7d519e03536a",
   "metadata": {},
   "outputs": [],
   "source": [
    "# without arguement\n",
    "# correct way always intialise the counter inside the function when you are doing the program using function \n",
    "# because global variable can't access in assingment they treat as local varible so the variable must be intialise befor use\n",
    "\n",
    "def div():\n",
    "    div1=0\n",
    "    n_div1=0\n",
    "    n=eval(input(\"Enter a number which divisor you want to count\"))\n",
    "    for i in range(1,n+1):\n",
    "        if n%i==0:\n",
    "            print(\"{} is divisor of {}\".format(i,n))\n",
    "            div1=div1+1 # local variable is not intialize  in assignment\n",
    "    else:\n",
    "        print(\"The {} is not divisble by {}\".format(n,i))\n",
    "        n_div1=n_div1+1\n",
    "    print(\"The total number of divisor of {} is {}\".format(n,div1))   \n",
    "    print(\"The total number of non divisor of {} is {} \".format(n,n_div1))\n",
    "div()    "
   ]
  },
  {
   "cell_type": "code",
   "execution_count": null,
   "id": "f8f602fd-8d43-426c-beb2-e886c1fa7ae4",
   "metadata": {},
   "outputs": [],
   "source": [
    "# with arguement"
   ]
  },
  {
   "cell_type": "code",
   "execution_count": 108,
   "id": "a0373d46-48f3-443c-a30c-3d6f32363dde",
   "metadata": {},
   "outputs": [
    {
     "name": "stdin",
     "output_type": "stream",
     "text": [
      "Enter a number which divisor you want to count 10\n"
     ]
    },
    {
     "name": "stdout",
     "output_type": "stream",
     "text": [
      "1 is divisor of 10\n",
      "2 is divisor of 10\n",
      "The 10 is not divisble by 3\n",
      "The 10 is not divisble by 4\n",
      "5 is divisor of 10\n",
      "The 10 is not divisble by 6\n",
      "The 10 is not divisble by 7\n",
      "The 10 is not divisble by 8\n",
      "The 10 is not divisble by 9\n",
      "10 is divisor of 10\n",
      "The total number of divisor of 10 is 4\n",
      "The total number of non divisor of 10 is 6 \n"
     ]
    }
   ],
   "source": [
    "def div(n1):\n",
    "    div1=0\n",
    "    n_div1=0\n",
    "    for i in range(1,n1+1):\n",
    "        if n%i==0:\n",
    "            print(\"{} is divisor of {}\".format(i,n1))\n",
    "            div1=div1+1 # local variable is not intialize  in assignment\n",
    "        else:\n",
    "            print(\"The {} is not divisble by {}\".format(n1,i))\n",
    "            n_div1=n_div1+1\n",
    "    print(\"The total number of divisor of {} is {}\".format(n1,div1))   \n",
    "    print(\"The total number of non divisor of {} is {} \".format(n1,n_div1))\n",
    "n=eval(input(\"Enter a number which divisor you want to count\"))  \n",
    "div(n)    "
   ]
  },
  {
   "cell_type": "code",
   "execution_count": null,
   "id": "541a01b9-a544-473b-b1c5-dad2ce2d3a55",
   "metadata": {},
   "outputs": [],
   "source": [
    "# return the number of divisble and non divisble"
   ]
  },
  {
   "cell_type": "code",
   "execution_count": 110,
   "id": "105aab49-64b0-49aa-b0e4-5ba4cfb55d58",
   "metadata": {},
   "outputs": [
    {
     "name": "stdin",
     "output_type": "stream",
     "text": [
      "Enter a number which divisor you want to count 15\n"
     ]
    },
    {
     "name": "stdout",
     "output_type": "stream",
     "text": [
      "1 is divisor of 15\n",
      "The 15 is not divisble by 2\n",
      "3 is divisor of 15\n",
      "The 15 is not divisble by 4\n",
      "5 is divisor of 15\n",
      "The 15 is not divisble by 6\n",
      "The 15 is not divisble by 7\n",
      "The 15 is not divisble by 8\n",
      "The 15 is not divisble by 9\n",
      "The 15 is not divisble by 10\n",
      "The 15 is not divisble by 11\n",
      "The 15 is not divisble by 12\n",
      "The 15 is not divisble by 13\n",
      "The 15 is not divisble by 14\n",
      "15 is divisor of 15\n",
      "The total number of divisor of 15 is 4 and non divisor is 11\n"
     ]
    }
   ],
   "source": [
    "def div(n1):\n",
    "    div1=0\n",
    "    n_div1=0\n",
    "    for i in range(1,n1+1):\n",
    "        if n%i==0:\n",
    "            print(\"{} is divisor of {}\".format(i,n1))\n",
    "            div1=div1+1 # local variable is not intialize  in assignment\n",
    "        else:\n",
    "            print(\"The {} is not divisble by {}\".format(n1,i))\n",
    "            n_div1=n_div1+1\n",
    "    return div1,n_div1      \n",
    "    \n",
    "n=eval(input(\"Enter a number which divisor you want to count\"))  \n",
    "d,n_d=div(n)  \n",
    "print(\"The total number of divisor of {} is {} and non divisor is {}\".format(n,d,n_d))"
   ]
  },
  {
   "cell_type": "markdown",
   "id": "51dfcff3-155e-4b43-91e9-af90e477b26c",
   "metadata": {},
   "source": [
    "### Note whenever you  want to implement the counter program using function ###\n",
    "- whenever if you want implement counter program\n",
    "- intialise counter inside the function only\n",
    "- becuae it get confuse wheater it  is local or global"
   ]
  },
  {
   "cell_type": "code",
   "execution_count": 115,
   "id": "65974cc3-0300-48b8-a165-97ebf71e348f",
   "metadata": {},
   "outputs": [
    {
     "ename": "UnboundLocalError",
     "evalue": "cannot access local variable 'x_' where it is not associated with a value",
     "output_type": "error",
     "traceback": [
      "\u001b[1;31m---------------------------------------------------------------------------\u001b[0m",
      "\u001b[1;31mUnboundLocalError\u001b[0m                         Traceback (most recent call last)",
      "Cell \u001b[1;32mIn[115], line 6\u001b[0m\n\u001b[0;32m      4\u001b[0m     x_\u001b[38;5;241m=\u001b[39mx_\u001b[38;5;241m+\u001b[39m\u001b[38;5;241m3\u001b[39m\n\u001b[0;32m      5\u001b[0m     \u001b[38;5;28mprint\u001b[39m(x_) \n\u001b[1;32m----> 6\u001b[0m fun()\n",
      "Cell \u001b[1;32mIn[115], line 4\u001b[0m, in \u001b[0;36mfun\u001b[1;34m()\u001b[0m\n\u001b[0;32m      3\u001b[0m \u001b[38;5;28;01mdef\u001b[39;00m\u001b[38;5;250m \u001b[39m\u001b[38;5;21mfun\u001b[39m():\n\u001b[1;32m----> 4\u001b[0m     x_\u001b[38;5;241m=\u001b[39mx_\u001b[38;5;241m+\u001b[39m\u001b[38;5;241m3\u001b[39m\n\u001b[0;32m      5\u001b[0m     \u001b[38;5;28mprint\u001b[39m(x_)\n",
      "\u001b[1;31mUnboundLocalError\u001b[0m: cannot access local variable 'x_' where it is not associated with a value"
     ]
    }
   ],
   "source": [
    "# eg\n",
    "x_=0 # global\n",
    "def fun():\n",
    "    x_=x_+3 # through error as it will get confuse between x_ global and x_ local\n",
    "    print(x_) \n",
    "fun()    "
   ]
  },
  {
   "cell_type": "code",
   "execution_count": 117,
   "id": "d231da4f-88e6-4080-b225-a36235290a6d",
   "metadata": {},
   "outputs": [
    {
     "name": "stdout",
     "output_type": "stream",
     "text": [
      "3\n"
     ]
    }
   ],
   "source": [
    "# eg\n",
    "x_=0 # global\n",
    "def fun():\n",
    "    x_1=x_+3 # no confustion it will work now x_ will work as local\n",
    "    print(x_1) \n",
    "fun()    "
   ]
  },
  {
   "cell_type": "code",
   "execution_count": null,
   "id": "c8e9f8ef-e4c1-4413-9de3-bdf36a98321f",
   "metadata": {},
   "outputs": [],
   "source": [
    "# implement the code inside for loop using function "
   ]
  },
  {
   "cell_type": "code",
   "execution_count": 120,
   "id": "0168600a-90f2-4887-9a5c-e24596f59294",
   "metadata": {},
   "outputs": [
    {
     "name": "stdin",
     "output_type": "stream",
     "text": [
      "Enter a number which divisor you want to count 10\n"
     ]
    },
    {
     "name": "stdout",
     "output_type": "stream",
     "text": [
      "10 is divisor of 10\n",
      "10 is divisor of 10\n",
      "10 is divisor of 10\n",
      "10 is divisor of 10\n",
      "10 is divisor of 10\n",
      "10 is divisor of 10\n",
      "10 is divisor of 10\n",
      "10 is divisor of 10\n",
      "10 is divisor of 10\n",
      "10 is divisor of 10\n",
      "The total number of divisor of 10 is 0 and non divisor is 0\n"
     ]
    }
   ],
   "source": [
    "\n",
    "       "
   ]
  },
  {
   "cell_type": "code",
   "execution_count": 126,
   "id": "a4a7d3fb-b0d3-49c3-81e5-3f7e3ff19331",
   "metadata": {},
   "outputs": [
    {
     "name": "stdout",
     "output_type": "stream",
     "text": [
      "5 is divisor of 10\n"
     ]
    },
    {
     "data": {
      "text/plain": [
       "(1, 0)"
      ]
     },
     "execution_count": 126,
     "metadata": {},
     "output_type": "execute_result"
    }
   ],
   "source": [
    "# whenever you want to convert any piece of code into function \n",
    "# first identy how many variables are used in that function and pass them \n",
    "# example how written \n",
    "def condition(n1,i,div1,n_div1):\n",
    "    if n1%i==0:\n",
    "        \n",
    "        print(\"{} is divisor of {}\".format(i,n1))\n",
    "        div1=div1+1 \n",
    "    else:\n",
    "    \n",
    "        print(\"The {} is not divisble by {}\".format(n1,i))\n",
    "        n_div1=n_div1+1\n",
    "    return (div1,n_div1)    \n",
    "condition(10,5,0,0) # return 1,0    1= div and 0 is   non divisor"
   ]
  },
  {
   "cell_type": "code",
   "execution_count": 133,
   "id": "b65fb780-5454-4884-b6bc-042f40bbf514",
   "metadata": {},
   "outputs": [
    {
     "name": "stdin",
     "output_type": "stream",
     "text": [
      "Enter a number which divisor you want to count 10\n"
     ]
    },
    {
     "name": "stdout",
     "output_type": "stream",
     "text": [
      "1 is divisor of 10\n",
      "2 is divisor of 10\n",
      "The 10 is not divisble by 3\n",
      "The 10 is not divisble by 4\n",
      "5 is divisor of 10\n",
      "The 10 is not divisble by 6\n",
      "The 10 is not divisble by 7\n",
      "The 10 is not divisble by 8\n",
      "The 10 is not divisble by 9\n",
      "10 is divisor of 10\n",
      "The total number of divisor of 10 is 4 and non divisor is 6\n"
     ]
    }
   ],
   "source": [
    "# condition using function \n",
    "\n",
    "def condition(n1,i,div1,n_div1):\n",
    "    \n",
    "    if n1%i==0:\n",
    "        \n",
    "        print(\"{} is divisor of {}\".format(i,n1))\n",
    "        div1=div1+1 \n",
    "    else:\n",
    "    \n",
    "        print(\"The {} is not divisble by {}\".format(n1,i))\n",
    "        n_div1=n_div1+1\n",
    "    return (div1,n_div1)    \n",
    "\n",
    "# main function \n",
    "def div(n1):\n",
    "    div1=0\n",
    "    n_div1=0\n",
    "    for i in range(1,n1+1):\n",
    "        # calling condition function by passing required value\n",
    "        div1,n_div1=condition(n1,i,div1,n_div1) # accepting div and non div value \n",
    "        # every time when call the latest value pass of div and non div\n",
    "        \n",
    "    # return the final divisor and non divisor value    \n",
    "    return div1,n_div1 \n",
    "    \n",
    "# calling main function  with arguement    \n",
    "n=eval(input(\"Enter a number which divisor you want to count\"))  \n",
    "\n",
    "d,n_d=div(n)  # acceptin final counter values\n",
    "\n",
    "print(\"The total number of divisor of {} is {} and non divisor is {}\".format(n,d,n_d))"
   ]
  },
  {
   "cell_type": "code",
   "execution_count": null,
   "id": "3273dbd1-568c-43b3-8f5d-2671fc0ac237",
   "metadata": {},
   "outputs": [],
   "source": []
  },
  {
   "cell_type": "code",
   "execution_count": null,
   "id": "678d3fbe-33b1-4fe2-b000-7032daa98a9c",
   "metadata": {},
   "outputs": [],
   "source": []
  },
  {
   "cell_type": "code",
   "execution_count": null,
   "id": "e4dd6004-1fb7-4409-b439-d06f4061ddfd",
   "metadata": {},
   "outputs": [],
   "source": []
  },
  {
   "cell_type": "code",
   "execution_count": null,
   "id": "29364324-4dd0-46cc-84ca-fe10591579c6",
   "metadata": {},
   "outputs": [],
   "source": []
  },
  {
   "cell_type": "code",
   "execution_count": null,
   "id": "b98e8fe2-ae59-464c-81b2-76ba50e6bac3",
   "metadata": {},
   "outputs": [],
   "source": []
  },
  {
   "cell_type": "code",
   "execution_count": null,
   "id": "685f35e7-fe03-4adc-9d75-073f4eee1de2",
   "metadata": {},
   "outputs": [],
   "source": []
  },
  {
   "cell_type": "code",
   "execution_count": null,
   "id": "91beff9b-5655-4555-9f04-ab1a06066d32",
   "metadata": {},
   "outputs": [],
   "source": []
  },
  {
   "cell_type": "code",
   "execution_count": null,
   "id": "5889bbba-9523-4dfd-aa24-78010837df22",
   "metadata": {},
   "outputs": [],
   "source": []
  },
  {
   "cell_type": "code",
   "execution_count": null,
   "id": "22167f71-00d2-4f07-803b-13b644b7b343",
   "metadata": {},
   "outputs": [],
   "source": []
  },
  {
   "cell_type": "code",
   "execution_count": null,
   "id": "15cddc26-4085-402e-83c1-d524eea73166",
   "metadata": {},
   "outputs": [],
   "source": []
  }
 ],
 "metadata": {
  "kernelspec": {
   "display_name": "Python [conda env:base] *",
   "language": "python",
   "name": "conda-base-py"
  },
  "language_info": {
   "codemirror_mode": {
    "name": "ipython",
    "version": 3
   },
   "file_extension": ".py",
   "mimetype": "text/x-python",
   "name": "python",
   "nbconvert_exporter": "python",
   "pygments_lexer": "ipython3",
   "version": "3.13.5"
  }
 },
 "nbformat": 4,
 "nbformat_minor": 5
}
