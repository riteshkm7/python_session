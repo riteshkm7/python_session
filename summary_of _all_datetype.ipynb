{
 "cells": [
  {
   "cell_type": "markdown",
   "id": "ab01b0c1-cdf7-4227-aea3-c15e5035411f",
   "metadata": {},
   "source": [
    "# conclusion of str,list,dic,set,frozen set ,tuple #\n",
    "\n",
    "- str,tup,frozen set are immutable and hashable\n",
    "\n",
    "- list,dic ,set are mutable means not hashable\n",
    "\n",
    "    - not hashable can't be set and dic key\n",
    "\n",
    "- in str ,list,tup addition of two is possible like list with list str with str and tup with tup\n",
    "\n",
    "- we can multiply str,list,tuple by int\n",
    "\n",
    "- in dic addition ,-,* / and also multply by int is also not posssible\n",
    "\n",
    "- in set + * / and multiply by int also not possible\n",
    "\n",
    "- only sub of two set is possible that  is A-B in set operation\n",
    "\n",
    "- frozen set is a set which is immutable\n",
    "\n",
    "- a set is irreversible we can't apply the reverse function\n",
    "\n",
    "- in dict key is only focus and participate in every operation len ,min sum,max reversed,sorted all operation are done on basis of key and apply on\n",
    "\n",
    "- key\n",
    "\n",
    "- function to make set,list,str,tuple,dict\n",
    "\n",
    "- in dictionary function dict is used value must be pass in key value pair in list of tuple\n",
    "dict([(1,2),(3,5)])\n",
    "\n",
    "\n",
    "- # str function not take iterable convert any value inside str function into stifn\n",
    "    str([1,2,3])\n",
    "    str(1)\n",
    "    #str(ritesh) # this will not convert into str as ritesh take as variable which is not define\n",
    "    # while another numberic value if pass then it convert into stirn g\n",
    "    str(1234324324)\n",
    "    str((\"re\",\"af\")) # a tuple is pass convernt into str\n",
    "    # if in str any iterator will  pass that it will convert them into str\n",
    "\n",
    "-tuple \n",
    "   # tuple fucntion take iterable \n",
    "   tuple([1,2])\n",
    "\n",
    "- # list function aslo take iterable\n",
    "    list((12,3,4))   \n",
    "\n",
    "\n",
    "- # set take a iterable \n",
    "    l=[1,2,3,4]\n",
    "    s=set(l)\n",
    "    print(s)\n",
    "\n"
   ]
  },
  {
   "cell_type": "code",
   "execution_count": null,
   "id": "ffc66359-ed10-417a-a8a9-b10e8a383c0b",
   "metadata": {},
   "outputs": [],
   "source": []
  }
 ],
 "metadata": {
  "kernelspec": {
   "display_name": "Python [conda env:base] *",
   "language": "python",
   "name": "conda-base-py"
  },
  "language_info": {
   "codemirror_mode": {
    "name": "ipython",
    "version": 3
   },
   "file_extension": ".py",
   "mimetype": "text/x-python",
   "name": "python",
   "nbconvert_exporter": "python",
   "pygments_lexer": "ipython3",
   "version": "3.13.5"
  }
 },
 "nbformat": 4,
 "nbformat_minor": 5
}
