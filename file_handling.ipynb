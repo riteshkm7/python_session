{
 "cells": [
  {
   "cell_type": "code",
   "execution_count": null,
   "id": "b9172e76-a679-466f-bbce-0ef02e1b8488",
   "metadata": {},
   "outputs": [],
   "source": [
    "# for file handing\n",
    "\n",
    "# where is file located <location>\n",
    "# file name \n",
    "# extention type of file \n",
    "\n",
    "# while adding a string that contain file location and name and path\n",
    "# it through unicode error because file name contain single slash \\ \n",
    "# to addd connvert all the single slash into double slash only then you can add"
   ]
  },
  {
   "cell_type": "code",
   "execution_count": 1,
   "id": "7090c487-709f-4ff9-af57-11d4e0c7a613",
   "metadata": {},
   "outputs": [
    {
     "ename": "SyntaxError",
     "evalue": "(unicode error) 'unicodeescape' codec can't decode bytes in position 2-3: truncated \\UXXXXXXXX escape (2247409212.py, line 1)",
     "output_type": "error",
     "traceback": [
      "\u001b[1;36m  Cell \u001b[1;32mIn[1], line 1\u001b[1;36m\u001b[0m\n\u001b[1;33m    file_loction=\"C:\\Users\\Admin\\Downloads\"\u001b[0m\n\u001b[1;37m                 ^\u001b[0m\n\u001b[1;31mSyntaxError\u001b[0m\u001b[1;31m:\u001b[0m (unicode error) 'unicodeescape' codec can't decode bytes in position 2-3: truncated \\UXXXXXXXX escape\n"
     ]
    }
   ],
   "source": [
    "file_loction=\"C:\\Users\\Admin\\Downloads\"\n",
    "\n",
    "file_name=\"mbox-short\"\n",
    "\n",
    "extension=\".txt\"\n",
    "file_path=file_loction+file_name+extension\n"
   ]
  },
  {
   "cell_type": "code",
   "execution_count": 2,
   "id": "02fb0002-bddf-4984-a536-88c9e7c7b057",
   "metadata": {},
   "outputs": [
    {
     "ename": "SyntaxError",
     "evalue": "unterminated string literal (detected at line 1); perhaps you escaped the end quote? (3866053390.py, line 1)",
     "output_type": "error",
     "traceback": [
      "\u001b[1;36m  Cell \u001b[1;32mIn[2], line 1\u001b[1;36m\u001b[0m\n\u001b[1;33m    s=\"sfdf\\\"\u001b[0m\n\u001b[1;37m      ^\u001b[0m\n\u001b[1;31mSyntaxError\u001b[0m\u001b[1;31m:\u001b[0m unterminated string literal (detected at line 1); perhaps you escaped the end quote?\n"
     ]
    }
   ],
   "source": [
    "# string with  single slash can't add through unicode error\n",
    "# unicode error single  slash\n",
    "# use \\\\\n",
    "s=\"sfdf\\\"\n",
    "s=s+\"rt\""
   ]
  },
  {
   "cell_type": "code",
   "execution_count": 4,
   "id": "1546608f-d018-4251-95ad-7d7155d5202f",
   "metadata": {},
   "outputs": [
    {
     "data": {
      "text/plain": [
       "'sfdf\\\\rt'"
      ]
     },
     "execution_count": 4,
     "metadata": {},
     "output_type": "execute_result"
    }
   ],
   "source": [
    "s=\"sfdf\\\\\"\n",
    "s=s+\"rt\"\n",
    "s"
   ]
  },
  {
   "cell_type": "code",
   "execution_count": 17,
   "id": "b464eebb-6fd7-4181-9b66-c5895c65258b",
   "metadata": {},
   "outputs": [
    {
     "data": {
      "text/plain": [
       "'C:\\\\Users\\\\Admin\\\\Downloadsmbox-short.txt'"
      ]
     },
     "execution_count": 17,
     "metadata": {},
     "output_type": "execute_result"
    }
   ],
   "source": [
    "file_loction=\"C:\\\\Users\\\\Admin\\\\Downloads\"\n",
    "\n",
    "file_name=\"mbox-short\"\n",
    "\n",
    "extension=\".txt\"\n",
    "# so the complete file path is file locatin with \\\\ slash then \\\\name of file.extension\n",
    "file_path=file_loction+file_name+extension\n",
    "file_path # it will return 'C:\\\\Users\\\\Admin\\\\Downloadsmbox-short.txt'\n",
    "# but in file path after file location there must be \\\\ slash then extension "
   ]
  },
  {
   "cell_type": "code",
   "execution_count": 8,
   "id": "9b95719f-5e2b-4d5e-9b0a-b795ec6cef4b",
   "metadata": {},
   "outputs": [],
   "source": [
    "# to read a file always we need file path=file_location in doubleslash again \\\\ slash then name of file and extension \n",
    "file_path=\"C:\\\\Users\\\\Admin\\\\Downloads\\\\mbox-short.txt\"\n",
    "# this is correct"
   ]
  },
  {
   "cell_type": "code",
   "execution_count": 2,
   "id": "44b81ef0-6ad5-4f59-a7c6-81166f6bde0b",
   "metadata": {},
   "outputs": [
    {
     "ename": "NameError",
     "evalue": "name 'file_path' is not defined",
     "output_type": "error",
     "traceback": [
      "\u001b[1;31m---------------------------------------------------------------------------\u001b[0m",
      "\u001b[1;31mNameError\u001b[0m                                 Traceback (most recent call last)",
      "Cell \u001b[1;32mIn[2], line 7\u001b[0m\n\u001b[0;32m      1\u001b[0m \u001b[38;5;66;03m# to  open the file use open() function\u001b[39;00m\n\u001b[0;32m      2\u001b[0m \u001b[38;5;66;03m# thers is two mode while openingn file one is read as r and another is write as w\u001b[39;00m\n\u001b[0;32m      3\u001b[0m \u001b[38;5;66;03m# default mode is mode=r\u001b[39;00m\n\u001b[0;32m      4\u001b[0m \u001b[38;5;66;03m# once you are opending a file there is encoding default enncoding  is cp1252 \u001b[39;00m\n\u001b[0;32m      5\u001b[0m \u001b[38;5;66;03m# and if the file has special character then use utf-8\u001b[39;00m\n\u001b[1;32m----> 7\u001b[0m file\u001b[38;5;241m=\u001b[39m\u001b[38;5;28mopen\u001b[39m(file_path,encoding\u001b[38;5;241m=\u001b[39m\u001b[38;5;124m\"\u001b[39m\u001b[38;5;124mutf-8\u001b[39m\u001b[38;5;124m\"\u001b[39m)\n",
      "\u001b[1;31mNameError\u001b[0m: name 'file_path' is not defined"
     ]
    }
   ],
   "source": [
    "# to  open the file use open() function\n",
    "# thers is two mode while openingn file one is read as r and another is write as w\n",
    "# default mode is mode=r\n",
    "# once you are opending a file there is encoding default enncoding  is cp1252 \n",
    "# and if the file has special character then use utf-8\n",
    "\n",
    "file=open(file_path,encoding=\"utf-8\") # as there is special characer \n",
    "#print(file.read())\n",
    "#print(file.read())"
   ]
  },
  {
   "cell_type": "code",
   "execution_count": 14,
   "id": "a124f3c4-fd06-4c53-84b7-00707364b708",
   "metadata": {},
   "outputs": [
    {
     "data": {
      "text/plain": [
       "'C:\\\\Users\\\\Admin\\\\Downloads'"
      ]
     },
     "execution_count": 14,
     "metadata": {},
     "output_type": "execute_result"
    }
   ],
   "source": [
    "import os\n",
    "os.getcwd()\n"
   ]
  },
  {
   "cell_type": "code",
   "execution_count": 10,
   "id": "83ed19fc-e599-4bcc-81d4-648c8c2488a6",
   "metadata": {},
   "outputs": [],
   "source": [
    "# when file is on different location either you need to provide full path of file \n",
    "# or you  can change your directry \n",
    "# by os.chdir(\"location where file present\")\n",
    "# by applyign this python file will not move to that location but we have change current working directory\n",
    "# now we need only provide name of file not complete file path\n",
    "\n",
    "path=\"C:\\\\Users\\\\Admin\\\\Downloads\"\n",
    "os.chdir(path)"
   ]
  },
  {
   "cell_type": "code",
   "execution_count": 11,
   "id": "82dc63b1-f870-4883-b33b-3628103f0087",
   "metadata": {},
   "outputs": [
    {
     "data": {
      "text/plain": [
       "'C:\\\\Users\\\\Admin\\\\Downloads'"
      ]
     },
     "execution_count": 11,
     "metadata": {},
     "output_type": "execute_result"
    }
   ],
   "source": [
    "os.getcwd()"
   ]
  },
  {
   "cell_type": "code",
   "execution_count": 1,
   "id": "b816104e-44c7-4f7d-a0c7-a0e18ce2e233",
   "metadata": {},
   "outputs": [],
   "source": [
    "file_name1=\"mbox-short.txt\"\n",
    "f=open(file_name1,encoding=\"utf-8-sig\")\n",
    "#print(f.read())"
   ]
  },
  {
   "cell_type": "code",
   "execution_count": null,
   "id": "8e757437-f267-4bf6-9caf-dd384bd65eb8",
   "metadata": {},
   "outputs": [],
   "source": [
    "os.chdir()"
   ]
  },
  {
   "cell_type": "code",
   "execution_count": null,
   "id": "a3c3f573-2e05-4b6f-8a36-98c05d6911e7",
   "metadata": {},
   "outputs": [],
   "source": []
  },
  {
   "cell_type": "code",
   "execution_count": null,
   "id": "f5079b73-4557-493c-a1e8-2d616134cd9c",
   "metadata": {},
   "outputs": [],
   "source": []
  },
  {
   "cell_type": "code",
   "execution_count": null,
   "id": "ea20f935-a622-4d40-9276-2eae8b83cead",
   "metadata": {},
   "outputs": [],
   "source": []
  },
  {
   "cell_type": "code",
   "execution_count": null,
   "id": "e62712eb-a535-4bd7-8d2c-c59e2215176d",
   "metadata": {},
   "outputs": [],
   "source": []
  }
 ],
 "metadata": {
  "kernelspec": {
   "display_name": "Python [conda env:base] *",
   "language": "python",
   "name": "conda-base-py"
  },
  "language_info": {
   "codemirror_mode": {
    "name": "ipython",
    "version": 3
   },
   "file_extension": ".py",
   "mimetype": "text/x-python",
   "name": "python",
   "nbconvert_exporter": "python",
   "pygments_lexer": "ipython3",
   "version": "3.13.5"
  }
 },
 "nbformat": 4,
 "nbformat_minor": 5
}
