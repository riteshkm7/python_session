{
 "cells": [
  {
   "cell_type": "code",
   "execution_count": null,
   "id": "52c8270a-18ab-4470-a862-46f4748971c2",
   "metadata": {},
   "outputs": [],
   "source": [
    "l=[int(i) for i in input(\"enter numberes\").split()]\n",
    "prime=[]\n",
    "non_prime=[]\n",
    "for i in l:\n",
    "    fact=0\n",
    "    for j in range(1,i+1):\n",
    "        if i%j==0:\n",
    "            fact+=1\n",
    "    if fact==2:\n",
    "        prime.append(i)\n",
    "        \n",
    "    else:\n",
    "        non_prime.append(i)\n",
    "print(\"prime:\",prime)\n",
    "print(\"non prime:\",non_prime)\n",
    "    "
   ]
  },
  {
   "cell_type": "code",
   "execution_count": null,
   "id": "b4793467-5897-48b4-b43a-6abda0ddcd5e",
   "metadata": {},
   "outputs": [],
   "source": []
  }
 ],
 "metadata": {
  "kernelspec": {
   "display_name": "Python [conda env:base] *",
   "language": "python",
   "name": "conda-base-py"
  },
  "language_info": {
   "codemirror_mode": {
    "name": "ipython",
    "version": 3
   },
   "file_extension": ".py",
   "mimetype": "text/x-python",
   "name": "python",
   "nbconvert_exporter": "python",
   "pygments_lexer": "ipython3",
   "version": "3.13.5"
  }
 },
 "nbformat": 4,
 "nbformat_minor": 5
}
