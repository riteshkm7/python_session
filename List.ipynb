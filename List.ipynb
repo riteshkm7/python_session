{
 "cells": [
  {
   "cell_type": "markdown",
   "id": "e4665396-beb9-4452-93ca-5fe17676c74a",
   "metadata": {},
   "source": [
    "### list ###\n",
    "- list is  collection of array of elements\n",
    "- it containts heterogenious elements it can contain different type of data type list tuple str int float dicton\n",
    "- it can also contain a list inside\n",
    "- it allow dublicates values"
   ]
  },
  {
   "cell_type": "code",
   "execution_count": 11,
   "id": "c38331e6-4982-4477-8cec-470d624f68fa",
   "metadata": {},
   "outputs": [
    {
     "name": "stdout",
     "output_type": "stream",
     "text": [
      "[1, 2, 3, 4]\n",
      "['A', 'B', 'C', 'D']\n",
      "[1, 2, 3, 4, 'a', 'b', 'c', 'd']\n",
      "[1, 2, 3, 4, [10, 11]]\n",
      "[1, 2, 4, 4.5]\n",
      "[1, 2, 3, 5, 5, 1]\n"
     ]
    }
   ],
   "source": [
    "list1=[1,2,3,4]\n",
    "list2=[\"A\",\"B\",\"C\",\"D\"]\n",
    "list3=[1,2,3,4,\"a\",\"b\",\"c\",\"d\"]\n",
    "list4=[1,2,3,4,[10,11]]\n",
    "list5=[1,2,4,4.5]\n",
    "list6=[1,2,3,5,5,1] # in list dublicates elements are allowed\n",
    "print(list1)\n",
    "print(list2)\n",
    "print(list3)\n",
    "print(list4)\n",
    "print(list5)\n",
    "print(list6)"
   ]
  },
  {
   "cell_type": "markdown",
   "id": "ae99132a-8714-4511-8f9c-348a81fc12d8",
   "metadata": {},
   "source": [
    "$type$\n",
    "- it return the type of list i.e list"
   ]
  },
  {
   "cell_type": "code",
   "execution_count": 7,
   "id": "0bcf9ba9-853c-4b80-abf5-c0722b510f5f",
   "metadata": {},
   "outputs": [
    {
     "name": "stdout",
     "output_type": "stream",
     "text": [
      "<class 'list'>\n"
     ]
    }
   ],
   "source": [
    "print(type(list1))"
   ]
  },
  {
   "cell_type": "markdown",
   "id": "1526b8de-4f0d-4b44-896f-5242377b8e77",
   "metadata": {},
   "source": [
    "- max it return the max elements of the list based on ascii\n",
    "- min it will return min\n",
    "- it will work on only one type of data if list contain only one type data then only give max and min value\n",
    "- if inside the list another two list contain and we want to compare then inside both list same data type\n",
    "- only then compare and provide the answer as by comparing the content of both list which is bigger\n",
    "- but must be same data type\n",
    "- for reference check list7 to list9"
   ]
  },
  {
   "cell_type": "code",
   "execution_count": 27,
   "id": "e0aa7f43-b651-4815-a030-c2eb9876fd74",
   "metadata": {},
   "outputs": [
    {
     "name": "stdout",
     "output_type": "stream",
     "text": [
      "D\n",
      "4.5\n",
      "[1, 2, 3]\n",
      "[1, 2, 2]\n",
      "['a']\n",
      "['A']\n"
     ]
    },
    {
     "ename": "TypeError",
     "evalue": "'>' not supported between instances of 'int' and 'str'",
     "output_type": "error",
     "traceback": [
      "\u001b[1;31m---------------------------------------------------------------------------\u001b[0m",
      "\u001b[1;31mTypeError\u001b[0m                                 Traceback (most recent call last)",
      "Cell \u001b[1;32mIn[27], line 12\u001b[0m\n\u001b[0;32m     10\u001b[0m \u001b[38;5;28mprint\u001b[39m(\u001b[38;5;28mmin\u001b[39m(list8))\n\u001b[0;32m     11\u001b[0m list9\u001b[38;5;241m=\u001b[39m[[\u001b[38;5;124m\"\u001b[39m\u001b[38;5;124ma\u001b[39m\u001b[38;5;124m\"\u001b[39m],[\u001b[38;5;241m198\u001b[39m]]\n\u001b[1;32m---> 12\u001b[0m \u001b[38;5;28mprint\u001b[39m(\u001b[38;5;28mmax\u001b[39m(list9))\n",
      "\u001b[1;31mTypeError\u001b[0m: '>' not supported between instances of 'int' and 'str'"
     ]
    }
   ],
   "source": [
    "print(max(list2))\n",
    "print(max(list5)) # it can work b/w int and float \n",
    "#print(max(list3)) # between str and int not applicable only one type of data \n",
    "#print(max(list4)) # not will compare between list and int\n",
    "list7=[[1,2,3],[1,2,2]] # it will compare on the basis of value of both list and then give max\n",
    "print(max(list7))\n",
    "print(min(list7))\n",
    "list8=[[\"a\"],[\"A\"]] # will compare on the basis of ascii value of character\n",
    "print(max(list8))\n",
    "print(min(list8))\n",
    "list9=[[\"a\"],[198]]\n",
    "print(max(list9)) # can't compare str with int"
   ]
  },
  {
   "cell_type": "markdown",
   "id": "bab4f42f-df95-4da1-8d0b-707845bda5cb",
   "metadata": {},
   "source": [
    "$ len $\n",
    "- it will provide the number of character  in list"
   ]
  },
  {
   "cell_type": "code",
   "execution_count": 29,
   "id": "0ed15335-7b2d-404b-ab88-d3a7abe70882",
   "metadata": {},
   "outputs": [
    {
     "name": "stdout",
     "output_type": "stream",
     "text": [
      "2\n"
     ]
    }
   ],
   "source": [
    "print(len(list9))"
   ]
  },
  {
   "cell_type": "markdown",
   "id": "d72d3852-c195-4cbe-a2c7-03db2596d7c1",
   "metadata": {},
   "source": [
    "#### Acess list element ####\n"
   ]
  },
  {
   "cell_type": "code",
   "execution_count": 30,
   "id": "d1c48da8-cc9a-4e42-973c-e36ff2306ac0",
   "metadata": {},
   "outputs": [
    {
     "name": "stdout",
     "output_type": "stream",
     "text": [
      "1\n",
      "2\n",
      "3\n",
      "4\n",
      "a\n",
      "b\n",
      "c\n",
      "d\n"
     ]
    }
   ],
   "source": [
    "# using in operator\n",
    "list3=[1,2,3,4,\"a\",\"b\",\"c\",\"d\"]\n",
    "for i in list3:\n",
    "    print(i)\n"
   ]
  },
  {
   "cell_type": "code",
   "execution_count": 34,
   "id": "8afd1aa4-72b4-4897-9352-c43fb54928f0",
   "metadata": {},
   "outputs": [
    {
     "name": "stdout",
     "output_type": "stream",
     "text": [
      "index= 0 1\n",
      "index= 1 2\n",
      "index= 2 3\n",
      "index= 3 4\n",
      "index= 4 a\n",
      "index= 5 b\n",
      "index= 6 c\n",
      "index= 7 d\n"
     ]
    }
   ],
   "source": [
    "# using range\n",
    "for i in  range(len(list3)):\n",
    "    print(\"index=\",i,list3[i] )"
   ]
  },
  {
   "cell_type": "code",
   "execution_count": 40,
   "id": "279a17d7-8ccd-42e9-b39d-73d126e71003",
   "metadata": {},
   "outputs": [
    {
     "name": "stdout",
     "output_type": "stream",
     "text": [
      "Postive index 0 and negative index -8 for 1\n",
      "Postive index 1 and negative index -7 for 2\n",
      "Postive index 2 and negative index -6 for 3\n",
      "Postive index 3 and negative index -5 for 4\n",
      "Postive index 4 and negative index -4 for a\n",
      "Postive index 5 and negative index -3 for b\n",
      "Postive index 6 and negative index -2 for c\n",
      "Postive index 7 and negative index -1 for d\n"
     ]
    }
   ],
   "source": [
    "# from postive index print negative index also\n",
    "for  i in range(len(list3)):\n",
    "    print(\"Postive index {} and negative index {} for {}\".format(i,i-len(list3),list3[i]))"
   ]
  },
  {
   "cell_type": "code",
   "execution_count": 41,
   "id": "128729b0-eef8-4fae-b516-53395e6abb67",
   "metadata": {},
   "outputs": [
    {
     "name": "stdout",
     "output_type": "stream",
     "text": [
      "negative index -8 and postive index 0 for 1\n",
      "negative index -7 and postive index 1 for 2\n",
      "negative index -6 and postive index 2 for 3\n",
      "negative index -5 and postive index 3 for 4\n",
      "negative index -4 and postive index 4 for a\n",
      "negative index -3 and postive index 5 for b\n",
      "negative index -2 and postive index 6 for c\n",
      "negative index -1 and postive index 7 for d\n"
     ]
    }
   ],
   "source": [
    "# from negative index print postive index\n",
    "for i in range(-len(list3),0):\n",
    "    print(\"negative index {} and postive index {} for {}\".format(i,i+len(list3),list3[i]))"
   ]
  },
  {
   "cell_type": "markdown",
   "id": "bfbab849-5125-4aed-b9ef-3534543df757",
   "metadata": {},
   "source": [
    "$sum$\n",
    "- it will provide the sum of numeric data only"
   ]
  },
  {
   "cell_type": "code",
   "execution_count": 65,
   "id": "153747fb-dd43-42fa-a479-e3bf777c0355",
   "metadata": {},
   "outputs": [
    {
     "name": "stdout",
     "output_type": "stream",
     "text": [
      "28\n",
      "with complex: (17+1j)\n",
      "(17+1j)\n",
      "without complex: 17\n",
      "16.8\n"
     ]
    }
   ],
   "source": [
    "list1=[1,2,3,4,5,6,7]\n",
    "print(sum(list1))\n",
    "list3=[1,2,3,4,\"a\",\"b\",\"c\",\"d\"]\n",
    "#print(sum(list3)) # sum can be perfome only numbers # work\n",
    "list4=[1,2,4,10+1j]\n",
    "print(\"with complex:\",sum(list4))\n",
    "list5=[[1,2,3],[1,1,1]]\n",
    "#print(sum(list5)) # can't perform the sum between two list in the same list\n",
    "print(sum(list4))\n",
    "list4=[1,2,4,10]\n",
    "print(\"without complex:\",sum(list4))\n",
    "list6=[1,2,3,10.8]\n",
    "print(sum(list6))\n",
    "\n"
   ]
  },
  {
   "cell_type": "markdown",
   "id": "4c98c47b-1557-436e-a280-58ba4548a341",
   "metadata": {},
   "source": [
    "$ concatenation $\n",
    "- list1 + list2 is possible intial list1 elements come and then second list"
   ]
  },
  {
   "cell_type": "code",
   "execution_count": 68,
   "id": "de68f53b-caab-4b40-800c-f55bd252d94f",
   "metadata": {},
   "outputs": [
    {
     "name": "stdout",
     "output_type": "stream",
     "text": [
      "[5, 6, 7, 8, 9, 1, 2, 3, 4]\n",
      "[1, 2, 3, 4, 5, 6, 7, 8, 9]\n"
     ]
    }
   ],
   "source": [
    "list10=[1,2,3,4]\n",
    "list11=[5,6,7,8,9]\n",
    "nw_list=list10+list11\n",
    "print(list11+list10)\n",
    "print(nw_list)"
   ]
  },
  {
   "cell_type": "markdown",
   "id": "76772e0a-9493-4d95-ab25-9966aeacbc8b",
   "metadata": {},
   "source": [
    "- in list * by number is possible that many times elements in list will repeat\n",
    "- list1*3 possible\n",
    "- listt * list not possible\n",
    "- list-list not possible\n",
    "- list/list not possible\n",
    "  "
   ]
  },
  {
   "cell_type": "code",
   "execution_count": 75,
   "id": "550aea19-2fc1-4216-a606-44b74f372f04",
   "metadata": {},
   "outputs": [
    {
     "name": "stdout",
     "output_type": "stream",
     "text": [
      "[1, 2, 3, 4, 1, 2, 3, 4, 1, 2, 3, 4]\n"
     ]
    },
    {
     "ename": "TypeError",
     "evalue": "unsupported operand type(s) for -: 'list' and 'list'",
     "output_type": "error",
     "traceback": [
      "\u001b[1;31m---------------------------------------------------------------------------\u001b[0m",
      "\u001b[1;31mTypeError\u001b[0m                                 Traceback (most recent call last)",
      "Cell \u001b[1;32mIn[75], line 5\u001b[0m\n\u001b[0;32m      3\u001b[0m list2\u001b[38;5;241m=\u001b[39m[\u001b[38;5;241m4\u001b[39m,\u001b[38;5;241m5\u001b[39m,\u001b[38;5;241m6\u001b[39m,\u001b[38;5;241m7\u001b[39m]\n\u001b[0;32m      4\u001b[0m \u001b[38;5;66;03m#print(list1*list2)# np\u001b[39;00m\n\u001b[1;32m----> 5\u001b[0m \u001b[38;5;28mprint\u001b[39m(list1\u001b[38;5;241m-\u001b[39mlist2)\n",
      "\u001b[1;31mTypeError\u001b[0m: unsupported operand type(s) for -: 'list' and 'list'"
     ]
    }
   ],
   "source": [
    "list1=[1,2,3,4]\n",
    "print(list1*3) # three times list element will repeat inside list\n",
    "list2=[4,5,6,7]\n",
    "print(list1*list2)# np\n"
   ]
  },
  {
   "cell_type": "code",
   "execution_count": 76,
   "id": "5d63601c-e6c1-490d-8f84-3162e812bf8c",
   "metadata": {},
   "outputs": [
    {
     "ename": "TypeError",
     "evalue": "unsupported operand type(s) for -: 'list' and 'list'",
     "output_type": "error",
     "traceback": [
      "\u001b[1;31m---------------------------------------------------------------------------\u001b[0m",
      "\u001b[1;31mTypeError\u001b[0m                                 Traceback (most recent call last)",
      "Cell \u001b[1;32mIn[76], line 1\u001b[0m\n\u001b[1;32m----> 1\u001b[0m \u001b[38;5;28mprint\u001b[39m(list1\u001b[38;5;241m-\u001b[39mlist2)\n",
      "\u001b[1;31mTypeError\u001b[0m: unsupported operand type(s) for -: 'list' and 'list'"
     ]
    }
   ],
   "source": [
    "print(list1-list2)"
   ]
  },
  {
   "cell_type": "code",
   "execution_count": 77,
   "id": "623925be-e38e-4cb4-93ac-61dedb6ab4d7",
   "metadata": {},
   "outputs": [
    {
     "ename": "TypeError",
     "evalue": "unsupported operand type(s) for /: 'list' and 'list'",
     "output_type": "error",
     "traceback": [
      "\u001b[1;31m---------------------------------------------------------------------------\u001b[0m",
      "\u001b[1;31mTypeError\u001b[0m                                 Traceback (most recent call last)",
      "Cell \u001b[1;32mIn[77], line 1\u001b[0m\n\u001b[1;32m----> 1\u001b[0m \u001b[38;5;28mprint\u001b[39m(list1\u001b[38;5;241m/\u001b[39mlist2)\n",
      "\u001b[1;31mTypeError\u001b[0m: unsupported operand type(s) for /: 'list' and 'list'"
     ]
    }
   ],
   "source": [
    "print(list1/list2)"
   ]
  },
  {
   "cell_type": "code",
   "execution_count": 79,
   "id": "c3ac13e2-930c-4d18-88db-3b5172f84ef6",
   "metadata": {},
   "outputs": [
    {
     "name": "stdout",
     "output_type": "stream",
     "text": [
      "Ab\n",
      "Cd\n",
      "Ef\n"
     ]
    }
   ],
   "source": [
    "#WAP find the elements which are having len<3\n",
    "list1=['Apple','Ball','Cat','Ab','Cd','Ef']\n",
    "for i in  list1:\n",
    "    if len(i)<3:\n",
    "        print(i)\n"
   ]
  },
  {
   "cell_type": "code",
   "execution_count": 82,
   "id": "02fcee21-d144-4958-8a31-ea441679f273",
   "metadata": {},
   "outputs": [
    {
     "name": "stdout",
     "output_type": "stream",
     "text": [
      "App#e\n",
      "B#ll\n",
      "C#t\n",
      "3\n"
     ]
    }
   ],
   "source": [
    "#WAP find the elements which are having #\n",
    "count=0\n",
    "list1=['App#e','B#ll','C#t','Ab','Cd','Ef']\n",
    "for i in list1:\n",
    "    if \"#\" in i:\n",
    "        print(i)\n",
    "        count+=1\n",
    "print(count)        "
   ]
  },
  {
   "cell_type": "code",
   "execution_count": 84,
   "id": "1e5246c9-a645-48e0-8ac5-af8e26926a5b",
   "metadata": {},
   "outputs": [
    {
     "name": "stdout",
     "output_type": "stream",
     "text": [
      "Ball\n"
     ]
    }
   ],
   "source": [
    "list1=[1,2,3,['Apple','Ball']]\n",
    "# retrive the ball using index\n",
    "# In the given list how many elements are there: 4\n",
    "# in this list 4 elements at 0 and 1,2\n",
    "# at 3 again one list that contain again 2 elementes \n",
    "# we want element of index 1 of secondl list\n",
    "# so it can be\n",
    "# first fetch the index 3 element of list 1\n",
    "# it will give another list then again fetch the  index 1 element\n",
    "# list[3][1]\n",
    "print(list1[3][1])"
   ]
  },
  {
   "cell_type": "markdown",
   "id": "733ed0d1-9669-4e75-8290-1312d9931351",
   "metadata": {},
   "source": [
    "### note in this type of question first always find the how many elements contain in that list and for which index you ###\n",
    "### interest  right that after the list  name only one time list will be written and then only interested  index### "
   ]
  },
  {
   "cell_type": "code",
   "execution_count": 87,
   "id": "a019ac34-cf54-4d12-b3ec-59d6af9dee1c",
   "metadata": {},
   "outputs": [
    {
     "name": "stdout",
     "output_type": "stream",
     "text": [
      "Cherry\n"
     ]
    }
   ],
   "source": [
    "list1=[[[[[[['Cherry']]]]]]]\n",
    "# list2 contain only 1 element at o so list1[0] whcih give another list\n",
    "# it will give [[[[[['Cherry']]]]]]\n",
    "#same ways another list also contacin only one element as list so list1[0][0]\n",
    "#[[[[['Cherry']]]]]\n",
    "# smae way list1[0][0][0]\n",
    "#[[[['Cherry']]]]\n",
    "# list1[0][0][0][0] [[['Cherry']]]\n",
    "# list1[][][][][][] give [['Cherry']]\n",
    "# list1[0][0][0][0][0][0][0] give ['Cherry']\n",
    "# last lsit list1[0][0][0][0][0][0][0]\"cherry\"\n",
    "print(list1[0][0][0][0][0][0][0])\n",
    "\n",
    "\n"
   ]
  },
  {
   "cell_type": "code",
   "execution_count": 88,
   "id": "a522f0a6-53e6-4ea0-b12a-d538ca6ea34f",
   "metadata": {},
   "outputs": [
    {
     "data": {
      "text/plain": [
       "'car'"
      ]
     },
     "execution_count": 88,
     "metadata": {},
     "output_type": "execute_result"
    }
   ],
   "source": [
    "list3=[[[['A','B',[[[1,2,3,['car']]]]]]]]\n",
    "list3[0][0][0][2][0][0][3][0] # use same method just how many elements in list and take that index"
   ]
  },
  {
   "cell_type": "markdown",
   "id": "58da99cc-520b-48ec-810e-6cb428d8ddde",
   "metadata": {},
   "source": [
    "### list is mutable as we can change the list through index ###"
   ]
  },
  {
   "cell_type": "code",
   "execution_count": 90,
   "id": "febdf1d1-fc99-42b1-8f9e-137a7b7beb9c",
   "metadata": {},
   "outputs": [
    {
     "name": "stdout",
     "output_type": "stream",
     "text": [
      "befor change: [1, 2, 3, 4]\n",
      "[1, 2, 'hari', 4]\n"
     ]
    }
   ],
   "source": [
    "list1=[1,2,3,4]\n",
    "print(\"befor change:\",list1)\n",
    "list1[2]=\"hari\"\n",
    "print(list1)"
   ]
  },
  {
   "cell_type": "markdown",
   "id": "7ec72859-883e-4299-8657-77ce464ef842",
   "metadata": {},
   "source": [
    "$ slicing $ \n",
    "- it is same as string "
   ]
  },
  {
   "cell_type": "code",
   "execution_count": 91,
   "id": "e9dbdcb5-ea3d-4f92-aad4-71553b47e328",
   "metadata": {},
   "outputs": [
    {
     "name": "stdout",
     "output_type": "stream",
     "text": [
      "[40, 'y', 'o', 'b']\n",
      "[]\n",
      "[]\n",
      "[40]\n",
      "['c']\n",
      "[]\n",
      "['c', 'n', 't', 50]\n",
      "['d', 'c', 'b', 'a', 'n', 'o', 'h', 't']\n",
      "[]\n",
      "['c', 'b', 'a', 'n']\n"
     ]
    }
   ],
   "source": [
    "list1=[20,30,40,50,\"p\",\"y\",\"t\",\"h\",\"o\",\"n\",\"a\",\"b\",\"c\",\"d\"]\n",
    "print(list1[2:14:3])\n",
    "print(list1[2:14:-3])\n",
    "print(list1[2:-14:3])\n",
    "print(list1[2:-14:-3])\n",
    "print(list1[-2:14:3])\n",
    "print(list1[-2:-14:3])\n",
    "print(list1[-2:-14:-3])\n",
    "print(list1[-1:5:-1])\n",
    "print(list1[-2:14:-3])\n",
    "print(list1[-2:8:-1])# np in loop but in slicing it is possible as number in backwared direction and also direction in back\n"
   ]
  },
  {
   "cell_type": "markdown",
   "id": "58741af8-c49a-4aab-9581-67c9c7341ea0",
   "metadata": {},
   "source": [
    "#### list methods ####"
   ]
  },
  {
   "cell_type": "code",
   "execution_count": 92,
   "id": "7f8fb020-1329-4ae2-9e4d-a24111c99408",
   "metadata": {},
   "outputs": [
    {
     "data": {
      "text/plain": [
       "['__add__',\n",
       " '__class__',\n",
       " '__class_getitem__',\n",
       " '__contains__',\n",
       " '__delattr__',\n",
       " '__delitem__',\n",
       " '__dir__',\n",
       " '__doc__',\n",
       " '__eq__',\n",
       " '__format__',\n",
       " '__ge__',\n",
       " '__getattribute__',\n",
       " '__getitem__',\n",
       " '__getstate__',\n",
       " '__gt__',\n",
       " '__hash__',\n",
       " '__iadd__',\n",
       " '__imul__',\n",
       " '__init__',\n",
       " '__init_subclass__',\n",
       " '__iter__',\n",
       " '__le__',\n",
       " '__len__',\n",
       " '__lt__',\n",
       " '__mul__',\n",
       " '__ne__',\n",
       " '__new__',\n",
       " '__reduce__',\n",
       " '__reduce_ex__',\n",
       " '__repr__',\n",
       " '__reversed__',\n",
       " '__rmul__',\n",
       " '__setattr__',\n",
       " '__setitem__',\n",
       " '__sizeof__',\n",
       " '__str__',\n",
       " '__subclasshook__',\n",
       " 'append',\n",
       " 'clear',\n",
       " 'copy',\n",
       " 'count',\n",
       " 'extend',\n",
       " 'index',\n",
       " 'insert',\n",
       " 'pop',\n",
       " 'remove',\n",
       " 'reverse',\n",
       " 'sort']"
      ]
     },
     "execution_count": 92,
     "metadata": {},
     "output_type": "execute_result"
    }
   ],
   "source": [
    "dir([]) # it will give all the list methods"
   ]
  },
  {
   "cell_type": "markdown",
   "id": "d141a828-bf17-4abc-b976-b13fa0673cee",
   "metadata": {},
   "source": [
    "$ copy $ - $ clear $"
   ]
  },
  {
   "cell_type": "code",
   "execution_count": 113,
   "id": "73fbbf54-f75c-4f36-860c-ad916b844f37",
   "metadata": {},
   "outputs": [
    {
     "name": "stdout",
     "output_type": "stream",
     "text": [
      "copy list: [1, 2, 3, 4]\n",
      "list1 [1, 2, 3, 4]\n",
      "[1, 2, 3, 4]\n"
     ]
    }
   ],
   "source": [
    "# copy is used to copy a list into another list\n",
    "list_2=[\"a\",\"fdsafd\"]\n",
    "list_1=[1,2,3,4]\n",
    "list_2=list_1.copy()  # once copy old elements of list_2 will remove only copy list element will exist\n",
    "print(\"copy list:\",list_2)\n",
    "print(\"list1\",list_1)\n",
    "print(list_2)\n"
   ]
  },
  {
   "cell_type": "code",
   "execution_count": 115,
   "id": "8b8d9c1c-dd4a-4c1e-94e7-88ff42fcf5d1",
   "metadata": {},
   "outputs": [
    {
     "name": "stdout",
     "output_type": "stream",
     "text": [
      "[]\n"
     ]
    }
   ],
   "source": [
    "# clear to clear all the element of the listlist_1.clear()\n",
    "list_1.clear()# all the element will deelet from the list\n",
    "print(list_1)"
   ]
  },
  {
   "cell_type": "code",
   "execution_count": 117,
   "id": "fe71e78c-52ab-420a-bb68-44efe0e094bc",
   "metadata": {},
   "outputs": [
    {
     "name": "stdout",
     "output_type": "stream",
     "text": [
      "list 5: [10, 20]\n",
      "list 4: []\n"
     ]
    }
   ],
   "source": [
    "# i want copy list list 4 element in list 4 and then clear list 4\n",
    "list_4=[10,20]\n",
    "list_5=list_4.copy()\n",
    "list_4.clear()\n",
    "print(\"list 5:\",list_5)\n",
    "print(\"list 4:\",list_4)\n"
   ]
  },
  {
   "cell_type": "code",
   "execution_count": null,
   "id": "244cf493-2eac-499a-a2d9-0832dce3ad78",
   "metadata": {},
   "outputs": [],
   "source": [
    "# wap to enter the list of elements from user and create another  list having even numbers\n",
    "# taking string as input and then convert into list using split\n",
    "list1=input(\"enter the number\").split(\",\") # here split method convert the string enter\n",
    "# convert string in list into  int\n",
    "\"\"\" for i in range(len(list1)):\n",
    "    list1[i]=int(list1[i])\"\"\"\n",
    "# we can convert this using list comprehenstion \n",
    "list1=[int(i) for i in list1]\n",
    "print(list1)\n",
    "print(type(list1[0]))\n",
    "\n",
    "# find even number\n",
    "list2=[]\n",
    "for i in list1:\n",
    "    if i%2==0:\n",
    "        list2.append(i)\n",
    "print(list2)       "
   ]
  },
  {
   "cell_type": "markdown",
   "id": "5910adce-0a73-45d0-8924-e3c8b5113a61",
   "metadata": {},
   "source": [
    "### append ###\n",
    "- append is method that take the element and put in the last of list\n",
    "- it will append as it if a  list[] is append it will directly append not its individual elements\n"
   ]
  },
  {
   "cell_type": "code",
   "execution_count": 71,
   "id": "f3da0c4a-ebc2-4ed3-8cea-3a23b9106916",
   "metadata": {},
   "outputs": [
    {
     "name": "stdout",
     "output_type": "stream",
     "text": [
      "[1, 2, 3, 4, 5]\n"
     ]
    }
   ],
   "source": [
    "list1=[1,2,3,4]\n",
    "list1.append(5)\n",
    "print(list1)"
   ]
  },
  {
   "cell_type": "code",
   "execution_count": 72,
   "id": "8dd07fb4-ea15-4ad1-8da3-c872b981e303",
   "metadata": {},
   "outputs": [
    {
     "name": "stdout",
     "output_type": "stream",
     "text": [
      "[1, 2, 3, 4, 5, [6, 7, 8]]\n"
     ]
    }
   ],
   "source": [
    "# upending a list\n",
    "list1.append([6,7,8])\n",
    "print(list1)"
   ]
  },
  {
   "cell_type": "code",
   "execution_count": null,
   "id": "ed4a5af7-ca6f-47a4-ae37-8aff97c06aae",
   "metadata": {},
   "outputs": [],
   "source": [
    "# wap to enter the input list and then create a new list with square\n",
    "# without taking input from user and converting into int using append"
   ]
  },
  {
   "cell_type": "code",
   "execution_count": 4,
   "id": "49494036-2a4c-403f-8c6d-b83cbb50af84",
   "metadata": {},
   "outputs": [
    {
     "name": "stdout",
     "output_type": "stream",
     "text": [
      "square list: [1, 2, 3, 4, 5]\n"
     ]
    }
   ],
   "source": [
    "list1=[1,2,3,4,5]\n",
    "list2=[]\n",
    "for i in list1:\n",
    "    list2.append(i*i)\n",
    "print(\"square list:\",list1)\n",
    "    \n",
    "    "
   ]
  },
  {
   "cell_type": "code",
   "execution_count": 12,
   "id": "4181e16b-9bcb-4c7e-92d1-eda030eb0590",
   "metadata": {},
   "outputs": [
    {
     "name": "stdout",
     "output_type": "stream",
     "text": [
      "['Ritesh', 'Hyd', 'Gurgaon']\n"
     ]
    },
    {
     "data": {
      "text/plain": [
       "' str1=\"ritesh\"\\nprint(str1.capitalize()) #apply capital method but not store in str1 that is why str1 is same\\nprint(str1) # \"ritesh\"\\nstr1=str1.capitalize()\\nprint(str1)# now we store so change will reflect\\n'"
      ]
     },
     "execution_count": 12,
     "metadata": {},
     "output_type": "execute_result"
    }
   ],
   "source": [
    "#2. \n",
    "# input list [\"hyd\",\"gurgaon\",banglore,]\n",
    "#op [Hyd,Gurgaon] new list first letter capital\n",
    "# first acess each element of list1 using loop then apply capaital on each and then append\n",
    "list1=[\"ritesh\",\"hyd\",\"gurgaon\"]\n",
    "list2=[]\n",
    "for  i in list1:\n",
    "    list2.append(i.capitalize())\n",
    "print(list2) \n",
    "\n",
    "\n",
    "\"\"\" str1=\"ritesh\"\n",
    "print(str1.capitalize()) #apply capital method but not store in str1 that is why str1 is same\n",
    "print(str1) # \"ritesh\"\n",
    "str1=str1.capitalize()\n",
    "print(str1)# now we store so change will reflect\n",
    "\"\"\"\n",
    "\n",
    "\n",
    "\n",
    "    "
   ]
  },
  {
   "cell_type": "code",
   "execution_count": 14,
   "id": "9e7134f3-9b85-4f84-9682-423964d85475",
   "metadata": {},
   "outputs": [
    {
     "name": "stdout",
     "output_type": "stream",
     "text": [
      "['h#d', 'beng#luru']\n"
     ]
    }
   ],
   "source": [
    "#3.\n",
    "list3=['h#d','beng#luru','delhi']\n",
    "# output=['h#d','beng#luru']\n",
    "output=[] \n",
    "for i in list3:\n",
    "    if \"#\" in i:# after accesing all elements of list check using in operator if \"# \" in that element if yes the append\n",
    "        output.append(i)\n",
    "print(output)        \n",
    "        "
   ]
  },
  {
   "cell_type": "markdown",
   "id": "49fdad09-4015-49cd-9d8e-40efab1d529e",
   "metadata": {},
   "source": [
    "### list comprehension ###\n",
    "- in which code  will write in single line inside the list\n",
    "- format list=[<output>  <for loop>]"
   ]
  },
  {
   "cell_type": "code",
   "execution_count": 10,
   "id": "05cd6931-c098-4f14-9ea0-9263c9f422dd",
   "metadata": {},
   "outputs": [
    {
     "name": "stdout",
     "output_type": "stream",
     "text": [
      "[1, 4, 9, 16, 25]\n",
      "[1, 2, 3, 4, 5]\n"
     ]
    }
   ],
   "source": [
    "#1 square question using comprehension\n",
    "list1=[1,2,3,4,5]\n",
    "list2=[i*i for i in list1] \n",
    "print(list2)\n",
    "print(list1)"
   ]
  },
  {
   "cell_type": "code",
   "execution_count": 11,
   "id": "3e4c4d54-b5d2-4745-b735-c10b1a2758d7",
   "metadata": {},
   "outputs": [
    {
     "name": "stdout",
     "output_type": "stream",
     "text": [
      "[1, 4, 9, 16, 25]\n",
      "[1, 4, 9, 16, 25]\n"
     ]
    }
   ],
   "source": [
    "#square question using comprehension in comprehension list same list name work to store the result as we assign here here\n",
    "list1=[1,2,3,4,5]\n",
    "list1=[i*i for i in list1] \n",
    "print(list1)"
   ]
  },
  {
   "cell_type": "code",
   "execution_count": null,
   "id": "2d749868-1aac-47ae-9b7c-30883e2635f0",
   "metadata": {},
   "outputs": [],
   "source": []
  },
  {
   "cell_type": "code",
   "execution_count": null,
   "id": "27d697c4-7f58-4ae5-a608-e6b8012ae270",
   "metadata": {},
   "outputs": [],
   "source": [
    "# but in loop using append it will not work it will go infinite\n",
    "# this will not work NOTE  as we are not assign here append we are directly appending value to the list at the end\n",
    "list1=[1,2,3,4]\n",
    "list2=[]\n",
    "for i in list1:\n",
    "    list1.append(i*i)\n",
    "print(list1)     "
   ]
  },
  {
   "cell_type": "code",
   "execution_count": 31,
   "id": "6199b4dd-ceba-4752-abc0-176f7e04d8d5",
   "metadata": {},
   "outputs": [
    {
     "name": "stdout",
     "output_type": "stream",
     "text": [
      "['Ritesh', 'Hyd', 'Gurgaon']\n"
     ]
    }
   ],
   "source": [
    "# 2\n",
    "#2. \n",
    "# input list [\"hyd\",\"gurgaon\",banglore,]\n",
    "#op [Hyd,Gurgaon] new list first letter capital\n",
    "# first acess each element of list1 using loop then apply capaital on each and then append\n",
    "list1=[\"ritesh\",\"hyd\",\"gurgaon\"]\n",
    "list2=[i.capitalize() for i in list1]\n",
    "print(list2)"
   ]
  },
  {
   "cell_type": "code",
   "execution_count": null,
   "id": "ad0f6e52-7720-41ef-85c4-9d71b9e2a19c",
   "metadata": {},
   "outputs": [],
   "source": [
    "# create the list of 20 numbers from 1 to 20\n"
   ]
  },
  {
   "cell_type": "code",
   "execution_count": 32,
   "id": "15d1612b-7251-4964-9052-963f68b40a1b",
   "metadata": {},
   "outputs": [
    {
     "name": "stdout",
     "output_type": "stream",
     "text": [
      "[1, 2, 3, 4, 5, 6, 7, 8, 9, 10, 11, 12, 13, 14, 15, 16, 17, 18, 19, 20]\n"
     ]
    }
   ],
   "source": [
    "# normay way\n",
    "list1=[]\n",
    "for i in range(1,21):\n",
    "    list1.append(i)\n",
    "print(list1)    \n",
    "    "
   ]
  },
  {
   "cell_type": "code",
   "execution_count": 33,
   "id": "0f39d0a5-1afc-41be-975c-2708ffe10586",
   "metadata": {},
   "outputs": [
    {
     "name": "stdout",
     "output_type": "stream",
     "text": [
      "[1, 2, 3, 4, 5, 6, 7, 8, 9, 10, 11, 12, 13, 14, 15, 16, 17, 18, 19, 20]\n"
     ]
    }
   ],
   "source": [
    "# using list comprehension \n",
    "list1=[i for i in range(1,21)]\n",
    "print(list1)"
   ]
  },
  {
   "cell_type": "markdown",
   "id": "e2eb3a7c-4bbf-48c5-8b77-8f2513799e6b",
   "metadata": {},
   "source": [
    "### list comprehension using if condition  ###\n",
    "- format list=[<o/p> <for loop> <if condition >]\n",
    "- list=[outpue  for loop if condition  ]"
   ]
  },
  {
   "cell_type": "code",
   "execution_count": 34,
   "id": "41fda533-e2fc-4854-91a6-aac532484e34",
   "metadata": {},
   "outputs": [
    {
     "name": "stdout",
     "output_type": "stream",
     "text": [
      "['h#d', 'beng#luru']\n"
     ]
    }
   ],
   "source": [
    "#3.using list comprehension\n",
    "list3=['h#d','beng#luru','delhi']\n",
    "\n",
    "# output=['h#d','beng#luru']\n",
    "output=[i for i in list3 if \"#\" in i]\n",
    "print(output)"
   ]
  },
  {
   "cell_type": "code",
   "execution_count": null,
   "id": "7f597d90-bc96-41d5-9c85-612e75cde648",
   "metadata": {},
   "outputs": [],
   "source": [
    "#4  using list comprehension \n",
    "list4=['abcd','abc','ac','a']\n",
    "# elemnts less than 3\n"
   ]
  },
  {
   "cell_type": "code",
   "execution_count": 76,
   "id": "2e97d338-4176-4df3-8a6d-3e2e762de164",
   "metadata": {},
   "outputs": [
    {
     "name": "stdout",
     "output_type": "stream",
     "text": [
      "['ritesh']\n"
     ]
    }
   ],
   "source": [
    "# wap to print the elaments having len more  than 5\n",
    "list1=[\"ritesh\",\"kumar\",\"ajay\"]\n",
    "list2=[i for i in list1 if len(i)>5]\n",
    "print(list2)"
   ]
  },
  {
   "cell_type": "code",
   "execution_count": 36,
   "id": "5613cde1-084c-4db5-ae86-a623ff9d2220",
   "metadata": {},
   "outputs": [
    {
     "name": "stdout",
     "output_type": "stream",
     "text": [
      "['ac', 'a']\n"
     ]
    }
   ],
   "source": [
    "# normal way\n",
    "# new list=elemnts less than 3\n",
    "\n",
    "\n",
    "list4=['abcd','abc','ac','a']\n",
    "output=[]\n",
    "for i in list4:\n",
    "    if len(i)<3:\n",
    "        output.append(i)\n",
    "print(output)        \n",
    "        \n",
    "        \n"
   ]
  },
  {
   "cell_type": "code",
   "execution_count": null,
   "id": "390c61de-0656-4339-87f7-815fe3d0e952",
   "metadata": {},
   "outputs": [],
   "source": [
    "# using list comprehension"
   ]
  },
  {
   "cell_type": "code",
   "execution_count": 38,
   "id": "96327c4a-7ade-43d5-bef7-86505e6f6a77",
   "metadata": {},
   "outputs": [
    {
     "name": "stdout",
     "output_type": "stream",
     "text": [
      "['ac', 'a']\n"
     ]
    }
   ],
   "source": [
    "list4=['abcd','abc','ac','a']\n",
    "output=[i for i in list4 if len(i)<3]\n",
    "print(output)"
   ]
  },
  {
   "cell_type": "markdown",
   "id": "004971ea-d3d7-49ae-b1a4-8a50f86e8a78",
   "metadata": {},
   "source": [
    "\n",
    "#### list comprehension if and else ###\n",
    " - [<if output> <if condition > <else> <lse output> <for loop>] \n"
   ]
  },
  {
   "cell_type": "code",
   "execution_count": null,
   "id": "e2570ab7-3e9b-4370-8112-2bf98cbe6b1f",
   "metadata": {},
   "outputs": [],
   "source": [
    "# given a list and find the odd and even"
   ]
  },
  {
   "cell_type": "code",
   "execution_count": 40,
   "id": "052b87ff-39b3-49fb-8e21-d074a8a61ee8",
   "metadata": {},
   "outputs": [
    {
     "name": "stdout",
     "output_type": "stream",
     "text": [
      "odd 1:\n",
      "even: 2\n",
      "odd 3:\n",
      "even: 4\n",
      "odd 5:\n",
      "even: 6\n",
      "odd 7:\n",
      "even: 8\n"
     ]
    }
   ],
   "source": [
    "# first finding normal way odd and even\n",
    "list1=[1,2,3,4,5,6,7,8]\n",
    "for i in list1:\n",
    "    if i%2==0:\n",
    "        print(\"even: {}\".format(i))\n",
    "    else:\n",
    "        print(\"odd {}:\".format(i))\n",
    "        \n"
   ]
  },
  {
   "cell_type": "code",
   "execution_count": null,
   "id": "e45799f3-c680-4e54-b394-122d2cfa5601",
   "metadata": {},
   "outputs": [],
   "source": []
  },
  {
   "cell_type": "code",
   "execution_count": 41,
   "id": "d4b65079-52c0-4f9f-8856-9571701f9ee5",
   "metadata": {},
   "outputs": [
    {
     "name": "stdout",
     "output_type": "stream",
     "text": [
      "even: [2, 4, 6, 8]\n",
      "odd: [1, 3, 5, 7]\n"
     ]
    }
   ],
   "source": [
    "# now store the even and odd in new list using append\n",
    "list1=[1,2,3,4,5,6,7,8]\n",
    "even=[]\n",
    "odd=[]\n",
    "for i in list1:\n",
    "    if i%2==0:\n",
    "        even.append(i)\n",
    "    else:\n",
    "        odd.append(i)\n",
    "print(\"even:\",even)\n",
    "print(\"odd:\",odd)\n"
   ]
  },
  {
   "cell_type": "code",
   "execution_count": 58,
   "id": "e501d1b0-8366-434c-8c86-b326c2a81d47",
   "metadata": {},
   "outputs": [
    {
     "name": "stdout",
     "output_type": "stream",
     "text": [
      "hello\n",
      "hello\n",
      "hello\n",
      "hello\n",
      "['odd :1', None, 'even 2', 'odd :3', None, 'even 4', 'odd :5', None, 'even 6', 'odd :7', None, 'even 8']\n"
     ]
    }
   ],
   "source": [
    "# we can also append string also but must be only one arguemnet\n",
    "# print method will never append\n",
    "list1=[1,2,3,4,5,6,7,8]\n",
    "output=[]\n",
    "for i in list1:\n",
    "    if i%2==0:\n",
    "        output.append(print(\"hello\")) # never append\n",
    "        output.append(\"even {}\".format(i))\n",
    "    else:\n",
    "        output.append(\"odd :{}\".format(i))\n",
    "print(output)        "
   ]
  },
  {
   "cell_type": "code",
   "execution_count": 80,
   "id": "cd081c41-11b1-4344-96a2-07c4bccb917f",
   "metadata": {},
   "outputs": [
    {
     "name": "stdout",
     "output_type": "stream",
     "text": [
      "['odd 1', 'even 2', 'odd 3', 'even 4', 'odd 5', 'even 6', 'odd 7', 'even 8']\n"
     ]
    }
   ],
   "source": [
    "# want to add and even in same list with label even and odd using normal way\n",
    "list1=[1,2,3,4,5,6,7,8]\n",
    "output=[]\n",
    "for i in list1:\n",
    "    if i%2==0:\n",
    "        output.append(\"even {}\".format(i))\n",
    "    else:\n",
    "        output.append(\"odd {}\".format(i))\n",
    "print(output)"
   ]
  },
  {
   "cell_type": "code",
   "execution_count": 78,
   "id": "afb0b3e4-ef3b-4ff3-98e3-56a3cc577249",
   "metadata": {},
   "outputs": [
    {
     "name": "stdout",
     "output_type": "stream",
     "text": [
      "['greater', 'greater', 'less than 4 ajju', 'less than 4 cd', 'less than 4 kavi', 'less than 4 dfs', 'less than 4 bb']\n"
     ]
    }
   ],
   "source": [
    "# wap print element wiht grater than len 4 and less than 4\n",
    "list1=[\"ritesh\",\"kumar\",\"ajju\",\"cd\",\"kavi\",\"dfs\",\"bb\"]\n",
    "output=[\"greater than 4 len {}\".format(i )\" if len(i)>4 else \"less than 4 {}\".format(i )for i in list1]\n",
    "print(output)"
   ]
  },
  {
   "cell_type": "code",
   "execution_count": 79,
   "id": "94b8cf68-01d1-4f9f-83cf-974a83d5749c",
   "metadata": {},
   "outputs": [
    {
     "name": "stdout",
     "output_type": "stream",
     "text": [
      "['greater', 'greater', 'less than 4 ajju', 'less than 4 cd', 'less than 4 kavi', 'less than 4 dfs', 'less than 4 bb']\n"
     ]
    }
   ],
   "source": [
    "# if i will not print only greater will print in list\n",
    "list1=[\"ritesh\",\"kumar\",\"ajju\",\"cd\",\"kavi\",\"dfs\",\"bb\"]\n",
    "output=[\"greater\"  if len(i)>4 else \"less than 4 {}\".format(i )for i in list1]\n",
    "print(output)\n",
    "\n"
   ]
  },
  {
   "cell_type": "code",
   "execution_count": 63,
   "id": "768f2316-6763-4777-b59a-b93dc409aa92",
   "metadata": {},
   "outputs": [
    {
     "name": "stdout",
     "output_type": "stream",
     "text": [
      "odd 1\n",
      "even 2\n",
      "odd 3\n",
      "even 4\n",
      "odd 5\n",
      "even 6\n",
      "odd 7\n",
      "even 8\n"
     ]
    }
   ],
   "source": [
    "# now using if else comprehension \n",
    "# format [if output if condition else condition else output for loop ]\n",
    "\n",
    "### note print method will not use  in list comprehension ###\n",
    "list1=[1,2,3,4,5,6,7,8]\n",
    "\n",
    "output=[print(\"even\",i) if i%2==0 else print(\"odd\",i ) for i in list1] \n",
    "# it will not print in the form of list it will print line by line \n"
   ]
  },
  {
   "cell_type": "code",
   "execution_count": 55,
   "id": "e2440a87-4b6c-42fd-9362-b536cc9537b0",
   "metadata": {},
   "outputs": [
    {
     "name": "stdout",
     "output_type": "stream",
     "text": [
      "['odd: 1', 'even:2 ', 'odd: 3', 'even:4 ', 'odd: 5', 'even:6 ', 'odd: 7', 'even:8 ']\n"
     ]
    }
   ],
   "source": [
    "# use stirng format\n",
    "list1=[1,2,3,4,5,6,7,8]\n",
    "output=[\"even:{} \".format(i) if i%2==0 else \"odd: {}\".format(i) for i in list1]\n",
    "print(output)"
   ]
  },
  {
   "cell_type": "code",
   "execution_count": null,
   "id": "9bc09a36-1fdc-4b34-9e2c-a2402c0eda05",
   "metadata": {},
   "outputs": [],
   "source": [
    "---------------------------------------------------------------------------------------"
   ]
  },
  {
   "cell_type": "markdown",
   "id": "b16f84a0-c1a9-4cb7-a2af-e30f8b987fe1",
   "metadata": {},
   "source": [
    "$ count $\n",
    "- it will return number of occurance of that element in list\n",
    "- important poin in list count starting and last index is not allowed only one arguement which want to count that only allow"
   ]
  },
  {
   "cell_type": "code",
   "execution_count": 84,
   "id": "3fa0cb54-50f4-4492-a5eb-6f73b056aebf",
   "metadata": {},
   "outputs": [
    {
     "data": {
      "text/plain": [
       "1"
      ]
     },
     "execution_count": 84,
     "metadata": {},
     "output_type": "execute_result"
    }
   ],
   "source": [
    "list1=[1,2,3,4,5,5,7]\n",
    "list1.count(2)"
   ]
  },
  {
   "cell_type": "code",
   "execution_count": null,
   "id": "d5a8165b-8b9f-4fa5-b927-0b68ae791e63",
   "metadata": {},
   "outputs": [],
   "source": [
    "### note ###\n",
    "list1.count(5,5)# it will take only one arguement not like stirng startin and ending index will  not  provide"
   ]
  },
  {
   "cell_type": "code",
   "execution_count": 89,
   "id": "9febb33d-1430-4bf8-b9ca-a78cd02aae68",
   "metadata": {},
   "outputs": [
    {
     "data": {
      "text/plain": [
       "1"
      ]
     },
     "execution_count": 89,
     "metadata": {},
     "output_type": "execute_result"
    }
   ],
   "source": [
    "\"ritesht\".count(\"t\",3) # but in string index allowed"
   ]
  },
  {
   "cell_type": "code",
   "execution_count": 91,
   "id": "3b8fa525-c643-4f0f-a6b6-af65a7237da1",
   "metadata": {},
   "outputs": [
    {
     "name": "stdout",
     "output_type": "stream",
     "text": [
      "2\n"
     ]
    }
   ],
   "source": [
    "# normal way to count\n",
    "list1=[1,2,2,2,23,4,\"a\",\"b\",\"b\",\"c\"]\n",
    "count=0\n",
    "for i in list1:\n",
    "    if i==\"b\":\n",
    "        count+=1\n",
    "print(count)        \n",
    "    \n"
   ]
  },
  {
   "cell_type": "markdown",
   "id": "6644cc84-e062-4d49-8156-276c42a4513a",
   "metadata": {},
   "source": [
    "$ extend $\n",
    "- it take arguement as iterator\n",
    "- it will put the each element of the iterator which pass in the end of list\n",
    "- not eniter iterator will not add each element will add\n",
    "- this is main difference b/w upend and extend\n",
    "- in append\n",
    "   - list1=[1,2]\n",
    "   - list1.append([3,4])\n",
    "   - result list1=[1,2,[3,4]]\n",
    "- in extend only iterator will pass like list string range tupe set\n",
    "- list1.extend([3,4])\n",
    "   - result [1,2,3,4]\n",
    "     - each element store of list not list itself\n",
    "- using append and extend it will directly update the list with new element no need to store into a new variable like concatenation "
   ]
  },
  {
   "cell_type": "code",
   "execution_count": 94,
   "id": "c66b9b07-8097-424c-980a-cc0741c170a0",
   "metadata": {},
   "outputs": [
    {
     "name": "stdout",
     "output_type": "stream",
     "text": [
      "[1, 2, 3, 4, 'a', 'b', 'c', 'd', [20, 30, 40]]\n"
     ]
    }
   ],
   "source": [
    "# append\n",
    "list1=[1,2,3,4,\"a\",\"b\",\"c\",\"d\"]\n",
    "list2=[20,30,40]\n",
    "list1.append(list2)\n",
    "print(list1)"
   ]
  },
  {
   "cell_type": "code",
   "execution_count": 95,
   "id": "de852601-aeab-4909-81fb-dc7d40e1cf38",
   "metadata": {},
   "outputs": [
    {
     "name": "stdout",
     "output_type": "stream",
     "text": [
      "[1, 2, 3, 4, 'a', 'b', 'c', 'd', 20, 30, 40]\n"
     ]
    }
   ],
   "source": [
    "#extend\n",
    "list1=[1,2,3,4,\"a\",\"b\",\"c\",\"d\"]\n",
    "list2=[20,30,40]\n",
    "list1.extend(list2)\n",
    "print(list1)"
   ]
  },
  {
   "cell_type": "code",
   "execution_count": 96,
   "id": "3ab3f34c-7977-4bcc-80ea-c62585112709",
   "metadata": {},
   "outputs": [
    {
     "ename": "TypeError",
     "evalue": "'int' object is not iterable",
     "output_type": "error",
     "traceback": [
      "\u001b[1;31m---------------------------------------------------------------------------\u001b[0m",
      "\u001b[1;31mTypeError\u001b[0m                                 Traceback (most recent call last)",
      "Cell \u001b[1;32mIn[96], line 1\u001b[0m\n\u001b[1;32m----> 1\u001b[0m list1\u001b[38;5;241m.\u001b[39mextend(\u001b[38;5;241m90\u001b[39m)\n",
      "\u001b[1;31mTypeError\u001b[0m: 'int' object is not iterable"
     ]
    }
   ],
   "source": [
    "list1.extend(90)# not possible becox int is not iterable"
   ]
  },
  {
   "cell_type": "code",
   "execution_count": 99,
   "id": "75b7ad2f-3837-472a-aa38-31d0fee8a433",
   "metadata": {},
   "outputs": [
    {
     "name": "stdout",
     "output_type": "stream",
     "text": [
      "[1, 2, 3, 4]\n",
      "[1, 2, 3, 4, 5, 6]\n"
     ]
    }
   ],
   "source": [
    "# in concatenation \n",
    "list1=[1,2,3,4]\n",
    "list2=[5,6]\n",
    "# another list require to store the new  list otherwise change will not store\n",
    "print(list1)\n",
    "list1=list1+list2\n",
    "print(list1)\n",
    "\n"
   ]
  },
  {
   "cell_type": "code",
   "execution_count": 101,
   "id": "c276ac12-4df3-49f8-87c5-aeeee31ee9fe",
   "metadata": {},
   "outputs": [
    {
     "name": "stdout",
     "output_type": "stream",
     "text": [
      "[1, 2, 3, 4, 5, 6]\n"
     ]
    }
   ],
   "source": [
    "# using append not require list3 to it will directly udpate the list1\n",
    "list1=[1,2,3,4]\n",
    "list1.append(5)# at a time only 1 arguement pass in append\n",
    "list1.append(6)\n",
    "print(list1)"
   ]
  },
  {
   "cell_type": "code",
   "execution_count": 103,
   "id": "604edf58-160a-4e00-81f6-2e3a914d48c0",
   "metadata": {},
   "outputs": [
    {
     "name": "stdout",
     "output_type": "stream",
     "text": [
      "[1, 2, 3, 4, 5, 6]\n"
     ]
    }
   ],
   "source": [
    "# using extend direcly update the list1 no  need to list3 to store \n",
    "list1=[1,2,3,4]\n",
    "list1.extend([5,6])\n",
    "\n",
    "print(list1)\n"
   ]
  },
  {
   "cell_type": "markdown",
   "id": "832071d2-cdc7-43f3-86ff-18983697fdb7",
   "metadata": {},
   "source": [
    "# differnece between append extend and concatenation \n",
    "- append\n",
    "  - iterable will pass\n",
    "  - directly change in list no  need to thired list\n",
    "  - at the last each element of iterable will store into the last of  list\n",
    "  - only one arguement will take which iterable\n",
    "\n",
    "-extend\n",
    "  -only one arguement will pass\n",
    "  - directely change on list \n",
    "  - if iterable pass so it will store as iterable as one element not all the element of iterable\n",
    "- concantenation\n",
    "  - add one  list element into other list element as it is\n",
    "  - but to  reflect change store the change in list\n",
    "   list1=list1+list2\n",
    "  "
   ]
  },
  {
   "cell_type": "code",
   "execution_count": 106,
   "id": "36ae8501-1ee0-4a32-a042-feb5f307a857",
   "metadata": {},
   "outputs": [
    {
     "name": "stdout",
     "output_type": "stream",
     "text": [
      "[1, 2, 3, 4, 'p', 'y', 't', 'h', 'o', 'n']\n"
     ]
    }
   ],
   "source": [
    "# example\n",
    "list1=[1,2,3,4]\n",
    "#list1.append(\"python\") # as single element will pass python\n",
    "list1.extend(\"python\") # each element will pass like p,y,t..\n",
    "print(list1)"
   ]
  },
  {
   "cell_type": "markdown",
   "id": "07628818-4e4d-4b7f-b805-7cef74c2d37a",
   "metadata": {},
   "source": [
    "- anything which is iterator means you need to traversed through for loop \n",
    "- iterator means for loop"
   ]
  },
  {
   "cell_type": "markdown",
   "id": "062625e4-7459-4f24-b54b-cf92926c13e6",
   "metadata": {},
   "source": [
    "\n",
    "$ pop $\n",
    "- it used remove the last element of the list by default\n",
    "- by default it will remove last index element\n",
    "- default index=-1\n",
    "- if we want to remove any particuler index pass the index value\n",
    "- remove the given index element and return also that  element\n",
    "- taking only 1 arguement which is index if not provide default is len(list)-1\n",
    "- no updation is required directly update the list values\n",
    "- if empty or index provided in not found then error\n",
    "- return delete element not index"
   ]
  },
  {
   "cell_type": "code",
   "execution_count": 120,
   "id": "51d33e2e-1306-40d9-bd5b-bb26205a1205",
   "metadata": {},
   "outputs": [
    {
     "data": {
      "text/plain": [
       "4"
      ]
     },
     "execution_count": 120,
     "metadata": {},
     "output_type": "execute_result"
    }
   ],
   "source": [
    "list1=[1,2,3,4]\n",
    "list1.pop() # remove the element at index 3 default index pass last which i=3 here\n"
   ]
  },
  {
   "cell_type": "code",
   "execution_count": 110,
   "id": "2f8173a5-2919-4107-91cb-b3c482f6ae33",
   "metadata": {},
   "outputs": [
    {
     "name": "stdout",
     "output_type": "stream",
     "text": [
      "[1, 2, 4, 5, 'a', 'hell', 45]\n"
     ]
    }
   ],
   "source": [
    "# by providing index value to remove\n",
    "list1=[1,2,3,4,5,\"a\",\"hell\",45]\n",
    "list1.pop(2)# index value 2 will remove means 3 will delete\n",
    "print(list1)\n",
    "\n"
   ]
  },
  {
   "cell_type": "code",
   "execution_count": 117,
   "id": "09396e2c-4a1c-4d67-9277-33616c63628a",
   "metadata": {},
   "outputs": [
    {
     "ename": "IndexError",
     "evalue": "pop index out of range",
     "output_type": "error",
     "traceback": [
      "\u001b[1;31m---------------------------------------------------------------------------\u001b[0m",
      "\u001b[1;31mIndexError\u001b[0m                                Traceback (most recent call last)",
      "Cell \u001b[1;32mIn[117], line 3\u001b[0m\n\u001b[0;32m      1\u001b[0m \u001b[38;5;66;03m# error case\u001b[39;00m\n\u001b[0;32m      2\u001b[0m list1\u001b[38;5;241m=\u001b[39m[\u001b[38;5;241m1\u001b[39m,\u001b[38;5;241m2\u001b[39m,\u001b[38;5;241m3\u001b[39m,\u001b[38;5;241m4\u001b[39m,\u001b[38;5;241m5\u001b[39m,\u001b[38;5;124m\"\u001b[39m\u001b[38;5;124ma\u001b[39m\u001b[38;5;124m\"\u001b[39m,\u001b[38;5;124m\"\u001b[39m\u001b[38;5;124mhell\u001b[39m\u001b[38;5;124m\"\u001b[39m,\u001b[38;5;241m45\u001b[39m]\n\u001b[1;32m----> 3\u001b[0m list1\u001b[38;5;241m.\u001b[39mpop(\u001b[38;5;241m12\u001b[39m)\u001b[38;5;66;03m# at 12 index no value\u001b[39;00m\n\u001b[0;32m      4\u001b[0m list2\u001b[38;5;241m=\u001b[39m[]\n\u001b[0;32m      5\u001b[0m list2\u001b[38;5;241m.\u001b[39mpop()\n",
      "\u001b[1;31mIndexError\u001b[0m: pop index out of range"
     ]
    }
   ],
   "source": [
    "# error case\n",
    "list1=[1,2,3,4,5,\"a\",\"hell\",45]\n",
    "list1.pop(12)# at 12 index no value error\n",
    "list2=[] # empty so no default value will find which is pass in pop\n",
    "list2.pop()"
   ]
  },
  {
   "cell_type": "markdown",
   "id": "d8d072e7-35ee-42ea-be21-acf2894266ea",
   "metadata": {},
   "source": [
    "$ Remove $\n",
    "- it used to remove the specific element in the list wich is first occur\n",
    "- it take as arguement element which want to delete not index\n",
    "- it not return which element remove\n",
    "- no updation is  required directly udpate the list\n",
    "- only 1 arguement is pass value which want to remove\n",
    "- if not find that value error\n"
   ]
  },
  {
   "cell_type": "code",
   "execution_count": 118,
   "id": "dec5221f-e12e-42c2-9fa7-f18e77402287",
   "metadata": {},
   "outputs": [
    {
     "ename": "ValueError",
     "evalue": "list.remove(x): x not in list",
     "output_type": "error",
     "traceback": [
      "\u001b[1;31m---------------------------------------------------------------------------\u001b[0m",
      "\u001b[1;31mValueError\u001b[0m                                Traceback (most recent call last)",
      "Cell \u001b[1;32mIn[118], line 3\u001b[0m\n\u001b[0;32m      1\u001b[0m list1\u001b[38;5;241m=\u001b[39m[\u001b[38;5;241m1\u001b[39m,\u001b[38;5;241m2\u001b[39m,\u001b[38;5;241m3\u001b[39m,\u001b[38;5;241m4\u001b[39m,\u001b[38;5;241m5\u001b[39m,\u001b[38;5;241m5\u001b[39m,\u001b[38;5;241m5\u001b[39m,\u001b[38;5;124m\"\u001b[39m\u001b[38;5;124ma\u001b[39m\u001b[38;5;124m\"\u001b[39m,\u001b[38;5;124m\"\u001b[39m\u001b[38;5;124mhell\u001b[39m\u001b[38;5;124m\"\u001b[39m,\u001b[38;5;241m45\u001b[39m] \u001b[38;5;66;03m# 5 at index 4 will remove as first occurance\u001b[39;00m\n\u001b[0;32m      2\u001b[0m list1\u001b[38;5;241m.\u001b[39mremove(\u001b[38;5;241m5\u001b[39m)\n\u001b[1;32m----> 3\u001b[0m list1\u001b[38;5;241m.\u001b[39mremove(\u001b[38;5;241m100\u001b[39m)\n\u001b[0;32m      4\u001b[0m \u001b[38;5;28mprint\u001b[39m(list1)\n",
      "\u001b[1;31mValueError\u001b[0m: list.remove(x): x not in list"
     ]
    }
   ],
   "source": [
    "list1=[1,2,3,4,5,5,5,\"a\",\"hell\",45] # 5 at index 4 will remove as first occurance\n",
    "list1.remove(5)\n",
    "list1.remove(100) # error\n",
    "print(list1)\n",
    "\n"
   ]
  },
  {
   "cell_type": "markdown",
   "id": "98fbdea5-882e-4f7c-8807-805fcd85f5c1",
   "metadata": {},
   "source": [
    "$ del $ \n",
    "- it is a keyword not function \n",
    "- with del entire list will be  deleted\n",
    "- with del we can delete a particuler index element also by passing index value"
   ]
  },
  {
   "cell_type": "code",
   "execution_count": 124,
   "id": "2f6984ae-9d77-44cd-8c06-eae278aadcf2",
   "metadata": {},
   "outputs": [
    {
     "name": "stdout",
     "output_type": "stream",
     "text": [
      "[1, 2, 3, 4, 5, 'a', 'hell', 45]\n"
     ]
    },
    {
     "ename": "NameError",
     "evalue": "name 'list1' is not defined",
     "output_type": "error",
     "traceback": [
      "\u001b[1;31m---------------------------------------------------------------------------\u001b[0m",
      "\u001b[1;31mNameError\u001b[0m                                 Traceback (most recent call last)",
      "Cell \u001b[1;32mIn[124], line 4\u001b[0m\n\u001b[0;32m      2\u001b[0m \u001b[38;5;28mprint\u001b[39m(list1)\n\u001b[0;32m      3\u001b[0m \u001b[38;5;28;01mdel\u001b[39;00m list1\n\u001b[1;32m----> 4\u001b[0m \u001b[38;5;28mprint\u001b[39m(list1)\n",
      "\u001b[1;31mNameError\u001b[0m: name 'list1' is not defined"
     ]
    }
   ],
   "source": [
    "\n",
    "list1=[1,2,3,4,5,\"a\",\"hell\",45]\n",
    "print(list1)\n",
    "del list1 # delete the list here that why error\n",
    "print(list1)"
   ]
  },
  {
   "cell_type": "code",
   "execution_count": 127,
   "id": "1fe462f3-7eb6-4013-b897-8d6347dab354",
   "metadata": {},
   "outputs": [
    {
     "name": "stdout",
     "output_type": "stream",
     "text": [
      "[1, 2, 3, 4, 5, 'a', 45]\n"
     ]
    }
   ],
   "source": [
    "# delete any particuler element in the list\n",
    "list1=[1,2,3,4,5,\"a\",\"hell\",45]\n",
    "del list1[6]\n",
    "# or we can do in general way also to provide index to delete \n",
    "#del list1[len(list1)-2] # hell is deleted\n",
    "print(list1)"
   ]
  },
  {
   "cell_type": "code",
   "execution_count": 128,
   "id": "1f7e3afe-e9ce-44bb-b2de-d784cb396dc0",
   "metadata": {},
   "outputs": [
    {
     "name": "stdout",
     "output_type": "stream",
     "text": [
      "[100, 200, 300]\n"
     ]
    }
   ],
   "source": [
    "list1=[100,200,100,300]\n",
    "del list1[2]\n",
    "print(list1)\n"
   ]
  },
  {
   "cell_type": "code",
   "execution_count": 131,
   "id": "8ffd17fb-df0e-47b6-bb72-be988eeaa035",
   "metadata": {},
   "outputs": [
    {
     "name": "stdout",
     "output_type": "stream",
     "text": [
      "[200, 100, 300]\n"
     ]
    }
   ],
   "source": [
    "list1=[100,200,100,300]\n",
    "del list1[0]\n",
    "print(list1)"
   ]
  },
  {
   "cell_type": "code",
   "execution_count": 2,
   "id": "9cab4bb4-bdcb-4b65-83d4-cbe8c8d94733",
   "metadata": {},
   "outputs": [
    {
     "name": "stdout",
     "output_type": "stream",
     "text": [
      "index 0 , ritesh has age 24\n",
      "index 1 , ankit has age 23\n"
     ]
    },
    {
     "ename": "IndexError",
     "evalue": "list index out of range",
     "output_type": "error",
     "traceback": [
      "\u001b[1;31m---------------------------------------------------------------------------\u001b[0m",
      "\u001b[1;31mIndexError\u001b[0m                                Traceback (most recent call last)",
      "Cell \u001b[1;32mIn[2], line 7\u001b[0m\n\u001b[0;32m      5\u001b[0m age\u001b[38;5;241m=\u001b[39m[\u001b[38;5;241m24\u001b[39m,\u001b[38;5;241m23\u001b[39m]\n\u001b[0;32m      6\u001b[0m \u001b[38;5;28;01mfor\u001b[39;00m i \u001b[38;5;129;01min\u001b[39;00m \u001b[38;5;28mrange\u001b[39m(\u001b[38;5;28mlen\u001b[39m(name)):\n\u001b[1;32m----> 7\u001b[0m     \u001b[38;5;28mprint\u001b[39m(\u001b[38;5;124m\"\u001b[39m\u001b[38;5;124mindex \u001b[39m\u001b[38;5;132;01m{}\u001b[39;00m\u001b[38;5;124m , \u001b[39m\u001b[38;5;132;01m{}\u001b[39;00m\u001b[38;5;124m has age \u001b[39m\u001b[38;5;132;01m{}\u001b[39;00m\u001b[38;5;124m\"\u001b[39m\u001b[38;5;241m.\u001b[39mformat(i,name[i],age[i]))\n",
      "\u001b[1;31mIndexError\u001b[0m: list index out of range"
     ]
    }
   ],
   "source": [
    "# without zip it we can also print two  list element same time using index\n",
    "# without zip also we can do\n",
    "# access both list using index we can do this\n",
    "# for in caes of unequl using o padding\n",
    "name=[\"ritesh\",\"ankit\",\"ashok\"]\n",
    "age=[24,23,45]\n",
    "for i in range(len(name)):\n",
    "    print(\"index {} , {} has age {}\".format(i,name[i],age[i]))\n",
    "    "
   ]
  },
  {
   "cell_type": "code",
   "execution_count": null,
   "id": "4f84a227-d213-4395-bd04-b31be537a007",
   "metadata": {},
   "outputs": [],
   "source": [
    "# error as lenth not equalt list index out of range\n",
    "name=[\"ritesh\",\"ankit\",\"ashok\"]\n",
    "age=[24,23] \n",
    "for i in range(len(name)):\n",
    "    print(\"index {} , {} has age {}\".format(i,name[i],age[i]))"
   ]
  },
  {
   "cell_type": "code",
   "execution_count": null,
   "id": "cbb7cbc6-998c-4e84-aa72-edca03cc72d1",
   "metadata": {},
   "outputs": [],
   "source": []
  },
  {
   "cell_type": "code",
   "execution_count": null,
   "id": "680b0e96-b1bb-4b3d-ab2f-e11f88349d91",
   "metadata": {},
   "outputs": [],
   "source": [
    "#### note in list method like append ,extend, pop,remove,del directly update the  list no need to store in \n",
    "new variable \n",
    "like string \n",
    "in sting str1=\"hello\"\n",
    "str1.upper() # not store you need to store in varialbe\n",
    "str1=str1.upper() then change will reflect "
   ]
  },
  {
   "cell_type": "code",
   "execution_count": 133,
   "id": "15766c85-7d9a-4dcc-9a62-d795452c4c89",
   "metadata": {},
   "outputs": [
    {
     "name": "stdout",
     "output_type": "stream",
     "text": [
      "ejll\n"
     ]
    }
   ],
   "source": [
    "str1=\"ejll\"\n",
    "str1.upper() # no changes in str1\n",
    "print(str1)\n"
   ]
  },
  {
   "cell_type": "code",
   "execution_count": 134,
   "id": "b2ce8311-60d1-4bf8-a7ca-be92d3848855",
   "metadata": {},
   "outputs": [
    {
     "name": "stdout",
     "output_type": "stream",
     "text": [
      "EJLL\n"
     ]
    }
   ],
   "source": [
    "str1=\"ejll\"\n",
    "str1=str1.upper() # now str1 will udpate as we assign\n",
    "print(str1)"
   ]
  },
  {
   "cell_type": "markdown",
   "id": "a5df5df5-ec55-418c-8b5d-432dcdcf5f8a",
   "metadata": {},
   "source": [
    "$ zip $\n",
    "- this method use when there is two list \n",
    "- and require the access the element of both list one by one\n",
    "- first list1 and then list2 and so on\n",
    "-syntax for i,j in zip(list1,list2)"
   ]
  },
  {
   "cell_type": "code",
   "execution_count": 135,
   "id": "3d197a68-6f50-42bf-a065-c28708023b9d",
   "metadata": {},
   "outputs": [
    {
     "name": "stdout",
     "output_type": "stream",
     "text": [
      "Ram age is 25\n",
      "Robert age is 30\n",
      "Raheem age is 35\n"
     ]
    }
   ],
   "source": [
    "# wap to print the name and coressponding age\n",
    "list1=['Ram','Robert','Raheem']\n",
    "list2=[25,30,35]\n",
    "for i,j in zip(list1,list2):\n",
    "    print(\"{} age is {}\".format(i,j))"
   ]
  },
  {
   "cell_type": "code",
   "execution_count": 136,
   "id": "8ffa97c5-dc10-4fd8-826f-4bcf2f93a235",
   "metadata": {},
   "outputs": [
    {
     "name": "stdout",
     "output_type": "stream",
     "text": [
      "100 + 10 =110\n",
      "200 + 20 =220\n",
      "300 + 30 =330\n"
     ]
    }
   ],
   "source": [
    "# 2 wap to print the sum of two list\n",
    "list1=[100,200,300]\n",
    "list2=[10,20,30]\n",
    "for i,j in  zip(list1,list2):\n",
    "    print(\"{} + {} ={}\".format(i,j,(i+j)))"
   ]
  },
  {
   "cell_type": "code",
   "execution_count": 70,
   "id": "2c23909b-a888-4c0d-ba93-9d2a6ecf30fc",
   "metadata": {},
   "outputs": [
    {
     "name": "stdout",
     "output_type": "stream",
     "text": [
      "[125, 230, 335]\n"
     ]
    }
   ],
   "source": [
    "# using list comprehension\n",
    "\n",
    "\n",
    "list1=[100,200,300]\n",
    "list2=[25,30,35]\n",
    "output1=[i+j for i,j in zip(list1,list2)]\n",
    "print(output1)\n"
   ]
  },
  {
   "cell_type": "code",
   "execution_count": 149,
   "id": "b745abca-91e2-4057-98d9-7c8cac56adb0",
   "metadata": {},
   "outputs": [
    {
     "name": "stdout",
     "output_type": "stream",
     "text": [
      "[110, 220, 330]\n"
     ]
    }
   ],
   "source": [
    "list1=[100,200,300]\n",
    "list2=[10,20,30]\n",
    "list_3=[]\n",
    "for i,j in  zip(list1,list2):\n",
    "    \n",
    "    list_3.append(i+j)\n",
    "    \n",
    "print(list_3)    "
   ]
  },
  {
   "cell_type": "code",
   "execution_count": null,
   "id": "b2a39d60-1ce5-4e87-a922-cc3d0d146c29",
   "metadata": {},
   "outputs": [],
   "source": [
    "# if unequal use padding with 0\n",
    "# first find the max length of list \n",
    "# then pad with 0 with lesser lenth  list"
   ]
  },
  {
   "cell_type": "code",
   "execution_count": 7,
   "id": "e08e8159-30ce-41d5-b935-87cbbefed2ab",
   "metadata": {},
   "outputs": [
    {
     "name": "stdout",
     "output_type": "stream",
     "text": [
      "[110, 220, 300]\n"
     ]
    }
   ],
   "source": [
    "list1=[100,200,300]\n",
    "list2=[10,20]\n",
    "list_3=[]\n",
    "# making both list equalt by inserting 0 in lower  list\n",
    "max_len=max(len(list1),len(list2))\n",
    "while(len(list1)<max_len):\n",
    "    list1.append(0)\n",
    "while(len(list2)<max_len):\n",
    "    list2.append(0)\n",
    "for i,j in zip(list1,list2):\n",
    "    list_3.append(i+j)\n",
    "    \n",
    "    \n",
    "print(list_3)"
   ]
  },
  {
   "cell_type": "markdown",
   "id": "746cfdd7-05ae-436b-87dc-c33bed6dc61e",
   "metadata": {},
   "source": [
    "$ index $\n",
    "- same as stirng index\n",
    "- it will  return the index of given value of first occurance\n",
    "- there is start and end index vallue can be be pass\n",
    "- NOTE it will give  index of first occurance of element in list not all\n",
    "- three arguement can pass value,start and end start and end optional value must pass otherwise error"
   ]
  },
  {
   "cell_type": "markdown",
   "id": "1104f0f2-261c-41d8-b9a2-84a40cf564f1",
   "metadata": {},
   "source": [
    "list1=[1,2,3,4,5,1,2,\"hello\",4]\n",
    "print(list1.index(1)) # only value pass which index pass in that case start 0 and end =len-1"
   ]
  },
  {
   "cell_type": "code",
   "execution_count": 15,
   "id": "3c52649d-d118-40ff-b6a5-81a919cce838",
   "metadata": {},
   "outputs": [
    {
     "name": "stdout",
     "output_type": "stream",
     "text": [
      "5\n"
     ]
    }
   ],
   "source": [
    "list1=[1,2,3,4,5,1,2,\"hello\",4]\n",
    "print(list1.index(1,1))  # give start value and value which index find "
   ]
  },
  {
   "cell_type": "code",
   "execution_count": 35,
   "id": "f456e0c4-6169-4367-b944-aa6212eabc53",
   "metadata": {},
   "outputs": [
    {
     "ename": "TypeError",
     "evalue": "index expected at least 1 argument, got 0",
     "output_type": "error",
     "traceback": [
      "\u001b[1;31m---------------------------------------------------------------------------\u001b[0m",
      "\u001b[1;31mTypeError\u001b[0m                                 Traceback (most recent call last)",
      "Cell \u001b[1;32mIn[35], line 3\u001b[0m\n\u001b[0;32m      1\u001b[0m list1\u001b[38;5;241m=\u001b[39m[\u001b[38;5;241m1\u001b[39m,\u001b[38;5;241m2\u001b[39m,\u001b[38;5;241m3\u001b[39m,\u001b[38;5;241m4\u001b[39m,\u001b[38;5;241m5\u001b[39m,\u001b[38;5;241m1\u001b[39m,\u001b[38;5;241m1\u001b[39m,\u001b[38;5;241m2\u001b[39m,\u001b[38;5;124m\"\u001b[39m\u001b[38;5;124mhello\u001b[39m\u001b[38;5;124m\"\u001b[39m,\u001b[38;5;241m4\u001b[39m,\u001b[38;5;241m1\u001b[39m]\n\u001b[0;32m      2\u001b[0m list1\u001b[38;5;241m.\u001b[39mindex(\u001b[38;5;241m1\u001b[39m,\u001b[38;5;241m6\u001b[39m,\u001b[38;5;241m8\u001b[39m) \u001b[38;5;66;03m# with start and end value and value which index find\u001b[39;00m\n\u001b[1;32m----> 3\u001b[0m list1\u001b[38;5;241m.\u001b[39mindex()\n",
      "\u001b[1;31mTypeError\u001b[0m: index expected at least 1 argument, got 0"
     ]
    }
   ],
   "source": [
    "list1=[1,2,3,4,5,1,1,2,\"hello\",4,1]\n",
    "list1.index(1,6,8) # with start and end value and value which index find\n",
    "\n"
   ]
  },
  {
   "cell_type": "code",
   "execution_count": 36,
   "id": "52042cf0-99d0-4bed-b3d9-dc7b91a74e64",
   "metadata": {},
   "outputs": [
    {
     "ename": "ValueError",
     "evalue": "1000 is not in list",
     "output_type": "error",
     "traceback": [
      "\u001b[1;31m---------------------------------------------------------------------------\u001b[0m",
      "\u001b[1;31mValueError\u001b[0m                                Traceback (most recent call last)",
      "Cell \u001b[1;32mIn[36], line 1\u001b[0m\n\u001b[1;32m----> 1\u001b[0m list1\u001b[38;5;241m.\u001b[39mindex(\u001b[38;5;241m1000\u001b[39m) \u001b[38;5;66;03m# if not found erro\u001b[39;00m\n\u001b[0;32m      2\u001b[0m list1\u001b[38;5;241m.\u001b[39mindex()\n",
      "\u001b[1;31mValueError\u001b[0m: 1000 is not in list"
     ]
    }
   ],
   "source": [
    "list1.index(1000) # if not found erro\n",
    "list1.index()# error one arguement must pass"
   ]
  },
  {
   "cell_type": "code",
   "execution_count": 21,
   "id": "3a07df66-9a68-419b-9e0d-cde668d80f64",
   "metadata": {},
   "outputs": [
    {
     "name": "stdout",
     "output_type": "stream",
     "text": [
      "0 2 4 7 10\n"
     ]
    }
   ],
   "source": [
    "# wap to find the index of all 1 in this list\n",
    "list2=[1,2,1,4,1,4,5,1,3,4,1,4,1,4,1,434,1,454,34,3,1]\n",
    "l1=list2.index(1) # it will give 0\n",
    "l2=list2.index(1,l1+1) #2  # secnod 1 index will find only it will start searching in list beyond first 1 from 1 \n",
    "# if we start from 0 agin it will give index of 1 will be 0 and so on...\n",
    "l3=list2.index(1,l2+1)\n",
    "l4=list2.index(1,l3+1)\n",
    "l5=list2.index(1,l4+1)\n",
    "print(l1,l2,l3,l4,l5)\n",
    "\n",
    "\n"
   ]
  },
  {
   "cell_type": "markdown",
   "id": "57f175fc-3e68-4f7e-a5ee-cfebecfd5c60",
   "metadata": {},
   "source": [
    "$ insert $ \n",
    "- it used to insert value at particuler index \n",
    "-syntax(index,value)\n",
    "- if element is already there it will inserted at given index and extiing value will be shit right\n",
    "- to enter the item in end of list if index>=len(list)\n",
    "- to enter in beginign use index 0\n",
    "- as the list is index concept so ther  is negative index also used to inset value\n",
    "-NOTE existing value will shit to righ\n",
    "- always take 2 arguement index,value otherwisse error"
   ]
  },
  {
   "cell_type": "code",
   "execution_count": 23,
   "id": "bc81dec2-5a64-4ad6-929e-a6fd8bec59ea",
   "metadata": {},
   "outputs": [
    {
     "name": "stdout",
     "output_type": "stream",
     "text": [
      "[0, 1, 2, 3, 4]\n"
     ]
    }
   ],
   "source": [
    "list1=[1,2,3,4]\n",
    "list1.insert(0,0)\n",
    "print(list1)"
   ]
  },
  {
   "cell_type": "code",
   "execution_count": 25,
   "id": "eeefb5bb-091b-4666-86d6-c9cb745a5c68",
   "metadata": {},
   "outputs": [
    {
     "name": "stdout",
     "output_type": "stream",
     "text": [
      "[1, 2, 10, 3, 4]\n"
     ]
    }
   ],
   "source": [
    "list1=[1,2,3,4]\n",
    "list1.insert(2,10)\n",
    "print(list1)"
   ]
  },
  {
   "cell_type": "code",
   "execution_count": 27,
   "id": "b0c613d8-d933-4931-b373-5375cccfef32",
   "metadata": {},
   "outputs": [
    {
     "name": "stdout",
     "output_type": "stream",
     "text": [
      "[1, 2, 10, 3, 4, 90]\n"
     ]
    }
   ],
   "source": [
    "list1.insert(10,90) # if index>=len(list) add value at last\n",
    "print(list1)"
   ]
  },
  {
   "cell_type": "code",
   "execution_count": 28,
   "id": "f87c29cf-4c3f-4e34-b8dc-a787d92d4c3b",
   "metadata": {},
   "outputs": [
    {
     "data": {
      "text/plain": [
       "[1, 2, 10, 3, 4, 90, 777]"
      ]
     },
     "execution_count": 28,
     "metadata": {},
     "output_type": "execute_result"
    }
   ],
   "source": [
    "list1.insert(6,777) # len(list)==6\n",
    "list1"
   ]
  },
  {
   "cell_type": "code",
   "execution_count": 30,
   "id": "7d0cbe00-d291-4ff8-b1cd-5358a4d2a961",
   "metadata": {},
   "outputs": [
    {
     "data": {
      "text/plain": [
       "[1000, 1, 2, 10, 3, 4, 90, 1000, 777]"
      ]
     },
     "execution_count": 30,
     "metadata": {},
     "output_type": "execute_result"
    }
   ],
   "source": [
    "list1.insert(0,1000)\n",
    "\n"
   ]
  },
  {
   "cell_type": "code",
   "execution_count": 32,
   "id": "3fc7d82b-0ba4-4eff-9f65-80991a4ff3c7",
   "metadata": {},
   "outputs": [
    {
     "data": {
      "text/plain": [
       "[1000, 1, 2, 10, 3, 4, 90, 1001, 1000, 777]"
      ]
     },
     "execution_count": 32,
     "metadata": {},
     "output_type": "execute_result"
    }
   ],
   "source": [
    "# negative index\n",
    "list1.insert(-2,1001)\n",
    "list1"
   ]
  },
  {
   "cell_type": "code",
   "execution_count": 34,
   "id": "c5425fd7-38f8-40f3-ba3a-2a5981f11d1e",
   "metadata": {},
   "outputs": [
    {
     "ename": "TypeError",
     "evalue": "insert expected 2 arguments, got 1",
     "output_type": "error",
     "traceback": [
      "\u001b[1;31m---------------------------------------------------------------------------\u001b[0m",
      "\u001b[1;31mTypeError\u001b[0m                                 Traceback (most recent call last)",
      "Cell \u001b[1;32mIn[34], line 2\u001b[0m\n\u001b[0;32m      1\u001b[0m list1\u001b[38;5;241m=\u001b[39m[\u001b[38;5;241m1000\u001b[39m, \u001b[38;5;241m1\u001b[39m, \u001b[38;5;241m2\u001b[39m, \u001b[38;5;241m10\u001b[39m, \u001b[38;5;241m3\u001b[39m, \u001b[38;5;241m4\u001b[39m, \u001b[38;5;241m90\u001b[39m, \u001b[38;5;241m1001\u001b[39m, \u001b[38;5;241m1000\u001b[39m, \u001b[38;5;241m777\u001b[39m]\n\u001b[1;32m----> 2\u001b[0m list1\u001b[38;5;241m.\u001b[39minsert(\u001b[38;5;241m78\u001b[39m)\n",
      "\u001b[1;31mTypeError\u001b[0m: insert expected 2 arguments, got 1"
     ]
    }
   ],
   "source": [
    "list1=[1000, 1, 2, 10, 3, 4, 90, 1001, 1000, 777]\n",
    "list1.insert(78) # always take 2 arguement"
   ]
  },
  {
   "cell_type": "markdown",
   "id": "011b590e-2229-4476-b923-48b90a40f734",
   "metadata": {},
   "source": [
    "###  reverse ###\n",
    "- it is use for only the list\n",
    "- it reverse the element of list \n",
    "- directly apply   the changes in original list  no need to store in a new list\n"
   ]
  },
  {
   "cell_type": "code",
   "execution_count": 1,
   "id": "ff0c0381-1a23-4460-98ea-42d9e691c23c",
   "metadata": {},
   "outputs": [
    {
     "name": "stdout",
     "output_type": "stream",
     "text": [
      "['dsf', 5, 'apple', 3, 2, 1]\n"
     ]
    }
   ],
   "source": [
    "list1=[1,2,3,\"apple\",5,\"dsf\"]\n",
    "list1.reverse()\n",
    "print(list1)"
   ]
  },
  {
   "cell_type": "code",
   "execution_count": null,
   "id": "a9ab156d-6138-4c42-bc36-eb9653398116",
   "metadata": {},
   "outputs": [],
   "source": [
    "#If you want a reversed copy instead of modifying the list, use slicing [::-1] or the reversed() function.\n",
    "# as slicing and reversed() function directly not apply the changes on original list they need to store the result"
   ]
  },
  {
   "cell_type": "code",
   "execution_count": 4,
   "id": "f9c59e5a-9f98-452f-9417-6d8e3f6f1730",
   "metadata": {},
   "outputs": [
    {
     "name": "stdout",
     "output_type": "stream",
     "text": [
      "[1, 2, 3, 'c', 'a']\n",
      "['a', 'c', 3, 2, 1]\n"
     ]
    }
   ],
   "source": [
    "list2=[1,2,3,\"c\",\"a\"]\n",
    "list3=list2[::-1]\n",
    "print(list2)# no chnages\n",
    "print(list3) # list with reverse"
   ]
  },
  {
   "cell_type": "markdown",
   "id": "3bac06e0-b1ed-4f5d-830a-3156cb0b61dd",
   "metadata": {},
   "source": [
    "### The reversed() function returns an iterator that yields elements of a sequence in reverse order.###\n",
    "-reversed(sequence)\n",
    "- Works on sequences like lists, tuples, strings, and ranges.\n",
    "\n",
    "- Does not modify the original object.\n",
    "\n",
    "- If you need a list or string back, you must explicitly convert.\n",
    "\n",
    "- syntax reversed(iterable)"
   ]
  },
  {
   "cell_type": "code",
   "execution_count": 31,
   "id": "1fc8c99d-8713-4b4a-8a74-69be8718c1db",
   "metadata": {},
   "outputs": [
    {
     "name": "stdout",
     "output_type": "stream",
     "text": [
      "['ritesh', 4, 2, 4, 3, 12]\n"
     ]
    }
   ],
   "source": [
    "list1=[12,3,4,2,4,\"ritesh\"]\n",
    "r=reversed(list1)# will return a reverse iterator which to access each value use loop\n",
    "# we can also convert into list using list method\n",
    "\n",
    "print(list(r))\n",
    "\n",
    "\n"
   ]
  },
  {
   "cell_type": "code",
   "execution_count": 32,
   "id": "1160b5f8-b166-47bd-8f26-35717d61f35a",
   "metadata": {},
   "outputs": [],
   "source": [
    "# printing reverse iteratore each element\n",
    "for i in r:\n",
    "    print(i)"
   ]
  },
  {
   "cell_type": "markdown",
   "id": "320e75f2-4e12-4443-8fa5-c5704d1160da",
   "metadata": {},
   "source": [
    "### Note either you can convernt into list or iterate through loop but if you do any one method then other will not work ###\n",
    "- if list(r ) used then loop will not work\n",
    "- if loop use list will not work\n"
   ]
  },
  {
   "cell_type": "code",
   "execution_count": 34,
   "id": "fa31818c-7a45-4fc1-b960-a10b05d1acbd",
   "metadata": {},
   "outputs": [
    {
     "name": "stdout",
     "output_type": "stream",
     "text": [
      "['ritesh', 'fsh', 'a', 'r', 5432]\n"
     ]
    }
   ],
   "source": [
    "# but we can make list using loop by upending into new list\n",
    "\n",
    "list2=[5432,\"r\",\"a\",\"fsh\",\"ritesh\"]\n",
    "list3=[]\n",
    "rev=reversed(list2)\n",
    "for i in rev:\n",
    "    list3.append(i)\n",
    "print(\"list in reverse order\",list3)    \n",
    "    "
   ]
  },
  {
   "cell_type": "code",
   "execution_count": 38,
   "id": "f29b4231-474c-467b-9557-de04f6182dba",
   "metadata": {},
   "outputs": [
    {
     "name": "stdout",
     "output_type": "stream",
     "text": [
      "o\n",
      "l\n",
      "l\n",
      "e\n",
      "h\n",
      " \n",
      "n\n",
      "o\n",
      "h\n",
      "t\n",
      "y\n",
      "p\n"
     ]
    }
   ],
   "source": [
    "# reversed method in string\n",
    "str1='python hello'\n",
    "re=reversed(str1)\n",
    "for i in re:\n",
    "    print(i)"
   ]
  },
  {
   "cell_type": "code",
   "execution_count": null,
   "id": "7ea48fc5-2798-4c9a-83f9-c2c4be5e5e05",
   "metadata": {},
   "outputs": [],
   "source": [
    "## sort ##\n",
    "- it is used to sort the list element\n",
    "- directly apply the changes in the list\n",
    "- it will sort if only one types of element present in the list either number or string mix will not work\n",
    "- by default sort in accendiing order\n",
    "- it take two optional arguement key=none and reverse=false default (sort in accesindin order and on the basis of ascii if stirng)\n",
    "- key arguement can be pass only for  stringn element in the list\n",
    "- default value arguement if not pass reverse false \n",
    "- revere false mean asscending order \n",
    "- True means descessning order\n",
    "- key=none default means sort the string on the basis of asscii value\n",
    "- key=len sort string on the basis of len\n",
    "- key can't pass if list contain numerical value\n",
    "- it use only for the list\n",
    "\n",
    "\n",
    "\n"
   ]
  },
  {
   "cell_type": "code",
   "execution_count": 52,
   "id": "98bad519-bd00-4860-ab63-fccdea67c023",
   "metadata": {},
   "outputs": [
    {
     "name": "stdout",
     "output_type": "stream",
     "text": [
      "[1, 2, 28, 35, 37, 98]\n",
      "['A', 'a', 'c', 'f']\n"
     ]
    }
   ],
   "source": [
    "list1=[1,28,35,37,98,2]\n",
    "list1.sort()\n",
    "print(list1)\n",
    "list2=[\"a\",\"c\",\"f\",\"A\"]\n",
    "list2.sort()\n",
    "print(list2)"
   ]
  },
  {
   "cell_type": "code",
   "execution_count": 46,
   "id": "7ff809ff-2c19-4bdc-a114-acc3166af2d2",
   "metadata": {},
   "outputs": [
    {
     "name": "stdout",
     "output_type": "stream",
     "text": [
      "[34, 32, 23, 10, 4, 1, 1]\n"
     ]
    }
   ],
   "source": [
    "# if pass reverse = true it will sort in decending order other  wise in asscending order\n",
    "list3=[10,1,34,4,23,32,1]\n",
    "list3.sort(reverse=True)\n",
    "print(list3)"
   ]
  },
  {
   "cell_type": "code",
   "execution_count": 47,
   "id": "2133844e-3977-4b42-acd2-d4d79daa9178",
   "metadata": {},
   "outputs": [
    {
     "name": "stdout",
     "output_type": "stream",
     "text": [
      "['AA', 'apple', 'bb', 'cc']\n"
     ]
    }
   ],
   "source": [
    "# by default sory on the basis of asscii value in string case\n",
    "list4=[\"apple\",\"AA\",\"bb\",\"cc\"]\n",
    "list4.sort()\n",
    "print(list4)"
   ]
  },
  {
   "cell_type": "code",
   "execution_count": 48,
   "id": "f310a1b0-72de-4fd4-9dd5-c37ca4ca7b70",
   "metadata": {},
   "outputs": [
    {
     "name": "stdout",
     "output_type": "stream",
     "text": [
      "['a', 'AA', 'bb', 'cc', 'apple']\n"
     ]
    }
   ],
   "source": [
    "# if want to sort on the basis of lenth then pass key=len\n",
    "list4=[\"apple\",\"AA\",\"bb\",\"cc\",\"a\"]\n",
    "list4.sort(key=len)\n",
    "print(list4)\n",
    "\n"
   ]
  },
  {
   "cell_type": "code",
   "execution_count": 49,
   "id": "0ba33c7d-a1aa-46eb-be5d-c62d979cc6ee",
   "metadata": {},
   "outputs": [
    {
     "name": "stdout",
     "output_type": "stream",
     "text": [
      "['apple', 'AA', 'bb', 'cc', 'a']\n"
     ]
    }
   ],
   "source": [
    "# sort on lentht basis and decending\n",
    "list4=[\"apple\",\"AA\",\"bb\",\"cc\",\"a\"]\n",
    "list4.sort(key=len,reverse=True)\n",
    "print(list4)"
   ]
  },
  {
   "cell_type": "code",
   "execution_count": 50,
   "id": "316afc43-4a6a-48ec-aaa2-f0de839589c7",
   "metadata": {},
   "outputs": [
    {
     "ename": "TypeError",
     "evalue": "object of type 'int' has no len()",
     "output_type": "error",
     "traceback": [
      "\u001b[1;31m---------------------------------------------------------------------------\u001b[0m",
      "\u001b[1;31mTypeError\u001b[0m                                 Traceback (most recent call last)",
      "Cell \u001b[1;32mIn[50], line 3\u001b[0m\n\u001b[0;32m      1\u001b[0m \u001b[38;5;66;03m#\u001b[39;00m\n\u001b[0;32m      2\u001b[0m list5\u001b[38;5;241m=\u001b[39m[\u001b[38;5;241m32\u001b[39m,\u001b[38;5;241m1\u001b[39m,\u001b[38;5;241m3\u001b[39m,\u001b[38;5;241m11\u001b[39m,\u001b[38;5;241m43\u001b[39m]\n\u001b[1;32m----> 3\u001b[0m list5\u001b[38;5;241m.\u001b[39msort(key\u001b[38;5;241m=\u001b[39m\u001b[38;5;28mlen\u001b[39m)\n\u001b[0;32m      4\u001b[0m \u001b[38;5;28mprint\u001b[39m(list5)\n",
      "\u001b[1;31mTypeError\u001b[0m: object of type 'int' has no len()"
     ]
    }
   ],
   "source": [
    "# key=len arg can't pass in integer type date in list\n",
    "list5=[32,1,3,11,43]\n",
    "list5.sort(key=len)\n",
    "print(list5)"
   ]
  },
  {
   "cell_type": "markdown",
   "id": "d05946a6-bd4f-486a-898d-deda4b95c2f8",
   "metadata": {},
   "source": [
    "# sorted #\n",
    "- it is built funciton that return the sorted list\n",
    "- take any iterable like list,string,tuple,set,dic etc.\n",
    "- does not change the original list\n",
    "- to store the change you  need to variable to store\n",
    "- key=none, reverse=false default \n",
    "- default sortin in ascending order\n",
    "- reverse=true soring in asscending order\n",
    "- key=len if then sort  the string as per len\n",
    "- sorted(iterable, key=None, reverse=False)\n"
   ]
  },
  {
   "cell_type": "code",
   "execution_count": 55,
   "id": "ce962cf5-f8d2-4c37-80a8-003c1b480990",
   "metadata": {},
   "outputs": [
    {
     "name": "stdout",
     "output_type": "stream",
     "text": [
      "[1, 2, 4, 4, 12, 14, 23, 30, 33, 100]\n",
      "original list: [1, 12, 4, 14, 33, 2, 4, 30, 100, 23]\n"
     ]
    }
   ],
   "source": [
    "# soriting list in asscenting order\n",
    "list1=[1,12,4,14,33,2,4,30,100,23]\n",
    "list2=sorted(list1)\n",
    "print(list2)\n",
    "print(\"original list:\",list1)"
   ]
  },
  {
   "cell_type": "code",
   "execution_count": 60,
   "id": "a3f0ab85-176f-40af-b0fb-605180b909c6",
   "metadata": {},
   "outputs": [
    {
     "name": "stdout",
     "output_type": "stream",
     "text": [
      "[' ', 'a', 'h', 'k', 'm', 'n', 'o', 'p', 'r', 't', 'u', 'y']\n"
     ]
    }
   ],
   "source": [
    "# sorting the string on default on basis of ascii in asceending \n",
    "# it always return sorted list \n",
    "# sorting the list means sorting each character of string \n",
    "str1=\"pyhton kumar\"\n",
    "list2=sorted(str1)\n",
    "print(list2)"
   ]
  },
  {
   "cell_type": "code",
   "execution_count": 57,
   "id": "b837067a-bf28-45ed-b957-369239833776",
   "metadata": {},
   "outputs": [
    {
     "ename": "TypeError",
     "evalue": "'<' not supported between instances of 'str' and 'int'",
     "output_type": "error",
     "traceback": [
      "\u001b[1;31m---------------------------------------------------------------------------\u001b[0m",
      "\u001b[1;31mTypeError\u001b[0m                                 Traceback (most recent call last)",
      "Cell \u001b[1;32mIn[57], line 2\u001b[0m\n\u001b[0;32m      1\u001b[0m list1\u001b[38;5;241m=\u001b[39m[\u001b[38;5;241m1\u001b[39m,\u001b[38;5;241m2\u001b[39m,\u001b[38;5;124m\"\u001b[39m\u001b[38;5;124mapple\u001b[39m\u001b[38;5;124m\"\u001b[39m]\n\u001b[1;32m----> 2\u001b[0m \u001b[38;5;28mprint\u001b[39m(\u001b[38;5;28msorted\u001b[39m(list1))\n",
      "\u001b[1;31mTypeError\u001b[0m: '<' not supported between instances of 'str' and 'int'"
     ]
    }
   ],
   "source": [
    "# if list element are str  and number will not work sorted\n",
    "list1=[1,2,\"apple\"]\n",
    "print(sorted(list1))"
   ]
  },
  {
   "cell_type": "code",
   "execution_count": 58,
   "id": "4a9f25a5-cce2-4da7-a35f-d2ee96803013",
   "metadata": {},
   "outputs": [
    {
     "name": "stdout",
     "output_type": "stream",
     "text": [
      "[45, 45, 34, 23, 5, 4, 3, 3, 2, 2, 2, 1]\n"
     ]
    }
   ],
   "source": [
    "# sort the list in descending order\n",
    "list1=[23,2,3,2,4,1,45,34,45,2,5,3]\n",
    "print(sorted(list1,reverse=True))"
   ]
  },
  {
   "cell_type": "code",
   "execution_count": 62,
   "id": "6dd27b36-297a-4515-a1af-53b290118b05",
   "metadata": {},
   "outputs": [
    {
     "name": "stdout",
     "output_type": "stream",
     "text": [
      "['h', 'e', 'l', 'l', 'o', ' ', 'i', ' ', 'a', 'm', ' ', 'r', 'i', 't', 'e', 's', 'h', ' ', 'k', 'u', 'm', 'a', 'r', ' ', 'a', 'f', ' ', 'a', 'f', ' ']\n"
     ]
    }
   ],
   "source": [
    "# sort the string onn the basis of  lenth \n",
    "# as soring in string mean sorting each character so it will sort each char \n",
    "# so in sorted in string where key=len not matter\n",
    "str1=\"hello i am ritesh kumar af af \"\n",
    "print(sorted(str1,key=len))"
   ]
  },
  {
   "cell_type": "code",
   "execution_count": 63,
   "id": "79a67c7d-8f22-4846-9c72-ce629afa0e74",
   "metadata": {},
   "outputs": [
    {
     "name": "stdout",
     "output_type": "stream",
     "text": [
      "['a', 'an', 'app', 'aaaa']\n"
     ]
    }
   ],
   "source": [
    "# but if list contain string element then sorted will play role\n",
    "# sort list element as per  length in ascending order\n",
    "list1=[\"app\",\"an\",\"a\",\"aaaa\"]\n",
    "print(sorted(list1,key=len))"
   ]
  },
  {
   "cell_type": "markdown",
   "id": "189bfa40-6e3c-42ad-9e2b-e524e7188639",
   "metadata": {},
   "source": [
    "# summary #\n",
    "- list method directly apply chnages on the list no new variable required to store\n",
    "- string method not apply directly change on string new variable required to store\n",
    "- revered and sorted function take arguement as iterator\n",
    "  - reversed return iterator acess throgh loop each element\n",
    "  - or use list() to connvert into  list\n",
    "- sorted function return list\n",
    "  - take three argument iterable,key,reverse key,reverse are optional \n",
    "- in sort and sorted \n",
    " - default key=none reverse=false\n",
    "     - means sort using ascii if char false mean in asceending\n",
    "   - if  key=len only work only in string element in the list sorted list on the basis of len\n",
    "   - reverse =True sort in descending order\n",
    "   - sorted and reversed function does not make chnage in original list\n",
    "\n"
   ]
  },
  {
   "cell_type": "code",
   "execution_count": 67,
   "id": "d5faa4d3-08d0-4267-860f-f44256f64f1d",
   "metadata": {},
   "outputs": [
    {
     "ename": "TypeError",
     "evalue": "list.reverse() takes no keyword arguments",
     "output_type": "error",
     "traceback": [
      "\u001b[1;31m---------------------------------------------------------------------------\u001b[0m",
      "\u001b[1;31mTypeError\u001b[0m                                 Traceback (most recent call last)",
      "Cell \u001b[1;32mIn[67], line 2\u001b[0m\n\u001b[0;32m      1\u001b[0m list1\u001b[38;5;241m=\u001b[39m[\u001b[38;5;241m1\u001b[39m,\u001b[38;5;241m2\u001b[39m]\n\u001b[1;32m----> 2\u001b[0m list1\u001b[38;5;241m.\u001b[39mreverse(a\u001b[38;5;241m=\u001b[39m\u001b[38;5;241m0\u001b[39m)\n",
      "\u001b[1;31mTypeError\u001b[0m: list.reverse() takes no keyword arguments"
     ]
    }
   ],
   "source": []
  },
  {
   "cell_type": "code",
   "execution_count": 70,
   "id": "57d5f3c7-da7f-4702-8c86-2b6c4f7f2b75",
   "metadata": {},
   "outputs": [
    {
     "ename": "TypeError",
     "evalue": "'>' not supported between instances of 'int' and 'types.GenericAlias'",
     "output_type": "error",
     "traceback": [
      "\u001b[1;31m---------------------------------------------------------------------------\u001b[0m",
      "\u001b[1;31mTypeError\u001b[0m                                 Traceback (most recent call last)",
      "Cell \u001b[1;32mIn[70], line 4\u001b[0m\n\u001b[0;32m      2\u001b[0m list1\u001b[38;5;241m=\u001b[39m[\u001b[38;5;241m100\u001b[39m,\u001b[38;5;241m200\u001b[39m,\u001b[38;5;241m300\u001b[39m]\n\u001b[0;32m      3\u001b[0m \u001b[38;5;28;01mfor\u001b[39;00m i \u001b[38;5;129;01min\u001b[39;00m \u001b[38;5;28mrange\u001b[39m(\u001b[38;5;28mlen\u001b[39m(list1)):\n\u001b[1;32m----> 4\u001b[0m     \u001b[38;5;28;01mif\u001b[39;00m list1[i]\u001b[38;5;241m>\u001b[39m\u001b[38;5;28mlist\u001b[39m[i\u001b[38;5;241m+\u001b[39m\u001b[38;5;241m1\u001b[39m] \u001b[38;5;129;01mand\u001b[39;00m list1[i]\u001b[38;5;241m>\u001b[39mlist1[i\u001b[38;5;241m+\u001b[39m\u001b[38;5;241m2\u001b[39m]:\n\u001b[0;32m      5\u001b[0m         \u001b[38;5;28mprint\u001b[39m(\u001b[38;5;124m\"\u001b[39m\u001b[38;5;124mlargest is:\u001b[39m\u001b[38;5;124m\"\u001b[39m\u001b[38;5;241m.\u001b[39mformat(\u001b[38;5;28mlist\u001b[39m[i]))\n\u001b[0;32m      6\u001b[0m     \u001b[38;5;28;01melif\u001b[39;00m list1[i\u001b[38;5;241m+\u001b[39m\u001b[38;5;241m1\u001b[39m]\u001b[38;5;241m>\u001b[39m\u001b[38;5;28mlist\u001b[39m[i] \u001b[38;5;129;01mand\u001b[39;00m list1[i\u001b[38;5;241m+\u001b[39m\u001b[38;5;241m1\u001b[39m]\u001b[38;5;241m>\u001b[39mlist1[i\u001b[38;5;241m+\u001b[39m\u001b[38;5;241m2\u001b[39m]:\n",
      "\u001b[1;31mTypeError\u001b[0m: '>' not supported between instances of 'int' and 'types.GenericAlias'"
     ]
    }
   ],
   "source": [
    "# wap to find the largest element in the list\n",
    "list1=[100,200,300]\n",
    "for i in range(len(list1)):\n",
    "    if list1[i]>list[i+1] and list1[i]>list1[i+2]:\n",
    "        print(\"largest is:\".format(list[i]))\n",
    "    elif list1[i+1]>list[i] and list1[i+1]>list1[i+2]:\n",
    "        print(list1[i+1])\n",
    "    else:\n",
    "        print(list1[i+2])\n",
    "    \n",
    "\n",
    "        \n",
    "        "
   ]
  },
  {
   "cell_type": "code",
   "execution_count": null,
   "id": "694178b3-c143-47b6-aecb-cded2041683a",
   "metadata": {},
   "outputs": [],
   "source": [
    "# take 5 questions in list1\n",
    "# take corresponding 5 answers in another list2\n",
    "# iterate through list1\n",
    "# every quetion should print\n",
    "# answer=input(\"tell the answer\")\n",
    "# answer will check in list2\n",
    "# if it is there : marks=marks+1\n",
    "# else: No marks\n",
    "# how many write answers you made, how may answers you got"
   ]
  },
  {
   "cell_type": "code",
   "execution_count": 80,
   "id": "7b5ebaff-857c-478a-83d6-5e7a33361f09",
   "metadata": {},
   "outputs": [
    {
     "name": "stdout",
     "output_type": "stream",
     "text": [
      "Who is the pm\n"
     ]
    },
    {
     "name": "stdin",
     "output_type": "stream",
     "text": [
      "Enter the answer: modi\n"
     ]
    },
    {
     "name": "stdout",
     "output_type": "stream",
     "text": [
      "Correct Anser\n",
      "What is capital of india\n"
     ]
    },
    {
     "name": "stdin",
     "output_type": "stream",
     "text": [
      "Enter the answer: jaiput\n"
     ]
    },
    {
     "name": "stdout",
     "output_type": "stream",
     "text": [
      "Wrong anser\n",
      "Correct Answer is: Delhi\n",
      "Who is president of  india\n"
     ]
    },
    {
     "name": "stdin",
     "output_type": "stream",
     "text": [
      "Enter the answer: drapadi\n"
     ]
    },
    {
     "name": "stdout",
     "output_type": "stream",
     "text": [
      "Wrong anser\n",
      "Correct Answer is: draupadi\n",
      "Total questions ask: 2\n",
      "Correct anser is: 1\n",
      "Wrong anser : 2\n",
      "Your findal score  is: 2\n"
     ]
    }
   ],
   "source": [
    "list1=[\"Who is the pm\",\"What is capital of india\",\"Who is president of  india\"]\n",
    "list2=[\"Modi\",\"Delhi\",\"draupadi\"]\n",
    "correct=0\n",
    "wrong=0\n",
    "\n",
    "for i in range(len(list1)):\n",
    "    print(list1[i])\n",
    "    ans=input(\"Enter the answer:\")\n",
    "    if ans.lower()==list2[i].lower(): # make anser and list2 element lower so to avoid case sensatinve\n",
    "        print(\"Correct Anser\")\n",
    "        correct=+1\n",
    "    else:\n",
    "        print(\"Wrong anser\")\n",
    "        wrong+=1\n",
    "        print(\"Correct Answer is:\",list2[i])\n",
    "        \n",
    "        \n",
    " # for each correct anser 2 marks\n",
    "marks=2*correct  \n",
    "print(\"Total questions ask:\",i)       \n",
    "print(\"Correct anser is:\",correct) \n",
    "print(\"Wrong anser :\",wrong)\n",
    "print(\"Your findal score  is:\",marks)\n",
    "\n",
    "    "
   ]
  },
  {
   "cell_type": "code",
   "execution_count": null,
   "id": "c53b4342-489a-47c3-b278-f02aec5364fa",
   "metadata": {},
   "outputs": [],
   "source": []
  },
  {
   "cell_type": "code",
   "execution_count": 95,
   "id": "ff3cf5db-d3d7-479f-8b27-f0131c48c89b",
   "metadata": {},
   "outputs": [
    {
     "name": "stdin",
     "output_type": "stream",
     "text": [
      "Enter the Ans modi\n",
      "Enter the Ans mod\n",
      "Enter the Ans d\n"
     ]
    },
    {
     "name": "stdout",
     "output_type": "stream",
     "text": [
      "1\n",
      "[1]\n"
     ]
    }
   ],
   "source": [
    "# using string comprehension\n",
    "list1=[\"Who is the pm ?\",\"What is capital of india ?\",\"Who is president of  india ?\"]\n",
    "list2=[\"Modi\",\"Delhi\",\"draupadi\"]\n",
    "marks=0\n",
    "list3=[marks:=marks+1 for i in range(len(list1)) if input(\"Enter the Ans\").lower()==list2[i].lower()]\n",
    "print(marks)\n",
    "print(list3)\n"
   ]
  },
  {
   "cell_type": "code",
   "execution_count": 101,
   "id": "32dd39af-d8f3-43cc-8fbc-59cdf5b9dcba",
   "metadata": {},
   "outputs": [
    {
     "name": "stdin",
     "output_type": "stream",
     "text": [
      "Who is the pm ? modi\n",
      "What is capital of india ? delhi\n",
      "Who is president of  india ? d\n"
     ]
    },
    {
     "name": "stdout",
     "output_type": "stream",
     "text": [
      "2.0\n"
     ]
    }
   ],
   "source": [
    "# using string comprehension inside input comparing both values\n",
    "# here in input(\"insted of writing enter anser directly take question as input form list list3 input(list3[i])\")\n",
    "#now insted of aksing enter list3 element will go in input and input will print list3 element and then \n",
    "# take the input from user as input method use to take input who is pm as it work as input(\"who is pm\")\n",
    "# then enter input modi.lower()== then anser will compare with list4 elements\n",
    "list3=[\"Who is the pm ?\",\"What is capital of india ?\",\"Who is president of  india ?\"]\n",
    "list4=[\"Modi\",\"Delhi\",\"draupadi\"]\n",
    "marks=0\n",
    "[marks:=marks+1 for i in range(len(list3)) if input(list3[i]).lower()==list4[i].lower()] # in comprehension marks=marks=1\n",
    "# not work so  to work add colon marks:+=1\n",
    "print(marks)\n",
    "\n"
   ]
  },
  {
   "cell_type": "code",
   "execution_count": null,
   "id": "ba5dcf07-c5cd-418e-866e-c096276dbe2e",
   "metadata": {},
   "outputs": [],
   "source": [
    "# find the largest number in list"
   ]
  },
  {
   "cell_type": "code",
   "execution_count": 105,
   "id": "0d38ce27-72d8-4619-88f6-43e7586ee52e",
   "metadata": {},
   "outputs": [
    {
     "name": "stdout",
     "output_type": "stream",
     "text": [
      "largest number is: 3333\n"
     ]
    }
   ],
   "source": [
    "list1=[100,13,322,200,122,33,4,5,3333,123]\n",
    "maxx=-999999999999\n",
    "for i in list1:\n",
    "    if i>maxx:\n",
    "        maxx=i\n",
    "print(\"largest number is:\",maxx)        "
   ]
  },
  {
   "cell_type": "code",
   "execution_count": null,
   "id": "a4c2dd01-93f0-4e5e-a813-747b8c113722",
   "metadata": {},
   "outputs": [],
   "source": [
    "# take the list of number from user then find largest"
   ]
  },
  {
   "cell_type": "code",
   "execution_count": 106,
   "id": "7b381199-f526-4856-8d56-f23af8d90f09",
   "metadata": {},
   "outputs": [
    {
     "name": "stdin",
     "output_type": "stream",
     "text": [
      "enter number 1,2,3,1,3,3,2234,423,23,343,34,3434,3454,234,3\n"
     ]
    },
    {
     "name": "stdout",
     "output_type": "stream",
     "text": [
      "largest number is: 3454\n"
     ]
    }
   ],
   "source": [
    "list1=input(\"enter number\").split(\",\") # split convert string into list elemenet seperated by coma as coma pass\n",
    "# now convert each element into int\n",
    "list1=[int(i) for i in list1]\n",
    "maxx=-9999999\n",
    "for i in list1:\n",
    "    if i>maxx:\n",
    "        maxx=i\n",
    "print(\"largest number is:\",maxx)        \n",
    "        "
   ]
  },
  {
   "cell_type": "code",
   "execution_count": null,
   "id": "bedae563-a205-4ece-9c01-a695294779ff",
   "metadata": {},
   "outputs": [],
   "source": [
    "# program to find prime number \n",
    "# we are using the logic as prime number divide 1 and itself \n",
    "# so use two loop first loop take number \n",
    "# 2nd loop will run from 1 to that number \n",
    "# take modulo if factor==2 prime else not prime\n"
   ]
  },
  {
   "cell_type": "code",
   "execution_count": 113,
   "id": "c368a803-860d-4c72-8968-030a03b8d9d3",
   "metadata": {},
   "outputs": [
    {
     "name": "stdout",
     "output_type": "stream",
     "text": [
      " 100 not prime\n"
     ]
    }
   ],
   "source": [
    "# normay way without  list\n",
    "# prime number are those which divide 1 and it self\n",
    "# but here problem is that for loop will give last i value always outside loop i=100\n",
    "# so it will give about result for 100 \n",
    "# we have to find a way how take i value outside loop \n",
    "factor=0\n",
    "for i in range(2,101):  # number taking loop\n",
    "    for j in range(1,i+1): # factor couting loop \n",
    "        if i%j==0:\n",
    "            factor+=1  \n",
    "            \n",
    "if factor==2:\n",
    "    print(f\"{temp} is prime\")\n",
    "else:\n",
    "    print(f\" {temp} not prime\")"
   ]
  },
  {
   "cell_type": "code",
   "execution_count": 115,
   "id": "493c94fd-e8a8-437c-9bdd-aff374914070",
   "metadata": {},
   "outputs": [
    {
     "name": "stdout",
     "output_type": "stream",
     "text": [
      "2 is prime\n",
      "3 is prime\n",
      "4 is not prime\n",
      "5 is prime\n",
      "6 is not prime\n",
      "7 is prime\n",
      "8 is not prime\n",
      "9 is not prime\n",
      "10 is not prime\n",
      "11 is prime\n",
      "12 is not prime\n",
      "13 is prime\n",
      "14 is not prime\n",
      "15 is not prime\n",
      "16 is not prime\n",
      "17 is prime\n",
      "18 is not prime\n",
      "19 is prime\n",
      "20 is not prime\n",
      "21 is not prime\n",
      "22 is not prime\n",
      "23 is prime\n",
      "24 is not prime\n",
      "25 is not prime\n",
      "26 is not prime\n",
      "27 is not prime\n",
      "28 is not prime\n",
      "29 is prime\n",
      "30 is not prime\n",
      "31 is prime\n",
      "32 is not prime\n",
      "33 is not prime\n",
      "34 is not prime\n",
      "35 is not prime\n",
      "36 is not prime\n",
      "37 is prime\n",
      "38 is not prime\n",
      "39 is not prime\n",
      "40 is not prime\n",
      "41 is prime\n",
      "42 is not prime\n",
      "43 is prime\n",
      "44 is not prime\n",
      "45 is not prime\n",
      "46 is not prime\n",
      "47 is prime\n",
      "48 is not prime\n",
      "49 is not prime\n",
      "50 is not prime\n",
      "51 is not prime\n",
      "52 is not prime\n",
      "53 is prime\n",
      "54 is not prime\n",
      "55 is not prime\n",
      "56 is not prime\n",
      "57 is not prime\n",
      "58 is not prime\n",
      "59 is prime\n",
      "60 is not prime\n",
      "61 is prime\n",
      "62 is not prime\n",
      "63 is not prime\n",
      "64 is not prime\n",
      "65 is not prime\n",
      "66 is not prime\n",
      "67 is prime\n",
      "68 is not prime\n",
      "69 is not prime\n",
      "70 is not prime\n",
      "71 is prime\n",
      "72 is not prime\n",
      "73 is prime\n",
      "74 is not prime\n",
      "75 is not prime\n",
      "76 is not prime\n",
      "77 is not prime\n",
      "78 is not prime\n",
      "79 is prime\n",
      "80 is not prime\n",
      "81 is not prime\n",
      "82 is not prime\n",
      "83 is prime\n",
      "84 is not prime\n",
      "85 is not prime\n",
      "86 is not prime\n",
      "87 is not prime\n",
      "88 is not prime\n",
      "89 is prime\n",
      "90 is not prime\n",
      "91 is not prime\n",
      "92 is not prime\n",
      "93 is not prime\n",
      "94 is not prime\n",
      "95 is not prime\n",
      "96 is not prime\n",
      "97 is prime\n",
      "98 is not prime\n",
      "99 is not prime\n",
      "100 is not prime\n"
     ]
    }
   ],
   "source": [
    "# to avoid this we need to write print statement inside loop\n",
    "for i in range(2,101): # number taking loop\n",
    "    # intilise factor here so that it will reset the factor value 0 in each iteration of first for loop\n",
    "    factor=0\n",
    "\n",
    "    \n",
    "    for j in range(1,i+1): # facotor calculating loop \n",
    "        if i%j==0:\n",
    "            factor+=1 \n",
    "    # for each iteration of  i we have calculate factors\n",
    "    # example 10 after the end of  second loop  i=10 10/1,10/2....\n",
    "    if factor==2:\n",
    "        print(f\"{i} is prime\")\n",
    "    else:\n",
    "        print(f\"{i} is not prime\")\n",
    "            \n",
    "            \n"
   ]
  },
  {
   "cell_type": "code",
   "execution_count": null,
   "id": "69304d74-3774-4606-b2bc-311867e63386",
   "metadata": {},
   "outputs": [],
   "source": []
  },
  {
   "cell_type": "code",
   "execution_count": null,
   "id": "b0d4e85f-ab00-46c1-a269-1b45aa5b080b",
   "metadata": {},
   "outputs": [],
   "source": []
  },
  {
   "cell_type": "code",
   "execution_count": 107,
   "id": "1b65d4e0-756c-43dd-bb3f-a58a4b4eb2ac",
   "metadata": {},
   "outputs": [
    {
     "name": "stdout",
     "output_type": "stream",
     "text": [
      "hello\n",
      "hello\n",
      "hello\n",
      "hello\n",
      "hello\n",
      "hello\n",
      "hello\n",
      "hello\n",
      "hello\n",
      "9\n"
     ]
    }
   ],
   "source": [
    " "
   ]
  },
  {
   "cell_type": "code",
   "execution_count": null,
   "id": "a3dba3d8-d06c-4613-b693-4b7e30b96b5d",
   "metadata": {},
   "outputs": [],
   "source": [
    "for i in range(1,101):\n",
    "    factor=0\n",
    "    for j in range(1,j+1):\n",
    "        if i%j==0:\n",
    "            factor+=1\n",
    "    if factor==2:\n",
    "        print(\"{} is prime\".format(i))\n",
    "    else:\n",
    "        print(\"{} is not prime\".format(i))"
   ]
  },
  {
   "cell_type": "code",
   "execution_count": 121,
   "id": "9dd13f08-2f6f-4397-8721-7c8d17d55992",
   "metadata": {},
   "outputs": [
    {
     "name": "stdout",
     "output_type": "stream",
     "text": [
      "Prime [2, 3, 4, 8, 9, 10, 14, 15, 16, 20, 21, 22, 26, 27, 28, 32, 33, 34, 38, 39, 40, 44, 45, 46, 50, 51, 52, 56, 57, 58, 62, 63, 64, 68, 69, 70, 74, 75, 76, 80, 81, 82, 86, 87, 88, 92, 93, 94, 98, 99, 100]:\n",
      "=================================================================================================================\n",
      "Non prime [1, 5, 6, 7, 11, 12, 13, 17, 18, 19, 23, 24, 25, 29, 30, 31, 35, 36, 37, 41, 42, 43, 47, 48, 49, 53, 54, 55, 59, 60, 61, 65, 66, 67, 71, 72, 73, 77, 78, 79, 83, 84, 85, 89, 90, 91, 95, 96, 97]\n"
     ]
    }
   ],
   "source": [
    "# print in the form of list\n",
    "prime=[]\n",
    "non_prime=[]\n",
    "for i in range(1,101):\n",
    "    factor=0\n",
    "    for j in range(1,j+1):\n",
    "        if i%j==0:\n",
    "            factor+=1\n",
    "    if factor==2:\n",
    "        prime.append(i)\n",
    "    else:\n",
    "        non_prime.append(i)\n",
    "print(\"Prime {}:\".format(prime))\n",
    "print(\"=================================================================================================================\")\n",
    "print(\"Non prime {}\".format(non_prime))"
   ]
  },
  {
   "cell_type": "code",
   "execution_count": null,
   "id": "aec0a99b-58f2-40fe-94b5-bb8681daee1e",
   "metadata": {},
   "outputs": [],
   "source": []
  },
  {
   "cell_type": "code",
   "execution_count": 127,
   "id": "e8b3182f-73e3-423a-9c76-7f81d5d3e3fb",
   "metadata": {},
   "outputs": [
    {
     "name": "stdin",
     "output_type": "stream",
     "text": [
      "Enter a number 43\n"
     ]
    },
    {
     "name": "stdout",
     "output_type": "stream",
     "text": [
      "43 is prime\n"
     ]
    }
   ],
   "source": [
    "# take the number from user and check whether prime or not\n",
    "num=eval(input(\"Enter a number\"))\n",
    "factor=0\n",
    "\n",
    "for i in range(1,num+1): # factor count loop only required as number provided by user\n",
    "    if num%i==0:\n",
    "        factor+=1\n",
    "if factor==2:\n",
    "    print(\"{} is prime\".format(num))\n",
    "else:\n",
    "    print(\"{} is not prime\".format(num))\n",
    "        \n",
    "        \n",
    "\n",
    "    "
   ]
  },
  {
   "cell_type": "code",
   "execution_count": 129,
   "id": "d5d819cc-e7fd-4589-b3c9-ecac7abd81e3",
   "metadata": {},
   "outputs": [
    {
     "name": "stdin",
     "output_type": "stream",
     "text": [
      "Enter a number 2\n"
     ]
    },
    {
     "name": "stdout",
     "output_type": "stream",
     "text": [
      "2 is prime\n"
     ]
    },
    {
     "name": "stdin",
     "output_type": "stream",
     "text": [
      "Do you continue for continue press 'Y' else 'N'  y\n",
      "Enter a number 45\n"
     ]
    },
    {
     "name": "stdout",
     "output_type": "stream",
     "text": [
      "45 is not prime\n"
     ]
    },
    {
     "name": "stdin",
     "output_type": "stream",
     "text": [
      "Do you continue for continue press 'Y' else 'N'  n\n"
     ]
    }
   ],
   "source": [
    "# take the number from user and check whether prime or not \n",
    "# asking number continiusly until user not want to stop using function\n",
    "\n",
    "\n",
    "def prime(factor,num):\n",
    "    for i in range(1,num+1): # factor count loop only required as number provided by user\n",
    "        if num%i==0:\n",
    "            factor+=1\n",
    "    if factor==2:\n",
    "        print(\"{} is prime\".format(num))\n",
    "    else:\n",
    "        print(\"{} is not prime\".format(num))\n",
    "        \n",
    "        \n",
    "conti=\"Y\"\n",
    "while(conti.lower()==\"Y\".lower()):\n",
    "    num=eval(input(\"Enter a number\"))\n",
    "    factor=0\n",
    "    prime(factor,num)\n",
    "    conti=input(\"Do you continue for continue press 'Y' else 'N' \")\n",
    "\n"
   ]
  },
  {
   "cell_type": "code",
   "execution_count": 148,
   "id": "43ff9347-57c3-4da5-9739-4b573dc3a73d",
   "metadata": {},
   "outputs": [
    {
     "name": "stdin",
     "output_type": "stream",
     "text": [
      "Enter a number 1\n"
     ]
    },
    {
     "name": "stdout",
     "output_type": "stream",
     "text": [
      "1 is not prime\n"
     ]
    },
    {
     "name": "stdin",
     "output_type": "stream",
     "text": [
      "Do you continue for continue press 'Y' else 'N'  y\n",
      "Enter a number 2\n"
     ]
    },
    {
     "name": "stdout",
     "output_type": "stream",
     "text": [
      "2 is prime\n"
     ]
    },
    {
     "name": "stdin",
     "output_type": "stream",
     "text": [
      "Do you continue for continue press 'Y' else 'N'  y\n",
      "Enter a number 5\n"
     ]
    },
    {
     "name": "stdout",
     "output_type": "stream",
     "text": [
      "5 is prime\n"
     ]
    },
    {
     "name": "stdin",
     "output_type": "stream",
     "text": [
      "Do you continue for continue press 'Y' else 'N'  n\n"
     ]
    },
    {
     "name": "stdout",
     "output_type": "stream",
     "text": [
      "prime [2, 5]\n",
      "Non prime [1]\n"
     ]
    }
   ],
   "source": [
    "# take the number from user and check whether prime or not \n",
    "# asking number continiusly until user not want to stop using function\n",
    "# want to create list of prime and non prime once program end\n",
    "\n",
    "prime_list=[]\n",
    "non_prime=[]\n",
    "\n",
    "def prime(factor,num):\n",
    "    for i in range(1,num+1): # factor count loop only required as number provided by user\n",
    "        if num%i==0:\n",
    "            factor+=1\n",
    "    if factor==2:\n",
    "        print(\"{} is prime\".format(num))\n",
    "        prime_list.append(i)\n",
    "    else:\n",
    "        print(\"{} is not prime\".format(num))\n",
    "        non_prime.append(i) \n",
    "    \n",
    "\n",
    "        \n",
    "\n",
    "conti=\"Y\"\n",
    "while(conti.lower()==\"Y\".lower()):\n",
    "    num=eval(input(\"Enter a number\"))\n",
    "    factor=0\n",
    "    prim=prime(factor,num)\n",
    "    conti=input(\"Do you continue for continue press 'Y' else 'N' \")\n",
    "print(\"prime\",prime_list)\n",
    "print(\"Non prime\",non_prime)\n",
    "    \n"
   ]
  },
  {
   "cell_type": "code",
   "execution_count": null,
   "id": "3909b07a-5c5f-468c-abac-f470e15628a1",
   "metadata": {},
   "outputs": [],
   "source": [
    "# enter list of number and find prime numbers"
   ]
  },
  {
   "cell_type": "code",
   "execution_count": 156,
   "id": "b182a5ec-77af-4fc3-a962-0875d6435696",
   "metadata": {},
   "outputs": [
    {
     "name": "stdin",
     "output_type": "stream",
     "text": [
      "enter numbers: 1,2,3,4,5,6,7,8\n"
     ]
    },
    {
     "name": "stdout",
     "output_type": "stream",
     "text": [
      "1 is not prime\n",
      "2 is prime\n",
      "3 is prime\n",
      "4 is not prime\n",
      "5 is prime\n",
      "6 is not prime\n",
      "7 is prime\n",
      "8 is not prime\n",
      "Prime: [2, 3, 5, 7]\n",
      "Non prime: [1, 4, 6, 8]\n"
     ]
    }
   ],
   "source": [
    "list1=input(\"enter numbers:\").split(\",\")\n",
    "list1=[int(i) for i in list1]\n",
    "# accesing each element of list\n",
    "prime_list=[]\n",
    "non_prime=[]\n",
    "for num in list1:\n",
    "    factor=0 # for each list element factor value reset\n",
    "    for j in range(1,num+1):\n",
    "        if num%j==0:\n",
    "            factor+=1\n",
    "\n",
    "    if factor==2:\n",
    "        print(\"{} is prime\".format(num))\n",
    "        prime_list.append(num)\n",
    "    else:\n",
    "        print(\"{} is not prime\".format(num))\n",
    "        non_prime.append(num)\n",
    "print(\"Prime:\",prime_list)\n",
    "print(\"Non prime:\",non_prime)\n",
    "            \n",
    "            \n"
   ]
  },
  {
   "cell_type": "code",
   "execution_count": null,
   "id": "8f256080-3989-4123-aa6b-9cb3f250edd4",
   "metadata": {},
   "outputs": [],
   "source": []
  },
  {
   "cell_type": "code",
   "execution_count": 173,
   "id": "fc19b79f-8308-4734-b01d-1b880bbf95f7",
   "metadata": {},
   "outputs": [
    {
     "name": "stdout",
     "output_type": "stream",
     "text": [
      "each iteration 0\n",
      "each iteration 0\n",
      "each iteration 0\n",
      "each iteration 0\n",
      "for which true 1\n",
      "each iteration 1\n",
      "each iteration 1\n",
      "each iteration 1\n",
      "each iteration 1\n",
      "each iteration 1\n",
      "each iteration 1\n",
      "each iteration 1\n",
      "each iteration 1\n",
      "each iteration 1\n",
      "each iteration 1\n",
      "each iteration 1\n",
      "each iteration 1\n",
      "each iteration 1\n",
      "each iteration 1\n",
      "each iteration 1\n",
      "each iteration 1\n",
      "each iteration 1\n",
      "for which true 2\n",
      "each iteration 2\n",
      "each iteration 2\n",
      "final 2\n"
     ]
    }
   ],
   "source": [
    "# count the number of a's in str1\n",
    "str1=\"my name is ritesh kumar\"\n",
    "count=0\n",
    "for i in str1:\n",
    "    if i==\"a\":\n",
    "        count=count+1\n",
    "        print(\"for which true\",count)\n",
    "    print(\"each iteration\",count)    \n",
    "print(\"final\",count)    \n",
    "    \n",
    "\n"
   ]
  },
  {
   "cell_type": "code",
   "execution_count": 179,
   "id": "0e94b03b-5923-4a20-8d02-401475a9c9cd",
   "metadata": {},
   "outputs": [
    {
     "name": "stdin",
     "output_type": "stream",
     "text": [
      "Enter name anjaana kumari\n"
     ]
    },
    {
     "name": "stdout",
     "output_type": "stream",
     "text": [
      "kumari anjaana\n"
     ]
    }
   ],
   "source": [
    "# wap for the patter if \n",
    "# str=\"ritesh kumar\"\n",
    "#op kumar ritesh\n",
    "str1=input(\"Enter name\")\n",
    "s1=str1[str1.index(\" \")+1:] #kumar\n",
    "s2=str1[:str1.index(\" \")] # ritesh\n",
    "str1=s1+\" \"+s2\n",
    "print(str1)"
   ]
  },
  {
   "cell_type": "code",
   "execution_count": null,
   "id": "ad80fb5d-4fea-4183-ad4e-a32f629f9dd2",
   "metadata": {},
   "outputs": [],
   "source": [
    "# question input a string and convernt each word capatilize\n",
    "# as capatilize do the make captital of first word in the string only\n",
    "# we need to access each element and perform captilize\n",
    "# each elemetn access using convert into list using split\n",
    "# we need empty list to store the capital list element \n",
    "str1=\"ritesh kumar maurya\"\n",
    "l1=[]\n",
    "for word in str1.split():\n",
    "    l1.append(word.capitalize())\n",
    "print(l1)\n",
    "# now convert into str\n",
    "#s1=str(l1) # if will do this entire list convert as strign but a single string which contain each eleemtn like \"Ritesh Kumar Maurys\"\n",
    "# but it will give string of list \n",
    "# so we use join here\n",
    "s=\" \".join(l1) # each list element will take and join on the basis of space \n",
    "print(s)\n",
    "\n"
   ]
  },
  {
   "cell_type": "code",
   "execution_count": null,
   "id": "3e81fe08-edc5-4d84-994f-ce519e0a03c9",
   "metadata": {},
   "outputs": [],
   "source": []
  },
  {
   "cell_type": "code",
   "execution_count": null,
   "id": "64799d5e-9d64-4048-b16b-2b2c960e92e0",
   "metadata": {},
   "outputs": [],
   "source": []
  },
  {
   "cell_type": "code",
   "execution_count": null,
   "id": "d9ccb7cd-0d10-4519-8235-79a7a2d88c47",
   "metadata": {},
   "outputs": [],
   "source": []
  },
  {
   "cell_type": "code",
   "execution_count": null,
   "id": "7c7df0ad-d03b-41a0-8347-de7ed9706adb",
   "metadata": {},
   "outputs": [],
   "source": []
  }
 ],
 "metadata": {
  "kernelspec": {
   "display_name": "Python [conda env:base] *",
   "language": "python",
   "name": "conda-base-py"
  },
  "language_info": {
   "codemirror_mode": {
    "name": "ipython",
    "version": 3
   },
   "file_extension": ".py",
   "mimetype": "text/x-python",
   "name": "python",
   "nbconvert_exporter": "python",
   "pygments_lexer": "ipython3",
   "version": "3.13.5"
  }
 },
 "nbformat": 4,
 "nbformat_minor": 5
}
