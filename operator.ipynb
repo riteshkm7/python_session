{
 "cells": [
  {
   "cell_type": "code",
   "execution_count": 1,
   "id": "42facc7b-64e6-4017-9537-d5697263d641",
   "metadata": {},
   "outputs": [
    {
     "name": "stdout",
     "output_type": "stream",
     "text": [
      "4\n"
     ]
    }
   ],
   "source": [
    "# operators\n",
    "#1. power operator to find the power of give valu (**)\n",
    "print(2**2)"
   ]
  },
  {
   "cell_type": "code",
   "execution_count": 2,
   "id": "8c5a5fd0-c8ae-47f4-98ad-af6192f0f91b",
   "metadata": {},
   "outputs": [
    {
     "name": "stdout",
     "output_type": "stream",
     "text": [
      "0.25\n"
     ]
    }
   ],
   "source": [
    "print(2**-2)"
   ]
  },
  {
   "cell_type": "code",
   "execution_count": 3,
   "id": "caf34b74-9dd1-4795-9e43-0c4074e81715",
   "metadata": {},
   "outputs": [
    {
     "name": "stdout",
     "output_type": "stream",
     "text": [
      "-4\n"
     ]
    }
   ],
   "source": [
    "print(-2**2)# -2 power of 2"
   ]
  },
  {
   "cell_type": "code",
   "execution_count": 4,
   "id": "d59004a9-c96d-446f-be7a-b1f4a9cf9675",
   "metadata": {},
   "outputs": [
    {
     "name": "stdout",
     "output_type": "stream",
     "text": [
      "4\n"
     ]
    }
   ],
   "source": [
    "print((-2)**2)## (-2)** 2"
   ]
  },
  {
   "cell_type": "code",
   "execution_count": 5,
   "id": "afca0706-7c01-4df7-a302-6bcb706518c6",
   "metadata": {},
   "outputs": [
    {
     "name": "stdout",
     "output_type": "stream",
     "text": [
      "1.3195079107728942\n"
     ]
    }
   ],
   "source": [
    "print(2**0.4)"
   ]
  },
  {
   "cell_type": "code",
   "execution_count": 6,
   "id": "593df580-6297-4c82-8685-0379f0714ed3",
   "metadata": {},
   "outputs": [
    {
     "name": "stdout",
     "output_type": "stream",
     "text": [
      "2.5\n"
     ]
    }
   ],
   "source": [
    "# true division\n",
    "# always provde true divison and result always be float\n",
    "a=5\n",
    "b=2\n",
    "print(a/b)"
   ]
  },
  {
   "cell_type": "code",
   "execution_count": 7,
   "id": "a5fad4f1-9337-479a-bfa7-7d99580a7637",
   "metadata": {},
   "outputs": [
    {
     "name": "stdout",
     "output_type": "stream",
     "text": [
      "2.0\n"
     ]
    }
   ],
   "source": [
    "print(4/2)"
   ]
  },
  {
   "cell_type": "code",
   "execution_count": 8,
   "id": "7203f63f-6b6e-4967-a85a-48d522d9d029",
   "metadata": {},
   "outputs": [
    {
     "name": "stdout",
     "output_type": "stream",
     "text": [
      "81\n"
     ]
    }
   ],
   "source": [
    "#// flor divison \n",
    "# return the floor value and result  will be either float or int depend on operand\n",
    "print(244//3)"
   ]
  },
  {
   "cell_type": "code",
   "execution_count": 9,
   "id": "d822292d-97f6-4525-a856-cacd331e4564",
   "metadata": {},
   "outputs": [
    {
     "name": "stdout",
     "output_type": "stream",
     "text": [
      "21.0\n"
     ]
    }
   ],
   "source": [
    "print(43//2.0)"
   ]
  },
  {
   "cell_type": "markdown",
   "id": "7b67bc06-afa4-4c76-9f80-8f0e877c3cb8",
   "metadata": {},
   "source": [
    "*** Note if x//10 then it will give the x without last digit so it  is used to remove the last digit from x ***"
   ]
  },
  {
   "cell_type": "code",
   "execution_count": 10,
   "id": "4a9cd16f-410b-4f19-abd8-5a146720851a",
   "metadata": {},
   "outputs": [
    {
     "name": "stdout",
     "output_type": "stream",
     "text": [
      "22\n"
     ]
    }
   ],
   "source": [
    "print(223//10)"
   ]
  },
  {
   "cell_type": "code",
   "execution_count": 11,
   "id": "ec0d1c9f-ad3d-4b8e-bfad-0f7a8ad21ce0",
   "metadata": {},
   "outputs": [
    {
     "name": "stdout",
     "output_type": "stream",
     "text": [
      "0\n"
     ]
    }
   ],
   "source": [
    "# modulo % it return reminder \n",
    "# it alos applicable on float value also\n",
    "print(4%2)"
   ]
  },
  {
   "cell_type": "code",
   "execution_count": 12,
   "id": "f677a73e-7689-4bd0-a769-7792720fbb87",
   "metadata": {},
   "outputs": [
    {
     "name": "stdout",
     "output_type": "stream",
     "text": [
      "1.5\n"
     ]
    }
   ],
   "source": [
    "print(5.5%2)"
   ]
  },
  {
   "cell_type": "markdown",
   "id": "2171ec14-3e86-42c3-b94c-d461518919b8",
   "metadata": {},
   "source": [
    "*** note to get the ligit use modulo with 10 last digit will come ***"
   ]
  },
  {
   "cell_type": "code",
   "execution_count": 13,
   "id": "cacb2e2f-1587-474f-8d1d-3d76c3aca5f0",
   "metadata": {},
   "outputs": [
    {
     "name": "stdout",
     "output_type": "stream",
     "text": [
      "4\n"
     ]
    }
   ],
   "source": [
    "print(2434%10)"
   ]
  },
  {
   "cell_type": "code",
   "execution_count": 15,
   "id": "93082510-ed2b-4754-9397-86b2ddf8d740",
   "metadata": {},
   "outputs": [
    {
     "name": "stdout",
     "output_type": "stream",
     "text": [
      "hi hi hi hi \n"
     ]
    }
   ],
   "source": [
    "# multiplication \n",
    "# we can * with string also in that case it use as repeation \n",
    "print(\"hi \" * 4 ) # hi will print four time"
   ]
  },
  {
   "cell_type": "code",
   "execution_count": 16,
   "id": "b06c9fa5-d258-40df-8a96-7ceaf76124ca",
   "metadata": {},
   "outputs": [
    {
     "name": "stdout",
     "output_type": "stream",
     "text": [
      "helloritesh\n"
     ]
    }
   ],
   "source": [
    "# + addition can be use with the string for cantenation but both operand must string\n",
    "print(\"hello\" + \"ritesh\")"
   ]
  },
  {
   "cell_type": "markdown",
   "id": "23cc3561-fd38-4502-9ac1-cf432f698648",
   "metadata": {},
   "source": [
    "#### realtional operatior ###\n",
    "- in equality operator < <= >= \n",
    "- equality operator == != equalitly opeator never yield error \n",
    "- equality operator can use to compare complex numbers complext and strign any type never yield error\n",
    "- relation operator can use to compare two string also they compare on the behalf of  alphabetical order\n",
    "- first come in dictionary low and last come in dict high a>b false b is greater\n",
    "- A>a false as a has higher unicode\n",
    "- result alway true or false"
   ]
  },
  {
   "cell_type": "code",
   "execution_count": 18,
   "id": "2259f448-2839-446e-8ab5-e9ba0df98b09",
   "metadata": {},
   "outputs": [
    {
     "name": "stdout",
     "output_type": "stream",
     "text": [
      "False\n"
     ]
    }
   ],
   "source": [
    "print(4>5)"
   ]
  },
  {
   "cell_type": "code",
   "execution_count": 19,
   "id": "ccca96fe-dab1-47a6-9d40-1a1f0778e1c7",
   "metadata": {},
   "outputs": [
    {
     "name": "stdout",
     "output_type": "stream",
     "text": [
      "True\n"
     ]
    }
   ],
   "source": [
    "print(4!=5)"
   ]
  },
  {
   "cell_type": "code",
   "execution_count": 22,
   "id": "70e55900-5eed-469e-95b6-c5f56f83bde6",
   "metadata": {},
   "outputs": [
    {
     "name": "stdout",
     "output_type": "stream",
     "text": [
      "False\n"
     ]
    }
   ],
   "source": [
    "print(\"ABC\">=\"DEF\")"
   ]
  },
  {
   "cell_type": "code",
   "execution_count": 24,
   "id": "2d1f3d3e-9526-46b2-9f86-1e3a61e8015a",
   "metadata": {},
   "outputs": [
    {
     "name": "stdout",
     "output_type": "stream",
     "text": [
      "False\n"
     ]
    }
   ],
   "source": [
    "print(\"abc\">\"def\")"
   ]
  },
  {
   "cell_type": "code",
   "execution_count": 26,
   "id": "fcd1de77-51e3-4bdf-bcbb-42e70da8ff51",
   "metadata": {},
   "outputs": [
    {
     "name": "stdout",
     "output_type": "stream",
     "text": [
      "True\n"
     ]
    }
   ],
   "source": [
    "print(\"a\">\"A\")"
   ]
  },
  {
   "cell_type": "code",
   "execution_count": 27,
   "id": "2831563e-363c-4e9b-b87e-f579af01403e",
   "metadata": {},
   "outputs": [
    {
     "ename": "TypeError",
     "evalue": "'>' not supported between instances of 'complex' and 'int'",
     "output_type": "error",
     "traceback": [
      "\u001b[1;31m---------------------------------------------------------------------------\u001b[0m",
      "\u001b[1;31mTypeError\u001b[0m                                 Traceback (most recent call last)",
      "Cell \u001b[1;32mIn[27], line 1\u001b[0m\n\u001b[1;32m----> 1\u001b[0m \u001b[38;5;28mprint\u001b[39m(\u001b[38;5;241m4\u001b[39m\u001b[38;5;241m+\u001b[39m\u001b[38;5;241m3\u001b[39mj\u001b[38;5;241m>\u001b[39m\u001b[38;5;241m4\u001b[39m)\n",
      "\u001b[1;31mTypeError\u001b[0m: '>' not supported between instances of 'complex' and 'int'"
     ]
    }
   ],
   "source": [
    "print(4+3j>4) #only equaltiy operator can be use in complex\n"
   ]
  },
  {
   "cell_type": "code",
   "execution_count": 28,
   "id": "89315880-970b-4335-8afb-034b5fb8c48a",
   "metadata": {},
   "outputs": [
    {
     "name": "stdout",
     "output_type": "stream",
     "text": [
      "False\n"
     ]
    }
   ],
   "source": [
    "print(4+3j==4)"
   ]
  },
  {
   "cell_type": "code",
   "execution_count": 29,
   "id": "d77331ae-a9f3-4ceb-9547-d100c37f0cf5",
   "metadata": {},
   "outputs": [
    {
     "ename": "TypeError",
     "evalue": "'>' not supported between instances of 'str' and 'int'",
     "output_type": "error",
     "traceback": [
      "\u001b[1;31m---------------------------------------------------------------------------\u001b[0m",
      "\u001b[1;31mTypeError\u001b[0m                                 Traceback (most recent call last)",
      "Cell \u001b[1;32mIn[29], line 1\u001b[0m\n\u001b[1;32m----> 1\u001b[0m \u001b[38;5;28mprint\u001b[39m(\u001b[38;5;124m\"\u001b[39m\u001b[38;5;124mjfs\u001b[39m\u001b[38;5;124m\"\u001b[39m\u001b[38;5;241m>\u001b[39m\u001b[38;5;241m7\u001b[39m)\n",
      "\u001b[1;31mTypeError\u001b[0m: '>' not supported between instances of 'str' and 'int'"
     ]
    }
   ],
   "source": [
    "print(\"jfs\">7)  # cant compare string with int"
   ]
  },
  {
   "cell_type": "code",
   "execution_count": 30,
   "id": "669a9c2c-78bd-4517-b10b-45b2f753d95a",
   "metadata": {},
   "outputs": [
    {
     "name": "stdout",
     "output_type": "stream",
     "text": [
      "True\n"
     ]
    }
   ],
   "source": [
    "# but as equaltiy operator never yiel erro\n",
    "print(\"fdsfs\"!=3) # as string and int are different tryp"
   ]
  },
  {
   "cell_type": "code",
   "execution_count": 33,
   "id": "10f1f83c-c56e-4bb1-a637-abe7e413f2a2",
   "metadata": {},
   "outputs": [
    {
     "name": "stdout",
     "output_type": "stream",
     "text": [
      "False\n"
     ]
    }
   ],
   "source": [
    "print(\"fdsfs\"==54)"
   ]
  },
  {
   "cell_type": "markdown",
   "id": "623a1d73-c7a2-4cea-8c87-f3dd0322dc5a",
   "metadata": {},
   "source": [
    "### logical operator ### \n",
    "- every non zero value is trated as true\n",
    "- non empty string is as true\n",
    "- empty string is false\n",
    "- if the operands are non bool then result is also non bool\n",
    "- result= operand on which the anser depend in non bool case\n",
    "- eg 4 and  2 in and we have to check both case one is true so we need to check 2nd case so the ans is 2\n",
    "- if o and 4 now if any operand false then no need to check 2nd so ans is 0\n"
   ]
  },
  {
   "cell_type": "code",
   "execution_count": 34,
   "id": "9706900c-4e57-4de8-b535-2e123dbf819d",
   "metadata": {},
   "outputs": [
    {
     "data": {
      "text/plain": [
       "False"
      ]
     },
     "execution_count": 34,
     "metadata": {},
     "output_type": "execute_result"
    }
   ],
   "source": [
    "5>4 and 4>4"
   ]
  },
  {
   "cell_type": "code",
   "execution_count": 35,
   "id": "7a1e090f-90cc-46b4-b811-db7085e0b88e",
   "metadata": {},
   "outputs": [
    {
     "data": {
      "text/plain": [
       "False"
      ]
     },
     "execution_count": 35,
     "metadata": {},
     "output_type": "execute_result"
    }
   ],
   "source": [
    "4>4 or 5<4"
   ]
  },
  {
   "cell_type": "code",
   "execution_count": 36,
   "id": "eb1c1d2e-1822-4f24-a32b-67f54ca8a9cc",
   "metadata": {},
   "outputs": [
    {
     "data": {
      "text/plain": [
       "True"
      ]
     },
     "execution_count": 36,
     "metadata": {},
     "output_type": "execute_result"
    }
   ],
   "source": [
    "4>3 or 5<3"
   ]
  },
  {
   "cell_type": "code",
   "execution_count": 38,
   "id": "648f5253-cd70-4e86-8544-7ef9dcbfbcb1",
   "metadata": {},
   "outputs": [
    {
     "data": {
      "text/plain": [
       "False"
      ]
     },
     "execution_count": 38,
     "metadata": {},
     "output_type": "execute_result"
    }
   ],
   "source": [
    "# not \n",
    "# not expression\n",
    "not True"
   ]
  },
  {
   "cell_type": "code",
   "execution_count": 39,
   "id": "e332962a-a004-4534-910f-8b3c84d8e89c",
   "metadata": {},
   "outputs": [
    {
     "data": {
      "text/plain": [
       "False"
      ]
     },
     "execution_count": 39,
     "metadata": {},
     "output_type": "execute_result"
    }
   ],
   "source": [
    "not 5>4 # as 5>4 true and not of true= false"
   ]
  },
  {
   "cell_type": "code",
   "execution_count": 41,
   "id": "15d3c67c-5a85-409d-90fe-808574391898",
   "metadata": {},
   "outputs": [
    {
     "data": {
      "text/plain": [
       "True"
      ]
     },
     "execution_count": 41,
     "metadata": {},
     "output_type": "execute_result"
    }
   ],
   "source": [
    "not( 5>4 and 4>34)"
   ]
  },
  {
   "cell_type": "code",
   "execution_count": 42,
   "id": "b0a90623-5a60-4a82-8ab4-ac0b7d15ca89",
   "metadata": {},
   "outputs": [
    {
     "data": {
      "text/plain": [
       "False"
      ]
     },
     "execution_count": 42,
     "metadata": {},
     "output_type": "execute_result"
    }
   ],
   "source": [
    "not 5"
   ]
  },
  {
   "cell_type": "code",
   "execution_count": 43,
   "id": "af9e1489-90f5-49a8-b6d8-c94da41942fe",
   "metadata": {},
   "outputs": [
    {
     "data": {
      "text/plain": [
       "True"
      ]
     },
     "execution_count": 43,
     "metadata": {},
     "output_type": "execute_result"
    }
   ],
   "source": [
    "not 0"
   ]
  },
  {
   "cell_type": "code",
   "execution_count": 44,
   "id": "a2d5f1dd-58db-428e-b3a3-2a3c2e4f4ba1",
   "metadata": {},
   "outputs": [
    {
     "data": {
      "text/plain": [
       "False"
      ]
     },
     "execution_count": 44,
     "metadata": {},
     "output_type": "execute_result"
    }
   ],
   "source": [
    "not \"hello\""
   ]
  },
  {
   "cell_type": "code",
   "execution_count": 46,
   "id": "8786fba7-2bca-4d3a-b4c9-873ef181d771",
   "metadata": {},
   "outputs": [
    {
     "data": {
      "text/plain": [
       "True"
      ]
     },
     "execution_count": 46,
     "metadata": {},
     "output_type": "execute_result"
    }
   ],
   "source": [
    "not \"\" # empty string as false "
   ]
  },
  {
   "cell_type": "code",
   "execution_count": 47,
   "id": "b5a7844f-af10-4c16-a6c8-32464e346ba7",
   "metadata": {},
   "outputs": [
    {
     "data": {
      "text/plain": [
       "True"
      ]
     },
     "execution_count": 47,
     "metadata": {},
     "output_type": "execute_result"
    }
   ],
   "source": [
    "not (4 and 0) # 4= true and 0= false"
   ]
  },
  {
   "cell_type": "code",
   "execution_count": null,
   "id": "41a189bf-bf71-489f-9f64-7d78b101a060",
   "metadata": {},
   "outputs": [],
   "source": [
    "# and , or\n"
   ]
  },
  {
   "cell_type": "code",
   "execution_count": null,
   "id": "411004f3-b29c-429c-a78e-aa91aecf1317",
   "metadata": {},
   "outputs": [],
   "source": [
    "# non bool value the anser will also non bool"
   ]
  },
  {
   "cell_type": "code",
   "execution_count": 48,
   "id": "b44d20d6-5971-4f02-ac91-39195d2a6583",
   "metadata": {},
   "outputs": [
    {
     "data": {
      "text/plain": [
       "0"
      ]
     },
     "execution_count": 48,
     "metadata": {},
     "output_type": "execute_result"
    }
   ],
   "source": [
    "4 and 0 # as the result depend on 0 so 0"
   ]
  },
  {
   "cell_type": "code",
   "execution_count": 49,
   "id": "48302206-49b5-42a2-938d-9b9a91934492",
   "metadata": {},
   "outputs": [
    {
     "data": {
      "text/plain": [
       "3"
      ]
     },
     "execution_count": 49,
     "metadata": {},
     "output_type": "execute_result"
    }
   ],
   "source": [
    "4 and 3"
   ]
  },
  {
   "cell_type": "code",
   "execution_count": 51,
   "id": "aa9cff5a-1441-4b88-a5e7-fea646b9c391",
   "metadata": {},
   "outputs": [
    {
     "data": {
      "text/plain": [
       "0"
      ]
     },
     "execution_count": 51,
     "metadata": {},
     "output_type": "execute_result"
    }
   ],
   "source": [
    "0 and 4 # no need to check 4 "
   ]
  },
  {
   "cell_type": "code",
   "execution_count": 52,
   "id": "7f92cef4-5b56-41fd-b7da-9273cd2d1c6d",
   "metadata": {},
   "outputs": [
    {
     "data": {
      "text/plain": [
       "4"
      ]
     },
     "execution_count": 52,
     "metadata": {},
     "output_type": "execute_result"
    }
   ],
   "source": [
    "\"ritesh\" and 4 # any non zero value as true"
   ]
  },
  {
   "cell_type": "code",
   "execution_count": 53,
   "id": "f2ab1052-e0f4-4a75-a9ec-0e503e306877",
   "metadata": {},
   "outputs": [
    {
     "data": {
      "text/plain": [
       "''"
      ]
     },
     "execution_count": 53,
     "metadata": {},
     "output_type": "execute_result"
    }
   ],
   "source": [
    "\"\" and \" \""
   ]
  },
  {
   "cell_type": "code",
   "execution_count": 55,
   "id": "9c9fc9fd-382b-4ec8-8869-53e2d10e288c",
   "metadata": {},
   "outputs": [
    {
     "data": {
      "text/plain": [
       "''"
      ]
     },
     "execution_count": 55,
     "metadata": {},
     "output_type": "execute_result"
    }
   ],
   "source": [
    "\"  \" and \"\" # \"\" empty \" \"= non empty space is there"
   ]
  },
  {
   "cell_type": "code",
   "execution_count": 56,
   "id": "a515d752-283b-49ff-a4d1-e7654d7b1356",
   "metadata": {},
   "outputs": [
    {
     "data": {
      "text/plain": [
       "4"
      ]
     },
     "execution_count": 56,
     "metadata": {},
     "output_type": "execute_result"
    }
   ],
   "source": [
    "4 or 1  # result depend upon 4 "
   ]
  },
  {
   "cell_type": "code",
   "execution_count": 57,
   "id": "c9e8ae28-905f-4790-af7c-37fd4ff3611b",
   "metadata": {},
   "outputs": [
    {
     "data": {
      "text/plain": [
       "4"
      ]
     },
     "execution_count": 57,
     "metadata": {},
     "output_type": "execute_result"
    }
   ],
   "source": [
    "0 or 4 # 4 as once false now result depend on 4 "
   ]
  },
  {
   "cell_type": "code",
   "execution_count": 58,
   "id": "87672193-2a80-4ce9-8091-c871dac5ac26",
   "metadata": {},
   "outputs": [
    {
     "data": {
      "text/plain": [
       "'hi'"
      ]
     },
     "execution_count": 58,
     "metadata": {},
     "output_type": "execute_result"
    }
   ],
   "source": [
    "\"hi\" or 4"
   ]
  },
  {
   "cell_type": "code",
   "execution_count": 59,
   "id": "4915f538-e65e-4b7b-b72a-6983ffa87a6a",
   "metadata": {},
   "outputs": [
    {
     "data": {
      "text/plain": [
       "'kkk'"
      ]
     },
     "execution_count": 59,
     "metadata": {},
     "output_type": "execute_result"
    }
   ],
   "source": [
    "'ht' and 'kkk'"
   ]
  },
  {
   "cell_type": "code",
   "execution_count": 60,
   "id": "6c387034-c9d7-457f-9053-9c7b539ef5ae",
   "metadata": {},
   "outputs": [
    {
     "data": {
      "text/plain": [
       "'hi'"
      ]
     },
     "execution_count": 60,
     "metadata": {},
     "output_type": "execute_result"
    }
   ],
   "source": [
    "'hi' or 'jjj'"
   ]
  },
  {
   "cell_type": "markdown",
   "id": "86247fa1-9bf6-4719-830e-5af8993c94db",
   "metadata": {},
   "source": [
    "# bitwise operator \n",
    "- work only on bit \n",
    "- perofrm operation on bit\n",
    "- 10000\n",
    "- 10011\n"
   ]
  },
  {
   "cell_type": "code",
   "execution_count": null,
   "id": "187f990e-ed80-4ade-9530-0c759a7d9164",
   "metadata": {},
   "outputs": [],
   "source": [
    "# bitwise and &"
   ]
  },
  {
   "cell_type": "code",
   "execution_count": 61,
   "id": "1843b905-a267-4dbe-b1cd-e98afd83bb21",
   "metadata": {},
   "outputs": [
    {
     "data": {
      "text/plain": [
       "0"
      ]
     },
     "execution_count": 61,
     "metadata": {},
     "output_type": "execute_result"
    }
   ],
   "source": [
    "5&2"
   ]
  },
  {
   "cell_type": "code",
   "execution_count": 62,
   "id": "aa09bebc-e7da-41a6-8313-41bcd72cc74e",
   "metadata": {},
   "outputs": [
    {
     "data": {
      "text/plain": [
       "0"
      ]
     },
     "execution_count": 62,
     "metadata": {},
     "output_type": "execute_result"
    }
   ],
   "source": [
    "2 & 1"
   ]
  },
  {
   "cell_type": "code",
   "execution_count": 63,
   "id": "095d38a6-25a3-45ba-af1d-58f64bc30fd7",
   "metadata": {},
   "outputs": [
    {
     "data": {
      "text/plain": [
       "4"
      ]
     },
     "execution_count": 63,
     "metadata": {},
     "output_type": "execute_result"
    }
   ],
   "source": []
  },
  {
   "cell_type": "code",
   "execution_count": 64,
   "id": "dfa002c3-6d7f-43d0-bd18-ee267b2e58f7",
   "metadata": {},
   "outputs": [
    {
     "data": {
      "text/plain": [
       "5"
      ]
     },
     "execution_count": 64,
     "metadata": {},
     "output_type": "execute_result"
    }
   ],
   "source": [
    "# bitwise or \n",
    "5|4"
   ]
  },
  {
   "cell_type": "code",
   "execution_count": 66,
   "id": "01a86e72-453a-4ca1-a6e5-7678e1b747f6",
   "metadata": {},
   "outputs": [
    {
     "data": {
      "text/plain": [
       "-6"
      ]
     },
     "execution_count": 66,
     "metadata": {},
     "output_type": "execute_result"
    }
   ],
   "source": [
    "# biwise negation  change all the bit 1 to 0 and 0 to 1 \n",
    "x=~5\n",
    "x"
   ]
  },
  {
   "cell_type": "code",
   "execution_count": 67,
   "id": "0c7c15c4-3dd2-4eaa-844d-e460ae8621ab",
   "metadata": {},
   "outputs": [
    {
     "data": {
      "text/plain": [
       "-8"
      ]
     },
     "execution_count": 67,
     "metadata": {},
     "output_type": "execute_result"
    }
   ],
   "source": [
    "~7"
   ]
  },
  {
   "cell_type": "code",
   "execution_count": 68,
   "id": "d75a2939-7cc0-4c65-ace5-8e661fb0ff35",
   "metadata": {},
   "outputs": [
    {
     "name": "stdout",
     "output_type": "stream",
     "text": [
      "-11\n"
     ]
    }
   ],
   "source": [
    "x=~10\n",
    "print(x)"
   ]
  },
  {
   "cell_type": "code",
   "execution_count": null,
   "id": "6add3f3a-127f-4d5c-aa9a-0f2385dc392b",
   "metadata": {},
   "outputs": [],
   "source": []
  }
 ],
 "metadata": {
  "kernelspec": {
   "display_name": "Python [conda env:base] *",
   "language": "python",
   "name": "conda-base-py"
  },
  "language_info": {
   "codemirror_mode": {
    "name": "ipython",
    "version": 3
   },
   "file_extension": ".py",
   "mimetype": "text/x-python",
   "name": "python",
   "nbconvert_exporter": "python",
   "pygments_lexer": "ipython3",
   "version": "3.13.5"
  }
 },
 "nbformat": 4,
 "nbformat_minor": 5
}
