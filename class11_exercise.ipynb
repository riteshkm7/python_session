{
 "cells": [
  {
   "cell_type": "code",
   "execution_count": 5,
   "id": "5f5a0693-4ea7-4ef1-b474-866c58c73411",
   "metadata": {},
   "outputs": [
    {
     "name": "stdin",
     "output_type": "stream",
     "text": [
      "enter the user salary 10000\n",
      "enter the tax % 10\n"
     ]
    },
    {
     "name": "stdout",
     "output_type": "stream",
     "text": [
      "the tax you need to pay is 1000.0\n"
     ]
    }
   ],
   "source": [
    "# wap to calculate tax%\n",
    "\n",
    "salary=eval(input(\"enter the user salary\"))\n",
    "tax=eval(input(\"enter the tax %\"))\n",
    "tax_value=(salary*tax)/100\n",
    "print(\"the tax you need to pay is\", tax_value)"
   ]
  },
  {
   "cell_type": "code",
   "execution_count": 20,
   "id": "16a95051-09da-4799-86ea-7bb169b0de3a",
   "metadata": {},
   "outputs": [
    {
     "name": "stdout",
     "output_type": "stream",
     "text": [
      "The square of 4 is 16\n"
     ]
    }
   ],
   "source": [
    "# wap to square get a random value from user\n",
    "import random\n",
    "x=random.randint(1,100)\n",
    "square=x*x\n",
    "print(\"The square of {} is {}\".format(x,square))\n",
    "\n"
   ]
  },
  {
   "cell_type": "code",
   "execution_count": 16,
   "id": "b0e147be-12e4-4066-8887-9fe42045f15f",
   "metadata": {},
   "outputs": [
    {
     "data": {
      "text/plain": [
       "(43784+0j)"
      ]
     },
     "execution_count": 16,
     "metadata": {},
     "output_type": "execute_result"
    }
   ],
   "source": []
  },
  {
   "cell_type": "code",
   "execution_count": 17,
   "id": "dff30b24-9346-40b6-ba2c-1cf214e23887",
   "metadata": {},
   "outputs": [
    {
     "name": "stdin",
     "output_type": "stream",
     "text": [
      "enter your salary 10000\n",
      "enter the da amount 34\n",
      "bonus amount 4533\n"
     ]
    },
    {
     "name": "stdout",
     "output_type": "stream",
     "text": [
      "the total salary amount is = 14567\n"
     ]
    }
   ],
   "source": [
    "# wap to enter user salary, da amount and then bonus and then calculate the total salary\n",
    "salary_amount=eval(input(\"enter your salary\"))\n",
    "da_amount=eval(input(\"enter the da amount\"))\n",
    "bonus_amount=eval(input(\"bonus amount\"))\n",
    "total_slary=salary_amount+da_amount+bonus_amount\n",
    "print(\"the total salary amount is =\", total_slary)"
   ]
  },
  {
   "cell_type": "code",
   "execution_count": 21,
   "id": "19907654-c3f9-4741-8b7d-0577394197c5",
   "metadata": {},
   "outputs": [
    {
     "name": "stdin",
     "output_type": "stream",
     "text": [
      "enter the distance 100\n",
      "enter the rate per kilometer 10\n"
     ]
    },
    {
     "name": "stdout",
     "output_type": "stream",
     "text": [
      "The total of cost of distacne of  100 travel is 1000\n"
     ]
    }
   ],
   "source": [
    "# 5. wap to ask the distance is km and ask the rate per kl then calculate total cost\n",
    "dis=eval(input(\"enter the distance\"))\n",
    "rate=eval(input(\"enter the rate per kilometer\"))\n",
    "total_cost=dis*rate\n",
    "print(\"The total of cost of distacne of  {} travel is {}\".format(dis,total_cost))"
   ]
  },
  {
   "cell_type": "code",
   "execution_count": null,
   "id": "3058a6c5-9d15-4306-b06e-c33b572164ee",
   "metadata": {},
   "outputs": [],
   "source": [
    "#6. manager and user to convert dollar into rupees"
   ]
  },
  {
   "cell_type": "code",
   "execution_count": 34,
   "id": "1183662e-d2c3-451c-836f-131c23eb5cac",
   "metadata": {},
   "outputs": [
    {
     "name": "stdin",
     "output_type": "stream",
     "text": [
      "enter the total bill in dollar 100\n"
     ]
    },
    {
     "name": "stdout",
     "output_type": "stream",
     "text": [
      "The bill is not accepatable in dollar\n",
      "what will be acceptable\n",
      "only indian currency\n"
     ]
    },
    {
     "name": "stdin",
     "output_type": "stream",
     "text": [
      "May I know how many rupees in one dollar 80\n"
     ]
    },
    {
     "name": "stdout",
     "output_type": "stream",
     "text": [
      "The total bill in rupess of $ 100 is INR 8000\n",
      "Manager:thankyou!\n"
     ]
    }
   ],
   "source": [
    "import time\n",
    "bill=eval(input(\"enter the total bill in dollar\"))\n",
    "time.sleep(2) # time.sleep() it give delay of 2 while printing another statement wrriten after time.sleep\n",
    "print(\"The bill is not accepatable in dollar\")\n",
    "time.sleep(2)\n",
    "\n",
    "print(\"what will be acceptable\")\n",
    "time.sleep(2)\n",
    "\n",
    "print(\"only indian currency\")\n",
    "time.sleep(2)\n",
    "y=eval(input(\"May I know how many rupees in one dollar\"))\n",
    "rupees=bill*y\n",
    "time.sleep(2)\n",
    "print(\"The total bill in rupess of $ {} is INR {}\".format(bill,rupees))\n",
    "time.sleep(2)\n",
    "print(\"Manager:thankyou!\")"
   ]
  },
  {
   "cell_type": "code",
   "execution_count": 38,
   "id": "56231feb-e292-4543-a617-c8fd46475d48",
   "metadata": {},
   "outputs": [
    {
     "name": "stdin",
     "output_type": "stream",
     "text": [
      "Enter the total bill in dollar 100\n",
      "Manager: not acceptable\n",
      "User: then waht\n",
      "Manager: inr\n",
      "How may rupess in one dollar 200\n"
     ]
    },
    {
     "name": "stdout",
     "output_type": "stream",
     "text": [
      "The total bill in INR is 20000 $ 100\n",
      "Manager: Thank you!\n"
     ]
    }
   ],
   "source": [
    "bill=eval(input(\"Enter the total bill in dollar\"))\n",
    "input(\"Manager:\")\n",
    "input(\"User:\")\n",
    "input(\"Manager:\")\n",
    "x=eval(input(\"How may rupess in one dollar\"))\n",
    "rupees=bill*x\n",
    "print(\"The total bill in INR is {} $ {}\".format(rupees,bill))\n",
    "time.sleep(2)\n",
    "print(\"Manager: Thank you!\")"
   ]
  },
  {
   "cell_type": "code",
   "execution_count": 42,
   "id": "13ab3a63-f807-41d2-abbb-2968afcd28d7",
   "metadata": {},
   "outputs": [
    {
     "name": "stdin",
     "output_type": "stream",
     "text": [
      "Father: which course do you want to pursue\n",
      "Son: ds\n"
     ]
    },
    {
     "name": "stdout",
     "output_type": "stream",
     "text": [
      "Father: Oh! thats is very nice\n"
     ]
    },
    {
     "name": "stdin",
     "output_type": "stream",
     "text": [
      "Father: rank\n",
      "Son: 2000\n",
      "Father: how\n",
      "Son: nares it\n",
      "Father: fees\n",
      "Son:the fees is for per semester: 4000\n",
      "Father: how many semester\n",
      "There is total semester is:  8\n"
     ]
    },
    {
     "name": "stdout",
     "output_type": "stream",
     "text": [
      "Father: then how much total cost\n",
      "Son: thus the total cost is 32000\n"
     ]
    }
   ],
   "source": [
    "#7. father son story # can do using print statement and use time.sleep(2) for the  delay\n",
    "input(\"Father:\")\n",
    "input(\"Son:\")\n",
    "print(\"Father: Oh! thats is very nice\")\n",
    "input(\"Father:\")\n",
    "rank=eval(input(\"Son my rank is:\"))\n",
    "input(\"Father:\")\n",
    "input(\"Son:\")\n",
    "input(\"Father:\")\n",
    "fees=eval(input(\"Son:the fees is for per semester:\"))\n",
    "input(\"Father:\")\n",
    "sem=eval(input(\"There is total semester is: \"))\n",
    "time.sleep(2)\n",
    "print(\"Father: then how much total cost\")\n",
    "total_cost=fees*sem\n",
    "time.sleep(2)\n",
    "print(\"Son: thus the total cost is\", total_cost)\n",
    "\n"
   ]
  },
  {
   "cell_type": "code",
   "execution_count": null,
   "id": "0856225d-8387-490a-880d-e82b228c64ec",
   "metadata": {},
   "outputs": [],
   "source": []
  },
  {
   "cell_type": "code",
   "execution_count": null,
   "id": "a4a1ffe9-a4f0-47b1-ad4a-9c13ac4a89c9",
   "metadata": {},
   "outputs": [],
   "source": []
  },
  {
   "cell_type": "code",
   "execution_count": null,
   "id": "37ff3f92-f615-4ad0-895e-1ed6cecdfce5",
   "metadata": {},
   "outputs": [],
   "source": []
  }
 ],
 "metadata": {
  "kernelspec": {
   "display_name": "Python [conda env:base] *",
   "language": "python",
   "name": "conda-base-py"
  },
  "language_info": {
   "codemirror_mode": {
    "name": "ipython",
    "version": 3
   },
   "file_extension": ".py",
   "mimetype": "text/x-python",
   "name": "python",
   "nbconvert_exporter": "python",
   "pygments_lexer": "ipython3",
   "version": "3.13.5"
  }
 },
 "nbformat": 4,
 "nbformat_minor": 5
}
