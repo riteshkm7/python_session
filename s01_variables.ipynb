{
 "cells": [
  {
   "cell_type": "code",
   "execution_count": null,
   "id": "7bbd41ee-dece-44c3-a0b3-f08b200ad8c0",
   "metadata": {},
   "outputs": [],
   "source": []
  },
  {
   "cell_type": "code",
   "execution_count": 1,
   "id": "f339a8d9-9f2e-407b-9349-e1c6d64c252b",
   "metadata": {},
   "outputs": [
    {
     "name": "stdout",
     "output_type": "stream",
     "text": [
      "7\n"
     ]
    }
   ],
   "source": []
  },
  {
   "cell_type": "code",
   "execution_count": 2,
   "id": "d650950a-f173-43a8-9962-fa74eda295eb",
   "metadata": {},
   "outputs": [
    {
     "name": "stdout",
     "output_type": "stream",
     "text": [
      "14\n"
     ]
    }
   ],
   "source": []
  },
  {
   "cell_type": "code",
   "execution_count": 3,
   "id": "5e27f064-53b9-45f3-8855-85372322eca1",
   "metadata": {},
   "outputs": [
    {
     "name": "stdout",
     "output_type": "stream",
     "text": [
      "10\n"
     ]
    }
   ],
   "source": []
  },
  {
   "cell_type": "markdown",
   "id": "065f325c-6dbe-4f95-9f0a-59fe23d673e7",
   "metadata": {},
   "source": [
    "# Variables"
   ]
  },
  {
   "cell_type": "code",
   "execution_count": 3,
   "id": "eb6b2a78-5793-4958-9abc-2e504684de4d",
   "metadata": {},
   "outputs": [
    {
     "data": {
      "text/plain": [
       "100"
      ]
     },
     "execution_count": 3,
     "metadata": {},
     "output_type": "execute_result"
    }
   ],
   "source": [
    "num=100\n",
    "num"
   ]
  },
  {
   "cell_type": "code",
   "execution_count": 5,
   "id": "5871a5fe-83e4-4a51-88a9-c8d7f4ce9455",
   "metadata": {},
   "outputs": [
    {
     "data": {
      "text/plain": [
       "100"
      ]
     },
     "execution_count": 5,
     "metadata": {},
     "output_type": "execute_result"
    }
   ],
   "source": [
    "NUM=200\n",
    "num"
   ]
  },
  {
   "cell_type": "code",
   "execution_count": 6,
   "id": "deace0d9-84d8-4226-948a-b5231819185e",
   "metadata": {},
   "outputs": [
    {
     "data": {
      "text/plain": [
       "200"
      ]
     },
     "execution_count": 6,
     "metadata": {},
     "output_type": "execute_result"
    }
   ],
   "source": [
    "NUM"
   ]
  },
  {
   "cell_type": "code",
   "execution_count": 7,
   "id": "e7d9018b-49fe-4967-ae62-5ed65a582108",
   "metadata": {},
   "outputs": [
    {
     "data": {
      "text/plain": [
       "300"
      ]
     },
     "execution_count": 7,
     "metadata": {},
     "output_type": "execute_result"
    }
   ],
   "source": [
    "NUMber=300\n",
    "NUMber"
   ]
  },
  {
   "cell_type": "code",
   "execution_count": 8,
   "id": "6e939ba3-4f74-4101-96a9-cd5b8d1b3a1e",
   "metadata": {},
   "outputs": [
    {
     "data": {
      "text/plain": [
       "400"
      ]
     },
     "execution_count": 8,
     "metadata": {},
     "output_type": "execute_result"
    }
   ],
   "source": [
    "_=400\n",
    "_"
   ]
  },
  {
   "cell_type": "code",
   "execution_count": 9,
   "id": "3dcd5296-c208-4874-b2e6-817ee08260bb",
   "metadata": {},
   "outputs": [
    {
     "ename": "SyntaxError",
     "evalue": "invalid syntax (3716087602.py, line 1)",
     "output_type": "error",
     "traceback": [
      "\u001b[1;36m  Cell \u001b[1;32mIn[9], line 1\u001b[1;36m\u001b[0m\n\u001b[1;33m    if=48\u001b[0m\n\u001b[1;37m      ^\u001b[0m\n\u001b[1;31mSyntaxError\u001b[0m\u001b[1;31m:\u001b[0m invalid syntax\n"
     ]
    }
   ],
   "source": [
    "if=48  # not work the variable name as keyword\n",
    "if"
   ]
  },
  {
   "cell_type": "code",
   "execution_count": 11,
   "id": "9d4999cb-24f5-4299-83e1-e01d329653c4",
   "metadata": {},
   "outputs": [
    {
     "name": "stdout",
     "output_type": "stream",
     "text": [
      "Help on built-in function sum in module builtins:\n",
      "\n",
      "sum(iterable, /, start=0)\n",
      "    Return the sum of a 'start' value (default: 0) plus an iterable of numbers\n",
      "\n",
      "    When the iterable is empty, return the start value.\n",
      "    This function is intended specifically for use with numeric values and may\n",
      "    reject non-numeric types.\n",
      "\n"
     ]
    }
   ],
   "source": [
    "help(sum)"
   ]
  },
  {
   "cell_type": "code",
   "execution_count": 18,
   "id": "47ca9b0a-3152-4c29-b1e1-63d2674e6e4b",
   "metadata": {},
   "outputs": [
    {
     "data": {
      "text/plain": [
       "48"
      ]
     },
     "execution_count": 18,
     "metadata": {},
     "output_type": "execute_result"
    }
   ],
   "source": [
    "sum=48\n",
    "sum"
   ]
  },
  {
   "cell_type": "markdown",
   "id": "eae14da7-a569-4a6b-b401-1bd24f997e2c",
   "metadata": {},
   "source": [
    "Note sume is a math operation however it will work as variable name but please can't use it"
   ]
  },
  {
   "cell_type": "code",
   "execution_count": null,
   "id": "22488090-0793-4c19-9d91-0013755b9f17",
   "metadata": {},
   "outputs": [],
   "source": []
  }
 ],
 "metadata": {
  "kernelspec": {
   "display_name": "Python [conda env:base] *",
   "language": "python",
   "name": "conda-base-py"
  },
  "language_info": {
   "codemirror_mode": {
    "name": "ipython",
    "version": 3
   },
   "file_extension": ".py",
   "mimetype": "text/x-python",
   "name": "python",
   "nbconvert_exporter": "python",
   "pygments_lexer": "ipython3",
   "version": "3.13.5"
  }
 },
 "nbformat": 4,
 "nbformat_minor": 5
}
