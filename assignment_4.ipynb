{
 "cells": [
  {
   "cell_type": "code",
   "execution_count": null,
   "id": "e4704c74-6b14-42a0-9ef6-869bab6b18f2",
   "metadata": {},
   "outputs": [],
   "source": [
    "#### Problem 1\n",
    "Suppose that a Firm pays its employee at the rate of $12 per hour. An employee has worked for 37\n",
    "hours. How much should the firm pay the employee? (Do normal way directly takes the input)\n",
    "\n",
    "#### Problem 2\n",
    "How about prompting the user for the number of hours and using the input value to compute the\n",
    "total pay? (Above problem use eval concept and sep concept)"
   ]
  },
  {
   "cell_type": "code",
   "execution_count": null,
   "id": "4c0601ac-344e-4c35-a1c6-b5216ba407f0",
   "metadata": {},
   "outputs": [],
   "source": []
  },
  {
   "cell_type": "code",
   "execution_count": 2,
   "id": "3df83f26-8b3b-4150-8e3e-1030ff984bf2",
   "metadata": {},
   "outputs": [
    {
     "name": "stdin",
     "output_type": "stream",
     "text": [
      "Enter number of hours works: 12\n"
     ]
    },
    {
     "name": "stdout",
     "output_type": "stream",
     "text": [
      "total pay is $ 144\n"
     ]
    }
   ],
   "source": [
    "working_hour=eval(input(\"Enter number of hours works:\"))\n",
    "rate=12\n",
    "total_pay=rate*working_hour\n",
    "print(\"total pay is $\",total_pay)"
   ]
  },
  {
   "cell_type": "code",
   "execution_count": null,
   "id": "be6f6f5f-9013-4bba-85d1-438db4c192f7",
   "metadata": {},
   "outputs": [],
   "source": [
    "#### Problem-4\n",
    "If a five-digit number is input through the keyboard, write a program to calculate the sum of its\n",
    "digits."
   ]
  },
  {
   "cell_type": "code",
   "execution_count": 17,
   "id": "e31deb55-92cc-4463-9a27-90e15f931c4b",
   "metadata": {},
   "outputs": [
    {
     "name": "stdin",
     "output_type": "stream",
     "text": [
      "enter a five digit number 6\n"
     ]
    },
    {
     "name": "stdout",
     "output_type": "stream",
     "text": [
      "6\n",
      "0\n",
      "0\n",
      "0\n",
      "0\n",
      "6\n"
     ]
    }
   ],
   "source": [
    "n=eval(input(\"enter a five digit number\"))\n",
    "# let 12345\n",
    "summ=0\n",
    "\n",
    "    \n",
    "for i in range(5):\n",
    "    # taking last digit\n",
    "    last=n%10\n",
    "    print(last)\n",
    "    # taking sum of last digit\n",
    "    summ=summ+last\n",
    "    # now removing last digit\n",
    "    n=n//10\n",
    "\n",
    "print(summ)\n",
    "\n"
   ]
  },
  {
   "cell_type": "code",
   "execution_count": 27,
   "id": "a9f329e6-de59-4061-bb3a-94febd3b9102",
   "metadata": {},
   "outputs": [
    {
     "name": "stdin",
     "output_type": "stream",
     "text": [
      "enter a five digit number 1234\n"
     ]
    },
    {
     "name": "stdout",
     "output_type": "stream",
     "text": [
      "enter only five digit number only\n"
     ]
    }
   ],
   "source": [
    "\n",
    "# strickt to five digit\n",
    "\n",
    "n=eval(input(\"enter a five digit number\"))\n",
    "summ=0\n",
    "str1=str(n) # convert in string as str1 to apply len function in number enter by user\n",
    "if len(str1)==5:\n",
    "    \n",
    "# let 12345\n",
    "    for i in range(len(str1)):\n",
    "        # taking last digit\n",
    "        last=n%10\n",
    "        # taking sum of last digit\n",
    "        summ=summ+last\n",
    "        # now removing last digit\n",
    "        n=n//10\n",
    "    print(\"the sum is\",summ)        \n",
    "else:\n",
    "    print(\"enter only five digit number only\")\n",
    "    \n",
    "\n",
    "\n",
    "\n"
   ]
  },
  {
   "cell_type": "code",
   "execution_count": null,
   "id": "3b55ad42-1e38-4a9e-aa95-664b5121f362",
   "metadata": {},
   "outputs": [],
   "source": [
    "# generaliise to any lenth digit number"
   ]
  },
  {
   "cell_type": "code",
   "execution_count": 29,
   "id": "5a3ee4b6-65eb-4a77-8c13-12b446f0fe41",
   "metadata": {},
   "outputs": [
    {
     "name": "stdin",
     "output_type": "stream",
     "text": [
      "enter a number: 123445\n"
     ]
    },
    {
     "name": "stdout",
     "output_type": "stream",
     "text": [
      "the sum is 19\n"
     ]
    }
   ],
   "source": [
    "n=eval(input(\"enter a number:\"))\n",
    "summ=0\n",
    "str1=str(n) # convert in string as str1 to apply len function in number enter by user\n",
    "# let 12345\n",
    "for i in range(len(str1)):\n",
    "    # taking last digit\n",
    "    last=n%10\n",
    "    # taking sum of last digit\n",
    "    summ=summ+last\n",
    "    # now removing last digit\n",
    "    n=n//10\n",
    "print(\"the sum is\",summ)        \n"
   ]
  },
  {
   "cell_type": "code",
   "execution_count": null,
   "id": "271f6325-adca-4763-9947-d545d7dbbef8",
   "metadata": {},
   "outputs": [],
   "source": []
  },
  {
   "cell_type": "code",
   "execution_count": 33,
   "id": "1c5d3757-673a-4086-83e1-221305c37fdd",
   "metadata": {},
   "outputs": [
    {
     "name": "stdin",
     "output_type": "stream",
     "text": [
      "enter a number: 12345\n"
     ]
    },
    {
     "name": "stdout",
     "output_type": "stream",
     "text": [
      "65432\n"
     ]
    }
   ],
   "source": [
    "# take input number and add in all digit 1 and print in reverse order\n",
    "\n",
    "n=eval(input(\"enter a number:\"))\n",
    "new=\"\"\n",
    "str1=str(n) # convert in string as str1 to apply len function in number enter by user\n",
    "# let 12345\n",
    "for i in range(len(str1)):\n",
    "    last=n%10\n",
    "    last=last+1\n",
    "    new=new+str(last) # last digit into str to concatenate with new empty string \n",
    "    n=n//10\n",
    "n=int(new) # again convert string into int\n",
    "print(n)\n",
    "\n",
    "    "
   ]
  },
  {
   "cell_type": "code",
   "execution_count": null,
   "id": "052833e3-7e91-4b33-a04b-f5705c5906c5",
   "metadata": {},
   "outputs": [],
   "source": [
    "\"\"\" If a five-digit number is input through the keyboard, write a program to print a new number by\n",
    "adding one to each of its digits. For example if the number that is input is 12371 then the output\n",
    "should be displayed as 23482.\"\"\""
   ]
  },
  {
   "cell_type": "code",
   "execution_count": 38,
   "id": "5afd6306-0334-479a-86ea-2729a20efd21",
   "metadata": {},
   "outputs": [
    {
     "name": "stdin",
     "output_type": "stream",
     "text": [
      "enter a number: 12345\n"
     ]
    },
    {
     "name": "stdout",
     "output_type": "stream",
     "text": [
      "23456\n"
     ]
    }
   ],
   "source": [
    "n1=eval(input(\"enter a number:\"))\n",
    "new_num=0\n",
    "place=1\n",
    "if 10000 <=n1 <=99999:  # ensure that is it is five digit nuber\n",
    "    while n1>0:\n",
    "        last1=n1%10\n",
    "        last1=(last1+1)%10\n",
    "        # place the last value in unit and ten and soo oon\n",
    "        new_num=last1*place+new_num\n",
    "        # update the place\n",
    "        place=place*10 # in every iteration 10 ,10,100, 10000 ....\n",
    "        # ramove last value\n",
    "        n1=n1//10\n",
    "    print(new_num)\n",
    "else:\n",
    "    print(\"enter five digit number\")\n",
    "        \n",
    "        \n",
    "\n"
   ]
  },
  {
   "cell_type": "code",
   "execution_count": 40,
   "id": "1ab53c5a-07b4-4802-a8c1-c4cb054f4baf",
   "metadata": {},
   "outputs": [
    {
     "name": "stdin",
     "output_type": "stream",
     "text": [
      "enter a five digit number 12345\n"
     ]
    },
    {
     "name": "stdout",
     "output_type": "stream",
     "text": [
      "15\n"
     ]
    }
   ],
   "source": [
    "\"\"\" #### Problem-4\n",
    "If a five-digit number is input through the keyboard, write a program to calculate the sum of its\n",
    "digits.\"\"\"\n",
    "summ=0\n",
    "\n",
    "# without using string and strict five digit\n",
    "n11=eval(input(\"enter a five digit number\"))\n",
    "if 10000<=n11<=99999:\n",
    "    while n11>0:# it will run untill n11=become zero means once all digit end it will stop as if digit will give zero on divison 1//10=0\n",
    "        last=n11%10\n",
    "        summ=summ+last\n",
    "        n11=n11//10\n",
    "    print(summ)\n",
    "else:\n",
    "    print(\"enter five digit number\")\n",
    "\n",
    "\n",
    "\n",
    "    "
   ]
  },
  {
   "cell_type": "markdown",
   "id": "c6118164-f86c-4ec0-a60d-a2cd22283b65",
   "metadata": {},
   "source": [
    "### note in case digit operation use while>n to iterate number of time = number of digit in ###\n",
    "- as for eg if enter 12345\n",
    "- last digit is 1\n",
    "- 1//10 give n=0 now the while loop will end"
   ]
  },
  {
   "cell_type": "code",
   "execution_count": null,
   "id": "dfb80a79-7562-4d79-a58c-c3c8c57d3256",
   "metadata": {},
   "outputs": [],
   "source": [
    "\"\"\" For a certain academic subject the students are evaluated based on five tests - * Quiz 1 (20 marks - 10% Weight), \n",
    "* Quiz 2 (20 marks - 10% Weight), \n",
    "* Class test (50 marks - 25% Weight), \n",
    "* Assignment (100 marks - 25% weight) and \n",
    "* Project (200 marks - 30% weight). \n",
    "Design a program that will prompt the user for marks for each of the tests and calculate the overall marks (out of 100). \n",
    "\"\"\""
   ]
  },
  {
   "cell_type": "code",
   "execution_count": null,
   "id": "e658ac1f-2977-48cb-b044-6b3ac295464c",
   "metadata": {},
   "outputs": [],
   "source": [
    "# this program will not respond if any invalid input enter \n",
    "# for example if total marks of subject is 100 and obtained marks enter is 101 in that case it will\n",
    "# follow function apporach"
   ]
  },
  {
   "cell_type": "code",
   "execution_count": 18,
   "id": "f1c28b6a-6d91-40a3-b6c0-f08144daa808",
   "metadata": {},
   "outputs": [
    {
     "name": "stdin",
     "output_type": "stream",
     "text": [
      "Enter marks obtain in quizz 1 between 1 to 20: 1\n",
      "Enter marks obtain in quizz 2 between 1 to 20: 2\n",
      "Enter marks obtain in class test between 1 to 50: 3\n",
      "Enter marks obtain in assignment 1 to 100; 4\n",
      "Enter marks obtain in project between 1 to 200: 5\n"
     ]
    },
    {
     "name": "stdout",
     "output_type": "stream",
     "text": [
      "The contribution of quizz1 is 0.5\n",
      "The contribution of quizz2 is 1.0\n",
      "The contribution of class test is 1.5\n",
      "The contribution of assignment is 1.0\n",
      "The contribution of project is 0.75\n",
      "over all marks is: 4.75\n"
     ]
    }
   ],
   "source": [
    "a=eval(input(\"Enter marks obtain in quizz 1 between 1 to 20:\"))\n",
    "b=eval(input(\"Enter marks obtain in quizz 2 between 1 to 20:\"))\n",
    "c=eval(input(\"Enter marks obtain in class test between 1 to 50:\"))\n",
    "d=eval(input(\"Enter marks obtain in assignment 1 to 100;\"))\n",
    "e=eval(input(\"Enter marks obtain in project between 1 to 200:\"))\n",
    "\n",
    "w1=round((a/20)*10,2)\n",
    "w2=round((b/20)*10,2)\n",
    "w3=round((c/50)*25,22)\n",
    "w4=round((d/100)*25,2)\n",
    "w5=round((e/200)*30,2)\n",
    "\n",
    "print(\"The contribution of quizz1 is\",w1)\n",
    "print(\"The contribution of quizz2 is\",w2)\n",
    "print(\"The contribution of class test is\",w3)\n",
    "print(\"The contribution of assignment is\",w4)\n",
    "print(\"The contribution of project is\",w5)\n",
    "\n",
    "\n",
    "\n",
    "\n",
    "\n",
    "overall_marks=w1+w2+w3+w4+w5\n",
    "print(\"over all marks is:\",overall_marks)\n",
    "\n"
   ]
  },
  {
   "cell_type": "code",
   "execution_count": null,
   "id": "f3c7a5af-4af2-4cb1-b390-77202922e8fd",
   "metadata": {},
   "outputs": [],
   "source": []
  },
  {
   "cell_type": "code",
   "execution_count": null,
   "id": "84df0faf-c4e9-4b76-9553-d9f9b739c363",
   "metadata": {},
   "outputs": [],
   "source": [
    "# using function and take care if any invalid value input\n",
    "\n",
    "\"\"\" For a certain academic subject the students are evaluated based on five tests - * Quiz 1 (20 marks - 10% Weight), \n",
    "* Quiz 2 (20 marks - 10% Weight), \n",
    "* Class test (50 marks - 25% Weight), \n",
    "* Assignment (100 marks - 25% weight) and \n",
    "* Project (200 marks - 30% weight). \n",
    "Design a program that will prompt the user for marks for each of the tests and calculate the overall marks (out of 100). \n",
    "\n",
    "#### Add an extension to the problem to display grades: \n",
    "Display the grades of students using the following table: \n",
    "Score Grade \n",
    ">= 60 First Class \n",
    ">= 40 Second Class \n",
    "< 40 Fail \n",
    "\n",
    "\"\"\""
   ]
  },
  {
   "cell_type": "code",
   "execution_count": 15,
   "id": "0670100b-14cd-4131-805d-1a46e8803aef",
   "metadata": {},
   "outputs": [
    {
     "name": "stdin",
     "output_type": "stream",
     "text": [
      "enter marks obtained in quizz 1 out of 20 12\n",
      "enter marks obtained in quizz 2 out of 20 12\n",
      "enter marks obtained in assignment out of 100 34\n",
      "enter marks obtained in class test out of 200 191\n",
      "enter marks obtained in project out of 50 32\n"
     ]
    },
    {
     "name": "stdout",
     "output_type": "stream",
     "text": [
      "The overall score is 65.15 out of  100\n",
      "The overall marks 65.15 is thus you pass in fist divison class\n"
     ]
    }
   ],
   "source": [
    "# function to to take input only valid makrs\n",
    "def get_marks(test_name,max_marks):\n",
    "    while True:\n",
    "        try:\n",
    "            marks=eval(input(\"enter marks obtained in {} out of {}\".format(test_name,max_marks,)))\n",
    "            if 0<=marks<=max_marks:\n",
    "                return marks\n",
    "            else:\n",
    "                print(\"enter valid marks\")\n",
    "        except Exception as e:\n",
    "            print(e)\n",
    "quizz1=get_marks(\"quizz 1\",20)\n",
    "quizz2=get_marks(\"quizz 2\",20)\n",
    "assignment=get_marks(\"assignment\",100)\n",
    "project=get_marks(\"class test\",200)\n",
    "class_test=get_marks(\"project\",50)\n",
    "\n",
    "# weightage calculation \n",
    "quizz1_score=round((quizz1/20)*10,2)\n",
    "quizz2_score=round((quizz2/20)*10,2)\n",
    "assignment_score=round((assignment/100)*25,2)\n",
    "class_test_score=round((class_test)/50*25,2)\n",
    "project_score=round((project/200)*30,2)\n",
    "\n",
    "over_all=quizz1_score+quizz2_score+assignment_score+project_score+class_test_score\n",
    "print(\"The overall score is {} out of  100\".format(over_all))\n",
    "if over_all>=60:\n",
    "    print(\"The overall marks {} is thus you pass in fist divison class\".format(over_all))\n",
    "elif over_all>=40:\n",
    "        print(\"The overall marks {} is thus you pass in second divison class\".format(over_all))\n",
    "else:\n",
    "    print(\"The overall marks {} is thus you are fail\")\n",
    "\n",
    "\n",
    "\n",
    "    \n",
    "    "
   ]
  },
  {
   "cell_type": "code",
   "execution_count": null,
   "id": "1459b97e-e12f-4743-8f74-eca166f294ad",
   "metadata": {},
   "outputs": [],
   "source": [
    "# 8  How about prompting the user for the number of hours and using the input value to compute thetotal pay?\n",
    "#### Problem-8 \n",
    "** try & except ** \n",
    "Rewrite the pay program (refer problem 2) using try and expect so that the program handles non numeric input gracefully by printing a message and exiting the program. The following shows twoexecutions of the program: \n",
    "Enter hours: 20 \n",
    "Enter rate: nine \n",
    "Error, please enter numeric input "
   ]
  },
  {
   "cell_type": "code",
   "execution_count": 5,
   "id": "b8e05661-75f2-4b89-9f69-335bae2f7d25",
   "metadata": {},
   "outputs": [
    {
     "name": "stdin",
     "output_type": "stream",
     "text": [
      "Enter number of hours you work 70\n",
      "Enter rate per hour 80\n"
     ]
    },
    {
     "name": "stdout",
     "output_type": "stream",
     "text": [
      "Total pay is  5600\n"
     ]
    }
   ],
   "source": [
    "try:\n",
    "    working_hour=eval(input(\"Enter number of hours you work\"))\n",
    "    rate=eval(input(\"Enter rate per hour\"))\n",
    "    total_pay=working_hour*rate\n",
    "    print(\"Total pay is \",total_pay)\n",
    "except Exception as e:\n",
    "    print(\"Plese input numberic value\")"
   ]
  },
  {
   "cell_type": "code",
   "execution_count": null,
   "id": "d5ea27a8-7322-4198-bdb9-c1b96cf09003",
   "metadata": {},
   "outputs": [],
   "source": [
    "\"\"\" Write a program that asks the user to enter a length in centimeters. If the user enters a negativelength, the program should tell the user that the entry is invalid. Otherwise, the program shouldconvert the length to inches and print out the result. There are 2.54 centimeters in an inch. \n",
    "\"\"\""
   ]
  },
  {
   "cell_type": "code",
   "execution_count": 10,
   "id": "049a1814-3a47-46c3-9948-4dcb133066fd",
   "metadata": {},
   "outputs": [
    {
     "name": "stdin",
     "output_type": "stream",
     "text": [
      "Enter the length in centimeter 4\n"
     ]
    },
    {
     "name": "stdout",
     "output_type": "stream",
     "text": [
      "The 4 cm in inches are 1.57 \n"
     ]
    }
   ],
   "source": [
    "length_cm=eval(input(\"Enter the length in centimeter\"))\n",
    "if length_cm<0:\n",
    "    print(\"You have enter negative value please ente postive value\")\n",
    "else:\n",
    "    length_inch=round((1/2.54)*length_cm,2)\n",
    "    print(\"The {} cm in inches are {} \".format(length_cm,length_inch))"
   ]
  },
  {
   "cell_type": "code",
   "execution_count": null,
   "id": "7b7cd987-268f-4121-a1a9-50a4cfa2d215",
   "metadata": {},
   "outputs": [],
   "source": [
    "\"\"\" Ask the user for a temperature. Then ask them what units, Celsius or Fahrenheit, \n",
    "the temperatureisin. Your program should convert the temperature to the other unit. \n",
    "The conversions are F ={ 9/ 5) *C +32 and C = 5/ 9 (F − 32). \"\"\""
   ]
  },
  {
   "cell_type": "code",
   "execution_count": 23,
   "id": "e6e1e819-66bc-4324-abe8-c69ccf322b23",
   "metadata": {},
   "outputs": [
    {
     "name": "stdout",
     "output_type": "stream",
     "text": [
      "To convert from Celius to  Farenheit press 'F'\n",
      "To convert in from farenhite to Celius press 'C'\n"
     ]
    },
    {
     "name": "stdin",
     "output_type": "stream",
     "text": [
      "In which unit you want to convert the temperature Celsius or Fahrenheit choose  from above f\n"
     ]
    },
    {
     "name": "stdout",
     "output_type": "stream",
     "text": [
      "Convert Temp from Celcius to Farenhite\n"
     ]
    },
    {
     "name": "stdin",
     "output_type": "stream",
     "text": [
      "Enter the  temperature in Celcius 101\n"
     ]
    },
    {
     "name": "stdout",
     "output_type": "stream",
     "text": [
      "The temp 101 in ferenheite is 213.8°F\n"
     ]
    }
   ],
   "source": [
    "print(\"To convert from Celius to  Farenheit press 'F'\")\n",
    "print(\"To convert in from farenhite to Celius press 'C'\") \n",
    "unit=input(\"In which unit you want to convert the temperature Celsius or Fahrenheit choose  from above\")\n",
    "\n",
    "# convert input enter by user in capital so if user enter lower or upper case it will converted into only in capital\n",
    "unit=unit.upper()\n",
    "    \n",
    "if unit==\"F\":\n",
    "    # taking input in celcius\n",
    "    print(\"Converting Temp from Celcius to Farenhite\")\n",
    "    temp=eval(input(\"Enter the  temperature in Celcius\"))\n",
    "\n",
    "    farenhite=str(round(((9/5)*temp)+32,2)) # type cast farenhite to str to concatenate \n",
    "    farenhite=farenhite+chr(176)+\"F\" # chr(176 ) reutrn degree symbol thaty why we concatenate to make symbol \n",
    "    print(\"The temp {} in ferenheite is {}\".format(temp,farenhite))\n",
    "elif unit==\"C\":\n",
    "    # taking input in farenhite\n",
    "    print(\"Converting Temp from Farenhite to Celcius\")\n",
    "\n",
    "    temp=eval(input(\"Enter the  temperature in Farenhite\"))\n",
    "\n",
    "    celcius=str(round((temp-32)*(5/9),2)) # here also typcast numeric value into str to concatenate\n",
    "    celcius=celcius+chr(176)+\"C\" # conacatenate all string \n",
    "    print(\"The temperature {} F in celcius is {}\".format(temp,celcius))\n",
    "else:\n",
    "    print(\"please enter valid input either 'F' to convert celius to farenhite or 'C' to convert farenhite to celius\")\n",
    "    \n",
    "    \n",
    "    "
   ]
  },
  {
   "cell_type": "code",
   "execution_count": null,
   "id": "969bc184-048f-47f3-9c1d-b6c87a736a52",
   "metadata": {},
   "outputs": [],
   "source": [
    "#### Problem-11(Use conditional statements)\n",
    "Ask the user to enter a temperature in Celsius. The program should print a message based on the\n",
    "temperature: •\n",
    "If the temperature is less than -273.15, print that the temperature is invalid because it is\n",
    "below absolute zero. • \n",
    "If it is exactly -273.15, print that the temperature is absolute 0. • \n",
    "If the temperature is between -273.15 and 0, print that the temperature is below\n",
    " print that the temperature is below freezing. • If it is 0, print that the temperature is at the freezing point.\n",
    " If it is between 0 and 100, print that the temperature is in the normal range. \n",
    "• If it is 100, print that the temperature is at the boiling point. \n",
    "• If it is above 100, print that the temperature is above the boiling point.\n",
    "\n"
   ]
  },
  {
   "cell_type": "code",
   "execution_count": 35,
   "id": "e50b87d8-bb69-4792-ac08-e27aec6de0a5",
   "metadata": {},
   "outputs": [
    {
     "name": "stdin",
     "output_type": "stream",
     "text": [
      "Enter the temperature in Celcius: 45\n"
     ]
    },
    {
     "name": "stdout",
     "output_type": "stream",
     "text": [
      "The 45 temperature is normal\n"
     ]
    }
   ],
   "source": [
    "celcius_temp=eval(input(\"Enter the temperature in Celcius:\"))\n",
    "if celcius_temp < -273.15:         \n",
    "    print(\"The {} temperature is invalid becuase it  is below absolute zero please enter valid temp\".format(celcius_temp))\n",
    "                  \n",
    "elif celcius_temp==-273.15:\n",
    "    print(\"The {} temperature is absloute is zero\".format(celcius_temp))\n",
    "elif -273.15<celcius_temp<0:\n",
    "    print(\"The {} temp is below the freezing point\".format(celcius_temp))\n",
    "elif 0<celcius_temp<100:\n",
    "    print(\"The {} temperature is normal\".format(celcius_temp))\n",
    "elif celcius_temp==100:\n",
    "    print(\"The temp {} is at boling point\".format(celcius_temp))\n",
    "else:\n",
    "    print(\"The {} temperature is above boling point\".format(celcius_temp))\n",
    "\n",
    "\n",
    "\n",
    "                  "
   ]
  },
  {
   "cell_type": "code",
   "execution_count": null,
   "id": "0df7380f-130c-4229-87e2-a9bd6a909b80",
   "metadata": {},
   "outputs": [],
   "source": [
    "Write a program that asks the user how many credits they have taken. \n",
    "If they have taken 23 or less, print that the student is a freshman. \n",
    "If they have taken between 24 and 53, print that they are asophomore.\n",
    "The range for juniors is 54 to 83, and for seniors it is 84 and over. "
   ]
  },
  {
   "cell_type": "code",
   "execution_count": 43,
   "id": "b175069f-f258-4227-9e39-b4a86dadfa87",
   "metadata": {},
   "outputs": [
    {
     "name": "stdin",
     "output_type": "stream",
     "text": [
      "enter number of credits 23\n"
     ]
    },
    {
     "name": "stdout",
     "output_type": "stream",
     "text": [
      "you are freshman\n"
     ]
    }
   ],
   "source": [
    "credit=eval(input(\"enter number of credits\"))\n",
    "if credit>=0:\n",
    "    if credit<=23:\n",
    "        print(\"you are freshman\")\n",
    "    elif 24<=credit<=53:\n",
    "        print(\"you are asophomore\")\n",
    "    elif 54<=credit<=83:\n",
    "        print(\"You are juniors\")\n",
    "    elif credit==84:\n",
    "        print(\"You are seniors\")\n",
    "    else:\n",
    "        print(\"its over\")\n",
    "else:\n",
    "    print(\"please enter valid value\")"
   ]
  },
  {
   "cell_type": "code",
   "execution_count": null,
   "id": "2d5fe084-c80e-437c-9d21-55c834705b52",
   "metadata": {},
   "outputs": [],
   "source": []
  },
  {
   "cell_type": "code",
   "execution_count": null,
   "id": "95689c28-5fa5-4c55-939d-23b2634002ba",
   "metadata": {},
   "outputs": [],
   "source": []
  },
  {
   "cell_type": "code",
   "execution_count": null,
   "id": "42c3026a-c502-4e76-a767-552e097ebb36",
   "metadata": {},
   "outputs": [],
   "source": []
  },
  {
   "cell_type": "code",
   "execution_count": null,
   "id": "46e7a3b7-db10-435b-8a62-50418f13850d",
   "metadata": {},
   "outputs": [],
   "source": []
  },
  {
   "cell_type": "code",
   "execution_count": null,
   "id": "88e36c87-9b3b-4fb7-8b98-86f958d8808d",
   "metadata": {},
   "outputs": [],
   "source": []
  },
  {
   "cell_type": "code",
   "execution_count": null,
   "id": "ea0e4b6a-d3b2-4171-aaa7-335f9f5f91d8",
   "metadata": {},
   "outputs": [],
   "source": []
  },
  {
   "cell_type": "code",
   "execution_count": null,
   "id": "c4ab4130-cbd2-4b8b-ae7a-08511d2b9312",
   "metadata": {},
   "outputs": [],
   "source": []
  },
  {
   "cell_type": "code",
   "execution_count": 18,
   "id": "690813cc-3d4b-4fce-b650-0adec962891d",
   "metadata": {},
   "outputs": [
    {
     "name": "stdout",
     "output_type": "stream",
     "text": [
      "°\n"
     ]
    }
   ],
   "source": []
  },
  {
   "cell_type": "code",
   "execution_count": null,
   "id": "fadc6cbc-0044-4b7a-83e8-801a7f6fd30a",
   "metadata": {},
   "outputs": [],
   "source": []
  },
  {
   "cell_type": "code",
   "execution_count": null,
   "id": "ca3854f4-5cf3-4725-bb6f-0ceae0d4feaa",
   "metadata": {},
   "outputs": [],
   "source": []
  },
  {
   "cell_type": "code",
   "execution_count": 11,
   "id": "eed2cac2-eea5-4cda-91d4-f2e5dc4e77a2",
   "metadata": {},
   "outputs": [
    {
     "data": {
      "text/plain": [
       "'Ritesh'"
      ]
     },
     "execution_count": 11,
     "metadata": {},
     "output_type": "execute_result"
    }
   ],
   "source": []
  },
  {
   "cell_type": "code",
   "execution_count": 44,
   "id": "1346560c-82da-4456-9f56-cdc4ccb5e0b6",
   "metadata": {},
   "outputs": [
    {
     "data": {
      "text/plain": [
       "14"
      ]
     },
     "execution_count": 44,
     "metadata": {},
     "output_type": "execute_result"
    }
   ],
   "source": [
    "2+3*4"
   ]
  },
  {
   "cell_type": "code",
   "execution_count": 45,
   "id": "2a5da34b-a783-42ea-a3bf-ae49f4c823b3",
   "metadata": {},
   "outputs": [
    {
     "name": "stdout",
     "output_type": "stream",
     "text": [
      "{1, 2, 3}\n"
     ]
    }
   ],
   "source": [
    "print({1, 2, 3, 2})"
   ]
  },
  {
   "cell_type": "code",
   "execution_count": null,
   "id": "8a9e0e4a-d244-49f3-8a84-3d04001e45fc",
   "metadata": {},
   "outputs": [],
   "source": [
    "#### Problem-13(Use conditional statements) \n",
    "Generate a random number between 1 and 10. Ask the user to guess \n",
    "the number and print a message based on whether they get it right or not. \n"
   ]
  },
  {
   "cell_type": "code",
   "execution_count": 47,
   "id": "55b7089c-8b11-4d2d-8b70-d535dd110f5a",
   "metadata": {},
   "outputs": [
    {
     "name": "stdin",
     "output_type": "stream",
     "text": [
      "enter a number 4\n"
     ]
    },
    {
     "name": "stdout",
     "output_type": "stream",
     "text": [
      "you loss\n"
     ]
    }
   ],
   "source": [
    "import random  # this same problem already done wiht for and while loop in better way refer while and for loop lecture\n",
    "random_num=random.randint(1,10)\n",
    "num=eval(input(\"enter a number\"))\n",
    "if num==random_num:\n",
    "    print(\"you won\")\n",
    "else:\n",
    "    print(\"you loss\")"
   ]
  },
  {
   "cell_type": "code",
   "execution_count": null,
   "id": "830861be-b9d2-4ec2-9609-ff07b98b483d",
   "metadata": {},
   "outputs": [],
   "source": [
    "\n",
    "A store charges $12 per item if you buy less than 10 items. \n",
    "If you buy between 10 and 99 items, thecost is $10 per item. If you buy 100 or more items, the cost is $7 per item.\n",
    "Write a program that asksthe user how many items they are buying and prints the total cost. "
   ]
  },
  {
   "cell_type": "code",
   "execution_count": 60,
   "id": "cf0e8caf-00d8-4b92-9458-951cfdf8f505",
   "metadata": {},
   "outputs": [
    {
     "name": "stdin",
     "output_type": "stream",
     "text": [
      "Enter number of items you wants to buy: -1\n"
     ]
    },
    {
     "name": "stdout",
     "output_type": "stream",
     "text": [
      "Please enter valid inputs of number  of items\n"
     ]
    }
   ],
   "source": [
    "items=eval(input(\"Enter number of items you wants to buy:\"))\n",
    "if items>0:\n",
    "    if items<10:\n",
    "        rate=12\n",
    "        total_cost=items*rate\n",
    "        print(\"The total cost for {} items is {} as per ther rate {}\".format(items,total_cost,rate))\n",
    "    elif 10<=items <=99:\n",
    "        rate=10\n",
    "        total_cost=items*rate\n",
    "        print(\"The total cost for {} items is {} as per the rate {}\".format(items,total_cost,rate))\n",
    "    else:\n",
    "        \n",
    "        rate=7\n",
    "        total_cost=rate*items\n",
    "        print(\"The total cost for {} items is {} as per the rate {}\".format(items,total_cost,rate))\n",
    "else:\n",
    "    print(\"Please enter valid inputs of number  of items\")\n",
    "\n"
   ]
  },
  {
   "cell_type": "code",
   "execution_count": null,
   "id": "d804a761-4708-45db-9649-4dc9270bb535",
   "metadata": {},
   "outputs": [],
   "source": [
    "#### Problem-15(Use conditional statements) \n",
    "Write a program that asks the user for two numbers and prints Close if the numbers are within .\n",
    "001 of each other and Not close otherwise. \n"
   ]
  },
  {
   "cell_type": "code",
   "execution_count": null,
   "id": "1ecd4e2c-28ef-42ff-a65a-7aa45bdf975a",
   "metadata": {},
   "outputs": [],
   "source": [
    "A year is a leap year if it is divisible by 4, \n",
    "except that years divisible by 100 are not leap years unlessthey are also divisible by 400. \n",
    "Write a program that asks the user for a year and prints out whether it is a leap year or not. \n"
   ]
  },
  {
   "cell_type": "code",
   "execution_count": 87,
   "id": "73f7d455-c695-4e6c-8d57-357ba80c5aad",
   "metadata": {},
   "outputs": [
    {
     "name": "stdin",
     "output_type": "stream",
     "text": [
      "Enter a year 100\n"
     ]
    },
    {
     "name": "stdout",
     "output_type": "stream",
     "text": [
      "The year 100 is not a leap year\n"
     ]
    },
    {
     "name": "stdin",
     "output_type": "stream",
     "text": [
      "Enter 'Y' to continue Enter 'N' to stop here   y\n",
      "Enter a year 23\n"
     ]
    },
    {
     "name": "stdout",
     "output_type": "stream",
     "text": [
      "The year 23 is not a leap year\n"
     ]
    },
    {
     "name": "stdin",
     "output_type": "stream",
     "text": [
      "Enter 'Y' to continue Enter 'N' to stop here   n\n"
     ]
    },
    {
     "name": "stdout",
     "output_type": "stream",
     "text": [
      "program end\n"
     ]
    }
   ],
   "source": [
    "conti=\"Y\"\n",
    "while(conti.upper()==\"Y\"): # to continue till i want upper is used to convert the letter enter by user  always uppercase\n",
    "    year=int(input(\"Enter a year\"))\n",
    "    \n",
    "    if year>0:\n",
    "        if year%100==0: # checking century year \n",
    "            if year%400==0:\n",
    "                print(\"The year {} is a leap year\".format(year)) # if  centuratry  must be divisble by 400 to leap year\n",
    "            else:\n",
    "                print(\"The year {} is not a leap year\".format(year))\n",
    "        else: # for non centuary year\n",
    "            if year%4==0:\n",
    "                print(\"The year {} is a leap year\".format(year))\n",
    "            else:\n",
    "                print(\"The year {} is not a leap year\".format(year))\n",
    "    else:\n",
    "        print(\"Enter valid year this {} is invalid enter year in postive or must be grater than 0\".format(year))\n",
    "    conti=input(\"Enter 'Y' to continue Enter 'N' to stop here  \" )\n",
    "print(\"Thank you\")    \n",
    "\n",
    "        \n",
    "\n",
    "                "
   ]
  },
  {
   "cell_type": "code",
   "execution_count": 85,
   "id": "da69b834-239c-46a3-a47b-b4da06388bac",
   "metadata": {},
   "outputs": [
    {
     "data": {
      "text/plain": [
       "'Y'"
      ]
     },
     "execution_count": 85,
     "metadata": {},
     "output_type": "execute_result"
    }
   ],
   "source": [
    "\n"
   ]
  },
  {
   "cell_type": "code",
   "execution_count": null,
   "id": "6dc2b8b7-26fe-4d2e-a59d-5dae102cf947",
   "metadata": {},
   "outputs": [],
   "source": [
    "#### Problem-17(Use conditional statements) \n",
    "Write a program that asks the user to enter a number and prints out all the divisors of that number. \n",
    "[Hint: the % operator is used to tell if a number is divisible by something. \n"
   ]
  },
  {
   "cell_type": "code",
   "execution_count": 92,
   "id": "8ee05708-d126-41ea-b906-a706cc26714b",
   "metadata": {},
   "outputs": [
    {
     "name": "stdin",
     "output_type": "stream",
     "text": [
      "etner a number 1\n"
     ]
    },
    {
     "name": "stdout",
     "output_type": "stream",
     "text": [
      "The 1 is divisble by 1\n"
     ]
    }
   ],
   "source": [
    "\n",
    "num=int(input(\"etner a number\"))\n",
    "if num>0:\n",
    "    for i in range(1,num+1):\n",
    "        if num%i==0:\n",
    "            print(\"The {} is divisble by {}\".format(num,i))\n",
    "else:\n",
    "    print(\"please enter postive value and must be greater that 0\")"
   ]
  },
  {
   "cell_type": "code",
   "execution_count": null,
   "id": "19b09a06-f9ab-4896-8c29-a6a96f579dcf",
   "metadata": {},
   "outputs": [],
   "source": [
    "# using while  loop"
   ]
  },
  {
   "cell_type": "code",
   "execution_count": 95,
   "id": "47a91742-bda0-4996-bc41-26e957813c2a",
   "metadata": {},
   "outputs": [
    {
     "name": "stdin",
     "output_type": "stream",
     "text": [
      "etner a number 10\n"
     ]
    },
    {
     "name": "stdout",
     "output_type": "stream",
     "text": [
      "The 10 is divisble by 1\n",
      "The 10 is divisble by 2\n",
      "the 10 is not divisble by 3\n",
      "the 10 is not divisble by 4\n",
      "The 10 is divisble by 5\n",
      "the 10 is not divisble by 6\n",
      "the 10 is not divisble by 7\n",
      "the 10 is not divisble by 8\n",
      "the 10 is not divisble by 9\n",
      "The 10 is divisble by 10\n"
     ]
    }
   ],
   "source": [
    "num=int(input(\"etner a number\"))\n",
    "\n",
    "i=1\n",
    "if num>0:\n",
    "    while(i<=num):\n",
    "        if num%i==0:\n",
    "            print(\"The {} is divisble by {}\".format(num,i))\n",
    "        else:\n",
    "            print(\"the {} is not divisble by {}\".format(num,i))\n",
    "        i=i+1      \n",
    "else:\n",
    "    print(\"enter valid input\")\n",
    "            \n",
    "    "
   ]
  },
  {
   "cell_type": "code",
   "execution_count": null,
   "id": "f0cb88cb-c43f-4720-9a14-f1b4f92f6a2e",
   "metadata": {},
   "outputs": [],
   "source": [
    "Write a program that asks the user for an hour between 1 and 12,\n",
    "asks them to enter am or pm, andasks them how many hours into the future they want to go. \n",
    "Print out what the hour will be that many hours into the future, printing am or pm as appropriate. An example is shown below. \n"
   ]
  },
  {
   "cell_type": "code",
   "execution_count": null,
   "id": "a8284f51-e228-4d5f-9cf2-abf4951b0b17",
   "metadata": {},
   "outputs": [],
   "source": [
    "# in this program you need to take hour in 1 t0 12 and ask with user for \n",
    "# ahead hours from the time he give you you need to tell that time in 1-12 format means in am and pm"
   ]
  },
  {
   "cell_type": "code",
   "execution_count": 132,
   "id": "59f0433c-2246-4a73-9e3a-16523c861d7d",
   "metadata": {},
   "outputs": [
    {
     "name": "stdin",
     "output_type": "stream",
     "text": [
      "Enter number of hours 1\n"
     ]
    },
    {
     "name": "stdout",
     "output_type": "stream",
     "text": [
      "For AM press '1' and for PM press '2' \n"
     ]
    },
    {
     "name": "stdin",
     "output_type": "stream",
     "text": [
      "Enter AM or PM  2\n",
      "enter future hours between 1 to 12 : 15\n"
     ]
    },
    {
     "name": "stdout",
     "output_type": "stream",
     "text": [
      "Invalid input plese enter future hours betweeen 1 to 12\n"
     ]
    }
   ],
   "source": [
    "# taking input hours\n",
    "hour=int(input(\"Enter number of hours\"))\n",
    "\n",
    "if hour>0 and hour <=12: # for invalid hours\n",
    "    print(\"For AM press '1' and for PM press '2' \")\n",
    "    for_mat=int(input(\"Enter AM or PM \"))\n",
    "\n",
    "    if for_mat==1: \n",
    "        ahead_hours=int(input(\"enter future hours: \"))\n",
    "        if ahead_hours>0 and ahead_hours <=12:\n",
    "            \n",
    "            time=hour+ahead_hours\n",
    "            if time<12:\n",
    "                print(\"The time is {} am and 0 hours ahead\".format(time))\n",
    "                \n",
    "            elif time==12:\n",
    "                print(\"the time {} pm and 0 hours ahead \".format(time))\n",
    "            elif time>12 and time <24:\n",
    "                new_time=time-12\n",
    "                print(\"The new hours is {} PM\".format(new_time))\n",
    "                \n",
    "            elif time==24:\n",
    "                new_time=time-12\n",
    "                print(\"The new hours is {} am\".format(new_time))\n",
    "        \n",
    "        else:\n",
    "            print(\"Invalid input please enter future hours between 1 to 12 \")\n",
    "    elif for_mat==2:\n",
    "        ahead_hours=int(input(\"enter future hours between 1 to 12 :\"))\n",
    "\n",
    "        if ahead_hours >0 and ahead_hours<=12: # for invalid ahead hours\n",
    "        \n",
    "            time=hour+ahead_hours\n",
    "            \n",
    "            if time<12:\n",
    "                print(\"the time is {} pm and 0 hours ahead\".format(time))\n",
    "            elif time==12:\n",
    "                 print(\"the time is {} am\".format(time))\n",
    "            elif time>12 and time <24:\n",
    "                new_time=time-12\n",
    "                print(\"the new time is {} am\".format(new_time))\n",
    "            elif time==24:\n",
    "                new_time=time-12\n",
    "                print(\"the new hours is {} pm\".format(new_time))\n",
    "        else:\n",
    "            print(\"Invalid input plese enter future hours betweeen 1 to 12\") # for invalid ahead hours \n",
    "        \n",
    "    else:\n",
    "        print(\"please choose valid input for am press '1' and for pm press '2' \") # for invalid am and pm\n",
    "        \n",
    "else:\n",
    "    print(\"please enter hours between 1 to 12\")\n",
    "\n",
    "    \n",
    "        \n",
    "         \n",
    "      \n",
    "    \n"
   ]
  },
  {
   "cell_type": "code",
   "execution_count": null,
   "id": "dd7f444a-aeb6-4f65-bdf9-9df43f613482",
   "metadata": {},
   "outputs": [],
   "source": []
  },
  {
   "cell_type": "code",
   "execution_count": null,
   "id": "6968cb1c-c99a-4249-b443-71689be16388",
   "metadata": {},
   "outputs": [],
   "source": []
  },
  {
   "cell_type": "code",
   "execution_count": null,
   "id": "35107929-8e90-49bf-bd84-fc0af6e2a515",
   "metadata": {},
   "outputs": [],
   "source": []
  }
 ],
 "metadata": {
  "kernelspec": {
   "display_name": "Python [conda env:base] *",
   "language": "python",
   "name": "conda-base-py"
  },
  "language_info": {
   "codemirror_mode": {
    "name": "ipython",
    "version": 3
   },
   "file_extension": ".py",
   "mimetype": "text/x-python",
   "name": "python",
   "nbconvert_exporter": "python",
   "pygments_lexer": "ipython3",
   "version": "3.13.5"
  }
 },
 "nbformat": 4,
 "nbformat_minor": 5
}
