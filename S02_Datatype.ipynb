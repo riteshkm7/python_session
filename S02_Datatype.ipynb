{
 "cells": [
  {
   "cell_type": "code",
   "execution_count": 1,
   "id": "ed0ad122-9d69-4018-8b6e-9d4411d538c3",
   "metadata": {},
   "outputs": [
    {
     "name": "stdout",
     "output_type": "stream",
     "text": [
      "<class 'int'>\n"
     ]
    }
   ],
   "source": [
    "a=100\n",
    "print(type(a))"
   ]
  },
  {
   "cell_type": "code",
   "execution_count": 2,
   "id": "3485adfb-3d3b-4bb1-8449-d059bd4375e9",
   "metadata": {},
   "outputs": [
    {
     "name": "stdout",
     "output_type": "stream",
     "text": [
      "<class 'float'>\n"
     ]
    }
   ],
   "source": [
    "b=100.2\n",
    "print(type(b))"
   ]
  },
  {
   "cell_type": "code",
   "execution_count": 18,
   "id": "2aff10b0-ef12-44a7-8ee3-6aa4f335e38d",
   "metadata": {},
   "outputs": [
    {
     "ename": "SyntaxError",
     "evalue": "invalid syntax (1689506456.py, line 4)",
     "output_type": "error",
     "traceback": [
      "\u001b[1;36m  Cell \u001b[1;32mIn[18], line 4\u001b[1;36m\u001b[0m\n\u001b[1;33m    h=\"\" hi\u001b[0m\n\u001b[1;37m         ^\u001b[0m\n\u001b[1;31mSyntaxError\u001b[0m\u001b[1;31m:\u001b[0m invalid syntax\n"
     ]
    }
   ],
   "source": [
    "name=\"ritesh\"\n",
    "print(name)\n",
    "print(type(name))\n",
    "h=\"\"\" hi \n",
    "      I am ritesh kumar\"\"\"  # docstring wirte in triple quotes to write string in multi lines\n",
    "print(h)"
   ]
  },
  {
   "cell_type": "markdown",
   "id": "c3dab9d2-31b3-46f5-9c31-014b18e40f0d",
   "metadata": {},
   "source": [
    "Binary Number\n",
    "Representation ob111"
   ]
  },
  {
   "cell_type": "code",
   "execution_count": 7,
   "id": "305c3d31-5f14-4af3-a9c7-c5ce7313467f",
   "metadata": {},
   "outputs": [
    {
     "name": "stdout",
     "output_type": "stream",
     "text": [
      "7\n"
     ]
    }
   ],
   "source": [
    "print(0b111)"
   ]
  },
  {
   "cell_type": "markdown",
   "id": "d1ad9733-f0f1-46ee-81f6-9b9131f51cd4",
   "metadata": {},
   "source": [
    "Octa\n",
    "number from 0 to 7 \n",
    "Representation 0o then 0to 7 "
   ]
  },
  {
   "cell_type": "code",
   "execution_count": 9,
   "id": "da948424-e9fc-495e-9603-c75729cd6572",
   "metadata": {},
   "outputs": [
    {
     "name": "stdout",
     "output_type": "stream",
     "text": [
      "157\n"
     ]
    }
   ],
   "source": [
    "print(0o235)"
   ]
  },
  {
   "cell_type": "markdown",
   "id": "6ec82c0a-2436-47dd-a990-202f57339a50",
   "metadata": {},
   "source": [
    "Hexa \n",
    "number from 0 to f \n",
    "representation 0x comibnation of 0 to f\n"
   ]
  },
  {
   "cell_type": "code",
   "execution_count": 10,
   "id": "9f9fe215-e545-42c1-ae3a-1172e360175a",
   "metadata": {},
   "outputs": [
    {
     "name": "stdout",
     "output_type": "stream",
     "text": [
      "704193\n"
     ]
    }
   ],
   "source": [
    "print(0xabec1)"
   ]
  },
  {
   "cell_type": "markdown",
   "id": "a519c5fd-0c6d-4397-8b39-ddde2d071d48",
   "metadata": {},
   "source": [
    "$ e $ representation $"
   ]
  },
  {
   "cell_type": "code",
   "execution_count": 11,
   "id": "1d6fe931-e9e6-4b16-808a-12e4937af5df",
   "metadata": {},
   "outputs": [
    {
     "name": "stdout",
     "output_type": "stream",
     "text": [
      "1000000.0\n"
     ]
    }
   ],
   "source": [
    "print(10e5) # 10* 100000"
   ]
  },
  {
   "cell_type": "code",
   "execution_count": 12,
   "id": "f525253f-61e5-4bda-8170-35eb81afe505",
   "metadata": {},
   "outputs": [
    {
     "name": "stdout",
     "output_type": "stream",
     "text": [
      "100000.0\n"
     ]
    }
   ],
   "source": [
    " print(10e+4) # 10* 10000"
   ]
  },
  {
   "cell_type": "code",
   "execution_count": 13,
   "id": "861f57f5-406d-46c9-a9e3-a49080aeba7e",
   "metadata": {},
   "outputs": [
    {
     "name": "stdout",
     "output_type": "stream",
     "text": [
      "0.001\n"
     ]
    }
   ],
   "source": [
    "print(10e-4) # 10/ 10000"
   ]
  },
  {
   "cell_type": "code",
   "execution_count": 15,
   "id": "1a622b54-6e5f-4201-9a32-edc706376e3c",
   "metadata": {},
   "outputs": [
    {
     "name": "stdout",
     "output_type": "stream",
     "text": [
      "182.0\n"
     ]
    }
   ],
   "source": [
    "print(1.82e+02) # 1.82* 100"
   ]
  },
  {
   "cell_type": "markdown",
   "id": "7bc653fa-511c-41ee-a534-583b6757daea",
   "metadata": {},
   "source": [
    "# boolean"
   ]
  },
  {
   "cell_type": "code",
   "execution_count": 25,
   "id": "19ef46e4-6bf0-4e18-a999-32fcc378c222",
   "metadata": {},
   "outputs": [
    {
     "name": "stdout",
     "output_type": "stream",
     "text": [
      "<class 'bool'>\n",
      "<class 'bool'>\n",
      "True False\n"
     ]
    }
   ],
   "source": [
    "a=True \n",
    "b=False\n",
    "print(type(a))\n",
    "print(type(b))\n",
    "print(a,b)\n",
    "# error c=false as false is not keyword false is not defined\n"
   ]
  },
  {
   "cell_type": "markdown",
   "id": "73f4aa13-af88-4940-8aac-7c2c8ee986f2",
   "metadata": {},
   "source": [
    "# complex conjegate"
   ]
  },
  {
   "cell_type": "code",
   "execution_count": 33,
   "id": "968ab69e-7a9b-4c1d-9deb-34f1925358cb",
   "metadata": {},
   "outputs": [
    {
     "name": "stdout",
     "output_type": "stream",
     "text": [
      "(5+4j)\n",
      "<class 'complex'>\n",
      "(5-4j)\n",
      "5.0\n",
      "-4.0\n",
      "(4+5j)\n",
      "(4-5j)\n"
     ]
    }
   ],
   "source": [
    "a=5+4j\n",
    "print(a)\n",
    "print(type(a))\n",
    "b=5-4j\n",
    "print(b)\n",
    "print(a.real)\n",
    "print(b.imag)\n",
    "# make a complex number using complex method\n",
    "d=complex(4,5)\n",
    "print(d)\n",
    "d=complex(4,-5)\n",
    "print(d)\n",
    "\n",
    "#complex() # having two defauld  parameter rel=0 and imag=0 if no valuse pass by defauld 0, 0 will assign and the anser will be 0j\n"
   ]
  },
  {
   "cell_type": "code",
   "execution_count": null,
   "id": "7bd8586a-0702-4506-ab42-7956bfc733a8",
   "metadata": {},
   "outputs": [],
   "source": []
  },
  {
   "cell_type": "code",
   "execution_count": null,
   "id": "46604e0d-c7b0-4312-90af-684582d5b787",
   "metadata": {},
   "outputs": [],
   "source": []
  }
 ],
 "metadata": {
  "kernelspec": {
   "display_name": "Python [conda env:base] *",
   "language": "python",
   "name": "conda-base-py"
  },
  "language_info": {
   "codemirror_mode": {
    "name": "ipython",
    "version": 3
   },
   "file_extension": ".py",
   "mimetype": "text/x-python",
   "name": "python",
   "nbconvert_exporter": "python",
   "pygments_lexer": "ipython3",
   "version": "3.13.5"
  }
 },
 "nbformat": 4,
 "nbformat_minor": 5
}
