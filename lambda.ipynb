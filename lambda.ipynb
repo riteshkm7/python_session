{
 "cells": [
  {
   "cell_type": "code",
   "execution_count": null,
   "id": "3f617b19-192b-4550-99ff-b188569b7b4c",
   "metadata": {},
   "outputs": [],
   "source": [
    "### lambda ###\n",
    "- it is expression of function \n",
    "- a function can be return in term of lambda expression\n",
    "- syntax var=lambda arguements:output to execute we need to call var(require argument)\n",
    "- any  number of arguement you can declare and execute them\n"
   ]
  },
  {
   "cell_type": "code",
   "execution_count": null,
   "id": "33130dd1-cf1c-4a10-afff-fb59647a98e3",
   "metadata": {},
   "outputs": [],
   "source": [
    "### note these two thing remember while convertingt a function into lambda ###\n",
    "*** how many argument is used in function *** writen in argument in lmabda eg lambda x:op\n",
    "\n",
    "*** what is returning *** write in op lambda x:x+10"
   ]
  },
  {
   "cell_type": "code",
   "execution_count": 1,
   "id": "7c264751-462b-48d8-b90f-d7600dead954",
   "metadata": {},
   "outputs": [
    {
     "data": {
      "text/plain": [
       "20"
      ]
     },
     "execution_count": 1,
     "metadata": {},
     "output_type": "execute_result"
    }
   ],
   "source": [
    "def summ(x):\n",
    "    return(x+10)\n",
    "summ(10)"
   ]
  },
  {
   "cell_type": "code",
   "execution_count": null,
   "id": "1473b827-a505-4ea1-b538-f92e31873c77",
   "metadata": {},
   "outputs": [],
   "source": [
    "# convernt into lambda\n",
    "one argumenet x\n",
    "return x+10"
   ]
  },
  {
   "cell_type": "code",
   "execution_count": 4,
   "id": "65f72870-c835-49f8-a766-803a7c7159f3",
   "metadata": {},
   "outputs": [
    {
     "name": "stdout",
     "output_type": "stream",
     "text": [
      "hello\n",
      "sum: 29\n"
     ]
    }
   ],
   "source": [
    "add=lambda x:x+10\n",
    "# to store this resutl we need to store as it returing \n",
    "a=add(19)\n",
    "print(\"hello\")\n",
    "print(\"sum:\",a)"
   ]
  },
  {
   "cell_type": "code",
   "execution_count": null,
   "id": "25c7c7b3-dc8e-45bd-abbb-d9220104a3ed",
   "metadata": {},
   "outputs": [],
   "source": [
    "# lambda expression of one variale "
   ]
  },
  {
   "cell_type": "code",
   "execution_count": 5,
   "id": "04af3aa2-cd86-4150-aa29-dde1d77a9085",
   "metadata": {},
   "outputs": [
    {
     "data": {
      "text/plain": [
       "100"
      ]
     },
     "execution_count": 5,
     "metadata": {},
     "output_type": "execute_result"
    }
   ],
   "source": [
    "def sq(x):\n",
    "    return x*x\n",
    "sq(10)    "
   ]
  },
  {
   "cell_type": "code",
   "execution_count": 7,
   "id": "868148dc-4339-4cd6-aa3b-02fded6bc6dd",
   "metadata": {},
   "outputs": [
    {
     "data": {
      "text/plain": [
       "100"
      ]
     },
     "execution_count": 7,
     "metadata": {},
     "output_type": "execute_result"
    }
   ],
   "source": [
    "sq=lambda x:x*x\n",
    "sq(10)"
   ]
  },
  {
   "cell_type": "code",
   "execution_count": 8,
   "id": "dca342d2-8fc1-4141-80b2-af45b59fec83",
   "metadata": {},
   "outputs": [
    {
     "data": {
      "text/plain": [
       "30"
      ]
     },
     "execution_count": 8,
     "metadata": {},
     "output_type": "execute_result"
    }
   ],
   "source": [
    "# lambda expresion of two variable\n",
    "def sum(x,y):\n",
    "    return x+y\n",
    "sum(10,20)    "
   ]
  },
  {
   "cell_type": "code",
   "execution_count": 9,
   "id": "17f771d8-8868-4d34-aa82-735bb46bf3f6",
   "metadata": {},
   "outputs": [
    {
     "data": {
      "text/plain": [
       "30"
      ]
     },
     "execution_count": 9,
     "metadata": {},
     "output_type": "execute_result"
    }
   ],
   "source": [
    "s=lambda a,b:a+b\n",
    "s(10,20)"
   ]
  },
  {
   "cell_type": "code",
   "execution_count": 10,
   "id": "cd6235d7-44e4-4103-9e64-19d987eab07f",
   "metadata": {},
   "outputs": [
    {
     "data": {
      "text/plain": [
       "200"
      ]
     },
     "execution_count": 10,
     "metadata": {},
     "output_type": "execute_result"
    }
   ],
   "source": [
    "# mulitply\n",
    "m=lambda a,b:a*b\n",
    "m(10,20)"
   ]
  },
  {
   "cell_type": "code",
   "execution_count": 13,
   "id": "62e3feea-544d-453b-a985-b53136efc67d",
   "metadata": {},
   "outputs": [
    {
     "data": {
      "text/plain": [
       "20.0"
      ]
     },
     "execution_count": 13,
     "metadata": {},
     "output_type": "execute_result"
    }
   ],
   "source": [
    "# lambda function of three variale find avg of three number\n",
    "def avg(a,b,c):\n",
    "    return (a+b+c)/3\n",
    "avg(10,20,30)    \n",
    "    "
   ]
  },
  {
   "cell_type": "code",
   "execution_count": 14,
   "id": "a4f09aa0-156a-44a7-bbd0-25d8e52d8794",
   "metadata": {},
   "outputs": [
    {
     "data": {
      "text/plain": [
       "2.0"
      ]
     },
     "execution_count": 14,
     "metadata": {},
     "output_type": "execute_result"
    }
   ],
   "source": [
    "a=lambda a,b,c:(a+b+c)/3\n",
    "a(1,2,3)"
   ]
  },
  {
   "cell_type": "code",
   "execution_count": null,
   "id": "442365dd-46ac-459a-8e13-b3bfe3de8741",
   "metadata": {},
   "outputs": [],
   "source": [
    "# make default of one "
   ]
  },
  {
   "cell_type": "code",
   "execution_count": 15,
   "id": "0937c6c7-f2a1-4c4f-9cc0-ac5d93a79279",
   "metadata": {},
   "outputs": [
    {
     "data": {
      "text/plain": [
       "4.333333333333333"
      ]
     },
     "execution_count": 15,
     "metadata": {},
     "output_type": "execute_result"
    }
   ],
   "source": [
    "# if c not pass it will take default c=10\n",
    "a=lambda a,b,c=10:(a+b+c)/3\n",
    "a(1,2) # calling of lambda function"
   ]
  },
  {
   "cell_type": "code",
   "execution_count": 16,
   "id": "ec890506-1c38-4fa1-a980-23af9e9cde19",
   "metadata": {},
   "outputs": [
    {
     "data": {
      "text/plain": [
       "4.33"
      ]
     },
     "execution_count": 16,
     "metadata": {},
     "output_type": "execute_result"
    }
   ],
   "source": [
    "# if c not pass it will take default c=10\n",
    "a=lambda a,b,c=10:round((a+b+c)/3,2)# round off\n",
    "a(1,2) # calling of lambda function"
   ]
  },
  {
   "cell_type": "code",
   "execution_count": 27,
   "id": "ddeeed6a-c635-4b51-acc3-379d9e51d34d",
   "metadata": {},
   "outputs": [],
   "source": [
    "#if and else with lambda funcitin \n",
    "#same as list compresion \n",
    "#[if output if condition else condition else output for loop  ] in list\n"
   ]
  },
  {
   "cell_type": "code",
   "execution_count": 28,
   "id": "caa996cf-9c35-4acf-895a-5d74575c3f0f",
   "metadata": {},
   "outputs": [
    {
     "data": {
      "text/plain": [
       "20"
      ]
     },
     "execution_count": 28,
     "metadata": {},
     "output_type": "execute_result"
    }
   ],
   "source": [
    "# wap to find the greatest amont two\n",
    "def greater(a,b):\n",
    "    if a>b:\n",
    "        return a\n",
    "    else:\n",
    "        return b\n",
    "greater(10,20)        \n",
    "    "
   ]
  },
  {
   "cell_type": "code",
   "execution_count": 29,
   "id": "6cb077eb-b8c0-4c67-85f0-c4124890b665",
   "metadata": {},
   "outputs": [
    {
     "data": {
      "text/plain": [
       "20"
      ]
     },
     "execution_count": 29,
     "metadata": {},
     "output_type": "execute_result"
    }
   ],
   "source": [
    "# using lambda\n",
    "#var=lambda arguement1,arguement2<if outuput> <if condition > <else condition > <else output> no for loop is required in lambda fucniton \n",
    "                   \n",
    "great=lambda a,b:a if a>b else b\n",
    "great(10,20)"
   ]
  },
  {
   "cell_type": "markdown",
   "id": "e1781bf4-d461-4c8f-839d-6a98823ca9b4",
   "metadata": {},
   "source": [
    "- lambda function is nothing but create a function\n",
    "- one argument\n",
    "- multiple arguments\n",
    "- if else conditions\n",
    "- if else conditions same like list compehenshion\n",
    "- like function we need to call lambda funciton\n"
   ]
  },
  {
   "cell_type": "code",
   "execution_count": null,
   "id": "1bdd2843-f064-46e5-b61c-1d6ebc4d6d1f",
   "metadata": {},
   "outputs": [],
   "source": [
    "# store the resul in list in greatere program"
   ]
  },
  {
   "cell_type": "code",
   "execution_count": 30,
   "id": "d90905a5-fe8a-4b5c-a6c6-9d228904c456",
   "metadata": {},
   "outputs": [
    {
     "name": "stdout",
     "output_type": "stream",
     "text": [
      "[20]\n"
     ]
    }
   ],
   "source": [
    "# wap to find the greatest amont two\n",
    "l1=[]\n",
    "def greater(a,b):\n",
    "    if a>b:\n",
    "        l1.append(a)\n",
    "    else:\n",
    "        l1.append(b)\n",
    "greater(10,20) \n",
    "print(l1)\n",
    "    "
   ]
  },
  {
   "cell_type": "code",
   "execution_count": 36,
   "id": "a2fb2034-9b83-464f-ad0a-88e47eb19e93",
   "metadata": {},
   "outputs": [
    {
     "name": "stdout",
     "output_type": "stream",
     "text": [
      "[20]\n"
     ]
    }
   ],
   "source": [
    "# using lambda \n",
    "l2=[]\n",
    "g=lambda a,b:l2.append(a) if a>b else l2.append(b)\n",
    "g(10,20)\n",
    "print(l2)\n"
   ]
  },
  {
   "cell_type": "code",
   "execution_count": 1,
   "id": "394a7e2d-b885-416b-91c8-39c77ce8e274",
   "metadata": {},
   "outputs": [
    {
     "name": "stdout",
     "output_type": "stream",
     "text": [
      "['Hyderabad', 'Banglore', 'Chennai']\n"
     ]
    }
   ],
   "source": [
    "# wap l=[\"hyderabad\",\"banglore\",\"chennai\"]\n",
    "# op [Hyderabad,Banglore,Chenanni]\n",
    "# 1. using append \n",
    "#2.list compreshenion \n",
    "l=[\"hyderabad\",\"banglore\",\"chennai\"]\n",
    "l1=[]\n",
    "for i in l:\n",
    "    l1.append(i.capitalize())\n",
    "print(l1)    "
   ]
  },
  {
   "cell_type": "code",
   "execution_count": null,
   "id": "079b8458-1a98-456b-a5fe-fc1690336626",
   "metadata": {},
   "outputs": [],
   "source": [
    "# using list comprehension\n"
   ]
  },
  {
   "cell_type": "code",
   "execution_count": 2,
   "id": "736211ab-6d1c-4265-8415-a6352f8051fa",
   "metadata": {},
   "outputs": [
    {
     "data": {
      "text/plain": [
       "['Hyderabad', 'Banglore', 'Chennai']"
      ]
     },
     "execution_count": 2,
     "metadata": {},
     "output_type": "execute_result"
    }
   ],
   "source": [
    "l2=[i.capitalize() for i in l]\n",
    "l2"
   ]
  },
  {
   "cell_type": "markdown",
   "id": "859937df-ae6c-4048-8f1d-72a6494959a9",
   "metadata": {},
   "source": [
    "## lambda function with iterator ##\n",
    "lambda <argument>: output,iterator\n",
    "iteraltor can be=list,tuple,set,dict etc\n",
    "map fucntion is use to map the output with the iterator iterator element and perform the operation which provided in output\n",
    "then return also one iterator with the output \n"
   ]
  },
  {
   "cell_type": "code",
   "execution_count": null,
   "id": "bf03e4f5-cb77-48b6-889c-38353e9e5367",
   "metadata": {},
   "outputs": [],
   "source": [
    "step to use lambda with iterator\n",
    "\n",
    "- first make the lambda function \n",
    "\n",
    "- than add iterator only without for loop\n",
    "\n",
    "- now map the function and iterator using map()\n",
    "\n",
    "- now store the result into list or  tuple by converting into list or tuple\n",
    "### note ###\n",
    "- map always return a iterator  you can access the value using for loop also without converting into list\n",
    "\n",
    "- like reversed function return iterator you need for loop to access each value or you can convert them into list\n",
    "\n",
    "- NOTE using lambda funciton in lambda function in iteraor portion not use for and zip only we  have mention the iterator name\n"
   ]
  },
  {
   "cell_type": "code",
   "execution_count": 2,
   "id": "97ba8d36-2ea6-491d-a60b-87e233d77840",
   "metadata": {},
   "outputs": [
    {
     "name": "stdout",
     "output_type": "stream",
     "text": [
      "['Hyderabad', 'Banglore', 'Chennai']\n"
     ]
    }
   ],
   "source": [
    "# same question with lambda function \n",
    "l=[\"hyderabad\",\"banglore\",\"chennai\"]\n",
    "lambda i:i.capitalize(),l # make the lambda function i=arg,i.capitalize() output,l=iterator\n",
    "#  now  map the function and iterator\n",
    "map(lambda i:i.captitalize(),l) # map function map will take the element from iterator and generate output by mapping\n",
    "# now store the result  into list\n",
    "l1=list(map(lambda i:i.capitalize(),l))\n",
    "print(l1)\n",
    "\n"
   ]
  },
  {
   "cell_type": "code",
   "execution_count": 3,
   "id": "14b43b95-5b78-45a2-8d98-80b5fd229af4",
   "metadata": {},
   "outputs": [
    {
     "name": "stdout",
     "output_type": "stream",
     "text": [
      "[1, 4, 9, 16, 25]\n"
     ]
    }
   ],
   "source": [
    "# question find the square of list of number using all thre method\n",
    "#  m-1\n",
    "l1=[1,2,3,4,5]\n",
    "l2=[]\n",
    "for i in l1:\n",
    "    l2.append(i*i)\n",
    "print(l2)    \n",
    "    "
   ]
  },
  {
   "cell_type": "code",
   "execution_count": 4,
   "id": "60e2c5d7-d6e1-42c5-a261-27adb2e173c1",
   "metadata": {},
   "outputs": [
    {
     "name": "stdout",
     "output_type": "stream",
     "text": [
      "[1, 4, 9, 16, 25]\n"
     ]
    }
   ],
   "source": [
    "# m-2 list comprehension \n",
    "l2=[i*i for i in l1]\n",
    "print(l2)\n"
   ]
  },
  {
   "cell_type": "code",
   "execution_count": 8,
   "id": "45edc9b7-2e78-42a5-8778-a58d0c24fc35",
   "metadata": {},
   "outputs": [
    {
     "name": "stdout",
     "output_type": "stream",
     "text": [
      "[1, 4, 9, 16, 25]\n",
      "(1, 4, 9, 16, 25)\n"
     ]
    }
   ],
   "source": [
    "# using lambda\n",
    "l1=[1,2,3,4,5]\n",
    "\n",
    "lambda i:i*i,l1\n",
    "l2=list(map(lambda i:i*i,l1))\n",
    "t=tuple(map(lambda i:i*i,l1)) # converting into tuple \n",
    "print(l2)\n",
    "print(t)\n"
   ]
  },
  {
   "cell_type": "code",
   "execution_count": null,
   "id": "bbb8730b-5b0b-41a6-abd1-8754728a9947",
   "metadata": {},
   "outputs": [],
   "source": [
    "- map always return a iterator  you can access the value using for loop also without converting into list\n",
    "\n",
    "- like reversed function return iterator you need for loop to access each value or you can convert them into list"
   ]
  },
  {
   "cell_type": "code",
   "execution_count": 11,
   "id": "7ad689c0-f5bc-4210-ad07-41c041b2c799",
   "metadata": {},
   "outputs": [
    {
     "name": "stdout",
     "output_type": "stream",
     "text": [
      "h\n",
      "s\n",
      "e\n",
      "t\n",
      "i\n",
      "r\n"
     ]
    }
   ],
   "source": [
    "a=reversed(\"ritesh\") # a is iterator we can access each value thorugh for loop\n",
    "for i in a:\n",
    "    print(i)"
   ]
  },
  {
   "cell_type": "code",
   "execution_count": 12,
   "id": "a1d5b9f1-9bbf-4b5f-835d-d5af9b92163a",
   "metadata": {},
   "outputs": [
    {
     "name": "stdout",
     "output_type": "stream",
     "text": [
      "['h', 's', 'e', 't', 'i', 'r']\n"
     ]
    }
   ],
   "source": [
    "# but we can convert return iterator into list also using list keyword\n",
    "a=list(reversed(\"ritesh\"))\n",
    "print(a) # now a is list\n"
   ]
  },
  {
   "cell_type": "code",
   "execution_count": 13,
   "id": "4f74b158-1216-465a-975b-e836bb7b7a59",
   "metadata": {},
   "outputs": [
    {
     "name": "stdout",
     "output_type": "stream",
     "text": [
      "1\n",
      "4\n",
      "9\n",
      "16\n",
      "25\n"
     ]
    }
   ],
   "source": [
    "# similarly map is also return iterator you can access each value thorugh for loop or you can convernt them intl list\n",
    "l1=[1,2,3,4,5]\n",
    "# acess using for  loop not convernt into list\n",
    "map(lambda i:i*i,l1)\n",
    "for i in map(lambda i:i*i,l1):\n",
    "    print(i)\n"
   ]
  },
  {
   "cell_type": "code",
   "execution_count": 14,
   "id": "f6bf9f25-76bd-4819-a1b8-769742cb73c9",
   "metadata": {},
   "outputs": [
    {
     "name": "stdout",
     "output_type": "stream",
     "text": [
      "1\n",
      "4\n",
      "9\n",
      "16\n",
      "25\n"
     ]
    }
   ],
   "source": [
    "# or we can do store in var then apply loop\n",
    "l1=[1,2,3,4,5]\n",
    "# acess using for  loop not convernt into list\n",
    "a=map(lambda i:i*i,l1)\n",
    "for i in a:\n",
    "    print(i)"
   ]
  },
  {
   "cell_type": "code",
   "execution_count": 16,
   "id": "90071112-8b36-4a13-b1dd-5afa000bbf83",
   "metadata": {},
   "outputs": [
    {
     "name": "stdout",
     "output_type": "stream",
     "text": [
      "[12, 24, 36]\n"
     ]
    }
   ],
   "source": [
    "# sum of elements of two list\n",
    "l1=[1,2,3]\n",
    "l2=[11,22,33]\n",
    "l3=[]\n",
    "for i in range(len(l1)):\n",
    "    l3.append(l1[i]+l2[i])\n",
    "print(l3)\n"
   ]
  },
  {
   "cell_type": "code",
   "execution_count": 17,
   "id": "51895d53-e7fb-4e68-b421-0ea90dbdfecc",
   "metadata": {},
   "outputs": [
    {
     "data": {
      "text/plain": [
       "[12, 24, 36]"
      ]
     },
     "execution_count": 17,
     "metadata": {},
     "output_type": "execute_result"
    }
   ],
   "source": [
    "# using list comprehension \n",
    "l1=[1,2,3]\n",
    "l2=[11,22,33]\n",
    "l3=[l1[i]+l2[i] for i in range(len(l1))]\n",
    "l3"
   ]
  },
  {
   "cell_type": "code",
   "execution_count": 24,
   "id": "8870c1df-7b29-49d2-af9f-7be8dc5e6ec4",
   "metadata": {},
   "outputs": [
    {
     "data": {
      "text/plain": [
       "[12, 24, 36]"
      ]
     },
     "execution_count": 24,
     "metadata": {},
     "output_type": "execute_result"
    }
   ],
   "source": [
    "# using zip method \n",
    "l1=[1,2,3]\n",
    "l2=[11,22,33]\n",
    "l3=[]\n",
    "for i,j in zip(l1,l2):\n",
    "    l3.append(i+j)\n",
    "print(l3)    \n",
    "l4=[i+j for i,j in zip(l1,l2)]\n",
    "print(l4)"
   ]
  },
  {
   "cell_type": "code",
   "execution_count": 50,
   "id": "ee99c123-bd15-4aff-a28c-f79cffa9099b",
   "metadata": {},
   "outputs": [
    {
     "name": "stdout",
     "output_type": "stream",
     "text": [
      "(12, 24, 36)\n"
     ]
    },
    {
     "data": {
      "text/plain": [
       "'10'"
      ]
     },
     "execution_count": 50,
     "metadata": {},
     "output_type": "execute_result"
    }
   ],
   "source": [
    "# NOTE using lambda funciton in lambda function in iteraor portion not use for and zip only we  have mention the iterator name\n",
    "l1=[1,2,3]\n",
    "l2=[11,22,33]\n",
    "#map(lambda i,j:i+j,zip(l1,l2))  wrong only iterator we need to mentioned\n",
    "l3=list(map(lambda i,j:i+j,l1,l2))\n",
    "l3\n",
    "# in tuple\n",
    "t=tuple(map(lambda i,j:i+j,l1,l2))\n",
    "print(t)\n",
    "\n",
    "#in string it will iterable addrss in quote\n",
    "str(map(lambda i,j:i+j,l1,l2)) # as map return address str convernt then into string \n",
    "str(10)# like if any number pass it will convert into str same for  the map\n",
    "\n"
   ]
  },
  {
   "cell_type": "code",
   "execution_count": 46,
   "id": "e98ff1ff-f14c-4b85-8344-cab9f2869827",
   "metadata": {},
   "outputs": [
    {
     "ename": "TypeError",
     "evalue": "<lambda>() takes 1 positional argument but 2 were given",
     "output_type": "error",
     "traceback": [
      "\u001b[1;31m---------------------------------------------------------------------------\u001b[0m",
      "\u001b[1;31mTypeError\u001b[0m                                 Traceback (most recent call last)",
      "Cell \u001b[1;32mIn[46], line 5\u001b[0m\n\u001b[0;32m      3\u001b[0m l1\u001b[38;5;241m=\u001b[39m[\u001b[38;5;241m1\u001b[39m,\u001b[38;5;241m2\u001b[39m,\u001b[38;5;241m3\u001b[39m]\n\u001b[0;32m      4\u001b[0m l2\u001b[38;5;241m=\u001b[39m[\u001b[38;5;241m11\u001b[39m,\u001b[38;5;241m22\u001b[39m,\u001b[38;5;241m33\u001b[39m]\n\u001b[1;32m----> 5\u001b[0m \u001b[38;5;28mlist\u001b[39m(\u001b[38;5;28mmap\u001b[39m(\u001b[38;5;28;01mlambda\u001b[39;00m i:l1[i]\u001b[38;5;241m+\u001b[39ml2[i],l1,l2))\n\u001b[0;32m      6\u001b[0m \u001b[38;5;66;03m# tuple\u001b[39;00m\n\u001b[0;32m      7\u001b[0m \u001b[38;5;28mtuple\u001b[39m(\u001b[38;5;28mmap\u001b[39m(\u001b[38;5;28;01mlambda\u001b[39;00m i:l1[i]\u001b[38;5;241m+\u001b[39ml2[i],l1,l2))\n",
      "\u001b[1;31mTypeError\u001b[0m: <lambda>() takes 1 positional argument but 2 were given"
     ]
    }
   ],
   "source": [
    "# this will not possible only zip will possile as number of iterable pass=number of arguement must in lambda \n",
    "# if two argument will pass then zip mehtod will use only\n",
    "l1=[1,2,3]\n",
    "l2=[11,22,33]\n",
    "list(map(lambda i:l1[i]+l2[i],l1,l2))\n",
    "\n"
   ]
  },
  {
   "cell_type": "code",
   "execution_count": null,
   "id": "dd1175e8-da32-4526-b504-50ba7375423c",
   "metadata": {},
   "outputs": [],
   "source": [
    "# lambda using if else condition \n",
    "l1=[\"ban#lore\",\"hyd#df\",\"chennai\"]\n",
    "#op list that contain #"
   ]
  },
  {
   "cell_type": "code",
   "execution_count": 52,
   "id": "160e6e6c-b5de-400b-b2bb-f6cf5cf7fd84",
   "metadata": {},
   "outputs": [
    {
     "data": {
      "text/plain": [
       "['ban#lore', 'hyd#df']"
      ]
     },
     "execution_count": 52,
     "metadata": {},
     "output_type": "execute_result"
    }
   ],
   "source": [
    "# gen\n",
    "l1=[\"ban#lore\",\"hyd#df\",\"chennai\"]\n",
    "l2=[i for i in l1 if \"#\" in i ]\n",
    "l2\n"
   ]
  },
  {
   "cell_type": "markdown",
   "id": "6f8861c1-5d7d-4ebb-8f7a-7216c410c76d",
   "metadata": {},
   "source": [
    "## note how to uses if condtion in lambda ##\n",
    "- only if condition can be use in list comprehension \n",
    "- but in lambda function we can't use if condition only with if else is  must required\n",
    "- to use if condition in lambda function \n",
    "- lambda <argument>:output,iterator\n",
    "   - in output=mention only condition without if keyword\n",
    "- map function will map the condition now with the iterator element\n",
    "       - so the result will be in the from either trur or  false as condtion map with element of list \n",
    "- to get element instead of conditin use filter keyword it will return every element on true conditon "
   ]
  },
  {
   "cell_type": "code",
   "execution_count": 71,
   "id": "9467bd03-4756-4000-a4c1-88caf39e09b6",
   "metadata": {},
   "outputs": [
    {
     "data": {
      "text/plain": [
       "[True, True, False]"
      ]
     },
     "execution_count": 71,
     "metadata": {},
     "output_type": "execute_result"
    }
   ],
   "source": [
    "l1=[\"ban#lore\",\"hyd#df\",\"chennai\"]\n",
    "#lambda i:i if \"#\" in i,l1 # erro expect else \n",
    "# correct is only condition write\n",
    "lambda i:\"#\" in i,l1\n",
    "# map will map the conditon with element of list\n",
    "map(lambda i:\"#\" in i,l1)\n",
    "# here condition will map each element of list and then return result either trur or false as  no output is mentioned\n",
    "# but in if condition we can't mentioned output\n",
    "list(map(lambda i:\"#\" in i,l1))\n"
   ]
  },
  {
   "cell_type": "code",
   "execution_count": 72,
   "id": "aed08f39-2760-4ac4-98b6-66be052176ae",
   "metadata": {},
   "outputs": [
    {
     "name": "stdout",
     "output_type": "stream",
     "text": [
      "['ban#lore', 'hyd#df']\n"
     ]
    }
   ],
   "source": [
    "# so to store result we need filter\n",
    "l1=[\"ban#lore\",\"hyd#df\",\"chennai\"]\n",
    "lambda i:\"#\" in i,l1\n",
    "l2=list(filter(lambda i:\"#\" in i,l1))\n",
    "print(l2)"
   ]
  },
  {
   "cell_type": "code",
   "execution_count": 78,
   "id": "866b77f6-703d-4946-803b-cce720342702",
   "metadata": {},
   "outputs": [
    {
     "ename": "TypeError",
     "evalue": "filter expected 2 arguments, got 1",
     "output_type": "error",
     "traceback": [
      "\u001b[1;31m---------------------------------------------------------------------------\u001b[0m",
      "\u001b[1;31mTypeError\u001b[0m                                 Traceback (most recent call last)",
      "Cell \u001b[1;32mIn[78], line 1\u001b[0m\n\u001b[1;32m----> 1\u001b[0m a\u001b[38;5;241m=\u001b[39m\u001b[38;5;28mfilter\u001b[39m(\u001b[38;5;28;01mlambda\u001b[39;00m i:i\u001b[38;5;241m>\u001b[39m\u001b[38;5;241m2\u001b[39m) \n\u001b[0;32m      2\u001b[0m a(\u001b[38;5;241m10\u001b[39m)\n",
      "\u001b[1;31mTypeError\u001b[0m: filter expected 2 arguments, got 1"
     ]
    }
   ],
   "source": [
    "## note ##\n",
    "-filter and map always use with iterator\n",
    "a=filter(lambda i:i>2) \n",
    "a(10)"
   ]
  },
  {
   "cell_type": "code",
   "execution_count": 79,
   "id": "3bfb9380-962e-48b2-9530-eb8e25655e9f",
   "metadata": {},
   "outputs": [
    {
     "data": {
      "text/plain": [
       "False"
      ]
     },
     "execution_count": 79,
     "metadata": {},
     "output_type": "execute_result"
    }
   ],
   "source": [
    "# it will return only  true or false as we can't mention output in if condtion\n",
    "a=lambda i:i>10\n",
    "a(10)"
   ]
  },
  {
   "cell_type": "markdown",
   "id": "882fec5b-350e-4c01-a3b4-ff1b31a49ee5",
   "metadata": {},
   "source": [
    "## summary  ##\n",
    " - simple lambda function\n",
    "  - a=lambda arguement:output\n",
    "     call a(arguements)\n",
    "\n",
    "- lambda with if else\n",
    "  - lambda arguement:if ouptut if condition else condition else outptut\n",
    "  - \n",
    "-lambda with iteraable\n",
    "list(map(lambda arguement:output,iterable)) list use to convernt into list you can acess through loop also\n",
    "without converntin into list for i in map(lambda i:i*i,l)\n",
    "\n",
    "example\n",
    "l=[1,2,3]\n",
    " list(map(lambda i:i*i,l1))\n",
    "# any number of iterable you can pass using zip but you not need to mention zip\n",
    "l1=[1,2,3]\n",
    "l2=[3,4,5]\n",
    "l3=[4,6,8]\n",
    "list(map(lambda i,j:i+j,l1,l2))\n",
    "\n",
    "- lambda with only if\n",
    "   in if we need to mentioon only condtion\n",
    "  #if  without iterable\n",
    "  a=lambda i:i>3\n",
    "  a(2)\n",
    "\n",
    "  - if with iterable\n",
    "  - lambda i:<condtion>,iterable\n",
    "  - lambda i:\"#\" in i,l1\n",
    "  - to access the value use filter\n",
    "  - list(filter(lambda i:\"#\" in i,l1))\n",
    "  "
   ]
  },
  {
   "cell_type": "code",
   "execution_count": null,
   "id": "6a9ff52a-5eef-4d06-a960-e527f011b6af",
   "metadata": {},
   "outputs": [],
   "source": []
  },
  {
   "cell_type": "code",
   "execution_count": null,
   "id": "c7e3ac1c-9eb5-48de-985f-984bf0777478",
   "metadata": {},
   "outputs": [],
   "source": []
  }
 ],
 "metadata": {
  "kernelspec": {
   "display_name": "Python [conda env:base] *",
   "language": "python",
   "name": "conda-base-py"
  },
  "language_info": {
   "codemirror_mode": {
    "name": "ipython",
    "version": 3
   },
   "file_extension": ".py",
   "mimetype": "text/x-python",
   "name": "python",
   "nbconvert_exporter": "python",
   "pygments_lexer": "ipython3",
   "version": "3.13.5"
  }
 },
 "nbformat": 4,
 "nbformat_minor": 5
}
