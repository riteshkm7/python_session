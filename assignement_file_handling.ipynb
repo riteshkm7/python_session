{
 "cells": [
  {
   "cell_type": "code",
   "execution_count": 88,
   "id": "afb5c2d1-66e8-4c67-ba74-3aeb07f89aa8",
   "metadata": {},
   "outputs": [
    {
     "name": "stdout",
     "output_type": "stream",
     "text": [
      "ENTTIRE LISTTTTT      ##########################################################################################################\n",
      "convert entire string into list by split on the basis ;  ['Santhanam, Jayendhran <jayendhran.ms@accenture.com>', ' Bhattacharjee, Sankalan <s.t.bhattacharjee@accenture.com>', ' Bansal, Vaishnavi <vaishnavi.a.bansal@accenture.com>', ' Chandra Shekhar, Pavuluri <p.a.chandra.shekhar@accenture.com>', ' J Doshi, Hiren <hiren.j.doshi@accenture.com>', ' Shimoga Prakash, Jeevan <j.shimoga.prakash@accenture.com>', ' Akhouri, Shreyash <shreyash.akhouri@accenture.com>', ' Nath, Nupanga <nupanga.nath@accenture.com>', ' Ponna, Ramesh <r.ponna@accenture.com>', ' Singhal, Aditya <aditya.d.singhal@accenture.com>', ' Gorai, Sumit <sumit.gorai@accenture.com>', ' Valdez, Mariele Dyan Francely <mariele.dyan.valdez@accenture.com>', ' Cancel, Abigail Kyle <abigail.kyle.cancel@accenture.com>', ' BONDALAKUNTA, POOJITHA <p.bondalakunta@accenture.com>', ' priyanka uppala, sai <sai.priyanka.uppala@accenture.com>', ' Nitin SHINDE, NIKHIL <nikhil.nitin.shinde@accenture.com>', ' Chidre, Swapna <swapna.chidre@accenture.com>', ' Sahu, Swastik <s.satyapragyan.sahu@accenture.com>', ' Sikka, Ankit <ankit.sikka@accenture.com>', ' Dara, Sai Madhukar <sai.madhukar.dara@accenture.com>', ' Pattanshetti, Sampreet <s.pattanshetti@accenture.com>', ' Sharma, Ayush <ayush.ad.sharma@accenture.com>', ' Latorena, Zairous Jay <zairous.jay.latorena@accenture.com>', ' Abhimanyu Pradhan, Roshankumar <r.abhimanyu.pradhan@accenture.com>', ' Jaiswal, Lehar <lehar.jaiswal@accenture.com>', ' Gupta, Retik <retik.gupta@accenture.com>', ' Satti, Phanindra Reddy <phanindra.r.satti@accenture.com>', ' Kumar, Manish <manish.dw.kumar@accenture.com>', ' Balakrishnan, Devi Priya <devi.p.balakrishnan@accenture.com>', ' M S, Roshni Priya <roshni.priya.m.s@accenture.com>', ' Cheerala, Vanaja <vanaja.cheerala@accenture.com>', ' G D, Chandrashekhar <chandrashekhar.g.d@accenture.com>', ' Nikhil Reddy, Madithati <m.nikhil.reddy@accenture.com>', ' Santos, Jeroshelle V. <jeroshelle.v.santos@accenture.com>', ' Milan, Gerald John <gerald.john.milan@accenture.com>', ' Gupta, Vivek <vivek.u.gupta@accenture.com>', ' Mandal, Sumit <s.sunilkumar.mandal@accenture.com>', ' Prakash Shukla, Ashok <ashok.prakash.shukla@accenture.com>', ' Naganathan, Siva <sivakumar.naganathan@accenture.com>', ' GAHLOT, NIKHIL <nikhil.gahlot@accenture.com>', ' Kanjilal, Sourav <s.a.kanti.kanjilal@accenture.com>', ' Nallagoni, Omkar <omkar.nallagoni@accenture.com>', ' Sahajan, Sandra <sandra.sahajan@accenture.com>', ' Nelluri, Chaitanya <chaitanya.nelluri@accenture.com>']\n",
      "FIRST NAME LIST       ##########################################################################################################\n",
      "['Jayendhran', 'Sankalan', 'Vaishnavi', 'Pavuluri', 'Hiren', 'Jeevan', 'Shreyash', 'Nupanga', 'Ramesh', 'Aditya', 'Sumit', 'Mariele Dyan Francely', 'Abigail Kyle', 'POOJITHA', 'sai', 'NIKHIL', 'Swapna', 'Swastik', 'Ankit', 'Sai Madhukar', 'Sampreet', 'Ayush', 'Zairous Jay', 'Roshankumar', 'Lehar', 'Retik', 'Phanindra Reddy', 'Manish', 'Devi Priya', 'Roshni Priya', 'Vanaja', 'Chandrashekhar', 'Madithati', 'Jeroshelle V.', 'Gerald John', 'Vivek', 'Sumit', 'Ashok', 'Siva', 'NIKHIL', 'Sourav', 'Omkar', 'Sandra', 'Chaitanya']\n",
      " LAST NAME LIST   ##########################################################################################################\n",
      "['Santhanam', 'Bhattacharjee', 'Bansal', 'Chandra Shekhar', 'J Doshi', 'Shimoga Prakash', 'Akhouri', 'Nath', 'Ponna', 'Singhal', 'Gorai', 'Valdez', 'Cancel', 'BONDALAKUNTA', 'priyanka uppala', 'Nitin SHINDE', 'Chidre', 'Sahu', 'Sikka', 'Dara', 'Pattanshetti', 'Sharma', 'Latorena', 'Abhimanyu Pradhan', 'Jaiswal', 'Gupta', 'Satti', 'Kumar', 'Balakrishnan', 'M S', 'Cheerala', 'G D', 'Nikhil Reddy', 'Santos', 'Milan', 'Gupta', 'Mandal', 'Prakash Shukla', 'Naganathan', 'GAHLOT', 'Kanjilal', 'Nallagoni', 'Sahajan', 'Nelluri']\n",
      " EMAIL LIST  ##########################################################################################################\n",
      "['jayendhran.ms@accenture.com', 's.t.bhattacharjee@accenture.com', 'vaishnavi.a.bansal@accenture.com', 'p.a.chandra.shekhar@accenture.com', 'hiren.j.doshi@accenture.com', 'j.shimoga.prakash@accenture.com', 'shreyash.akhouri@accenture.com', 'nupanga.nath@accenture.com', 'r.ponna@accenture.com', 'aditya.d.singhal@accenture.com', 'sumit.gorai@accenture.com', 'mariele.dyan.valdez@accenture.com', 'abigail.kyle.cancel@accenture.com', 'p.bondalakunta@accenture.com', 'sai.priyanka.uppala@accenture.com', 'nikhil.nitin.shinde@accenture.com', 'swapna.chidre@accenture.com', 's.satyapragyan.sahu@accenture.com', 'ankit.sikka@accenture.com', 'sai.madhukar.dara@accenture.com', 's.pattanshetti@accenture.com', 'ayush.ad.sharma@accenture.com', 'zairous.jay.latorena@accenture.com', 'r.abhimanyu.pradhan@accenture.com', 'lehar.jaiswal@accenture.com', 'retik.gupta@accenture.com', 'phanindra.r.satti@accenture.com', 'manish.dw.kumar@accenture.com', 'devi.p.balakrishnan@accenture.com', 'roshni.priya.m.s@accenture.com', 'vanaja.cheerala@accenture.com', 'chandrashekhar.g.d@accenture.com', 'm.nikhil.reddy@accenture.com', 'jeroshelle.v.santos@accenture.com', 'gerald.john.milan@accenture.com', 'vivek.u.gupta@accenture.com', 's.sunilkumar.mandal@accenture.com', 'ashok.prakash.shukla@accenture.com', 'sivakumar.naganathan@accenture.com', 'nikhil.gahlot@accenture.com', 's.a.kanti.kanjilal@accenture.com', 'omkar.nallagoni@accenture.com', 'sandra.sahajan@accenture.com', 'chaitanya.nelluri@accenture.com']\n",
      " COMPANY NAME  ##########################################################################################################\n",
      "['accenture', 'accenture', 'accenture', 'accenture', 'accenture', 'accenture', 'accenture', 'accenture', 'accenture', 'accenture', 'accenture', 'accenture', 'accenture', 'accenture', 'accenture', 'accenture', 'accenture', 'accenture', 'accenture', 'accenture', 'accenture', 'accenture', 'accenture', 'accenture', 'accenture', 'accenture', 'accenture', 'accenture', 'accenture', 'accenture', 'accenture', 'accenture', 'accenture', 'accenture', 'accenture', 'accenture', 'accenture', 'accenture', 'accenture', 'accenture', 'accenture', 'accenture', 'accenture', 'accenture']\n",
      "accenture\n"
     ]
    }
   ],
   "source": [
    "path=\"emails.txt\"\n",
    "with open(path,encoding=\"utf-8-sig\") as  file:\n",
    "       entire_list=[line for line in file]\n",
    "# in this file only 1 line that contain all the date \n",
    "#print(\"lenght of entire list which consist  all lines\",len(entire_list1))\n",
    "\n",
    "#print(entire_list)\n",
    "print(\"ENTTIRE LISTTTTT      ##########################################################################################################\")\n",
    "\n",
    "l=entire_list[0].split(\";\")\n",
    "# covert entire one line stirng into list of element using split on the basis of (;)\n",
    "\n",
    "print(\"convert entire string into list by split on the basis ; \",l)\n",
    "print(\"FIRST NAME LIST       ##########################################################################################################\")\n",
    "\n",
    "first_name=[]\n",
    "last_name=[]\n",
    "email_list=[]\n",
    "company_list=[]\n",
    "\n",
    "for i in l:\n",
    "    # first split on the base of came then takinng index 0 value\n",
    "    last_name.append(i.split(\",\")[0].strip()) it will give   take  this [\"Santos, Jeroshelle V. <jeroshelle.v.santos@accenture.com>\"] \n",
    "    # convert into this [\" Santos\", \"Jeroshelle V. <jeroshelle.v.santos@accenture.com>\"] split on the basis of , now take the inex 0 santos \n",
    "    # strip use to remove extra splace if presnet\n",
    "\n",
    "    #spliting on the base of , as we  are this operation on every element of list and we have not store that is why , split use every time\n",
    "    first_name.append(i.split(\",\")[1].split(\"<\")[0].strip()) # now take at index 1 which contain first name split on the base of <\n",
    "    # as only this will seprarate mail and\n",
    "    email_list.append(i.split(\",\")[1].split(\"<\")[1].strip(\">\")) # it will give 'jeroshelle.v.santos@accenture.com>' strip use to remove last >\n",
    "    \n",
    "print(first_name)\n",
    "\n",
    "#  in last name , present we need to strip that that is why we have stip \n",
    "print(\" LAST NAME LIST   ##########################################################################################################\")\n",
    "\n",
    "print(last_name)\n",
    "print(\" EMAIL LIST  ##########################################################################################################\")\n",
    "print(email_list)\n",
    "\n",
    "print(\" COMPANY NAME  ##########################################################################################################\")\n",
    "\n",
    "for i in email_list:\n",
    "    company_list.append(i[i.find(\"@\")+1:i.find(\".\",i.find(\"@\"))])\n",
    "print(company_list)    \n",
    "company_name=company_list[0]\n",
    "print(company_name)\n",
    "\n",
    "\n",
    "\n",
    "\n",
    "\n",
    "\n",
    "\n",
    "\n",
    "\n",
    "\n",
    "    \n",
    "\n",
    "    \n",
    "    \n",
    "    \n",
    "\n"
   ]
  },
  {
   "cell_type": "code",
   "execution_count": 2,
   "id": "ca200096-f47a-4016-b0dc-0870b27ab7b2",
   "metadata": {},
   "outputs": [
    {
     "name": "stdout",
     "output_type": "stream",
     "text": [
      "Santos\n"
     ]
    },
    {
     "data": {
      "text/plain": [
       "[' Jeroshelle V. ', 'jeroshelle.v.santos@accenture.com>']"
      ]
     },
     "execution_count": 2,
     "metadata": {},
     "output_type": "execute_result"
    }
   ],
   "source": [
    "s1='  Santos, Jeroshelle V. <jeroshelle.v.santos@accenture.com>'\n",
    "l1=s1.split(\",\")\n",
    "# converting into list on the base of ,\n",
    "first_name=l1[0].strip()\n",
    "print(l1[0].strip()) # first name contain space that is why strip use\n",
    "\n",
    "# now we want to get the element of index 1 of that contain last name and emaail\n",
    "l2=l1[1].split(\"<\")# it will give ['NIKHIL', '<nikhil.nitin.shinde@accenture.com>'] split on the basis of <\n",
    "l2 # it will gve [' Jeroshelle V. ', 'jeroshelle.v.santos@accenture.com>']\n",
    "# take the value at index 0 and do the strip for last name \n",
    "# for the email take the index 1 and do the strip >\n",
    "\n",
    "\n",
    "\n"
   ]
  },
  {
   "cell_type": "code",
   "execution_count": null,
   "id": "2351c96b-7e2e-4b3a-a4ec-f753864401c9",
   "metadata": {},
   "outputs": [],
   "source": []
  },
  {
   "cell_type": "code",
   "execution_count": 3,
   "id": "a3097d63-ff0a-41e3-8b68-05dbdfdee9fd",
   "metadata": {},
   "outputs": [
    {
     "ename": "IndexError",
     "evalue": "list index out of range",
     "output_type": "error",
     "traceback": [
      "\u001b[1;31m---------------------------------------------------------------------------\u001b[0m",
      "\u001b[1;31mIndexError\u001b[0m                                Traceback (most recent call last)",
      "Cell \u001b[1;32mIn[3], line 1\u001b[0m\n\u001b[1;32m----> 1\u001b[0m \u001b[38;5;28mprint\u001b[39m(s1[\u001b[38;5;241m1\u001b[39m]\u001b[38;5;241m.\u001b[39msplit()[\u001b[38;5;241m1\u001b[39m]\u001b[38;5;241m.\u001b[39mstrip(\u001b[38;5;124m\"\u001b[39m\u001b[38;5;124m<>\u001b[39m\u001b[38;5;124m\"\u001b[39m))\n",
      "\u001b[1;31mIndexError\u001b[0m: list index out of range"
     ]
    }
   ],
   "source": [
    "print(s1[1].split()[1].strip(\"<>\"))"
   ]
  },
  {
   "cell_type": "code",
   "execution_count": null,
   "id": "f37b9d33-5b7b-416f-a51e-693b0eddd89e",
   "metadata": {},
   "outputs": [],
   "source": []
  }
 ],
 "metadata": {
  "kernelspec": {
   "display_name": "Python [conda env:base] *",
   "language": "python",
   "name": "conda-base-py"
  },
  "language_info": {
   "codemirror_mode": {
    "name": "ipython",
    "version": 3
   },
   "file_extension": ".py",
   "mimetype": "text/x-python",
   "name": "python",
   "nbconvert_exporter": "python",
   "pygments_lexer": "ipython3",
   "version": "3.13.5"
  }
 },
 "nbformat": 4,
 "nbformat_minor": 5
}
