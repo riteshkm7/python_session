{
 "cells": [
  {
   "cell_type": "code",
   "execution_count": 4,
   "id": "075e3e66-6bd5-421d-bdd7-ac44526b82eb",
   "metadata": {},
   "outputs": [
    {
     "name": "stdin",
     "output_type": "stream",
     "text": [
      "enter a number 3\n"
     ]
    },
    {
     "name": "stdout",
     "output_type": "stream",
     "text": [
      "the sum is 6 of first 3 \n"
     ]
    }
   ],
   "source": [
    "# wap to find the sum of first n natural number\n",
    "def summ(n):\n",
    "    if n==1:\n",
    "        return 1\n",
    "    else:\n",
    "        return n+summ(n-1)\n",
    "n=eval(input(\"enter a number\"))\n",
    "print(\"the sum is {} of first {} natural number \".format(summ(n),n)) # calling inside format"
   ]
  },
  {
   "cell_type": "code",
   "execution_count": 8,
   "id": "a1d0c4fc-8f46-4448-9dc6-1cc922d4a372",
   "metadata": {},
   "outputs": [
    {
     "name": "stdin",
     "output_type": "stream",
     "text": [
      "enter number 0\n"
     ]
    },
    {
     "name": "stdout",
     "output_type": "stream",
     "text": [
      "the factorial of 0 is 1\n"
     ]
    }
   ],
   "source": [
    "# wap to find the  facorail\n",
    "# formaul n*n-1*n-2...\n",
    "# base condition n==1 return 1\n",
    "def fact(n):\n",
    "    if n==1:\n",
    "        return 1\n",
    "    return n*fact(n-1)\n",
    "n=eval(input(\"enter number\")) \n",
    "if n==0:\n",
    "    print(\"the factorial of 0 is 1\")\n",
    "else:\n",
    "    print(\"factorial of {} is {}\".format(n,fact(n)))\n",
    "    \n",
    "    \n",
    "    "
   ]
  },
  {
   "cell_type": "code",
   "execution_count": 11,
   "id": "c5f7d143-3a5b-4024-bac7-9277aa173a42",
   "metadata": {},
   "outputs": [
    {
     "name": "stdin",
     "output_type": "stream",
     "text": [
      "enter number 5\n"
     ]
    },
    {
     "name": "stdout",
     "output_type": "stream",
     "text": [
      "the facorial is  120\n"
     ]
    }
   ],
   "source": [
    "# wap to find factorail using loop\n",
    "n=eval(input(\"enter number\"))\n",
    "mul=1\n",
    "for i in range(1,n+1):\n",
    "    mul*=i # mul=mul*i\n",
    "print(\"the facorial is \",mul)    \n",
    "    "
   ]
  },
  {
   "cell_type": "code",
   "execution_count": null,
   "id": "b8f9ed1d-cd6d-424e-841d-bf4b5f9a6a37",
   "metadata": {},
   "outputs": [],
   "source": []
  }
 ],
 "metadata": {
  "kernelspec": {
   "display_name": "Python [conda env:base] *",
   "language": "python",
   "name": "conda-base-py"
  },
  "language_info": {
   "codemirror_mode": {
    "name": "ipython",
    "version": 3
   },
   "file_extension": ".py",
   "mimetype": "text/x-python",
   "name": "python",
   "nbconvert_exporter": "python",
   "pygments_lexer": "ipython3",
   "version": "3.13.5"
  }
 },
 "nbformat": 4,
 "nbformat_minor": 5
}
