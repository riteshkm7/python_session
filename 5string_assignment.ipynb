{
 "cells": [
  {
   "cell_type": "code",
   "execution_count": null,
   "id": "227660c2-4094-4010-bf8e-0d45a6f0e54f",
   "metadata": {},
   "outputs": [],
   "source": [
    "1. Write a program that asks the user to enter a string. The program should then print the following:\n",
    "(a) The total number of characters in the string\n",
    "(b) The string repeated 10 times\n",
    "(c) The first character of the string (remember that string indices start at 0) (d) The first three\n",
    "characters of the string\n",
    "(e) The last three characters of the string\n",
    "(f) The string backwards\n",
    "(g) The seventh character of the string if the string is long enough and a message otherwise\n",
    "(h) The string with its first and last characters removed\n",
    "(i) The string in all caps\n",
    "(j) The string with every a replaced with an e\n"
   ]
  },
  {
   "cell_type": "code",
   "execution_count": 23,
   "id": "af262fb9-abbb-497c-acad-637f1392fd0e",
   "metadata": {},
   "outputs": [
    {
     "name": "stdin",
     "output_type": "stream",
     "text": [
      "Enter a string: rietsh\n"
     ]
    },
    {
     "name": "stdout",
     "output_type": "stream",
     "text": [
      "total charaters in string are: 6\n",
      "Repeat string 10 time\n",
      "rietsh\n",
      "rietsh\n",
      "rietsh\n",
      "rietsh\n",
      "rietsh\n",
      "rietsh\n",
      "rietsh\n",
      "rietsh\n",
      "rietsh\n",
      "rietsh\n",
      "The first character of the rietsh is :r \n",
      "The first three character of the rietsh is :rie\n",
      "The last three character of strings are: tsh\n",
      "The string in reverse order is : hsteir\n",
      "There is no character as index 7 your string is contain less then 7 character\n",
      "The rietsh without first and last character is iets \n",
      "The rietsh is all caps are is : RIETSH\n",
      "The rietsh in which every a replaced with e is :rietsh\n"
     ]
    }
   ],
   "source": [
    "str1=input(\"Enter a string:\")\n",
    "# a\n",
    "print(\"total charaters in string are:\",len(str1))\n",
    "\n",
    "#b\n",
    "print(\"Repeat string 10 time\")\n",
    "for  i in range(10):\n",
    "    print(str1)\n",
    "\n",
    "#c\n",
    "print(\"The first character of the {} is :{} \".format(str1,str1[0]))\n",
    "\n",
    "#d\n",
    "print(\"The first three character of the {} is :{}\".format(str1,str1[0:3]))      \n",
    "\n",
    "#e the last three character of the string\n",
    "# first we can reverse the string\n",
    "# then apply slicing from 0 to 3\n",
    "# then again reverse to get  the correct string\n",
    "str1[::-1][0:3][::-1]\n",
    "    # re   slic rever\n",
    "# note if we are applying operation is single line take string name only 1 time then apply operatin which you want\n",
    "# similar as this to replace last r with $\n",
    "#string1[::-1].replace('r','$',1)[::-1]\n",
    "        # re   replace apply     recerse \n",
    "print(\"The last three character of strings are:\",str1[::-1][0:3][::-1])\n",
    "\n",
    "    \n",
    "# string in reverse order\n",
    "# shortcut [::-1]\n",
    "print(\"The string in reverse order is :\",str1[::-1])\n",
    "\n",
    "# 7th char of stirng otherwise no 7th\n",
    "try:\n",
    "    print(\"Sevent charcter of the {} is {}\".format(str1,str1[7]))\n",
    "except Exception as e:\n",
    "    print(\"There is no character as index 7 your string is contain less then 7 character\")\n",
    "    # we can do alos using if index=7 index<len(str1):\n",
    "    # print(str[index])\n",
    "    # else no charter as index\n",
    "#(h) The string with its first and last characters removed\n",
    "\n",
    "print(\"The {} without first and last character is {} \".format(str1,str1[1:len(str1)-1]))\n",
    "\n",
    "# i the stirng in all caps\n",
    "print(\"The {} is all caps are is : {}\".format(str1,str1.upper()))\n",
    "#(j) The string with every a replaced with an e\n",
    "print(\"The {} in which every a replaced with e is :{}\".format(str1,str1.replace(\"a\",\"e\")))\n",
    "\n",
    "    \n"
   ]
  },
  {
   "cell_type": "code",
   "execution_count": null,
   "id": "c1746131-08ca-4484-925a-7acd690687c1",
   "metadata": {},
   "outputs": [],
   "source": [
    "2. A simple way to estimate the number of words in a string is to count the number of spaces in the\n",
    "string. Write a program that asks the user for a string and returns an estimate of how many words\n",
    "are in the string.\n",
    "Tip: You need to count the number of words using spaces\n"
   ]
  },
  {
   "cell_type": "code",
   "execution_count": 7,
   "id": "60e83351-e74c-4662-9831-771a5ea1fb57",
   "metadata": {},
   "outputs": [
    {
     "name": "stdin",
     "output_type": "stream",
     "text": [
      "Enter the string ritesh kumar\n"
     ]
    },
    {
     "name": "stdout",
     "output_type": "stream",
     "text": [
      "the number of words in ritesh kumar is 2\n"
     ]
    }
   ],
   "source": [
    "# using count we can do this   \n",
    "# we can count number of spaces and then words will be number of spce+1\n",
    "str1=input(\"Enter the string\")\n",
    "#count1=str1.count(\" \")\n",
    "# we can use for loop also to count space\n",
    "count1=0\n",
    "for i in str1:\n",
    "    if i==\" \":\n",
    "        count1=count1+1\n",
    "print(\"the number of words in {} is {}\".format(str1,count1+1))\n",
    "\n"
   ]
  },
  {
   "cell_type": "code",
   "execution_count": null,
   "id": "608d6262-681a-47df-bcfe-1a29efc25009",
   "metadata": {},
   "outputs": [],
   "source": [
    "3.Write a program that asks the user to enter a word and prints out whether that word contains any\n",
    "vowels."
   ]
  },
  {
   "cell_type": "code",
   "execution_count": 26,
   "id": "b4c5fdcf-f8ef-4c1d-9826-2f4d29ee9549",
   "metadata": {},
   "outputs": [
    {
     "name": "stdin",
     "output_type": "stream",
     "text": [
      "Enter the string awaaiidauuee\n"
     ]
    },
    {
     "name": "stdout",
     "output_type": "stream",
     "text": [
      "the words contain vowels are\n",
      "a\n",
      "the words contain vowels are\n",
      "a\n",
      "the words contain vowels are\n",
      "a\n",
      "the words contain vowels are\n",
      "i\n",
      "the words contain vowels are\n",
      "i\n",
      "the words contain vowels are\n",
      "a\n",
      "the words contain vowels are\n",
      "u\n",
      "the words contain vowels are\n",
      "u\n",
      "the words contain vowels are\n",
      "e\n",
      "the words contain vowels are\n",
      "e\n"
     ]
    }
   ],
   "source": [
    "# print the vowels of given string \n",
    "str1=input(\"Enter the string\")\n",
    "for i in str1:\n",
    "    if i in \"aeiou\":\n",
    "        print(\"the words contain vowels are\")\n",
    "        print(i)"
   ]
  },
  {
   "cell_type": "code",
   "execution_count": 22,
   "id": "980933d3-83ca-4c38-9422-a88e460226bb",
   "metadata": {},
   "outputs": [
    {
     "name": "stdin",
     "output_type": "stream",
     "text": [
      "Enter the string aa\n"
     ]
    },
    {
     "name": "stdout",
     "output_type": "stream",
     "text": [
      "words contain the vowels are : a,a\n"
     ]
    }
   ],
   "source": [
    "\n",
    "str1=input(\"Enter the string\")\n",
    "str2=\"\"\n",
    "for i in str1:\n",
    "    if i in \"aeiou\":\n",
    "        str2=str2+\",\"+i\n",
    "    \n",
    "#print(str2)\n",
    "# to print correct sting of vowels use slicing to  remove first element as it is ,\n",
    "str2=str2[1:]\n",
    "if len(str2)>0:\n",
    "    print(\"words contain the vowels are :\",str2)\n",
    "else:\n",
    "    print(\"{} does not contains any vowels\".format(str1))\n",
    "# in this code one problem if vowels come twice it print that  if input aa then op aa   "
   ]
  },
  {
   "cell_type": "code",
   "execution_count": 25,
   "id": "4ebe9ed1-f6f1-4977-8802-669ff6946425",
   "metadata": {},
   "outputs": [
    {
     "name": "stdin",
     "output_type": "stream",
     "text": [
      "Enter the string aaiieeuuoo\n"
     ]
    },
    {
     "name": "stdout",
     "output_type": "stream",
     "text": [
      "words contain the vowels are : a,i,e,u,o\n"
     ]
    }
   ],
   "source": [
    "4# taking care to print unique vowels\n",
    "str1=input(\"Enter the string\")\n",
    "str2=\"\"\n",
    "str3=\"\"\n",
    "for i in str1:\n",
    "    if i in \"aeiou\":\n",
    "        if i in str3:\n",
    "            continue\n",
    "        else:    \n",
    "            str2=str2+\",\"+i # concatenate with , for better visulation storing vowels\n",
    "            str3=str3+i # take care to not print dublicate values\n",
    "        \n",
    "#print(str2)\n",
    "# to print correct sting of vowels use slicing to  remove first element as it is ,\n",
    "str2=str2[1:]\n",
    "if len(str2)>0:\n",
    "    print(\"words contain the vowels are :\",str2)\n",
    "else:\n",
    "    print(\"{} does not contains any vowels\".format(str1))"
   ]
  },
  {
   "cell_type": "code",
   "execution_count": null,
   "id": "2f569636-f45c-4d2b-8fd9-19ffc3a9c39c",
   "metadata": {},
   "outputs": [],
   "source": [
    "5. Write a program that asks the user to enter a string. The program should create a new string\n",
    "called new_string from the user’s string such that the second character is changed to an asterisk and\n",
    "three exclamation points are attached to the end of the string. Finally, print new_string.\n",
    "Typical output is shown below:\n",
    "Enter your string: Qbert\n",
    "Output: Q*ert!!!"
   ]
  },
  {
   "cell_type": "code",
   "execution_count": 31,
   "id": "01b1c33e-5645-4546-a0c4-88bb60b594f4",
   "metadata": {},
   "outputs": [
    {
     "data": {
      "text/plain": [
       "'resta*t'"
      ]
     },
     "execution_count": 31,
     "metadata": {},
     "output_type": "execute_result"
    }
   ],
   "source": [
    "# using replace method it is not possible so we need to follow normay way as in replace method index can't wrte\n",
    "#\"restart\".replace(\"r\",\"*\",1) # only only strating r will replace as count =1\n",
    "\"restart\"[::-1].replace(\"r\",\"*\",1)[::-1]# last r will replace as we have apply on reverse string\n"
   ]
  },
  {
   "cell_type": "code",
   "execution_count": 36,
   "id": "c4d9ff66-7c49-4309-8dc9-2e12767fc07c",
   "metadata": {},
   "outputs": [
    {
     "name": "stdin",
     "output_type": "stream",
     "text": [
      "enter a string a\n"
     ]
    },
    {
     "name": "stdout",
     "output_type": "stream",
     "text": [
      "a*!!!\n"
     ]
    }
   ],
   "source": [
    "str1=input(\"enter a string\")\n",
    "str1=str1[0]+\"*\"+str1[2:]+\"!!!\" # here we have remove index 1 character\n",
    "print(str1)\n",
    "# one problem in this if stirng has only 1 char it also put the * on 2nd char but the 2nd char is not tther"
   ]
  },
  {
   "cell_type": "code",
   "execution_count": 38,
   "id": "5436a7c1-fb06-4766-90f6-f643fa7f6338",
   "metadata": {},
   "outputs": [
    {
     "name": "stdin",
     "output_type": "stream",
     "text": [
      "enter a string ab\n"
     ]
    },
    {
     "name": "stdout",
     "output_type": "stream",
     "text": [
      "a*!!!\n"
     ]
    }
   ],
   "source": [
    "# modification on question 5\n",
    "str1=input(\"enter a string\")\n",
    "if len(str1)>=2:\n",
    "    str1=str1[0]+\"*\"+str1[2:]+\"!!!\" # here we have remove index 1 character\n",
    "else:\n",
    "    str1=str1+\"!!!\"\n",
    "print(str1)\n"
   ]
  },
  {
   "cell_type": "code",
   "execution_count": null,
   "id": "01835895-bf01-4d47-a17c-b6e174886fb2",
   "metadata": {},
   "outputs": [],
   "source": [
    "6. Write a program that asks the user to enter a word and determines whether the word is a\n",
    "palindrome or not. A palindrome is a word that reads the same backwards as forwards"
   ]
  },
  {
   "cell_type": "code",
   "execution_count": 62,
   "id": "4e1f8fc7-3b0d-4343-a40d-71f335f0de95",
   "metadata": {},
   "outputs": [
    {
     "name": "stdin",
     "output_type": "stream",
     "text": [
      "Enter a word: LeVeL\n"
     ]
    },
    {
     "name": "stdout",
     "output_type": "stream",
     "text": [
      "The Level is pallindrome\n"
     ]
    }
   ],
   "source": [
    "str1=input(\"Enter a word:\")\n",
    "# to make it not case senstative conver the enter sting in lowercase as Civic==civiC give are not equal\n",
    "str1=str1.lower()\n",
    "r_str=str1[::-1]\n",
    "if str1==r_str:\n",
    "    print(\"The {} is pallindrome\".format(str1.capitalize()))\n",
    "else:\n",
    "    print(\"The {} is not pallindrome\".format(str1.capitalize()))\n"
   ]
  },
  {
   "cell_type": "code",
   "execution_count": 61,
   "id": "b9ffee47-2215-497c-927c-040fd4640ba2",
   "metadata": {},
   "outputs": [
    {
     "name": "stdin",
     "output_type": "stream",
     "text": [
      "Enter a word: LeVeL\n"
     ]
    },
    {
     "name": "stdout",
     "output_type": "stream",
     "text": [
      "The LeVeL is pallindrome\n"
     ]
    }
   ],
   "source": [
    "\"\"\" is there any method in string after any operation perform on \n",
    "sting like upper or lower the string will convert into original form in which it enter   \n",
    "it means if i enter \"riTesh\" then after perfomin upper it will like this RITESH \n",
    "BUT i want to take output as riTesh    \n",
    "YES IT POSSIBLE WITHOUT STORING THE CHNAGE MADE IN A STRING IN A NEW STRING \"\"\"\n",
    "\n",
    "str1=input(\"Enter a word:\")\n",
    "\n",
    "if str1.lower()==str1[::-1].lower():# compare the both rev and orignal string in lowecase but not store anywerhe \n",
    "    # so no change is original string\n",
    "    print(\"The {} is pallindrome\".format(str1))\n",
    "else:\n",
    "    print(\"The {} is not pallindrome\".format(str1))\n",
    "\n"
   ]
  },
  {
   "cell_type": "code",
   "execution_count": null,
   "id": "f91d8d00-193c-47f4-83ba-25874933839a",
   "metadata": {},
   "outputs": [],
   "source": [
    "7. At a certain school, student email addresses end with @student.college.edu, while professor\n",
    "email addresses end with @prof.college.edu. Write a program that first asks the user how many\n",
    "email addresses they will be entering, and then has the user enter those addresses. After all the\n",
    "email addresses are entered, the program should print out a message indicating either that all the\n",
    "addresses are student addresses or that there were some professor addresses entered."
   ]
  },
  {
   "cell_type": "code",
   "execution_count": 23,
   "id": "c548d0c4-264d-4a32-b8e9-2e99897649c7",
   "metadata": {},
   "outputs": [
    {
     "name": "stdin",
     "output_type": "stream",
     "text": [
      "how many number of email address you want to store 2\n",
      "Enter 1 email address ritesh@prof.college.edu\n",
      "Enter 2 email address df@prof.college.edu\n"
     ]
    },
    {
     "name": "stdout",
     "output_type": "stream",
     "text": [
      "The emaail address enter by you is : ['ritesh@prof.college.edu', 'df@prof.college.edu']\n",
      "all emails are professor email\n",
      "-----------------------------------------------------------------------------------------------\n",
      "email lisr are: ['ritesh@prof.college.edu', 'df@prof.college.edu']\n",
      "-----------------------------------------------------------------------------------------------\n",
      "The number of student email are 2 \n"
     ]
    }
   ],
   "source": [
    "n=eval(input(\"how many number of email address you want to store\"))\n",
    "email_list=[]\n",
    "student_email=0\n",
    "professior_email=0\n",
    "student_list=[]\n",
    "professior_list=[]\n",
    "# for storing email into list \n",
    "for i in range(n):\n",
    "    email=input(\"Enter {} email address\".format(i+1))\n",
    "    email_list.append(email)\n",
    "print(\"The emaail address enter by you is :\",email_list)    \n",
    "# access each elemenet in list and check for the each email to determine wheter prof or sttudent email\n",
    "for i in email_list:\n",
    "    if i.endswith(\"@student.college.edu\"):\n",
    "        student_email+=1\n",
    "        student_list.append(i)\n",
    "    elif i.endswith(\"@prof.college.edu\"):\n",
    "        professior_email+=1\n",
    "        professior_list.append(i)\n",
    "# if all emails are studendt\n",
    "if student_email==len(email_list):\n",
    "    print(\"all emails are student email\")\n",
    "    print(\"-----------------------------------------------------------------------------------------------\")\n",
    "    print(\"email lisr are:\",email_list)\n",
    "    print(\"-----------------------------------------------------------------------------------------------\")\n",
    "    print(\"The number of student email are {} \".format(len(student_list)))\n",
    "\n",
    "    # if all emails are professor\n",
    "elif professior_email==len(email_list):\n",
    "    print(\"all emails are professor email\")\n",
    "    print(\"-----------------------------------------------------------------------------------------------\")\n",
    "    print(\"email list are:\",email_list)\n",
    "    print(\"-----------------------------------------------------------------------------------------------\")\n",
    "    \n",
    "    print(\"The number of professior emails are {} \".format(len(professior_list)))\n",
    "    # if containt both\n",
    "else:\n",
    "    print(\"The email list include both professior and student\")\n",
    "    print(\"------------------------------------------------------------------------------------------------\")\n",
    "    print(\"Student emails are {} and count is {}\".format(student_list),len(student_list))\n",
    "    print(\"------------------------------------------------------------------------------------------------\")\n",
    "    print(\"Professior emails are {} and count is {}\".format(professior_list,len(professior_list)))\n",
    "\n",
    "    \n",
    "    "
   ]
  },
  {
   "cell_type": "code",
   "execution_count": null,
   "id": "b7098e4c-c593-48f2-8954-b2df2cc6dcf0",
   "metadata": {},
   "outputs": [],
   "source": [
    "8. Write a program that asks the user to enter a string, then prints out each letter of the string\n",
    "doubled and on a separate line. For instance, "
   ]
  },
  {
   "cell_type": "code",
   "execution_count": 25,
   "id": "e503eedf-e609-4066-bbb9-a6d65f27b2cb",
   "metadata": {},
   "outputs": [
    {
     "name": "stdin",
     "output_type": "stream",
     "text": [
      "Enter a string ritesh\n"
     ]
    },
    {
     "name": "stdout",
     "output_type": "stream",
     "text": [
      "rr\n",
      "\n",
      "ii\n",
      "\n",
      "tt\n",
      "\n",
      "ee\n",
      "\n",
      "ss\n",
      "\n",
      "hh\n",
      "\n"
     ]
    }
   ],
   "source": [
    "str1=input(\"Enter a string\")\n",
    "for i in str1:\n",
    "    print(i*2)\n",
    "    "
   ]
  },
  {
   "cell_type": "code",
   "execution_count": null,
   "id": "45b384d2-5c24-41a0-a4f0-697c291250e1",
   "metadata": {},
   "outputs": [],
   "source": [
    "9.Write a program that asks the user to enter a word that contains the letter a. The program should\n",
    "then print the following two lines: On the first line should be the part of the string up to and\n",
    "including the the first a, and on the second line should be the rest of the string"
   ]
  },
  {
   "cell_type": "code",
   "execution_count": 28,
   "id": "01dbc9d2-c69c-4b44-a609-e96a98789813",
   "metadata": {},
   "outputs": [
    {
     "name": "stdin",
     "output_type": "stream",
     "text": [
      "Enter a word budsafdaaf\n"
     ]
    },
    {
     "name": "stdout",
     "output_type": "stream",
     "text": [
      "first line: budsa\n",
      "second line: fdaaf\n"
     ]
    }
   ],
   "source": [
    "s=input(\"Enter a word\")\n",
    "s1=s[:s.find(\"a\")+1]# print upto a\n",
    "s2=s[s.find(\"a\")+1:]\n",
    "print(\"first line:\",s1)\n",
    "print(\"second line:\",s2)\n",
    "\n"
   ]
  },
  {
   "cell_type": "code",
   "execution_count": null,
   "id": "0edd2f73-1192-42f3-a44e-44c2bcb404c7",
   "metadata": {},
   "outputs": [],
   "source": [
    "10. Write a program that asks the user to enter a word and then capitalizes every other letter of that\n",
    "word.\n",
    "So if the user enters rhinoceros,\n",
    "the program should print rHiNoCeRoS\n"
   ]
  },
  {
   "cell_type": "code",
   "execution_count": 44,
   "id": "c112fa6f-a84c-4409-ae93-6d33ff3d51ce",
   "metadata": {},
   "outputs": [
    {
     "name": "stdin",
     "output_type": "stream",
     "text": [
      "enter a word rhinocoresh\n"
     ]
    },
    {
     "name": "stdout",
     "output_type": "stream",
     "text": [
      "rHiNoCoReSh\n"
     ]
    }
   ],
   "source": [
    "word=input(\"enter a word\")\n",
    "s=\"\"\n",
    "for i in range(len(word)):\n",
    "    if i%2==0:\n",
    "        s=s+word[i]\n",
    "    else:    \n",
    "        s=s+word[i].upper()\n",
    "        \n",
    "print(s)        \n",
    "    \n",
    "        \n",
    "        "
   ]
  },
  {
   "cell_type": "code",
   "execution_count": 36,
   "id": "992d1737-8cad-467c-a8bb-866779572c3c",
   "metadata": {},
   "outputs": [
    {
     "name": "stdout",
     "output_type": "stream",
     "text": [
      "RiteshR\n"
     ]
    }
   ],
   "source": []
  },
  {
   "cell_type": "code",
   "execution_count": 34,
   "id": "f0d0f8fb-9b66-4cad-a45b-0752930843ca",
   "metadata": {},
   "outputs": [
    {
     "data": {
      "text/plain": [
       "['__add__',\n",
       " '__class__',\n",
       " '__contains__',\n",
       " '__delattr__',\n",
       " '__dir__',\n",
       " '__doc__',\n",
       " '__eq__',\n",
       " '__format__',\n",
       " '__ge__',\n",
       " '__getattribute__',\n",
       " '__getitem__',\n",
       " '__getnewargs__',\n",
       " '__getstate__',\n",
       " '__gt__',\n",
       " '__hash__',\n",
       " '__init__',\n",
       " '__init_subclass__',\n",
       " '__iter__',\n",
       " '__le__',\n",
       " '__len__',\n",
       " '__lt__',\n",
       " '__mod__',\n",
       " '__mul__',\n",
       " '__ne__',\n",
       " '__new__',\n",
       " '__reduce__',\n",
       " '__reduce_ex__',\n",
       " '__repr__',\n",
       " '__rmod__',\n",
       " '__rmul__',\n",
       " '__setattr__',\n",
       " '__sizeof__',\n",
       " '__str__',\n",
       " '__subclasshook__',\n",
       " 'capitalize',\n",
       " 'casefold',\n",
       " 'center',\n",
       " 'count',\n",
       " 'encode',\n",
       " 'endswith',\n",
       " 'expandtabs',\n",
       " 'find',\n",
       " 'format',\n",
       " 'format_map',\n",
       " 'index',\n",
       " 'isalnum',\n",
       " 'isalpha',\n",
       " 'isascii',\n",
       " 'isdecimal',\n",
       " 'isdigit',\n",
       " 'isidentifier',\n",
       " 'islower',\n",
       " 'isnumeric',\n",
       " 'isprintable',\n",
       " 'isspace',\n",
       " 'istitle',\n",
       " 'isupper',\n",
       " 'join',\n",
       " 'ljust',\n",
       " 'lower',\n",
       " 'lstrip',\n",
       " 'maketrans',\n",
       " 'partition',\n",
       " 'removeprefix',\n",
       " 'removesuffix',\n",
       " 'replace',\n",
       " 'rfind',\n",
       " 'rindex',\n",
       " 'rjust',\n",
       " 'rpartition',\n",
       " 'rsplit',\n",
       " 'rstrip',\n",
       " 'split',\n",
       " 'splitlines',\n",
       " 'startswith',\n",
       " 'strip',\n",
       " 'swapcase',\n",
       " 'title',\n",
       " 'translate',\n",
       " 'upper',\n",
       " 'zfill']"
      ]
     },
     "execution_count": 34,
     "metadata": {},
     "output_type": "execute_result"
    }
   ],
   "source": [
    "dir(\"\")"
   ]
  },
  {
   "cell_type": "code",
   "execution_count": 2,
   "id": "b5de41cd-21a9-4faf-a7f6-daecf4aefd54",
   "metadata": {},
   "outputs": [
    {
     "data": {
      "text/plain": [
       "'Ritesh Kumar Maurya A'"
      ]
     },
     "execution_count": 2,
     "metadata": {},
     "output_type": "execute_result"
    }
   ],
   "source": [
    "\"ritesh kumar maurya a\".title()"
   ]
  },
  {
   "cell_type": "code",
   "execution_count": null,
   "id": "638e82e4-3db3-4c3a-b62e-9b19a345aa9f",
   "metadata": {},
   "outputs": [],
   "source": [
    "12. Write a program that asks the user to enter their name in lowercase and then capitalizes the first\n",
    "letter of each word of their name."
   ]
  },
  {
   "cell_type": "code",
   "execution_count": 3,
   "id": "b227ddcd-3b56-44b0-a6c3-4d574b38697a",
   "metadata": {},
   "outputs": [
    {
     "name": "stdin",
     "output_type": "stream",
     "text": [
      "eneter name ritehs kumar maurys \n"
     ]
    },
    {
     "name": "stdout",
     "output_type": "stream",
     "text": [
      "Ritehs Kumar Maurys \n"
     ]
    }
   ],
   "source": [
    "# title method capital each letter of string\n",
    "name=input(\"eneter name\")\n",
    "name=name.title()\n",
    "print(name)"
   ]
  },
  {
   "cell_type": "code",
   "execution_count": 9,
   "id": "f87d640f-17e8-4eea-ae9e-e704bfac40a5",
   "metadata": {},
   "outputs": [
    {
     "name": "stdin",
     "output_type": "stream",
     "text": [
      "eneter name ritesh kumar\n"
     ]
    },
    {
     "name": "stdout",
     "output_type": "stream",
     "text": [
      "['Ritesh', 'Kumar']\n",
      "Ritesh Kumar <class 'str'>\n"
     ]
    }
   ],
   "source": [
    "# without method\n",
    "# using list\n",
    "l=[]\n",
    "name=input(\"eneter name\")\n",
    "for i in name.split():\n",
    "    l.append(i.capitalize())\n",
    "s=\" \".join(l) # joiin will take each elemetn of list and join with seperator space convert into single stirng\n",
    "print(l)\n",
    "print(s,type(s))"
   ]
  },
  {
   "cell_type": "code",
   "execution_count": null,
   "id": "9f9b553e-5298-4187-9d7e-7d4f00080dfa",
   "metadata": {},
   "outputs": [],
   "source": [
    "11. Write a program that asks the user to enter two strings of the same length. The program should\n",
    "then check to see if the strings are of the same length. If they are not, the program should print an\n",
    "appropriate message and exit. If they are of the same length, the program should alternate the\n",
    "characters of the two strings. For example,\n",
    "if the user enters abcde and ABCDE\n",
    "the program should print out AaBbCcDdEe."
   ]
  },
  {
   "cell_type": "code",
   "execution_count": 13,
   "id": "deb9cc75-cc83-4ef0-bd66-40a823d3036f",
   "metadata": {},
   "outputs": [
    {
     "name": "stdin",
     "output_type": "stream",
     "text": [
      "enter one string abcde\n",
      "enter another string ABCDE\n"
     ]
    },
    {
     "name": "stdout",
     "output_type": "stream",
     "text": [
      "AaBbCcDdEe\n"
     ]
    }
   ],
   "source": [
    "s1=input(\"enter one string\")\n",
    "s2=input(\"enter another string\")\n",
    "s=\"\"\n",
    "if len(s1)==len(s2):\n",
    "    for i in range(len(s1)):\n",
    "        s=s+s2[i]+s1[i]\n",
    "    print(s)    \n",
    "        \n",
    "\n",
    "\n",
    "else:\n",
    "    print(\"please enter equal lenth string\")\n",
    "    "
   ]
  },
  {
   "cell_type": "code",
   "execution_count": null,
   "id": "fd48bb16-87c1-4242-b515-7a1ae002968d",
   "metadata": {},
   "outputs": [],
   "source": [
    "a) Without using the in operator, write a program that asks the user for a string and a letter\n",
    "and prints out whether or not the letter appears in the string"
   ]
  },
  {
   "cell_type": "code",
   "execution_count": 18,
   "id": "c263504a-573a-44a3-b3db-9cc46d98dbb5",
   "metadata": {},
   "outputs": [
    {
     "name": "stdin",
     "output_type": "stream",
     "text": [
      "enter a string ritesh\n",
      "enter letter which you want to check r\n"
     ]
    },
    {
     "name": "stdout",
     "output_type": "stream",
     "text": [
      "letter r is in input string ritesh\n"
     ]
    }
   ],
   "source": [
    "# in this if not found it will check for each itearation and pring else part \n",
    "# we have to avoid printing if not found on each iteratiion \n",
    "# we need to pring else part only once at the end of entire stirng\n",
    "str1=input(\"enter a string\")\n",
    "letter=input(\"enter letter which you want to check\")\n",
    "for i in str1:\n",
    "    if letter==i:\n",
    "        print(\"letter {} is in input string {}\".format(letter,str1))\n",
    "        break\n",
    "    else:\n",
    "        print(\"letter {} is not found in string {}\".format(letter,str1))\n",
    "        \n",
    "\n",
    "        "
   ]
  },
  {
   "cell_type": "code",
   "execution_count": 20,
   "id": "6d680011-3a7a-44e9-a480-d498b4ddf1b9",
   "metadata": {},
   "outputs": [
    {
     "name": "stdin",
     "output_type": "stream",
     "text": [
      "enter a string ritesh\n",
      "enter letter which you want to check k\n"
     ]
    },
    {
     "name": "stdout",
     "output_type": "stream",
     "text": [
      "letter k is not found in string ritesh\n"
     ]
    }
   ],
   "source": [
    "# this can we do using for with else \n",
    "# if break will inside if conditon will execute then else which outside for loop will not execute\n",
    "# break execute only once it find the letter\n",
    "# if not found then nothing will pring inside loop after all iteration else part will execute\n",
    "# beauty of for with else is if break execute elese will not execute\n",
    "str1=input(\"enter a string\")\n",
    "letter=input(\"enter letter which you want to check\")\n",
    "for i in str1:\n",
    "    if letter.lower()==i.lower():\n",
    "        print(\"letter {} is in input string {}\".format(letter,str1))\n",
    "        break\n",
    "else:\n",
    "    print(\"letter {} is not found in string {}\".format(letter,str1))\n",
    "        "
   ]
  },
  {
   "cell_type": "code",
   "execution_count": null,
   "id": "58286d15-abdd-483d-ba1a-c4a50369fdb5",
   "metadata": {},
   "outputs": [],
   "source": [
    "# if we use continue inside else \n",
    "str1=input(\"enter a string\")\n",
    "letter=input(\"enter letter which you want to check\")\n",
    "for i in str1:\n",
    "    if letter.lower()==i.lower(): # lower use to to avoid case senstive while checking\n",
    "        print(\"letter {} is in input string {}\".format(letter,str1))\n",
    "        break\n",
    "    else:\n",
    "        continue # if not found look to another iteartion \n",
    "print(\"nothing will find\") # but this will run every time we have to avoid this \n",
    "# that is for with else is better"
   ]
  },
  {
   "cell_type": "code",
   "execution_count": null,
   "id": "dba399fa-7d3b-4693-b87b-e7dab560d032",
   "metadata": {},
   "outputs": [],
   "source": [
    "(b) Without using the count method, write a program that asks the user for a string and a\n",
    "letter and counts how many occurrences there are of the letter in the string."
   ]
  },
  {
   "cell_type": "code",
   "execution_count": 22,
   "id": "cabdbdde-ecbf-4a77-b257-14fb80c9bd1f",
   "metadata": {},
   "outputs": [
    {
     "name": "stdin",
     "output_type": "stream",
     "text": [
      "enter a string ritesh\n",
      "enter letter which you want to check i\n"
     ]
    },
    {
     "name": "stdout",
     "output_type": "stream",
     "text": [
      "the number of occurances of i is 1\n"
     ]
    }
   ],
   "source": [
    "count=0\n",
    "str1=input(\"enter a string\")\n",
    "letter=input(\"enter letter which you want to check\")\n",
    "for i in str1:\n",
    "    if letter==i:\n",
    "        count+=1\n",
    "\n",
    "print(\"the number of occurances of {} is {}\".format(letter,count))\n",
    "        "
   ]
  },
  {
   "cell_type": "code",
   "execution_count": null,
   "id": "0742c106-1ffa-4f09-960a-92445503e9c7",
   "metadata": {},
   "outputs": [],
   "source": [
    "(c) Without using the index method, write a program that asks the user for a string and a\n",
    "letter and prints out the index of the first occurrence of the letter in the string. If the letter is\n",
    "not in the string, the program should say so."
   ]
  },
  {
   "cell_type": "code",
   "execution_count": 26,
   "id": "edaf055e-284e-435d-b461-8b9fe30f072f",
   "metadata": {},
   "outputs": [
    {
     "name": "stdin",
     "output_type": "stream",
     "text": [
      "enter a string retish\n",
      "enter letter which you want to check S\n"
     ]
    },
    {
     "name": "stdout",
     "output_type": "stream",
     "text": [
      "The index of S in string retish is 4\n"
     ]
    }
   ],
   "source": [
    "# it will give first occurance once if find it will break \n",
    "# we can modify it to give all occurance by removig break\n",
    "str1=input(\"enter a string\")\n",
    "letter=input(\"enter letter which you want to check\")\n",
    "for i in range(len(str1)):\n",
    "    if str1[i].lower()==letter.lower():\n",
    "        print(\"The index of {} in string {} is {}\".format(letter,str1,i))\n",
    "        break\n",
    "else:\n",
    "    print(\"{} index is not found in string {}\".format(letter,str1))\n",
    "        "
   ]
  },
  {
   "cell_type": "code",
   "execution_count": 27,
   "id": "6ab07e35-469c-4c0e-a208-c76aab561f73",
   "metadata": {},
   "outputs": [
    {
     "name": "stdin",
     "output_type": "stream",
     "text": [
      "enter a string riteshre\n",
      "enter letter which you want to check r\n"
     ]
    },
    {
     "name": "stdout",
     "output_type": "stream",
     "text": [
      "The index of r in string riteshre is 0\n",
      "The index of r in string riteshre is 6\n"
     ]
    }
   ],
   "source": [
    "# we can modify it to give all occurance by removig break\n",
    "str1=input(\"enter a string\")\n",
    "letter=input(\"enter letter which you want to check\")\n",
    "for i in range(len(str1)):\n",
    "    if str1[i].lower()==letter.lower():\n",
    "        print(\"The index of {} in string {} is {}\".format(letter,str1,i))\n",
    "\n",
    " "
   ]
  },
  {
   "cell_type": "code",
   "execution_count": null,
   "id": "b59b055a-1b43-49e1-bbe1-658fceca2174",
   "metadata": {},
   "outputs": [],
   "source": [
    "14. Finding a substring within a string\n",
    "For example, if we were presented a series of lines formatted as follows:\n",
    "From stephen.marquard@uct.ac.za Sat Jan 5 09:14:16 2008\n",
    "and we wanted to pull out only the second half of the address (i.e., uct.ac.za)\n",
    "\n"
   ]
  },
  {
   "cell_type": "code",
   "execution_count": 29,
   "id": "1b0003bb-c5f4-46ae-8ddc-6e32b16c5ca2",
   "metadata": {},
   "outputs": [
    {
     "name": "stdout",
     "output_type": "stream",
     "text": [
      "uct.ac.za\n"
     ]
    }
   ],
   "source": [
    "str1=\"stephen.marquard@uct.ac.za Sat Jan 5 09:14:16 2008\"\n",
    "s=str1[str1.find(\"@\")+1:str1.find(\" \")]# find is same as index only the differ is find nver through eror in case  not  found return-1\n",
    "print(s)"
   ]
  },
  {
   "cell_type": "code",
   "execution_count": null,
   "id": "e147e963-753f-4098-ad44-8cc53b96b580",
   "metadata": {},
   "outputs": [],
   "source": [
    "Write a Python program to add 'ing' at the end of a given string (length should be at least 3). If the\n",
    "given string already ends with 'ing' then add 'ly' instead.\n",
    "If the string length of the given string is less than 3, leave it unchanged.\n",
    "Go to the editor\n",
    "Sample String : 'abc'\n",
    "Expected Result : 'abcing'\n",
    "Sample String : 'string'\n",
    "Expected Result : 'stringly'"
   ]
  },
  {
   "cell_type": "code",
   "execution_count": 39,
   "id": "1f90ab75-6776-4c6f-a637-10ea3251d988",
   "metadata": {},
   "outputs": [
    {
     "name": "stdin",
     "output_type": "stream",
     "text": [
      "Enter string ing\n"
     ]
    },
    {
     "name": "stdout",
     "output_type": "stream",
     "text": [
      "ingly\n"
     ]
    }
   ],
   "source": [
    "str2=input(\"Enter string\")\n",
    "l=len(str2)\n",
    "if l>=3:\n",
    "    if str2.endswith(\"ing\"):\n",
    "        str2=str2+\"ly\"\n",
    "        print(str2)\n",
    "        \n",
    "    else:\n",
    "        str2=str2+\"ing\"\n",
    "        print(str2)\n",
    "        \n",
    "\n",
    "\n",
    "\n",
    "else:\n",
    "    print(str2)"
   ]
  },
  {
   "cell_type": "code",
   "execution_count": null,
   "id": "febeb8af-688f-42bd-8ca5-9773350b5e82",
   "metadata": {},
   "outputs": [],
   "source": [
    "Take the following Python code that stores a string:‘\n",
    "string = 'X-DSPAM-Confidence: 0.8475'\n",
    "Extract the portion of the string after the colon character and then use the float function to convert\n",
    "the extracted string into a floating point number."
   ]
  },
  {
   "cell_type": "code",
   "execution_count": 45,
   "id": "871ecc92-630a-4b05-86bb-bf3441b4e4db",
   "metadata": {},
   "outputs": [
    {
     "name": "stdout",
     "output_type": "stream",
     "text": [
      "0.847\n",
      "<class 'float'>\n"
     ]
    }
   ],
   "source": [
    "str3= 'X-DSPAM-Confidence:0.8475'\n",
    "f=float(str3[str3.find(\":\")+1:str3.find(\"'\",str3.find(\":\"))]) # starign index is includ while last is not in slicing\n",
    "print(f)\n",
    "print(type(f))\n",
    "\n",
    "\n"
   ]
  },
  {
   "cell_type": "code",
   "execution_count": null,
   "id": "ab283e10-3dce-41ed-9cc1-ff74bc0f42d3",
   "metadata": {},
   "outputs": [],
   "source": []
  },
  {
   "cell_type": "code",
   "execution_count": null,
   "id": "11ee1282-a06e-4ce7-a13a-90e7515262fa",
   "metadata": {},
   "outputs": [],
   "source": []
  },
  {
   "cell_type": "code",
   "execution_count": null,
   "id": "39d4488e-92a0-4926-9655-a864ea0a5ef6",
   "metadata": {},
   "outputs": [],
   "source": []
  }
 ],
 "metadata": {
  "kernelspec": {
   "display_name": "Python [conda env:base] *",
   "language": "python",
   "name": "conda-base-py"
  },
  "language_info": {
   "codemirror_mode": {
    "name": "ipython",
    "version": 3
   },
   "file_extension": ".py",
   "mimetype": "text/x-python",
   "name": "python",
   "nbconvert_exporter": "python",
   "pygments_lexer": "ipython3",
   "version": "3.13.5"
  }
 },
 "nbformat": 4,
 "nbformat_minor": 5
}
