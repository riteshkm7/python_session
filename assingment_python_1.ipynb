{
 "cells": [
  {
   "cell_type": "markdown",
   "id": "fdb15e4d-90a8-4041-94b9-f210e9bf647a",
   "metadata": {},
   "source": [
    "# 1. wap to to find the square\n",
    "x=eval(input(\"enter a number\"))\n",
    "sq=x*x\n",
    "print(\"The square of  the {} is {}\".format(x,sq))"
   ]
  },
  {
   "cell_type": "code",
   "execution_count": 4,
   "id": "e8ece169-f84f-4d4f-b8b1-c40f86279c16",
   "metadata": {},
   "outputs": [
    {
     "name": "stdin",
     "output_type": "stream",
     "text": [
      "enter a number 7\n"
     ]
    },
    {
     "name": "stdout",
     "output_type": "stream",
     "text": [
      "7---14---21---28---35\n"
     ]
    }
   ],
   "source": [
    "\"\"\"2. Ask the user to enter a number x. print out x, 2x, 3x, 4x, and 5x,\n",
    "each separated by three dashes, like below.\n",
    "Enter a number: 7\n",
    "7---14---21---28---35\"\"\"\n",
    "x=eval(input(\"enter a number\"))\n",
    "print(x*1, x*2, x*3, x*4, x*5,sep=\"---\")"
   ]
  },
  {
   "cell_type": "code",
   "execution_count": 9,
   "id": "fe382da8-58c8-4a4e-aa5a-c085fd6331ff",
   "metadata": {},
   "outputs": [
    {
     "name": "stdin",
     "output_type": "stream",
     "text": [
      "Enter weight in kilogram 4\n"
     ]
    },
    {
     "name": "stdout",
     "output_type": "stream",
     "text": [
      "The     4 kg weight  in the pound is 8.8\n"
     ]
    }
   ],
   "source": [
    "\"\"\"3.Write a program that asks the user for a weight in kilograms and\n",
    "converts it to pounds. There are 2.2 pounds in a kilogram.\"\"\"\n",
    "wkg=eval(input(\"Enter weight in kilogram\"))# taking input of  weight from user in kg\n",
    "# 1 kg =2.2 pound\n",
    "pound=wkg*2.2 # weight conversion in pound\n",
    "print(\"The {} kg weight  in the pound is {}\".format(wkg,pound))"
   ]
  },
  {
   "cell_type": "code",
   "execution_count": 14,
   "id": "86a5a0ae-c192-4e2c-9a71-7764396e6c37",
   "metadata": {},
   "outputs": [
    {
     "name": "stdin",
     "output_type": "stream",
     "text": [
      "enter first number 1\n",
      "enter 2nd number 2\n",
      "enter 3rd number 34\n"
     ]
    },
    {
     "name": "stdout",
     "output_type": "stream",
     "text": [
      "The sum of 1, 2 and 34 is:37 and the avg of 1, 2 and 34 is :12.333\n"
     ]
    }
   ],
   "source": [
    "#. sum and average\n",
    "x=eval(input(\"enter first number\"))\n",
    "y=eval(input(\"enter 2nd number\"))\n",
    "z=eval(input(\"enter 3rd number\"))\n",
    "add=x+y+z\n",
    "avg=round(add/3,3) # we can round of also upto three digit for avg\n",
    "\n",
    "print(\"The sum of {}, {} and {} is:{}\".format(x,y,z,add), end=\" and \")\n",
    "print(\"the avg of {}, {} and {} is :{}\".format(x,y,z,avg))\n",
    "#print(\"the average is of\", x,\",\", y, \"and\",z, \"is\", avg ) we can write in this way also"
   ]
  },
  {
   "cell_type": "code",
   "execution_count": null,
   "id": "21311274-2b75-406c-a044-69cef0e14f4e",
   "metadata": {},
   "outputs": [],
   "source": [
    "#5. tip value calculate\n",
    "x=eval(input(\"Enter the bill amount  of the product\"))\n",
    "tip=eval(input(\"enter the tip value on the product\"))\n",
    "total_bill=x+tip\n",
    "print(\"The tip valuse is\", tip, \"and the total bill value is  )"
   ]
  }
 ],
 "metadata": {
  "kernelspec": {
   "display_name": "Python [conda env:base] *",
   "language": "python",
   "name": "conda-base-py"
  },
  "language_info": {
   "codemirror_mode": {
    "name": "ipython",
    "version": 3
   },
   "file_extension": ".py",
   "mimetype": "text/x-python",
   "name": "python",
   "nbconvert_exporter": "python",
   "pygments_lexer": "ipython3",
   "version": "3.13.5"
  }
 },
 "nbformat": 4,
 "nbformat_minor": 5
}
