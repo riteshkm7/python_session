{
 "cells": [
  {
   "cell_type": "markdown",
   "id": "becffd53-5feb-4abf-bb9f-50b648726951",
   "metadata": {},
   "source": [
    "## hashable ###\n",
    "- iterator which is immutable they are hashable\n",
    "   - like str,tuple,frozenset\n",
    "- iterator which mutable they are not hashable\n",
    "   - list,dict,set\n",
    "\n",
    "\n",
    "- A hashable object can the elements of set and also it can be key of dictionary\n",
    "- but not hashable can't be key of dictinary and cannot be set elements\n",
    "  that is in dic key cannot be list,set,dic"
   ]
  },
  {
   "cell_type": "code",
   "execution_count": null,
   "id": "67db3cff-9172-429a-a157-b76edd1d34dd",
   "metadata": {},
   "outputs": [],
   "source": []
  }
 ],
 "metadata": {
  "kernelspec": {
   "display_name": "Python [conda env:base] *",
   "language": "python",
   "name": "conda-base-py"
  },
  "language_info": {
   "codemirror_mode": {
    "name": "ipython",
    "version": 3
   },
   "file_extension": ".py",
   "mimetype": "text/x-python",
   "name": "python",
   "nbconvert_exporter": "python",
   "pygments_lexer": "ipython3",
   "version": "3.13.5"
  }
 },
 "nbformat": 4,
 "nbformat_minor": 5
}
