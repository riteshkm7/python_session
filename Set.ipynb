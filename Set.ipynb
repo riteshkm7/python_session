{
 "cells": [
  {
   "cell_type": "markdown",
   "id": "147490e5-cd43-4a76-b704-69d6bfddde35",
   "metadata": {},
   "source": [
    "### set ###\n",
    "- a set is collection of  unorder elements\n",
    "- it is unhashable means mutable\n",
    "- set write the under the {} breaces\n",
    "- in set in which order we have enter the elements not guarnatee that they store in same order in which they insert\n",
    "- they is no indexing concept in set we can't access element in set using index\n",
    "- emptly set can be creat using only set function set(iterator)\n",
    "- it does not allow the dublicates vallue\n",
    "- it can contain different typt of elements but list and set itself can't store\n",
    "- set is the only iterable which has  no sequence means elements are store in unorder way "
   ]
  },
  {
   "cell_type": "code",
   "execution_count": 1,
   "id": "8066d0ba-a0d2-40c8-a301-c0a559870eda",
   "metadata": {},
   "outputs": [
    {
     "name": "stdout",
     "output_type": "stream",
     "text": [
      "{0, 1, 2, 3, 5}\n"
     ]
    }
   ],
   "source": [
    "# insertiong order not matter \n",
    "s={1,2,3,5,0}\n",
    "print(s) # once the elements store and print during the  printing in which order elements come reamin same "
   ]
  },
  {
   "cell_type": "code",
   "execution_count": 2,
   "id": "d979e64d-1ac0-452b-975c-e36a1b7f9809",
   "metadata": {},
   "outputs": [
    {
     "name": "stdout",
     "output_type": "stream",
     "text": [
      "{0, 1, 2, 3, 5}\n"
     ]
    }
   ],
   "source": [
    "print(s) # not changes "
   ]
  },
  {
   "cell_type": "code",
   "execution_count": 3,
   "id": "6ee15397-ca98-4111-a2ce-6b727321c105",
   "metadata": {},
   "outputs": [
    {
     "name": "stdout",
     "output_type": "stream",
     "text": [
      "{0, 1, 2, 3, 5}\n"
     ]
    }
   ],
   "source": [
    "# not allowed dublicates value\n",
    "s1={1,2,2,3,6}\n",
    "print(s)"
   ]
  },
  {
   "cell_type": "code",
   "execution_count": 5,
   "id": "14097b60-f2f7-4c4c-a33f-0c7af96eda7a",
   "metadata": {},
   "outputs": [
    {
     "name": "stdout",
     "output_type": "stream",
     "text": [
      "{1, (1, 2), (4+3j), 'ab'}\n"
     ]
    }
   ],
   "source": [
    "# inside set we can't put not hashable elements like list and  set itselt\n",
    "s2={1,\"ab\",4+3j,(1,2)}\n",
    "print(s2)"
   ]
  },
  {
   "cell_type": "code",
   "execution_count": 6,
   "id": "767a46a8-28ed-4f87-b285-476b8a8c6a54",
   "metadata": {},
   "outputs": [
    {
     "ename": "TypeError",
     "evalue": "unhashable type: 'set'",
     "output_type": "error",
     "traceback": [
      "\u001b[1;31m---------------------------------------------------------------------------\u001b[0m",
      "\u001b[1;31mTypeError\u001b[0m                                 Traceback (most recent call last)",
      "Cell \u001b[1;32mIn[6], line 2\u001b[0m\n\u001b[0;32m      1\u001b[0m \u001b[38;5;66;03m# we can't put a set inside set as a element\u001b[39;00m\n\u001b[1;32m----> 2\u001b[0m s2\u001b[38;5;241m=\u001b[39m{\u001b[38;5;241m1\u001b[39m,\u001b[38;5;124m\"\u001b[39m\u001b[38;5;124mab\u001b[39m\u001b[38;5;124m\"\u001b[39m,\u001b[38;5;241m4\u001b[39m\u001b[38;5;241m+\u001b[39m\u001b[38;5;241m3\u001b[39mj,(\u001b[38;5;241m1\u001b[39m,\u001b[38;5;241m2\u001b[39m),{\u001b[38;5;241m1\u001b[39m,\u001b[38;5;241m2\u001b[39m}}\n",
      "\u001b[1;31mTypeError\u001b[0m: unhashable type: 'set'"
     ]
    }
   ],
   "source": [
    "# we can't put a set inside set as a element\n",
    "s2={1,\"ab\",4+3j,(1,2),{1,2}}\n"
   ]
  },
  {
   "cell_type": "code",
   "execution_count": 8,
   "id": "fce3fa8f-6ad3-4419-8f8e-edc783641e8e",
   "metadata": {},
   "outputs": [
    {
     "ename": "TypeError",
     "evalue": "unhashable type: 'list'",
     "output_type": "error",
     "traceback": [
      "\u001b[1;31m---------------------------------------------------------------------------\u001b[0m",
      "\u001b[1;31mTypeError\u001b[0m                                 Traceback (most recent call last)",
      "Cell \u001b[1;32mIn[8], line 2\u001b[0m\n\u001b[0;32m      1\u001b[0m \u001b[38;5;66;03m# we can't put a list inside set\u001b[39;00m\n\u001b[1;32m----> 2\u001b[0m s2\u001b[38;5;241m=\u001b[39m{\u001b[38;5;241m1\u001b[39m,\u001b[38;5;124m\"\u001b[39m\u001b[38;5;124mab\u001b[39m\u001b[38;5;124m\"\u001b[39m,\u001b[38;5;241m4\u001b[39m\u001b[38;5;241m+\u001b[39m\u001b[38;5;241m3\u001b[39mj,(\u001b[38;5;241m1\u001b[39m,\u001b[38;5;241m2\u001b[39m),[\u001b[38;5;241m1\u001b[39m,\u001b[38;5;241m2\u001b[39m]}\n",
      "\u001b[1;31mTypeError\u001b[0m: unhashable type: 'list'"
     ]
    }
   ],
   "source": [
    "# we can't put a list inside set\n",
    "s2={1,\"ab\",4+3j,(1,2),[1,2]}"
   ]
  },
  {
   "cell_type": "markdown",
   "id": "8a1e6aa6-fc91-4be6-a7e9-835a2892e510",
   "metadata": {},
   "source": [
    "$ type $\n",
    "- it will return the type as set"
   ]
  },
  {
   "cell_type": "code",
   "execution_count": 10,
   "id": "8a45b222-d7b0-4e37-8f50-785de2a5ef10",
   "metadata": {},
   "outputs": [
    {
     "name": "stdout",
     "output_type": "stream",
     "text": [
      "<class 'set'>\n"
     ]
    }
   ],
   "source": [
    "s2={1,\"ab\",4+3j,(1,2)}\n",
    "print(type(s2))"
   ]
  },
  {
   "cell_type": "markdown",
   "id": "e8ee83f3-880d-4a6a-82ae-e6ed57da465b",
   "metadata": {},
   "source": [
    "$ len - min- max-sorted-reversed-sum $\n",
    "- to know the detail see the tuple chapter"
   ]
  },
  {
   "cell_type": "code",
   "execution_count": 11,
   "id": "4eb5df37-2dea-4204-bc99-e211248c0075",
   "metadata": {},
   "outputs": [
    {
     "name": "stdout",
     "output_type": "stream",
     "text": [
      "4\n"
     ]
    }
   ],
   "source": [
    "# LEN\n",
    "s2={1,\"ab\",4+3j,(1,2)}\n",
    "print(len(s2))\n"
   ]
  },
  {
   "cell_type": "code",
   "execution_count": 12,
   "id": "c93333f7-6622-4a47-94f7-81382869cb13",
   "metadata": {},
   "outputs": [
    {
     "name": "stdout",
     "output_type": "stream",
     "text": [
      "10\n"
     ]
    }
   ],
   "source": [
    "# max\n",
    "s3={1,2,3,4,10}\n",
    "print(max(s3))"
   ]
  },
  {
   "cell_type": "code",
   "execution_count": 13,
   "id": "bdbaba94-82e5-4176-8ad5-5eb378179e8a",
   "metadata": {},
   "outputs": [
    {
     "name": "stdout",
     "output_type": "stream",
     "text": [
      "1\n"
     ]
    }
   ],
   "source": [
    "# min\n",
    "s3={1,2,3,4,10}\n",
    "print(min(s3))\n"
   ]
  },
  {
   "cell_type": "code",
   "execution_count": 16,
   "id": "bc94f7dc-5a69-46c4-ad30-1d44c9b5486e",
   "metadata": {},
   "outputs": [
    {
     "name": "stdout",
     "output_type": "stream",
     "text": [
      "max is a and min is AA \n"
     ]
    }
   ],
   "source": [
    "# return on the base of ascii \n",
    "s2={\"a\",\"AA\"}\n",
    "print(\"max is {} and min is {} \".format(max(s2),min(s2)))"
   ]
  },
  {
   "cell_type": "code",
   "execution_count": 17,
   "id": "3006f065-3018-47f2-a66a-7e62812559cb",
   "metadata": {},
   "outputs": [
    {
     "name": "stdout",
     "output_type": "stream",
     "text": [
      "max is CCC and min is a \n"
     ]
    }
   ],
   "source": [
    "# on the basis of len key=len\n",
    "s2={\"a\",\"AA\",\"CCC\"}\n",
    "print(\"max is {} and min is {} \".format(max(s2,key=len),min(s2,key=len)))"
   ]
  },
  {
   "cell_type": "code",
   "execution_count": 18,
   "id": "c40d4786-1f41-410e-b73a-fb9f29ed1f26",
   "metadata": {},
   "outputs": [
    {
     "name": "stdout",
     "output_type": "stream",
     "text": [
      "10\n"
     ]
    }
   ],
   "source": [
    "# sum it will return the sum of numberic\n",
    "s4={1,2,3,4}\n",
    "print(sum(s4))"
   ]
  },
  {
   "cell_type": "code",
   "execution_count": 19,
   "id": "3d1cc4bd-5b43-489e-b7ac-e9b66907d5df",
   "metadata": {},
   "outputs": [
    {
     "ename": "TypeError",
     "evalue": "unsupported operand type(s) for +: 'int' and 'str'",
     "output_type": "error",
     "traceback": [
      "\u001b[1;31m---------------------------------------------------------------------------\u001b[0m",
      "\u001b[1;31mTypeError\u001b[0m                                 Traceback (most recent call last)",
      "Cell \u001b[1;32mIn[19], line 3\u001b[0m\n\u001b[0;32m      1\u001b[0m \u001b[38;5;66;03m# sum it will return the sum of numberic it will not add string \u001b[39;00m\n\u001b[0;32m      2\u001b[0m s4\u001b[38;5;241m=\u001b[39m{\u001b[38;5;124m\"\u001b[39m\u001b[38;5;124ma\u001b[39m\u001b[38;5;124m\"\u001b[39m,\u001b[38;5;124m\"\u001b[39m\u001b[38;5;124mb\u001b[39m\u001b[38;5;124m\"\u001b[39m}\n\u001b[1;32m----> 3\u001b[0m \u001b[38;5;28mprint\u001b[39m(\u001b[38;5;28msum\u001b[39m(s4))\n",
      "\u001b[1;31mTypeError\u001b[0m: unsupported operand type(s) for +: 'int' and 'str'"
     ]
    }
   ],
   "source": [
    "# sum it will return the sum of numberic it will not add string \n",
    "s4={\"a\",\"b\"}\n",
    "print(sum(s4))"
   ]
  },
  {
   "cell_type": "code",
   "execution_count": 20,
   "id": "f17d01c0-634e-4e2c-b334-7c17c6cde863",
   "metadata": {},
   "outputs": [
    {
     "name": "stdout",
     "output_type": "stream",
     "text": [
      "[0, 1, 2, 3, 5]\n"
     ]
    }
   ],
   "source": [
    "# sorted \n",
    "s5={1,2,33,45,53,2,0}\n",
    "print(sorted(s))"
   ]
  },
  {
   "cell_type": "code",
   "execution_count": 21,
   "id": "b57ad0db-21f8-419e-90f1-325af4139f38",
   "metadata": {},
   "outputs": [
    {
     "name": "stdout",
     "output_type": "stream",
     "text": [
      "[5, 3, 2, 1, 0]\n"
     ]
    }
   ],
   "source": [
    "# sorted in descen with reverse=\"True\" arg passing in sorted\n",
    "s5={1,2,33,45,53,2,0}\n",
    "print(sorted(s,reverse=\"True\"))"
   ]
  },
  {
   "cell_type": "code",
   "execution_count": 26,
   "id": "436fc286-b6cc-4422-a0db-b801baabfd4c",
   "metadata": {},
   "outputs": [
    {
     "ename": "TypeError",
     "evalue": "'<' not supported between instances of 'str' and 'int'",
     "output_type": "error",
     "traceback": [
      "\u001b[1;31m---------------------------------------------------------------------------\u001b[0m",
      "\u001b[1;31mTypeError\u001b[0m                                 Traceback (most recent call last)",
      "Cell \u001b[1;32mIn[26], line 3\u001b[0m\n\u001b[0;32m      1\u001b[0m \u001b[38;5;66;03m# will not work on different type of date \u001b[39;00m\n\u001b[0;32m      2\u001b[0m s5\u001b[38;5;241m=\u001b[39m{\u001b[38;5;241m1\u001b[39m,\u001b[38;5;241m2\u001b[39m,\u001b[38;5;241m33\u001b[39m,\u001b[38;5;241m45\u001b[39m,\u001b[38;5;241m53\u001b[39m,\u001b[38;5;241m2\u001b[39m,\u001b[38;5;241m0\u001b[39m,\u001b[38;5;124m\"\u001b[39m\u001b[38;5;124mab\u001b[39m\u001b[38;5;124m\"\u001b[39m}\n\u001b[1;32m----> 3\u001b[0m \u001b[38;5;28mprint\u001b[39m(\u001b[38;5;28msorted\u001b[39m(s5))\n",
      "\u001b[1;31mTypeError\u001b[0m: '<' not supported between instances of 'str' and 'int'"
     ]
    }
   ],
   "source": [
    "# will not work on different type of date \n",
    "s5={1,2,33,45,53,2,0,\"ab\"}\n",
    "print(sorted(s5))"
   ]
  },
  {
   "cell_type": "code",
   "execution_count": 28,
   "id": "cf87b1d7-ce8d-4462-8438-963444507d5a",
   "metadata": {},
   "outputs": [
    {
     "name": "stdout",
     "output_type": "stream",
     "text": [
      "['a', 'bb', 'ccc']\n"
     ]
    }
   ],
   "source": [
    "# sort on the basis of ascii\n",
    "s6={\"a\",\"bb\",\"ccc\"}\n",
    "print(sorted(s6))"
   ]
  },
  {
   "cell_type": "code",
   "execution_count": 29,
   "id": "176d50b6-61d3-4bde-bd8a-a944e2137b9f",
   "metadata": {},
   "outputs": [
    {
     "name": "stdout",
     "output_type": "stream",
     "text": [
      "['ccc', 'bb', 'a']\n"
     ]
    }
   ],
   "source": [
    "# sort on the basis of len in descending \n",
    "s6={\"a\",\"bb\",\"ccc\"}\n",
    "print(sorted(s6,key=len,reverse=\"True\"))"
   ]
  },
  {
   "cell_type": "code",
   "execution_count": 31,
   "id": "9471e62c-9f03-4a03-9fe0-415533064e88",
   "metadata": {},
   "outputs": [
    {
     "ename": "TypeError",
     "evalue": "unsupported operand type(s) for +: 'set' and 'set'",
     "output_type": "error",
     "traceback": [
      "\u001b[1;31m---------------------------------------------------------------------------\u001b[0m",
      "\u001b[1;31mTypeError\u001b[0m                                 Traceback (most recent call last)",
      "Cell \u001b[1;32mIn[31], line 4\u001b[0m\n\u001b[0;32m      2\u001b[0m s1\u001b[38;5;241m=\u001b[39m{\u001b[38;5;241m1\u001b[39m,\u001b[38;5;241m2\u001b[39m,\u001b[38;5;241m3\u001b[39m}\n\u001b[0;32m      3\u001b[0m s2\u001b[38;5;241m=\u001b[39m{\u001b[38;5;241m3\u001b[39m,\u001b[38;5;241m4\u001b[39m,\u001b[38;5;241m5\u001b[39m}\n\u001b[1;32m----> 4\u001b[0m \u001b[38;5;28mprint\u001b[39m(s1\u001b[38;5;241m+\u001b[39ms2)\n\u001b[0;32m      5\u001b[0m \u001b[38;5;28mprint\u001b[39m(s1\u001b[38;5;241m-\u001b[39ms2)\n",
      "\u001b[1;31mTypeError\u001b[0m: unsupported operand type(s) for +: 'set' and 'set'"
     ]
    }
   ],
   "source": [
    "# can't add two set\n",
    "s1={1,2,3}\n",
    "s2={3,4,5}\n",
    "print(s1+s2)\n",
    "print(s1-s2)"
   ]
  },
  {
   "cell_type": "code",
   "execution_count": 44,
   "id": "16f0a147-8d5d-4268-bdf2-8d9aefc57ba0",
   "metadata": {},
   "outputs": [
    {
     "name": "stdout",
     "output_type": "stream",
     "text": [
      "{1, 2}\n"
     ]
    },
    {
     "data": {
      "text/plain": [
       "{1, 2, 3}"
      ]
     },
     "execution_count": 44,
     "metadata": {},
     "output_type": "execute_result"
    }
   ],
   "source": [
    "# we can subtrack two set\n",
    "# it is like A-B operation in set all common element remove from a a make a new set no chnages in original\n",
    "s1={1,2,3}\n",
    "s2={3,4}\n",
    "print(s1-s2)\n",
    "s1"
   ]
  },
  {
   "cell_type": "code",
   "execution_count": 33,
   "id": "2a3faa75-34eb-44b2-aced-dd41ee546bc9",
   "metadata": {},
   "outputs": [
    {
     "ename": "TypeError",
     "evalue": "unsupported operand type(s) for /: 'set' and 'set'",
     "output_type": "error",
     "traceback": [
      "\u001b[1;31m---------------------------------------------------------------------------\u001b[0m",
      "\u001b[1;31mTypeError\u001b[0m                                 Traceback (most recent call last)",
      "Cell \u001b[1;32mIn[33], line 4\u001b[0m\n\u001b[0;32m      2\u001b[0m s1\u001b[38;5;241m=\u001b[39m{\u001b[38;5;241m1\u001b[39m,\u001b[38;5;241m2\u001b[39m,\u001b[38;5;241m3\u001b[39m}\n\u001b[0;32m      3\u001b[0m s2\u001b[38;5;241m=\u001b[39m{\u001b[38;5;241m3\u001b[39m,\u001b[38;5;241m4\u001b[39m,\u001b[38;5;241m5\u001b[39m}\n\u001b[1;32m----> 4\u001b[0m \u001b[38;5;28mprint\u001b[39m(s1\u001b[38;5;241m/\u001b[39ms2)\n",
      "\u001b[1;31mTypeError\u001b[0m: unsupported operand type(s) for /: 'set' and 'set'"
     ]
    }
   ],
   "source": [
    "# can't divide two set\n",
    "s1={1,2,3}\n",
    "s2={3,4,5}\n",
    "print(s1/s2)"
   ]
  },
  {
   "cell_type": "code",
   "execution_count": 34,
   "id": "c3783d2f-5c2b-401d-8484-c52ebc6cbb5e",
   "metadata": {},
   "outputs": [
    {
     "ename": "TypeError",
     "evalue": "unsupported operand type(s) for *: 'set' and 'set'",
     "output_type": "error",
     "traceback": [
      "\u001b[1;31m---------------------------------------------------------------------------\u001b[0m",
      "\u001b[1;31mTypeError\u001b[0m                                 Traceback (most recent call last)",
      "Cell \u001b[1;32mIn[34], line 4\u001b[0m\n\u001b[0;32m      2\u001b[0m s1\u001b[38;5;241m=\u001b[39m{\u001b[38;5;241m1\u001b[39m,\u001b[38;5;241m2\u001b[39m,\u001b[38;5;241m3\u001b[39m}\n\u001b[0;32m      3\u001b[0m s2\u001b[38;5;241m=\u001b[39m{\u001b[38;5;241m3\u001b[39m,\u001b[38;5;241m4\u001b[39m,\u001b[38;5;241m5\u001b[39m}\n\u001b[1;32m----> 4\u001b[0m \u001b[38;5;28mprint\u001b[39m(s1\u001b[38;5;241m*\u001b[39ms2)\n",
      "\u001b[1;31mTypeError\u001b[0m: unsupported operand type(s) for *: 'set' and 'set'"
     ]
    }
   ],
   "source": [
    "# can't mul two set\n",
    "s1={1,2,3}\n",
    "s2={3,4,5}\n",
    "print(s1*s2)"
   ]
  },
  {
   "cell_type": "code",
   "execution_count": 45,
   "id": "d7e1b27b-621c-4f66-861b-d2161f2ff445",
   "metadata": {},
   "outputs": [
    {
     "ename": "TypeError",
     "evalue": "unsupported operand type(s) for *: 'set' and 'int'",
     "output_type": "error",
     "traceback": [
      "\u001b[1;31m---------------------------------------------------------------------------\u001b[0m",
      "\u001b[1;31mTypeError\u001b[0m                                 Traceback (most recent call last)",
      "Cell \u001b[1;32mIn[45], line 2\u001b[0m\n\u001b[0;32m      1\u001b[0m s1\u001b[38;5;241m=\u001b[39m{\u001b[38;5;241m1\u001b[39m,\u001b[38;5;241m2\u001b[39m,\u001b[38;5;241m3\u001b[39m}\n\u001b[1;32m----> 2\u001b[0m \u001b[38;5;28mprint\u001b[39m(s1\u001b[38;5;241m*\u001b[39m\u001b[38;5;241m2\u001b[39m)\n",
      "\u001b[1;31mTypeError\u001b[0m: unsupported operand type(s) for *: 'set' and 'int'"
     ]
    }
   ],
   "source": [
    "# can't multiply a set with int\n",
    "s1={1,2,3}\n",
    "print(s1*2)"
   ]
  },
  {
   "cell_type": "code",
   "execution_count": 35,
   "id": "e0a8ddff-592a-4c42-b7e0-edf6090fa92a",
   "metadata": {},
   "outputs": [
    {
     "data": {
      "text/plain": [
       "False"
      ]
     },
     "execution_count": 35,
     "metadata": {},
     "output_type": "execute_result"
    }
   ],
   "source": [
    "# we can apply equality operator in set\n",
    "s1={1,2,3}\n",
    "s2={3,4,5}\n",
    "s1==s2"
   ]
  },
  {
   "cell_type": "code",
   "execution_count": 36,
   "id": "4fb14573-4adf-4718-b34c-902092779068",
   "metadata": {},
   "outputs": [
    {
     "data": {
      "text/plain": [
       "True"
      ]
     },
     "execution_count": 36,
     "metadata": {},
     "output_type": "execute_result"
    }
   ],
   "source": [
    "# we can apply equality operator in set\n",
    "s1={1,2,3}\n",
    "s2={3,2,1}\n",
    "s1==s2\n",
    "# return ture becos set contain same elements becoz in set order not matter"
   ]
  },
  {
   "cell_type": "code",
   "execution_count": 38,
   "id": "3a0a04e6-e5bd-4a26-b0bc-510ecd59596d",
   "metadata": {},
   "outputs": [
    {
     "data": {
      "text/plain": [
       "True"
      ]
     },
     "execution_count": 38,
     "metadata": {},
     "output_type": "execute_result"
    }
   ],
   "source": [
    "# but in other iterable must be in same sequence only then it return true becoz they are sequence iterable \n",
    "l1=[1,2,3]\n",
    "l2=[1,2,3]\n",
    "l1==l2"
   ]
  },
  {
   "cell_type": "code",
   "execution_count": 39,
   "id": "6ebc592c-fdfd-46d6-8b94-0857404b5b99",
   "metadata": {},
   "outputs": [
    {
     "data": {
      "text/plain": [
       "False"
      ]
     },
     "execution_count": 39,
     "metadata": {},
     "output_type": "execute_result"
    }
   ],
   "source": [
    "l1=[1,2,3]\n",
    "l2=[3,2,1]\n",
    "l1==l2"
   ]
  },
  {
   "cell_type": "markdown",
   "id": "754671a6-750a-489c-9737-e370c132678f",
   "metadata": {},
   "source": [
    "$ reversed $\n",
    "- we can't apply the reversed keyword in in set because it is irreversible because there is no sequence \n"
   ]
  },
  {
   "cell_type": "code",
   "execution_count": 47,
   "id": "47533456-0552-40a2-b80d-4c2c4f5f31f4",
   "metadata": {},
   "outputs": [
    {
     "name": "stdout",
     "output_type": "stream",
     "text": [
      "{1, 2, 3, 4, 10}\n"
     ]
    }
   ],
   "source": [
    "s1={1,2,3,4,10}\n",
    "print(s1)"
   ]
  },
  {
   "cell_type": "code",
   "execution_count": 48,
   "id": "837eef91-e82b-4107-aee2-a121ba553755",
   "metadata": {},
   "outputs": [
    {
     "ename": "TypeError",
     "evalue": "'set' object is not reversible",
     "output_type": "error",
     "traceback": [
      "\u001b[1;31m---------------------------------------------------------------------------\u001b[0m",
      "\u001b[1;31mTypeError\u001b[0m                                 Traceback (most recent call last)",
      "Cell \u001b[1;32mIn[48], line 1\u001b[0m\n\u001b[1;32m----> 1\u001b[0m \u001b[38;5;28;01mfor\u001b[39;00m i \u001b[38;5;129;01min\u001b[39;00m \u001b[38;5;28mreversed\u001b[39m(s1):\n\u001b[0;32m      2\u001b[0m     \u001b[38;5;28mprint\u001b[39m(i,end\u001b[38;5;241m=\u001b[39m\u001b[38;5;124m\"\u001b[39m\u001b[38;5;124m \u001b[39m\u001b[38;5;124m\"\u001b[39m)\n",
      "\u001b[1;31mTypeError\u001b[0m: 'set' object is not reversible"
     ]
    }
   ],
   "source": [
    "for i in reversed(s1):\n",
    "    print(i,end=\" \")"
   ]
  },
  {
   "cell_type": "markdown",
   "id": "3110a0ab-945d-407c-afa5-6d391f37c116",
   "metadata": {},
   "source": [
    "$ access - the- set $\n",
    "- as it is not index base\n",
    "\n",
    "- so we need to access the element using in operator\n",
    "\n",
    "- we can't access any particuler item in set because having not index and it unorder way store "
   ]
  },
  {
   "cell_type": "code",
   "execution_count": 53,
   "id": "f477c05e-0c77-469c-ae76-6ab1ff23759e",
   "metadata": {},
   "outputs": [
    {
     "name": "stdout",
     "output_type": "stream",
     "text": [
      "1 2 3 4 5 ritesh 7 "
     ]
    }
   ],
   "source": [
    "s={1,2,3,2,3,4,5,7,4,\"ritesh\"}\n",
    "for i in s:\n",
    "    print(i,end=\" \")\n"
   ]
  },
  {
   "cell_type": "markdown",
   "id": "8cf20cfa-5f6f-41f3-8727-020669473610",
   "metadata": {},
   "source": [
    "$ taking - set-from -user-as -input $\n",
    "- using split as same as taking list as input \n",
    "\n",
    "- we can also use list comprehension \n",
    "\n",
    "- in set also set comprehension same as list comprehension "
   ]
  },
  {
   "cell_type": "code",
   "execution_count": 55,
   "id": "4e3ff3ed-ae7d-441a-8282-29c137834d97",
   "metadata": {},
   "outputs": [
    {
     "name": "stdin",
     "output_type": "stream",
     "text": [
      "enter number sep  by coma 1,2,3,4,5.5\n"
     ]
    },
    {
     "name": "stdout",
     "output_type": "stream",
     "text": [
      "[1, 2, 3, 4, 5.5]\n"
     ]
    }
   ],
   "source": [
    "# taking list of number as input \n",
    "str1=input(\"enter number sep  by coma\")\n",
    "l=[eval(i) for i in str1.split(\",\")] # split convert str into list and then access each element using for loop to convern into int or float\n",
    "print(l)\n"
   ]
  },
  {
   "cell_type": "code",
   "execution_count": 56,
   "id": "55483a4b-662d-4451-9726-6329fbb59b31",
   "metadata": {},
   "outputs": [
    {
     "name": "stdin",
     "output_type": "stream",
     "text": [
      "enter number sep  by coma 1,2,3,4\n"
     ]
    },
    {
     "name": "stdout",
     "output_type": "stream",
     "text": [
      "[1, 2, 3, 4]\n"
     ]
    }
   ],
   "source": [
    "# without list comprehension\n",
    "str1=input(\"enter number sep  by coma\")\n",
    "l=str1.split(\",\")\n",
    "l1=[]\n",
    "for i in l:\n",
    "    l1.append(int(i))\n",
    "print(l1)    \n",
    "\n",
    "    "
   ]
  },
  {
   "cell_type": "code",
   "execution_count": 57,
   "id": "bcb221b6-fd07-452c-879d-9536c02c1331",
   "metadata": {},
   "outputs": [
    {
     "name": "stdin",
     "output_type": "stream",
     "text": [
      "enter number sep  by coma 1,2,3,4,4,5,10.3,3+5j\n"
     ]
    },
    {
     "name": "stdout",
     "output_type": "stream",
     "text": [
      "{1, 2, 3, 4, 5, 10.3, (3+5j)}\n"
     ]
    }
   ],
   "source": [
    "# taking set as input set comprehension \n",
    "str1=input(\"enter number sep  by coma\")\n",
    "\n",
    "s={eval(i) for i in str1.split(\",\")}\n",
    "print(s)"
   ]
  },
  {
   "cell_type": "code",
   "execution_count": null,
   "id": "058985e5-827e-46d7-8f85-11ea8c387fda",
   "metadata": {},
   "outputs": [],
   "source": [
    "# to create a empty set\n",
    "s={} # can't do like this in this way empty dic will creat\n",
    "# to creat emptly set we need set() function \n"
   ]
  },
  {
   "cell_type": "code",
   "execution_count": 58,
   "id": "59504137-2071-41e8-b6c2-e1c5702ad089",
   "metadata": {},
   "outputs": [
    {
     "name": "stdout",
     "output_type": "stream",
     "text": [
      "{1, 2, 3, 4}\n"
     ]
    }
   ],
   "source": [
    "# set take a iterable \n",
    "l=[1,2,3,4]\n",
    "s=set(l)\n",
    "print(s)"
   ]
  },
  {
   "cell_type": "code",
   "execution_count": 59,
   "id": "39705bee-1faa-4f4e-8135-7d0e2d9c0bf6",
   "metadata": {},
   "outputs": [
    {
     "data": {
      "text/plain": [
       "{1, 2}"
      ]
     },
     "execution_count": 59,
     "metadata": {},
     "output_type": "execute_result"
    }
   ],
   "source": [
    "# if dict pass as key is major in all case that is why on key value set if formed \n",
    "set({1:\"rties\",2:\"akau\"})"
   ]
  },
  {
   "cell_type": "code",
   "execution_count": 60,
   "id": "3ba7ed9b-616b-4a35-a9ec-d6cf5f6068e3",
   "metadata": {},
   "outputs": [
    {
     "data": {
      "text/plain": [
       "[12, 3, 4]"
      ]
     },
     "execution_count": 60,
     "metadata": {},
     "output_type": "execute_result"
    }
   ],
   "source": [
    "# list function aslo take iterable\n",
    "list((12,3,4))"
   ]
  },
  {
   "cell_type": "code",
   "execution_count": 61,
   "id": "09c461b8-0f9b-4504-b8bb-9f5a82e6fceb",
   "metadata": {},
   "outputs": [
    {
     "data": {
      "text/plain": [
       "(1, 2)"
      ]
     },
     "execution_count": 61,
     "metadata": {},
     "output_type": "execute_result"
    }
   ],
   "source": [
    "# tuple fucntion take iterable \n",
    "tuple([1,2])"
   ]
  },
  {
   "cell_type": "code",
   "execution_count": 69,
   "id": "35c54e65-3caa-48fc-be3c-18cf8b73bf8f",
   "metadata": {},
   "outputs": [
    {
     "data": {
      "text/plain": [
       "\"('re', 'af')\""
      ]
     },
     "execution_count": 69,
     "metadata": {},
     "output_type": "execute_result"
    }
   ],
   "source": [
    "# str function not take iterable convert any value inside str function into stifn\n",
    "str([1,2,3])\n",
    "str(1)\n",
    "#str(ritesh) # this will not convert into str as ritesh take as variable which is not define\n",
    "# while another numberic value if pass then it convert into stirn g\n",
    "str(1234324324)\n",
    "str((\"re\",\"af\")) # a tuple is pass convernt into str\n",
    "# if in str any iterator will  pass that it will convert them into str"
   ]
  },
  {
   "cell_type": "code",
   "execution_count": 74,
   "id": "65962062-d431-4ee6-b07e-4a409b50bff6",
   "metadata": {},
   "outputs": [
    {
     "data": {
      "text/plain": [
       "{1: 2, 3: 5}"
      ]
     },
     "execution_count": 74,
     "metadata": {},
     "output_type": "execute_result"
    }
   ],
   "source": [
    "# in dictionary function dict is used value must be pass in key value pair in list of tuple\n",
    "dict([(1,2),(3,5)])\n"
   ]
  },
  {
   "cell_type": "markdown",
   "id": "727e5b9c-5ddc-44e3-9847-f04c3bcdd534",
   "metadata": {},
   "source": [
    "$ methods $"
   ]
  },
  {
   "cell_type": "code",
   "execution_count": 1,
   "id": "10a03e1a-ab71-48cb-92a4-7930b9330281",
   "metadata": {},
   "outputs": [
    {
     "data": {
      "text/plain": [
       "['__and__',\n",
       " '__class__',\n",
       " '__class_getitem__',\n",
       " '__contains__',\n",
       " '__delattr__',\n",
       " '__dir__',\n",
       " '__doc__',\n",
       " '__eq__',\n",
       " '__format__',\n",
       " '__ge__',\n",
       " '__getattribute__',\n",
       " '__getstate__',\n",
       " '__gt__',\n",
       " '__hash__',\n",
       " '__iand__',\n",
       " '__init__',\n",
       " '__init_subclass__',\n",
       " '__ior__',\n",
       " '__isub__',\n",
       " '__iter__',\n",
       " '__ixor__',\n",
       " '__le__',\n",
       " '__len__',\n",
       " '__lt__',\n",
       " '__ne__',\n",
       " '__new__',\n",
       " '__or__',\n",
       " '__rand__',\n",
       " '__reduce__',\n",
       " '__reduce_ex__',\n",
       " '__repr__',\n",
       " '__ror__',\n",
       " '__rsub__',\n",
       " '__rxor__',\n",
       " '__setattr__',\n",
       " '__sizeof__',\n",
       " '__str__',\n",
       " '__sub__',\n",
       " '__subclasshook__',\n",
       " '__xor__',\n",
       " 'add',\n",
       " 'clear',\n",
       " 'copy',\n",
       " 'difference',\n",
       " 'difference_update',\n",
       " 'discard',\n",
       " 'intersection',\n",
       " 'intersection_update',\n",
       " 'isdisjoint',\n",
       " 'issubset',\n",
       " 'issuperset',\n",
       " 'pop',\n",
       " 'remove',\n",
       " 'symmetric_difference',\n",
       " 'symmetric_difference_update',\n",
       " 'union',\n",
       " 'update']"
      ]
     },
     "execution_count": 1,
     "metadata": {},
     "output_type": "execute_result"
    }
   ],
   "source": [
    "dir(set())"
   ]
  },
  {
   "cell_type": "markdown",
   "id": "f40e9045-f7c1-43cd-ae51-119890434705",
   "metadata": {},
   "source": [
    "$  add $\n",
    "- it used to add the single element in the set\n",
    "- we can add only hashable element in the set\n",
    "- if hashable iterable pass it will add as iterable in set not its elements\n",
    "  "
   ]
  },
  {
   "cell_type": "code",
   "execution_count": 3,
   "id": "eac1ea33-7647-4b8e-a572-91a6923f9533",
   "metadata": {},
   "outputs": [
    {
     "data": {
      "text/plain": [
       "{1, 2, 3, 4, 10, 23}"
      ]
     },
     "execution_count": 3,
     "metadata": {},
     "output_type": "execute_result"
    }
   ],
   "source": [
    "s1={1,2,3,2,4,2,4,4,2,10,23}\n",
    "s1\n"
   ]
  },
  {
   "cell_type": "code",
   "execution_count": 4,
   "id": "4c8cedcd-9313-42d2-a43b-9ec3012d49f3",
   "metadata": {},
   "outputs": [],
   "source": [
    "s1.add(25) # add the element in the set we do not know it will be add as set is unorder "
   ]
  },
  {
   "cell_type": "code",
   "execution_count": 5,
   "id": "40d7bbb6-d0e4-4e00-a0c1-f6a7834a6729",
   "metadata": {},
   "outputs": [
    {
     "name": "stdout",
     "output_type": "stream",
     "text": [
      "{1, 2, 3, 4, 23, 25, 10}\n"
     ]
    }
   ],
   "source": [
    "print(s1)"
   ]
  },
  {
   "cell_type": "code",
   "execution_count": 6,
   "id": "1b47afec-ce33-4274-a016-bd079cb08c71",
   "metadata": {},
   "outputs": [
    {
     "name": "stdout",
     "output_type": "stream",
     "text": [
      "{1, 2, 3, 4, (1, 2), 23, 25, 10}\n"
     ]
    }
   ],
   "source": [
    "s1.add((1,2)) # add a tuple\n",
    "print(s1)"
   ]
  },
  {
   "cell_type": "code",
   "execution_count": 7,
   "id": "eae36e94-e62a-4e7d-b9b0-ada9bdb76b11",
   "metadata": {},
   "outputs": [
    {
     "ename": "TypeError",
     "evalue": "unhashable type: 'dict'",
     "output_type": "error",
     "traceback": [
      "\u001b[1;31m---------------------------------------------------------------------------\u001b[0m",
      "\u001b[1;31mTypeError\u001b[0m                                 Traceback (most recent call last)",
      "Cell \u001b[1;32mIn[7], line 1\u001b[0m\n\u001b[1;32m----> 1\u001b[0m s1\u001b[38;5;241m.\u001b[39madd({\u001b[38;5;241m1\u001b[39m:\u001b[38;5;124m\"\u001b[39m\u001b[38;5;124mritesh\u001b[39m\u001b[38;5;124m\"\u001b[39m})\n",
      "\u001b[1;31mTypeError\u001b[0m: unhashable type: 'dict'"
     ]
    }
   ],
   "source": [
    "# list dict,and set can;t be add as set contain only hashable elemente and list,dic,set are not hashable\n",
    "s1.add({1:\"ritesh\"}) \n",
    "s1.add([1,2]) \n"
   ]
  },
  {
   "cell_type": "code",
   "execution_count": 9,
   "id": "01d93319-33bb-4fb2-850e-1a84d7265cae",
   "metadata": {},
   "outputs": [
    {
     "ename": "TypeError",
     "evalue": "unhashable type: 'list'",
     "output_type": "error",
     "traceback": [
      "\u001b[1;31m---------------------------------------------------------------------------\u001b[0m",
      "\u001b[1;31mTypeError\u001b[0m                                 Traceback (most recent call last)",
      "Cell \u001b[1;32mIn[9], line 1\u001b[0m\n\u001b[1;32m----> 1\u001b[0m s1\u001b[38;5;241m.\u001b[39madd([\u001b[38;5;241m1\u001b[39m,\u001b[38;5;241m2\u001b[39m])\n",
      "\u001b[1;31mTypeError\u001b[0m: unhashable type: 'list'"
     ]
    }
   ],
   "source": [
    "s1.add([1,2]) "
   ]
  },
  {
   "cell_type": "code",
   "execution_count": 13,
   "id": "1a2d7292-6d51-4f8f-996c-1660f3a5e9a1",
   "metadata": {},
   "outputs": [
    {
     "data": {
      "text/plain": [
       "{(1, 2), 1, 10, 2, 23, 25, 3, 4, 'ritesh'}"
      ]
     },
     "execution_count": 13,
     "metadata": {},
     "output_type": "execute_result"
    }
   ],
   "source": [
    "s1={(1, 2), 1, 10, 2, 23, 25, 3, 4}\n",
    "s1.add(\"ritesh\")\n",
    "s1"
   ]
  },
  {
   "cell_type": "markdown",
   "id": "70df9e69-dd01-43e8-a19d-848c5108c954",
   "metadata": {},
   "source": [
    "$ update $\n",
    "- it also use to add element in the set but it take iterable and add each element of iterable in a set not iterble itself\n",
    "- it takes only iterable "
   ]
  },
  {
   "cell_type": "code",
   "execution_count": 15,
   "id": "ec7f6803-3f55-4535-9721-5016736ffec9",
   "metadata": {},
   "outputs": [],
   "source": [
    "# we knoe  list is not hashable but  here we are not adding list we are  adding its elements not list itself \n",
    "# so the element will be add \n",
    "# we do not know the location they will store\n",
    "s1={(1, 2), 1, 10, 2, 23, 25, 3, 4}\n",
    "s1.update([1,2,3])"
   ]
  },
  {
   "cell_type": "code",
   "execution_count": 16,
   "id": "d8096e94-81d1-4677-85b7-603245b97161",
   "metadata": {},
   "outputs": [
    {
     "data": {
      "text/plain": [
       "{(1, 2), 1, 10, 2, 23, 25, 3, 4}"
      ]
     },
     "execution_count": 16,
     "metadata": {},
     "output_type": "execute_result"
    }
   ],
   "source": [
    "s1"
   ]
  },
  {
   "cell_type": "code",
   "execution_count": 18,
   "id": "9b154848-4209-4d5f-829f-fb0f306a1bf1",
   "metadata": {},
   "outputs": [
    {
     "data": {
      "text/plain": [
       "{(1, 2), 1, 10, 100, 2, 200, 23, 25, 3, 4}"
      ]
     },
     "execution_count": 18,
     "metadata": {},
     "output_type": "execute_result"
    }
   ],
   "source": [
    "#  if iterable as dictionay then its key value will be add as in dictinay key wiill participate in every operation \n",
    "s1.update({100:\"ritesh\",200:\"ajay\"})\n",
    "s1"
   ]
  },
  {
   "cell_type": "code",
   "execution_count": 21,
   "id": "fd431267-e213-4bd1-9073-95510311569b",
   "metadata": {},
   "outputs": [
    {
     "data": {
      "text/plain": [
       "{(1, 2), 1, 10, 100, 2, 200, 23, 25, 3, 4, 'e', 'h', 'i', 'r', 's', 't'}"
      ]
     },
     "execution_count": 21,
     "metadata": {},
     "output_type": "execute_result"
    }
   ],
   "source": [
    "s1.update(\"ritesh\")# ritesh is str iterable it will in set each alphabet as str will store in s1\n",
    "# as update store element of iterable not iterable \n",
    "s1"
   ]
  },
  {
   "cell_type": "code",
   "execution_count": null,
   "id": "1aba28ff-f726-4791-9642-4d7277bdebe4",
   "metadata": {},
   "outputs": [],
   "source": []
  },
  {
   "cell_type": "markdown",
   "id": "71436008-0941-4511-9807-08dff581f2ff",
   "metadata": {},
   "source": [
    "$ clear - copy $\n",
    "- clrear will delete all teh elements of set and set become empty set not delte the set delete all the elements of set\n",
    "- in that case the previous all elements will be gone of d1 only the copy element will be there\n",
    "\n",
    "  - copy will return the copy of the set in which we have applied inn all data type clear copy are same\n",
    "  - \n",
    "\n",
    "- NOTE copy rule same for all data types it\n",
    "- in list,dic,set copy will **return** list,dic,set respectively"
   ]
  },
  {
   "cell_type": "code",
   "execution_count": 117,
   "id": "e5ed0fde-6f49-4b66-9858-d89f5720137f",
   "metadata": {},
   "outputs": [
    {
     "name": "stdout",
     "output_type": "stream",
     "text": [
      "{11, 22}\n"
     ]
    }
   ],
   "source": [
    "s1={(1,2), 1, 10, 100, 2, 200, 23, 25, 3, 4}\n",
    "s2={11,22}\n",
    "s2.copy() # return a copy of set s2\n",
    "# use s3 to store return set\n",
    "\n"
   ]
  },
  {
   "cell_type": "code",
   "execution_count": 118,
   "id": "f2e7ac20-a399-4fd4-82da-970375ac43df",
   "metadata": {},
   "outputs": [
    {
     "name": "stdout",
     "output_type": "stream",
     "text": [
      "s1  {1, 2, 3, (1, 2), 100, 4, 200, 10, 23, 25}\n",
      "copy set s3 {11, 22}\n",
      "s2 after clear set()\n"
     ]
    }
   ],
   "source": [
    "s1={(1,2), 1, 10, 100, 2, 200, 23, 25, 3, 4}\n",
    "s2={11,22}\n",
    "# use s3 to store return set\n",
    "s3=s2.copy() # return a copy of set s2\n",
    "# now clear the s2\n",
    "s2.clear()\n",
    "print(\"s1 \",s1)\n",
    "print(\"copy set s3\",s3)\n",
    "print(\"s2 after clear\",s2)\n"
   ]
  },
  {
   "cell_type": "markdown",
   "id": "d906a9a2-f572-4685-afce-9b5151323855",
   "metadata": {},
   "source": [
    "### most imp point is that copy will return a copy of of data types ie set,list,dic ###\n",
    "l1=[1,2]\n",
    "l3=l1.copy()\n",
    "print(l3)\n",
    "l1.clear()\n",
    "l1\n",
    "\n"
   ]
  },
  {
   "cell_type": "code",
   "execution_count": 125,
   "id": "40430e60-3685-4c45-b0d3-4bb864af46c4",
   "metadata": {},
   "outputs": [
    {
     "data": {
      "text/plain": [
       "{1: 'RITSH'}"
      ]
     },
     "execution_count": 125,
     "metadata": {},
     "output_type": "execute_result"
    }
   ],
   "source": [
    "d={1:\"RITSH\"}\n",
    "d.copy()\n"
   ]
  },
  {
   "cell_type": "code",
   "execution_count": null,
   "id": "f0346aff-b370-4c69-b071-06064a0e5a11",
   "metadata": {},
   "outputs": [],
   "source": [
    "l1=[1,2]\n",
    "l3=l1.copy()\n",
    "print(l3)\n",
    "l1.clear()\n",
    "l1"
   ]
  },
  {
   "cell_type": "code",
   "execution_count": 44,
   "id": "afcdb839-5fe6-4f09-b14e-de789fdf50b7",
   "metadata": {},
   "outputs": [
    {
     "data": {
      "text/plain": [
       "{(1, 2), 1, 10, 100, 2, 200, 23, 25, 3, 4}"
      ]
     },
     "execution_count": 44,
     "metadata": {},
     "output_type": "execute_result"
    }
   ],
   "source": [
    "s1={(1,2), 1, 10, 100, 2, 200, 23, 25, 3, 4}\n",
    "s2={11,22}\n",
    "s2=s1.copy() # return a set which  and we are using s2 var to store that is why now s2 is agian intialise that is why s2 previous all element gone\n",
    "# s2 only will have s1 not exiting 11,22 \n",
    "s2"
   ]
  },
  {
   "cell_type": "code",
   "execution_count": 41,
   "id": "b80ecbb2-253a-4418-82a8-f7887a798791",
   "metadata": {},
   "outputs": [
    {
     "data": {
      "text/plain": [
       "[1, 2, 3]"
      ]
     },
     "execution_count": 41,
     "metadata": {},
     "output_type": "execute_result"
    }
   ],
   "source": [
    "# cler copy in list\n",
    "l1=[1,2,3]\n",
    "l2=[5,6]\n",
    "l2=l1.copy()\n"
   ]
  },
  {
   "cell_type": "code",
   "execution_count": 43,
   "id": "1eaa56a6-abdf-4fa8-a5cd-c2fdfa246ebd",
   "metadata": {},
   "outputs": [
    {
     "data": {
      "text/plain": [
       "{3: 'ajay'}"
      ]
     },
     "execution_count": 43,
     "metadata": {},
     "output_type": "execute_result"
    }
   ],
   "source": [
    "# clear copy in dic\n",
    "d={1:\"ritesh\"}\n",
    "d2={3:\"ajay\"}\n",
    "d=d2.copy()\n",
    "d"
   ]
  },
  {
   "cell_type": "code",
   "execution_count": null,
   "id": "e02db337-bea2-4f42-bf5c-5bb054b4db9b",
   "metadata": {},
   "outputs": [],
   "source": [
    "$ remove $\n",
    "- it used to delete the element from set \n",
    "- pass the element as arguement whcih want to delete \n",
    "- it through keyerror if element not find raise key keyerror"
   ]
  },
  {
   "cell_type": "code",
   "execution_count": 48,
   "id": "2721b7ca-9a5b-40f4-bacd-94cf95a38c52",
   "metadata": {},
   "outputs": [],
   "source": [
    "s1={(1, 2), 1, 10, 100, 2, 200, 23, 25, 3, 4}\n",
    "s1.remove(10)\n",
    "s1 \n",
    "\n"
   ]
  },
  {
   "cell_type": "code",
   "execution_count": 51,
   "id": "91fe7bf1-5526-4f68-8bc4-bf5f7529f08e",
   "metadata": {},
   "outputs": [
    {
     "data": {
      "text/plain": [
       "{1, 2, 3, 4, 10, 23, 25, 100, 200}"
      ]
     },
     "execution_count": 51,
     "metadata": {},
     "output_type": "execute_result"
    }
   ],
   "source": [
    "s1={(1, 2), 1, 10, 100, 2, 200, 23, 25, 3, 4}\n",
    "s1.remove((1,2)) # deleting tuple as store as element\n",
    "s1 "
   ]
  },
  {
   "cell_type": "code",
   "execution_count": 50,
   "id": "3e5015e2-bd08-4363-a80f-a0cbc26279e0",
   "metadata": {},
   "outputs": [
    {
     "ename": "KeyError",
     "evalue": "124",
     "output_type": "error",
     "traceback": [
      "\u001b[1;31m---------------------------------------------------------------------------\u001b[0m",
      "\u001b[1;31mKeyError\u001b[0m                                  Traceback (most recent call last)",
      "Cell \u001b[1;32mIn[50], line 3\u001b[0m\n\u001b[0;32m      1\u001b[0m \u001b[38;5;66;03m# raise a key error for delete 124 as not in set\u001b[39;00m\n\u001b[0;32m      2\u001b[0m s1\u001b[38;5;241m=\u001b[39m{(\u001b[38;5;241m1\u001b[39m, \u001b[38;5;241m2\u001b[39m), \u001b[38;5;241m1\u001b[39m, \u001b[38;5;241m10\u001b[39m, \u001b[38;5;241m100\u001b[39m, \u001b[38;5;241m2\u001b[39m, \u001b[38;5;241m200\u001b[39m, \u001b[38;5;241m23\u001b[39m, \u001b[38;5;241m25\u001b[39m, \u001b[38;5;241m3\u001b[39m, \u001b[38;5;241m4\u001b[39m}\n\u001b[1;32m----> 3\u001b[0m s1\u001b[38;5;241m.\u001b[39mremove(\u001b[38;5;241m124\u001b[39m)\n",
      "\u001b[1;31mKeyError\u001b[0m: 124"
     ]
    }
   ],
   "source": [
    "# raise a key error for delete 124 as not in set\n",
    "s1={(1, 2), 1, 10, 100, 2, 200, 23, 25, 3, 4}\n",
    "s1.remove(124)"
   ]
  },
  {
   "cell_type": "markdown",
   "id": "22b697eb-cfb5-4db1-b871-da0b94e5ef93",
   "metadata": {},
   "source": [
    "$ discard $\n",
    "- it also used to delete the  element \n",
    "\n",
    "- element will pas as arguement \n",
    "\n",
    "- only the difference it will not any error if element not find while in \n",
    "  remove raise key error"
   ]
  },
  {
   "cell_type": "code",
   "execution_count": 53,
   "id": "82993c68-2d41-44be-a416-8d60414793c5",
   "metadata": {},
   "outputs": [
    {
     "data": {
      "text/plain": [
       "{(1, 2), 10, 100, 2, 200, 23, 25, 3, 4}"
      ]
     },
     "execution_count": 53,
     "metadata": {},
     "output_type": "execute_result"
    }
   ],
   "source": [
    "s1={(1, 2), 1, 10, 100, 2, 200, 23, 25, 3, 4}\n",
    "s1.discard(1) # deleting 1\n",
    "s1\n",
    "\n"
   ]
  },
  {
   "cell_type": "code",
   "execution_count": 55,
   "id": "4eddfd28-7236-43fd-bdc3-87d3a68982bb",
   "metadata": {},
   "outputs": [
    {
     "data": {
      "text/plain": [
       "{(1, 2), 1, 10, 100, 2, 200, 23, 25, 3, 4}"
      ]
     },
     "execution_count": 55,
     "metadata": {},
     "output_type": "execute_result"
    }
   ],
   "source": [
    "# no key error will raise as use discard as 124 not in set\n",
    "s1={(1, 2), 1, 10, 100, 2, 200, 23, 25, 3, 4}\n",
    "s1.discard(124)\n",
    "s1"
   ]
  },
  {
   "cell_type": "code",
   "execution_count": null,
   "id": "e2bee4fb-e7fa-49cf-96d5-3fd52eb49cac",
   "metadata": {},
   "outputs": [],
   "source": [
    "$ pop $ \n",
    "- it will remove randome element from set and return that element\n",
    "\n",
    "- if set is empty raise a key error"
   ]
  },
  {
   "cell_type": "code",
   "execution_count": 60,
   "id": "74f3da87-90af-405b-9c18-9ddde43b792b",
   "metadata": {},
   "outputs": [
    {
     "name": "stdout",
     "output_type": "stream",
     "text": [
      "1\n"
     ]
    },
    {
     "data": {
      "text/plain": [
       "{(1, 2), 10, 100, 2, 200, 23, 25, 3, 4}"
      ]
     },
     "execution_count": 60,
     "metadata": {},
     "output_type": "execute_result"
    }
   ],
   "source": [
    "s1={(1, 2), 1, 10, 100, 2, 200, 23, 25, 3, 4}\n",
    "a=s1.pop() # delete 1 and return i have store it into a to print just for understand i have store in var no need to store \n",
    "print(a)\n",
    "s1\n"
   ]
  },
  {
   "cell_type": "code",
   "execution_count": 64,
   "id": "5a757823-1c90-4593-bdff-76d6e0b5c551",
   "metadata": {},
   "outputs": [
    {
     "data": {
      "text/plain": [
       "2"
      ]
     },
     "execution_count": 64,
     "metadata": {},
     "output_type": "execute_result"
    }
   ],
   "source": [
    "s1={(1, 2),10, 100, 2, 200, 23, 25, 3, 4}\n",
    "s1.pop() # delted 2 \n"
   ]
  },
  {
   "cell_type": "code",
   "execution_count": 86,
   "id": "4016d03b-b13b-4ba9-851a-0f31af307ba9",
   "metadata": {},
   "outputs": [
    {
     "name": "stdout",
     "output_type": "stream",
     "text": [
      "after deletion set is {(1, 2), 4, 23, 200, 25, 10} and delted value is 3:\n"
     ]
    }
   ],
   "source": [
    "s1={(1, 2),10, 200, 23, 25, 3, 4}\n",
    "\n",
    "print(\"after deletion set is {} and delted value is {}:\".format(s1,s1.pop()))\n"
   ]
  },
  {
   "cell_type": "code",
   "execution_count": 77,
   "id": "219b489a-7a8c-4bc3-ab50-788ab6019c49",
   "metadata": {},
   "outputs": [
    {
     "name": "stdout",
     "output_type": "stream",
     "text": [
      "20\n",
      "hello\n"
     ]
    }
   ],
   "source": [
    "def summ(a):\n",
    "    return a+10\n",
    "\n",
    "\n",
    "\n",
    "print(summ(10))\n",
    "print(\"hello\")"
   ]
  },
  {
   "cell_type": "code",
   "execution_count": 87,
   "id": "bc082466-0cd0-4979-8d7c-2b73fbe15ae6",
   "metadata": {},
   "outputs": [
    {
     "ename": "KeyError",
     "evalue": "'pop from an empty set'",
     "output_type": "error",
     "traceback": [
      "\u001b[1;31m---------------------------------------------------------------------------\u001b[0m",
      "\u001b[1;31mKeyError\u001b[0m                                  Traceback (most recent call last)",
      "Cell \u001b[1;32mIn[87], line 2\u001b[0m\n\u001b[0;32m      1\u001b[0m s2\u001b[38;5;241m=\u001b[39m\u001b[38;5;28mset\u001b[39m()\n\u001b[1;32m----> 2\u001b[0m s2\u001b[38;5;241m.\u001b[39mpop()\n",
      "\u001b[1;31mKeyError\u001b[0m: 'pop from an empty set'"
     ]
    }
   ],
   "source": [
    "# key error as set is empty\n",
    "s2=set()\n",
    "s2.pop()"
   ]
  },
  {
   "cell_type": "markdown",
   "id": "7f16067c-f19a-4f90-96fa-149b16cecf54",
   "metadata": {},
   "source": [
    "$ union $\n",
    "- it will return a new set which is the union  of two sets will retur the new set exiting set will  remane same\n",
    "- union mean set that contain both set value but common will reomve\n",
    "\n",
    "- in union new set will form exiting set will remain same\n",
    "- pass the the another  set as arguement"
   ]
  },
  {
   "cell_type": "code",
   "execution_count": 114,
   "id": "f0032ff1-972d-4a38-85ce-af348004617c",
   "metadata": {},
   "outputs": [
    {
     "data": {
      "text/plain": [
       "{1, 2, 3, 24, 30, 43}"
      ]
     },
     "execution_count": 114,
     "metadata": {},
     "output_type": "execute_result"
    }
   ],
   "source": [
    "# returning a set\n",
    "s1={1,2,30,2}\n",
    "s2={3,1,24,43}\n",
    "s2.union(s1)"
   ]
  },
  {
   "cell_type": "code",
   "execution_count": 96,
   "id": "309f42e0-b522-4463-8d7c-22b4824cd893",
   "metadata": {},
   "outputs": [
    {
     "name": "stdout",
     "output_type": "stream",
     "text": [
      "union {1, 2, 3, 24, 43, 30}\n",
      "s1  {1, 2, 30}\n",
      "s2  {24, 1, 3, 43}\n"
     ]
    }
   ],
   "source": [
    "s1={1,2,30,2}\n",
    "s2={3,1,24,43}\n",
    "s3=s2.union(s1)\n",
    "print(\"union\",s3)\n",
    "print(\"s1 \",s1)\n",
    "print(\"s2 \",s2)\n",
    "\n"
   ]
  },
  {
   "cell_type": "markdown",
   "id": "d36bd8d6-4eb6-4705-8a42-8f96718c5ea1",
   "metadata": {},
   "source": [
    "$ intersection $ \n",
    "- it will return new set of commone elements\n",
    "- if no common found then give empty set\n",
    "- - pass the the another  set as arguement"
   ]
  },
  {
   "cell_type": "code",
   "execution_count": 113,
   "id": "bd1396bd-d494-4cbc-9582-fc40e5283b5d",
   "metadata": {},
   "outputs": [
    {
     "data": {
      "text/plain": [
       "{1}"
      ]
     },
     "execution_count": 113,
     "metadata": {},
     "output_type": "execute_result"
    }
   ],
   "source": [
    "# return a new set\n",
    "s1={1,2,30,2}\n",
    "s2={3,1,24,43}\n",
    "s2.intersection(s1)"
   ]
  },
  {
   "cell_type": "code",
   "execution_count": 99,
   "id": "74b17a71-5591-4a6d-8229-f8aed8080df7",
   "metadata": {},
   "outputs": [
    {
     "name": "stdout",
     "output_type": "stream",
     "text": [
      "intersection {1}\n",
      "s1  {1, 2, 30}\n",
      "s2  {24, 1, 3, 43}\n"
     ]
    }
   ],
   "source": [
    "s1={1,2,30,2}\n",
    "s2={3,1,24,43}\n",
    "s3=s2.intersection(s1)\n",
    "print(\"intersection\",s3)\n",
    "print(\"s1 \",s1)\n",
    "print(\"s2 \",s2)"
   ]
  },
  {
   "cell_type": "markdown",
   "id": "0366b8ce-a3e7-4274-9673-dc28f45781ae",
   "metadata": {},
   "source": [
    "$ issubset - issuperset $"
   ]
  },
  {
   "cell_type": "markdown",
   "id": "34f4f9d6-5e5d-4a76-adfc-112862b10dcf",
   "metadata": {},
   "source": [
    "- issubset check if a set is subset of other set if yes return true: beta\n",
    "\n",
    "    -subset if all the elemetn of set contain in other set\n",
    "\n",
    "- superset if a set is superset then return trur means: baap\n",
    "\n",
    "       means if it contain the elements of otherset and also it contain there elements also\n",
    "\n",
    " - pass the the another  set as arguement "
   ]
  },
  {
   "cell_type": "code",
   "execution_count": 100,
   "id": "632401f8-eaa6-48a2-b137-b732ec4bfb7c",
   "metadata": {},
   "outputs": [
    {
     "data": {
      "text/plain": [
       "False"
      ]
     },
     "execution_count": 100,
     "metadata": {},
     "output_type": "execute_result"
    }
   ],
   "source": [
    "s1={1,2}\n",
    "s2={3,1,24,43}\n",
    "s1.issubset(s2) # cheking if s1 is a subset of s2"
   ]
  },
  {
   "cell_type": "code",
   "execution_count": 101,
   "id": "06fdd6d4-3b00-43f3-8879-a35df24155f3",
   "metadata": {},
   "outputs": [
    {
     "data": {
      "text/plain": [
       "True"
      ]
     },
     "execution_count": 101,
     "metadata": {},
     "output_type": "execute_result"
    }
   ],
   "source": [
    "s1={1,2}\n",
    "s2={3,1,24,43,2}\n",
    "s1.issubset(s2) # cheking if s1 is a subset of s2"
   ]
  },
  {
   "cell_type": "code",
   "execution_count": 105,
   "id": "53e75c10-c141-487a-ba82-6bd0fd3332db",
   "metadata": {},
   "outputs": [
    {
     "data": {
      "text/plain": [
       "False"
      ]
     },
     "execution_count": 105,
     "metadata": {},
     "output_type": "execute_result"
    }
   ],
   "source": [
    "# superset\n",
    "s1={1,3,45}\n",
    "s2={3,1,24,43,2}\n",
    "# cheking s2 is superset of s1\n",
    "s2.issuperset(s1) # s2 is a superset of s1 no as 45 is not in s2\n"
   ]
  },
  {
   "cell_type": "code",
   "execution_count": 106,
   "id": "926c1770-8f6e-4013-b18c-4b6e0f6582c8",
   "metadata": {},
   "outputs": [
    {
     "data": {
      "text/plain": [
       "True"
      ]
     },
     "execution_count": 106,
     "metadata": {},
     "output_type": "execute_result"
    }
   ],
   "source": [
    "# superset\n",
    "s1={1,3}\n",
    "s2={3,1,24,43,2}\n",
    "# cheking s2 is superset of s1\n",
    "s2.issuperset(s1) # s2 is a superset of s1 true as 1,3 all in set2\n"
   ]
  },
  {
   "cell_type": "markdown",
   "id": "1e63af1c-d271-4d2a-beec-93772c681276",
   "metadata": {},
   "source": [
    "**NOTE METHOD ALWAYS CALL OF ANY PACKAGE PACKAGE.METHOD()**\n",
    "- LIST,TUPLE,STR,SET,DIC ALL OR ANY ONE WILL FOLLOW THE SAME RULE PACKAGE.METHOD"
   ]
  },
  {
   "cell_type": "markdown",
   "id": "3497a2c9-5c1a-416c-a988-9d4d35ca2a85",
   "metadata": {},
   "source": [
    "$ differnce $ \n",
    "- return a new set a-b\n",
    "- set a contain a elements only elemets which  is common between a and b  will remove a retur a new set\n"
   ]
  },
  {
   "cell_type": "code",
   "execution_count": null,
   "id": "aa6304e0-394f-4895-9107-bdee5e3b30a7",
   "metadata": {},
   "outputs": [],
   "source": []
  },
  {
   "cell_type": "code",
   "execution_count": 110,
   "id": "bd4b41c1-6976-4a68-921a-289904842d6d",
   "metadata": {},
   "outputs": [
    {
     "data": {
      "text/plain": [
       "{90}"
      ]
     },
     "execution_count": 110,
     "metadata": {},
     "output_type": "execute_result"
    }
   ],
   "source": [
    "# like a-b\n",
    "s1={1,3,90}\n",
    "s2={3,1,24,43,2}\n",
    "s1.difference(s2)"
   ]
  },
  {
   "cell_type": "code",
   "execution_count": 115,
   "id": "19cc802a-2923-44b0-9771-71636d79fd9e",
   "metadata": {},
   "outputs": [
    {
     "data": {
      "text/plain": [
       "{2, 24, 43}"
      ]
     },
     "execution_count": 115,
     "metadata": {},
     "output_type": "execute_result"
    }
   ],
   "source": [
    "# b-a\n",
    "s1={1,3,90}\n",
    "s2={3,1,24,43,2} # as 1,3 is common in s2 from set 1 that it will delet from set commone and print other\n",
    "s2.difference(s1)"
   ]
  },
  {
   "cell_type": "code",
   "execution_count": null,
   "id": "e8da7e8e-954d-4e69-a3cf-82be9cd52948",
   "metadata": {},
   "outputs": [],
   "source": []
  }
 ],
 "metadata": {
  "kernelspec": {
   "display_name": "Python [conda env:base] *",
   "language": "python",
   "name": "conda-base-py"
  },
  "language_info": {
   "codemirror_mode": {
    "name": "ipython",
    "version": 3
   },
   "file_extension": ".py",
   "mimetype": "text/x-python",
   "name": "python",
   "nbconvert_exporter": "python",
   "pygments_lexer": "ipython3",
   "version": "3.13.5"
  }
 },
 "nbformat": 4,
 "nbformat_minor": 5
}
