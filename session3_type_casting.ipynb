{
 "cells": [
  {
   "cell_type": "markdown",
   "id": "4eb236d4-5dc5-4921-aa02-686608a8d2ea",
   "metadata": {},
   "source": [
    "## int to another data type"
   ]
  },
  {
   "cell_type": "code",
   "execution_count": 2,
   "id": "4e5ec65f-5b3a-4de6-82ed-fa5711b5555c",
   "metadata": {},
   "outputs": [
    {
     "name": "stdout",
     "output_type": "stream",
     "text": [
      "100.0\n",
      "True\n",
      "100\n",
      "(100+0j)\n"
     ]
    }
   ],
   "source": [
    "a=100\n",
    "fl=float(a)\n",
    "bl=bool(a)\n",
    "str1=str(a)\n",
    "c1=complex(a)\n",
    "print(fl)\n",
    "print(bl)\n",
    "print(str1)\n",
    "print(c1)"
   ]
  },
  {
   "cell_type": "markdown",
   "id": "46210795-16c5-4cc2-9c4b-8007a4ff905f",
   "metadata": {},
   "source": [
    "***Note other than 0 into to bool conversation the the int convert into true \n",
    "and case of empty string also string convern into false else always true\n",
    "\n",
    "#### so int convert into all data type"
   ]
  },
  {
   "cell_type": "code",
   "execution_count": 4,
   "id": "f91dfd4a-6e18-4c95-aecf-276347857d58",
   "metadata": {},
   "outputs": [
    {
     "data": {
      "text/plain": [
       "False"
      ]
     },
     "execution_count": 4,
     "metadata": {},
     "output_type": "execute_result"
    }
   ],
   "source": [
    "b2=bool(0)\n",
    "b2"
   ]
  },
  {
   "cell_type": "markdown",
   "id": "16006a06-995b-4dc9-8173-f15532446782",
   "metadata": {},
   "source": [
    "## float to other data type"
   ]
  },
  {
   "cell_type": "code",
   "execution_count": 11,
   "id": "cc7ffc05-52fd-4391-a206-bfc57f292ee3",
   "metadata": {},
   "outputs": [
    {
     "name": "stdout",
     "output_type": "stream",
     "text": [
      "100.0\n",
      "True\n",
      "100.6\n",
      "<class 'str'>\n",
      "(100.6+0j)\n"
     ]
    }
   ],
   "source": [
    "a=100.6\n",
    "in1=int(a)\n",
    "bl=bool(a)\n",
    "str1=str(a)\n",
    "c1=complex(a)\n",
    "print(fl)\n",
    "print(bl)\n",
    "print(str1)\n",
    "print(type(str1))\n",
    "print(c1)"
   ]
  },
  {
   "cell_type": "markdown",
   "id": "f92e9097-7d04-49ef-9a40-afa32c648de6",
   "metadata": {},
   "source": [
    "### float is also convern into all datatype"
   ]
  },
  {
   "cell_type": "markdown",
   "id": "a74b6412-a5c2-462d-abaf-2b8bb1088a36",
   "metadata": {},
   "source": [
    "## bool to other data type conversion"
   ]
  },
  {
   "cell_type": "code",
   "execution_count": 10,
   "id": "361e0923-8cd2-4ab9-ae37-80229f8261b4",
   "metadata": {},
   "outputs": [
    {
     "name": "stdout",
     "output_type": "stream",
     "text": [
      "True\n",
      "(1+0j)\n",
      "1\n",
      "1.0\n"
     ]
    }
   ],
   "source": [
    "a=True  # bool will convern in all datatype as True=1 and False=0 so bool will treat as 1 and 0\n",
    "in1=int(a)\n",
    "str1=str(a)\n",
    "c1=complex(a)\n",
    "fl1=float(a)\n",
    "print(str1)\n",
    "print(c1)\n",
    "print(in1)\n",
    "print(fl1)"
   ]
  },
  {
   "cell_type": "code",
   "execution_count": 12,
   "id": "69697d26-a716-477a-b184-87142e4c243e",
   "metadata": {},
   "outputs": [
    {
     "name": "stdout",
     "output_type": "stream",
     "text": [
      "False\n",
      "0j\n",
      "0\n",
      "0.0\n"
     ]
    }
   ],
   "source": [
    "a=False  # bool will convern in all datatype as True=1 and False=0 so bool will treat as 1 and 0\n",
    "in1=int(a)\n",
    "str1=str(a)\n",
    "c1=complex(a)\n",
    "fl1=float(a)\n",
    "print(str1)\n",
    "print(c1)\n",
    "print(in1)\n",
    "print(fl1)"
   ]
  },
  {
   "cell_type": "markdown",
   "id": "9b6aeab2-78ed-4933-8ca4-5ba5111aa6fd",
   "metadata": {},
   "source": [
    "## *** note bool is also convertable in all data type"
   ]
  },
  {
   "cell_type": "markdown",
   "id": "3652e23c-1d79-48a3-ba57-610e5402adc4",
   "metadata": {},
   "source": [
    "##String to convert into other datatype\n",
    "\n",
    "- str will convert into int if the the string is the integer value\n",
    "- if under the str is float valuse like '100.4' it can't convern into integer error will come\n",
    "- if int and float valuse is under the str like '100.4' and '100 ' then only str will convern into floot\n",
    "- str will convern into bool True for all non empty string it will false for empty string  like st1='' bool(st1)\n",
    "- str will convert into complex if only numerical value present like '100' or '100.4'"
   ]
  },
  {
   "cell_type": "code",
   "execution_count": 14,
   "id": "2df49c2b-a875-4ad4-b696-06781a33e0ad",
   "metadata": {},
   "outputs": [
    {
     "ename": "ValueError",
     "evalue": "invalid literal for int() with base 10: 'ritesh'",
     "output_type": "error",
     "traceback": [
      "\u001b[1;31m---------------------------------------------------------------------------\u001b[0m",
      "\u001b[1;31mValueError\u001b[0m                                Traceback (most recent call last)",
      "Cell \u001b[1;32mIn[14], line 3\u001b[0m\n\u001b[0;32m      1\u001b[0m \u001b[38;5;66;03m# case 1 when string is non numerical valuse\u001b[39;00m\n\u001b[0;32m      2\u001b[0m st1\u001b[38;5;241m=\u001b[39m\u001b[38;5;124m'\u001b[39m\u001b[38;5;124mritesh\u001b[39m\u001b[38;5;124m'\u001b[39m\n\u001b[1;32m----> 3\u001b[0m in1\u001b[38;5;241m=\u001b[39m\u001b[38;5;28mint\u001b[39m(st1)\n\u001b[0;32m      4\u001b[0m fl\u001b[38;5;241m=\u001b[39m\u001b[38;5;28mfloat\u001b[39m(st1)\n\u001b[0;32m      5\u001b[0m bl\u001b[38;5;241m=\u001b[39m\u001b[38;5;28mbool\u001b[39m(st1)\n",
      "\u001b[1;31mValueError\u001b[0m: invalid literal for int() with base 10: 'ritesh'"
     ]
    }
   ],
   "source": [
    "# case 1 when string is non numerical valuse\n",
    "st1='ritesh' \n",
    "in1=int(st1)# error\n",
    "fl=float(st1)# error\n",
    "bl=bool(st1) # true\n",
    "c1=complex(st1) # error\n",
    "print(fl)\n",
    "print(bl)\n",
    "print(int1)\n",
    "print(c1)"
   ]
  },
  {
   "cell_type": "code",
   "execution_count": 17,
   "id": "09687701-de52-4d33-bad4-97c94466c88a",
   "metadata": {},
   "outputs": [
    {
     "data": {
      "text/plain": [
       "False"
      ]
     },
     "execution_count": 17,
     "metadata": {},
     "output_type": "execute_result"
    }
   ],
   "source": [
    "st1='ritesh'\n",
    "st2=''\n",
    "bl=bool(st1) # True\n",
    "\n",
    "bl=bool(st2) # bl= False as empty string convert\n",
    "bl"
   ]
  },
  {
   "cell_type": "code",
   "execution_count": 18,
   "id": "001359c6-62a2-4847-90bf-57e288be0e83",
   "metadata": {},
   "outputs": [
    {
     "ename": "ValueError",
     "evalue": "complex() arg is a malformed string",
     "output_type": "error",
     "traceback": [
      "\u001b[1;31m---------------------------------------------------------------------------\u001b[0m",
      "\u001b[1;31mValueError\u001b[0m                                Traceback (most recent call last)",
      "Cell \u001b[1;32mIn[18], line 2\u001b[0m\n\u001b[0;32m      1\u001b[0m st1\u001b[38;5;241m=\u001b[39m\u001b[38;5;124m'\u001b[39m\u001b[38;5;124mritesh\u001b[39m\u001b[38;5;124m'\u001b[39m \n\u001b[1;32m----> 2\u001b[0m c1\u001b[38;5;241m=\u001b[39m\u001b[38;5;28mcomplex\u001b[39m(st1) \u001b[38;5;66;03m# error\u001b[39;00m\n\u001b[0;32m      3\u001b[0m c1\n",
      "\u001b[1;31mValueError\u001b[0m: complex() arg is a malformed string"
     ]
    }
   ],
   "source": [
    "st1='ritesh' \n",
    "c1=complex(st1) # error\n",
    "c1"
   ]
  },
  {
   "cell_type": "code",
   "execution_count": 21,
   "id": "353d2bc6-324d-4431-8263-05b1602de5d6",
   "metadata": {},
   "outputs": [
    {
     "name": "stdout",
     "output_type": "stream",
     "text": [
      "100.4\n",
      "True\n",
      "(100.4+0j)\n"
     ]
    }
   ],
   "source": [
    "# case 2 when str is numberical valuse but float in this case it can't convert into integer in all other it will convert\n",
    "st1='100.4' \n",
    "#in1=int(st1)# error\n",
    "fl=float(st1)# \n",
    "bl=bool(st1) # true\n",
    "c1=complex(st1) # 100.4 + oj\n",
    "print(fl)\n",
    "print(bl)\n",
    "#print(int1)\n",
    "print(c1)\n"
   ]
  },
  {
   "cell_type": "code",
   "execution_count": 19,
   "id": "8461f42c-7bba-4989-b137-b8cf878382a5",
   "metadata": {},
   "outputs": [
    {
     "ename": "ValueError",
     "evalue": "invalid literal for int() with base 10: '100.4'",
     "output_type": "error",
     "traceback": [
      "\u001b[1;31m---------------------------------------------------------------------------\u001b[0m",
      "\u001b[1;31mValueError\u001b[0m                                Traceback (most recent call last)",
      "Cell \u001b[1;32mIn[19], line 2\u001b[0m\n\u001b[0;32m      1\u001b[0m st1\u001b[38;5;241m=\u001b[39m\u001b[38;5;124m'\u001b[39m\u001b[38;5;124m100.4\u001b[39m\u001b[38;5;124m'\u001b[39m \n\u001b[1;32m----> 2\u001b[0m in1\u001b[38;5;241m=\u001b[39m\u001b[38;5;28mint\u001b[39m(st1)\u001b[38;5;66;03m# error\u001b[39;00m\n\u001b[0;32m      3\u001b[0m int1\n",
      "\u001b[1;31mValueError\u001b[0m: invalid literal for int() with base 10: '100.4'"
     ]
    }
   ],
   "source": [
    "st1='100.4' \n",
    "in1=int(st1)# error\n",
    "int1"
   ]
  },
  {
   "cell_type": "code",
   "execution_count": 24,
   "id": "0df0639c-d616-402b-9091-6fcde3c4c041",
   "metadata": {},
   "outputs": [
    {
     "name": "stdout",
     "output_type": "stream",
     "text": [
      "100.0\n",
      "True\n",
      "100\n",
      "(100+0j)\n"
     ]
    }
   ],
   "source": [
    "# case 3 when str is numberical valuse but integer in this case it  in all other it will datatype\n",
    "st1='100' \n",
    "in1=int(st1)# 100\n",
    "fl=float(st1)# 100.0\n",
    "bl=bool(st1) # true\n",
    "c1=complex(st1) # 100 + oj\n",
    "print(fl)\n",
    "print(bl)\n",
    "print(in1)\n",
    "print(c1)"
   ]
  },
  {
   "cell_type": "code",
   "execution_count": 27,
   "id": "749f1130-3784-4eed-918b-a834ec6743ae",
   "metadata": {},
   "outputs": [
    {
     "name": "stdout",
     "output_type": "stream",
     "text": [
      "True\n",
      "0j\n"
     ]
    }
   ],
   "source": [
    "st1='0' \n",
    "c1=complex(st1) # 100 + oj\n",
    "bl1=bool(st1)\n",
    "print(bl1)\n",
    "print(c1)"
   ]
  },
  {
   "cell_type": "markdown",
   "id": "1f552476-876a-4c68-861d-3463fff1db47",
   "metadata": {},
   "source": [
    "## complex to another data type conversion"
   ]
  },
  {
   "cell_type": "code",
   "execution_count": null,
   "id": "b9849649-f939-4846-b22f-23db965da8e2",
   "metadata": {},
   "outputs": [],
   "source": [
    "a=2+6j\n",
    "in1=int(a) # error\n",
    "str1=str(a) #'2+6j'\n",
    "fl1=float(a) # error\n",
    "bl1=bool(a) # true\n",
    "print(str1)\n",
    "print(c1)\n",
    "print(in1)\n",
    "print(fl1)"
   ]
  },
  {
   "cell_type": "code",
   "execution_count": 28,
   "id": "5d1b4e02-cb56-4e63-bf02-7b71148ce265",
   "metadata": {},
   "outputs": [
    {
     "ename": "TypeError",
     "evalue": "int() argument must be a string, a bytes-like object or a real number, not 'complex'",
     "output_type": "error",
     "traceback": [
      "\u001b[1;31m---------------------------------------------------------------------------\u001b[0m",
      "\u001b[1;31mTypeError\u001b[0m                                 Traceback (most recent call last)",
      "Cell \u001b[1;32mIn[28], line 2\u001b[0m\n\u001b[0;32m      1\u001b[0m a\u001b[38;5;241m=\u001b[39m\u001b[38;5;241m2\u001b[39m\u001b[38;5;241m+\u001b[39m\u001b[38;5;241m6\u001b[39mj\n\u001b[1;32m----> 2\u001b[0m in1\u001b[38;5;241m=\u001b[39m\u001b[38;5;28mint\u001b[39m(a) \u001b[38;5;66;03m# error\u001b[39;00m\n\u001b[0;32m      3\u001b[0m \u001b[38;5;28mprint\u001b[39m(in1)\n",
      "\u001b[1;31mTypeError\u001b[0m: int() argument must be a string, a bytes-like object or a real number, not 'complex'"
     ]
    }
   ],
   "source": [
    "a=2+6j\n",
    "in1=int(a) # error\n",
    "print(in1)"
   ]
  },
  {
   "cell_type": "code",
   "execution_count": 29,
   "id": "622e24cb-fe8f-4a99-bae8-f5894af7fddc",
   "metadata": {},
   "outputs": [
    {
     "ename": "TypeError",
     "evalue": "float() argument must be a string or a real number, not 'complex'",
     "output_type": "error",
     "traceback": [
      "\u001b[1;31m---------------------------------------------------------------------------\u001b[0m",
      "\u001b[1;31mTypeError\u001b[0m                                 Traceback (most recent call last)",
      "Cell \u001b[1;32mIn[29], line 2\u001b[0m\n\u001b[0;32m      1\u001b[0m a\u001b[38;5;241m=\u001b[39m\u001b[38;5;241m2\u001b[39m\u001b[38;5;241m+\u001b[39m\u001b[38;5;241m6\u001b[39mj\n\u001b[1;32m----> 2\u001b[0m fl1\u001b[38;5;241m=\u001b[39m\u001b[38;5;28mfloat\u001b[39m(a) \u001b[38;5;66;03m# error\u001b[39;00m\n\u001b[0;32m      3\u001b[0m fl1\n",
      "\u001b[1;31mTypeError\u001b[0m: float() argument must be a string or a real number, not 'complex'"
     ]
    }
   ],
   "source": [
    "a=2+6j\n",
    "fl1=float(a) # error\n",
    "fl1"
   ]
  },
  {
   "cell_type": "code",
   "execution_count": 32,
   "id": "d4a2e0de-4a95-48ba-9cdf-a1d8b133c930",
   "metadata": {},
   "outputs": [
    {
     "data": {
      "text/plain": [
       "'(2+6j)'"
      ]
     },
     "execution_count": 32,
     "metadata": {},
     "output_type": "execute_result"
    }
   ],
   "source": [
    "a=2+6j\n",
    "st1=str(a)\n",
    "st1\n"
   ]
  },
  {
   "cell_type": "code",
   "execution_count": 35,
   "id": "ec89baa7-0b2e-49ef-ab7b-928a085b2f10",
   "metadata": {},
   "outputs": [
    {
     "data": {
      "text/plain": [
       "False"
      ]
     },
     "execution_count": 35,
     "metadata": {},
     "output_type": "execute_result"
    }
   ],
   "source": [
    "a=0+0j\n",
    "bl1=bool(a)\n",
    "bl1"
   ]
  },
  {
   "cell_type": "code",
   "execution_count": 36,
   "id": "0f9292ee-8274-47dc-ba62-39ce81316bee",
   "metadata": {},
   "outputs": [
    {
     "data": {
      "text/plain": [
       "False"
      ]
     },
     "execution_count": 36,
     "metadata": {},
     "output_type": "execute_result"
    }
   ],
   "source": [
    "a=0+0j\n",
    "bl1=bool(a)\n",
    "bl1"
   ]
  },
  {
   "cell_type": "code",
   "execution_count": null,
   "id": "ff2261e7-83cd-4b0c-80ea-5c49d1dd96a8",
   "metadata": {},
   "outputs": [],
   "source": [
    "## thus complex "
   ]
  }
 ],
 "metadata": {
  "kernelspec": {
   "display_name": "Python [conda env:base] *",
   "language": "python",
   "name": "conda-base-py"
  },
  "language_info": {
   "codemirror_mode": {
    "name": "ipython",
    "version": 3
   },
   "file_extension": ".py",
   "mimetype": "text/x-python",
   "name": "python",
   "nbconvert_exporter": "python",
   "pygments_lexer": "ipython3",
   "version": "3.13.5"
  }
 },
 "nbformat": 4,
 "nbformat_minor": 5
}
