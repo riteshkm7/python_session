{
 "cells": [
  {
   "cell_type": "code",
   "execution_count": 5,
   "id": "4686310b-32f9-4765-925e-69937f3662b3",
   "metadata": {},
   "outputs": [
    {
     "name": "stdout",
     "output_type": "stream",
     "text": [
      "hello how are you\n",
      "2 3\n",
      "hell are\n",
      "hell-are\n"
     ]
    }
   ],
   "source": [
    "# sep to use change output format\n",
    "print(\"hello how are you\")\n",
    "print(2,3) # joining multiple string by default seperate by space\n",
    "print(\"hell\",\"are\")\n",
    "print(\"hell\", \"are\", sep=\"-\")\n"
   ]
  },
  {
   "cell_type": "markdown",
   "id": "c5fe06d7-086d-482c-8013-e8f96b257983",
   "metadata": {},
   "source": [
    "$ end $"
   ]
  },
  {
   "cell_type": "code",
   "execution_count": 7,
   "id": "f147daa4-2e5d-48a1-83f5-f7f5157fd63d",
   "metadata": {},
   "outputs": [
    {
     "name": "stdout",
     "output_type": "stream",
     "text": [
      "hello,ritesh\n"
     ]
    }
   ],
   "source": [
    "# end use to instead a new line use as per your preference\n",
    "print(\"hello\" ,end=\",\")\n",
    "print(\"ritesh\")"
   ]
  },
  {
   "cell_type": "code",
   "execution_count": 8,
   "id": "559ae59b-3555-4a12-8c74-11bc3942c68b",
   "metadata": {},
   "outputs": [
    {
     "name": "stdout",
     "output_type": "stream",
     "text": [
      "1 2 3 "
     ]
    }
   ],
   "source": [
    "print(1, end=\" \")\n",
    "print(2, end=\" \")\n",
    "print(3, end=\" \")"
   ]
  },
  {
   "cell_type": "code",
   "execution_count": 10,
   "id": "75a71a35-ea3c-4b94-a05d-afd422553018",
   "metadata": {},
   "outputs": [
    {
     "name": "stdin",
     "output_type": "stream",
     "text": [
      "enter a number 4554\n",
      "enter second number 45434\n"
     ]
    },
    {
     "name": "stdout",
     "output_type": "stream",
     "text": [
      "the addition 4554 and 45434 is 49988\n"
     ]
    }
   ],
   "source": [
    "x=eval(input(\"enter a number\"))\n",
    "y=eval(input(\"enter second number\"))\n",
    "add=x+y\n",
    "print(\"the addition\", x, \"and\", y, \"is\", add )"
   ]
  },
  {
   "cell_type": "code",
   "execution_count": 13,
   "id": "d1d4b0e6-3552-4b66-9eb0-d8601a228454",
   "metadata": {},
   "outputs": [
    {
     "name": "stdout",
     "output_type": "stream",
     "text": [
      "i am python and i am 10 and i'm from hyd\n",
      "my name,city and age is python 10 hyd\n"
     ]
    }
   ],
   "source": [
    "name=\"python\"\n",
    "city=\"hyd\"\n",
    "age=10;\n",
    "print(\"i am\", name,\"and i am\" ,age, \"and i'm from\", city)\n",
    "print(\"my name,city and age is\",name,age,city)"
   ]
  },
  {
   "cell_type": "code",
   "execution_count": 17,
   "id": "e49287ef-9aba-4312-aa81-7be6443daa40",
   "metadata": {},
   "outputs": [
    {
     "name": "stdout",
     "output_type": "stream",
     "text": [
      "i am python and i am 10 and i am from hyd\n"
     ]
    }
   ],
   "source": [
    "name=\"python\"\n",
    "city=\"hyd\"\n",
    "age=10;\n",
    "print(\"i am\", name,\"and i am\" ,age,end=\" and \")\n",
    "print(\"i am from\", city)"
   ]
  },
  {
   "cell_type": "code",
   "execution_count": 20,
   "id": "0a039a21-ae77-4ef0-923f-d3986f5128f1",
   "metadata": {},
   "outputs": [
    {
     "name": "stdout",
     "output_type": "stream",
     "text": [
      "my name is hyd and i'm belong from hyd and my age is 10\n"
     ]
    }
   ],
   "source": [
    "#format specifer of string {}\n",
    "name=\"python\"\n",
    "city=\"hyd\"\n",
    "age=10;\n",
    "print(\"my name is {} and i'm belong from {} and my age is {}\".format(name,city,age))"
   ]
  },
  {
   "cell_type": "code",
   "execution_count": 31,
   "id": "8361ec51-b6b9-4038-ab0c-d282ff1ad9a2",
   "metadata": {},
   "outputs": [
    {
     "name": "stdin",
     "output_type": "stream",
     "text": [
      "enter a number 1\n",
      "enter second nmber 2\n",
      "enter third number 3\n"
     ]
    },
    {
     "name": "stdout",
     "output_type": "stream",
     "text": [
      "the sum of  1 2 and 3 is 6 and the average of first 1 second 2 and third number 3 is 2.0\n"
     ]
    }
   ],
   "source": [
    "a=eval(input(\"enter a number\"))\n",
    "b=eval(input(\"enter second nmber\"))\n",
    "c=eval(input(\"enter third number\"))\n",
    "add=a+b+c\n",
    "avg=(a+b+c)/3\n",
    "print(\"the sum of \",a,b ,\"and\",c, \"is\", add, end=\" and \")\n",
    "print(\"the average of first {} second {} and third number {} is {}\".format(a,b,c,avg))"
   ]
  },
  {
   "cell_type": "markdown",
   "id": "2ae1f1de-f7a0-4514-9e82-65d85db39abf",
   "metadata": {},
   "source": [
    "$ round $\n"
   ]
  },
  {
   "cell_type": "code",
   "execution_count": 37,
   "id": "4e451bdc-e51c-4b9b-bae9-10f9be717006",
   "metadata": {},
   "outputs": [
    {
     "data": {
      "text/plain": [
       "6.667"
      ]
     },
     "execution_count": 37,
     "metadata": {},
     "output_type": "execute_result"
    }
   ],
   "source": [
    " #round(value1/value2,3) # round off upto 3 digit\n",
    "value1=20\n",
    "value2=3\n",
    "round(value1/value2,3)"
   ]
  },
  {
   "cell_type": "markdown",
   "id": "9969aa6d-e8e8-48a6-a7cb-a7c5c02fbcef",
   "metadata": {},
   "source": [
    "$ divison / $"
   ]
  },
  {
   "cell_type": "code",
   "execution_count": 39,
   "id": "5ce23f5d-ea1d-4db0-b54f-2fe1b93eb625",
   "metadata": {},
   "outputs": [
    {
     "name": "stdout",
     "output_type": "stream",
     "text": [
      "6.666666666666667\n"
     ]
    }
   ],
   "source": [
    "print(20/3)"
   ]
  },
  {
   "cell_type": "markdown",
   "id": "728bfeb2-cceb-4178-913a-8525427e5446",
   "metadata": {},
   "source": [
    "$ floor divison = quotent // $"
   ]
  },
  {
   "cell_type": "code",
   "execution_count": 41,
   "id": "ca296073-dc6b-4e76-8f63-af20884e1f93",
   "metadata": {},
   "outputs": [
    {
     "name": "stdout",
     "output_type": "stream",
     "text": [
      "6\n",
      "1\n"
     ]
    }
   ],
   "source": [
    "print(20//3) #it will return interger floor value\n",
    "# floor valuse 6.67 is 6\n",
    "#floor value of 4.45 is  4\n",
    "# ceil value is 4.56 is 5\n",
    "print(3//2) # 1.5 floor value 1"
   ]
  },
  {
   "cell_type": "markdown",
   "id": "b156c289-c741-430d-98e6-0478018c0785",
   "metadata": {},
   "source": [
    "#### multiplication and addition_ and_substraction "
   ]
  },
  {
   "cell_type": "code",
   "execution_count": 42,
   "id": "f0f539f5-a825-49e3-9c19-b57c83e67ec0",
   "metadata": {},
   "outputs": [
    {
     "name": "stdout",
     "output_type": "stream",
     "text": [
      "16\n",
      "600\n",
      "400\n"
     ]
    }
   ],
   "source": [
    "print(4*4)\n",
    "print(1000-400)\n",
    "print(100+300)"
   ]
  },
  {
   "cell_type": "markdown",
   "id": "a1652bfa-fbb6-48e5-bb05-2d49444c5f23",
   "metadata": {},
   "source": [
    "$ modulo $"
   ]
  },
  {
   "cell_type": "code",
   "execution_count": 44,
   "id": "9cd9bcbf-0bd1-4c17-816e-31be1bab6e41",
   "metadata": {},
   "outputs": [
    {
     "name": "stdout",
     "output_type": "stream",
     "text": [
      "1\n"
     ]
    }
   ],
   "source": [
    "# it return reminder\n",
    "print(5%2)"
   ]
  },
  {
   "cell_type": "markdown",
   "id": "8c357b0e-1d0f-4e6c-a763-b6d2512577b8",
   "metadata": {},
   "source": [
    "$ eval $"
   ]
  },
  {
   "cell_type": "code",
   "execution_count": null,
   "id": "c6e7e0c7-df81-4ebf-9e16-fe641dc55819",
   "metadata": {},
   "outputs": [],
   "source": [
    "a=int(input()) # int\n",
    "b=float(input())# float\n",
    "c=input()# string \n",
    "c=eval(input())# depend upon the input which you provide it will convert on the base of input which you provide"
   ]
  }
 ],
 "metadata": {
  "kernelspec": {
   "display_name": "Python [conda env:base] *",
   "language": "python",
   "name": "conda-base-py"
  },
  "language_info": {
   "codemirror_mode": {
    "name": "ipython",
    "version": 3
   },
   "file_extension": ".py",
   "mimetype": "text/x-python",
   "name": "python",
   "nbconvert_exporter": "python",
   "pygments_lexer": "ipython3",
   "version": "3.13.5"
  }
 },
 "nbformat": 4,
 "nbformat_minor": 5
}
