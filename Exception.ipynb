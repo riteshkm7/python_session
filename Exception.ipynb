{
 "cells": [
  {
   "cell_type": "code",
   "execution_count": 3,
   "id": "ee9d5e62-4bba-40e1-bac4-071b003fd289",
   "metadata": {},
   "outputs": [
    {
     "name": "stdin",
     "output_type": "stream",
     "text": [
      "enter a number 23\n",
      "enter second  number df\n"
     ]
    },
    {
     "name": "stdout",
     "output_type": "stream",
     "text": [
      "name 'df' is not defined\n"
     ]
    }
   ],
   "source": [
    "# name error\n",
    "try:\n",
    "    num1=eval(input(\"enter a number\"))\n",
    "    num2=eval(input(\"enter second  number\"))\n",
    "    num3=num1+num2\n",
    "    print(num3)\n",
    "except Exception as e:\n",
    "    print(e)\n",
    "\n"
   ]
  },
  {
   "cell_type": "code",
   "execution_count": 15,
   "id": "274c5c7c-67d8-4619-9b69-ca0eb2bb9edf",
   "metadata": {},
   "outputs": [
    {
     "name": "stdin",
     "output_type": "stream",
     "text": [
      "enter a number fg\n"
     ]
    },
    {
     "name": "stdout",
     "output_type": "stream",
     "text": [
      "there  is error\n",
      "outside\n"
     ]
    }
   ],
   "source": [
    "# without printing the actual error name printing user statements using print\n",
    "try:\n",
    "    x=eval(input(\"enter a number\"))\n",
    "    print(\"the square of the {} is {}\".format(x,x*x))\n",
    "except:\n",
    "    print(\"there  is error\" ) # here\n",
    "print(\"outside\")"
   ]
  },
  {
   "cell_type": "code",
   "execution_count": 7,
   "id": "51625b1f-cfb1-4bbb-a49e-9f0b7ae49894",
   "metadata": {},
   "outputs": [
    {
     "name": "stdout",
     "output_type": "stream",
     "text": [
      "hello\n"
     ]
    },
    {
     "name": "stdin",
     "output_type": "stream",
     "text": [
      "enter a number 45\n",
      "enter second  number 0\n"
     ]
    },
    {
     "name": "stdout",
     "output_type": "stream",
     "text": [
      "division by zero\n",
      "if except will execute i will run every time\n",
      "code outside the try and except always run\n"
     ]
    }
   ],
   "source": [
    "# zero divison erro\n",
    "print(\"hello\")\n",
    "try: \n",
    "    num1=eval(input(\"enter a number\"))\n",
    "    num2=eval(input(\"enter second  number\"))\n",
    "    num3=num1/num2\n",
    "except Exception as e:\n",
    "    print(e)\n",
    "    print(\"if except will execute i will run every time\")\n",
    "print(\"code outside the try and except always run\")    \n",
    "    \n",
    "    \n",
    "\n",
    "    "
   ]
  },
  {
   "cell_type": "code",
   "execution_count": 8,
   "id": "dab486b7-c35c-4c69-8e40-7266d9ebe894",
   "metadata": {},
   "outputs": [
    {
     "name": "stdout",
     "output_type": "stream",
     "text": [
      "hello\n"
     ]
    },
    {
     "name": "stdin",
     "output_type": "stream",
     "text": [
      "enter a number 4\n",
      "enter second  number 0\n"
     ]
    },
    {
     "ename": "ZeroDivisionError",
     "evalue": "division by zero",
     "output_type": "error",
     "traceback": [
      "\u001b[1;31m---------------------------------------------------------------------------\u001b[0m",
      "\u001b[1;31mZeroDivisionError\u001b[0m                         Traceback (most recent call last)",
      "Cell \u001b[1;32mIn[8], line 6\u001b[0m\n\u001b[0;32m      4\u001b[0m num1\u001b[38;5;241m=\u001b[39m\u001b[38;5;28meval\u001b[39m(\u001b[38;5;28minput\u001b[39m(\u001b[38;5;124m\"\u001b[39m\u001b[38;5;124menter a number\u001b[39m\u001b[38;5;124m\"\u001b[39m))\n\u001b[0;32m      5\u001b[0m num2\u001b[38;5;241m=\u001b[39m\u001b[38;5;28meval\u001b[39m(\u001b[38;5;28minput\u001b[39m(\u001b[38;5;124m\"\u001b[39m\u001b[38;5;124menter second  number\u001b[39m\u001b[38;5;124m\"\u001b[39m))\n\u001b[1;32m----> 6\u001b[0m num3\u001b[38;5;241m=\u001b[39mnum1\u001b[38;5;241m/\u001b[39mnum2\n\u001b[0;32m      8\u001b[0m \u001b[38;5;28mprint\u001b[39m(\u001b[38;5;124m\"\u001b[39m\u001b[38;5;124mhello\u001b[39m\u001b[38;5;124m\"\u001b[39m)\n",
      "\u001b[1;31mZeroDivisionError\u001b[0m: division by zero"
     ]
    }
   ],
   "source": [
    "# zero divison erro without try and except if error occur it will terminate outside code after except will not run\n",
    "print(\"hello 1\")\n",
    " \n",
    "num1=eval(input(\"enter a number\"))\n",
    "num2=eval(input(\"enter second  number\"))\n",
    "num3=num1/num2\n",
    "\n",
    "print(\"hello 2\")    \n",
    "    "
   ]
  },
  {
   "cell_type": "code",
   "execution_count": 10,
   "id": "2660f782-5f4a-4a27-a8f0-71fe05eba744",
   "metadata": {},
   "outputs": [
    {
     "name": "stdout",
     "output_type": "stream",
     "text": [
      "hello\n"
     ]
    },
    {
     "name": "stdin",
     "output_type": "stream",
     "text": [
      "enter a number 43\n",
      "enter second  number 4\n"
     ]
    },
    {
     "name": "stdout",
     "output_type": "stream",
     "text": [
      "10.75\n",
      "code outside the try and except always run\n"
     ]
    }
   ],
   "source": [
    "\n",
    "# if no error then except will not execute\n",
    "print(\"hello\")\n",
    "try: \n",
    "    num1=eval(input(\"enter a number\"))\n",
    "    num2=eval(input(\"enter second  number\"))\n",
    "    num3=num1/num2\n",
    "    print(num3)\n",
    "except Exception as e:\n",
    "    print(e)\n",
    "    print(\"if except will execute i will run every time\")\n",
    "print(\"code outside the try and except always run\")    \n",
    "    "
   ]
  },
  {
   "cell_type": "code",
   "execution_count": 19,
   "id": "11902c3d-0c1c-4c91-925a-0b663b2f3f8e",
   "metadata": {},
   "outputs": [
    {
     "name": "stdin",
     "output_type": "stream",
     "text": [
      "enter a number 34\n"
     ]
    },
    {
     "name": "stdout",
     "output_type": "stream",
     "text": [
      "the square of the 34 is 1156\n",
      "hello\n"
     ]
    }
   ],
   "source": [
    "# if try block the exception  block must be there right in next line \n",
    "try:\n",
    "    x=eval(input(\"enter a number\"))\n",
    "    print(\"the square of the {} is {}\".format(x,x*x))\n",
    "#print(\"hello\") # it will give error\n",
    "except Exception as e:\n",
    "    print(e)\n",
    "finally:\n",
    "    print(\"hello\")\n",
    "    "
   ]
  },
  {
   "cell_type": "code",
   "execution_count": 20,
   "id": "f8b202c7-d10a-449d-9b72-ce6852e14173",
   "metadata": {},
   "outputs": [
    {
     "name": "stdin",
     "output_type": "stream",
     "text": [
      "enter a number dgd\n"
     ]
    },
    {
     "name": "stdout",
     "output_type": "stream",
     "text": [
      "please enter the number \n",
      "hello\n"
     ]
    }
   ],
   "source": [
    "# we can write own statement under the excetp block\n",
    "try:\n",
    "    x=eval(input(\"enter a number\"))\n",
    "    print(\"the square of the {} is {}\".format(x,x*x))\n",
    "except Exception as e:\n",
    "    print(\"please enter the number \")\n",
    "finally:\n",
    "    print(\"hello\")"
   ]
  },
  {
   "cell_type": "code",
   "execution_count": 33,
   "id": "c5d7b5cc-e5da-41db-991a-b5c6abc56db3",
   "metadata": {},
   "outputs": [
    {
     "name": "stdin",
     "output_type": "stream",
     "text": [
      "enter a number 2.3\n"
     ]
    },
    {
     "name": "stdout",
     "output_type": "stream",
     "text": [
      "please enter the number \n",
      "hello\n"
     ]
    }
   ],
   "source": [
    "# exception handling by providing class name in exception \n",
    "\n",
    "try:\n",
    "    x=int(input(\"enter a number\"))\n",
    "    y=int(input(\"enter second number\"))\n",
    "    print(x/y)\n",
    "except ValueError as e: # if other than number enter it will match\n",
    "    print(\"please enter the number \")\n",
    "except ZeroDivisionError as e: # if 0 enter it will match\n",
    "    print(e)\n",
    "except :# defalult exception handler\n",
    "    print(\"no match found  it will work\")\n",
    "finally:\n",
    "    print(\"hello\")"
   ]
  },
  {
   "cell_type": "code",
   "execution_count": 34,
   "id": "f0d7d17d-8198-43d0-88ee-da900c5e2ac2",
   "metadata": {},
   "outputs": [
    {
     "name": "stdin",
     "output_type": "stream",
     "text": [
      "enter a number fg\n"
     ]
    },
    {
     "name": "stdout",
     "output_type": "stream",
     "text": [
      "no match found  it will work\n",
      "hello\n"
     ]
    }
   ],
   "source": [
    "# exception handling by providing class name in exception when no match found default will run \n",
    "\n",
    "try:\n",
    "    x=int(input(\"enter a number\"))\n",
    "    y=int(input(\"enter second number\"))\n",
    "    print(x/y)\n",
    "except ZeroDivisionError as e: # if 0 enter it will match\n",
    "    print(e)\n",
    "except :# defalult exception handler\n",
    "    print(\"no match found  it will work\")\n",
    "finally:\n",
    "    print(\"hello\")"
   ]
  },
  {
   "cell_type": "code",
   "execution_count": 35,
   "id": "db0ee191-94e9-4707-832b-78519e66ad50",
   "metadata": {},
   "outputs": [
    {
     "name": "stdin",
     "output_type": "stream",
     "text": [
      "enter a number fsg\n"
     ]
    },
    {
     "name": "stdout",
     "output_type": "stream",
     "text": [
      "invalid literal for int() with base 10: 'fsg'\n",
      "hello\n"
     ]
    }
   ],
   "source": [
    "# exception handling by providing class name in exception when no match found default will run \n",
    "# printing Excetion object e\n",
    "try:\n",
    "    x=int(input(\"enter a number\"))\n",
    "    y=int(input(\"enter second number\"))\n",
    "    print(x/y)\n",
    "except ZeroDivisionError as e: # if 0 enter it will match\n",
    "    print(e)\n",
    "except Exception as e:# defalult exception handler\n",
    "    print(e)\n",
    "finally:\n",
    "    print(\"hello\")"
   ]
  },
  {
   "cell_type": "code",
   "execution_count": 40,
   "id": "3b5db079-e9c0-45ac-ad65-f9b48c7b2135",
   "metadata": {},
   "outputs": [
    {
     "name": "stdin",
     "output_type": "stream",
     "text": [
      "enter a number dg\n"
     ]
    },
    {
     "name": "stdout",
     "output_type": "stream",
     "text": [
      "hello\n"
     ]
    },
    {
     "ename": "ValueError",
     "evalue": "invalid literal for int() with base 10: 'dg'",
     "output_type": "error",
     "traceback": [
      "\u001b[1;31m---------------------------------------------------------------------------\u001b[0m",
      "\u001b[1;31mValueError\u001b[0m                                Traceback (most recent call last)",
      "Cell \u001b[1;32mIn[40], line 4\u001b[0m\n\u001b[0;32m      1\u001b[0m \u001b[38;5;66;03m# exception handling by providing class name in exception when no match found there is no default and no match found\u001b[39;00m\n\u001b[0;32m      2\u001b[0m \u001b[38;5;66;03m# in that case finally will execute and then terminate the program\u001b[39;00m\n\u001b[0;32m      3\u001b[0m \u001b[38;5;28;01mtry\u001b[39;00m:\n\u001b[1;32m----> 4\u001b[0m     x\u001b[38;5;241m=\u001b[39m\u001b[38;5;28mint\u001b[39m(\u001b[38;5;28minput\u001b[39m(\u001b[38;5;124m\"\u001b[39m\u001b[38;5;124menter a number\u001b[39m\u001b[38;5;124m\"\u001b[39m))\n\u001b[0;32m      5\u001b[0m     y\u001b[38;5;241m=\u001b[39m\u001b[38;5;28mint\u001b[39m(\u001b[38;5;28minput\u001b[39m(\u001b[38;5;124m\"\u001b[39m\u001b[38;5;124menter second number\u001b[39m\u001b[38;5;124m\"\u001b[39m))\n\u001b[0;32m      6\u001b[0m     \u001b[38;5;28mprint\u001b[39m(x\u001b[38;5;241m/\u001b[39my)\n",
      "\u001b[1;31mValueError\u001b[0m: invalid literal for int() with base 10: 'dg'"
     ]
    }
   ],
   "source": [
    "# exception handling by providing class name in exception when no match found there is no default and no match found\n",
    "# in that case finally will execute and then terminate the program\n",
    "try:\n",
    "    x=int(input(\"enter a number\"))\n",
    "    y=int(input(\"enter second number\"))\n",
    "    print(x/y)\n",
    "except ZeroDivisionError as e: # if 0 enter it will match\n",
    "    print(e)\n",
    "finally: # it will run always\n",
    "    print(\"hello\")\n",
    "print(\" will not run as no match found\" )    "
   ]
  },
  {
   "cell_type": "markdown",
   "id": "96967757-718f-4f34-9ddb-2e09da630f81",
   "metadata": {},
   "source": [
    "- type error when try to add with int and string\n",
    "- name error when variable not defined which going to use\n",
    "- value error when taking input as integer but entering the other"
   ]
  },
  {
   "cell_type": "code",
   "execution_count": null,
   "id": "8ca21822-633d-445d-b221-32adb6d31201",
   "metadata": {},
   "outputs": [],
   "source": []
  }
 ],
 "metadata": {
  "kernelspec": {
   "display_name": "Python [conda env:base] *",
   "language": "python",
   "name": "conda-base-py"
  },
  "language_info": {
   "codemirror_mode": {
    "name": "ipython",
    "version": 3
   },
   "file_extension": ".py",
   "mimetype": "text/x-python",
   "name": "python",
   "nbconvert_exporter": "python",
   "pygments_lexer": "ipython3",
   "version": "3.13.5"
  }
 },
 "nbformat": 4,
 "nbformat_minor": 5
}
