{
 "cells": [
  {
   "cell_type": "code",
   "execution_count": 1,
   "id": "c6275a5a-d856-4f6b-8a97-96aa6a23faf0",
   "metadata": {},
   "outputs": [
    {
     "name": "stdout",
     "output_type": "stream",
     "text": [
      "hello python\n"
     ]
    }
   ],
   "source": [
    "# string \n",
    "# how to read\n",
    "string1=\"hello\"\n",
    "string2=\"python\"\n",
    "print(string1,string2)"
   ]
  },
  {
   "cell_type": "code",
   "execution_count": 2,
   "id": "5e89b441-c05d-4fdd-9bac-5b80afacf75a",
   "metadata": {},
   "outputs": [
    {
     "name": "stdout",
     "output_type": "stream",
     "text": [
      "hello python \n"
     ]
    }
   ],
   "source": [
    "# doc string\n",
    "\"\"\" write a function to print hello python \n",
    "arguement none\n",
    "return none\"\"\"\n",
    "def fun():\n",
    "    print(\"hello python \")\n",
    "fun()    "
   ]
  },
  {
   "cell_type": "code",
   "execution_count": 5,
   "id": "a43b2abe-dbd1-46a3-a82e-1e3e70339d2c",
   "metadata": {},
   "outputs": [
    {
     "name": "stdout",
     "output_type": "stream",
     "text": [
      "hello  'python'\n"
     ]
    }
   ],
   "source": [
    "#  highlight string intilise with double quotes so highlight using single quotes and vice versa also possible\n",
    "st=\"hello  'python'\"\n",
    "print(st)"
   ]
  },
  {
   "cell_type": "code",
   "execution_count": 6,
   "id": "7ec31b8d-3bc9-4262-8f86-49a23d92bf7f",
   "metadata": {},
   "outputs": [
    {
     "name": "stdout",
     "output_type": "stream",
     "text": [
      "hello  \"python\"\n"
     ]
    }
   ],
   "source": [
    "st='hello  \"python\"'\n",
    "print(st)"
   ]
  },
  {
   "cell_type": "code",
   "execution_count": 7,
   "id": "fa69468c-1b35-424d-9d72-b13efd202d97",
   "metadata": {},
   "outputs": [
    {
     "name": "stdout",
     "output_type": "stream",
     "text": [
      "<class 'str'>\n"
     ]
    }
   ],
   "source": [
    "# type \n",
    "print(type(string1))"
   ]
  },
  {
   "cell_type": "code",
   "execution_count": 9,
   "id": "f045f84c-0f69-4503-864b-628747fdfb3d",
   "metadata": {},
   "outputs": [
    {
     "name": "stdout",
     "output_type": "stream",
     "text": [
      "y\n"
     ]
    }
   ],
   "source": [
    "# max return max char based on ascii value\n",
    "print(max(string2))"
   ]
  },
  {
   "cell_type": "code",
   "execution_count": null,
   "id": "d287888a-5f5a-414e-b984-1836daa8adca",
   "metadata": {},
   "outputs": [],
   "source": [
    "p"
   ]
  },
  {
   "cell_type": "code",
   "execution_count": 10,
   "id": "890cfce3-b99e-40e1-850d-a6c09b3767d0",
   "metadata": {},
   "outputs": [
    {
     "name": "stdout",
     "output_type": "stream",
     "text": [
      "p\n"
     ]
    }
   ],
   "source": [
    "print(max(\"Pp\"))"
   ]
  },
  {
   "cell_type": "code",
   "execution_count": null,
   "id": "19587199-5145-4df6-adbb-cda68ab9072f",
   "metadata": {},
   "outputs": [],
   "source": [
    "# min return min char \n"
   ]
  },
  {
   "cell_type": "code",
   "execution_count": 13,
   "id": "9bd41f2f-5608-4511-887c-b50d29a6f87c",
   "metadata": {},
   "outputs": [
    {
     "name": "stdout",
     "output_type": "stream",
     "text": [
      "A\n"
     ]
    }
   ],
   "source": [
    "print(min(\"Aa\"))"
   ]
  },
  {
   "cell_type": "code",
   "execution_count": 15,
   "id": "97f5a846-6b18-4c5a-a698-e2d56e42eda0",
   "metadata": {},
   "outputs": [
    {
     "name": "stdout",
     "output_type": "stream",
     "text": [
      "65\n"
     ]
    }
   ],
   "source": [
    "# ord\n",
    "#it return ascii value of coreesponding character\n",
    "print(ord(\"A\"))"
   ]
  },
  {
   "cell_type": "code",
   "execution_count": 18,
   "id": "f8c5ee99-2a2a-4388-834a-11b7212ef47c",
   "metadata": {},
   "outputs": [
    {
     "name": "stdout",
     "output_type": "stream",
     "text": [
      "h 104\n",
      "e 101\n",
      "l 108\n",
      "l 108\n",
      "o 111\n",
      "  32\n",
      "p 112\n",
      "y 121\n",
      "t 116\n",
      "h 104\n",
      "o 111\n",
      "n 110\n"
     ]
    }
   ],
   "source": [
    "# print all ascii value in string \n",
    "string=\"hello python\"\n",
    "for i in string:\n",
    "    print(i,ord(i))"
   ]
  },
  {
   "cell_type": "code",
   "execution_count": 21,
   "id": "f4ea3fa5-3c99-476f-a668-5d7fe767f05f",
   "metadata": {},
   "outputs": [
    {
     "name": "stdout",
     "output_type": "stream",
     "text": [
      "abcdefghijklmnopqrstuvwxyz\n",
      "ABCDEFGHIJKLMNOPQRSTUVWXYZ\n"
     ]
    }
   ],
   "source": [
    "# print ascii value of all upper case and lowecase letter for that we can use ascii_uppercase and lowercase method\n",
    "# which provide all the upper case and lowercase letter\n",
    "import string\n",
    "upper=string.ascii_uppercase\n",
    "lower=string.ascii_lowercase\n",
    "print(lower)\n",
    "print(upper)\n"
   ]
  },
  {
   "cell_type": "code",
   "execution_count": 35,
   "id": "1cb5864a-3628-4cd7-8399-795fc3eafb84",
   "metadata": {},
   "outputs": [
    {
     "name": "stdout",
     "output_type": "stream",
     "text": [
      "The ascii value of a is 97\n",
      "The ascii value of b is 98\n",
      "The ascii value of c is 99\n",
      "The ascii value of d is 100\n",
      "The ascii value of e is 101\n",
      "The ascii value of f is 102\n",
      "The ascii value of g is 103\n",
      "The ascii value of h is 104\n",
      "The ascii value of i is 105\n",
      "The ascii value of j is 106\n",
      "The ascii value of k is 107\n",
      "The ascii value of l is 108\n",
      "The ascii value of m is 109\n",
      "The ascii value of n is 110\n",
      "The ascii value of o is 111\n",
      "The ascii value of p is 112\n",
      "The ascii value of q is 113\n",
      "The ascii value of r is 114\n",
      "The ascii value of s is 115\n",
      "The ascii value of t is 116\n",
      "The ascii value of u is 117\n",
      "The ascii value of v is 118\n",
      "The ascii value of w is 119\n",
      "The ascii value of x is 120\n",
      "The ascii value of y is 121\n",
      "The ascii value of z is 122\n"
     ]
    }
   ],
   "source": [
    "for i in lower:\n",
    "    print(\"The ascii value of {} is {}\".format(i,ord(i)))    \n",
    "    "
   ]
  },
  {
   "cell_type": "code",
   "execution_count": 23,
   "id": "ad80409a-89cc-49d0-9563-dbffe14d6039",
   "metadata": {},
   "outputs": [
    {
     "name": "stdout",
     "output_type": "stream",
     "text": [
      "A = 65\n",
      "B = 66\n",
      "C = 67\n",
      "D = 68\n",
      "E = 69\n",
      "F = 70\n",
      "G = 71\n",
      "H = 72\n",
      "I = 73\n",
      "J = 74\n",
      "K = 75\n",
      "L = 76\n",
      "M = 77\n",
      "N = 78\n",
      "O = 79\n",
      "P = 80\n",
      "Q = 81\n",
      "R = 82\n",
      "S = 83\n",
      "T = 84\n",
      "U = 85\n",
      "V = 86\n",
      "W = 87\n",
      "X = 88\n",
      "Y = 89\n",
      "Z = 90\n"
     ]
    }
   ],
   "source": [
    "# print the ascii value of upper case\n",
    "for i in upper:\n",
    "    print(i,\"=\", ord(i))"
   ]
  },
  {
   "cell_type": "code",
   "execution_count": 24,
   "id": "b645f028-3c46-4e63-a245-40c725a39ed9",
   "metadata": {},
   "outputs": [
    {
     "name": "stdout",
     "output_type": "stream",
     "text": [
      "_\n"
     ]
    }
   ],
   "source": [
    "# chr it return the coressonponding character\n",
    "print(chr(95))"
   ]
  },
  {
   "cell_type": "code",
   "execution_count": 25,
   "id": "b9fd8b62-80f0-43d0-94a8-fee74410ed8e",
   "metadata": {},
   "outputs": [
    {
     "name": "stdout",
     "output_type": "stream",
     "text": [
      "!\n"
     ]
    }
   ],
   "source": [
    "print(chr(33))"
   ]
  },
  {
   "cell_type": "code",
   "execution_count": 27,
   "id": "3750dc12-913d-4624-9569-a18f6aaeb68a",
   "metadata": {},
   "outputs": [
    {
     "name": "stdout",
     "output_type": "stream",
     "text": [
      "a\n"
     ]
    }
   ],
   "source": [
    "print(chr(97))"
   ]
  },
  {
   "cell_type": "code",
   "execution_count": 28,
   "id": "cb1d828a-54df-4be5-b7a9-f88442081383",
   "metadata": {},
   "outputs": [
    {
     "name": "stdout",
     "output_type": "stream",
     "text": [
      "0 \u0000\n",
      "1 \u0001\n",
      "2 \u0002\n",
      "3 \u0003\n",
      "4 \u0004\n",
      "5 \u0005\n",
      "6 \u0006\n",
      "7 \u0007\n",
      "8\n",
      "9 \t\n",
      "10 \n",
      "\n",
      "11 \u000b",
      "\n",
      "12 \f",
      "\n",
      "13 \n",
      "14 \u000e\n",
      "15 \u000f\n",
      "16 \u0010\n",
      "17 \u0011\n",
      "18 \u0012\n",
      "19 \u0013\n",
      "20 \u0014\n",
      "21 \u0015\n",
      "22 \u0016\n",
      "23 \u0017\n",
      "24 \u0018\n",
      "25 \u0019\n",
      "26 \u001a\n",
      "27 \u001b\n",
      "28 \u001c",
      "\n",
      "29 \u001d",
      "\n",
      "30 \u001e",
      "\n",
      "31 \u001f\n",
      "32  \n",
      "33 !\n",
      "34 \"\n",
      "35 #\n",
      "36 $\n",
      "37 %\n",
      "38 &\n",
      "39 '\n",
      "40 (\n",
      "41 )\n",
      "42 *\n",
      "43 +\n",
      "44 ,\n",
      "45 -\n",
      "46 .\n",
      "47 /\n",
      "48 0\n",
      "49 1\n"
     ]
    }
   ],
   "source": [
    "# less find out the starting character \n",
    "for i in range(50):\n",
    "    print(i,chr(i))"
   ]
  },
  {
   "cell_type": "code",
   "execution_count": 30,
   "id": "7eb0e9d9-de39-4962-a625-d254f59835e6",
   "metadata": {},
   "outputs": [
    {
     "name": "stdout",
     "output_type": "stream",
     "text": [
      "100 d\n",
      "101 e\n",
      "102 f\n",
      "103 g\n",
      "104 h\n",
      "105 i\n",
      "106 j\n",
      "107 k\n",
      "108 l\n",
      "109 m\n",
      "110 n\n",
      "111 o\n",
      "112 p\n",
      "113 q\n",
      "114 r\n",
      "115 s\n",
      "116 t\n",
      "117 u\n",
      "118 v\n",
      "119 w\n",
      "120 x\n",
      "121 y\n",
      "122 z\n",
      "123 {\n",
      "124 |\n",
      "125 }\n",
      "126 ~\n",
      "127 \n",
      "128 \n",
      "129 \n",
      "130 \n",
      "131 \n",
      "132 \n",
      "133 ",
      "\n",
      "134 \n",
      "135 \n",
      "136 \n",
      "137 \n",
      "138 \n",
      "139 \n",
      "140 \n",
      "141 \n",
      "142 \n",
      "143 \n",
      "144 \n",
      "145 \n",
      "146 \n",
      "147 \n",
      "148 \n",
      "149 \n"
     ]
    }
   ],
   "source": [
    "# find  out the last ascii value\n",
    "for i in range(100,150):\n",
    "    print(i,chr(i))"
   ]
  },
  {
   "cell_type": "code",
   "execution_count": 34,
   "id": "682c3ca1-87db-42c4-87b8-a201701251c1",
   "metadata": {},
   "outputs": [
    {
     "name": "stdout",
     "output_type": "stream",
     "text": [
      "0123456789abcdefghijklmnopqrstuvwxyzABCDEFGHIJKLMNOPQRSTUVWXYZ!\"#$%&'()*+,-./:;<=>?@[\\]^_`{|}~ \t\n",
      "\u000b",
      "\f",
      "\n",
      "100\n"
     ]
    }
   ],
   "source": [
    "# hence staring ascii 33=! and ending  126= ~ total characters 93 not necesarry ignore\n",
    "\n",
    "pri=string.printable\n",
    "print(pri)\n",
    "print(len(pri))\n"
   ]
  },
  {
   "cell_type": "code",
   "execution_count": 36,
   "id": "7d08d2b6-222b-41db-b226-7bfec2143993",
   "metadata": {},
   "outputs": [
    {
     "name": "stdout",
     "output_type": "stream",
     "text": [
      "The number of a is : 3\n"
     ]
    }
   ],
   "source": [
    "# WAP ask the user find number of 'a' letters in a given strinh\n",
    "# string='hai how are you and how do you do'\n",
    "str1=\"hai how are you and how do you do\"\n",
    "count=0\n",
    "for i in str1:\n",
    "    if i==\"a\":\n",
    "        count+=1\n",
    "print(\"The number of a is :\",count)        "
   ]
  },
  {
   "cell_type": "code",
   "execution_count": 38,
   "id": "d154c205-7256-4d22-9e02-091fbe642303",
   "metadata": {},
   "outputs": [
    {
     "name": "stdout",
     "output_type": "stream",
     "text": [
      "7\n",
      "7\n"
     ]
    }
   ],
   "source": [
    "# WAP count the number of vowels in a given string\n",
    "# string='hai how are you'\n",
    "\n",
    "# normal way\n",
    "count=0\n",
    "string1=\"hai how are you \"\n",
    "\n",
    "for i in  string1:\n",
    "    if i==\"a\":\n",
    "        count+=1\n",
    "    if i==\"e\":\n",
    "        count+=1\n",
    "    if i==\"i\":\n",
    "        count+=1\n",
    "    if i==\"o\":\n",
    "        count+=1\n",
    "    if i==\"u\":\n",
    "        count+=1    \n",
    "print(count)\n",
    "\n",
    "# best way \n",
    "count=0\n",
    "str1=\"hai how are you\"\n",
    "for i in str1:\n",
    "    if i in \"aeiou\": # in operator also use in condition also \n",
    "        count=count+1\n",
    "print(count) \n"
   ]
  },
  {
   "cell_type": "code",
   "execution_count": null,
   "id": "b057ed1d-951b-4933-a31d-9e506f86c77d",
   "metadata": {},
   "outputs": [],
   "source": [
    "# WAP count the number of unique vowels in a given string\n",
    "# in this we required a blank strring\n",
    "# if any fist we have to check it is vowel or not\n",
    "# then check if it is in second blank available or not \n",
    "# if not then add in blank string increase the count\n",
    "# if already avaialble in blank string skip the iteration using continue\n"
   ]
  },
  {
   "cell_type": "code",
   "execution_count": 44,
   "id": "2052f962-f45d-4980-97b3-9e766cd1dc8f",
   "metadata": {},
   "outputs": [
    {
     "name": "stdout",
     "output_type": "stream",
     "text": [
      "python\n"
     ]
    },
    {
     "data": {
      "text/plain": [
       "'hi'"
      ]
     },
     "execution_count": 44,
     "metadata": {},
     "output_type": "execute_result"
    }
   ],
   "source": [
    "# way to create blank string and then add the char in that\n",
    "str1=\"\"\n",
    "str2=\"python\"\n",
    "str1=str1+str2 # simply add the string in that blank string\n",
    "print(str1)\n",
    "str3=\"\"\n",
    "str3=str3+\"h\" # add h first\n",
    "str3=str3+\"i\" # now i add\n",
    "str3"
   ]
  },
  {
   "cell_type": "code",
   "execution_count": 47,
   "id": "69239019-1a47-479c-ab4f-6d58e5107f24",
   "metadata": {},
   "outputs": [
    {
     "name": "stdout",
     "output_type": "stream",
     "text": [
      "python\n"
     ]
    }
   ],
   "source": [
    "# if we want to add in blank string \"\" pyhton character by charcter\n",
    "# use for loop\n",
    "str1=\"\"\n",
    "str2=\"python\"\n",
    "for i in str2:\n",
    "    str1=str1+i # here i =p,y,t,h,o,n\n",
    "print(str1)\n"
   ]
  },
  {
   "cell_type": "code",
   "execution_count": 50,
   "id": "790ef308-cbca-41be-aecd-240b98239ca8",
   "metadata": {},
   "outputs": [
    {
     "name": "stdout",
     "output_type": "stream",
     "text": [
      "The unique vowels are 5\n"
     ]
    }
   ],
   "source": [
    "# wap to calculate the unique vowel in given string\n",
    "count=0\n",
    "str1=\"aaaaaaaaaaaaeeeeeeoooooooooouuuuuuuuuiiiiiiiiiii\"\n",
    "str2=\"\" # blank string \n",
    "for i in str1:\n",
    "    # first  we need to check it is vowel or not\n",
    "    if i in \"aeiou\":\n",
    "        # now we need check in  second second sting for duplicate values if yes then skip the iteration \n",
    "        if i in str2:\n",
    "            continue\n",
    "        else:\n",
    "            # put the charater in blank string\n",
    "            str2=str2+i\n",
    "            # then increase the count\n",
    "            count=count+1\n",
    "print(\"The unique vowels are\",count)            "
   ]
  },
  {
   "cell_type": "code",
   "execution_count": null,
   "id": "b3fc9dbd-7586-4f67-9b8d-050b370a5e1e",
   "metadata": {},
   "outputs": [],
   "source": [
    "# concatenation using +"
   ]
  },
  {
   "cell_type": "code",
   "execution_count": 51,
   "id": "4408a821-28ae-42c1-bf73-4fd1a0bae33e",
   "metadata": {},
   "outputs": [
    {
     "name": "stdout",
     "output_type": "stream",
     "text": [
      "hellopython\n"
     ]
    }
   ],
   "source": [
    "str1=\"hello\"\n",
    "str2=\"python\"\n",
    "print(str1+str2)\n",
    "#str1-str2 # not possible\n",
    "#str1/str2 # not possible\n",
    "str1*str2 # not possible in multple string can  be multiply by integer only"
   ]
  },
  {
   "cell_type": "code",
   "execution_count": 53,
   "id": "dd90a5ad-a6d4-45c3-91a3-728bb4f0474d",
   "metadata": {},
   "outputs": [
    {
     "data": {
      "text/plain": [
       "'hellohello'"
      ]
     },
     "execution_count": 53,
     "metadata": {},
     "output_type": "execute_result"
    }
   ],
   "source": [
    "str1*2"
   ]
  },
  {
   "cell_type": "code",
   "execution_count": 54,
   "id": "b1a7dd5b-3895-46e7-bdfd-269333c68c43",
   "metadata": {},
   "outputs": [
    {
     "data": {
      "text/plain": [
       "'hellohellohellohellohellohello'"
      ]
     },
     "execution_count": 54,
     "metadata": {},
     "output_type": "execute_result"
    }
   ],
   "source": [
    "str1*6 # 6 times hello will print"
   ]
  },
  {
   "cell_type": "code",
   "execution_count": null,
   "id": "7ba5af1d-0472-4473-a8ef-37f8e2fd1b0b",
   "metadata": {},
   "outputs": [],
   "source": [
    "#index operator  accessing string throgh index "
   ]
  },
  {
   "cell_type": "code",
   "execution_count": null,
   "id": "71e29fbb-7730-4f41-a8f1-2ee69b8e426d",
   "metadata": {},
   "outputs": [],
   "source": [
    "str2=\"hello python\""
   ]
  },
  {
   "cell_type": "code",
   "execution_count": 57,
   "id": "0d2d8e93-117d-4578-b1ea-875d84e84618",
   "metadata": {},
   "outputs": [
    {
     "name": "stdout",
     "output_type": "stream",
     "text": [
      "t\n",
      "p\n"
     ]
    }
   ],
   "source": [
    "print(str2[2])\n",
    "print(str2[0])"
   ]
  },
  {
   "cell_type": "code",
   "execution_count": null,
   "id": "5c49b041-3755-4b96-8ee5-8880ae4760a1",
   "metadata": {},
   "outputs": [],
   "source": [
    "# using for loop with index acessing each character of string\n",
    "# to access using index we need to provide the index value like str[index]\n",
    "# range function always take integer"
   ]
  },
  {
   "cell_type": "code",
   "execution_count": 60,
   "id": "a5056474-f2e9-4208-85cb-ddfe3a0211b5",
   "metadata": {},
   "outputs": [
    {
     "name": "stdout",
     "output_type": "stream",
     "text": [
      "python"
     ]
    }
   ],
   "source": [
    "for i in range(6): # here i from 0 to 5 so indes value 0 to 5\n",
    "    print(str2[i],end=\"\")"
   ]
  },
  {
   "cell_type": "code",
   "execution_count": 62,
   "id": "828e1343-dbe2-4c5a-bc3b-6aada182c8e3",
   "metadata": {},
   "outputs": [
    {
     "name": "stdout",
     "output_type": "stream",
     "text": [
      "hello python"
     ]
    }
   ],
   "source": [
    "str2=\"hello python\"\n",
    "for i in range(len(str2)): # using len(str2) will provide the entire lenth stirng index\n",
    "    print(str2[i],end=\"\")"
   ]
  },
  {
   "cell_type": "code",
   "execution_count": 65,
   "id": "d6dc4206-be6f-4254-b2d5-4709205fe476",
   "metadata": {},
   "outputs": [
    {
     "name": "stdout",
     "output_type": "stream",
     "text": [
      "h\n",
      "e\n",
      "l\n",
      "l\n",
      "o\n",
      " \n",
      "p\n",
      "y\n",
      "t\n",
      "h\n",
      "o\n",
      "n\n",
      "the index is 0 and letter is h\n",
      "the index is 1 and letter is e\n",
      "the index is 2 and letter is l\n",
      "the index is 3 and letter is l\n",
      "the index is 4 and letter is o\n",
      "the index is 5 and letter is  \n",
      "the index is 6 and letter is p\n",
      "the index is 7 and letter is y\n",
      "the index is 8 and letter is t\n",
      "the index is 9 and letter is h\n",
      "the index is 10 and letter is o\n",
      "the index is 11 and letter is n\n"
     ]
    }
   ],
   "source": [
    "# if you want to pring only letters use in \n",
    "# if you wan to print index or letter or both use range\n",
    "str2=\"hello python\"\n",
    "for i in str2:\n",
    "    print(i)\n",
    "# printing index and letter also\n",
    "for j in range(len(str2)):\n",
    "    print(\"the index is {} and letter is {}\".format(j,str2[j]))"
   ]
  },
  {
   "cell_type": "code",
   "execution_count": 1,
   "id": "75cf29d1-9b64-4fd4-9cc3-55bcbb65c986",
   "metadata": {},
   "outputs": [
    {
     "data": {
      "text/plain": [
       "'n'"
      ]
     },
     "execution_count": 1,
     "metadata": {},
     "output_type": "execute_result"
    }
   ],
   "source": [
    "# negative index \n",
    "string=\"pyhton\"\n",
    "string[-1]"
   ]
  },
  {
   "cell_type": "markdown",
   "id": "be3bf475-7830-4520-8ca0-d72d43f17186",
   "metadata": {},
   "source": [
    "### note in negative index last valus index value is -1 and first value is -n ###\n"
   ]
  },
  {
   "cell_type": "code",
   "execution_count": 16,
   "id": "20e7bcbd-9330-41ea-94b9-648453f9a17a",
   "metadata": {},
   "outputs": [
    {
     "name": "stdout",
     "output_type": "stream",
     "text": [
      "-1 n\n",
      "-2 o\n",
      "-3 t\n",
      "-4 h\n",
      "-5 y\n",
      "-6 p\n"
     ]
    }
   ],
   "source": [
    "# print the stirng using negative  index in reverse\n",
    "for i in range(-1,-len(string)-1,-1):\n",
    "    print(i,string[i])"
   ]
  },
  {
   "cell_type": "code",
   "execution_count": null,
   "id": "589879cd-d5e5-443b-ad4f-cb80fb3567f6",
   "metadata": {},
   "outputs": [],
   "source": [
    "# in correct order using negative indes"
   ]
  },
  {
   "cell_type": "code",
   "execution_count": 21,
   "id": "17fd8571-3f51-4d29-9373-9d5a0c82fa4c",
   "metadata": {},
   "outputs": [
    {
     "name": "stdout",
     "output_type": "stream",
     "text": [
      "-6 p\n",
      "-5 y\n",
      "-4 h\n",
      "-3 t\n",
      "-2 o\n",
      "-1 n\n"
     ]
    }
   ],
   "source": [
    "for i in range(-len(string),0):\n",
    "    print(i,string[i])\n",
    "    "
   ]
  },
  {
   "cell_type": "code",
   "execution_count": 43,
   "id": "0cd6ec20-f6c1-4e3f-8aa5-f51b6d2901dc",
   "metadata": {},
   "outputs": [
    {
     "name": "stdout",
     "output_type": "stream",
     "text": [
      "0 p\n",
      "1 y\n",
      "2 t\n",
      "3 h\n",
      "4 o\n",
      "5 n\n"
     ]
    }
   ],
   "source": [
    "for i in range(6):\n",
    "    print(i,string[i])"
   ]
  },
  {
   "cell_type": "code",
   "execution_count": 44,
   "id": "c935a7ec-bb61-4ddd-b8e6-6f8622313030",
   "metadata": {},
   "outputs": [
    {
     "name": "stdout",
     "output_type": "stream",
     "text": [
      "-6\n",
      "-5\n",
      "-4\n",
      "-3\n",
      "-2\n",
      "-1\n",
      "the negative index are -6 and the letters are p\n",
      "the negative index are -5 and the letters are y\n",
      "the negative index are -4 and the letters are t\n",
      "the negative index are -3 and the letters are h\n",
      "the negative index are -2 and the letters are o\n",
      "the negative index are -1 and the letters are n\n"
     ]
    }
   ],
   "source": [
    "# convert it into -6 to -1\n",
    "for i in range(6):\n",
    "    print(i-6)# 0-6=-5 and last 5-6=-1\n",
    "\n",
    "\n",
    "\n",
    "for i in range(len(string)):\n",
    "    #print(\"the negative index are {} and the letters are {}\".format((i-6),string[i]))\n",
    "    print(\"the negative index are {} and the letters are {}\".format((i-len(string)),string[i])) #in gerneral -len(string ) which 6\n",
    "                                                                                       # to get negative indes from postive \n",
    "\n",
    "    "
   ]
  },
  {
   "cell_type": "code",
   "execution_count": 26,
   "id": "2a7dde5d-4f25-493f-9e5f-0b0d58bc4759",
   "metadata": {},
   "outputs": [
    {
     "name": "stdout",
     "output_type": "stream",
     "text": [
      "The postive index 0 and negative index is -6 and the letter is p\n",
      "The postive index 1 and negative index is -5 and the letter is y\n",
      "The postive index 2 and negative index is -4 and the letter is h\n",
      "The postive index 3 and negative index is -3 and the letter is t\n",
      "The postive index 4 and negative index is -2 and the letter is o\n",
      "The postive index 5 and negative index is -1 and the letter is n\n"
     ]
    }
   ],
   "source": [
    "# print both negative and pos index and also letter\n",
    "for i in range(len(string)):\n",
    "    print(\"The postive index {} and negative index is {} and the letter is {}\".format(i,(i-6),string[i]))"
   ]
  },
  {
   "cell_type": "code",
   "execution_count": 33,
   "id": "759d84ef-6db3-4b89-955a-6d9d64ddf954",
   "metadata": {},
   "outputs": [
    {
     "name": "stdout",
     "output_type": "stream",
     "text": [
      "The negative index -6 for p\n",
      "The negative index -5 for y\n",
      "The negative index -4 for t\n",
      "The negative index -3 for h\n",
      "The negative index -2 for o\n",
      "The negative index -1 for n\n"
     ]
    }
   ],
   "source": [
    "# negative index using negative string length\n",
    "string=\"python\"\n",
    "for i in range(-len(string),0):\n",
    "    print(\"The negative index {} for {}\".format(i,string[i]))\n",
    "\n"
   ]
  },
  {
   "cell_type": "code",
   "execution_count": null,
   "id": "e61b031e-9592-46f1-b044-6bacf3550859",
   "metadata": {},
   "outputs": [],
   "source": [
    "# postive index using negative string"
   ]
  },
  {
   "cell_type": "code",
   "execution_count": 35,
   "id": "0acac2ce-5650-433d-9b51-6b41f2fb127b",
   "metadata": {},
   "outputs": [
    {
     "name": "stdout",
     "output_type": "stream",
     "text": [
      "postive index 0 for p\n",
      "postive index 1 for y\n",
      "postive index 2 for t\n",
      "postive index 3 for h\n",
      "postive index 4 for o\n",
      "postive index 5 for n\n"
     ]
    }
   ],
   "source": [
    "for i in range(-len(string),0): # we want convern -6 t0 0 \n",
    "                                # -6+6=0 and ans soo on so in i+6 give postive indes\n",
    "    #print(\"postive index {} for {}\".format((i+6),string[i]))\n",
    "    print(\"postive index {} for {}\".format((i+len(string)),string[i]))# generalise as len of sting is add with i to get postive indes\n",
    "\n",
    "    \n",
    "    "
   ]
  },
  {
   "cell_type": "code",
   "execution_count": 42,
   "id": "0781f67e-f626-4621-aafe-08a5b1e5d994",
   "metadata": {},
   "outputs": [
    {
     "name": "stdout",
     "output_type": "stream",
     "text": [
      "postive index 0  and negative index -6 for p\n",
      "postive index 1  and negative index -5 for y\n",
      "postive index 2  and negative index -4 for t\n",
      "postive index 3  and negative index -3 for h\n",
      "postive index 4  and negative index -2 for o\n",
      "postive index 5  and negative index -1 for n\n"
     ]
    }
   ],
   "source": [
    "# using negative index print both postive and negative\n",
    "for i in range(-len(string),0):\n",
    "   # print(\"postive index {}  and negative index {} for {}\".format((i+6),i,string[i]))\n",
    "    # in general as to make from negative to pos index we need add len of sting in i so\n",
    "    print(\"postive index {}  and negative index {} for {}\".format((i+len(string)),i,string[i]))\n",
    "\n",
    "    "
   ]
  },
  {
   "cell_type": "code",
   "execution_count": null,
   "id": "2c766cc0-c6d3-469f-865e-83427f0e32b9",
   "metadata": {},
   "outputs": [],
   "source": [
    "# using while loop"
   ]
  },
  {
   "cell_type": "code",
   "execution_count": 45,
   "id": "fd8002a7-d819-49e2-a497-ec9fa74317b7",
   "metadata": {},
   "outputs": [
    {
     "name": "stdout",
     "output_type": "stream",
     "text": [
      "0 p\n",
      "1 y\n",
      "2 t\n",
      "3 h\n",
      "4 o\n",
      "5 n\n"
     ]
    }
   ],
   "source": [
    "# print index and letter \n",
    "string1=\"python\"\n",
    "i=0\n",
    "while(i<len(string1)):\n",
    "    print(i,string1[i])\n",
    "    i=i+1\n"
   ]
  },
  {
   "cell_type": "code",
   "execution_count": 49,
   "id": "f6f936af-be40-46f7-b7f7-aedb40176d54",
   "metadata": {},
   "outputs": [
    {
     "name": "stdout",
     "output_type": "stream",
     "text": [
      "The negative index is -6 of p\n",
      "The negative index is -5 of y\n",
      "The negative index is -4 of t\n",
      "The negative index is -3 of h\n",
      "The negative index is -2 of o\n",
      "The negative index is -1 of n\n"
     ]
    }
   ],
   "source": [
    "# print negative index using postive indes\n",
    "i=0\n",
    "while(i<len(string)):\n",
    "    print(\"The negative index is {} of {}\".format((i-6),string[i]))\n",
    "    i=i+1"
   ]
  },
  {
   "cell_type": "code",
   "execution_count": null,
   "id": "075af393-e105-4114-94d9-34834fc8beec",
   "metadata": {},
   "outputs": [],
   "source": [
    "# print boht pos and negative from postive"
   ]
  },
  {
   "cell_type": "code",
   "execution_count": 50,
   "id": "77f3aed8-8142-41a0-8111-92e7938f2688",
   "metadata": {},
   "outputs": [
    {
     "name": "stdout",
     "output_type": "stream",
     "text": [
      "The negative index is -6 and postive is 0 for p\n",
      "The negative index is -5 and postive is 1 for y\n",
      "The negative index is -4 and postive is 2 for t\n",
      "The negative index is -3 and postive is 3 for h\n",
      "The negative index is -2 and postive is 4 for o\n",
      "The negative index is -1 and postive is 5 for n\n"
     ]
    }
   ],
   "source": [
    "i=0\n",
    "while(i<len(string)):\n",
    "    print(\"The negative index is {} and postive is {} for {}\".format((i-6),i,string[i]))\n",
    "    i=i+1"
   ]
  },
  {
   "cell_type": "code",
   "execution_count": null,
   "id": "5555986b-1aa3-41a2-bf62-4b579d3605d5",
   "metadata": {},
   "outputs": [],
   "source": [
    "# print using negative index"
   ]
  },
  {
   "cell_type": "code",
   "execution_count": 51,
   "id": "22d46b2c-364f-4978-baaf-5b6c166ab474",
   "metadata": {},
   "outputs": [
    {
     "name": "stdout",
     "output_type": "stream",
     "text": [
      "-6 p\n",
      "-5 y\n",
      "-4 t\n",
      "-3 h\n",
      "-2 o\n",
      "-1 n\n"
     ]
    }
   ],
   "source": [
    "i=-len(string)\n",
    "while(i<0):\n",
    "    print(i,string[i])\n",
    "    i=i+1"
   ]
  },
  {
   "cell_type": "code",
   "execution_count": 52,
   "id": "8a2e1076-725b-4924-a618-2295cc2826cf",
   "metadata": {},
   "outputs": [
    {
     "name": "stdout",
     "output_type": "stream",
     "text": [
      "the postive index is 0 for p \n",
      "the postive index is 1 for y \n",
      "the postive index is 2 for t \n",
      "the postive index is 3 for h \n",
      "the postive index is 4 for o \n",
      "the postive index is 5 for n \n"
     ]
    }
   ],
   "source": [
    "# from negative  index make postive indes\n",
    "i=-len(string)\n",
    "while(i<0):\n",
    "    print(\"the postive index is {} for {} \".format((i+6),string[i]))\n",
    "    i=i+1"
   ]
  },
  {
   "cell_type": "code",
   "execution_count": 53,
   "id": "5231315e-b67f-4d98-95d8-295a0a15340f",
   "metadata": {},
   "outputs": [
    {
     "name": "stdout",
     "output_type": "stream",
     "text": [
      "the postive index is 0 and negative indes -6 is for p \n",
      "the postive index is 1 and negative indes -5 is for y \n",
      "the postive index is 2 and negative indes -4 is for t \n",
      "the postive index is 3 and negative indes -3 is for h \n",
      "the postive index is 4 and negative indes -2 is for o \n",
      "the postive index is 5 and negative indes -1 is for n \n"
     ]
    }
   ],
   "source": [
    "# from negative indes print post negative index \n",
    "i=-len(string)\n",
    "while(i<0):\n",
    "    print(\"the postive index is {} and negative indes {} is for {} \".format((i+6),i,string[i]))\n",
    "    i=i+1"
   ]
  },
  {
   "cell_type": "code",
   "execution_count": 54,
   "id": "63cd0ce0-4912-4c55-bfd9-87f0f39ea531",
   "metadata": {},
   "outputs": [
    {
     "name": "stdout",
     "output_type": "stream",
     "text": [
      "the count of  a is 2\n"
     ]
    }
   ],
   "source": [
    "# count the number of  a in string using range\n",
    "count=0\n",
    "str1=\"hai how are you\"\n",
    "for i in range(len(str1)):\n",
    "    if str1[i]==\"a\":\n",
    "        count+=1\n",
    "print(\"the count of  a is\", count)        "
   ]
  },
  {
   "cell_type": "markdown",
   "id": "677cf710-af4f-4002-9c9e-fe321f2f401b",
   "metadata": {},
   "source": [
    "### string are immutable because it cannot change using index operation###\n",
    "-but it can change using methods but not with the index operation that is why it is immutable"
   ]
  },
  {
   "cell_type": "code",
   "execution_count": 71,
   "id": "4f4c579f-dd87-436a-a0ac-307a04c2c61d",
   "metadata": {},
   "outputs": [],
   "source": [
    "# slicing "
   ]
  },
  {
   "cell_type": "code",
   "execution_count": null,
   "id": "c39bcb2a-9b91-490f-91b1-9b755966855b",
   "metadata": {},
   "outputs": [],
   "source": [
    "string1=\"hi how are you\""
   ]
  },
  {
   "cell_type": "code",
   "execution_count": 75,
   "id": "9db75815-09ed-4084-aa79-4ccd726be426",
   "metadata": {},
   "outputs": [
    {
     "data": {
      "text/plain": [
       "''"
      ]
     },
     "execution_count": 75,
     "metadata": {},
     "output_type": "execute_result"
    }
   ],
   "source": [
    "string[8:-15:2] # np"
   ]
  },
  {
   "cell_type": "code",
   "execution_count": 76,
   "id": "e0485548-6a50-43a8-a42c-cb24170a34c9",
   "metadata": {},
   "outputs": [
    {
     "data": {
      "text/plain": [
       "'o r'"
      ]
     },
     "execution_count": 76,
     "metadata": {},
     "output_type": "execute_result"
    }
   ],
   "source": [
    "string1[-2:8:-2]"
   ]
  },
  {
   "cell_type": "code",
   "execution_count": 77,
   "id": "97958f92-1a19-437a-89f2-fbbdb2fd0691",
   "metadata": {},
   "outputs": [
    {
     "data": {
      "text/plain": [
       "'o r'"
      ]
     },
     "execution_count": 77,
     "metadata": {},
     "output_type": "execute_result"
    }
   ],
   "source": [
    "string1[-2:8:-2]"
   ]
  },
  {
   "cell_type": "code",
   "execution_count": 78,
   "id": "58c95664-a92a-427c-a337-8f6f4b0f74aa",
   "metadata": {},
   "outputs": [],
   "source": [
    "# but in range it will not possible"
   ]
  },
  {
   "cell_type": "code",
   "execution_count": 81,
   "id": "9168e448-59f4-4276-931c-369ee7a5c144",
   "metadata": {},
   "outputs": [],
   "source": [
    "for i in range(-2,8,-2): # as value postive directon but step negative \n",
    "    print(i)"
   ]
  },
  {
   "cell_type": "code",
   "execution_count": 82,
   "id": "e0f9dfe6-f044-4fde-b98a-8d22bc0b6351",
   "metadata": {},
   "outputs": [
    {
     "data": {
      "text/plain": [
       "'hai how are you'"
      ]
     },
     "execution_count": 82,
     "metadata": {},
     "output_type": "execute_result"
    }
   ],
   "source": [
    "# default s=0 end=lenth-1 and step 1\n",
    "string1[:]# print entite string \n",
    "           "
   ]
  },
  {
   "cell_type": "code",
   "execution_count": 84,
   "id": "57e0c3b1-c711-43eb-8b1d-10c594557b2b",
   "metadata": {},
   "outputs": [
    {
     "data": {
      "text/plain": [
       "'hai how are you'"
      ]
     },
     "execution_count": 84,
     "metadata": {},
     "output_type": "execute_result"
    }
   ],
   "source": [
    "# default\n",
    "string1[::]"
   ]
  },
  {
   "cell_type": "markdown",
   "id": "1fc8e4a8-4fca-4e72-aa66-ccf6f818e041",
   "metadata": {},
   "source": [
    "-15  -14  -13  -12  -11  -10  -9  -8  -7  -6  -5  -4  -3  -2  -1\n",
    "h     a    i          h   o   w        a   r   e       y   o  u\n",
    "0     1    2    3     4   5   6    7   8   9  10  11   12  13 14 "
   ]
  },
  {
   "cell_type": "code",
   "execution_count": null,
   "id": "b247f3ac-e428-462b-9ec9-5341ab5740f0",
   "metadata": {},
   "outputs": [],
   "source": [
    "string1=\"hi how are you\""
   ]
  },
  {
   "cell_type": "code",
   "execution_count": 85,
   "id": "c44d68cc-0982-4660-a270-545b216d4d32",
   "metadata": {},
   "outputs": [
    {
     "data": {
      "text/plain": [
       "'ai how are you'"
      ]
     },
     "execution_count": 85,
     "metadata": {},
     "output_type": "execute_result"
    }
   ],
   "source": [
    "string1[1:] "
   ]
  },
  {
   "cell_type": "code",
   "execution_count": 87,
   "id": "fe0ac0df-47d3-4d4b-b120-b060f0b37b19",
   "metadata": {},
   "outputs": [
    {
     "data": {
      "text/plain": [
       "'u'"
      ]
     },
     "execution_count": 87,
     "metadata": {},
     "output_type": "execute_result"
    }
   ],
   "source": [
    "string1[-1:] # s=-1 end 15-1=14 and step 1 try to find directly 14 no rotate as 14 concide wiht -1 so only u"
   ]
  },
  {
   "cell_type": "code",
   "execution_count": 88,
   "id": "c8f89e51-7a34-4c61-9bec-13bdd88d131f",
   "metadata": {},
   "outputs": [
    {
     "data": {
      "text/plain": [
       "'hai how are yo'"
      ]
     },
     "execution_count": 88,
     "metadata": {},
     "output_type": "execute_result"
    }
   ],
   "source": [
    "string1[:-1] # default s=0 end=stop-1  stop =-1 so end=-1-1=-2 step 1 pos\n",
    "             # so 0 to -2 "
   ]
  },
  {
   "cell_type": "code",
   "execution_count": null,
   "id": "16ea0b4f-2fa6-4f30-9d32-82bed52d5960",
   "metadata": {},
   "outputs": [],
   "source": [
    "string1[2:14:2] ## P\n",
    "string1[2:14:-2] # Np\n",
    "string1[2:-14:2] # np\n",
    "string1[2:-14:-2] # \n",
    "string1[-2:14:2] # p\n",
    "string1[-2:-14:2] # np\n",
    "string1[-2:-14:-2]"
   ]
  },
  {
   "cell_type": "code",
   "execution_count": null,
   "id": "4c4de555-3919-4e88-9a0f-4530431be3e1",
   "metadata": {},
   "outputs": [],
   "source": []
  },
  {
   "cell_type": "code",
   "execution_count": null,
   "id": "27a8ae18-d702-404a-b41d-b8f6000b8b8a",
   "metadata": {},
   "outputs": [],
   "source": [
    "-15  -14  -13  -12  -11  -10  -9  -8  -7  -6  -5  -4  -3  -2  -1\n",
    "h     a    i          h   o   w        a   r   e       y   o  u\n",
    "0     1    2    3     4   5   6    7   8   9  10  11   12  13 14 "
   ]
  },
  {
   "cell_type": "code",
   "execution_count": 89,
   "id": "b427c27a-b56b-40e8-bfa9-fa1b1ac52848",
   "metadata": {},
   "outputs": [
    {
     "data": {
      "text/plain": [
       "'ihwaey'"
      ]
     },
     "execution_count": 89,
     "metadata": {},
     "output_type": "execute_result"
    }
   ],
   "source": [
    "string1[2:14:2] ## P\n"
   ]
  },
  {
   "cell_type": "code",
   "execution_count": 90,
   "id": "3b26aa8c-1bb0-47af-8f3e-8efa1dd4b63b",
   "metadata": {},
   "outputs": [
    {
     "data": {
      "text/plain": [
       "''"
      ]
     },
     "execution_count": 90,
     "metadata": {},
     "output_type": "execute_result"
    }
   ],
   "source": [
    "string1[2:14:-2] # Np"
   ]
  },
  {
   "cell_type": "code",
   "execution_count": 91,
   "id": "90555477-d7a2-426b-a390-a0514f7bdb25",
   "metadata": {},
   "outputs": [
    {
     "data": {
      "text/plain": [
       "''"
      ]
     },
     "execution_count": 91,
     "metadata": {},
     "output_type": "execute_result"
    }
   ],
   "source": [
    "string1[2:-14:2] # np\n"
   ]
  },
  {
   "cell_type": "code",
   "execution_count": 92,
   "id": "9258238e-53a4-4267-a78e-c2c3db14a4be",
   "metadata": {},
   "outputs": [
    {
     "data": {
      "text/plain": [
       "'i'"
      ]
     },
     "execution_count": 92,
     "metadata": {},
     "output_type": "execute_result"
    }
   ],
   "source": [
    "string1[2:-14:-2] # s=2 end=-14+1=-13 step -2 so only \"i\" as from 2 13 is over there \n"
   ]
  },
  {
   "cell_type": "code",
   "execution_count": 93,
   "id": "5b0b4005-8ae8-4872-934e-fa851234973b",
   "metadata": {},
   "outputs": [
    {
     "data": {
      "text/plain": [
       "''"
      ]
     },
     "execution_count": 93,
     "metadata": {},
     "output_type": "execute_result"
    }
   ],
   "source": [
    "string1[2:-4:-2] # s=2 end=-4+1=-3 step is -2 so from 2 to -3 in forwared but direction is back so np"
   ]
  },
  {
   "cell_type": "code",
   "execution_count": 94,
   "id": "c1dd0487-0bf2-4f7e-9d36-ead4e6dcae90",
   "metadata": {},
   "outputs": [
    {
     "data": {
      "text/plain": [
       "'ia'"
      ]
     },
     "execution_count": 94,
     "metadata": {},
     "output_type": "execute_result"
    }
   ],
   "source": [
    "string1[2:-15:-1] # s=2 end=-14 sstep =1 so 2 to -14 ia it will directly take the value without roation from 2,1,0,-1 it will go\n",
    "                                                             #like this\n"
   ]
  },
  {
   "cell_type": "code",
   "execution_count": null,
   "id": "dcfe529f-1a15-4b5f-836d-7b1945158ba3",
   "metadata": {},
   "outputs": [],
   "source": [
    "string1[-2:-14:2] # np\n"
   ]
  },
  {
   "cell_type": "code",
   "execution_count": 95,
   "id": "d5b81a8a-2230-43dd-bba3-498578b944be",
   "metadata": {},
   "outputs": [
    {
     "data": {
      "text/plain": [
       "'o r o '"
      ]
     },
     "execution_count": 95,
     "metadata": {},
     "output_type": "execute_result"
    }
   ],
   "source": [
    "string1[-2:-14:-2]"
   ]
  },
  {
   "cell_type": "markdown",
   "id": "dbf17cb4-da0f-49fe-a2c8-8ef7b9b86018",
   "metadata": {},
   "source": [
    "### note always check for the slicing by  writin boht pos and neg indes it is not like range ###"
   ]
  },
  {
   "cell_type": "code",
   "execution_count": 102,
   "id": "eb991712-52f0-4862-b3ee-108a55538c55",
   "metadata": {},
   "outputs": [
    {
     "name": "stdout",
     "output_type": "stream",
     "text": [
      "2\n"
     ]
    }
   ],
   "source": [
    "# wap to count using indes\n",
    "count=0\n",
    "string2=\"hai how are you\"\n",
    "for  i in range(len(string1)):\n",
    "    if string2[i]==\"a\":\n",
    "        count+=1\n",
    "print(count)        \n",
    "        \n",
    "    "
   ]
  },
  {
   "cell_type": "code",
   "execution_count": null,
   "id": "e8b070fa-429c-4b52-9aec-5a949c4ae7d3",
   "metadata": {},
   "outputs": [],
   "source": [
    "# string methods"
   ]
  },
  {
   "cell_type": "code",
   "execution_count": 114,
   "id": "c6d7c98f-3573-40e6-bcb1-27a664440b97",
   "metadata": {},
   "outputs": [
    {
     "data": {
      "text/plain": [
       "['__add__',\n",
       " '__class__',\n",
       " '__contains__',\n",
       " '__delattr__',\n",
       " '__dir__',\n",
       " '__doc__',\n",
       " '__eq__',\n",
       " '__format__',\n",
       " '__ge__',\n",
       " '__getattribute__',\n",
       " '__getitem__',\n",
       " '__getnewargs__',\n",
       " '__getstate__',\n",
       " '__gt__',\n",
       " '__hash__',\n",
       " '__init__',\n",
       " '__init_subclass__',\n",
       " '__iter__',\n",
       " '__le__',\n",
       " '__len__',\n",
       " '__lt__',\n",
       " '__mod__',\n",
       " '__mul__',\n",
       " '__ne__',\n",
       " '__new__',\n",
       " '__reduce__',\n",
       " '__reduce_ex__',\n",
       " '__repr__',\n",
       " '__rmod__',\n",
       " '__rmul__',\n",
       " '__setattr__',\n",
       " '__sizeof__',\n",
       " '__str__',\n",
       " '__subclasshook__',\n",
       " 'capitalize',\n",
       " 'casefold',\n",
       " 'center',\n",
       " 'count',\n",
       " 'encode',\n",
       " 'endswith',\n",
       " 'expandtabs',\n",
       " 'find',\n",
       " 'format',\n",
       " 'format_map',\n",
       " 'index',\n",
       " 'isalnum',\n",
       " 'isalpha',\n",
       " 'isascii',\n",
       " 'isdecimal',\n",
       " 'isdigit',\n",
       " 'isidentifier',\n",
       " 'islower',\n",
       " 'isnumeric',\n",
       " 'isprintable',\n",
       " 'isspace',\n",
       " 'istitle',\n",
       " 'isupper',\n",
       " 'join',\n",
       " 'ljust',\n",
       " 'lower',\n",
       " 'lstrip',\n",
       " 'maketrans',\n",
       " 'partition',\n",
       " 'removeprefix',\n",
       " 'removesuffix',\n",
       " 'replace',\n",
       " 'rfind',\n",
       " 'rindex',\n",
       " 'rjust',\n",
       " 'rpartition',\n",
       " 'rsplit',\n",
       " 'rstrip',\n",
       " 'split',\n",
       " 'splitlines',\n",
       " 'startswith',\n",
       " 'strip',\n",
       " 'swapcase',\n",
       " 'title',\n",
       " 'translate',\n",
       " 'upper',\n",
       " 'zfill']"
      ]
     },
     "execution_count": 114,
     "metadata": {},
     "output_type": "execute_result"
    }
   ],
   "source": [
    "\n",
    "# we can directly pass any string inside directly without importing string it will go all methods\n",
    "dir(\"\") # empty string is also string \n",
    "# we can check in this way also help(\"\".capitalize)\n",
    "# or standard method\n",
    "# or \n",
    "string2=\"hello\"\n",
    "dir(string2)\n"
   ]
  },
  {
   "cell_type": "code",
   "execution_count": null,
   "id": "340e268b-2267-4adc-aa5e-a931c83fd1e7",
   "metadata": {},
   "outputs": [],
   "source": []
  },
  {
   "cell_type": "markdown",
   "id": "ce903cc6-b6ef-4c20-81c1-81be4a5d6d21",
   "metadata": {},
   "source": [
    "## note string package have different method than the string which we intialise ##"
   ]
  },
  {
   "cell_type": "code",
   "execution_count": 116,
   "id": "4a9589d6-3d83-4402-818f-cee6452eb16c",
   "metadata": {},
   "outputs": [
    {
     "name": "stdout",
     "output_type": "stream",
     "text": [
      "Welcome\n"
     ]
    }
   ],
   "source": [
    "# capitallise make capital of  first letter\n",
    "string3=\"welcome\"\n",
    "print(string3.capitalize())\n",
    "\n"
   ]
  },
  {
   "cell_type": "code",
   "execution_count": null,
   "id": "6f461857-e546-44ee-8a20-71504b05d2c4",
   "metadata": {},
   "outputs": [],
   "source": [
    "# upper case all letter will be in upper case"
   ]
  },
  {
   "cell_type": "code",
   "execution_count": 118,
   "id": "54b9ed32-4b67-403e-85c8-3e6f62304721",
   "metadata": {},
   "outputs": [
    {
     "data": {
      "text/plain": [
       "'WELCOME'"
      ]
     },
     "execution_count": 118,
     "metadata": {},
     "output_type": "execute_result"
    }
   ],
   "source": [
    "string3.upper()"
   ]
  },
  {
   "cell_type": "code",
   "execution_count": null,
   "id": "e6de6bbd-4591-4dc1-8746-2bf15336338e",
   "metadata": {},
   "outputs": [],
   "source": [
    "# lowercase"
   ]
  },
  {
   "cell_type": "code",
   "execution_count": 121,
   "id": "0ae2b265-d842-42b2-ac8d-d7fc8daadad0",
   "metadata": {},
   "outputs": [
    {
     "data": {
      "text/plain": [
       "'welcome'"
      ]
     },
     "execution_count": 121,
     "metadata": {},
     "output_type": "execute_result"
    }
   ],
   "source": [
    "string3=\"WELCOME\"\n",
    "string3.lower()"
   ]
  },
  {
   "cell_type": "code",
   "execution_count": 132,
   "id": "37738a0f-1b81-4e6d-95a4-df248ceaa103",
   "metadata": {},
   "outputs": [
    {
     "name": "stdout",
     "output_type": "stream",
     "text": [
      "weLcome\n"
     ]
    }
   ],
   "source": [
    "# replace\n",
    "string3=\"welcome\"\n",
    "string3=string3.replace(\"l\",\"L\")\n",
    "print(string3)\n"
   ]
  },
  {
   "cell_type": "code",
   "execution_count": 138,
   "id": "ea05c983-bd91-417d-9872-5d41054383a3",
   "metadata": {},
   "outputs": [
    {
     "name": "stdout",
     "output_type": "stream",
     "text": [
      "riTesh\n",
      "ritesh\n"
     ]
    }
   ],
   "source": [
    "string4=\"ritesh\"\n",
    "# replace t with T\n",
    "# implement this using logic using index and concatenation \n",
    "# first divide the entire string into two part from where you want add L \n",
    "# then concatenate two string with desired letter\n",
    "\n",
    "str1=string4[:2]# will give 0 and 1 means ri\n",
    "str2=string4[3:] # defaul end=6 len of string will give esh from 3,4,5 index\n",
    "# now concatenate wiht L\n",
    "string4=str1+\"T\"+str2\n",
    "print(string4)\n",
    "# but using replace  it can done  only use replace method\n",
    "string4=string4.replace(\"T\",\"t\")\n",
    "print(string4)"
   ]
  },
  {
   "cell_type": "code",
   "execution_count": 5,
   "id": "7979566f-dcfb-4279-ae25-ab062e0fef9b",
   "metadata": {},
   "outputs": [
    {
     "name": "stdout",
     "output_type": "stream",
     "text": [
      "2\n",
      "olaolaola\n"
     ]
    }
   ],
   "source": [
    "# wap to print how many ola in the string wihtout count\n",
    "count=0\n",
    "str1=\"\"\n",
    "string1=\"ola ola ola\"\n",
    "for i in string1:\n",
    "    if i==\"o\":\n",
    "        str1=str1+i\n",
    "        \n",
    "    elif  i==\"l\":\n",
    "        str1=str1+i\n",
    "        \n",
    "    elif i==\"a\":\n",
    "        str1=str1+i\n",
    "    elif i==\" \":\n",
    "        count=count+1\n",
    "print(count)        \n",
    "print(str1)        \n",
    "        "
   ]
  },
  {
   "cell_type": "code",
   "execution_count": 10,
   "id": "6a5f26d0-1612-40ea-b0a0-6b7f4034fc73",
   "metadata": {},
   "outputs": [
    {
     "name": "stdout",
     "output_type": "stream",
     "text": [
      "restaRt\n"
     ]
    }
   ],
   "source": [
    "string1=\"restart\"\n",
    "str1=string1[0:5]\n",
    "str2=string1[6:]\n",
    "string1=str1+\"R\"+str2\n",
    "print(string1)\n"
   ]
  },
  {
   "cell_type": "code",
   "execution_count": 14,
   "id": "334dc4d0-14d2-4a1f-b9ac-be870ba0e5c6",
   "metadata": {},
   "outputs": [
    {
     "data": {
      "text/plain": [
       "'olleh'"
      ]
     },
     "execution_count": 14,
     "metadata": {},
     "output_type": "execute_result"
    }
   ],
   "source": [
    "str2=\"hello\"\n",
    "str2[::]\n",
    "str2[:]\n",
    "str2[::-1]"
   ]
  },
  {
   "cell_type": "markdown",
   "id": "69731552-4ada-4b23-a26f-46759eaa8740",
   "metadata": {},
   "source": [
    "$ casefold $"
   ]
  },
  {
   "cell_type": "code",
   "execution_count": 37,
   "id": "9c14f5e3-3ece-4570-b991-68b23be9f193",
   "metadata": {},
   "outputs": [
    {
     "data": {
      "text/plain": [
       "'welcome'"
      ]
     },
     "execution_count": 37,
     "metadata": {},
     "output_type": "execute_result"
    }
   ],
   "source": [
    "# it is like lowercase convert all letter in lowecase\n",
    "string1=\"WelcOme\"\n",
    "string1.casefold()"
   ]
  },
  {
   "cell_type": "markdown",
   "id": "354528fe-5577-4be9-a042-ae9a5ee42d81",
   "metadata": {},
   "source": [
    "$ count $ \n",
    "- it return number of occurence of particuler character in string"
   ]
  },
  {
   "cell_type": "code",
   "execution_count": 38,
   "id": "3394af56-9146-4368-936b-e8e4e257ec02",
   "metadata": {},
   "outputs": [
    {
     "data": {
      "text/plain": [
       "2"
      ]
     },
     "execution_count": 38,
     "metadata": {},
     "output_type": "execute_result"
    }
   ],
   "source": [
    "string1=\"hai how are you\"\n",
    "string1.count(\"a\")"
   ]
  },
  {
   "cell_type": "code",
   "execution_count": 40,
   "id": "dbd30843-aa7a-438c-a79f-a7d2d85c08e3",
   "metadata": {},
   "outputs": [
    {
     "data": {
      "text/plain": [
       "0"
      ]
     },
     "execution_count": 40,
     "metadata": {},
     "output_type": "execute_result"
    }
   ],
   "source": [
    "string1.count(\"z\") # note if no match found which arguement is pass return 0 not error"
   ]
  },
  {
   "cell_type": "code",
   "execution_count": null,
   "id": "ec84d4db-014b-4b0f-af5f-f37458e4f607",
   "metadata": {},
   "outputs": [],
   "source": [
    "# developer way"
   ]
  },
  {
   "cell_type": "code",
   "execution_count": 42,
   "id": "c9a1c62a-5c71-4737-9eac-ad7ed4e452a7",
   "metadata": {},
   "outputs": [
    {
     "name": "stdout",
     "output_type": "stream",
     "text": [
      "2\n"
     ]
    }
   ],
   "source": [
    "count=0\n",
    "for i in string1:\n",
    "    if i==\"a\":\n",
    "        count+=1\n",
    "\n",
    "print(count)        "
   ]
  },
  {
   "cell_type": "code",
   "execution_count": 106,
   "id": "65b71206-52cb-417e-bdbf-974358dbc9ce",
   "metadata": {},
   "outputs": [
    {
     "name": "stdout",
     "output_type": "stream",
     "text": [
      "3\n"
     ]
    }
   ],
   "source": [
    "# if we want to count any substring like in ola ola ola how count ola\n",
    "# we use  slicing operation \n",
    "# string1=\"ola ola ola\"\n",
    "count=0\n",
    "string1=\"ola ola ola\"\n",
    "for i in range(len(string1)):\n",
    "    if string1[i:i+3]==\"ola\": # slicing using loop possible in only range function \n",
    "        count=count+1\n",
    "print(count)        \n",
    "    \n",
    "    "
   ]
  },
  {
   "cell_type": "code",
   "execution_count": 46,
   "id": "f98efe71-a4c0-4801-9889-f1da7f6135bd",
   "metadata": {},
   "outputs": [
    {
     "data": {
      "text/plain": [
       "0"
      ]
     },
     "execution_count": 46,
     "metadata": {},
     "output_type": "execute_result"
    }
   ],
   "source": [
    "string1.count(\"olae\") # if not found zero"
   ]
  },
  {
   "cell_type": "code",
   "execution_count": 47,
   "id": "f48401a0-4f74-48cb-9a1f-8ec041ecef16",
   "metadata": {},
   "outputs": [
    {
     "data": {
      "text/plain": [
       "3"
      ]
     },
     "execution_count": 47,
     "metadata": {},
     "output_type": "execute_result"
    }
   ],
   "source": [
    "string1.count(\"a\")"
   ]
  },
  {
   "cell_type": "code",
   "execution_count": 49,
   "id": "cdde842e-c186-4e46-9160-7d6532844e71",
   "metadata": {},
   "outputs": [
    {
     "name": "stdout",
     "output_type": "stream",
     "text": [
      "2\n"
     ]
    }
   ],
   "source": [
    "# we can directly apply on string\n",
    "print(\"hello\".count(\"l\"))"
   ]
  },
  {
   "cell_type": "code",
   "execution_count": 50,
   "id": "98bc160a-a5c1-4cdb-a097-9ad0f6bac40b",
   "metadata": {},
   "outputs": [
    {
     "data": {
      "text/plain": [
       "0"
      ]
     },
     "execution_count": 50,
     "metadata": {},
     "output_type": "execute_result"
    }
   ],
   "source": [
    "# it will check only consecutive letters \n",
    "string1.count(\"oal\") # it will check a after o"
   ]
  },
  {
   "cell_type": "code",
   "execution_count": 2,
   "id": "35adfb02-035b-4f18-85af-8cee72617480",
   "metadata": {},
   "outputs": [
    {
     "data": {
      "text/plain": [
       "1"
      ]
     },
     "execution_count": 2,
     "metadata": {},
     "output_type": "execute_result"
    }
   ],
   "source": [
    "# we can also provide the starting and ending index also to count\n",
    "string1=\"hai how are you\"\n",
    "string1.count(\"a\",2)\n"
   ]
  },
  {
   "cell_type": "code",
   "execution_count": 60,
   "id": "19451e19-8f63-4332-a948-08416209f71a",
   "metadata": {},
   "outputs": [
    {
     "data": {
      "text/plain": [
       "2"
      ]
     },
     "execution_count": 60,
     "metadata": {},
     "output_type": "execute_result"
    }
   ],
   "source": [
    "#default start and end 0 and end length-1\n",
    "string1.count(\"a\",2) # now it will starting counting from 2 index start=2 end last indes defalut\n",
    "string1.count(\"a\",2,4) # start=2 and end=3 \n",
    "string1.count(\"i\",2)\n",
    "string1.count(\"a\",1,8) # as end stope-1 which 7 at 7 space is there\n",
    "string1.count(\"a\".upper())# 0\n",
    "string1.count(\"A\".lower())# 2"
   ]
  },
  {
   "cell_type": "markdown",
   "id": "2f891feb-4ebd-4d64-880e-1d59cb59cbe1",
   "metadata": {},
   "source": [
    "$ Replace $\n",
    "- it is used to replace the string with the give string replace(\"old\",\"new\",count=-1)\n",
    "- count=-1 means it will replace all occurance\n",
    "- if  we provide count value 1  it will replace only 1 first occurance of a not a ll\n",
    "- to give manual occurance simply write 1 not count=1"
   ]
  },
  {
   "cell_type": "code",
   "execution_count": 110,
   "id": "8255a02b-495f-434d-912a-3cc218761a79",
   "metadata": {},
   "outputs": [
    {
     "data": {
      "text/plain": [
       "'hzi how zre you'"
      ]
     },
     "execution_count": 110,
     "metadata": {},
     "output_type": "execute_result"
    }
   ],
   "source": [
    "string1=\"hai how are you\"\n",
    "string1.replace(\"a\" ,\"z\") # all occurance will replace"
   ]
  },
  {
   "cell_type": "code",
   "execution_count": 109,
   "id": "399641df-f80e-4f38-988d-31805fe9a4cf",
   "metadata": {},
   "outputs": [
    {
     "data": {
      "text/plain": [
       "'hzi how are you'"
      ]
     },
     "execution_count": 109,
     "metadata": {},
     "output_type": "execute_result"
    }
   ],
   "source": [
    "string1=\"hai how are you\"\n",
    "string1.replace(\"a\" ,\"z\",1) # only first occuranc will  replace"
   ]
  },
  {
   "cell_type": "code",
   "execution_count": 62,
   "id": "336956ec-05bf-45f5-98c9-c4877dd81a2e",
   "metadata": {},
   "outputs": [
    {
     "data": {
      "text/plain": [
       "'hai how are why'"
      ]
     },
     "execution_count": 62,
     "metadata": {},
     "output_type": "execute_result"
    }
   ],
   "source": [
    "string1.replace(\"you\", \"why\") # you can replace all the words "
   ]
  },
  {
   "cell_type": "code",
   "execution_count": 64,
   "id": "c6acb0a8-d441-456a-9a69-6c8059614b37",
   "metadata": {},
   "outputs": [
    {
     "data": {
      "text/plain": [
       "'hai how are you'"
      ]
     },
     "execution_count": 64,
     "metadata": {},
     "output_type": "execute_result"
    }
   ],
   "source": [
    "string1.replace(\"x\", \"y\") # if not found any replace value no error"
   ]
  },
  {
   "cell_type": "code",
   "execution_count": 67,
   "id": "e31dc3d5-3156-42c5-ad2b-e32ef3429de6",
   "metadata": {},
   "outputs": [
    {
     "name": "stdout",
     "output_type": "stream",
     "text": [
      "hai why are you\n"
     ]
    }
   ],
   "source": [
    "# using developer mode to replace\n",
    "# replace how with why\n",
    "string1=\"hai how are you\"\n",
    "str1=string1[0:4]\n",
    "str2=string1[7:]\n",
    "str3=str1+\"why\"+str2\n",
    "print(str3)"
   ]
  },
  {
   "cell_type": "code",
   "execution_count": 68,
   "id": "a77595c7-92cd-4382-960f-63a984025976",
   "metadata": {},
   "outputs": [
    {
     "data": {
      "text/plain": [
       "'hki how are you'"
      ]
     },
     "execution_count": 68,
     "metadata": {},
     "output_type": "execute_result"
    }
   ],
   "source": [
    "string1.replace(\"a\",\"k\",1)# replace  only one occurance of a from left to right"
   ]
  },
  {
   "cell_type": "code",
   "execution_count": 69,
   "id": "0911b73c-3934-4b96-9b3f-defd2584c569",
   "metadata": {},
   "outputs": [
    {
     "data": {
      "text/plain": [
       "'kestakt'"
      ]
     },
     "execution_count": 69,
     "metadata": {},
     "output_type": "execute_result"
    }
   ],
   "source": [
    "\"restart\".replace(\"r\",\"k\")"
   ]
  },
  {
   "cell_type": "code",
   "execution_count": 70,
   "id": "7f05953e-02de-46ce-86f7-7dab7b40189e",
   "metadata": {},
   "outputs": [
    {
     "data": {
      "text/plain": [
       "'kestakt'"
      ]
     },
     "execution_count": 70,
     "metadata": {},
     "output_type": "execute_result"
    }
   ],
   "source": [
    "\"restart\".replace(\"r\",\"k\",2)"
   ]
  },
  {
   "cell_type": "code",
   "execution_count": 71,
   "id": "a8a2e36c-6487-4f39-bbeb-fad73888f0e9",
   "metadata": {},
   "outputs": [
    {
     "name": "stdout",
     "output_type": "stream",
     "text": [
      "restazt\n"
     ]
    }
   ],
   "source": [
    "# i want to replace only second r not first how can  i  do\n",
    "# way1\n",
    "string2=\"restart\"\n",
    "# take the string that  not  contain first r\n",
    "str1=string2[0]\n",
    "str2=string2[1:] #estart\n",
    "# now apply in this replace\n",
    "str2=str2.replace(\"r\",\"z\")\n",
    "# now add both string \n",
    "string1=str1+str2\n",
    "print(string1)\n"
   ]
  },
  {
   "cell_type": "code",
   "execution_count": 72,
   "id": "fe6ac58b-39fe-4d19-abbe-e746b9227a13",
   "metadata": {},
   "outputs": [
    {
     "name": "stdout",
     "output_type": "stream",
     "text": [
      "reverse: tratser\n",
      "original  restazt\n"
     ]
    }
   ],
   "source": [
    "# another way by reversing the string \n",
    "# to  reverse using slice use [::-1]\n",
    "string1=\"restart\"\n",
    "string1=string1[::-1]\n",
    "print(\"reverse:\",string1)\n",
    "# now apply replace  on reverse string only on first accourance tar\n",
    "string1=string1.replace(\"r\",\"z\",1)\n",
    "# now apply again reverse to get original\n",
    "string1=string1[::-1]\n",
    "print(\"original \",string1)\n"
   ]
  },
  {
   "cell_type": "markdown",
   "id": "661f71dd-9324-4508-a137-ea7d1460fb25",
   "metadata": {},
   "source": [
    "$ index $  \n",
    "- it will return the index of given string always give lowest indes if word is pass\n",
    "- if index not found it will give value error\n",
    "- it will give index only first occurance\n",
    "- we can also provide  staring and end value also\n",
    "- default 0 to length-1"
   ]
  },
  {
   "cell_type": "code",
   "execution_count": 73,
   "id": "46cdfd30-de33-4980-b070-aa3f4f4d8a65",
   "metadata": {},
   "outputs": [
    {
     "data": {
      "text/plain": [
       "4"
      ]
     },
     "execution_count": 73,
     "metadata": {},
     "output_type": "execute_result"
    }
   ],
   "source": [
    "string1=\"hai how are you\"\n",
    "string1.index(\"how\")"
   ]
  },
  {
   "cell_type": "code",
   "execution_count": 74,
   "id": "af19d936-b322-4427-a306-99851af21a6b",
   "metadata": {},
   "outputs": [
    {
     "data": {
      "text/plain": [
       "0"
      ]
     },
     "execution_count": 74,
     "metadata": {},
     "output_type": "execute_result"
    }
   ],
   "source": [
    "string1.index(\"h\")"
   ]
  },
  {
   "cell_type": "code",
   "execution_count": 75,
   "id": "3de74cad-c645-473e-942a-4a0a782563e7",
   "metadata": {},
   "outputs": [
    {
     "ename": "ValueError",
     "evalue": "substring not found",
     "output_type": "error",
     "traceback": [
      "\u001b[1;31m---------------------------------------------------------------------------\u001b[0m",
      "\u001b[1;31mValueError\u001b[0m                                Traceback (most recent call last)",
      "Cell \u001b[1;32mIn[75], line 1\u001b[0m\n\u001b[1;32m----> 1\u001b[0m string1\u001b[38;5;241m.\u001b[39mindex(\u001b[38;5;124m\"\u001b[39m\u001b[38;5;124mz\u001b[39m\u001b[38;5;124m\"\u001b[39m)\n",
      "\u001b[1;31mValueError\u001b[0m: substring not found"
     ]
    }
   ],
   "source": [
    "string1.index(\"z\")# z will not found through error"
   ]
  },
  {
   "cell_type": "code",
   "execution_count": 77,
   "id": "64e93f92-e6f5-4a96-89d8-4bb1472399ae",
   "metadata": {},
   "outputs": [
    {
     "data": {
      "text/plain": [
       "8"
      ]
     },
     "execution_count": 77,
     "metadata": {},
     "output_type": "execute_result"
    }
   ],
   "source": [
    "string1=\"hai how are you hai\"\n",
    "\n",
    "string1.index(\"a\",2) # starting index 2 will search from 2"
   ]
  },
  {
   "cell_type": "code",
   "execution_count": 80,
   "id": "a5d590d8-23ff-44ae-b627-0c838a0b2ec7",
   "metadata": {},
   "outputs": [
    {
     "ename": "ValueError",
     "evalue": "substring not found",
     "output_type": "error",
     "traceback": [
      "\u001b[1;31m---------------------------------------------------------------------------\u001b[0m",
      "\u001b[1;31mValueError\u001b[0m                                Traceback (most recent call last)",
      "Cell \u001b[1;32mIn[80], line 1\u001b[0m\n\u001b[1;32m----> 1\u001b[0m string1\u001b[38;5;241m.\u001b[39mindex(\u001b[38;5;124m\"\u001b[39m\u001b[38;5;124ma\u001b[39m\u001b[38;5;124m\"\u001b[39m,\u001b[38;5;241m2\u001b[39m,\u001b[38;5;241m8\u001b[39m)\n",
      "\u001b[1;31mValueError\u001b[0m: substring not found"
     ]
    }
   ],
   "source": [
    "string1.index(\"a\",2,8) # s=2 and  end=8-1=7 a not  found  through error"
   ]
  },
  {
   "cell_type": "code",
   "execution_count": 81,
   "id": "fe7f2981-79a0-41e1-9325-c21031a59683",
   "metadata": {},
   "outputs": [
    {
     "data": {
      "text/plain": [
       "8"
      ]
     },
     "execution_count": 81,
     "metadata": {},
     "output_type": "execute_result"
    }
   ],
   "source": [
    "string1.index(\"a\",2,9) # from 2 to 8"
   ]
  },
  {
   "cell_type": "code",
   "execution_count": null,
   "id": "caf92b66-8e54-4fa1-9025-0814c6fea796",
   "metadata": {},
   "outputs": [],
   "source": [
    "# Note  it will give only first time occurance of string index \n"
   ]
  },
  {
   "cell_type": "code",
   "execution_count": null,
   "id": "25c306b5-9839-4fd6-89db-7e90b739ac9c",
   "metadata": {},
   "outputs": [],
   "source": [
    "# wap to print index of  all the occurance of a in string1\n",
    "# developer way 1"
   ]
  },
  {
   "cell_type": "code",
   "execution_count": 88,
   "id": "2814567b-61e1-417e-bbc2-bc2304a91d8f",
   "metadata": {},
   "outputs": [
    {
     "name": "stdout",
     "output_type": "stream",
     "text": [
      "index of  a is 1\n",
      "index of  a is 8\n",
      "index of  a is 17\n",
      "index of  a is 19\n"
     ]
    }
   ],
   "source": [
    "string1=\"hai how are you gaya\"\n",
    "for i in range(len(string1)):\n",
    "    if string1[i]==\"a\":\n",
    "        print(\"index of  a is {}\".format(i))\n",
    "    \n",
    "    "
   ]
  },
  {
   "cell_type": "code",
   "execution_count": null,
   "id": "87d4778f-476c-4613-9d67-4cb23424acf4",
   "metadata": {},
   "outputs": [],
   "source": [
    "# using index method"
   ]
  },
  {
   "cell_type": "code",
   "execution_count": 91,
   "id": "28b0aeb6-10d2-4ff6-8dcc-5afb1aeeb080",
   "metadata": {},
   "outputs": [
    {
     "data": {
      "text/plain": [
       "17"
      ]
     },
     "execution_count": 91,
     "metadata": {},
     "output_type": "execute_result"
    }
   ],
   "source": [
    "string1=\"hai how are you hai\"\n",
    "i1=string1.index(\"a\",0)# it will give index 1 of a\n",
    "\n",
    "# now we need to check from above index 1 becoze if s=1 it will give aagin 1 so we need s=2\n",
    "i2=string1.index(\"a\",2)# it will check from 3 index and give 8 \n",
    "\n",
    "# as it will provide  only first occurance of index that is why end indes not  require\n",
    "# now we will check from 9 if s=8 then it again print 8 as start value always include\n",
    "i3=string1.index(\"a\",9)\n",
    " # and so onn\n",
    "\n",
    "\n"
   ]
  },
  {
   "cell_type": "code",
   "execution_count": null,
   "id": "e42590fe-7707-4da4-b5c7-aaa6b3d4b418",
   "metadata": {},
   "outputs": [],
   "source": [
    "# in generalize form "
   ]
  },
  {
   "cell_type": "code",
   "execution_count": 95,
   "id": "19a042ce-b106-46dd-8c6b-a187e44b0748",
   "metadata": {},
   "outputs": [
    {
     "name": "stdout",
     "output_type": "stream",
     "text": [
      "index of a are: 1 8 17 21\n"
     ]
    }
   ],
   "source": [
    "string1=\"hai how are you hai way\"\n",
    "i1=string1.index(\"a\",0)# 1\n",
    "i2=string1.index(\"a\",2)# 8\n",
    "i3=string1.index(\"a\",9) # 17\n",
    "# so the next will be from 18 as we have alerady found as 17 index so we will look from 18 now\n",
    "i4=string1.index(\"a\",18)#\n",
    "\n",
    "#Note so generlize way is we need to check in next sept from +1 index of previous provided\n",
    "\n",
    "string1=\"hai how are you hai way\"\n",
    "i1=string1.index(\"a\",0)# 1\n",
    "i2=string1.index(\"a\",i1+1)# 8\n",
    "i3=string1.index(\"a\",i2+1) # 17\n",
    "i4=string1.index(\"a\",i3+1)#\n",
    "\n",
    "# so the next will be from 18 as we have alerady found as 17 index so we will look from 18 now\n",
    "# and so on==== i5=(\"string\", i5+1) in general (\"string\",previsou index+1)\n",
    "print(\"index of a are:\",i1,i2,i3,i4)\n"
   ]
  },
  {
   "cell_type": "code",
   "execution_count": 99,
   "id": "5692eeef-1a69-4b39-a4e9-7d635c1f0152",
   "metadata": {},
   "outputs": [
    {
     "ename": "TypeError",
     "evalue": "index() argument 1 must be str, not int",
     "output_type": "error",
     "traceback": [
      "\u001b[1;31m---------------------------------------------------------------------------\u001b[0m",
      "\u001b[1;31mTypeError\u001b[0m                                 Traceback (most recent call last)",
      "Cell \u001b[1;32mIn[99], line 4\u001b[0m\n\u001b[0;32m      1\u001b[0m string1\u001b[38;5;241m.\u001b[39mindex(\u001b[38;5;124m\"\u001b[39m\u001b[38;5;124ma\u001b[39m\u001b[38;5;124m\"\u001b[39m,string1\u001b[38;5;241m.\u001b[39mindex(\u001b[38;5;124m\"\u001b[39m\u001b[38;5;124ma\u001b[39m\u001b[38;5;124m\"\u001b[39m,\u001b[38;5;241m0\u001b[39m)\u001b[38;5;241m+\u001b[39m\u001b[38;5;241m1\u001b[39m)\n\u001b[0;32m      2\u001b[0m \u001b[38;5;66;03m# i1 is pass\u001b[39;00m\n\u001b[0;32m      3\u001b[0m \u001b[38;5;66;03m# we can pass this aslo as it is i2\u001b[39;00m\n\u001b[1;32m----> 4\u001b[0m string1\u001b[38;5;241m.\u001b[39mindex(string1\u001b[38;5;241m.\u001b[39mindex(\u001b[38;5;124m\"\u001b[39m\u001b[38;5;124ma\u001b[39m\u001b[38;5;124m\"\u001b[39m,string1\u001b[38;5;241m.\u001b[39mindex(\u001b[38;5;124m\"\u001b[39m\u001b[38;5;124ma\u001b[39m\u001b[38;5;124m\"\u001b[39m,\u001b[38;5;241m0\u001b[39m)\u001b[38;5;241m+\u001b[39m\u001b[38;5;241m1\u001b[39m)\u001b[38;5;241m+\u001b[39m\u001b[38;5;241m1\u001b[39m)\n",
      "\u001b[1;31mTypeError\u001b[0m: index() argument 1 must be str, not int"
     ]
    }
   ],
   "source": [
    "string1.index(\"a\",string1.index(\"a\",0)+1)\n",
    "# i1 is pass\n",
    "# we can pass this aslo as it is i2\n"
   ]
  },
  {
   "cell_type": "markdown",
   "id": "e935171c-25b7-49cb-86d1-77662893901e",
   "metadata": {},
   "source": [
    "& find &\n",
    "- it is same as index method it will give lowest index of string\n",
    "- only difference is if the string will not found no error "
   ]
  },
  {
   "cell_type": "code",
   "execution_count": 100,
   "id": "76dd0c2d-95f9-4905-924b-ec2ee6cedaf8",
   "metadata": {},
   "outputs": [
    {
     "data": {
      "text/plain": [
       "1"
      ]
     },
     "execution_count": 100,
     "metadata": {},
     "output_type": "execute_result"
    }
   ],
   "source": [
    "string1=\"hai how are you\"\n",
    "string1.find(\"a\")"
   ]
  },
  {
   "cell_type": "code",
   "execution_count": 101,
   "id": "4dfd5760-fd5e-47e4-ad67-08a35a8c928e",
   "metadata": {},
   "outputs": [
    {
     "data": {
      "text/plain": [
       "8"
      ]
     },
     "execution_count": 101,
     "metadata": {},
     "output_type": "execute_result"
    }
   ],
   "source": [
    "string1.find(\"a\",2) #start=2 end= length-1"
   ]
  },
  {
   "cell_type": "code",
   "execution_count": 102,
   "id": "37a6e9aa-162e-4a20-bb80-3fe403ea0432",
   "metadata": {},
   "outputs": [
    {
     "data": {
      "text/plain": [
       "-1"
      ]
     },
     "execution_count": 102,
     "metadata": {},
     "output_type": "execute_result"
    }
   ],
   "source": [
    "# NOTE as a will not funund in between 2 to 7  will return -1 not value error\n",
    "string1.find(\"a\",2,8) # check form index 2 to 7"
   ]
  },
  {
   "cell_type": "code",
   "execution_count": 103,
   "id": "70d8cf0c-7a6a-419d-89f3-3bc9d18ec430",
   "metadata": {},
   "outputs": [
    {
     "data": {
      "text/plain": [
       "-1"
      ]
     },
     "execution_count": 103,
     "metadata": {},
     "output_type": "execute_result"
    }
   ],
   "source": [
    "string1.find(\"z\") # z will not found then return -1 no value erro like index method"
   ]
  },
  {
   "cell_type": "markdown",
   "id": "896964c0-a4cf-467e-91ed-262aa9e38dd1",
   "metadata": {},
   "source": [
    "we completed\n",
    "- capatilize()\n",
    "- uppercase()\n",
    "- lowercase()/casefold()\n",
    "- count()\n",
    "- index()/find()\n",
    "- replace()\n"
   ]
  },
  {
   "cell_type": "markdown",
   "id": "cd7407aa-cfc1-4fc5-aa17-7f42261802db",
   "metadata": {},
   "source": [
    "### important note ###\n",
    "- count() will return 0 if not found\n",
    "- index will will return value error if not found string\n",
    "- find() will return -1 if not found\n",
    "- in find and index we can provide start and end value\n",
    "- in count() we can also provide the start and end index"
   ]
  },
  {
   "cell_type": "code",
   "execution_count": 36,
   "id": "04d80891-599e-4a2d-a26e-f9e171fff586",
   "metadata": {},
   "outputs": [],
   "source": [
    "# extract first name second and company name\n",
    "str1=\"ritesh.kumar@quampetence.com\"\n",
    "str1=\"python.anaconda@nareshit.com\""
   ]
  },
  {
   "cell_type": "code",
   "execution_count": 37,
   "id": "531518ec-2649-4a13-b51a-3ac5d575c7e9",
   "metadata": {},
   "outputs": [
    {
     "name": "stdout",
     "output_type": "stream",
     "text": [
      "first name: python\n",
      "second name: anaconda\n",
      "company name: nareshit\n"
     ]
    }
   ],
   "source": [
    "first_name=str1[:str1.index(\".\")]\n",
    "second_name=str1[str1.index(\".\")+1:str1.index(\"@\")]\n",
    "company_name=str1[str1.index(\"@\")+1:str1.index(\".\",str1.index(\"@\"))]\n",
    "\n",
    "print(\"first name:\",first_name)\n",
    "print(\"second name:\",second_name)\n",
    "print(\"company name:\",company_name)\n"
   ]
  },
  {
   "cell_type": "code",
   "execution_count": 41,
   "id": "e1958d7d-867c-4434-98cc-d65d627e17ef",
   "metadata": {},
   "outputs": [],
   "source": [
    "#2 \n",
    "str1=\"3.1489\""
   ]
  },
  {
   "cell_type": "code",
   "execution_count": 42,
   "id": "ed43a48b-1376-4a12-b8ce-bf0b6a0a0742",
   "metadata": {},
   "outputs": [
    {
     "name": "stdout",
     "output_type": "stream",
     "text": [
      "3\n",
      "1489\n"
     ]
    }
   ],
   "source": [
    "s1=str1[:str1.index(\".\")]\n",
    "s2=str1[str1.index(\".\")+1:]\n",
    "print(s1)\n",
    "print(s2)"
   ]
  },
  {
   "cell_type": "code",
   "execution_count": 56,
   "id": "de686334-59c9-4a69-99f8-d621882cb025",
   "metadata": {},
   "outputs": [
    {
     "data": {
      "text/plain": [
       "['__add__',\n",
       " '__class__',\n",
       " '__contains__',\n",
       " '__delattr__',\n",
       " '__dir__',\n",
       " '__doc__',\n",
       " '__eq__',\n",
       " '__format__',\n",
       " '__ge__',\n",
       " '__getattribute__',\n",
       " '__getitem__',\n",
       " '__getnewargs__',\n",
       " '__getstate__',\n",
       " '__gt__',\n",
       " '__hash__',\n",
       " '__init__',\n",
       " '__init_subclass__',\n",
       " '__iter__',\n",
       " '__le__',\n",
       " '__len__',\n",
       " '__lt__',\n",
       " '__mod__',\n",
       " '__mul__',\n",
       " '__ne__',\n",
       " '__new__',\n",
       " '__reduce__',\n",
       " '__reduce_ex__',\n",
       " '__repr__',\n",
       " '__rmod__',\n",
       " '__rmul__',\n",
       " '__setattr__',\n",
       " '__sizeof__',\n",
       " '__str__',\n",
       " '__subclasshook__',\n",
       " 'capitalize',\n",
       " 'casefold',\n",
       " 'center',\n",
       " 'count',\n",
       " 'encode',\n",
       " 'endswith',\n",
       " 'expandtabs',\n",
       " 'find',\n",
       " 'format',\n",
       " 'format_map',\n",
       " 'index',\n",
       " 'isalnum',\n",
       " 'isalpha',\n",
       " 'isascii',\n",
       " 'isdecimal',\n",
       " 'isdigit',\n",
       " 'isidentifier',\n",
       " 'islower',\n",
       " 'isnumeric',\n",
       " 'isprintable',\n",
       " 'isspace',\n",
       " 'istitle',\n",
       " 'isupper',\n",
       " 'join',\n",
       " 'ljust',\n",
       " 'lower',\n",
       " 'lstrip',\n",
       " 'maketrans',\n",
       " 'partition',\n",
       " 'removeprefix',\n",
       " 'removesuffix',\n",
       " 'replace',\n",
       " 'rfind',\n",
       " 'rindex',\n",
       " 'rjust',\n",
       " 'rpartition',\n",
       " 'rsplit',\n",
       " 'rstrip',\n",
       " 'split',\n",
       " 'splitlines',\n",
       " 'startswith',\n",
       " 'strip',\n",
       " 'swapcase',\n",
       " 'title',\n",
       " 'translate',\n",
       " 'upper',\n",
       " 'zfill']"
      ]
     },
     "execution_count": 56,
     "metadata": {},
     "output_type": "execute_result"
    }
   ],
   "source": [
    "dir(\"\")"
   ]
  },
  {
   "cell_type": "code",
   "execution_count": 55,
   "id": "5a60648f-96b6-4f8b-a1e4-cd78deb3d534",
   "metadata": {},
   "outputs": [],
   "source": [
    "#alphanumberic return true if string contacin alpha and numberic without any space\n",
    "str1=\"abc13\"\n",
    "str1.alpha\n",
    "\n",
    "\n"
   ]
  },
  {
   "cell_type": "code",
   "execution_count": null,
   "id": "ac3c0023-1751-4198-bd0e-48a960e3c957",
   "metadata": {},
   "outputs": [],
   "source": [
    "'isalnum',\n",
    " 'isalpha',\n",
    " 'isascii',\n",
    " 'isdecimal',\n",
    " 'isdigit',\n",
    " 'isidentifier',\n",
    " 'islower',\n",
    " 'isnumeric',\n",
    " 'isprintable',\n",
    " 'isspace',\n",
    " 'istitle',\n",
    " 'isupper',"
   ]
  },
  {
   "cell_type": "code",
   "execution_count": 57,
   "id": "9e5b5ec0-0f1a-489d-80e8-c436218b679b",
   "metadata": {},
   "outputs": [
    {
     "data": {
      "text/plain": [
       "False"
      ]
     },
     "execution_count": 57,
     "metadata": {},
     "output_type": "execute_result"
    }
   ],
   "source": []
  },
  {
   "cell_type": "code",
   "execution_count": 62,
   "id": "63efe88e-4cf2-41b2-922a-e79056a55628",
   "metadata": {},
   "outputs": [
    {
     "data": {
      "text/plain": [
       "'y'"
      ]
     },
     "execution_count": 62,
     "metadata": {},
     "output_type": "execute_result"
    }
   ],
   "source": [
    "\n",
    "\n"
   ]
  },
  {
   "cell_type": "markdown",
   "id": "836181a0-5985-48fd-81ce-07e08af8e21b",
   "metadata": {},
   "source": [
    "$strip$ -$lstrip$- $rstrip$"
   ]
  },
  {
   "cell_type": "markdown",
   "id": "65ef1702-4bd9-41a8-a5f7-f3bbf99a7bfb",
   "metadata": {},
   "source": [
    "- strip remove the space from both side \n",
    "- lstrip remove space from left side\n",
    "- rstrip remove the space from rside\n",
    "- default value space you can give any character"
   ]
  },
  {
   "cell_type": "code",
   "execution_count": 67,
   "id": "75aff650-4bba-454d-8b69-53ce5c49d286",
   "metadata": {},
   "outputs": [
    {
     "name": "stdout",
     "output_type": "stream",
     "text": [
      "hello how are you\n"
     ]
    }
   ],
   "source": [
    "str1=\" hello how are you \"\n",
    "str2=\" hello how are you\"\n",
    "str3=\"hello how are you \"\n",
    "print(str1.strip())"
   ]
  },
  {
   "cell_type": "code",
   "execution_count": 70,
   "id": "99bdbb97-b40f-4b4e-8a4a-31d00f5f97be",
   "metadata": {},
   "outputs": [
    {
     "name": "stdout",
     "output_type": "stream",
     "text": [
      "hello\n"
     ]
    }
   ],
   "source": [
    "#split on the basis of&&\n",
    "str1=\"&&hello&&\"\n",
    "\n",
    "print(str1.strip(\"&&\"))"
   ]
  },
  {
   "cell_type": "code",
   "execution_count": 75,
   "id": "916ece0b-fa65-49d1-868a-ee6ff03eaf6a",
   "metadata": {},
   "outputs": [
    {
     "name": "stdout",
     "output_type": "stream",
     "text": [
      "hello&&how \n"
     ]
    },
    {
     "data": {
      "text/plain": [
       "'hello&&how'"
      ]
     },
     "execution_count": 75,
     "metadata": {},
     "output_type": "execute_result"
    }
   ],
   "source": [
    "#it will applicable only on left and right end of the string before staring and ending \n",
    "# in middle it wil not work\n",
    "st1=\"hello&&how \"\n",
    "print(st1.strip(\"&&\")) # no effect\n",
    "st1.strip() # last end spcae will remove\n"
   ]
  },
  {
   "cell_type": "code",
   "execution_count": null,
   "id": "5df5ec98-0280-4856-804f-d3c209688c0a",
   "metadata": {},
   "outputs": [],
   "source": [
    "#lstrip remove only left space"
   ]
  },
  {
   "cell_type": "code",
   "execution_count": 76,
   "id": "324431d5-0501-4580-a3dd-b5ea2be5985e",
   "metadata": {},
   "outputs": [
    {
     "data": {
      "text/plain": [
       "'hello how are you'"
      ]
     },
     "execution_count": 76,
     "metadata": {},
     "output_type": "execute_result"
    }
   ],
   "source": [
    "str2.lstrip()"
   ]
  },
  {
   "cell_type": "code",
   "execution_count": 78,
   "id": "e391ec2c-447d-4e88-a4db-6f5548a75c1b",
   "metadata": {},
   "outputs": [
    {
     "data": {
      "text/plain": [
       "'hello how are you'"
      ]
     },
     "execution_count": 78,
     "metadata": {},
     "output_type": "execute_result"
    }
   ],
   "source": [
    "#rstrip()\n",
    "# remove space from right side \n",
    "stre=\"helo how are you \"\n",
    "str3.rstrip()"
   ]
  },
  {
   "cell_type": "code",
   "execution_count": null,
   "id": "bdfc7ccc-c2ec-4458-b758-69866933ba5d",
   "metadata": {},
   "outputs": [],
   "source": [
    "'isalnum',\n",
    " 'isalpha',\n",
    " 'isascii',\n",
    " 'isdecimal',\n",
    " 'isdigit',\n",
    " 'isidentifier',\n",
    " 'islower',\n",
    " 'isnumeric',\n",
    " 'isprintable',\n",
    " 'isspace',\n",
    " 'istitle',\n",
    " 'isupper',"
   ]
  },
  {
   "cell_type": "code",
   "execution_count": 87,
   "id": "becd6575-25ee-4113-9338-6a4ba714ab5d",
   "metadata": {},
   "outputs": [
    {
     "data": {
      "text/plain": [
       "False"
      ]
     },
     "execution_count": 87,
     "metadata": {},
     "output_type": "execute_result"
    }
   ],
   "source": [
    "# isalnum\n",
    "# it will return true only when alpha and numberic value present or eitehr only numberic or alpha \n",
    "# no space no space character allow\n",
    "str1=\"hello124\"\n",
    "str1.isalnum # true\n",
    "str2=\"hello 123\"\n",
    "str2.isalnum() # false\n",
    "str2=\"hello\" # treu\n",
    "str2.isalnum()# true\n",
    "str2=\"847\" # tryue\n",
    "str2.isalnum()# true\n",
    "str2=\"%^&\"  # false\n",
    "str2.isalnum() # false\n",
    "stre=\"343-\"# fale\n"
   ]
  },
  {
   "cell_type": "markdown",
   "id": "24a89ff0-e77a-4cd1-bc31-9e9afd6c67f1",
   "metadata": {},
   "source": [
    "### isalpha ###\n",
    "- return return only  in alphabets "
   ]
  },
  {
   "cell_type": "code",
   "execution_count": 99,
   "id": "77eedb64-33c4-4cb5-92b4-6d5171e623e8",
   "metadata": {},
   "outputs": [
    {
     "data": {
      "text/plain": [
       "False"
      ]
     },
     "execution_count": 99,
     "metadata": {},
     "output_type": "execute_result"
    }
   ],
   "source": [
    "str1=\"ritesH\"\n",
    "str1.isalpha()\n",
    "str1=\"reitesh232\" # false\n",
    "str1.isalpha()\n",
    "str1=\"retiesj \"# fale as space is there\n",
    "str1.isalpha()"
   ]
  },
  {
   "cell_type": "markdown",
   "id": "4a0349c0-ad20-4c55-b406-66543332d8b7",
   "metadata": {},
   "source": [
    "### isascii ###\n",
    "- True → if all characters are ASCII.\n",
    "\n",
    "- False → if at least one character is non-ASCII.\n",
    "\n",
    "- it check all the characters in string if all have asscii value return true"
   ]
  },
  {
   "cell_type": "code",
   "execution_count": 118,
   "id": "9afc734e-2f0a-4926-9df2-957f71f54bf1",
   "metadata": {},
   "outputs": [
    {
     "name": "stdout",
     "output_type": "stream",
     "text": [
      "False\n"
     ]
    }
   ],
   "source": [
    "str1=\"ritesh\"\n",
    "str1.isascii()\n",
    "str1=''\n",
    "str1.isascii() # true space asscii\n",
    "print(\"Café\".isascii()) # false as special e has no ascii\n",
    "\n",
    "\n"
   ]
  },
  {
   "attachments": {
    "4af78c0c-72bf-4220-a0d7-a8678787e37c.png": {
     "image/png": "[encoded data removed]"
    }
   },
   "cell_type": "markdown",
   "id": "522de269-19d9-4605-b04b-8a5caaba694d",
   "metadata": {},
   "source": [
    "### isdecimal ####\n",
    "- True → if all characters are decimal digits.\n",
    "\n",
    "- False → if the string contains any non-decimal character.\n",
    "\n",
    "- ![image.png](attachment:4af78c0c-72bf-4220-a0d7-a8678787e37c.png)\n",
    "\n",
    "- return true only when number 0-9 no subscripts,super,freactions no roman only 0-9\n"
   ]
  },
  {
   "cell_type": "code",
   "execution_count": 119,
   "id": "3b80010a-be61-40e1-82a5-695b21fcb0c6",
   "metadata": {},
   "outputs": [
    {
     "data": {
      "text/plain": [
       "False"
      ]
     },
     "execution_count": 119,
     "metadata": {},
     "output_type": "execute_result"
    }
   ],
   "source": [
    "str1=\"ritesh\"\n",
    "str1.isdecimal()"
   ]
  },
  {
   "cell_type": "code",
   "execution_count": 136,
   "id": "18a62543-3568-4350-997f-073902ec5082",
   "metadata": {},
   "outputs": [
    {
     "name": "stdout",
     "output_type": "stream",
     "text": [
      "True\n",
      "False\n"
     ]
    }
   ],
   "source": [
    "\"rit34\".isdecimal() # false\n",
    "\"4343\".isdecimal() # true\n",
    "\"343.434\".isdecimal()#false dot is not decimal\n",
    "\"1/2\".isdecimal() # false / is not decimal\n",
    "print(\"१२३\".isdecimal())    # True (Devanagari digits are decimal)\n",
    "print(\"viii\".isdecimal()) # roman is not decimal but it is numeric\n"
   ]
  },
  {
   "cell_type": "markdown",
   "id": "474db795-6adb-49ff-b641-66603d4136c3",
   "metadata": {},
   "source": [
    "### isnumeric ###\n",
    "- True → if all characters are numeric.\n",
    "\n",
    "- False → if the string has non-numeric characters.\n",
    "\n",
    "- all numbers from 0-9 roman , fraction sub,super  but not for the decimal point value"
   ]
  },
  {
   "cell_type": "code",
   "execution_count": 137,
   "id": "be52c285-959b-41d8-8b4d-202487859df8",
   "metadata": {},
   "outputs": [
    {
     "name": "stdout",
     "output_type": "stream",
     "text": [
      "True\n",
      "True\n",
      "False\n"
     ]
    }
   ],
   "source": [
    "\"4343\".isnumeric() #t\n",
    "\"figt343\".isnumeric()#f\n",
    "\"343.434\".isnumeric()# false\n",
    "\"1/2\".isnumeric()# false\n",
    "print(\"½\".isnumeric())   # fraction is numberic but not decimal\n",
    "print(\"Ⅷ\".isnumeric())  # trye\n",
    "print(\"12.3\".isnumeric())# decimal value non numberic\n",
    "    "
   ]
  },
  {
   "cell_type": "markdown",
   "id": "27f91f48-63aa-45d6-9d31-3253fe428d58",
   "metadata": {},
   "source": [
    "### is digit() ###\n",
    "\n",
    "The isdigit() method is a string method that checks if all characters in a string are digits.\n",
    "\n",
    "It works for:\n",
    "\n",
    "Decimal digits (0–9)\n",
    "\n",
    "Digits in other scripts (like Devanagari ०–९)\n",
    "\n",
    "Special digit characters (like superscript ²) and subcripts\n"
   ]
  },
  {
   "cell_type": "code",
   "execution_count": 145,
   "id": "5e3e1151-ab27-44d4-8634-f223cb2d2e46",
   "metadata": {},
   "outputs": [
    {
     "name": "stdout",
     "output_type": "stream",
     "text": [
      "True\n",
      "False\n",
      "False\n",
      "True\n",
      "False\n",
      "False\n"
     ]
    }
   ],
   "source": [
    "print(\"9\".isdigit()) # t\n",
    "print(\"vii\".isdigit()) #f\n",
    "print(\"34.4\".isdigit())#f\n",
    "print(\"१२३\".isdigit()) #trye\n",
    "print(\"½\".isdigit()) # fraction fales\n",
    "print(\"343 \".isdigit()) # space \n"
   ]
  },
  {
   "cell_type": "markdown",
   "id": "ab7b386d-af42-451d-ae5c-4bc3b8eb994a",
   "metadata": {},
   "source": [
    "\n",
    "### isidentifier ###\n",
    "- all vairable rules are applied\n",
    "- True → if the string is a valid identifier / variable name \n",
    "\n",
    "- False → otherwise.\n"
   ]
  },
  {
   "cell_type": "code",
   "execution_count": 150,
   "id": "c87991d1-0167-4b45-bd27-7d295f75a2b0",
   "metadata": {},
   "outputs": [
    {
     "name": "stdout",
     "output_type": "stream",
     "text": [
      "False\n",
      "True\n",
      "False\n"
     ]
    }
   ],
   "source": [
    "print(\"234rites\".isidentifier()) #f\n",
    "print((\"hello_\").isidentifier()) # t\n",
    "print(\"riteh-fdk\".isidentifier()) #f as - is ot allow in variable name"
   ]
  },
  {
   "cell_type": "markdown",
   "id": "497037b5-e0ac-45d9-8d3a-7117c37a1e1d",
   "metadata": {},
   "source": [
    "### islower ###\n",
    "- return true if all character is lower\n",
    "- otherwaise false\n"
   ]
  },
  {
   "cell_type": "code",
   "execution_count": 154,
   "id": "1602b27b-6d7a-497c-bd5b-fdd7f0a78031",
   "metadata": {},
   "outputs": [
    {
     "name": "stdout",
     "output_type": "stream",
     "text": [
      "False\n",
      "True\n"
     ]
    }
   ],
   "source": [
    "print(\"welcomE\".islower())# f\n",
    "print(\"welcome\".islower())#t\n"
   ]
  },
  {
   "cell_type": "markdown",
   "id": "be24cb6a-848c-4304-a82b-c9ab3d147642",
   "metadata": {},
   "source": [
    "### isupper() ###\n",
    "- trur if all characters in uppercase\n"
   ]
  },
  {
   "cell_type": "code",
   "execution_count": 156,
   "id": "00bc9383-3055-4bc3-8bcc-64c513172ab2",
   "metadata": {},
   "outputs": [
    {
     "name": "stdout",
     "output_type": "stream",
     "text": [
      "False\n",
      "True\n"
     ]
    }
   ],
   "source": [
    "print(\"WELcome\".isupper()) # f\n",
    "print(\"WELCOME\".isupper()) # t"
   ]
  },
  {
   "cell_type": "markdown",
   "id": "98d9b0c6-d055-4d4a-9beb-12d15343f7d9",
   "metadata": {},
   "source": [
    "### isprintable ###\n",
    "Checks if all characters in a string are printable (letters, digits, punctuation, whitespace like space).\n",
    "\n",
    "Non-printable characters: things like newline \\n, tab \\t, or ASCII control characters."
   ]
  },
  {
   "cell_type": "code",
   "execution_count": 165,
   "id": "c4906665-5496-4d44-ad97-f99a45d29a2c",
   "metadata": {},
   "outputs": [
    {
     "name": "stdout",
     "output_type": "stream",
     "text": [
      "True\n",
      "False\n",
      "True\n",
      "False\n"
     ]
    }
   ],
   "source": [
    "print(\"ritesh\".isprintable())\n",
    "print(\"\\n\".isprintable()) # false as \\n never print\n",
    "print(\"\".isprintable()) #true  emptly string will print\n",
    "print(\"\\t\".isprintable()) # f tab space is not printable"
   ]
  },
  {
   "cell_type": "code",
   "execution_count": 168,
   "id": "d02ccddd-5ef4-404e-bba3-d4e0c21ead79",
   "metadata": {},
   "outputs": [
    {
     "name": "stdout",
     "output_type": "stream",
     "text": [
      "kumarhmaurya\n"
     ]
    }
   ],
   "source": [
    "print(\"riteshmaurya\\rkumar\") # \\r carriage return after the \\r stirng start\n",
    "# printing from intial and overirde the first string and then print rest string if any left"
   ]
  },
  {
   "cell_type": "markdown",
   "id": "1e576e23-ef01-4f87-a7a6-423eef011f08",
   "metadata": {},
   "source": [
    "### is space ###\n",
    "- return true if any white space is present in the string\n",
    "- \\n \\t and \\r all have white space\n",
    "- Checks if all characters  a string are whitespace.\n",
    "\n",
    "Whitespace includes: \" \", \\t (tab), \\n (newline), \\r (carriage return), etc.\n",
    "- NOte return true only if all characters in string are white space if any character is present then fale"
   ]
  },
  {
   "cell_type": "code",
   "execution_count": 189,
   "id": "3aaea35a-a8fc-4b7b-9118-8b03e940f61e",
   "metadata": {},
   "outputs": [
    {
     "name": "stdout",
     "output_type": "stream",
     "text": [
      "False\n",
      "True\n",
      "True\n",
      "False\n",
      "False\n",
      "False\n",
      "True\n"
     ]
    }
   ],
   "source": [
    "print(\"\".isspace()) # fale\n",
    "print(\" \".isspace()) # t\n",
    "print(\"\\r\".isspace()) # t\n",
    "print(\"ritesh\".isspace())\n",
    "print(\"ritesh kumar\".isspace()) # false becoz all are not white space charec\n",
    "print(\"ritesh \".isspace())\n",
    "print(\"\\r\\t\\n\".isspace()) # all white space chareacter"
   ]
  },
  {
   "cell_type": "markdown",
   "id": "0d0b55e1-0147-45b0-8cd5-0392c2bc71d0",
   "metadata": {},
   "source": [
    "### is title() ###\n",
    "- follow the title rule\n",
    "- first letter must be capital of all words in string and rest will be must be lower case\n",
    "- 3. istitle()\n",
    "\n",
    "Checks if the string follows title case formatting:\n",
    "\n",
    "First letter of each word must be uppercase.\n",
    "\n",
    "The remaining letters must be lowercase."
   ]
  },
  {
   "cell_type": "code",
   "execution_count": 195,
   "id": "823873ea-d8f8-481b-b0ba-a9074231bc0d",
   "metadata": {},
   "outputs": [
    {
     "name": "stdout",
     "output_type": "stream",
     "text": [
      "True\n",
      "False\n",
      "False\n",
      "True\n"
     ]
    }
   ],
   "source": [
    "print(\"Ritesh Kumar Maurya\".istitle()) # t\n",
    "print(\"Ritesh kumar\".istitle()) # f\n",
    "print(\"RiTesh Kumar\".istitle()) # f\n",
    "print(\"Ritesh\".istitle()) # true"
   ]
  },
  {
   "cell_type": "markdown",
   "id": "bb895abd-bff6-4a09-a151-2d7be99f9a3b",
   "metadata": {},
   "source": [
    "### split() ### \n",
    "- it divide the string on the basis of charcter pass\n",
    "- if no character pass by on the basis of space string will split\n",
    "- after applied the slit() string will convert into list  of the items which are seperated"
   ]
  },
  {
   "cell_type": "code",
   "execution_count": 197,
   "id": "fc61ec6f-d419-48c7-a36d-2e9864e9efa0",
   "metadata": {},
   "outputs": [
    {
     "name": "stdout",
     "output_type": "stream",
     "text": [
      "['hello', 'how', 'are', 'you']\n"
     ]
    }
   ],
   "source": [
    "str1=\"hello how are you\"\n",
    "str1=str1.split() # split on the basis of space now str1 is list\n",
    "print(str1) # hello at 0 index how at 1 and so on"
   ]
  },
  {
   "cell_type": "code",
   "execution_count": 202,
   "id": "6235169c-b721-4354-b922-ede4dc5f74e7",
   "metadata": {},
   "outputs": [
    {
     "name": "stdout",
     "output_type": "stream",
     "text": [
      "['hai ', ' are you']\n",
      "['h', 'i how ', 're you']\n"
     ]
    }
   ],
   "source": [
    "str2=\"hello how are you\"\n",
    "str2=\"hai how are you\"\n",
    "print(str2.split(\"how\"))\n",
    "# hello  at 0 and are you at 1 as split on the basis of how\n",
    "# on which base split is doing that will remove from the list\n",
    "print(str2.split(\"a\")) # at 0 h at 1i how at 2 re you"
   ]
  },
  {
   "cell_type": "code",
   "execution_count": null,
   "id": "4c4781e2-a817-46b5-996e-f0ac06e56b3a",
   "metadata": {},
   "outputs": [],
   "source": [
    "# starstwith\n",
    "# return true if start with the passing string and count consecutive character"
   ]
  },
  {
   "cell_type": "code",
   "execution_count": 210,
   "id": "1d91fbe1-70ed-4d05-a1ee-30fc2cd0a8e9",
   "metadata": {},
   "outputs": [
    {
     "name": "stdout",
     "output_type": "stream",
     "text": [
      "True\n",
      "False\n",
      "True\n",
      "False\n"
     ]
    }
   ],
   "source": [
    "str1=\"how are you\"\n",
    "print(str1.startswith(\"h\")) #t\n",
    "print(str1.startswith(\"hw\"))# f\n",
    "print(str1.startswith(str1)) # true as entire stirng is pas\n",
    "print(str1.startswith(\"how are you\")) # tu\n",
    "print(str1.startswith(\"how are you \")) # false as space is there"
   ]
  },
  {
   "cell_type": "code",
   "execution_count": null,
   "id": "7c9abc77-583e-4d47-a3f7-03bf520a5e36",
   "metadata": {},
   "outputs": [],
   "source": [
    "# endswith()\n"
   ]
  },
  {
   "cell_type": "code",
   "execution_count": 219,
   "id": "dbf9bec2-0a76-439d-87d0-a121cbbaa1a9",
   "metadata": {},
   "outputs": [
    {
     "name": "stdout",
     "output_type": "stream",
     "text": [
      "True\n",
      "False\n",
      "True\n",
      "True\n",
      "False\n",
      "True\n"
     ]
    },
    {
     "data": {
      "text/plain": [
       "'Ritesh'"
      ]
     },
     "execution_count": 219,
     "metadata": {},
     "output_type": "execute_result"
    }
   ],
   "source": [
    "str1=\"how are you\"\n",
    "print(str1.endswith(\"u\")) #t\n",
    "print(str1.endswith(\"o\"))# fa\n",
    "print(str1.endswith(\"ou\"))# t\n",
    "print(str1.endswith(\"you\"))# t\n",
    "print(str1.endswith(\"You\"))# f case senstive\n",
    "print(str1.endswith(str1))# t\n",
    "\"ritesh\".capitalize()"
   ]
  },
  {
   "cell_type": "code",
   "execution_count": null,
   "id": "f5755b1a-016d-40ed-bb4b-745eb45bcebe",
   "metadata": {},
   "outputs": [],
   "source": [
    "# wap for the patter if \n",
    "# str=\"ritesh kumar\"\n",
    "#op kumar ritesh\n",
    "str1=input(\"Enter name\")\n",
    "s1=str1[str1.index(\" \")+1:] #kumar\n",
    "s2=str1[:str1.index(\" \")] # ritesh\n",
    "str1=s1+\" \"+s2\n",
    "print(str1)"
   ]
  },
  {
   "cell_type": "code",
   "execution_count": null,
   "id": "497649dc-cc14-435d-b952-a88a1430b942",
   "metadata": {},
   "outputs": [],
   "source": [
    "### join\n",
    "# join is used to take teh element ffrom iterabela and and then join on the  basis of sepeartor\n",
    "syntax sep.join(\"itearable\")\n",
    "note elements of iterable must be str \n",
    "result  of joint is always str"
   ]
  },
  {
   "cell_type": "code",
   "execution_count": 3,
   "id": "8cfb5892-2193-428f-b7a0-52fc4fb94174",
   "metadata": {},
   "outputs": [
    {
     "name": "stdout",
     "output_type": "stream",
     "text": [
      "1 2\n",
      "<class 'str'>\n"
     ]
    }
   ],
   "source": [
    "l1=[\"1\",\"2\"]\n",
    "s1=\" \".join(l1) # join on the basis of spce\n",
    "print(s1)\n",
    "print(type(s1))"
   ]
  },
  {
   "cell_type": "code",
   "execution_count": 4,
   "id": "b48faf27-f557-43a3-9a1b-bb24de0ee2b4",
   "metadata": {},
   "outputs": [
    {
     "name": "stdout",
     "output_type": "stream",
     "text": [
      "1,2\n",
      "<class 'str'>\n"
     ]
    }
   ],
   "source": [
    "l1=[\"1\",\"2\"]\n",
    "s1=\",\".join(l1) # join on the basis of ,\n",
    "print(s1)\n",
    "print(type(s1))"
   ]
  },
  {
   "cell_type": "code",
   "execution_count": 5,
   "id": "8f259b9f-fc07-45ca-8e78-c685dcb284de",
   "metadata": {},
   "outputs": [
    {
     "name": "stdout",
     "output_type": "stream",
     "text": [
      "r-i-t-e-s-h\n",
      "<class 'str'>\n"
     ]
    }
   ],
   "source": [
    "l1=\"ritesh\"\n",
    "s1=\"-\".join(l1) # join on the basis of - str as iterable\n",
    "print(s1)\n",
    "print(type(s1))"
   ]
  },
  {
   "cell_type": "code",
   "execution_count": 6,
   "id": "551aa27f-7ff9-46a7-8fb4-5fc6594705de",
   "metadata": {},
   "outputs": [
    {
     "ename": "TypeError",
     "evalue": "sequence item 0: expected str instance, int found",
     "output_type": "error",
     "traceback": [
      "\u001b[1;31m---------------------------------------------------------------------------\u001b[0m",
      "\u001b[1;31mTypeError\u001b[0m                                 Traceback (most recent call last)",
      "Cell \u001b[1;32mIn[6], line 2\u001b[0m\n\u001b[0;32m      1\u001b[0m l1\u001b[38;5;241m=\u001b[39m[\u001b[38;5;241m1\u001b[39m,\u001b[38;5;241m2\u001b[39m,\u001b[38;5;241m3\u001b[39m]\n\u001b[1;32m----> 2\u001b[0m s1\u001b[38;5;241m=\u001b[39m\u001b[38;5;124m\"\u001b[39m\u001b[38;5;124m-\u001b[39m\u001b[38;5;124m\"\u001b[39m\u001b[38;5;241m.\u001b[39mjoin(l1) \u001b[38;5;66;03m# join on the basis of - str as iterable\u001b[39;00m\n\u001b[0;32m      3\u001b[0m \u001b[38;5;28mprint\u001b[39m(s1)\n\u001b[0;32m      4\u001b[0m \u001b[38;5;28mprint\u001b[39m(\u001b[38;5;28mtype\u001b[39m(s1))\n",
      "\u001b[1;31mTypeError\u001b[0m: sequence item 0: expected str instance, int found"
     ]
    }
   ],
   "source": [
    "# iterable element must be str\n",
    "l1=[1,2,3]\n",
    "s1=\"-\".join(l1) # join on the basis of - str as iterable\n",
    "print(s1)\n",
    "print(type(s1))"
   ]
  },
  {
   "cell_type": "code",
   "execution_count": 9,
   "id": "aa12afe0-94b3-46ad-8897-c2542f48ff88",
   "metadata": {},
   "outputs": [
    {
     "name": "stdout",
     "output_type": "stream",
     "text": [
      "Ritesh kumar\n"
     ]
    }
   ],
   "source": [
    "# question input a string and convernt each word capatilize\n",
    "# as capatilize do the make captital of first word in the string only\n",
    "str1=\"ritesh kumar maurya\"\n",
    "str1=str1.capitalize()\n",
    "print(str1)\n"
   ]
  },
  {
   "cell_type": "code",
   "execution_count": 19,
   "id": "a943874a-afea-4529-bb23-458ad9d2ad17",
   "metadata": {},
   "outputs": [
    {
     "name": "stdout",
     "output_type": "stream",
     "text": [
      "['Ritesh', 'Kumar', 'Maurya']\n",
      "Ritesh Kumar Maurya\n"
     ]
    }
   ],
   "source": [
    "# question input a string and convernt each word capatilize\n",
    "# as capatilize do the make captital of first word in the string only\n",
    "# we need to access each element and perform captilize\n",
    "# each elemetn access using convert into list using split\n",
    "# we need empty list to store the capital list element \n",
    "str1=\"ritesh kumar maurya\"\n",
    "l1=[]\n",
    "for word in str1.split():\n",
    "    l1.append(word.capitalize())\n",
    "print(l1)\n",
    "# now convert into str\n",
    "#s1=str(l1) # if will do this entire list convert as strign but a single string which contain each eleemtn like \"Ritesh Kumar Maurys\"\n",
    "# but it will give string of list \n",
    "# so we use join here\n",
    "s=\" \".join(l1) # each list element will take and join on the basis of space \n",
    "print(s)\n",
    "\n",
    "\n"
   ]
  },
  {
   "cell_type": "code",
   "execution_count": null,
   "id": "3c9303f6-e0cf-4791-bbc5-ad607ac48082",
   "metadata": {},
   "outputs": [],
   "source": [
    "#anoter way  without appending inot list\n",
    "s1=\"hello kumar\"\n",
    "s=\"\"\n",
    "for i in s1.split():\n",
    "    i=i.capitalize()\n",
    "    s=s+\" \"+i\n",
    "print(s.lstrip())    \n",
    "    "
   ]
  },
  {
   "cell_type": "code",
   "execution_count": null,
   "id": "bbb9abb4-5261-4a6e-9a83-43fd7668af90",
   "metadata": {},
   "outputs": [],
   "source": [
    "# wap to reverse number with reverse\n",
    "# as revesed take itearavle and return itearable\n",
    "num=input(\"enter number:\")\n",
    "num=reversed(num)\n",
    "s='' # empty str to store reverse number\n",
    "for i in num:\n",
    "    s+=i\n",
    "s=int(s)  # convert str  into int\n",
    "print(f\"reverede number is {s}\")\n",
    "print(type(s))"
   ]
  },
  {
   "cell_type": "code",
   "execution_count": null,
   "id": "7d1774a7-e11d-4759-a96f-8ea2d029a06b",
   "metadata": {},
   "outputs": [],
   "source": [
    "# without reversed funciton\n",
    "# we can use directly slicitn \n",
    "num=\"12345\"\n",
    "num=int(num[::-1])\n",
    "print(num)"
   ]
  },
  {
   "cell_type": "code",
   "execution_count": 1,
   "id": "d0d08772-eb9f-4eb2-9aa0-cbb32ae73b44",
   "metadata": {},
   "outputs": [
    {
     "name": "stdout",
     "output_type": "stream",
     "text": [
      "by\n"
     ]
    }
   ],
   "source": []
  },
  {
   "cell_type": "code",
   "execution_count": null,
   "id": "df579922-d00f-4535-b09e-de569d4a8aeb",
   "metadata": {},
   "outputs": [],
   "source": [
    "# unique vowels using not  in operator"
   ]
  },
  {
   "cell_type": "code",
   "execution_count": 7,
   "id": "aff03d59-bb8b-4aff-893c-6c357cbb2547",
   "metadata": {},
   "outputs": [
    {
     "name": "stdout",
     "output_type": "stream",
     "text": [
      "number of unique vowels 3 are and vowels are aei\n"
     ]
    }
   ],
   "source": [
    "str1=\"aaafddsafsdfbbeeeddiiii\"\n",
    "s=\"\"\n",
    "count=0\n",
    "for i in str1:\n",
    "    if i in \"aeiou\":\n",
    "        if i not in s:\n",
    "            s=s+i\n",
    "            count+=1\n",
    "print(\"number of unique vowels {} are and vowels are {}\".format(count,s))        "
   ]
  },
  {
   "cell_type": "code",
   "execution_count": null,
   "id": "5583d86b-1928-4fdc-bf9d-826d3e40cf62",
   "metadata": {},
   "outputs": [],
   "source": []
  }
 ],
 "metadata": {
  "kernelspec": {
   "display_name": "Python [conda env:base] *",
   "language": "python",
   "name": "conda-base-py"
  },
  "language_info": {
   "codemirror_mode": {
    "name": "ipython",
    "version": 3
   },
   "file_extension": ".py",
   "mimetype": "text/x-python",
   "name": "python",
   "nbconvert_exporter": "python",
   "pygments_lexer": "ipython3",
   "version": "3.13.5"
  }
 },
 "nbformat": 4,
 "nbformat_minor": 5
}
