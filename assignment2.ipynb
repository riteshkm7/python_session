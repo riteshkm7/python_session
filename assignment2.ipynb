{
 "cells": [
  {
   "cell_type": "code",
   "execution_count": null,
   "id": "3fb04e5c-6a37-416d-a9a9-c352fcf4fc32",
   "metadata": {},
   "outputs": [],
   "source": [
    "\"\"\"1.Ramesh’s basic salary is input through the keyboard. His dearness allowance is 40% of\n",
    "basic salary, and house rent allowance is 20% of basic salary. Write a program to\n",
    "calculate his gross salary.\"\"\""
   ]
  },
  {
   "cell_type": "code",
   "execution_count": 1,
   "id": "6d6aa3a5-9a2c-42c6-b8a8-8efd8f453d84",
   "metadata": {},
   "outputs": [
    {
     "name": "stdin",
     "output_type": "stream",
     "text": [
      "enter the salary 1000\n"
     ]
    },
    {
     "name": "stdout",
     "output_type": "stream",
     "text": [
      "the total salary is 1600.0\n"
     ]
    }
   ],
   "source": [
    "salary=eval(input(\"enter the salary\"))\n",
    "allowance=(40*salary)/100\n",
    "house_rent=(20*salary)/100\n",
    "total_salary=salary+allowance+house_rent\n",
    "print(\"the total salary is\",total_salary)"
   ]
  },
  {
   "cell_type": "code",
   "execution_count": null,
   "id": "53f303d7-f8a5-4a67-8ff2-e7ad1086d8c9",
   "metadata": {},
   "outputs": [],
   "source": [
    "#2.The distance between two cities (in km.) is input through the keyboard. Write a program\n",
    "to convert and print this distance in meters, feet, inches and centimeters."
   ]
  },
  {
   "cell_type": "code",
   "execution_count": 3,
   "id": "c87fd935-7fcd-4343-b51a-a546415960dc",
   "metadata": {},
   "outputs": [
    {
     "name": "stdin",
     "output_type": "stream",
     "text": [
      "enter the distance 2\n"
     ]
    },
    {
     "name": "stdout",
     "output_type": "stream",
     "text": [
      "the distance in meters is 2000\n",
      "the distance in fee is 6561.68\n",
      "the distance is inches is 78740.2\n",
      "the distance in centimeters is  200000\n"
     ]
    }
   ],
   "source": [
    "try:\n",
    "    distance=eval(input(\"enter the distance\"))\n",
    "    print(\"the distance in meters is\", distance*1000)\n",
    "    print(\"the distance in fee is\",distance*3280.84)\n",
    "    print(\"the distance is inches is\",distance*39370.1 )\n",
    "    print(\"the distance in centimeters is \",distance*100000)\n",
    "except Exception as e:\n",
    "    print(e)"
   ]
  },
  {
   "cell_type": "code",
   "execution_count": null,
   "id": "6d2e9d7d-fa8e-4ea5-9361-b42701017a9f",
   "metadata": {},
   "outputs": [],
   "source": [
    "\"\"3.The length & breadth of a rectangle and radius of a circle are input through the\n",
    "keyboard. Write a program to calculate the area & perimeter of the rectangle, and the\n",
    "area & circumference of the circle.\"\"\""
   ]
  },
  {
   "cell_type": "code",
   "execution_count": 12,
   "id": "80866da8-7b51-45cf-9b62-6c14acdd20d7",
   "metadata": {},
   "outputs": [
    {
     "name": "stdin",
     "output_type": "stream",
     "text": [
      "enter the length 2\n",
      "enter breath 3\n",
      "enter the radius 4\n"
     ]
    },
    {
     "name": "stdout",
     "output_type": "stream",
     "text": [
      "the area of reactange is 6\n",
      "the parameter of rectangle is 10\n",
      "the area of circle  is  50.26548245743669\n",
      "the circumstance of circle is  25.132741228718345\n"
     ]
    }
   ],
   "source": [
    "import math\n",
    "l=eval(input(\"enter the length\"))\n",
    "b=eval(input(\"enter breath\"))\n",
    "r=eval(input(\"enter the radius\"))\n",
    "def rectangle_area(l,b):\n",
    "    print(\"the area of reactange is\",l*b)\n",
    "def rectangle_para(l,b):\n",
    "    print(\"the parameter of rectangle is\", 2*(l+b))\n",
    "def circle_area(r):\n",
    "    print(\"the area of circle  is \",math.pi*r*r)\n",
    "def circle_para(r):\n",
    "    print(\"the circumstance of circle is \", 2*math.pi*r)\n",
    "# calling of function\n",
    "rectangle_area(l,b)\n",
    "rectangle_para(l,b)\n",
    "circle_area(r)\n",
    "circle_para(r)\n",
    "    \n",
    "    \n",
    "    \n"
   ]
  },
  {
   "cell_type": "code",
   "execution_count": 8,
   "id": "14d445b5-8bd9-46ff-8ca7-b58ef2c424b4",
   "metadata": {},
   "outputs": [
    {
     "name": "stdout",
     "output_type": "stream",
     "text": [
      "Help on float object:\n",
      "\n",
      "class float(object)\n",
      " |  float(x=0, /)\n",
      " |\n",
      " |  Convert a string or number to a floating-point number, if possible.\n",
      " |\n",
      " |  Methods defined here:\n",
      " |\n",
      " |  __abs__(self, /)\n",
      " |      abs(self)\n",
      " |\n",
      " |  __add__(self, value, /)\n",
      " |      Return self+value.\n",
      " |\n",
      " |  __bool__(self, /)\n",
      " |      True if self else False\n",
      " |\n",
      " |  __ceil__(self, /)\n",
      " |      Return the ceiling as an Integral.\n",
      " |\n",
      " |  __divmod__(self, value, /)\n",
      " |      Return divmod(self, value).\n",
      " |\n",
      " |  __eq__(self, value, /)\n",
      " |      Return self==value.\n",
      " |\n",
      " |  __float__(self, /)\n",
      " |      float(self)\n",
      " |\n",
      " |  __floor__(self, /)\n",
      " |      Return the floor as an Integral.\n",
      " |\n",
      " |  __floordiv__(self, value, /)\n",
      " |      Return self//value.\n",
      " |\n",
      " |  __format__(self, format_spec, /)\n",
      " |      Formats the float according to format_spec.\n",
      " |\n",
      " |  __ge__(self, value, /)\n",
      " |      Return self>=value.\n",
      " |\n",
      " |  __getnewargs__(self, /)\n",
      " |\n",
      " |  __gt__(self, value, /)\n",
      " |      Return self>value.\n",
      " |\n",
      " |  __hash__(self, /)\n",
      " |      Return hash(self).\n",
      " |\n",
      " |  __int__(self, /)\n",
      " |      int(self)\n",
      " |\n",
      " |  __le__(self, value, /)\n",
      " |      Return self<=value.\n",
      " |\n",
      " |  __lt__(self, value, /)\n",
      " |      Return self<value.\n",
      " |\n",
      " |  __mod__(self, value, /)\n",
      " |      Return self%value.\n",
      " |\n",
      " |  __mul__(self, value, /)\n",
      " |      Return self*value.\n",
      " |\n",
      " |  __ne__(self, value, /)\n",
      " |      Return self!=value.\n",
      " |\n",
      " |  __neg__(self, /)\n",
      " |      -self\n",
      " |\n",
      " |  __pos__(self, /)\n",
      " |      +self\n",
      " |\n",
      " |  __pow__(self, value, mod=None, /)\n",
      " |      Return pow(self, value, mod).\n",
      " |\n",
      " |  __radd__(self, value, /)\n",
      " |      Return value+self.\n",
      " |\n",
      " |  __rdivmod__(self, value, /)\n",
      " |      Return divmod(value, self).\n",
      " |\n",
      " |  __repr__(self, /)\n",
      " |      Return repr(self).\n",
      " |\n",
      " |  __rfloordiv__(self, value, /)\n",
      " |      Return value//self.\n",
      " |\n",
      " |  __rmod__(self, value, /)\n",
      " |      Return value%self.\n",
      " |\n",
      " |  __rmul__(self, value, /)\n",
      " |      Return value*self.\n",
      " |\n",
      " |  __round__(self, ndigits=None, /)\n",
      " |      Return the Integral closest to x, rounding half toward even.\n",
      " |\n",
      " |      When an argument is passed, work like built-in round(x, ndigits).\n",
      " |\n",
      " |  __rpow__(self, value, mod=None, /)\n",
      " |      Return pow(value, self, mod).\n",
      " |\n",
      " |  __rsub__(self, value, /)\n",
      " |      Return value-self.\n",
      " |\n",
      " |  __rtruediv__(self, value, /)\n",
      " |      Return value/self.\n",
      " |\n",
      " |  __sub__(self, value, /)\n",
      " |      Return self-value.\n",
      " |\n",
      " |  __truediv__(self, value, /)\n",
      " |      Return self/value.\n",
      " |\n",
      " |  __trunc__(self, /)\n",
      " |      Return the Integral closest to x between 0 and x.\n",
      " |\n",
      " |  as_integer_ratio(self, /)\n",
      " |      Return a pair of integers, whose ratio is exactly equal to the original float.\n",
      " |\n",
      " |      The ratio is in lowest terms and has a positive denominator.  Raise\n",
      " |      OverflowError on infinities and a ValueError on NaNs.\n",
      " |\n",
      " |      >>> (10.0).as_integer_ratio()\n",
      " |      (10, 1)\n",
      " |      >>> (0.0).as_integer_ratio()\n",
      " |      (0, 1)\n",
      " |      >>> (-.25).as_integer_ratio()\n",
      " |      (-1, 4)\n",
      " |\n",
      " |  conjugate(self, /)\n",
      " |      Return self, the complex conjugate of any float.\n",
      " |\n",
      " |  hex(self, /)\n",
      " |      Return a hexadecimal representation of a floating-point number.\n",
      " |\n",
      " |      >>> (-0.1).hex()\n",
      " |      '-0x1.999999999999ap-4'\n",
      " |      >>> 3.14159.hex()\n",
      " |      '0x1.921f9f01b866ep+1'\n",
      " |\n",
      " |  is_integer(self, /)\n",
      " |      Return True if the float is an integer.\n",
      " |\n",
      " |  ----------------------------------------------------------------------\n",
      " |  Class methods defined here:\n",
      " |\n",
      " |  __getformat__(typestr, /)\n",
      " |      You probably don't want to use this function.\n",
      " |\n",
      " |        typestr\n",
      " |          Must be 'double' or 'float'.\n",
      " |\n",
      " |      It exists mainly to be used in Python's test suite.\n",
      " |\n",
      " |      This function returns whichever of 'unknown', 'IEEE, big-endian' or 'IEEE,\n",
      " |      little-endian' best describes the format of floating-point numbers used by the\n",
      " |      C type named by typestr.\n",
      " |\n",
      " |  fromhex(string, /)\n",
      " |      Create a floating-point number from a hexadecimal string.\n",
      " |\n",
      " |      >>> float.fromhex('0x1.ffffp10')\n",
      " |      2047.984375\n",
      " |      >>> float.fromhex('-0x1p-1074')\n",
      " |      -5e-324\n",
      " |\n",
      " |  ----------------------------------------------------------------------\n",
      " |  Static methods defined here:\n",
      " |\n",
      " |  __new__(*args, **kwargs)\n",
      " |      Create and return a new object.  See help(type) for accurate signature.\n",
      " |\n",
      " |  ----------------------------------------------------------------------\n",
      " |  Data descriptors defined here:\n",
      " |\n",
      " |  imag\n",
      " |      the imaginary part of a complex number\n",
      " |\n",
      " |  real\n",
      " |      the real part of a complex number\n",
      "\n"
     ]
    }
   ],
   "source": []
  },
  {
   "cell_type": "code",
   "execution_count": 13,
   "id": "53ee065f-830c-4d5b-8aa3-eba637395ecc",
   "metadata": {},
   "outputs": [
    {
     "name": "stdin",
     "output_type": "stream",
     "text": [
      "enter a number 10\n",
      "enter second number 20\n"
     ]
    },
    {
     "name": "stdout",
     "output_type": "stream",
     "text": [
      "number before swap\n",
      "c= 10 d= 20\n",
      "number after swap\n",
      "number after swap\n",
      "c= 20 d= 10\n"
     ]
    }
   ],
   "source": [
    "# swaping of number\n",
    "\"\"\" Two numbers are input through the keyboard into two locations C and D. Write a\n",
    "program to interchange the contents of C and D.\"\"\"\n",
    "c=eval(input(\"enter a number\"))\n",
    "d=eval(input(\"enter second number\"))\n",
    "print(\"number before swap\")\n",
    "print(\"c=\",c, \"d=\", d)\n",
    "print(\"number after swap\")\n",
    "a=c\n",
    "c=d\n",
    "d=a\n",
    "print(\"c=\",c ,\"d=\", d)"
   ]
  },
  {
   "cell_type": "code",
   "execution_count": null,
   "id": "c679e972-b72b-4204-9d8f-26865f761e78",
   "metadata": {},
   "outputs": [],
   "source": [
    "\"\"\" 7. If a five-digit number is input through the keyboard, write a program to reverse the\n",
    "number.\"\"\"\n",
    "\n",
    "# % 10 through modulo last digit come\n",
    "# // 10 last digit of number vanish \n",
    "# use this concept to reverse number and and to take sum of digit of number"
   ]
  },
  {
   "cell_type": "code",
   "execution_count": null,
   "id": "7b934522-9c4d-4e8f-b6f0-70b4ec2b46e6",
   "metadata": {},
   "outputs": [],
   "source": [
    "##### x=eval(input(\"enter five digit number\"))\n",
    "print(\"the number is\", x) #12345\n",
    "x1=x%10 # takinga and storing last digit into x1\n",
    "x=x//10 # remove the last digit\n",
    "# repate the process 5 times as 5 number\n",
    "x2=x%10\n",
    "x=x//10\n",
    "####\n",
    "x3=x%10\n",
    "x=x//10\n",
    "#####\n",
    "x4=x%10\n",
    "x=x//10\n",
    "####\n",
    "x5=x%10\n",
    "x=x//10\n",
    "\n",
    "# now print all x1 to x5 digit number\n",
    "print(x1,x2,x3,x4,x5,sep=\"\")"
   ]
  },
  {
   "cell_type": "markdown",
   "id": "8f6f5642-73ec-450c-b523-d3903e7e9c7f",
   "metadata": {},
   "source": [
    "###### "
   ]
  },
  {
   "cell_type": "code",
   "execution_count": 2,
   "id": "67ed0267-01fb-49bb-8a30-6a8f81f02cc5",
   "metadata": {},
   "outputs": [
    {
     "name": "stdin",
     "output_type": "stream",
     "text": [
      "enter four digit number 1234\n"
     ]
    },
    {
     "name": "stdout",
     "output_type": "stream",
     "text": [
      "the number is 1234\n",
      "the first digit of number is 1\n",
      "the last digit of number is  4\n",
      "the sum of last and first digit is  5\n"
     ]
    }
   ],
   "source": [
    "\"\"\"If a four-digit number is input through the keyboard, write a program to obtain the sum of\n",
    "the first and last digit of this number.\"\"\"\n",
    "x=eval(input(\"enter four digit number\"))\n",
    "print(\"the number is\", x) #1234\n",
    "x1=x%10 # takinga and storing last digit into x1\n",
    "x=x//10 # remove the last digit\n",
    "# repate the process 5 times as 5 number\n",
    "x2=x%10\n",
    "x=x//10\n",
    "####\n",
    "x3=x%10\n",
    "x=x//10\n",
    "#####\n",
    "x4=x%10\n",
    "x=x//10\n",
    "print(\"the first digit of number is\", x4)\n",
    "print(\"the last digit of number is \",x1)\n",
    "print(\"the sum of last and first digit is \", x1+x4)\n"
   ]
  },
  {
   "cell_type": "code",
   "execution_count": null,
   "id": "fb5557bc-07ad-4cd7-8a01-c4231651d3e6",
   "metadata": {},
   "outputs": [],
   "source": [
    "\"\"\" In a town, the percentage of men is 52. The percentage of total literacy is 48. If total\n",
    "percentage of literate men is 35 of the total population, write a program to find the total\n",
    "number of illiterate men and women if the population of the town is 80,000.\"\"\"\n"
   ]
  },
  {
   "cell_type": "code",
   "execution_count": 6,
   "id": "4b45d41f-f827-4003-9564-29e328f6ed3d",
   "metadata": {},
   "outputs": [
    {
     "name": "stdout",
     "output_type": "stream",
     "text": [
      "the % of women is 48\n",
      "the total number of literate men is 28000.0\n",
      "total number of literate_women 52000.0\n"
     ]
    }
   ],
   "source": []
  },
  {
   "cell_type": "code",
   "execution_count": 16,
   "id": "2a9abc56-b6ce-4750-aaa6-ad46d30cab6b",
   "metadata": {},
   "outputs": [
    {
     "name": "stdout",
     "output_type": "stream",
     "text": [
      "the total number of men is  41600.0\n",
      "the total number of women is 38400.0\n",
      "total number of women is 38400.0\n",
      "the number of literate men 28000.0\n",
      "the nubmer literate women 10400.0\n",
      "the number of ilerate men 13600.0\n",
      "the number if iliterate women 28000.0\n",
      "the % of i_men is 32.69\n",
      "the % of i_women is 72.92\n"
     ]
    }
   ],
   "source": [
    "population=80000\n",
    "man_percentage=52\n",
    "women_percentage=100-52\n",
    "literate_per_men=35\n",
    "total_lit=48\n",
    "#find total number of men and women population\n",
    "men=(80000*52)/100\n",
    "print(\"the total number of men is \",men)\n",
    "women=population-men\n",
    "print(\"the total number of women is\", women)\n",
    "print(\"total number of women is\", women)\n",
    "# find number of literate man and women \n",
    "# total % of literacy 48\n",
    "total_lit=(48*80000)/100\n",
    "l_men=(35*population)/100\n",
    "l_women=total_lit-l_men\n",
    "print(\"the number of literate men\", l_men)\n",
    "print(\"the nubmer literate women\", l_women)\n",
    "\n",
    "# now find the iliterate men and women\n",
    "i_men=men-l_men\n",
    "print(\"the number of ilerate men\",i_men)\n",
    "i_women=women-l_women\n",
    "print(\"the number if iliterate women\",i_women)\n",
    "print(\"the % of i_men is\",round((i_men/men)*100,2))\n",
    "print(\"the % of i_women is\", round((i_women/women)*100,2))\n",
    "\n"
   ]
  },
  {
   "cell_type": "code",
   "execution_count": 30,
   "id": "b88150ae-a012-4b5e-ae5b-753f80f83cf3",
   "metadata": {},
   "outputs": [
    {
     "name": "stdin",
     "output_type": "stream",
     "text": [
      "enter the amount in hundreds 960\n"
     ]
    },
    {
     "name": "stdout",
     "output_type": "stream",
     "text": [
      "number of notes of 100 is 9, 50 is 1 10, 5 is 1 and 2 is 0 and 1 is 0\n"
     ]
    }
   ],
   "source": [
    "\"\"\" A cashier has currency notes of denominations 10, 50 and 100. If the amount to be\n",
    "withdrawn is input through the keyboard in hundreds, find the total number of currency\n",
    "notes of each denomination the cashier will have to give to the withdrawer.\"\"\"\n",
    "amount=eval(input(\"enter the amount in hundreds\"))\n",
    "hundred_notes=amount//100 # find the number of notes like 950//100 give 9 \n",
    "reminder=amount%100   # then find remaining amount throuhg reminder 950%100 give 50\n",
    "fifty_notes=reminder//50  #then found fifty  notes by dividing 50//50 and so on for all\n",
    "reminder=reminder%50 \n",
    "ten_notes=reminder//10\n",
    "reminder=reminder%10\n",
    "five=reminder//5\n",
    "reminder=reminder%5\n",
    "two=reminder//2\n",
    "reminder=reminder%2\n",
    "one=reminder//1\n",
    "\n",
    "print(\"number of notes of 100 is {}, 50 is {} 10, 5 is {} and 2 is {} and 1 is {}\".format(hundred_notes,fifty_notes,ten_notes, five,two, one))"
   ]
  },
  {
   "cell_type": "code",
   "execution_count": null,
   "id": "a7c110d9-6819-4ac5-87f8-3f08c9d3f891",
   "metadata": {},
   "outputs": [],
   "source": []
  },
  {
   "cell_type": "code",
   "execution_count": null,
   "id": "5fa78181-b644-4a8c-ba9c-e94d6add658b",
   "metadata": {},
   "outputs": [],
   "source": []
  },
  {
   "cell_type": "code",
   "execution_count": null,
   "id": "09405a1e-cd22-44ce-b918-6d27f8db57b7",
   "metadata": {},
   "outputs": [],
   "source": []
  },
  {
   "cell_type": "code",
   "execution_count": null,
   "id": "1177252b-1b6a-4abd-b1c0-70eb8e081d1e",
   "metadata": {},
   "outputs": [],
   "source": []
  }
 ],
 "metadata": {
  "kernelspec": {
   "display_name": "Python [conda env:base] *",
   "language": "python",
   "name": "conda-base-py"
  },
  "language_info": {
   "codemirror_mode": {
    "name": "ipython",
    "version": 3
   },
   "file_extension": ".py",
   "mimetype": "text/x-python",
   "name": "python",
   "nbconvert_exporter": "python",
   "pygments_lexer": "ipython3",
   "version": "3.13.5"
  }
 },
 "nbformat": 4,
 "nbformat_minor": 5
}
