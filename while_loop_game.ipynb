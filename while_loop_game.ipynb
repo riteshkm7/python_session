{
 "cells": [
  {
   "cell_type": "code",
   "execution_count": null,
   "id": "4de8912c-ddfa-4493-950a-09cef0ace1ce",
   "metadata": {},
   "outputs": [],
   "source": [
    "   \n"
   ]
  },
  {
   "cell_type": "code",
   "execution_count": null,
   "id": "c4269de3-b83f-49a1-860f-80266b12f990",
   "metadata": {},
   "outputs": [],
   "source": [
    "Complete the below question, this is best suited with while loop\n",
    "\n",
    "Suppose that a player wants to play a game which requires him Rs. 1,000 to start. If the current balance in his account is less than Rs. 1,000 he needs to withdraw the extra money from his e-wallet.\n",
    "\n",
    "Note that if the sum of money in his courrent account and the amount withdrawn is greater than or equal to Rs. 1,000 then he can start playing the game. However if the sum is less than Rs. 1,000 then the program should keep displaying the user the message “You still do not have enough money to start playing.” and keep prompting the user to withdraw money unless it crosses Rs. 1,000. Once ready, i.e. if his current account balance crosses Rs. 1,000, it will display a message “Now, you are ready to play the game.” Your program should also display the account balance and the current amount in the e-wallet.\n",
    "\n",
    "(consider: initial account balance is Rs. 200 and money in the e-wallet is Rs. 5,000)\n",
    "\n",
    "(Do further improvement by checking if the e-wallet balance becomes NIL, etc.)"
   ]
  },
  {
   "cell_type": "code",
   "execution_count": 3,
   "id": "9ea5fa5f-08d1-4073-8eef-d70dc66e6209",
   "metadata": {},
   "outputs": [
    {
     "name": "stdout",
     "output_type": "stream",
     "text": [
      "Insufficent money 200 in your account please withdraw from e-wallet\n",
      "Money in your wallet is -200\n",
      "Current Balance in your account: 200\n",
      "Current e-wallet balance in your account -200\n",
      "Your wallet amount is NIL you cannot withdraw money\n",
      "The total amount withdraw from your e-wallet is: 0\n"
     ]
    }
   ],
   "source": [
    "e_wallet=5000\n",
    "intial_account=200\n",
    "\n",
    "\n",
    "def withdraw(intial_account,e_wallet):\n",
    "    total=intial_account\n",
    "    total_wid=0\n",
    "    \n",
    "    while total<1000:\n",
    "        print(\"Current Balance in your account:\", total)\n",
    "        print(\"Current e-wallet balance in your account\", e_wallet)\n",
    "        if e_wallet<=0:\n",
    "            print(\"Your wallet amount is NIL you cannot withdraw money\")\n",
    "            break\n",
    "        wid=eval(input(\"enter amount you want to withdraw\"))    \n",
    "        \n",
    "        if wid> e_wallet:\n",
    "            print(\"your withdrawl money is greater than your wallet please enter valid amount\")\n",
    "            continue\n",
    "        \n",
    "        total=total+wid\n",
    "        e_wallet=e_wallet-wid\n",
    "        total_wid=total_wid+wid\n",
    "        \n",
    "        if total<1000:\n",
    "            print(\"Still you need to withdraw at least {} to play\".format(1000-total))\n",
    "        else:\n",
    "            print(\"Now you are ready to play the game\")\n",
    "            print(\"The final balance in your account\",total)\n",
    "            print(\"The final balance in your wallet\",e_wallet)\n",
    "            \n",
    "   \n",
    "    return total_wid\n",
    "        \n",
    "    \n",
    "      \n",
    "if intial_account<1000:\n",
    "    print(\"Insufficent money {} in your account please withdraw from e-wallet\".format(intial_account))\n",
    "    print(\"Money in your wallet is {}\".format(e_wallet))\n",
    "    total_wid=withdraw(intial_account,e_wallet)\n",
    "    print(\"The total amount withdraw from your e-wallet is:\", total_wid)\n",
    "else:\n",
    "    print(\"Please play\")\n"
   ]
  },
  {
   "cell_type": "code",
   "execution_count": null,
   "id": "dc3836fe-5e03-4484-9de8-fc3d440f0d4b",
   "metadata": {},
   "outputs": [],
   "source": []
  },
  {
   "cell_type": "code",
   "execution_count": null,
   "id": "acdf5de0-e91c-4fb8-af28-a0db5ea8cc03",
   "metadata": {},
   "outputs": [],
   "source": []
  }
 ],
 "metadata": {
  "kernelspec": {
   "display_name": "Python [conda env:base] *",
   "language": "python",
   "name": "conda-base-py"
  },
  "language_info": {
   "codemirror_mode": {
    "name": "ipython",
    "version": 3
   },
   "file_extension": ".py",
   "mimetype": "text/x-python",
   "name": "python",
   "nbconvert_exporter": "python",
   "pygments_lexer": "ipython3",
   "version": "3.13.5"
  }
 },
 "nbformat": 4,
 "nbformat_minor": 5
}
