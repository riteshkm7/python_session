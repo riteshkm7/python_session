{
 "cells": [
  {
   "cell_type": "markdown",
   "id": "d1d7899f-6083-4623-8013-1d1a449e1215",
   "metadata": {},
   "source": [
    "### how to read dictionary ###\n",
    "- {key:value,key:value}"
   ]
  },
  {
   "cell_type": "code",
   "execution_count": 77,
   "id": "c57583fe-fc0b-4726-8fba-716610c5e120",
   "metadata": {},
   "outputs": [
    {
     "name": "stdout",
     "output_type": "stream",
     "text": [
      "{1: 2, 2: 4}\n"
     ]
    }
   ],
   "source": [
    "# both key and value integer work \n",
    "d2={1:2,2:4}\n",
    "print(d2)"
   ]
  },
  {
   "cell_type": "code",
   "execution_count": 78,
   "id": "feb67668-a2de-467a-8b19-2df518f7c073",
   "metadata": {},
   "outputs": [
    {
     "data": {
      "text/plain": [
       "{'hi': 'a'}"
      ]
     },
     "execution_count": 78,
     "metadata": {},
     "output_type": "execute_result"
    }
   ],
   "source": [
    "# key and value can both are str\n",
    "d2={\"hi\":\"a\"}\n",
    "d2"
   ]
  },
  {
   "cell_type": "code",
   "execution_count": null,
   "id": "a78b1a62-5f3d-405e-8688-56a2e3dae968",
   "metadata": {},
   "outputs": [],
   "source": []
  },
  {
   "cell_type": "code",
   "execution_count": 19,
   "id": "5c7fc1d7-43a5-4244-970c-8811d28ec431",
   "metadata": {},
   "outputs": [
    {
     "ename": "TypeError",
     "evalue": "unhashable type: 'list'",
     "output_type": "error",
     "traceback": [
      "\u001b[1;31m---------------------------------------------------------------------------\u001b[0m",
      "\u001b[1;31mTypeError\u001b[0m                                 Traceback (most recent call last)",
      "Cell \u001b[1;32mIn[19], line 1\u001b[0m\n\u001b[1;32m----> 1\u001b[0m d3\u001b[38;5;241m=\u001b[39m{[\u001b[38;5;241m1\u001b[39m,\u001b[38;5;241m2\u001b[39m]:\u001b[38;5;124m\"\u001b[39m\u001b[38;5;124mram\u001b[39m\u001b[38;5;124m\"\u001b[39m}\n\u001b[0;32m      2\u001b[0m d3\n",
      "\u001b[1;31mTypeError\u001b[0m: unhashable type: 'list'"
     ]
    }
   ],
   "source": [
    "# list as key not possible\n",
    "d3={[1,2]:\"ram\"}\n",
    "d3"
   ]
  },
  {
   "cell_type": "code",
   "execution_count": 21,
   "id": "e9f96862-6b00-4559-b115-926983f09905",
   "metadata": {},
   "outputs": [
    {
     "data": {
      "text/plain": [
       "{'ram': [1, 2]}"
      ]
     },
     "execution_count": 21,
     "metadata": {},
     "output_type": "execute_result"
    }
   ],
   "source": [
    "# value as list possible\n",
    "d4={\"ram\":[1,2]}\n",
    "d4"
   ]
  },
  {
   "cell_type": "code",
   "execution_count": 22,
   "id": "94eff8a5-177e-44d2-b6d7-f96cc02012f5",
   "metadata": {},
   "outputs": [
    {
     "data": {
      "text/plain": [
       "{(1, 2): 'ritesh'}"
      ]
     },
     "execution_count": 22,
     "metadata": {},
     "output_type": "execute_result"
    }
   ],
   "source": [
    "# tuple as key possible\n",
    "d5={(1,2):\"ritesh\"}\n",
    "d5"
   ]
  },
  {
   "cell_type": "code",
   "execution_count": 23,
   "id": "e3efd6a0-4c15-404a-9b8e-bceb343e8325",
   "metadata": {},
   "outputs": [
    {
     "data": {
      "text/plain": [
       "{'ritesh': (12, 3)}"
      ]
     },
     "execution_count": 23,
     "metadata": {},
     "output_type": "execute_result"
    }
   ],
   "source": [
    "# tuple as value possible\n",
    "d6={\"ritesh\":(12,3)}\n",
    "d6"
   ]
  },
  {
   "cell_type": "code",
   "execution_count": 24,
   "id": "86e91ac1-c9b9-4043-b757-4721ed66bc35",
   "metadata": {},
   "outputs": [
    {
     "ename": "TypeError",
     "evalue": "unhashable type: 'dict'",
     "output_type": "error",
     "traceback": [
      "\u001b[1;31m---------------------------------------------------------------------------\u001b[0m",
      "\u001b[1;31mTypeError\u001b[0m                                 Traceback (most recent call last)",
      "Cell \u001b[1;32mIn[24], line 2\u001b[0m\n\u001b[0;32m      1\u001b[0m \u001b[38;5;66;03m# dict as key value not possible\u001b[39;00m\n\u001b[1;32m----> 2\u001b[0m d7\u001b[38;5;241m=\u001b[39m{{\u001b[38;5;241m1\u001b[39m:\u001b[38;5;124m\"\u001b[39m\u001b[38;5;124mritesh\u001b[39m\u001b[38;5;124m\"\u001b[39m}:\u001b[38;5;124m\"\u001b[39m\u001b[38;5;124mhello\u001b[39m\u001b[38;5;124m\"\u001b[39m}\n\u001b[0;32m      3\u001b[0m d7\n",
      "\u001b[1;31mTypeError\u001b[0m: unhashable type: 'dict'"
     ]
    }
   ],
   "source": [
    "# dict as key value not possible\n",
    "d7={{1:\"ritesh\"}:\"hello\"}\n",
    "d7"
   ]
  },
  {
   "cell_type": "code",
   "execution_count": 25,
   "id": "3ef4ac3e-fee2-4eaf-a2fb-950e79e2c43e",
   "metadata": {},
   "outputs": [
    {
     "data": {
      "text/plain": [
       "{1: {1: 'ritesh'}}"
      ]
     },
     "execution_count": 25,
     "metadata": {},
     "output_type": "execute_result"
    }
   ],
   "source": [
    "# dict as value possible\n",
    "d8={1:{1:\"ritesh\"}}\n",
    "d8"
   ]
  },
  {
   "cell_type": "markdown",
   "id": "539e2957-5479-4579-a450-33c44f094f39",
   "metadata": {},
   "source": [
    "### dict ###\n",
    "- dictionary is key value pair\n",
    "- it is create using {} braces\n",
    "- value can be any data type\n",
    "- but in key list and dictionary are not supported \n",
    "- key can't be list and dictionary \n",
    "- it can int,str,tupe\n",
    "- always last value will take if one key have same values as last value will be update old will gone like gf\n",
    "- dublicated keys and values not allowed if both key and value are same\n",
    "- key and value can be same data type"
   ]
  },
  {
   "cell_type": "code",
   "execution_count": 28,
   "id": "c535085d-145a-4c66-acbb-78cf3efa3ac2",
   "metadata": {},
   "outputs": [
    {
     "data": {
      "text/plain": [
       "{1: 'ritesh', 2: 'aman', 3: 'ankit'}"
      ]
     },
     "execution_count": 28,
     "metadata": {},
     "output_type": "execute_result"
    }
   ],
   "source": [
    "# dublicate value are  not allowed in dictionary only one value will be print but in  list allowed\n",
    "d9={1:\"ritesh\",2:\"aman\",3:\"ankit\",1:\"ritesh\"}\n",
    "d9"
   ]
  },
  {
   "cell_type": "code",
   "execution_count": 71,
   "id": "66aa23d2-cfe6-43db-8a20-954c85cc1fbc",
   "metadata": {},
   "outputs": [
    {
     "data": {
      "text/plain": [
       "[1, 2, 3, 4, 4]"
      ]
     },
     "execution_count": 71,
     "metadata": {},
     "output_type": "execute_result"
    }
   ],
   "source": [
    "list1=[1,2,3,4,4]\n",
    "list1"
   ]
  },
  {
   "cell_type": "code",
   "execution_count": 73,
   "id": "21f994c7-a754-4351-8ac1-7d74414e7c67",
   "metadata": {},
   "outputs": [
    {
     "data": {
      "text/plain": [
       "{1: 'ritesh', 2: 'aman', 3: 'ankit', 4: 'ritesh'}"
      ]
     },
     "execution_count": 73,
     "metadata": {},
     "output_type": "execute_result"
    }
   ],
   "source": [
    "# here keys are different but values same it will work key are very importand\n",
    "d9={1:\"ritesh\",2:\"aman\",3:\"ankit\",4:\"ritesh\"}\n",
    "d9\n"
   ]
  },
  {
   "cell_type": "code",
   "execution_count": null,
   "id": "b8ebef6d-4867-4a9b-a66c-bfe58b79dbc7",
   "metadata": {},
   "outputs": [],
   "source": []
  },
  {
   "cell_type": "code",
   "execution_count": 30,
   "id": "b87fdba5-30c1-48d9-89be-4b2b052b3bf6",
   "metadata": {},
   "outputs": [
    {
     "data": {
      "text/plain": [
       "{1: 'rahul', 10: 'aman', 3: 'ankit'}"
      ]
     },
     "execution_count": 30,
     "metadata": {},
     "output_type": "execute_result"
    }
   ],
   "source": [
    "# if we change old key value with new one then new value will be exist old will gone\n",
    "# first 1:\"ritesh\" then 1:\"rahul\" so now rahul will be exist\n",
    "d9={1:\"ritesh\",10:\"aman\",3:\"ankit\",1:\"rahul\"}\n",
    "d9\n"
   ]
  },
  {
   "cell_type": "code",
   "execution_count": 31,
   "id": "a56d68e9-ff82-45b4-bc38-299645cb3147",
   "metadata": {},
   "outputs": [
    {
     "data": {
      "text/plain": [
       "{1: 'ajju', 10: 'aman', 3: 'ankit'}"
      ]
     },
     "execution_count": 31,
     "metadata": {},
     "output_type": "execute_result"
    }
   ],
   "source": [
    "d9={1:\"ritesh\",10:\"aman\",3:\"ankit\",1:\"rahul\",1:\"ajju\"}\n",
    "d9\n"
   ]
  },
  {
   "cell_type": "markdown",
   "id": "1cf49859-032a-4783-be6e-7b0d5adaa0d5",
   "metadata": {},
   "source": [
    "#### always last value will take if one key have same values ####"
   ]
  },
  {
   "cell_type": "code",
   "execution_count": 32,
   "id": "09ba9ef4-e8d1-4d3f-952c-f89ca0a95ee9",
   "metadata": {},
   "outputs": [
    {
     "data": {
      "text/plain": [
       "1"
      ]
     },
     "execution_count": 32,
     "metadata": {},
     "output_type": "execute_result"
    }
   ],
   "source": [
    "# for knowledge\n",
    "a,b=[1,2]\n",
    "a"
   ]
  },
  {
   "cell_type": "code",
   "execution_count": 33,
   "id": "8d4bc219-1a33-4e7d-bd3a-fe4302b74100",
   "metadata": {},
   "outputs": [
    {
     "data": {
      "text/plain": [
       "2"
      ]
     },
     "execution_count": 33,
     "metadata": {},
     "output_type": "execute_result"
    }
   ],
   "source": [
    "a,b=[1,2]\n",
    "b"
   ]
  },
  {
   "cell_type": "code",
   "execution_count": 34,
   "id": "903eedc7-7f5d-42eb-9453-38d63f31c671",
   "metadata": {},
   "outputs": [
    {
     "data": {
      "text/plain": [
       "(1, 2)"
      ]
     },
     "execution_count": 34,
     "metadata": {},
     "output_type": "execute_result"
    }
   ],
   "source": [
    "# it will  return tuple\n",
    "a,b=[1,2]\n",
    "a,b"
   ]
  },
  {
   "cell_type": "code",
   "execution_count": 35,
   "id": "cf81b1d9-e7d0-4936-a224-165486d50def",
   "metadata": {},
   "outputs": [
    {
     "data": {
      "text/plain": [
       "3"
      ]
     },
     "execution_count": 35,
     "metadata": {},
     "output_type": "execute_result"
    }
   ],
   "source": [
    "a,b=(3,4)\n",
    "a"
   ]
  },
  {
   "cell_type": "code",
   "execution_count": 36,
   "id": "198cf675-b850-4e2e-b40a-1674ebe54d95",
   "metadata": {},
   "outputs": [
    {
     "data": {
      "text/plain": [
       "4"
      ]
     },
     "execution_count": 36,
     "metadata": {},
     "output_type": "execute_result"
    }
   ],
   "source": [
    "a,b=(3,4)\n",
    "b"
   ]
  },
  {
   "cell_type": "code",
   "execution_count": 37,
   "id": "6670d0fa-0d1d-49fb-9cd2-0cf4f7dc1bdf",
   "metadata": {},
   "outputs": [
    {
     "data": {
      "text/plain": [
       "(3, 4)"
      ]
     },
     "execution_count": 37,
     "metadata": {},
     "output_type": "execute_result"
    }
   ],
   "source": [
    "a,b=(3,4)\n",
    "a,b"
   ]
  },
  {
   "cell_type": "code",
   "execution_count": 40,
   "id": "5a8eeec1-1b11-49cc-9244-0e084da78b8a",
   "metadata": {},
   "outputs": [
    {
     "ename": "ValueError",
     "evalue": "too many values to unpack (expected 2)",
     "output_type": "error",
     "traceback": [
      "\u001b[1;31m---------------------------------------------------------------------------\u001b[0m",
      "\u001b[1;31mValueError\u001b[0m                                Traceback (most recent call last)",
      "Cell \u001b[1;32mIn[40], line 1\u001b[0m\n\u001b[1;32m----> 1\u001b[0m c,d\u001b[38;5;241m=\u001b[39m\u001b[38;5;241m3\u001b[39m,\u001b[38;5;241m4\u001b[39m,\u001b[38;5;241m5\u001b[39m\n\u001b[0;32m      2\u001b[0m c\n",
      "\u001b[1;31mValueError\u001b[0m: too many values to unpack (expected 2)"
     ]
    }
   ],
   "source": [
    "c,d=3,4,5\n",
    "c"
   ]
  },
  {
   "cell_type": "code",
   "execution_count": 41,
   "id": "92de1958-7d09-41de-b6ed-e6e7fb1e8498",
   "metadata": {},
   "outputs": [
    {
     "data": {
      "text/plain": [
       "3"
      ]
     },
     "execution_count": 41,
     "metadata": {},
     "output_type": "execute_result"
    }
   ],
   "source": [
    "# if intialize without tuple value and variable in lhs and rhs must be equal\n",
    "c,d,e=3,4,5\n",
    "c"
   ]
  },
  {
   "cell_type": "code",
   "execution_count": 42,
   "id": "8d7baa4f-506c-4ac7-a6b6-6bee25c4426f",
   "metadata": {},
   "outputs": [
    {
     "data": {
      "text/plain": [
       "4"
      ]
     },
     "execution_count": 42,
     "metadata": {},
     "output_type": "execute_result"
    }
   ],
   "source": [
    "d"
   ]
  },
  {
   "cell_type": "code",
   "execution_count": 43,
   "id": "699e89a8-45e9-4ce0-a43c-47836d0ceeed",
   "metadata": {},
   "outputs": [
    {
     "data": {
      "text/plain": [
       "5"
      ]
     },
     "execution_count": 43,
     "metadata": {},
     "output_type": "execute_result"
    }
   ],
   "source": [
    "e"
   ]
  },
  {
   "cell_type": "code",
   "execution_count": 55,
   "id": "d18b406b-5e20-4a64-8f81-96f9ffb9ac4b",
   "metadata": {},
   "outputs": [
    {
     "data": {
      "text/plain": [
       "(10, 20, 30)"
      ]
     },
     "execution_count": 55,
     "metadata": {},
     "output_type": "execute_result"
    }
   ],
   "source": [
    "#tuple\n",
    "a=(10,20,30)\n",
    "a"
   ]
  },
  {
   "cell_type": "code",
   "execution_count": 48,
   "id": "feeef183-58ad-4c0d-b085-3b46ac538e63",
   "metadata": {},
   "outputs": [
    {
     "ename": "ValueError",
     "evalue": "too many values to unpack (expected 2)",
     "output_type": "error",
     "traceback": [
      "\u001b[1;31m---------------------------------------------------------------------------\u001b[0m",
      "\u001b[1;31mValueError\u001b[0m                                Traceback (most recent call last)",
      "Cell \u001b[1;32mIn[48], line 2\u001b[0m\n\u001b[0;32m      1\u001b[0m \u001b[38;5;66;03m# not possible for tuple must one varible or equal number of varialbes\u001b[39;00m\n\u001b[1;32m----> 2\u001b[0m a,b\u001b[38;5;241m=\u001b[39m(\u001b[38;5;241m1\u001b[39m,\u001b[38;5;241m2\u001b[39m,\u001b[38;5;241m3\u001b[39m)\n\u001b[0;32m      3\u001b[0m a\n",
      "\u001b[1;31mValueError\u001b[0m: too many values to unpack (expected 2)"
     ]
    }
   ],
   "source": [
    "# not possible for tuple must one varible or equal number of varialbes\n",
    "a,b=(1,2,3)\n",
    "a\n"
   ]
  },
  {
   "cell_type": "code",
   "execution_count": 49,
   "id": "3c3348f5-e175-4058-8afa-fe48171c23be",
   "metadata": {},
   "outputs": [
    {
     "data": {
      "text/plain": [
       "3"
      ]
     },
     "execution_count": 49,
     "metadata": {},
     "output_type": "execute_result"
    }
   ],
   "source": [
    "a,b,c=(1,2,3)\n",
    "c"
   ]
  },
  {
   "cell_type": "markdown",
   "id": "f81c7567-2a87-4878-a39e-7e917b87ff8a",
   "metadata": {},
   "source": [
    "$ type $"
   ]
  },
  {
   "cell_type": "code",
   "execution_count": 58,
   "id": "3849ba5f-0924-4659-ac05-25f35300e9dd",
   "metadata": {},
   "outputs": [
    {
     "name": "stdout",
     "output_type": "stream",
     "text": [
      "<class 'dict'>\n"
     ]
    }
   ],
   "source": [
    "d1={1:\"ritesh\",2:\"hello\"}\n",
    "print(type(d1))"
   ]
  },
  {
   "cell_type": "markdown",
   "id": "2ef9d9ff-f88d-4d38-a75b-5b1f4991347e",
   "metadata": {},
   "source": [
    "$ max $\n",
    "- max will give  max value on the basis of key \n",
    "- if key is str so ascii value use to compare\n",
    "- if key is number than number use\n",
    "- if both str and int then compare will not work as str and int can't compare same as list\n",
    "- key is very imporatand in dictionary every thing depend on key"
   ]
  },
  {
   "cell_type": "code",
   "execution_count": 61,
   "id": "b983a62d-244c-458d-9468-6134bb47aad0",
   "metadata": {},
   "outputs": [
    {
     "data": {
      "text/plain": [
       "4"
      ]
     },
     "execution_count": 61,
     "metadata": {},
     "output_type": "execute_result"
    }
   ],
   "source": [
    "list1=[1,2,3,4]\n",
    "max(list1)\n"
   ]
  },
  {
   "cell_type": "code",
   "execution_count": 62,
   "id": "83c3516f-0095-4166-b53e-80cc7c63d5f7",
   "metadata": {},
   "outputs": [
    {
     "data": {
      "text/plain": [
       "'b'"
      ]
     },
     "execution_count": 62,
     "metadata": {},
     "output_type": "execute_result"
    }
   ],
   "source": [
    "list2=[\"a\",\"b\"]\n",
    "max(list2)"
   ]
  },
  {
   "cell_type": "code",
   "execution_count": 63,
   "id": "baed5590-79c5-4994-9f91-bb0770581a4f",
   "metadata": {},
   "outputs": [
    {
     "ename": "TypeError",
     "evalue": "'>' not supported between instances of 'int' and 'str'",
     "output_type": "error",
     "traceback": [
      "\u001b[1;31m---------------------------------------------------------------------------\u001b[0m",
      "\u001b[1;31mTypeError\u001b[0m                                 Traceback (most recent call last)",
      "Cell \u001b[1;32mIn[63], line 3\u001b[0m\n\u001b[0;32m      1\u001b[0m \u001b[38;5;66;03m# both int and str will not compare\u001b[39;00m\n\u001b[0;32m      2\u001b[0m list3\u001b[38;5;241m=\u001b[39m[\u001b[38;5;124m\"\u001b[39m\u001b[38;5;124ma\u001b[39m\u001b[38;5;124m\"\u001b[39m,\u001b[38;5;124m\"\u001b[39m\u001b[38;5;124mb\u001b[39m\u001b[38;5;124m\"\u001b[39m,\u001b[38;5;241m10\u001b[39m]\n\u001b[1;32m----> 3\u001b[0m \u001b[38;5;28mmax\u001b[39m(list3)\n",
      "\u001b[1;31mTypeError\u001b[0m: '>' not supported between instances of 'int' and 'str'"
     ]
    }
   ],
   "source": [
    "# both int and str will not compare\n",
    "list3=[\"a\",\"b\",10]\n",
    "max(list3)"
   ]
  },
  {
   "cell_type": "code",
   "execution_count": 64,
   "id": "5791e744-e9b6-4ddb-a1ef-d04b617917c8",
   "metadata": {},
   "outputs": [
    {
     "name": "stdout",
     "output_type": "stream",
     "text": [
      "abe\n"
     ]
    }
   ],
   "source": [
    "# on the basis of ascii value max value will given\n",
    "# as ab are equeal but e has highest ascii value then others\n",
    "d1={\"abc\":10,\"abd\":9,\"abe\":1}\n",
    "print(max(d1))"
   ]
  },
  {
   "cell_type": "code",
   "execution_count": 65,
   "id": "97e7c416-c831-423b-add8-7a3d7758b1b0",
   "metadata": {},
   "outputs": [
    {
     "name": "stdout",
     "output_type": "stream",
     "text": [
      "abd\n"
     ]
    }
   ],
   "source": [
    "# now abd has max value\n",
    "d1={\"abc\":10,\"abd\":9,\"aba\":1}\n",
    "print(max(d1))\n"
   ]
  },
  {
   "cell_type": "code",
   "execution_count": 67,
   "id": "ce718e5e-e90e-455d-b82c-255b40e6f7ab",
   "metadata": {},
   "outputs": [
    {
     "name": "stdout",
     "output_type": "stream",
     "text": [
      "abc\n",
      "1\n"
     ]
    }
   ],
   "source": [
    "# if all key have same value then last key will be given as max value\n",
    "d1={\"abc\":10,\"abc\":9,\"abc\":1}\n",
    "print(max(d1))\n",
    "print(d1[max(d1)])"
   ]
  },
  {
   "cell_type": "code",
   "execution_count": 70,
   "id": "402de1d5-2dff-4385-881c-4de3883753d7",
   "metadata": {},
   "outputs": [
    {
     "name": "stdout",
     "output_type": "stream",
     "text": [
      "abc\n",
      "11\n"
     ]
    }
   ],
   "source": [
    "d1={\"abc\":10,\"abc\":9,\"abc\":11,\"a\":12}\n",
    "print(max(d1))\n",
    "print(d1[max(d1)]) # print the value which is associated with the max key "
   ]
  },
  {
   "cell_type": "code",
   "execution_count": 74,
   "id": "f46764a6-f4dc-4904-94c3-9eb130e09400",
   "metadata": {},
   "outputs": [
    {
     "name": "stdout",
     "output_type": "stream",
     "text": [
      "25\n"
     ]
    }
   ],
   "source": [
    "# key as integer find max value\n",
    "d2={24:\"ritesh\",12:\"ajju\",25:\"ankit\",1:\"ritesh\"}\n",
    "print(max(d2))"
   ]
  },
  {
   "cell_type": "code",
   "execution_count": null,
   "id": "1ea99e7d-f67e-4734-a373-624b2d73e953",
   "metadata": {},
   "outputs": [],
   "source": [
    "$ min $ \n",
    "- same as max same rule will follow  \n",
    "- return min value in case of str ascii value\n"
   ]
  },
  {
   "cell_type": "code",
   "execution_count": 82,
   "id": "61e5eb7b-3cb9-49a1-9797-9ad336543bb4",
   "metadata": {},
   "outputs": [
    {
     "name": "stdout",
     "output_type": "stream",
     "text": [
      "abc\n"
     ]
    }
   ],
   "source": [
    "d1={\"abc\":10,\"abd\":9,\"abe\":12}\n",
    "print(min(d1))\n",
    "    \n"
   ]
  },
  {
   "cell_type": "code",
   "execution_count": 86,
   "id": "f15e8264-a36b-45fc-838b-be6f1405472c",
   "metadata": {},
   "outputs": [
    {
     "name": "stdout",
     "output_type": "stream",
     "text": [
      "abc\n",
      "9\n"
     ]
    }
   ],
   "source": [
    "d1={\"abc\":10,\"abc\":9}\n",
    "print(min(d1))\n",
    "print(d1[max(d1)])\n"
   ]
  },
  {
   "cell_type": "code",
   "execution_count": 89,
   "id": "1428077f-923a-4946-a21f-b93db3b2911f",
   "metadata": {},
   "outputs": [
    {
     "name": "stdout",
     "output_type": "stream",
     "text": [
      "max: 9\n",
      "min: 9\n"
     ]
    }
   ],
   "source": [
    "# it prove if two keys are same  then min and  max will be return the last \n",
    "# key value in in the disctionary as min and max\n",
    "d1={\"abc\":10,\"abc\":9}\n",
    "print(\"max:\",d1[max(d1)])\n",
    "print(\"min:\", d1[min(d1)])\n"
   ]
  },
  {
   "cell_type": "markdown",
   "id": "5f3c07ed-ad46-46e4-b732-6879fc95ec28",
   "metadata": {},
   "source": [
    "### note if two keys are same  then min and  max will be return the last \n",
    "### key value in in the disctionary as min and max ###\n"
   ]
  },
  {
   "cell_type": "code",
   "execution_count": 94,
   "id": "3c92c265-0c22-4fc8-9592-a9c3c8b57168",
   "metadata": {},
   "outputs": [
    {
     "name": "stdout",
     "output_type": "stream",
     "text": [
      "ankit\n"
     ]
    }
   ],
   "source": [
    "d1={1:\"ritesh\",1:\"ankit\"}\n",
    "print(d1[max(d1)])   # last value will "
   ]
  },
  {
   "cell_type": "markdown",
   "id": "80524051-3a7c-4446-adaa-e1cdfdc43221",
   "metadata": {},
   "source": [
    "$ len $ \n",
    "- it will  return the len of dictionary\n",
    "- the lentth will return on the basis of distnict key\n",
    "- if dublicates key are then they will not count they will count only 1\n"
   ]
  },
  {
   "cell_type": "code",
   "execution_count": 97,
   "id": "1734a9cc-b3f0-42c4-b19f-ff20398f8e08",
   "metadata": {},
   "outputs": [
    {
     "name": "stdout",
     "output_type": "stream",
     "text": [
      "3\n"
     ]
    }
   ],
   "source": [
    "d1={\"abc\":10,\"abe\":9,1:\"ritesh\"}\n",
    "print(len(d1))"
   ]
  },
  {
   "cell_type": "code",
   "execution_count": 98,
   "id": "c97ff0f4-1f77-4feb-9ce7-e4ab6e897662",
   "metadata": {},
   "outputs": [
    {
     "name": "stdout",
     "output_type": "stream",
     "text": [
      "2\n"
     ]
    }
   ],
   "source": [
    "# here two dublicates key but it will count 1 so the len is 2\n",
    "d1={\"abc\":10,\"abc\":9,1:\"ritesh\"}\n",
    "print(len(d1))\n"
   ]
  },
  {
   "cell_type": "markdown",
   "id": "e007aae2-0587-4e08-99c0-88dbbce0cb87",
   "metadata": {},
   "source": [
    "$ sum $\n",
    "- it will return the sum of keys \n",
    "- if key is numeric only then we can sum\n",
    "- if key is str we can't sum"
   ]
  },
  {
   "cell_type": "code",
   "execution_count": 99,
   "id": "229090a1-965e-4f55-a6f6-439469f591f0",
   "metadata": {},
   "outputs": [
    {
     "name": "stdout",
     "output_type": "stream",
     "text": [
      "113\n"
     ]
    }
   ],
   "source": [
    "d1={1:\"ritesh\",100:\"ajju\",12:\"kumar\"}\n",
    "print(sum(d1))"
   ]
  },
  {
   "cell_type": "code",
   "execution_count": 100,
   "id": "99eb0170-9ada-4407-a897-f60cfdd8ea2a",
   "metadata": {},
   "outputs": [
    {
     "ename": "TypeError",
     "evalue": "unsupported operand type(s) for +: 'int' and 'str'",
     "output_type": "error",
     "traceback": [
      "\u001b[1;31m---------------------------------------------------------------------------\u001b[0m",
      "\u001b[1;31mTypeError\u001b[0m                                 Traceback (most recent call last)",
      "Cell \u001b[1;32mIn[100], line 2\u001b[0m\n\u001b[0;32m      1\u001b[0m d2\u001b[38;5;241m=\u001b[39m{\u001b[38;5;124m\"\u001b[39m\u001b[38;5;124mab\u001b[39m\u001b[38;5;124m\"\u001b[39m:\u001b[38;5;241m10\u001b[39m,\u001b[38;5;124m\"\u001b[39m\u001b[38;5;124mritehs\u001b[39m\u001b[38;5;124m\"\u001b[39m:\u001b[38;5;241m14\u001b[39m}\n\u001b[1;32m----> 2\u001b[0m \u001b[38;5;28mprint\u001b[39m(\u001b[38;5;28msum\u001b[39m(d2))\n",
      "\u001b[1;31mTypeError\u001b[0m: unsupported operand type(s) for +: 'int' and 'str'"
     ]
    }
   ],
   "source": [
    "d2={\"ab\":10,\"ritehs\":14}\n",
    "print(sum(d2))"
   ]
  },
  {
   "cell_type": "code",
   "execution_count": null,
   "id": "bea46b1e-9532-4fcb-a9ae-d0982b40cfc0",
   "metadata": {},
   "outputs": [],
   "source": [
    "**** NOTE *****\n",
    "- d1*d1 not allowed\n",
    "- d1+d1 not allowed but in list and str allowed\n",
    "- d1-d1 not allowed\n",
    "- d1/d1 not allowed\n",
    "- d1*4 not allowed but in list and str allowed\n",
    "    \n",
    "\n",
    "\n",
    "\n"
   ]
  },
  {
   "cell_type": "code",
   "execution_count": 101,
   "id": "0b6a907a-01f7-4f38-9681-545a4347309e",
   "metadata": {},
   "outputs": [
    {
     "ename": "TypeError",
     "evalue": "unsupported operand type(s) for +: 'dict' and 'dict'",
     "output_type": "error",
     "traceback": [
      "\u001b[1;31m---------------------------------------------------------------------------\u001b[0m",
      "\u001b[1;31mTypeError\u001b[0m                                 Traceback (most recent call last)",
      "Cell \u001b[1;32mIn[101], line 3\u001b[0m\n\u001b[0;32m      1\u001b[0m d1\u001b[38;5;241m=\u001b[39m{\u001b[38;5;241m1\u001b[39m:\u001b[38;5;124m\"\u001b[39m\u001b[38;5;124mritesh\u001b[39m\u001b[38;5;124m\"\u001b[39m,\u001b[38;5;241m100\u001b[39m:\u001b[38;5;124m\"\u001b[39m\u001b[38;5;124majju\u001b[39m\u001b[38;5;124m\"\u001b[39m,\u001b[38;5;241m12\u001b[39m:\u001b[38;5;124m\"\u001b[39m\u001b[38;5;124mkumar\u001b[39m\u001b[38;5;124m\"\u001b[39m}\n\u001b[0;32m      2\u001b[0m d2\u001b[38;5;241m=\u001b[39m{\u001b[38;5;241m10\u001b[39m:\u001b[38;5;124m\"\u001b[39m\u001b[38;5;124mritesh\u001b[39m\u001b[38;5;124m\"\u001b[39m,\u001b[38;5;241m11\u001b[39m:\u001b[38;5;124m\"\u001b[39m\u001b[38;5;124majju\u001b[39m\u001b[38;5;124m\"\u001b[39m,\u001b[38;5;241m13\u001b[39m:\u001b[38;5;124m\"\u001b[39m\u001b[38;5;124mkumar\u001b[39m\u001b[38;5;124m\"\u001b[39m}\n\u001b[1;32m----> 3\u001b[0m \u001b[38;5;28mprint\u001b[39m(d1\u001b[38;5;241m+\u001b[39md2)\n",
      "\u001b[1;31mTypeError\u001b[0m: unsupported operand type(s) for +: 'dict' and 'dict'"
     ]
    }
   ],
   "source": [
    "# d1+d2 not allowed \n",
    "d1={1:\"ritesh\",100:\"ajju\",12:\"kumar\"}\n",
    "d2={10:\"ritesh\",11:\"ajju\",13:\"kumar\"}\n",
    "print(d1+d2)\n",
    "\n"
   ]
  },
  {
   "cell_type": "code",
   "execution_count": 102,
   "id": "12beaeb0-5d71-4767-b60e-4e00e59cbc7f",
   "metadata": {},
   "outputs": [
    {
     "ename": "TypeError",
     "evalue": "unsupported operand type(s) for -: 'dict' and 'dict'",
     "output_type": "error",
     "traceback": [
      "\u001b[1;31m---------------------------------------------------------------------------\u001b[0m",
      "\u001b[1;31mTypeError\u001b[0m                                 Traceback (most recent call last)",
      "Cell \u001b[1;32mIn[102], line 4\u001b[0m\n\u001b[0;32m      2\u001b[0m d1\u001b[38;5;241m=\u001b[39m{\u001b[38;5;241m1\u001b[39m:\u001b[38;5;124m\"\u001b[39m\u001b[38;5;124mritesh\u001b[39m\u001b[38;5;124m\"\u001b[39m,\u001b[38;5;241m100\u001b[39m:\u001b[38;5;124m\"\u001b[39m\u001b[38;5;124majju\u001b[39m\u001b[38;5;124m\"\u001b[39m,\u001b[38;5;241m12\u001b[39m:\u001b[38;5;124m\"\u001b[39m\u001b[38;5;124mkumar\u001b[39m\u001b[38;5;124m\"\u001b[39m}\n\u001b[0;32m      3\u001b[0m d2\u001b[38;5;241m=\u001b[39m{\u001b[38;5;241m10\u001b[39m:\u001b[38;5;124m\"\u001b[39m\u001b[38;5;124mritesh\u001b[39m\u001b[38;5;124m\"\u001b[39m,\u001b[38;5;241m11\u001b[39m:\u001b[38;5;124m\"\u001b[39m\u001b[38;5;124majju\u001b[39m\u001b[38;5;124m\"\u001b[39m,\u001b[38;5;241m13\u001b[39m:\u001b[38;5;124m\"\u001b[39m\u001b[38;5;124mkumar\u001b[39m\u001b[38;5;124m\"\u001b[39m}\n\u001b[1;32m----> 4\u001b[0m \u001b[38;5;28mprint\u001b[39m(d1\u001b[38;5;241m-\u001b[39md2)\n",
      "\u001b[1;31mTypeError\u001b[0m: unsupported operand type(s) for -: 'dict' and 'dict'"
     ]
    }
   ],
   "source": [
    "# d1-d2 not allowed \n",
    "d1={1:\"ritesh\",100:\"ajju\",12:\"kumar\"}\n",
    "d2={10:\"ritesh\",11:\"ajju\",13:\"kumar\"}\n",
    "print(d1-d2)\n"
   ]
  },
  {
   "cell_type": "code",
   "execution_count": 103,
   "id": "fc1fd4e3-9315-4ffd-b20f-a609f57edb99",
   "metadata": {},
   "outputs": [
    {
     "ename": "TypeError",
     "evalue": "unsupported operand type(s) for -: 'dict' and 'dict'",
     "output_type": "error",
     "traceback": [
      "\u001b[1;31m---------------------------------------------------------------------------\u001b[0m",
      "\u001b[1;31mTypeError\u001b[0m                                 Traceback (most recent call last)",
      "Cell \u001b[1;32mIn[103], line 4\u001b[0m\n\u001b[0;32m      2\u001b[0m d1\u001b[38;5;241m=\u001b[39m{\u001b[38;5;241m1\u001b[39m:\u001b[38;5;124m\"\u001b[39m\u001b[38;5;124mritesh\u001b[39m\u001b[38;5;124m\"\u001b[39m,\u001b[38;5;241m100\u001b[39m:\u001b[38;5;124m\"\u001b[39m\u001b[38;5;124majju\u001b[39m\u001b[38;5;124m\"\u001b[39m,\u001b[38;5;241m12\u001b[39m:\u001b[38;5;124m\"\u001b[39m\u001b[38;5;124mkumar\u001b[39m\u001b[38;5;124m\"\u001b[39m}\n\u001b[0;32m      3\u001b[0m d2\u001b[38;5;241m=\u001b[39m{\u001b[38;5;241m10\u001b[39m:\u001b[38;5;124m\"\u001b[39m\u001b[38;5;124mritesh\u001b[39m\u001b[38;5;124m\"\u001b[39m,\u001b[38;5;241m11\u001b[39m:\u001b[38;5;124m\"\u001b[39m\u001b[38;5;124majju\u001b[39m\u001b[38;5;124m\"\u001b[39m,\u001b[38;5;241m13\u001b[39m:\u001b[38;5;124m\"\u001b[39m\u001b[38;5;124mkumar\u001b[39m\u001b[38;5;124m\"\u001b[39m}\n\u001b[1;32m----> 4\u001b[0m \u001b[38;5;28mprint\u001b[39m(d1\u001b[38;5;241m-\u001b[39md2)\n",
      "\u001b[1;31mTypeError\u001b[0m: unsupported operand type(s) for -: 'dict' and 'dict'"
     ]
    }
   ],
   "source": [
    "# d1*d2 not allowed \n",
    "d1={1:\"ritesh\",100:\"ajju\",12:\"kumar\"}\n",
    "d2={10:\"ritesh\",11:\"ajju\",13:\"kumar\"}\n",
    "print(d1-d2)"
   ]
  },
  {
   "cell_type": "code",
   "execution_count": 104,
   "id": "869de445-858d-4bef-9045-083a52d383bc",
   "metadata": {},
   "outputs": [
    {
     "ename": "TypeError",
     "evalue": "unsupported operand type(s) for /: 'dict' and 'dict'",
     "output_type": "error",
     "traceback": [
      "\u001b[1;31m---------------------------------------------------------------------------\u001b[0m",
      "\u001b[1;31mTypeError\u001b[0m                                 Traceback (most recent call last)",
      "Cell \u001b[1;32mIn[104], line 4\u001b[0m\n\u001b[0;32m      2\u001b[0m d1\u001b[38;5;241m=\u001b[39m{\u001b[38;5;241m1\u001b[39m:\u001b[38;5;124m\"\u001b[39m\u001b[38;5;124mritesh\u001b[39m\u001b[38;5;124m\"\u001b[39m,\u001b[38;5;241m100\u001b[39m:\u001b[38;5;124m\"\u001b[39m\u001b[38;5;124majju\u001b[39m\u001b[38;5;124m\"\u001b[39m,\u001b[38;5;241m12\u001b[39m:\u001b[38;5;124m\"\u001b[39m\u001b[38;5;124mkumar\u001b[39m\u001b[38;5;124m\"\u001b[39m}\n\u001b[0;32m      3\u001b[0m d2\u001b[38;5;241m=\u001b[39m{\u001b[38;5;241m10\u001b[39m:\u001b[38;5;124m\"\u001b[39m\u001b[38;5;124mritesh\u001b[39m\u001b[38;5;124m\"\u001b[39m,\u001b[38;5;241m11\u001b[39m:\u001b[38;5;124m\"\u001b[39m\u001b[38;5;124majju\u001b[39m\u001b[38;5;124m\"\u001b[39m,\u001b[38;5;241m13\u001b[39m:\u001b[38;5;124m\"\u001b[39m\u001b[38;5;124mkumar\u001b[39m\u001b[38;5;124m\"\u001b[39m}\n\u001b[1;32m----> 4\u001b[0m \u001b[38;5;28mprint\u001b[39m(d1\u001b[38;5;241m/\u001b[39md2)\n",
      "\u001b[1;31mTypeError\u001b[0m: unsupported operand type(s) for /: 'dict' and 'dict'"
     ]
    }
   ],
   "source": [
    "# d1/d2 not allowed \n",
    "d1={1:\"ritesh\",100:\"ajju\",12:\"kumar\"}\n",
    "d2={10:\"ritesh\",11:\"ajju\",13:\"kumar\"}\n",
    "print(d1/d2)"
   ]
  },
  {
   "cell_type": "code",
   "execution_count": 105,
   "id": "69a54953-f4c9-46c1-bf44-8bfc63212d1d",
   "metadata": {},
   "outputs": [
    {
     "ename": "TypeError",
     "evalue": "unsupported operand type(s) for *: 'dict' and 'int'",
     "output_type": "error",
     "traceback": [
      "\u001b[1;31m---------------------------------------------------------------------------\u001b[0m",
      "\u001b[1;31mTypeError\u001b[0m                                 Traceback (most recent call last)",
      "Cell \u001b[1;32mIn[105], line 4\u001b[0m\n\u001b[0;32m      2\u001b[0m d1\u001b[38;5;241m=\u001b[39m{\u001b[38;5;241m1\u001b[39m:\u001b[38;5;124m\"\u001b[39m\u001b[38;5;124mritesh\u001b[39m\u001b[38;5;124m\"\u001b[39m,\u001b[38;5;241m100\u001b[39m:\u001b[38;5;124m\"\u001b[39m\u001b[38;5;124majju\u001b[39m\u001b[38;5;124m\"\u001b[39m,\u001b[38;5;241m12\u001b[39m:\u001b[38;5;124m\"\u001b[39m\u001b[38;5;124mkumar\u001b[39m\u001b[38;5;124m\"\u001b[39m}\n\u001b[0;32m      3\u001b[0m d2\u001b[38;5;241m=\u001b[39m{\u001b[38;5;241m10\u001b[39m:\u001b[38;5;124m\"\u001b[39m\u001b[38;5;124mritesh\u001b[39m\u001b[38;5;124m\"\u001b[39m,\u001b[38;5;241m11\u001b[39m:\u001b[38;5;124m\"\u001b[39m\u001b[38;5;124majju\u001b[39m\u001b[38;5;124m\"\u001b[39m,\u001b[38;5;241m13\u001b[39m:\u001b[38;5;124m\"\u001b[39m\u001b[38;5;124mkumar\u001b[39m\u001b[38;5;124m\"\u001b[39m}\n\u001b[1;32m----> 4\u001b[0m \u001b[38;5;28mprint\u001b[39m(d1\u001b[38;5;241m*\u001b[39m\u001b[38;5;241m4\u001b[39m)\n",
      "\u001b[1;31mTypeError\u001b[0m: unsupported operand type(s) for *: 'dict' and 'int'"
     ]
    }
   ],
   "source": [
    "# d1*4 not allowed \n",
    "d1={1:\"ritesh\",100:\"ajju\",12:\"kumar\"}\n",
    "d2={10:\"ritesh\",11:\"ajju\",13:\"kumar\"}\n",
    "print(d1*4)"
   ]
  },
  {
   "cell_type": "code",
   "execution_count": 106,
   "id": "7f250930-bc9e-4968-bbe8-2337c115e0b5",
   "metadata": {},
   "outputs": [
    {
     "name": "stdout",
     "output_type": "stream",
     "text": [
      "[12, 12, 12, 12]\n"
     ]
    }
   ],
   "source": [
    "list1=[12,12]\n",
    "print(list1*2)\n"
   ]
  },
  {
   "cell_type": "markdown",
   "id": "4ed4ed95-c97f-45db-bca8-ae2dd262143b",
   "metadata": {},
   "source": [
    "# in operator\n",
    "- in for loop under i key come only not value\n"
   ]
  },
  {
   "cell_type": "code",
   "execution_count": 108,
   "id": "c6c83e35-dfb8-4dfa-8221-c2bc0711452e",
   "metadata": {},
   "outputs": [
    {
     "name": "stdout",
     "output_type": "stream",
     "text": [
      "1\n",
      "2\n",
      "3\n",
      "4\n"
     ]
    }
   ],
   "source": [
    "d1={1:\"ritesh\",2:\"rahul\",3:\"ankit\",4:\"ashok\"}\n",
    "for i in d1:\n",
    "    print(i) #i= 1,2,3,4 key come not value as key is importand in dict"
   ]
  },
  {
   "cell_type": "code",
   "execution_count": null,
   "id": "81c02477-6a84-4e40-8c42-1633f8009b18",
   "metadata": {},
   "outputs": [],
   "source": [
    "# index \n",
    "- in dict index in not number like str and list 0,1,2,3\n",
    "- in dict index =key \n",
    "- to access the value we have to pass the key inside the square bracket"
   ]
  },
  {
   "cell_type": "code",
   "execution_count": 109,
   "id": "a2a0be76-9190-48b5-9649-8efc4e9dbb68",
   "metadata": {},
   "outputs": [
    {
     "name": "stdout",
     "output_type": "stream",
     "text": [
      "ritesh\n"
     ]
    }
   ],
   "source": [
    "d1={1:\"ritesh\",2:\"rahul\",3:\"ankit\",4:\"ashok\"}\n",
    "print(d1[1]) # here d[index]= d[key] result= value corresponding key which pass\n"
   ]
  },
  {
   "cell_type": "code",
   "execution_count": 111,
   "id": "b3c687ec-5afa-441e-9c8d-39ea365b0988",
   "metadata": {},
   "outputs": [
    {
     "name": "stdout",
     "output_type": "stream",
     "text": [
      "ashok\n",
      "{1: 'ashok', 2: 'rahul', 3: 'ankit'}\n"
     ]
    }
   ],
   "source": [
    "# if two keys have same value\n",
    "# last key value will be printed\n",
    "d1={1:\"ritesh\",2:\"rahul\",3:\"ankit\",1:\"ashok\"}\n",
    "print(d1[1])\n",
    "print(d1) # here 1=ritesh will gone 1: ashok will take as ashok come after the ritesh \n"
   ]
  },
  {
   "cell_type": "markdown",
   "id": "a9319b5b-732e-4e98-8d15-8677b35895b7",
   "metadata": {},
   "source": [
    "### note if same key but having different value in then the last value will take in key ###\n",
    "- as old value will  gone new value will take\n"
   ]
  },
  {
   "cell_type": "code",
   "execution_count": 112,
   "id": "3fb266ad-81e6-451d-a695-971e946fff3f",
   "metadata": {},
   "outputs": [
    {
     "ename": "KeyError",
     "evalue": "0",
     "output_type": "error",
     "traceback": [
      "\u001b[1;31m---------------------------------------------------------------------------\u001b[0m",
      "\u001b[1;31mKeyError\u001b[0m                                  Traceback (most recent call last)",
      "Cell \u001b[1;32mIn[112], line 2\u001b[0m\n\u001b[0;32m      1\u001b[0m d1\u001b[38;5;241m=\u001b[39m{\u001b[38;5;241m1\u001b[39m:\u001b[38;5;124m\"\u001b[39m\u001b[38;5;124mritesh\u001b[39m\u001b[38;5;124m\"\u001b[39m,\u001b[38;5;241m2\u001b[39m:\u001b[38;5;124m\"\u001b[39m\u001b[38;5;124mrahul\u001b[39m\u001b[38;5;124m\"\u001b[39m,\u001b[38;5;241m3\u001b[39m:\u001b[38;5;124m\"\u001b[39m\u001b[38;5;124mankit\u001b[39m\u001b[38;5;124m\"\u001b[39m,\u001b[38;5;241m1\u001b[39m:\u001b[38;5;124m\"\u001b[39m\u001b[38;5;124mashok\u001b[39m\u001b[38;5;124m\"\u001b[39m}\n\u001b[1;32m----> 2\u001b[0m \u001b[38;5;28mprint\u001b[39m(d1[\u001b[38;5;241m0\u001b[39m])\n",
      "\u001b[1;31mKeyError\u001b[0m: 0"
     ]
    }
   ],
   "source": [
    "d1={1:\"ritesh\",2:\"rahul\",3:\"ankit\",1:\"ashok\"}\n",
    "print(d1[0]) # provding index like list 0,1,2\n",
    "# in dictionary will not work we have to pass in index "
   ]
  },
  {
   "cell_type": "code",
   "execution_count": 114,
   "id": "8ff33ad0-6e64-4e36-b470-3364b84530a3",
   "metadata": {},
   "outputs": [
    {
     "name": "stdout",
     "output_type": "stream",
     "text": [
      "23\n",
      "25\n",
      "30\n"
     ]
    }
   ],
   "source": [
    "# now we can access using for loop both value and key\n",
    "# using  index\n",
    "d1={\"ram\":23,\"ritesh\":25,\"ankit\":30}\n",
    "for i in d1:\n",
    "    print(d1[i]) # as we have pass key inplace of index so value  will be return\n"
   ]
  },
  {
   "cell_type": "code",
   "execution_count": 115,
   "id": "15fca441-ecb5-48fb-8786-4b5a6cc6e5b3",
   "metadata": {},
   "outputs": [
    {
     "name": "stdout",
     "output_type": "stream",
     "text": [
      "ram\n",
      "ritesh\n",
      "ankit\n"
     ]
    }
   ],
   "source": [
    "for i in d1:\n",
    "    print(i) # key printing"
   ]
  },
  {
   "cell_type": "code",
   "execution_count": 116,
   "id": "f1b53c22-6ebc-44a4-bbe3-d249feb18d88",
   "metadata": {},
   "outputs": [
    {
     "name": "stdout",
     "output_type": "stream",
     "text": [
      "ram 23\n",
      "ritesh 25\n",
      "ankit 30\n"
     ]
    }
   ],
   "source": [
    "# now using index we can print boht key and value\n",
    "for i in d1:\n",
    "    print(i,d1[i]) # both key and value"
   ]
  },
  {
   "cell_type": "code",
   "execution_count": 117,
   "id": "7e5d3b08-ea1a-4145-b840-bf1ad63e8104",
   "metadata": {},
   "outputs": [
    {
     "name": "stdout",
     "output_type": "stream",
     "text": [
      "ram age is 23\n",
      "ritesh age is 25\n",
      "ankit age is 30\n"
     ]
    }
   ],
   "source": [
    "for i in d1:\n",
    "    print(\"{} age is {}\".format(i,d1[i])) "
   ]
  },
  {
   "cell_type": "code",
   "execution_count": 118,
   "id": "32ad98a4-570a-4c57-b8ba-84ede4dfc62c",
   "metadata": {},
   "outputs": [
    {
     "ename": "KeyError",
     "evalue": "0",
     "output_type": "error",
     "traceback": [
      "\u001b[1;31m---------------------------------------------------------------------------\u001b[0m",
      "\u001b[1;31mKeyError\u001b[0m                                  Traceback (most recent call last)",
      "Cell \u001b[1;32mIn[118], line 4\u001b[0m\n\u001b[0;32m      1\u001b[0m \u001b[38;5;66;03m# as dic is not index based like 0,1,2,3\u001b[39;00m\n\u001b[0;32m      2\u001b[0m \u001b[38;5;66;03m# so range will not work to acces key value\u001b[39;00m\n\u001b[0;32m      3\u001b[0m \u001b[38;5;28;01mfor\u001b[39;00m i \u001b[38;5;129;01min\u001b[39;00m \u001b[38;5;28mrange\u001b[39m(\u001b[38;5;28mlen\u001b[39m(d1)):\n\u001b[1;32m----> 4\u001b[0m     \u001b[38;5;28mprint\u001b[39m(d1[i])\n",
      "\u001b[1;31mKeyError\u001b[0m: 0"
     ]
    }
   ],
   "source": [
    "# as dic is not index based like 0,1,2,3\n",
    "# so range will not work to acces key value\n",
    "for i in range(len(d1)):\n",
    "    print(d1[i])"
   ]
  },
  {
   "cell_type": "code",
   "execution_count": 2,
   "id": "3e585339-8d71-406f-ac42-398e95c54323",
   "metadata": {},
   "outputs": [
    {
     "name": "stdout",
     "output_type": "stream",
     "text": [
      "0 ritehs\n",
      "1 ajay\n",
      "2 hell\n"
     ]
    }
   ],
   "source": [
    "# but it work only when when your key value must be start from 0,1,2,3... so it will not work in all cases it is \n",
    "# hard coding we want to generalise\n",
    "d1={0:\"ritehs\",1:\"ajay\",2:\"hell\"}\n",
    "for i in range(len(d1)):\n",
    "    print(i,d1[i])"
   ]
  },
  {
   "cell_type": "code",
   "execution_count": null,
   "id": "d9e86f49-d7d6-4218-aa0a-80eda47ae590",
   "metadata": {},
   "outputs": [],
   "source": [
    "# creating a empty dictionary and update it\n",
    "# as dictinaory  is key value pair so you need to update the empty dictionalry\n",
    "# using syntax\n",
    "#d1={}\n",
    "# updating value\n",
    "# d[key]=values\n",
    "# d[1]=\"ritehs\""
   ]
  },
  {
   "cell_type": "code",
   "execution_count": 4,
   "id": "b8daa24c-b0d2-4bf6-88b6-7230adc462a6",
   "metadata": {},
   "outputs": [
    {
     "name": "stdout",
     "output_type": "stream",
     "text": [
      "apple\n"
     ]
    }
   ],
   "source": [
    "# updating str\n",
    "str1=\"\"\n",
    "for i in \"apple\":\n",
    "    str1=str1+i\n",
    "print(str1)    "
   ]
  },
  {
   "cell_type": "code",
   "execution_count": 6,
   "id": "7e28c076-e8c6-4a4b-a98b-1b907ba70a21",
   "metadata": {},
   "outputs": [
    {
     "name": "stdout",
     "output_type": "stream",
     "text": [
      "[0, 1, 2, 3, 4, 5, 6, 7, 8, 9, 0, 1, 2, 3, 4, 5, 6, 7, 8, 9, 10]\n"
     ]
    }
   ],
   "source": [
    "# updating list\n",
    "l1=[i for i in range(10)]# using comprehension\n",
    "# normay wya\n",
    "for i in range(11):\n",
    "    l1.append(i)\n",
    "print(l1)    "
   ]
  },
  {
   "cell_type": "code",
   "execution_count": 7,
   "id": "20cfd66c-a50a-41e9-b8fc-e69545389848",
   "metadata": {},
   "outputs": [
    {
     "name": "stdout",
     "output_type": "stream",
     "text": [
      "{'name': 'ritesh', 'education': 'btech', 'address': 'saraswati'}\n"
     ]
    }
   ],
   "source": [
    "# updating dictionary \n",
    "# wap to proram to create your own data base using dictionary \n",
    "# create empty dic and update\n",
    "d1={}\n",
    "d1[\"name\"]=\"ritesh\"\n",
    "d1[\"education\"]=\"btech\"\n",
    "d1[\"address\"]=\"saraswati\"\n",
    "print(d1)\n"
   ]
  },
  {
   "cell_type": "code",
   "execution_count": 9,
   "id": "9f78042f-9685-418e-842e-a10fcc2c1653",
   "metadata": {},
   "outputs": [
    {
     "name": "stdout",
     "output_type": "stream",
     "text": [
      "ritesh has age 24\n",
      "ankit has age 23\n",
      "ashok has age 25\n"
     ]
    }
   ],
   "source": [
    "name=[\"ritesh\",\"ankit\",\"ashok\"]\n",
    "age=[24,23,25]\n",
    "# print name and age using zip method in single\n",
    "for i,j in zip(name,age):\n",
    "    print(\"{} has age {}\".format(i,j))"
   ]
  },
  {
   "cell_type": "code",
   "execution_count": 8,
   "id": "49485cb2-2bc9-4575-8b93-e9c534f1b3a8",
   "metadata": {},
   "outputs": [
    {
     "name": "stdout",
     "output_type": "stream",
     "text": [
      "{'ritesh': 24, 'ankit': 23, 'ashok': 25}\n"
     ]
    }
   ],
   "source": [
    "# wap to create a dictionary based on two list\n",
    "name=[\"ritesh\",\"ankit\",\"ashok\"]\n",
    "age=[24,23,25]\n",
    "d1={}\n",
    "for i,j in zip(name,age):\n",
    "    d1[i]=j\n",
    "print(d1)    "
   ]
  },
  {
   "cell_type": "code",
   "execution_count": 11,
   "id": "6b38c010-fa3e-4729-9778-7dd3789e4737",
   "metadata": {},
   "outputs": [
    {
     "name": "stdout",
     "output_type": "stream",
     "text": [
      "index 0 , ritesh has age 24\n",
      "index 1 , ankit has age 23\n",
      "index 2 , ashok has age 25\n"
     ]
    }
   ],
   "source": [
    "# without zip also we can do\n",
    "# access both list using index we can do this\n",
    "name=[\"ritesh\",\"ankit\",\"ashok\"]\n",
    "age=[24,23,25]\n",
    "for i in range(len(name)):\n",
    "    print(\"index {} , {} has age {}\".format(i,name[i],age[i]))\n",
    "    \n"
   ]
  },
  {
   "cell_type": "code",
   "execution_count": null,
   "id": "5149aea9-1848-493f-9592-369d33f69c8f",
   "metadata": {},
   "outputs": [],
   "source": [
    "# now create dictinary without zip"
   ]
  },
  {
   "cell_type": "code",
   "execution_count": 12,
   "id": "7857853c-5b4e-4013-9eba-ebdea1e7ba74",
   "metadata": {},
   "outputs": [
    {
     "name": "stdout",
     "output_type": "stream",
     "text": [
      "{'ritesh': 24, 'ankit': 23, 'ashok': 25}\n"
     ]
    }
   ],
   "source": [
    "name=[\"ritesh\",\"ankit\",\"ashok\"]\n",
    "age=[24,23,25]\n",
    "d1={}\n",
    "for i in range(len(name)):\n",
    "    d1[name[i]]=age[i]\n",
    "print(d1)    \n",
    "    "
   ]
  },
  {
   "cell_type": "markdown",
   "id": "af33afde-868c-4510-97e1-9f01a0e33382",
   "metadata": {},
   "source": [
    "## dictinory comprehension ##\n",
    "# d1={outputt for loop }\n",
    "# d1={key:value for loop }\n",
    "# d1={list1[index]:list2[index] for loop} using index\n",
    "# d1={key:value element for key,value zip(list1,list2) } using zip\n",
    "\n"
   ]
  },
  {
   "cell_type": "code",
   "execution_count": 13,
   "id": "f8c67280-9437-49f1-8048-2658e84b8b26",
   "metadata": {},
   "outputs": [
    {
     "name": "stdout",
     "output_type": "stream",
     "text": [
      "{'ritesh': 24, 'ankit': 23, 'ashok': 25}\n"
     ]
    }
   ],
   "source": [
    "# example using index dictionayr comprehension \n",
    "name=[\"ritesh\",\"ankit\",\"ashok\"]\n",
    "age=[24,23,25]\n",
    "d1={name[i]:age[i] for i in range(len(name))}\n",
    "print(d1)\n"
   ]
  },
  {
   "cell_type": "code",
   "execution_count": 14,
   "id": "46992921-8790-48e6-be5e-407673ca1427",
   "metadata": {},
   "outputs": [
    {
     "name": "stdout",
     "output_type": "stream",
     "text": [
      "{'ritesh': 24, 'ankit': 23, 'ashok': 25}\n"
     ]
    }
   ],
   "source": [
    "# using zip method\n",
    "name=[\"ritesh\",\"ankit\",\"ashok\"]\n",
    "age=[24,23,25]\n",
    "d1={key:val for key,val in zip(name,age)}\n",
    "print(d1)"
   ]
  },
  {
   "cell_type": "code",
   "execution_count": null,
   "id": "ea3c486f-224d-49e4-bc15-0b3c60ba2972",
   "metadata": {},
   "outputs": [],
   "source": [
    "# create a dictionary using two list \n",
    "# with comprehension and without compreshension using both mehod zip and also index\n"
   ]
  },
  {
   "cell_type": "code",
   "execution_count": 16,
   "id": "3d89393b-1931-4f67-a216-3f276d46a472",
   "metadata": {},
   "outputs": [],
   "source": [
    "l1=[10,20,30,50]\n",
    "l2=[\"Ten\",\"Twenty\",\"Thirty\",\"Fifty\"]\n",
    "d1={}\n",
    "# base d1[10]=\"Ten\" we have to use this d1[key]=value\n"
   ]
  },
  {
   "cell_type": "code",
   "execution_count": 17,
   "id": "59e44118-47e0-4ed8-94ca-5065473cd0d7",
   "metadata": {},
   "outputs": [
    {
     "name": "stdout",
     "output_type": "stream",
     "text": [
      "{10: 'Ten', 20: 'Twenty', 30: 'Thirty', 50: 'Fifty'}\n"
     ]
    }
   ],
   "source": [
    "# without comprehension \n",
    "# using zip\n",
    "for key,val in zip(l1,l2):\n",
    "    d1[key]=val\n",
    "print(d1)    "
   ]
  },
  {
   "cell_type": "code",
   "execution_count": 19,
   "id": "d810c7a1-8ed9-4ead-9594-ee29e12d2ce6",
   "metadata": {},
   "outputs": [
    {
     "name": "stdout",
     "output_type": "stream",
     "text": [
      "{10: 'Ten', 20: 'Twenty', 30: 'Thirty', 50: 'Fifty'}\n"
     ]
    }
   ],
   "source": [
    "# using index\n",
    "for  i in range(len(l1)):\n",
    "    d1[l1[i]]=l2[i]\n",
    "print(d1)"
   ]
  },
  {
   "cell_type": "code",
   "execution_count": 20,
   "id": "9e5fed08-285a-4780-b180-db118d00fe1f",
   "metadata": {},
   "outputs": [
    {
     "data": {
      "text/plain": [
       "{10: 'Ten', 20: 'Twenty', 30: 'Thirty', 50: 'Fifty'}"
      ]
     },
     "execution_count": 20,
     "metadata": {},
     "output_type": "execute_result"
    }
   ],
   "source": [
    "# with comprehension \n",
    "# using index\n",
    "d2={l1[i]:l2[i ]for  i in range(len(l1))}\n",
    "d2"
   ]
  },
  {
   "cell_type": "code",
   "execution_count": 22,
   "id": "d206a14d-5a03-423f-a433-054ce138de31",
   "metadata": {},
   "outputs": [
    {
     "data": {
      "text/plain": [
       "{10: 'Ten', 20: 'Twenty', 30: 'Thirty', 50: 'Fifty'}"
      ]
     },
     "execution_count": 22,
     "metadata": {},
     "output_type": "execute_result"
    }
   ],
   "source": [
    "# with comprehension \n",
    "# using zip\n",
    "d2={i:j for i,j in zip(l1,l2)}\n",
    "d2"
   ]
  },
  {
   "cell_type": "code",
   "execution_count": null,
   "id": "03f4bbf1-cdda-4c3a-a196-9470ddd4d7df",
   "metadata": {},
   "outputs": [],
   "source": []
  },
  {
   "cell_type": "code",
   "execution_count": null,
   "id": "f79a1cbe-d9dd-4506-be67-570f64f73eb9",
   "metadata": {},
   "outputs": [],
   "source": [
    "# wap take 5 random number create a dictionary with even and odd number list "
   ]
  },
  {
   "cell_type": "code",
   "execution_count": 31,
   "id": "ee8f8317-9715-4134-9ad2-873b43a08000",
   "metadata": {},
   "outputs": [
    {
     "name": "stdout",
     "output_type": "stream",
     "text": [
      "{'even': [40, 62, 72], 'odd': [53, 59]}\n"
     ]
    }
   ],
   "source": [
    "import random\n",
    "\n",
    "even=[]\n",
    "odd=[]\n",
    "d1={}\n",
    "for i in range(5):\n",
    "    num=random.randint(1,100)\n",
    "    if num%2==0:\n",
    "        even.append(num)\n",
    "    else:\n",
    "        odd.append(num)\n",
    "d1[\"even\"]=even\n",
    "d1[\"odd\"]=odd\n",
    "print(d1)"
   ]
  },
  {
   "cell_type": "code",
   "execution_count": 122,
   "id": "be7bdc44-6947-41fe-aad3-a41e4a6265d1",
   "metadata": {},
   "outputs": [
    {
     "data": {
      "text/plain": [
       "'C:\\\\Users\\\\Admin'"
      ]
     },
     "execution_count": 122,
     "metadata": {},
     "output_type": "execute_result"
    }
   ],
   "source": [
    "# how to know current working directory\n",
    "import os\n",
    "os.getcwd()"
   ]
  },
  {
   "cell_type": "code",
   "execution_count": null,
   "id": "083a143b-ff4b-444d-ad7e-022fd656efab",
   "metadata": {},
   "outputs": [],
   "source": [
    "# method in dictionary"
   ]
  },
  {
   "cell_type": "markdown",
   "id": "306f1460-91f2-4206-b2f5-f3d507a4a36d",
   "metadata": {},
   "source": [
    "$ keys- values-items $\n",
    "-keys()\n",
    "    - it will return key\n",
    "    - the type of key return is dictionary\n",
    "    - using list method you can convern into list\n",
    " -valuses()\n",
    "    -it will return values in dictionary type\n",
    "    - using list method we can convert into list\n",
    " Items()\n",
    "    - it will return key and values both of dict type"
   ]
  },
  {
   "cell_type": "code",
   "execution_count": 127,
   "id": "d3218bdd-5ad3-438a-a890-1a372282db23",
   "metadata": {},
   "outputs": [
    {
     "name": "stdout",
     "output_type": "stream",
     "text": [
      "<class 'dict_keys'>\n",
      "['ram', 'ritesh', 'ankit']\n"
     ]
    }
   ],
   "source": [
    "#key will provide you the key of that dictionary\n",
    "d1={\"ram\":23,\"ritesh\":25,\"ankit\":30}\n",
    "keys=d1.keys()\n",
    "print(type(keys))\n",
    "# converting into list\n",
    "l1=list(keys)\n",
    "print(l1)\n"
   ]
  },
  {
   "cell_type": "code",
   "execution_count": 131,
   "id": "f9459bd5-db81-429e-a326-d62376e0f8f3",
   "metadata": {},
   "outputs": [
    {
     "name": "stdout",
     "output_type": "stream",
     "text": [
      "dict_values([23, 25, 30])\n",
      "<class 'dict_values'>\n",
      "[23, 25, 30]\n"
     ]
    }
   ],
   "source": [
    "# values\n",
    "values=d1.values()\n",
    "print(values)\n",
    "print(type(values)) # dic type\n",
    "# converting into list\n",
    "l2=list(values)\n",
    "print(l2)\n"
   ]
  },
  {
   "cell_type": "code",
   "execution_count": 135,
   "id": "515177e5-f533-464d-81d3-2060957a0bb1",
   "metadata": {},
   "outputs": [
    {
     "name": "stdout",
     "output_type": "stream",
     "text": [
      "<class 'dict_items'>\n",
      "[('ram', 23), ('ritesh', 25), ('ankit', 30)]\n"
     ]
    }
   ],
   "source": [
    "# items \n",
    "item=d1.items()\n",
    "item\n",
    "print(type(item)) # type dictionary\n",
    "l3=list(item)\n",
    "print(l3) # list of tuple"
   ]
  },
  {
   "cell_type": "code",
   "execution_count": null,
   "id": "b557304b-861e-45e3-ab55-af508c91a4ed",
   "metadata": {},
   "outputs": [],
   "source": [
    "# we can convert dictioanry to list \n",
    "  # using list method\n",
    "\n",
    "# we can convern  also  list to dictionary \n",
    "   # zip method or using range() in for loop \n",
    "   # with list comprehension also and without list comprehension also"
   ]
  },
  {
   "cell_type": "code",
   "execution_count": null,
   "id": "fdf7cbda-7e0b-4787-adab-dce81fe1613d",
   "metadata": {},
   "outputs": [],
   "source": [
    "# example from list to dictionary"
   ]
  },
  {
   "cell_type": "code",
   "execution_count": 4,
   "id": "f0e900cd-816b-4ed6-bca3-927e3d7617cb",
   "metadata": {},
   "outputs": [
    {
     "name": "stdout",
     "output_type": "stream",
     "text": [
      "{10: 'Ten', 20: 'Twenty', 30: 'Thirty', 50: 'Fifty'}\n"
     ]
    }
   ],
   "source": [
    "l1=[10,20,30,50]\n",
    "l2=[\"Ten\",\"Twenty\",\"Thirty\",\"Fifty\"]\n",
    "d1={}\n",
    "for i in range(len(l1)):\n",
    "    d1[l1[i]]=l2[i]\n",
    "print(d1)    \n",
    "    "
   ]
  },
  {
   "cell_type": "code",
   "execution_count": 5,
   "id": "a2e78ada-645f-4ba7-b4d9-a9614a2ec9bb",
   "metadata": {},
   "outputs": [
    {
     "name": "stdout",
     "output_type": "stream",
     "text": [
      "{10: 'Ten', 20: 'Twenty', 30: 'Thirty', 50: 'Fifty'}\n"
     ]
    }
   ],
   "source": [
    "# using comprehension \n",
    "d1={l1[i]:l2[i] for i in range(len(l1))}\n",
    "print(d1)"
   ]
  },
  {
   "cell_type": "code",
   "execution_count": null,
   "id": "60fb1119-c93b-4c68-9462-863dc38467e9",
   "metadata": {},
   "outputs": [],
   "source": [
    "########################################################################################"
   ]
  },
  {
   "cell_type": "code",
   "execution_count": null,
   "id": "6861cb98-1a55-4093-a04f-bd421cdd053b",
   "metadata": {},
   "outputs": [],
   "source": []
  },
  {
   "cell_type": "code",
   "execution_count": 7,
   "id": "d5995da0-d309-4e6d-b43d-48c1dbeb6b6d",
   "metadata": {},
   "outputs": [],
   "source": [
    "# question \n",
    "s1='virat.kohli@blr.com,Rohit.sharma@mumbai.com,kl.rahul@lucknow.com'\n",
    "# {'first_name':['virat','Rohit','KL'],\n",
    "# 'second_name':['kohli','sharma','rahul'],\n",
    "# 'company':['blr','mumbai','lucknow']}"
   ]
  },
  {
   "cell_type": "code",
   "execution_count": 8,
   "id": "82b2bd19-d528-4287-b603-6c4160d9d54e",
   "metadata": {},
   "outputs": [
    {
     "data": {
      "text/plain": [
       "['virat.kohli@blr.com', 'Rohit.sharma@mumbai.com', 'kl.rahul@lucknow.com']"
      ]
     },
     "execution_count": 8,
     "metadata": {},
     "output_type": "execute_result"
    }
   ],
   "source": [
    "# in order  to acess each string we have to convern into list using split method\n",
    "\n",
    "s1=s1.split(\",\")\n",
    "s1\n",
    "# now s1 is list which contain stirng element now we can apply slicing operation on each stirng and  then append \n",
    "# into the list"
   ]
  },
  {
   "cell_type": "code",
   "execution_count": 32,
   "id": "fa8b0f98-dd8c-4b32-9df3-c8bc24d305f3",
   "metadata": {},
   "outputs": [
    {
     "name": "stdout",
     "output_type": "stream",
     "text": [
      "first name list: ['virat', 'Rohit', 'kl']\n",
      "second name list: ['kohli', 'sharma', 'rahul']\n",
      "company list: ['blr', 'mumbai', 'lucknow']\n"
     ]
    }
   ],
   "source": [
    "# accessing each element and apply slicing and then apending into list using for loop\n",
    "first1=[]\n",
    "last1=[]\n",
    "company1=[]\n",
    "for i in s1:\n",
    "    first=i[:i.index(\".\")]\n",
    "    first1.append(first)\n",
    "    last=i[i.index(\".\")+1:i.index(\"@\")]\n",
    "    last1.append(last)\n",
    "    company=i[i.index(\"@\")+1:i.index(\".\",i.index(\"@\"))]\n",
    "    company1.append(company)\n",
    "    \n",
    "print(\"first name list:\",first1)\n",
    "print(\"second name list:\",last1)\n",
    "print(\"company list:\",company1)    \n",
    "    \n",
    "    "
   ]
  },
  {
   "cell_type": "code",
   "execution_count": 21,
   "id": "173c8299-1f8e-45da-b759-ec93b8cf8ef8",
   "metadata": {},
   "outputs": [
    {
     "name": "stdout",
     "output_type": "stream",
     "text": [
      "['virat', 'Rohit', 'kl']\n"
     ]
    }
   ],
   "source": [
    "# we can directly append into list without storing\n",
    "first1=[]\n",
    "last1=[]\n",
    "company1=[]\n",
    "for i in s1:\n",
    "    first1.append(i[:i.index(\".\")])\n",
    "    last1.append(i[i.index(\".\")+1:i.index(\"@\")])\n",
    "    company1.append(i[i.index(\"@\")+1:i.index(\".\",i.index(\"@\"))])\n",
    "print(first1)    "
   ]
  },
  {
   "cell_type": "code",
   "execution_count": 20,
   "id": "327cfcdb-7488-4af6-b40b-fd0a7f02cb73",
   "metadata": {},
   "outputs": [
    {
     "name": "stdout",
     "output_type": "stream",
     "text": [
      "{'First_name': ['virat', 'Rohit', 'kl'], 'Last_name': ['kohli', 'sharma', 'rahul'], 'Company': ['blr', 'mumbai', 'lucknow']}\n"
     ]
    }
   ],
   "source": [
    "# now strore into dictionary\n",
    "d1={}\n",
    "d1[\"First_name\"]=first1\n",
    "d1[\"Last_name\"]=last1\n",
    "d1[\"Company\"]=company1\n",
    "print(d1)"
   ]
  },
  {
   "cell_type": "code",
   "execution_count": null,
   "id": "5848d1f9-14f9-44e6-a112-36218dc8b634",
   "metadata": {},
   "outputs": [],
   "source": [
    "# using list comprehension"
   ]
  },
  {
   "cell_type": "code",
   "execution_count": 62,
   "id": "6ccff22e-f604-4fb4-ba5d-7bdb2dd4efe4",
   "metadata": {},
   "outputs": [
    {
     "data": {
      "text/plain": [
       "['virat.kohli@blr.com', 'Rohit.sharma@mumbai.com', 'kl.rahul@lucknow.com']"
      ]
     },
     "execution_count": 62,
     "metadata": {},
     "output_type": "execute_result"
    }
   ],
   "source": [
    "s2='virat.kohli@blr.com,Rohit.sharma@mumbai.com,kl.rahul@lucknow.com'\n",
    "s2=s2.split(\",\")\n",
    "s2"
   ]
  },
  {
   "cell_type": "code",
   "execution_count": 67,
   "id": "308ebe3f-49a5-4313-b527-60a96bae6bfd",
   "metadata": {},
   "outputs": [
    {
     "name": "stdout",
     "output_type": "stream",
     "text": [
      "{'First name': ['virat', 'Rohit', 'kl'], 'last': ['kohli', 'sharma', 'rahul'], 'company': ['blr', 'mumbai', 'lucknow']}\n"
     ]
    }
   ],
   "source": [
    "\n",
    "first_name=[i[:i.index(\".\")] for i in s2] # i= string here in list s2 initail i=viart.kohli@blr.com and so on\n",
    "last_name=[i[i.index(\".\")+1:i.index(\"@\")] for i in s2]\n",
    "company_name=[i[i.index(\"@\")+1:i.index(\".\",i.index(\"@\"))] for i in s2]\n",
    "d={}\n",
    "d[\"First name\"]=first_name\n",
    "d[\"last\"]=last_name\n",
    "d[\"company\"]=company_name\n",
    "print(d)\n"
   ]
  },
  {
   "cell_type": "markdown",
   "id": "428de701-e335-4143-8175-34c511f5c7db",
   "metadata": {},
   "source": [
    "$ word frequency $"
   ]
  },
  {
   "cell_type": "code",
   "execution_count": null,
   "id": "4780cd66-44d7-453d-805d-9a5051b4b8ca",
   "metadata": {},
   "outputs": [],
   "source": []
  },
  {
   "cell_type": "code",
   "execution_count": null,
   "id": "a687e3ea-fa00-484e-8a07-779f97da1968",
   "metadata": {},
   "outputs": [],
   "source": []
  },
  {
   "cell_type": "code",
   "execution_count": null,
   "id": "87996965-2a14-4b82-b678-e063ffc4403b",
   "metadata": {},
   "outputs": [],
   "source": [
    "# question count the number how many time repeated\n",
    "str1='can can you canner can you able to can canner'\n",
    "#op {'can':4,'you':2,'canner':2,'able':1,'to':1}"
   ]
  },
  {
   "cell_type": "code",
   "execution_count": 72,
   "id": "d2657e54-c4d0-4efd-b8f7-e6463226acb7",
   "metadata": {},
   "outputs": [
    {
     "name": "stdout",
     "output_type": "stream",
     "text": [
      "2\n"
     ]
    }
   ],
   "source": [
    "str1='can can you canner can you able to can canner'\n",
    "s1=\"ola ola old ads\"\n",
    "count=0\n",
    "for i in range(len(s1)):\n",
    "    if s1[i:i+3]==\"ola\":\n",
    "        count+=1\n",
    "print(count)    \n",
    "    "
   ]
  },
  {
   "cell_type": "code",
   "execution_count": 140,
   "id": "68543631-a95b-4209-86ca-722ca26a2edf",
   "metadata": {},
   "outputs": [
    {
     "name": "stdout",
     "output_type": "stream",
     "text": [
      "{'can': 4, 'you': 2, 'canner': 2, 'able': 1, 'to': 1}\n"
     ]
    }
   ],
   "source": [
    "# becuase in dicionary lates value always update and if saame key again come with the udpated value it will \n",
    "# put in dict at the same place where it put in intially with the udpated value\n",
    "str1='can can you canner can you able to can canner'\n",
    "l1=str1.split()# make the list\n",
    "d1={}\n",
    "for i in range(len(l1)):\n",
    "    #d1[i]=l1.count(i)\n",
    "    d1[l1[i]]=l1.count(l1[i])\n",
    "print(d1)    \n",
    "    \n",
    "    \n",
    "    "
   ]
  },
  {
   "cell_type": "code",
   "execution_count": null,
   "id": "2b9fb729-1ae0-4952-85a2-eab137ed262a",
   "metadata": {},
   "outputs": [],
   "source": [
    "# find the most repeated word\n",
    "# first you need to make the list of values  and keys\n",
    "# then find the max of values\n",
    "# and then find the index of max \n",
    "# and then find the corresponding index value in values list"
   ]
  },
  {
   "cell_type": "code",
   "execution_count": 148,
   "id": "6c46d129-0320-4b9d-97a8-51c7a1aa88bb",
   "metadata": {},
   "outputs": [
    {
     "name": "stdout",
     "output_type": "stream",
     "text": [
      "['can', 'you', 'canner', 'able', 'to'] [4, 2, 2, 1, 1]\n",
      "most repeated workd is  can\n"
     ]
    }
   ],
   "source": [
    "# list of keys and values\n",
    "keys=list(d1.keys())\n",
    "values=list(d1.values())\n",
    "print(keys,values)\n",
    "\n",
    "# find the max value in values using max keyword\n",
    "maxx=max(values)\n",
    "# now find the index of maxx values in value list\n",
    "ind=values.index(maxx)\n",
    "ind\n",
    "# now find the corresponding key values  in keys list as values contain count at same index in key values\n",
    "# correspond word key list mein word aur values list count same index per hai \n",
    "# for eg count workd o per  hai key list to uska count values list me o index per hi hoga\n",
    "\n",
    "print(\"most repeated workd is \",keys[ind])"
   ]
  },
  {
   "cell_type": "code",
   "execution_count": 150,
   "id": "d114c872-c334-4ec1-803a-fcbc68067038",
   "metadata": {},
   "outputs": [
    {
     "name": "stdout",
     "output_type": "stream",
     "text": [
      "can\n"
     ]
    }
   ],
   "source": [
    "# we can directly do this without storing \n",
    "keys=list(d1.keys())\n",
    "values=list(d1.values())\n",
    "re=keys[values.index(max(values))]\n",
    "print(re)\n"
   ]
  },
  {
   "cell_type": "code",
   "execution_count": 153,
   "id": "34a3bcc7-8cd4-4ed6-b703-272e504e9b6f",
   "metadata": {},
   "outputs": [
    {
     "name": "stdout",
     "output_type": "stream",
     "text": [
      "minimum repreated value able\n"
     ]
    }
   ],
   "source": [
    "# find min\n",
    "m=keys[values.index(min(values))]\n",
    "print(\"minimum repreated value :\",m)\n"
   ]
  },
  {
   "cell_type": "code",
   "execution_count": 154,
   "id": "4e61624a-e5c8-47f3-b85a-e86bfb3d1f8c",
   "metadata": {},
   "outputs": [
    {
     "data": {
      "text/plain": [
       "'you'"
      ]
     },
     "execution_count": 154,
     "metadata": {},
     "output_type": "execute_result"
    }
   ],
   "source": [
    "# find the longest word \n"
   ]
  },
  {
   "cell_type": "code",
   "execution_count": null,
   "id": "d2b32074-cead-4cc6-9c42-c739ee99913a",
   "metadata": {},
   "outputs": [],
   "source": []
  },
  {
   "cell_type": "code",
   "execution_count": null,
   "id": "5d2e97bd-4101-4df6-89f4-d027414eeb6f",
   "metadata": {},
   "outputs": [],
   "source": []
  },
  {
   "cell_type": "code",
   "execution_count": null,
   "id": "1932b277-b8e5-4c38-a764-cdd29a7af72a",
   "metadata": {},
   "outputs": [],
   "source": []
  },
  {
   "cell_type": "code",
   "execution_count": 92,
   "id": "fff96534-3ca5-4789-a912-ab91bcb5e219",
   "metadata": {},
   "outputs": [
    {
     "name": "stdout",
     "output_type": "stream",
     "text": [
      "{'can': 4, 'you': 2, 'canner': 2, 'able': 1, 'to': 1}\n"
     ]
    }
   ],
   "source": [
    "s=str1.split()\n",
    "d1={}\n",
    "# because we know that in dictionary lates value is updated not allowed dublicates if same key come wiht lates value \n",
    "# that value will be updated we use count method to count in list\n",
    "for i in s:\n",
    "    # each element will be key and value is account\n",
    "    d1[i]=s.count(i)\n",
    "    \n",
    "print(d1)\n",
    "\n",
    "    \n",
    "    \n",
    "    "
   ]
  },
  {
   "cell_type": "code",
   "execution_count": 161,
   "id": "b92aae58-f85b-4930-9bbd-6a236b560865",
   "metadata": {},
   "outputs": [
    {
     "name": "stdout",
     "output_type": "stream",
     "text": [
      "[110, 220, 330]\n",
      "{'a': 110, 'b': 220, 'c': 330}\n"
     ]
    }
   ],
   "source": [
    "# question\n",
    "# this approch will applicable when both dictionary have different keys values\n",
    "d1={\"a\":10,\"b\":20,\"c\":30}\n",
    "d2={\"e\":100,\"f\":200,\"g\":300}\n",
    "# op {a:110,\"b\":220,c:330}=d1.keys()\n",
    "l1_key=list(d1.keys())\n",
    "l1_value=list(d1.values())\n",
    "l2_key=list(d2.keys())\n",
    "l2_value=list(d2.values())\n",
    "\n",
    "# now calculating the sum of each values of both list\n",
    "sum_list=[]\n",
    "for i in range(len(l1_value)):\n",
    "    summ=l1_value[i]+l2_value[i]\n",
    "    sum_list.append(summ)\n",
    "print(sum_list) \n",
    "\n",
    "\n",
    "# creating the dictionary from the key list as name and sum form summ list\n",
    "# as both d1 and d2 dic have same key \n",
    "d_sum={l1_key[i]:sum_list[i] for i in range(len(l1_key))}\n",
    "print(d_sum)"
   ]
  },
  {
   "cell_type": "markdown",
   "id": "464d1b9a-f1f6-41cd-bb0b-ac207692fbfa",
   "metadata": {},
   "source": [
    "### when unequal lenth ###\n",
    "- do the padding in list of unequal\n"
   ]
  },
  {
   "cell_type": "code",
   "execution_count": 192,
   "id": "d0e00a36-d5f6-4189-b6f6-49021d66bdfa",
   "metadata": {},
   "outputs": [
    {
     "name": "stdout",
     "output_type": "stream",
     "text": [
      "[100, 200, 300, 0]\n",
      "[110, 220, 330, 49]\n",
      "{'a': 110, 'b': 220, 'c': 330, 'e': 49}\n"
     ]
    }
   ],
   "source": [
    "\n",
    "# this approch will applicable when both dictionary have different keys values\n",
    "d1={\"a\":10,\"b\":20,\"c\":30,\"e\":49}\n",
    "d2={\"e\":100,\"f\":200,\"g\":300}\n",
    "# op {a:110,\"b\":220,c:330}=d1.keys()\n",
    "l1_key=list(d1.keys())\n",
    "l1_value=list(d1.values())\n",
    "l2_key=list(d2.keys())\n",
    "l2_value=list(d2.values())\n",
    "\n",
    "# extra value will give error to caluclate sum\n",
    "# so we do papdding here \n",
    "max_len=max(len(l1_value),len(l2_value))\n",
    "max_len\n",
    "\n",
    "while(len(l1_value)<max_len):\n",
    "    l1_value.append(0)\n",
    "while(len(l2_value)<max_len):\n",
    "    l2_value.append(0)\n",
    "print(l2_value)    \n",
    "# now calculating the sum of each values of both list\n",
    "sum_list=[]\n",
    "for i in range(len(l1_value)):\n",
    "    summ=l1_value[i]+l2_value[i]\n",
    "    sum_list.append(summ)\n",
    "print(sum_list) \n",
    "\n",
    "\n",
    "# creating the dictionary from the key list as name and sum form summ list\n",
    "# as both d1 and d2 dic have same key \n",
    "# iterate through the largest length dictionary as it having all keys \n",
    "d_sum={l1_key[i]:sum_list[i] for i in range(len(l1_key))}\n",
    "print(d_sum)\n",
    "\n",
    "\n"
   ]
  },
  {
   "cell_type": "code",
   "execution_count": null,
   "id": "bbc34353-a171-4423-82ac-9ad0049d5e15",
   "metadata": {},
   "outputs": [],
   "source": [
    "### note when in boht dictionary key values is samae ###"
   ]
  },
  {
   "cell_type": "code",
   "execution_count": 164,
   "id": "ba0a5015-dd2d-41ab-a895-4fb5fa7f9555",
   "metadata": {},
   "outputs": [
    {
     "name": "stdout",
     "output_type": "stream",
     "text": [
      "10\n",
      "keys a and valus\n",
      "keys b and valus\n",
      "keys c and valus\n",
      "{'a': 110, 'b': 220, 'c': 330}\n"
     ]
    }
   ],
   "source": [
    "# because both dic have same key so form one dic key we can access both dic\n",
    "\n",
    "d1={\"a\":10,\"b\":20,\"c\":30}\n",
    "print(d1[\"a\"])# by passing key valus access\n",
    "# to access dictionary values \n",
    "for i in d1:\n",
    "    print(\"keys {} and valus\".format(i,d1[i]))\n",
    "d2={\"a\":100,\"b\":200,\"c\":300}\n",
    "d3={}\n",
    "for i in d1:\n",
    "    d3[i]=d1[i]+d2[i]\n",
    "print(d3)    \n",
    "    \n",
    "    "
   ]
  },
  {
   "cell_type": "code",
   "execution_count": 173,
   "id": "f16e0fa7-bcc7-430c-8def-0d71fcfa90fb",
   "metadata": {},
   "outputs": [
    {
     "name": "stdout",
     "output_type": "stream",
     "text": [
      "{'a': 110, 'b': 220, 'c': 330, 'd': 50}\n"
     ]
    }
   ],
   "source": [
    "# if uneqaul lentth dictionary\n",
    "# iterate the loop through min lenth dictionay\n",
    "# and strore the result in longest lengest dictionary \n",
    "# as if once the shorest len dic all element finish the longes dic element will take at is not update in that values\n",
    "d1={\"a\":10,\"b\":20,\"c\":30,\"d\":50}\n",
    "d2={\"a\":100,\"b\":200,\"c\":300}\n",
    "\n",
    "for i in d2:\n",
    "    d1[i]=d1[i]+d2[i]\n",
    "print(d1)    \n",
    "    \n",
    "    \n"
   ]
  },
  {
   "cell_type": "code",
   "execution_count": 175,
   "id": "bcf6678f-1f03-42b3-bffb-5a446fcaa1fb",
   "metadata": {},
   "outputs": [
    {
     "name": "stdout",
     "output_type": "stream",
     "text": [
      "{'a': 110, 'b': 220, 'c': 330, 'd': 50}\n"
     ]
    }
   ],
   "source": [
    "# in general way \n",
    "d1={\"a\":10,\"b\":20,\"c\":30,\"d\":50}\n",
    "d2={\"a\":100,\"b\":200,\"c\":300}\n",
    "for i in range(min(len(d1),len(d2))):\n",
    "    keys=list(d1.keys()) # list of key\n",
    "    keys[i] # it will give each element of the keys list i.e a,b of first dic d1  # accessing each element using index\n",
    "    \n",
    "    d1[keys[i]]=d1[keys[i]]+d2[keys[i]] # now addding d1[a]=d1[a]+d2[a] d2[b]=d1[b]+d2[b] and so on it will give till c only\n",
    "print(d1)\n"
   ]
  },
  {
   "cell_type": "code",
   "execution_count": 180,
   "id": "1df19204-99ee-47d7-9527-7e01e76dbe60",
   "metadata": {},
   "outputs": [
    {
     "name": "stdout",
     "output_type": "stream",
     "text": [
      "{'a': 110, 'b': 220, 'c': 330, 'd': 50}\n"
     ]
    }
   ],
   "source": [
    "# direct way without storing\n",
    "d1={\"a\":10,\"b\":20,\"c\":30,\"d\":50}\n",
    "d2={\"a\":100,\"b\":200,\"c\":300}\n",
    "for i in range(min(len(d1),len(d2))):\n",
    "    d1[list(d1.keys())[i]]+=d2[list(d1.keys())[i]] # if list=[1,2] so aces 1 we give list[0] same is followe\n",
    "    # remember dic take d[keys] not index\n",
    "print(d1)    \n"
   ]
  },
  {
   "cell_type": "code",
   "execution_count": null,
   "id": "d8d999a4-afb1-459e-8466-7d971a23578f",
   "metadata": {},
   "outputs": [],
   "source": [
    "#######################################################################"
   ]
  },
  {
   "cell_type": "markdown",
   "id": "b24aaf32-1b02-4e72-9540-687777929ac8",
   "metadata": {},
   "source": [
    "$ clear - copy$\n",
    "- clrear will clrear the dictionary\n",
    "   - directly apply the change in dic\n",
    "- copy will copy one dictionary into another\n",
    "- need to store"
   ]
  },
  {
   "cell_type": "code",
   "execution_count": 53,
   "id": "b5fd8bcd-40b0-4f5c-850c-f78da6f616ed",
   "metadata": {},
   "outputs": [
    {
     "name": "stdout",
     "output_type": "stream",
     "text": [
      "{'a': 10, 'b': 20, 'c': 30, 'd': 50}\n",
      "{}\n"
     ]
    }
   ],
   "source": [
    "d1={\"a\":10,\"b\":20,\"c\":30,\"d\":50}\n",
    "d2={}\n",
    "# copy d1 into d2\n",
    "d2=d1.copy()\n",
    "print(d2)\n",
    "# clrear d1\n",
    "d1.clear()\n",
    "print(d1)"
   ]
  },
  {
   "cell_type": "markdown",
   "id": "f4862354-0e63-4468-94bc-f2c0eb5b47bb",
   "metadata": {},
   "source": [
    "$pop$\n",
    "- it will delete the specified key and return the value coresspond to the key and also delete value from there \n",
    "- we need pass key\n",
    "- if key not found it will thorugh error  key error"
   ]
  },
  {
   "cell_type": "code",
   "execution_count": 66,
   "id": "8e9abfcd-602d-4d6c-9d07-742730870fe1",
   "metadata": {},
   "outputs": [
    {
     "ename": "TypeError",
     "evalue": "pop expected at least 1 argument, got 0",
     "output_type": "error",
     "traceback": [
      "\u001b[1;31m---------------------------------------------------------------------------\u001b[0m",
      "\u001b[1;31mTypeError\u001b[0m                                 Traceback (most recent call last)",
      "Cell \u001b[1;32mIn[66], line 2\u001b[0m\n\u001b[0;32m      1\u001b[0m d1\u001b[38;5;241m=\u001b[39m{\u001b[38;5;124m\"\u001b[39m\u001b[38;5;124ma\u001b[39m\u001b[38;5;124m\"\u001b[39m:\u001b[38;5;241m10\u001b[39m,\u001b[38;5;124m\"\u001b[39m\u001b[38;5;124mb\u001b[39m\u001b[38;5;124m\"\u001b[39m:\u001b[38;5;241m20\u001b[39m,\u001b[38;5;124m\"\u001b[39m\u001b[38;5;124mc\u001b[39m\u001b[38;5;124m\"\u001b[39m:\u001b[38;5;241m30\u001b[39m,\u001b[38;5;124m\"\u001b[39m\u001b[38;5;124md\u001b[39m\u001b[38;5;124m\"\u001b[39m:\u001b[38;5;241m50\u001b[39m}\n\u001b[1;32m----> 2\u001b[0m d1\u001b[38;5;241m.\u001b[39mpop() \u001b[38;5;66;03m# one agrguement must pass as  key erro\u001b[39;00m\n\u001b[0;32m      3\u001b[0m d1\u001b[38;5;241m.\u001b[39mpop(\u001b[38;5;124m\"\u001b[39m\u001b[38;5;124ma\u001b[39m\u001b[38;5;124m\"\u001b[39m) \u001b[38;5;66;03m# delete a key and values return values\u001b[39;00m\n\u001b[0;32m      4\u001b[0m \u001b[38;5;28mprint\u001b[39m(d1)\n",
      "\u001b[1;31mTypeError\u001b[0m: pop expected at least 1 argument, got 0"
     ]
    }
   ],
   "source": [
    "d1={\"a\":10,\"b\":20,\"c\":30,\"d\":50}\n",
    "#d1.pop() # one agrguement must pass as  key erro\n",
    "d1.pop(\"a\") # delete a key and values return values\n",
    "print(d1)\n"
   ]
  },
  {
   "cell_type": "code",
   "execution_count": 68,
   "id": "154cec05-947e-42ea-92d5-611d5ac3c4cb",
   "metadata": {},
   "outputs": [
    {
     "ename": "KeyError",
     "evalue": "'z'",
     "output_type": "error",
     "traceback": [
      "\u001b[1;31m---------------------------------------------------------------------------\u001b[0m",
      "\u001b[1;31mKeyError\u001b[0m                                  Traceback (most recent call last)",
      "Cell \u001b[1;32mIn[68], line 1\u001b[0m\n\u001b[1;32m----> 1\u001b[0m d1\u001b[38;5;241m.\u001b[39mpop(\u001b[38;5;124m\"\u001b[39m\u001b[38;5;124mz\u001b[39m\u001b[38;5;124m\"\u001b[39m)\n",
      "\u001b[1;31mKeyError\u001b[0m: 'z'"
     ]
    }
   ],
   "source": [
    "d1.pop(\"z\") #key error\n"
   ]
  },
  {
   "cell_type": "markdown",
   "id": "52b95406-9034-4445-b86d-9a5ddd49ceb8",
   "metadata": {},
   "source": [
    "$ pop item $\n",
    "- it will delete always last item in dict\n",
    "- and return the key value pair as tuple which is deleted\n",
    "- no argument will pas \n",
    "- it  follow the lifo to delete\n",
    "- directly apply change into dic"
   ]
  },
  {
   "cell_type": "code",
   "execution_count": 61,
   "id": "fa5b4e30-27b5-42ab-8c06-afd394f9484f",
   "metadata": {},
   "outputs": [
    {
     "name": "stdout",
     "output_type": "stream",
     "text": [
      "{'a': 10, 'b': 20, 'c': 30}\n"
     ]
    },
    {
     "ename": "TypeError",
     "evalue": "dict.popitem() takes no arguments (1 given)",
     "output_type": "error",
     "traceback": [
      "\u001b[1;31m---------------------------------------------------------------------------\u001b[0m",
      "\u001b[1;31mTypeError\u001b[0m                                 Traceback (most recent call last)",
      "Cell \u001b[1;32mIn[61], line 4\u001b[0m\n\u001b[0;32m      2\u001b[0m d1\u001b[38;5;241m.\u001b[39mpopitem()\n\u001b[0;32m      3\u001b[0m \u001b[38;5;28mprint\u001b[39m(d1)\n\u001b[1;32m----> 4\u001b[0m d1\u001b[38;5;241m.\u001b[39mpopitem(\u001b[38;5;124m\"\u001b[39m\u001b[38;5;124ma\u001b[39m\u001b[38;5;124m\"\u001b[39m)\n",
      "\u001b[1;31mTypeError\u001b[0m: dict.popitem() takes no arguments (1 given)"
     ]
    }
   ],
   "source": [
    "d1={\"a\":10,\"b\":20,\"c\":30,\"d\":50}\n",
    "d1.popitem()\n",
    "print(d1)\n",
    "#d1.popitem(\"a\") # no arguemnt will take eror"
   ]
  },
  {
   "cell_type": "code",
   "execution_count": 69,
   "id": "5677238b-93b0-40a3-aa15-57796c176a7c",
   "metadata": {},
   "outputs": [
    {
     "ename": "KeyError",
     "evalue": "'popitem(): dictionary is empty'",
     "output_type": "error",
     "traceback": [
      "\u001b[1;31m---------------------------------------------------------------------------\u001b[0m",
      "\u001b[1;31mKeyError\u001b[0m                                  Traceback (most recent call last)",
      "Cell \u001b[1;32mIn[69], line 2\u001b[0m\n\u001b[0;32m      1\u001b[0m d\u001b[38;5;241m=\u001b[39m{}\n\u001b[1;32m----> 2\u001b[0m d\u001b[38;5;241m.\u001b[39mpopitem()\n",
      "\u001b[1;31mKeyError\u001b[0m: 'popitem(): dictionary is empty'"
     ]
    }
   ],
   "source": [
    "# if dict is empty through eror as dic is empty nothing to delete\n",
    "d={}\n",
    "d.popitem()"
   ]
  },
  {
   "cell_type": "markdown",
   "id": "5dd5ac96-07f9-41fb-bdad-91469e73ef3a",
   "metadata": {},
   "source": [
    "$ del $\n",
    "- it is a keyword\n",
    "- it can delete entire dictionary\n",
    "- it can also delete one item from the dic by passing index\n",
    "- by deleteing it does not return anything\n"
   ]
  },
  {
   "cell_type": "code",
   "execution_count": 65,
   "id": "97796581-2d99-4b78-a83b-a33a4b562d8a",
   "metadata": {},
   "outputs": [
    {
     "name": "stdout",
     "output_type": "stream",
     "text": [
      "{'b': 20, 'c': 30, 'd': 50}\n"
     ]
    },
    {
     "ename": "NameError",
     "evalue": "name 'd_1' is not defined",
     "output_type": "error",
     "traceback": [
      "\u001b[1;31m---------------------------------------------------------------------------\u001b[0m",
      "\u001b[1;31mNameError\u001b[0m                                 Traceback (most recent call last)",
      "Cell \u001b[1;32mIn[65], line 7\u001b[0m\n\u001b[0;32m      5\u001b[0m \u001b[38;5;66;03m# deletting entire dictionary\u001b[39;00m\n\u001b[0;32m      6\u001b[0m \u001b[38;5;28;01mdel\u001b[39;00m d_1\n\u001b[1;32m----> 7\u001b[0m \u001b[38;5;28mprint\u001b[39m(d_1)\n",
      "\u001b[1;31mNameError\u001b[0m: name 'd_1' is not defined"
     ]
    }
   ],
   "source": [
    "d_1={\"a\":10,\"b\":20,\"c\":30,\"d\":50}\n",
    "# deleting any one element using index\n",
    "del d_1[\"a\"] # a is deleted\n",
    "print(d_1)\n",
    "# deletting entire dictionary\n",
    "del d_1\n",
    "print(d_1) #name error as d_1 is deleted now"
   ]
  },
  {
   "cell_type": "code",
   "execution_count": 71,
   "id": "2b447dc4-5299-4cd2-9aaf-dd232c57b966",
   "metadata": {},
   "outputs": [
    {
     "name": "stdout",
     "output_type": "stream",
     "text": [
      "{'c': 30}\n"
     ]
    }
   ],
   "source": [
    "d_1={\"a\":10,\"b\":20,\"c\":30,\"d\":50}\n",
    "d_1.pop(\"a\") # will delete a and return it value which is 10\n",
    "d_1.popitem() # delete item d:50 return pair (d,50)\n",
    "del d_1[\"b\"] # will delete b\n",
    "print(d_1) # {c:30}\n"
   ]
  },
  {
   "cell_type": "markdown",
   "id": "c46ea88b-94b1-403d-be78-afeaef70aa3b",
   "metadata": {},
   "source": [
    "$ get $ \n",
    "- it use to access the value by passing key\n",
    "- if key not fount it will not through any error\n",
    "- but using index to access value if key not found through error\n"
   ]
  },
  {
   "cell_type": "code",
   "execution_count": 76,
   "id": "4ff470fb-0e4b-4080-9320-1d955add93ec",
   "metadata": {},
   "outputs": [
    {
     "name": "stdout",
     "output_type": "stream",
     "text": [
      "10\n"
     ]
    }
   ],
   "source": [
    "d_2={\"a\":10,\"b\":20,\"c\":30,\"d\":50}\n",
    "print(d_2.get(\"a\")) # return a value\n",
    "d_2.get(\"z\") # z is not in key but it will not through any error\n",
    "\n"
   ]
  },
  {
   "cell_type": "markdown",
   "id": "a170ee54-a321-40e4-8fc7-0ca86f527392",
   "metadata": {},
   "source": [
    "***using index to access it will through error if key not found this is the main diff b/w index and get access***\n"
   ]
  },
  {
   "cell_type": "code",
   "execution_count": 78,
   "id": "22206e1a-df33-4a06-8567-6ad3a3b57079",
   "metadata": {},
   "outputs": [
    {
     "name": "stdout",
     "output_type": "stream",
     "text": [
      "10\n"
     ]
    },
    {
     "ename": "KeyError",
     "evalue": "'z'",
     "output_type": "error",
     "traceback": [
      "\u001b[1;31m---------------------------------------------------------------------------\u001b[0m",
      "\u001b[1;31mKeyError\u001b[0m                                  Traceback (most recent call last)",
      "Cell \u001b[1;32mIn[78], line 2\u001b[0m\n\u001b[0;32m      1\u001b[0m \u001b[38;5;28mprint\u001b[39m(d_2[\u001b[38;5;124m\"\u001b[39m\u001b[38;5;124ma\u001b[39m\u001b[38;5;124m\"\u001b[39m])\n\u001b[1;32m----> 2\u001b[0m \u001b[38;5;28mprint\u001b[39m(d_2[\u001b[38;5;124m\"\u001b[39m\u001b[38;5;124mz\u001b[39m\u001b[38;5;124m\"\u001b[39m])\n",
      "\u001b[1;31mKeyError\u001b[0m: 'z'"
     ]
    }
   ],
   "source": [
    "print(d_2[\"a\"])\n",
    "print(d_2[\"z\"]) # key error "
   ]
  },
  {
   "cell_type": "markdown",
   "id": "c8c1d9e2-fb93-4554-b021-740aabba48ed",
   "metadata": {},
   "source": [
    "$ fromkeys $\n",
    " - it will update the dictionary from pass keys and values\n",
    " - it  is like the extend method in list which use to take iterable and append each element in list\n",
    " - it take iteraable like list,tuple string and dic etc as fist arguement from iteraable it form key\n",
    " - sencond arguement is optional if not provide then key value will be set  none\n",
    " - thi fucntion will not directly change in dictionary to reflect change we need to store  in a varaible\n",
    " - one argument that is itearble must pass second values is optional\n",
    " - if value pass the same value will be assinge to all key only one value can pass"
   ]
  },
  {
   "cell_type": "code",
   "execution_count": 85,
   "id": "d16b3a7c-6389-419b-a923-868ab9031a4d",
   "metadata": {},
   "outputs": [
    {
     "name": "stdout",
     "output_type": "stream",
     "text": [
      "{'e': 10, 'f': 10}\n",
      "{'a': 10, 'b': 20, 'c': 30, 'd': 50}\n"
     ]
    }
   ],
   "source": [
    "d_2={\"a\":10,\"b\":20,\"c\":30,\"d\":50}\n",
    "d_1={\"e\":40,\"f\":50}\n",
    "d2=d_1.fromkeys(d_1,10) # duing this no chnage will occure in d1 only occur in d2 as we  are stroing in d2\n",
    "print(d2)\n",
    "print(d1)\n",
    "\n"
   ]
  },
  {
   "cell_type": "code",
   "execution_count": 87,
   "id": "2e425ac2-9e16-4aa9-8360-6d87247e7e77",
   "metadata": {},
   "outputs": [
    {
     "name": "stdout",
     "output_type": "stream",
     "text": [
      "\n",
      "{}\n"
     ]
    }
   ],
   "source": [
    "# change will not reflect till you not store  into a varible\n",
    "d2={}\n",
    "print()\n",
    "d_1={\"e\":40,\"f\":50}\n",
    "d_1.fromkeys(d_1,10) \n",
    "print(d2)\n"
   ]
  },
  {
   "cell_type": "code",
   "execution_count": 88,
   "id": "f352d61b-95fc-42a3-8f6e-9f12524000fa",
   "metadata": {},
   "outputs": [
    {
     "name": "stdout",
     "output_type": "stream",
     "text": [
      "\n",
      "{'e': 10, 'f': 10}\n"
     ]
    }
   ],
   "source": [
    "d2={}\n",
    "print()\n",
    "d_1={\"e\":40,\"f\":50}\n",
    "d2=d_1.fromkeys(d_1,10) # key will form from d_1 e,f and value will set for boht key is 10 \n",
    "print(d2)"
   ]
  },
  {
   "cell_type": "code",
   "execution_count": 89,
   "id": "ca630ade-0ebb-45fe-993f-cd394c5100f3",
   "metadata": {},
   "outputs": [
    {
     "name": "stdout",
     "output_type": "stream",
     "text": [
      "\n",
      "{'e': 10, 'f': 10}\n"
     ]
    }
   ],
   "source": [
    "# now need d1.fromkeys() \n",
    "# it can return also as  {}.formkeys(\"only here passing deictionay will matter\")\n",
    "d2={}\n",
    "\n",
    "d_1={\"e\":40,\"f\":50}\n",
    "d2={}.fromkeys(d_1,10) # key will form from d_1 e,f and value will set for boht key is 10 \n",
    "print(d2)"
   ]
  },
  {
   "cell_type": "code",
   "execution_count": 90,
   "id": "601e6b52-921d-4471-acac-26e730f001af",
   "metadata": {},
   "outputs": [
    {
     "name": "stdout",
     "output_type": "stream",
     "text": [
      "{1: 'hi', 2: 'hi', 3: 'hi', 4: 'hi'}\n"
     ]
    }
   ],
   "source": [
    "# itearable as list\n",
    "d2={}\n",
    "d2={}.fromkeys([1,2,3,4],\"hi\") # 1,2,3.. will be key and value of all will \"hi\" any iterabel can pass\n",
    "print(d2)"
   ]
  },
  {
   "cell_type": "code",
   "execution_count": 91,
   "id": "f3cca2e9-d8ed-451a-a480-2a87fb33de45",
   "metadata": {},
   "outputs": [
    {
     "name": "stdout",
     "output_type": "stream",
     "text": [
      "{'h': '1', 'e': '1', 'l': '1', 'o': '1'}\n"
     ]
    }
   ],
   "source": [
    "# iterable as string\n",
    "d2={}\n",
    "d2={}.fromkeys(\"hello\",\"1\") # h,e,l.. will be key and value of all will \"1\" any iterabel can pass\n",
    "print(d2)"
   ]
  },
  {
   "cell_type": "code",
   "execution_count": 94,
   "id": "e43dc4aa-2c54-461e-a181-3c4a35c329d1",
   "metadata": {},
   "outputs": [
    {
     "name": "stdout",
     "output_type": "stream",
     "text": [
      "{1: 'odd', 5: 'odd', 3: 'odd'}\n"
     ]
    }
   ],
   "source": [
    "d_3={}.fromkeys([1,5,3],\"odd\")\n",
    "print(d_3)"
   ]
  },
  {
   "cell_type": "code",
   "execution_count": null,
   "id": "89a9b17f-0782-46a6-a31c-ebf25343a708",
   "metadata": {},
   "outputs": [],
   "source": [
    "$ setdefault $\n",
    "- it is used to insert a key with value \n",
    "- we can insert only if the same key is not there  \n",
    "- if key is already there not  insert with  the updated value and no error\n",
    "- if want to update  the existing key value then use only index method \n",
    "- it apply directly change in the dictionary\n",
    "-  one argument must pass 2nd is  optional for value\n",
    "- if no value pass as argument then default value will be set as none\n",
    "- if any value set using setdefault method then  it can't be change again using setdefault \n",
    "- only index will change as key is already there and this method apply if key is not present\n",
    "\n"
   ]
  },
  {
   "cell_type": "code",
   "execution_count": 99,
   "id": "fc8da771-dcb6-413b-a854-f689cb549dc2",
   "metadata": {},
   "outputs": [
    {
     "name": "stdout",
     "output_type": "stream",
     "text": [
      "{1: 'ritehs', 2: 'hell', 3: 'hello'}\n"
     ]
    }
   ],
   "source": [
    "# as 3 key is not there so it will be enter\n",
    "d1={1:\"ritehs\",2:'hell'}\n",
    "d1.setdefault(3,\"hello\")\n",
    "print(d1)\n"
   ]
  },
  {
   "cell_type": "code",
   "execution_count": 100,
   "id": "9f5c41d1-8c44-4f99-9d80-4bdf515bf757",
   "metadata": {},
   "outputs": [
    {
     "name": "stdout",
     "output_type": "stream",
     "text": [
      "{1: 'ritesh', 2: 'hell'}\n"
     ]
    }
   ],
   "source": [
    "# as 1 is already therer so no change will occur in dict\n",
    "d1={1:\"ritesh\",2:'hell'}\n",
    "d1.setdefault(1,\"ankit\")\n",
    "print(d1)"
   ]
  },
  {
   "cell_type": "code",
   "execution_count": 101,
   "id": "20ac4e53-e6da-470f-bd2f-325a38c33766",
   "metadata": {},
   "outputs": [
    {
     "data": {
      "text/plain": [
       "{1: 'ankit', 2: 'hell'}"
      ]
     },
     "execution_count": 101,
     "metadata": {},
     "output_type": "execute_result"
    }
   ],
   "source": [
    "# to change use index\n",
    "d1[1]=\"ankit\"\n",
    "d1 # now chnage "
   ]
  },
  {
   "cell_type": "code",
   "execution_count": 102,
   "id": "7adb85b7-8b13-4864-863c-3567e8eb775a",
   "metadata": {},
   "outputs": [
    {
     "ename": "TypeError",
     "evalue": "setdefault expected at least 1 argument, got 0",
     "output_type": "error",
     "traceback": [
      "\u001b[1;31m---------------------------------------------------------------------------\u001b[0m",
      "\u001b[1;31mTypeError\u001b[0m                                 Traceback (most recent call last)",
      "Cell \u001b[1;32mIn[102], line 2\u001b[0m\n\u001b[0;32m      1\u001b[0m d3\u001b[38;5;241m=\u001b[39m{\u001b[38;5;241m1\u001b[39m:\u001b[38;5;124m\"\u001b[39m\u001b[38;5;124mritesh\u001b[39m\u001b[38;5;124m\"\u001b[39m,\u001b[38;5;241m2\u001b[39m:\u001b[38;5;124m'\u001b[39m\u001b[38;5;124mhell\u001b[39m\u001b[38;5;124m'\u001b[39m}\n\u001b[1;32m----> 2\u001b[0m d1\u001b[38;5;241m.\u001b[39msetdefault()\n\u001b[0;32m      3\u001b[0m \u001b[38;5;28mprint\u001b[39m(d1)\n",
      "\u001b[1;31mTypeError\u001b[0m: setdefault expected at least 1 argument, got 0"
     ]
    }
   ],
   "source": [
    "# one argument must pass 2nd is  optional for value\n",
    "d3={1:\"ritesh\",2:'hell'}\n",
    "d1.setdefault() # one argument must pass 2nd is  optional for value\n",
    "print(d1)"
   ]
  },
  {
   "cell_type": "code",
   "execution_count": 110,
   "id": "d9643f31-8c2d-4afb-bd62-40e17c731116",
   "metadata": {},
   "outputs": [
    {
     "name": "stdout",
     "output_type": "stream",
     "text": [
      "{1: 'ritesh', 2: 'hell', '10': None}\n"
     ]
    }
   ],
   "source": [
    "d3={1:\"ritesh\",2:'hell'}\n",
    "d3.setdefault(\"10\") # one argument must pass 2nd is  optional for value if no value pass defauot will none\n",
    "print(d3)"
   ]
  },
  {
   "cell_type": "code",
   "execution_count": 109,
   "id": "73c0c69e-caa0-4e37-9b09-4cae18bc77c3",
   "metadata": {},
   "outputs": [
    {
     "name": "stdout",
     "output_type": "stream",
     "text": [
      "{1: 'ritesh', 2: 'hell'}\n"
     ]
    }
   ],
   "source": [
    "# want to change 10 wiht set default not passisble as key is already present index will chnage\n",
    "d3={1:\"ritesh\",2:'hell'}\n",
    "d1.setdefault(\"10\",\"raaju\") \n",
    "print(d3)"
   ]
  },
  {
   "cell_type": "code",
   "execution_count": 111,
   "id": "958bfd43-d387-4cc7-ab9b-57215f315fa2",
   "metadata": {},
   "outputs": [
    {
     "ename": "KeyError",
     "evalue": "11",
     "output_type": "error",
     "traceback": [
      "\u001b[1;31m---------------------------------------------------------------------------\u001b[0m",
      "\u001b[1;31mKeyError\u001b[0m                                  Traceback (most recent call last)",
      "Cell \u001b[1;32mIn[111], line 2\u001b[0m\n\u001b[0;32m      1\u001b[0m d3[\u001b[38;5;241m10\u001b[39m]\u001b[38;5;241m=\u001b[39m\u001b[38;5;124m\"\u001b[39m\u001b[38;5;124mraju\u001b[39m\u001b[38;5;124m\"\u001b[39m \u001b[38;5;66;03m# now change\u001b[39;00m\n\u001b[1;32m----> 2\u001b[0m d[\u001b[38;5;241m11\u001b[39m]\n",
      "\u001b[1;31mKeyError\u001b[0m: 11"
     ]
    }
   ],
   "source": [
    "d3[10]=\"raju\" # now change\n",
    "d[11] # now if no value pass it will though key error in index but in setdefault no error it will set as none"
   ]
  },
  {
   "cell_type": "code",
   "execution_count": 108,
   "id": "3f28398d-39dd-4741-97e1-de4ffd344d74",
   "metadata": {},
   "outputs": [
    {
     "data": {
      "text/plain": [
       "{1: 'ritesh', 2: 'hell', 10: 'raju'}"
      ]
     },
     "execution_count": 108,
     "metadata": {},
     "output_type": "execute_result"
    }
   ],
   "source": [
    "d3"
   ]
  },
  {
   "cell_type": "markdown",
   "id": "87292802-91c0-4639-bfbe-3327f4c02db7",
   "metadata": {},
   "source": [
    "$ update $\n",
    "- Update method will update a dictionary with elements from another dictionary.\n",
    "It modifies the dictionary.\n",
    "- it take as iterable in key value pair\n",
    "- it used to update the key value if the same key is alreay present then also it will update\n",
    "- we can pass dictionary or list of tuple "
   ]
  },
  {
   "cell_type": "code",
   "execution_count": 112,
   "id": "2cbda06c-2b74-415f-981f-1decee55b6d7",
   "metadata": {},
   "outputs": [
    {
     "name": "stdout",
     "output_type": "stream",
     "text": [
      "{1: 'ritesh', 2: 'raju', 3: 'ankit', 4: 'askok'}\n"
     ]
    }
   ],
   "source": [
    "d1={1:\"ritesh\",2:\"raju\"}\n",
    "d2={3:\"ankit\",4:\"askok\"}\n",
    "d1.update(d2)\n",
    "print(d1)"
   ]
  },
  {
   "cell_type": "code",
   "execution_count": 115,
   "id": "98408104-4cfd-4311-83ca-c3f7a590fc15",
   "metadata": {},
   "outputs": [
    {
     "name": "stdout",
     "output_type": "stream",
     "text": [
      "{1: 'ritesh', 2: 'raju', 3: 'ankit', 4: 'askok'}\n"
     ]
    }
   ],
   "source": [
    "# if containt the same key then it will update with the  latest value\n",
    "d1={1:\"ritesh\",2:\"raju\",3:\" bholu\"} # 3 as bholue but duing updateit will update  as ankit\n",
    "d2={3:\"ankit\",4:\"askok\"}\n",
    "d1.update(d2)\n",
    "print(d1)"
   ]
  },
  {
   "cell_type": "code",
   "execution_count": 124,
   "id": "441e8f0d-8a64-4f90-b3a0-6afdae3c3e54",
   "metadata": {},
   "outputs": [
    {
     "data": {
      "text/plain": [
       "{1: 'ritesh', 2: 'raju', 3: ' bholu', 4: 5, 5: 9}"
      ]
     },
     "execution_count": 124,
     "metadata": {},
     "output_type": "execute_result"
    }
   ],
   "source": [
    "d_5={1:\"ritesh\",2:\"raju\",3:\" bholu\"}\n",
    "d_5.update([(4,5),(5,9)])\n",
    "d_5"
   ]
  },
  {
   "cell_type": "code",
   "execution_count": null,
   "id": "601951a1-2cbb-4608-9a36-afad48855adf",
   "metadata": {},
   "outputs": [],
   "source": []
  },
  {
   "cell_type": "code",
   "execution_count": null,
   "id": "ce565e26-1c72-46a5-9e0c-751b2e74593b",
   "metadata": {},
   "outputs": [],
   "source": [
    "# reversed a number using reversed keyword"
   ]
  },
  {
   "cell_type": "code",
   "execution_count": 141,
   "id": "b84ab47a-d073-4ced-a250-040f1819d47f",
   "metadata": {},
   "outputs": [
    {
     "name": "stdin",
     "output_type": "stream",
     "text": [
      "enter number: 2335343\n"
     ]
    },
    {
     "name": "stdout",
     "output_type": "stream",
     "text": [
      "reverede number is 3435332\n",
      "<class 'int'>\n"
     ]
    }
   ],
   "source": [
    "# as revesed take itearavle and return itearable\n",
    "num=input(\"enter number:\")\n",
    "num=reversed(num)\n",
    "s='' # empty str to store reverse number\n",
    "for i in num:\n",
    "    s+=i\n",
    "s=int(s)  # convert str  into int\n",
    "print(f\"reverede number is {s}\")\n",
    "print(type(s))"
   ]
  },
  {
   "cell_type": "code",
   "execution_count": 142,
   "id": "47aace2c-57b1-43b7-a42d-a653984e688a",
   "metadata": {},
   "outputs": [
    {
     "name": "stdout",
     "output_type": "stream",
     "text": [
      "54321\n"
     ]
    }
   ],
   "source": [
    "# without reversed funciton\n",
    "# we can use directly slicitn \n",
    "num=\"12345\"\n",
    "num=int(num[::-1])\n",
    "print(num)\n"
   ]
  },
  {
   "cell_type": "code",
   "execution_count": null,
   "id": "dae4dd6f-9c62-42b3-a63d-8496e91e99d2",
   "metadata": {},
   "outputs": [],
   "source": [
    "# join is used to take teh element ffrom iterabela and and then join on the  basis of sepeartor\n",
    "syntax sep.join(\"itearable\")\n",
    "note elements of iterable must be str \n",
    "result  of joint is always str"
   ]
  },
  {
   "cell_type": "code",
   "execution_count": null,
   "id": "9f3123e4-a7c9-439f-9a55-bf5c5b7e1d2f",
   "metadata": {},
   "outputs": [],
   "source": [
    "# question input a string and convernt each word capatilize\n",
    "# as capatilize do the make captital of first word in the string only\n",
    "# we need to access each element and perform captilize\n",
    "# each elemetn access using convert into list using split\n",
    "# we need empty list to store the capital list element \n",
    "str1=\"ritesh kumar maurya\"\n",
    "l1=[]\n",
    "for word in str1.split():\n",
    "    l1.append(word.capitalize())\n",
    "print(l1)\n",
    "# now convert into str\n",
    "#s1=str(l1) # if will do this entire list convert as strign but a single string which contain each eleemtn like \"Ritesh Kumar Maurys\"\n",
    "# but it will give string of list \n",
    "# so we use join here\n",
    "s=\" \".join(l1) # each list element will take and join on the basis of space \n",
    "print(s)\n",
    "\n"
   ]
  }
 ],
 "metadata": {
  "kernelspec": {
   "display_name": "Python [conda env:base] *",
   "language": "python",
   "name": "conda-base-py"
  },
  "language_info": {
   "codemirror_mode": {
    "name": "ipython",
    "version": 3
   },
   "file_extension": ".py",
   "mimetype": "text/x-python",
   "name": "python",
   "nbconvert_exporter": "python",
   "pygments_lexer": "ipython3",
   "version": "3.13.5"
  }
 },
 "nbformat": 4,
 "nbformat_minor": 5
}
