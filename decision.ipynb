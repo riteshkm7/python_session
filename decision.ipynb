{
 "cells": [
  {
   "cell_type": "code",
   "execution_count": 3,
   "id": "10b9cd5c-1e3a-41a7-b215-592707af5599",
   "metadata": {},
   "outputs": [
    {
     "name": "stdin",
     "output_type": "stream",
     "text": [
      "enter a number 2\n",
      "enter second number 2\n"
     ]
    },
    {
     "name": "stdout",
     "output_type": "stream",
     "text": [
      "match found we are going to do addition\n",
      "the addiditon of 2 and 2 is 4\n",
      "the substraction is of 2, 2 is 0\n"
     ]
    }
   ],
   "source": [
    "num1=eval(input(\"enter a number\"))\n",
    "num2=eval(input(\"enter second number\"))\n",
    "if num1==num2:\n",
    "    print(\"match found we are going to do addition\")\n",
    "    print(\"the addiditon of {} and {} is {}\".format(num1,num2,num1+num2))\n",
    "else:\n",
    "    print(\"match not found\")\n",
    "    print(\"we are doing multiplication of {} , {} is {}\".format(num1,num2,num1*num2))\n",
    "print(\"the substraction is of {}, {} is {}\".format(num1,num2,num1-num2))    \n",
    "    "
   ]
  },
  {
   "cell_type": "code",
   "execution_count": 7,
   "id": "65cc5148-a910-4dc3-a6e6-232d3ba231dc",
   "metadata": {},
   "outputs": [
    {
     "name": "stdin",
     "output_type": "stream",
     "text": [
      "enter a number fd\n"
     ]
    },
    {
     "name": "stdout",
     "output_type": "stream",
     "text": [
      "Please enter number\n"
     ]
    }
   ],
   "source": [
    "# odd  even check\n",
    "try:\n",
    "    x=eval(input(\"enter a number\"))\n",
    "    if x%2==0:\n",
    "        print(\"the number {} is even\".format(x))\n",
    "    else:\n",
    "        print(\"the number {} is not even\".format(x))\n",
    "except Exception as e:\n",
    "    print(\"Please enter number\")\n",
    "        \n"
   ]
  },
  {
   "cell_type": "code",
   "execution_count": 21,
   "id": "6205c396-7435-4d0a-b69e-7b4dc85f582e",
   "metadata": {},
   "outputs": [
    {
     "name": "stdin",
     "output_type": "stream",
     "text": [
      "enter a number 8\n"
     ]
    },
    {
     "name": "stdout",
     "output_type": "stream",
     "text": [
      "the number 8 is even\n"
     ]
    }
   ],
   "source": [
    "# odd  even check for postive number only using nested if else\n",
    "try:\n",
    "    x=eval(input(\"enter a number\"))\n",
    "    if x>=1:\n",
    "        if x%2==0:\n",
    "            print(\"the number {} is even\".format(x))\n",
    "        else:\n",
    "            print(\"the number {} is not even\".format(x))\n",
    "    else:\n",
    "        print(\"please enter a number must be greater than 0\")\n",
    "except Exception as e:\n",
    "    print(\"Please enter number\")"
   ]
  },
  {
   "cell_type": "code",
   "execution_count": 25,
   "id": "8e33883b-a5dc-4cc5-bd35-85314569f050",
   "metadata": {},
   "outputs": [
    {
     "name": "stdout",
     "output_type": "stream",
     "text": [
      "the number 78 is even\n"
     ]
    }
   ],
   "source": [
    "#WAP get a random number between 1 to 50\n",
    "# and check it is an even number or odd number\n",
    "import random\n",
    "try:\n",
    "    y=random.randint(1,100)\n",
    "    if y%2==0:\n",
    "         print(\"the number {} is even\".format(y))\n",
    "    else:\n",
    "        print(\"the number {} is not even\".format(y))\n",
    "        \n",
    "except Exception as e:\n",
    "    print(e)\n",
    "    \n",
    "        "
   ]
  },
  {
   "cell_type": "code",
   "execution_count": 31,
   "id": "a241fb35-4f68-4d1d-ac3d-4b0f70c789e7",
   "metadata": {},
   "outputs": [
    {
     "name": "stdout",
     "output_type": "stream",
     "text": [
      "The number is 3 thus we lost\n"
     ]
    }
   ],
   "source": [
    "# WAP get a random number between 1 to 200\n",
    "# print you won, if number between 10 to 99: num>=10 and num<99\n",
    "# otherwise print you lost\n",
    "try:\n",
    "    import random\n",
    "    z=random.randint(1,100)\n",
    "    if z>=10 and z<99 :\n",
    "        print(\"The number is {} thus we won\".format(z))\n",
    "    else:\n",
    "        print(\"The number is {} thus we lost\".format(z))\n",
    "except Exception as e:\n",
    "    print(e)"
   ]
  },
  {
   "cell_type": "code",
   "execution_count": 37,
   "id": "0051e44e-cbf1-4986-802d-a631f99655cb",
   "metadata": {},
   "outputs": [
    {
     "name": "stdin",
     "output_type": "stream",
     "text": [
      "enter a number 0\n"
     ]
    },
    {
     "name": "stdout",
     "output_type": "stream",
     "text": [
      "the number is 0 postive\n"
     ]
    }
   ],
   "source": [
    "# WAP ask the user enter a number\n",
    "# if the number >=0 print it is a postive number\n",
    "# otherwise print it is a negtaive\n",
    "try:\n",
    "    num=eval(input(\"enter a number\"))\n",
    "    if num>=0:\n",
    "        print(\"the number is {} postive\".format(num))\n",
    "    else:\n",
    "        print(\"the number {} is negative\".format(num))\n",
    "except Exception as e:\n",
    "    print(e)\n",
    "    \n"
   ]
  },
  {
   "cell_type": "code",
   "execution_count": 38,
   "id": "2956c65e-7e76-46c3-8351-6cbe2f2df881",
   "metadata": {},
   "outputs": [
    {
     "name": "stdin",
     "output_type": "stream",
     "text": [
      "enter a number 0\n"
     ]
    },
    {
     "name": "stdout",
     "output_type": "stream",
     "text": [
      "the number 0 is negative\n"
     ]
    }
   ],
   "source": [
    "# WAP ask the user enter a number whether the number is postive or non postive\n",
    "# otherwise print it is a negtaive\n",
    "try:\n",
    "    num=eval(input(\"enter a number\"))\n",
    "    if num>0:\n",
    "        print(\"the number is {} postive\".format(num))\n",
    "    else:\n",
    "        print(\"the number {} is non postive\".format(num))\n",
    "except Exception as e:\n",
    "    print(e)\n",
    "    "
   ]
  },
  {
   "cell_type": "code",
   "execution_count": null,
   "id": "35fac6d1-7299-43a7-9943-42ed6713326f",
   "metadata": {},
   "outputs": [],
   "source": [
    "#WAP ask the user enter percentage of marks\n",
    "# if per>90 pring A\n",
    "# if per between 70 to 90 print B\n",
    "# if per between 50 to 70 print C\n",
    "# otherwise print D\n"
   ]
  },
  {
   "cell_type": "code",
   "execution_count": 50,
   "id": "16549af5-2d8d-4d02-9df3-f6978990bfda",
   "metadata": {},
   "outputs": [
    {
     "name": "stdin",
     "output_type": "stream",
     "text": [
      "enter the percentage 40\n"
     ]
    },
    {
     "name": "stdout",
     "output_type": "stream",
     "text": [
      "your grade is D as you obtain 40%\n"
     ]
    }
   ],
   "source": [
    "try:\n",
    "    num=eval(input(\"enter the percentage\"))\n",
    "    if num>90:\n",
    "        print(\"your grade is A as you obtain {}%\".format(num))\n",
    "    elif num>70 and num<=90:\n",
    "        print(\"your grade is B as you obtain {}%\".format(num))\n",
    "    elif num>50 and num<=70:\n",
    "        print(\"your grade is c as you obtain {}%\".format(num))\n",
    "    else:\n",
    "        print(\"your grade is D as you obtain {}%\".format(num))\n",
    "except Exception as e:\n",
    "    print(e)\n",
    "        \n",
    "        \n",
    "    \n",
    "    "
   ]
  },
  {
   "cell_type": "code",
   "execution_count": 60,
   "id": "bd77dbba-c5e2-4ab0-bb86-18d8f56e64fc",
   "metadata": {},
   "outputs": [
    {
     "name": "stdin",
     "output_type": "stream",
     "text": [
      "which operation you want to perform enter \n",
      " + for addtion \n",
      " - for substraction \n",
      " / for divison\n",
      " * for multiplication \n",
      " f\n",
      "Enter first number 43\n",
      "Enter 2nd number 43\n"
     ]
    },
    {
     "name": "stdout",
     "output_type": "stream",
     "text": [
      "please choose the correct operation which  you want to perform\n"
     ]
    }
   ],
   "source": [
    "# calculater\n",
    "try:\n",
    "    op=input(\"which operation you want to perform enter \\n + for addtion \\n - for substraction \\n / for divison\\n * for multiplication \\n\")\n",
    "    num1=eval(input(\"Enter first number\"))\n",
    "    num2=eval(input(\"Enter 2nd number\"))\n",
    "    if op==\"+\":\n",
    "        print(\"The addition of number {} and {} is {}\".format(num1,num2,num1+num2))\n",
    "    elif op==\"-\":\n",
    "        print(\"The Subtraction  of number {} and {} is {}\".format(num1,num2,num1-num2))\n",
    "    elif op==\"*\":\n",
    "        print(\"The Multiplication  of number {} and {} is {}\".format(num1,num2,num1*num2))\n",
    "    elif op==\"/\":\n",
    "        print(\"The division  of number {} and {} is {}\".format(num1,num2,num1/num2)) \n",
    "    else:\n",
    "        print(\"please choose the correct operation which  you want to perform\")\n",
    "except Exception as e:\n",
    "    print(e)\n",
    "    \n",
    "    \n",
    "   \n",
    "    \n",
    "\n",
    "    \n",
    "\n"
   ]
  },
  {
   "cell_type": "code",
   "execution_count": 63,
   "id": "1cd09f22-fa02-4c35-b00b-5fc521152dff",
   "metadata": {},
   "outputs": [
    {
     "name": "stdin",
     "output_type": "stream",
     "text": [
      "which operation you want to perform enter \n",
      " + for addtion \n",
      " - for substraction \n",
      " / for divison\n",
      " * for multiplication \n",
      " /\n",
      "Enter first number 4\n",
      "Enter 2nd number 2\n"
     ]
    },
    {
     "name": "stdout",
     "output_type": "stream",
     "text": [
      "The division  of number 4 and 2 is 2.0\n"
     ]
    }
   ],
   "source": [
    "# calculater\n",
    "try:\n",
    "    op=input(\"which operation you want to perform enter \\n + for addtion \\n - for substraction \\n / for divison\\n * for multiplication \\n\")\n",
    "  \n",
    "    if op==\"+\":\n",
    "        num1=eval(input(\"Enter first number\"))\n",
    "        num2=eval(input(\"Enter 2nd number\"))\n",
    "        print(\"The addition of number {} and {} is {}\".format(num1,num2,num1+num2))\n",
    "    elif op==\"-\":\n",
    "        num1=eval(input(\"Enter first number\"))\n",
    "        num2=eval(input(\"Enter 2nd number\"))\n",
    "        print(\"The Subtraction  of number {} and {} is {}\".format(num1,num2,num1-num2))\n",
    "    elif op==\"*\":\n",
    "        num1=eval(input(\"Enter first number\"))\n",
    "        num2=eval(input(\"Enter 2nd number\"))\n",
    "        print(\"The Multiplication  of number {} and {} is {}\".format(num1,num2,num1*num2))\n",
    "    elif op==\"/\":\n",
    "        num1=eval(input(\"Enter first number\"))\n",
    "        num2=eval(input(\"Enter 2nd number\"))\n",
    "        \n",
    "        print(\"The division  of number {} and {} is {}\".format(num1,num2,num1/num2)) \n",
    "    else:\n",
    "        print(\"please choose the correct operation which  you want to perform from above\")\n",
    "except Exception as e:\n",
    "    print(e)"
   ]
  },
  {
   "cell_type": "code",
   "execution_count": 68,
   "id": "5a8dbc0b-31c6-4737-99ea-e7fa7e5d0237",
   "metadata": {},
   "outputs": [
    {
     "name": "stdin",
     "output_type": "stream",
     "text": [
      "enter  number 1,2,3\n"
     ]
    },
    {
     "name": "stdout",
     "output_type": "stream",
     "text": [
      "1\n",
      "2\n",
      "3\n"
     ]
    }
   ],
   "source": [
    "# wap to find largest number among 3 number # we can take multiple\n",
    "# inpute number from input function\n",
    "a,b,c=eval(input(\"enter  number\"))\n",
    "print(a)\n",
    "print(b)\n",
    "print(c)"
   ]
  },
  {
   "cell_type": "code",
   "execution_count": 85,
   "id": "c44f0a83-6c2b-47c5-9957-0dd437a13e81",
   "metadata": {},
   "outputs": [
    {
     "name": "stdin",
     "output_type": "stream",
     "text": [
      "enter first number 20\n",
      "enter second number 10\n",
      "enter third number 20\n"
     ]
    }
   ],
   "source": [
    "#wap to find largest number among 3 number\n",
    "a=eval(input(\"enter first number\"))\n",
    "b=eval(input(\"enter second number\"))\n",
    "c=eval(input(\"enter third number\"))\n",
    "if a >= b:\n",
    "    if a >= c:\n",
    "        print(\"the number {} is largest one\".format(a))\n",
    "    else:\n",
    "        print(\"the number {} is largest one\".format(c))\n",
    "elif b >= c:\n",
    "    print(\"the number {} is largest one\".format(b))\n",
    "else:\n",
    "    print(\"the number {} is largest one\".format(c))\n",
    "\n"
   ]
  },
  {
   "cell_type": "code",
   "execution_count": 87,
   "id": "c8215592-28fb-40ab-b5ff-70abcb304a17",
   "metadata": {},
   "outputs": [
    {
     "name": "stdin",
     "output_type": "stream",
     "text": [
      "enter first number 1\n",
      "enter second number 1\n",
      "enter third number 2\n"
     ]
    },
    {
     "name": "stdout",
     "output_type": "stream",
     "text": [
      "the number 2 is largest one\n"
     ]
    }
   ],
   "source": [
    "# using and operator\n",
    "#wap to find largest number among 3 number\n",
    "a=eval(input(\"enter first number\"))\n",
    "b=eval(input(\"enter second number\"))\n",
    "c=eval(input(\"enter third number\"))\n",
    "if a>=b and a>=c:\n",
    "    print(\"the number {} is largest one\".format(a))\n",
    "elif b>=c and b>=a:\n",
    "    print(\"the number {} is largest one\".format(b))\n",
    "elif c>=a and c>=b:\n",
    "    print(\"the number {} is largest one\".format(c))\n",
    "\n",
    "    \n",
    "    \n",
    "    \n"
   ]
  },
  {
   "cell_type": "code",
   "execution_count": null,
   "id": "313ba36c-edc0-4f42-8136-c2e6cc8d8b90",
   "metadata": {},
   "outputs": [],
   "source": [
    "# sigle line if else it is act like a expression"
   ]
  },
  {
   "cell_type": "code",
   "execution_count": 4,
   "id": "fa7b8c6f-781d-4918-be35-33835f246a48",
   "metadata": {},
   "outputs": [
    {
     "name": "stdin",
     "output_type": "stream",
     "text": [
      "enter a number 3\n"
     ]
    },
    {
     "name": "stdout",
     "output_type": "stream",
     "text": [
      "postive\n"
     ]
    }
   ],
   "source": [
    "x=eval(input(\"enter a number\"))\n",
    "print(\"postive\") if x>0 else print(\"non postive\")"
   ]
  },
  {
   "cell_type": "code",
   "execution_count": 5,
   "id": "38cc700a-b899-458f-acf2-b2a0c460b432",
   "metadata": {},
   "outputs": [
    {
     "name": "stdin",
     "output_type": "stream",
     "text": [
      "enter distance in klm 22\n"
     ]
    },
    {
     "name": "stdout",
     "output_type": "stream",
     "text": [
      "charge is 100rs\n"
     ]
    }
   ],
   "source": [
    "# wap to enter the distance from user in km\n",
    "x=eval(input(\"enter distance in klm\"))\n",
    "if x>=10:\n",
    "    print(\"charge is 100rs\")\n",
    "elif x>=7 and x<10:\n",
    "    print(\"charge is 70rs\")\n",
    "elif x>=4 and x<7:\n",
    "    print(\"charge is 40\")\n",
    "else:\n",
    "    print(\"charge is 30\")\n",
    "\n",
    "    \n",
    "    "
   ]
  },
  {
   "cell_type": "code",
   "execution_count": 10,
   "id": "ad4dac64-5fcc-4692-80e6-ca27b1a66e31",
   "metadata": {},
   "outputs": [
    {
     "name": "stdin",
     "output_type": "stream",
     "text": [
      "enter distance in klm 5\n"
     ]
    },
    {
     "name": "stdout",
     "output_type": "stream",
     "text": [
      "40\n"
     ]
    }
   ],
   "source": [
    "# another way\n",
    "# wap to enter the distance from user in km\n",
    "x=eval(input(\"enter distance in klm\"))\n",
    "if x>=10:\n",
    "    print(\"100\")  # any condition true it will stop there\n",
    "elif x>=7:\n",
    "    print(\"70\")\n",
    "    \n",
    "elif x>=4:\n",
    "    print(\"40\")\n",
    "else:\n",
    "    print(\"30\")\n"
   ]
  },
  {
   "cell_type": "code",
   "execution_count": 14,
   "id": "264a8f63-0b79-40c5-b7d5-8ba7d6db4f1c",
   "metadata": {},
   "outputs": [
    {
     "name": "stdin",
     "output_type": "stream",
     "text": [
      "enter the salary 1000000\n",
      "enter the tax % 10\n"
     ]
    },
    {
     "name": "stdout",
     "output_type": "stream",
     "text": [
      "the tax amount of rs 1000000 is 100000.0\n"
     ]
    }
   ],
   "source": [
    "# wap to calculate the tax\n",
    "salary=eval(input(\"enter the salary\"))\n",
    "if salary>=1000000:\n",
    "    tax=eval(input(\"enter the tax %\"))\n",
    "    tax_amount=(salary*tax)/100\n",
    "    print(\"the tax amount of rs {} is {}\".format(salary, tax_amount))\n",
    "elif salary>=700000:\n",
    "    tax=eval(input(\"enter the tax %\"))\n",
    "    tax_amount=(salary*tax)/100\n",
    "    print(\"the tax amount of rs {} is {}\".format(salary, tax_amount))\n",
    "elif salary>=400000:\n",
    "    tax=eval(input(\"enter the tax %\"))\n",
    "    tax_amount=(salary*tax)/100\n",
    "    print(\"the tax amount of rs {} is {}\".format(salary, tax_amount))\n",
    "else:\n",
    "    print(\"no tax\")\n",
    "    \n",
    "    \n"
   ]
  },
  {
   "cell_type": "code",
   "execution_count": 18,
   "id": "23aebe29-3aae-4608-a41c-a55a01d2b916",
   "metadata": {},
   "outputs": [
    {
     "name": "stdin",
     "output_type": "stream",
     "text": [
      "enter a number -1\n"
     ]
    },
    {
     "name": "stdout",
     "output_type": "stream",
     "text": [
      "the number -1 is negative\n"
     ]
    }
   ],
   "source": [
    "# wap to check pos or negative number\n",
    "x=eval(input(\"enter a number\"))\n",
    "if x>=0:\n",
    "    if x==0:\n",
    "        print(\"Number is zero\")\n",
    "    else:\n",
    "        print(\"the number {} is postive\".format(x))\n",
    "\n",
    "else:\n",
    "    print(\"the number {} is negative\".format(x))\n",
    "    \n"
   ]
  },
  {
   "cell_type": "code",
   "execution_count": 19,
   "id": "9ee17420-02ce-420f-ba5d-a62daa38f49d",
   "metadata": {},
   "outputs": [
    {
     "ename": "IndentationError",
     "evalue": "expected an indented block after 'try' statement on line 1 (131433164.py, line 2)",
     "output_type": "error",
     "traceback": [
      "\u001b[1;36m  Cell \u001b[1;32mIn[19], line 2\u001b[1;36m\u001b[0m\n\u001b[1;33m    gender=input(\"Enter gender either male or female : \")\u001b[0m\n\u001b[1;37m    ^\u001b[0m\n\u001b[1;31mIndentationError\u001b[0m\u001b[1;31m:\u001b[0m expected an indented block after 'try' statement on line 1\n"
     ]
    }
   ],
   "source": []
  },
  {
   "cell_type": "code",
   "execution_count": 23,
   "id": "98421ea6-ea2f-4945-9d04-2cea329b5e40",
   "metadata": {},
   "outputs": [
    {
     "name": "stdin",
     "output_type": "stream",
     "text": [
      "Enter gender either male or female :  male\n",
      "Enter your age:  119\n"
     ]
    },
    {
     "name": "stdout",
     "output_type": "stream",
     "text": [
      "CS\n",
      "gunnis book\n"
     ]
    }
   ],
   "source": [
    "gender=input(\"Enter gender either male or female : \")\n",
    "if gender==\"male\":\n",
    "    age=eval(input(\"Enter your age: \"))\n",
    "    if age>60:\n",
    "        print(\"CS\")\n",
    "        if age>100:\n",
    "            print('gunnis book')"
   ]
  },
  {
   "cell_type": "code",
   "execution_count": null,
   "id": "e2bb3c5f-264c-48a1-aaa7-0e1344cca8b7",
   "metadata": {},
   "outputs": [],
   "source": []
  },
  {
   "cell_type": "code",
   "execution_count": null,
   "id": "560289af-a108-4d38-81c3-ce092cef29a8",
   "metadata": {},
   "outputs": [],
   "source": []
  },
  {
   "cell_type": "code",
   "execution_count": null,
   "id": "f348c596-869a-4974-9e72-160ea0b9c3fb",
   "metadata": {},
   "outputs": [],
   "source": []
  },
  {
   "cell_type": "code",
   "execution_count": null,
   "id": "3387d0c4-0cec-4fb2-aaa5-b4bb8bdcfad7",
   "metadata": {},
   "outputs": [],
   "source": []
  },
  {
   "cell_type": "code",
   "execution_count": null,
   "id": "176206a2-3db9-4b16-aa1b-cce1dadd083e",
   "metadata": {},
   "outputs": [],
   "source": []
  }
 ],
 "metadata": {
  "kernelspec": {
   "display_name": "Python [conda env:base] *",
   "language": "python",
   "name": "conda-base-py"
  },
  "language_info": {
   "codemirror_mode": {
    "name": "ipython",
    "version": 3
   },
   "file_extension": ".py",
   "mimetype": "text/x-python",
   "name": "python",
   "nbconvert_exporter": "python",
   "pygments_lexer": "ipython3",
   "version": "3.13.5"
  }
 },
 "nbformat": 4,
 "nbformat_minor": 5
}
