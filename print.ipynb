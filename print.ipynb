{
 "cells": [
  {
   "cell_type": "code",
   "execution_count": 1,
   "id": "a96f0d22-9549-47e1-af45-5fe7e570290e",
   "metadata": {},
   "outputs": [
    {
     "name": "stdout",
     "output_type": "stream",
     "text": [
      "hello I am ritesh kumar\n"
     ]
    }
   ],
   "source": [
    "print(\"hello I am ritesh kumar\")"
   ]
  },
  {
   "cell_type": "code",
   "execution_count": 35,
   "id": "a06310b3-a810-4371-9aca-2745f828e32f",
   "metadata": {},
   "outputs": [
    {
     "name": "stdout",
     "output_type": "stream",
     "text": [
      "2-3-4\n",
      "hello,ritesh\n",
      "hello\n",
      " ritesh\n",
      "hello\tritesh\n",
      "heritesh\n",
      "ritesh2345\n",
      "hello\n",
      "\\\n",
      "'\n"
     ]
    }
   ],
   "source": [
    "print(2,3,4 ,sep=\"-\") # sepretor in output\n",
    "print(\"hello\", end=\",\") # end of output modify default is new line\n",
    "print(\"ritesh\")\n",
    "print(\"hello\\n ritesh\") # new line\n",
    "print(\"hello\\tritesh\") # tab space\n",
    "print(\"hello\\b\\b\\britesh\")# back space\n",
    "print(\"hello12345\\rritesh\")# carriage space control will bring intial and start print from start\n",
    "print(\"hello\\r\")# only  print if another string wright after \\r other  simple first string will print\n",
    "print(\"\\\\\")\n",
    "print(\"\\'\")"
   ]
  },
  {
   "cell_type": "code",
   "execution_count": null,
   "id": "b0da3f08-866e-4182-a382-d1d74be47417",
   "metadata": {},
   "outputs": [],
   "source": []
  },
  {
   "cell_type": "code",
   "execution_count": null,
   "id": "7bd832e4-e59f-4a13-93ce-413ba60d2417",
   "metadata": {},
   "outputs": [],
   "source": []
  }
 ],
 "metadata": {
  "kernelspec": {
   "display_name": "Python [conda env:base] *",
   "language": "python",
   "name": "conda-base-py"
  },
  "language_info": {
   "codemirror_mode": {
    "name": "ipython",
    "version": 3
   },
   "file_extension": ".py",
   "mimetype": "text/x-python",
   "name": "python",
   "nbconvert_exporter": "python",
   "pygments_lexer": "ipython3",
   "version": "3.13.5"
  }
 },
 "nbformat": 4,
 "nbformat_minor": 5
}
